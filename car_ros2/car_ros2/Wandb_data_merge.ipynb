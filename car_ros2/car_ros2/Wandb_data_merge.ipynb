{
  "cells": [
    {
      "cell_type": "code",
      "execution_count": null,
      "metadata": {
        "colab": {
          "base_uri": "https://localhost:8080/",
          "height": 1000
        },
        "id": "qmc55-slxrYh",
        "outputId": "92e46cd7-bc27-42f1-80aa-d8d2cf59310b"
      },
      "outputs": [
        {
          "data": {
            "text/html": [
              "Tracking run with wandb version 0.21.1"
            ],
            "text/plain": [
              "<IPython.core.display.HTML object>"
            ]
          },
          "metadata": {},
          "output_type": "display_data"
        },
        {
          "data": {
            "text/html": [
              "Run data is saved locally in <code>/content/wandb/run-20250831_110220-2tjofxmx</code>"
            ],
            "text/plain": [
              "<IPython.core.display.HTML object>"
            ]
          },
          "metadata": {},
          "output_type": "display_data"
        },
        {
          "data": {
            "text/html": [
              "Syncing run <strong><a href='https://wandb.ai/mahin-sank-iit-kgp/alpha-racer-data/runs/2tjofxmx' target=\"_blank\">crimson-dragon-287</a></strong> to <a href='https://wandb.ai/mahin-sank-iit-kgp/alpha-racer-data' target=\"_blank\">Weights & Biases</a> (<a href='https://wandb.me/developer-guide' target=\"_blank\">docs</a>)<br>"
            ],
            "text/plain": [
              "<IPython.core.display.HTML object>"
            ]
          },
          "metadata": {},
          "output_type": "display_data"
        },
        {
          "data": {
            "text/html": [
              " View project at <a href='https://wandb.ai/mahin-sank-iit-kgp/alpha-racer-data' target=\"_blank\">https://wandb.ai/mahin-sank-iit-kgp/alpha-racer-data</a>"
            ],
            "text/plain": [
              "<IPython.core.display.HTML object>"
            ]
          },
          "metadata": {},
          "output_type": "display_data"
        },
        {
          "data": {
            "text/html": [
              " View run at <a href='https://wandb.ai/mahin-sank-iit-kgp/alpha-racer-data/runs/2tjofxmx' target=\"_blank\">https://wandb.ai/mahin-sank-iit-kgp/alpha-racer-data/runs/2tjofxmx</a>"
            ],
            "text/plain": [
              "<IPython.core.display.HTML object>"
            ]
          },
          "metadata": {},
          "output_type": "display_data"
        },
        {
          "name": "stdout",
          "output_type": "stream",
          "text": [
            "Downloading artifact version: mahin-sank-iit-kgp/alpha-racer-data/alpha_racer_multi_mpc_combined:v1\n"
          ]
        },
        {
          "name": "stderr",
          "output_type": "stream",
          "text": [
            "\u001b[34m\u001b[1mwandb\u001b[0m:   1 of 1 files downloaded.  \n"
          ]
        },
        {
          "name": "stdout",
          "output_type": "stream",
          "text": [
            "Loaded 2 episodes from v1\n",
            "Downloading artifact version: mahin-sank-iit-kgp/alpha-racer-data/alpha_racer_multi_mpc_combined:v2\n"
          ]
        },
        {
          "name": "stderr",
          "output_type": "stream",
          "text": [
            "\u001b[34m\u001b[1mwandb\u001b[0m:   1 of 1 files downloaded.  \n"
          ]
        },
        {
          "name": "stdout",
          "output_type": "stream",
          "text": [
            "Loaded 2 episodes from v2\n",
            "Downloading artifact version: mahin-sank-iit-kgp/alpha-racer-data/alpha_racer_multi_mpc_combined:v3\n"
          ]
        },
        {
          "name": "stderr",
          "output_type": "stream",
          "text": [
            "\u001b[34m\u001b[1mwandb\u001b[0m:   1 of 1 files downloaded.  \n"
          ]
        },
        {
          "name": "stdout",
          "output_type": "stream",
          "text": [
            "Loaded 2 episodes from v3\n",
            "Downloading artifact version: mahin-sank-iit-kgp/alpha-racer-data/alpha_racer_multi_mpc_combined:v4\n"
          ]
        },
        {
          "name": "stderr",
          "output_type": "stream",
          "text": [
            "\u001b[34m\u001b[1mwandb\u001b[0m:   1 of 1 files downloaded.  \n"
          ]
        },
        {
          "name": "stdout",
          "output_type": "stream",
          "text": [
            "Loaded 2 episodes from v4\n",
            "Downloading artifact version: mahin-sank-iit-kgp/alpha-racer-data/alpha_racer_multi_mpc_combined:v5\n"
          ]
        },
        {
          "name": "stderr",
          "output_type": "stream",
          "text": [
            "\u001b[34m\u001b[1mwandb\u001b[0m:   1 of 1 files downloaded.  \n"
          ]
        },
        {
          "name": "stdout",
          "output_type": "stream",
          "text": [
            "Loaded 2 episodes from v5\n",
            "Downloading artifact version: mahin-sank-iit-kgp/alpha-racer-data/alpha_racer_multi_mpc_combined:v6\n"
          ]
        },
        {
          "name": "stderr",
          "output_type": "stream",
          "text": [
            "\u001b[34m\u001b[1mwandb\u001b[0m:   1 of 1 files downloaded.  \n"
          ]
        },
        {
          "name": "stdout",
          "output_type": "stream",
          "text": [
            "Loaded 2 episodes from v6\n",
            "Downloading artifact version: mahin-sank-iit-kgp/alpha-racer-data/alpha_racer_multi_mpc_combined:v7\n"
          ]
        },
        {
          "name": "stderr",
          "output_type": "stream",
          "text": [
            "\u001b[34m\u001b[1mwandb\u001b[0m:   1 of 1 files downloaded.  \n"
          ]
        },
        {
          "name": "stdout",
          "output_type": "stream",
          "text": [
            "Loaded 2 episodes from v7\n",
            "Downloading artifact version: mahin-sank-iit-kgp/alpha-racer-data/alpha_racer_multi_mpc_combined:v8\n"
          ]
        },
        {
          "name": "stderr",
          "output_type": "stream",
          "text": [
            "\u001b[34m\u001b[1mwandb\u001b[0m:   1 of 1 files downloaded.  \n"
          ]
        },
        {
          "name": "stdout",
          "output_type": "stream",
          "text": [
            "Loaded 2 episodes from v8\n",
            "Downloading artifact version: mahin-sank-iit-kgp/alpha-racer-data/alpha_racer_multi_mpc_combined:v9\n"
          ]
        },
        {
          "name": "stderr",
          "output_type": "stream",
          "text": [
            "\u001b[34m\u001b[1mwandb\u001b[0m:   1 of 1 files downloaded.  \n"
          ]
        },
        {
          "name": "stdout",
          "output_type": "stream",
          "text": [
            "Loaded 2 episodes from v9\n",
            "Downloading artifact version: mahin-sank-iit-kgp/alpha-racer-data/alpha_racer_multi_mpc_combined:v10\n"
          ]
        },
        {
          "name": "stderr",
          "output_type": "stream",
          "text": [
            "\u001b[34m\u001b[1mwandb\u001b[0m:   1 of 1 files downloaded.  \n"
          ]
        },
        {
          "name": "stdout",
          "output_type": "stream",
          "text": [
            "Loaded 2 episodes from v10\n",
            "Downloading artifact version: mahin-sank-iit-kgp/alpha-racer-data/alpha_racer_multi_mpc_combined:v11\n"
          ]
        },
        {
          "name": "stderr",
          "output_type": "stream",
          "text": [
            "\u001b[34m\u001b[1mwandb\u001b[0m:   1 of 1 files downloaded.  \n"
          ]
        },
        {
          "name": "stdout",
          "output_type": "stream",
          "text": [
            "Loaded 3 episodes from v11\n",
            "Downloading artifact version: mahin-sank-iit-kgp/alpha-racer-data/alpha_racer_multi_mpc_combined:v12\n"
          ]
        },
        {
          "name": "stderr",
          "output_type": "stream",
          "text": [
            "\u001b[34m\u001b[1mwandb\u001b[0m:   1 of 1 files downloaded.  \n"
          ]
        },
        {
          "name": "stdout",
          "output_type": "stream",
          "text": [
            "Loaded 3 episodes from v12\n",
            "Downloading artifact version: mahin-sank-iit-kgp/alpha-racer-data/alpha_racer_multi_mpc_combined:v13\n"
          ]
        },
        {
          "name": "stderr",
          "output_type": "stream",
          "text": [
            "\u001b[34m\u001b[1mwandb\u001b[0m:   1 of 1 files downloaded.  \n"
          ]
        },
        {
          "name": "stdout",
          "output_type": "stream",
          "text": [
            "Loaded 3 episodes from v13\n",
            "Downloading artifact version: mahin-sank-iit-kgp/alpha-racer-data/alpha_racer_multi_mpc_combined:v14\n"
          ]
        },
        {
          "name": "stderr",
          "output_type": "stream",
          "text": [
            "\u001b[34m\u001b[1mwandb\u001b[0m:   1 of 1 files downloaded.  \n"
          ]
        },
        {
          "name": "stdout",
          "output_type": "stream",
          "text": [
            "Loaded 3 episodes from v14\n",
            "Downloading artifact version: mahin-sank-iit-kgp/alpha-racer-data/alpha_racer_multi_mpc_combined:v15\n"
          ]
        },
        {
          "name": "stderr",
          "output_type": "stream",
          "text": [
            "\u001b[34m\u001b[1mwandb\u001b[0m:   1 of 1 files downloaded.  \n"
          ]
        },
        {
          "name": "stdout",
          "output_type": "stream",
          "text": [
            "Loaded 3 episodes from v15\n",
            "Downloading artifact version: mahin-sank-iit-kgp/alpha-racer-data/alpha_racer_multi_mpc_combined:v16\n"
          ]
        },
        {
          "name": "stderr",
          "output_type": "stream",
          "text": [
            "\u001b[34m\u001b[1mwandb\u001b[0m:   1 of 1 files downloaded.  \n"
          ]
        },
        {
          "name": "stdout",
          "output_type": "stream",
          "text": [
            "Loaded 3 episodes from v16\n",
            "Downloading artifact version: mahin-sank-iit-kgp/alpha-racer-data/alpha_racer_multi_mpc_combined:v17\n"
          ]
        },
        {
          "name": "stderr",
          "output_type": "stream",
          "text": [
            "\u001b[34m\u001b[1mwandb\u001b[0m:   1 of 1 files downloaded.  \n"
          ]
        },
        {
          "name": "stdout",
          "output_type": "stream",
          "text": [
            "Loaded 3 episodes from v17\n",
            "Downloading artifact version: mahin-sank-iit-kgp/alpha-racer-data/alpha_racer_multi_mpc_combined:v18\n"
          ]
        },
        {
          "name": "stderr",
          "output_type": "stream",
          "text": [
            "\u001b[34m\u001b[1mwandb\u001b[0m:   1 of 1 files downloaded.  \n"
          ]
        },
        {
          "name": "stdout",
          "output_type": "stream",
          "text": [
            "Loaded 3 episodes from v18\n",
            "Downloading artifact version: mahin-sank-iit-kgp/alpha-racer-data/alpha_racer_multi_mpc_combined:v19\n"
          ]
        },
        {
          "name": "stderr",
          "output_type": "stream",
          "text": [
            "\u001b[34m\u001b[1mwandb\u001b[0m:   1 of 1 files downloaded.  \n"
          ]
        },
        {
          "name": "stdout",
          "output_type": "stream",
          "text": [
            "Loaded 3 episodes from v19\n",
            "Downloading artifact version: mahin-sank-iit-kgp/alpha-racer-data/alpha_racer_multi_mpc_combined:v20\n"
          ]
        },
        {
          "name": "stderr",
          "output_type": "stream",
          "text": [
            "\u001b[34m\u001b[1mwandb\u001b[0m:   1 of 1 files downloaded.  \n"
          ]
        },
        {
          "name": "stdout",
          "output_type": "stream",
          "text": [
            "Loaded 3 episodes from v20\n",
            "Downloading artifact version: mahin-sank-iit-kgp/alpha-racer-data/alpha_racer_multi_mpc_combined:v21\n"
          ]
        },
        {
          "name": "stderr",
          "output_type": "stream",
          "text": [
            "\u001b[34m\u001b[1mwandb\u001b[0m:   1 of 1 files downloaded.  \n"
          ]
        },
        {
          "name": "stdout",
          "output_type": "stream",
          "text": [
            "Loaded 4 episodes from v21\n",
            "Downloading artifact version: mahin-sank-iit-kgp/alpha-racer-data/alpha_racer_multi_mpc_combined:v22\n"
          ]
        },
        {
          "name": "stderr",
          "output_type": "stream",
          "text": [
            "\u001b[34m\u001b[1mwandb\u001b[0m:   1 of 1 files downloaded.  \n"
          ]
        },
        {
          "name": "stdout",
          "output_type": "stream",
          "text": [
            "Loaded 4 episodes from v22\n",
            "Downloading artifact version: mahin-sank-iit-kgp/alpha-racer-data/alpha_racer_multi_mpc_combined:v23\n"
          ]
        },
        {
          "name": "stderr",
          "output_type": "stream",
          "text": [
            "\u001b[34m\u001b[1mwandb\u001b[0m:   1 of 1 files downloaded.  \n"
          ]
        },
        {
          "name": "stdout",
          "output_type": "stream",
          "text": [
            "Loaded 4 episodes from v23\n",
            "Downloading artifact version: mahin-sank-iit-kgp/alpha-racer-data/alpha_racer_multi_mpc_combined:v24\n"
          ]
        },
        {
          "name": "stderr",
          "output_type": "stream",
          "text": [
            "\u001b[34m\u001b[1mwandb\u001b[0m:   1 of 1 files downloaded.  \n"
          ]
        },
        {
          "name": "stdout",
          "output_type": "stream",
          "text": [
            "Loaded 4 episodes from v24\n",
            "Downloading artifact version: mahin-sank-iit-kgp/alpha-racer-data/alpha_racer_multi_mpc_combined:v25\n"
          ]
        },
        {
          "name": "stderr",
          "output_type": "stream",
          "text": [
            "\u001b[34m\u001b[1mwandb\u001b[0m:   1 of 1 files downloaded.  \n"
          ]
        },
        {
          "name": "stdout",
          "output_type": "stream",
          "text": [
            "Loaded 4 episodes from v25\n",
            "Downloading artifact version: mahin-sank-iit-kgp/alpha-racer-data/alpha_racer_multi_mpc_combined:v26\n"
          ]
        },
        {
          "name": "stderr",
          "output_type": "stream",
          "text": [
            "\u001b[34m\u001b[1mwandb\u001b[0m:   1 of 1 files downloaded.  \n"
          ]
        },
        {
          "name": "stdout",
          "output_type": "stream",
          "text": [
            "Loaded 4 episodes from v26\n",
            "Downloading artifact version: mahin-sank-iit-kgp/alpha-racer-data/alpha_racer_multi_mpc_combined:v27\n"
          ]
        },
        {
          "name": "stderr",
          "output_type": "stream",
          "text": [
            "\u001b[34m\u001b[1mwandb\u001b[0m:   1 of 1 files downloaded.  \n"
          ]
        },
        {
          "name": "stdout",
          "output_type": "stream",
          "text": [
            "Loaded 4 episodes from v27\n",
            "Downloading artifact version: mahin-sank-iit-kgp/alpha-racer-data/alpha_racer_multi_mpc_combined:v28\n"
          ]
        },
        {
          "name": "stderr",
          "output_type": "stream",
          "text": [
            "\u001b[34m\u001b[1mwandb\u001b[0m:   1 of 1 files downloaded.  \n"
          ]
        },
        {
          "name": "stdout",
          "output_type": "stream",
          "text": [
            "Loaded 4 episodes from v28\n",
            "Downloading artifact version: mahin-sank-iit-kgp/alpha-racer-data/alpha_racer_multi_mpc_combined:v29\n"
          ]
        },
        {
          "name": "stderr",
          "output_type": "stream",
          "text": [
            "\u001b[34m\u001b[1mwandb\u001b[0m:   1 of 1 files downloaded.  \n"
          ]
        },
        {
          "name": "stdout",
          "output_type": "stream",
          "text": [
            "Loaded 4 episodes from v29\n",
            "Downloading artifact version: mahin-sank-iit-kgp/alpha-racer-data/alpha_racer_multi_mpc_combined:v30\n"
          ]
        },
        {
          "name": "stderr",
          "output_type": "stream",
          "text": [
            "\u001b[34m\u001b[1mwandb\u001b[0m:   1 of 1 files downloaded.  \n"
          ]
        },
        {
          "name": "stdout",
          "output_type": "stream",
          "text": [
            "Loaded 4 episodes from v30\n",
            "Downloading artifact version: mahin-sank-iit-kgp/alpha-racer-data/alpha_racer_multi_mpc_combined:v31\n"
          ]
        },
        {
          "name": "stderr",
          "output_type": "stream",
          "text": [
            "\u001b[34m\u001b[1mwandb\u001b[0m:   1 of 1 files downloaded.  \n"
          ]
        },
        {
          "name": "stdout",
          "output_type": "stream",
          "text": [
            "Loaded 5 episodes from v31\n",
            "Downloading artifact version: mahin-sank-iit-kgp/alpha-racer-data/alpha_racer_multi_mpc_combined:v32\n"
          ]
        },
        {
          "name": "stderr",
          "output_type": "stream",
          "text": [
            "\u001b[34m\u001b[1mwandb\u001b[0m:   1 of 1 files downloaded.  \n"
          ]
        },
        {
          "name": "stdout",
          "output_type": "stream",
          "text": [
            "Loaded 5 episodes from v32\n",
            "Downloading artifact version: mahin-sank-iit-kgp/alpha-racer-data/alpha_racer_multi_mpc_combined:v33\n"
          ]
        },
        {
          "name": "stderr",
          "output_type": "stream",
          "text": [
            "\u001b[34m\u001b[1mwandb\u001b[0m:   1 of 1 files downloaded.  \n"
          ]
        },
        {
          "name": "stdout",
          "output_type": "stream",
          "text": [
            "Loaded 5 episodes from v33\n",
            "Downloading artifact version: mahin-sank-iit-kgp/alpha-racer-data/alpha_racer_multi_mpc_combined:v34\n"
          ]
        },
        {
          "name": "stderr",
          "output_type": "stream",
          "text": [
            "\u001b[34m\u001b[1mwandb\u001b[0m:   1 of 1 files downloaded.  \n"
          ]
        },
        {
          "name": "stdout",
          "output_type": "stream",
          "text": [
            "Loaded 5 episodes from v34\n",
            "Downloading artifact version: mahin-sank-iit-kgp/alpha-racer-data/alpha_racer_multi_mpc_combined:v35\n"
          ]
        },
        {
          "name": "stderr",
          "output_type": "stream",
          "text": [
            "\u001b[34m\u001b[1mwandb\u001b[0m:   1 of 1 files downloaded.  \n"
          ]
        },
        {
          "name": "stdout",
          "output_type": "stream",
          "text": [
            "Loaded 5 episodes from v35\n",
            "Downloading artifact version: mahin-sank-iit-kgp/alpha-racer-data/alpha_racer_multi_mpc_combined:v36\n"
          ]
        },
        {
          "name": "stderr",
          "output_type": "stream",
          "text": [
            "\u001b[34m\u001b[1mwandb\u001b[0m:   1 of 1 files downloaded.  \n"
          ]
        },
        {
          "name": "stdout",
          "output_type": "stream",
          "text": [
            "Loaded 5 episodes from v36\n",
            "Downloading artifact version: mahin-sank-iit-kgp/alpha-racer-data/alpha_racer_multi_mpc_combined:v37\n"
          ]
        },
        {
          "name": "stderr",
          "output_type": "stream",
          "text": [
            "\u001b[34m\u001b[1mwandb\u001b[0m:   1 of 1 files downloaded.  \n"
          ]
        },
        {
          "name": "stdout",
          "output_type": "stream",
          "text": [
            "Loaded 5 episodes from v37\n",
            "Downloading artifact version: mahin-sank-iit-kgp/alpha-racer-data/alpha_racer_multi_mpc_combined:v38\n"
          ]
        },
        {
          "name": "stderr",
          "output_type": "stream",
          "text": [
            "\u001b[34m\u001b[1mwandb\u001b[0m:   1 of 1 files downloaded.  \n"
          ]
        },
        {
          "name": "stdout",
          "output_type": "stream",
          "text": [
            "Loaded 5 episodes from v38\n",
            "Downloading artifact version: mahin-sank-iit-kgp/alpha-racer-data/alpha_racer_multi_mpc_combined:v39\n"
          ]
        },
        {
          "name": "stderr",
          "output_type": "stream",
          "text": [
            "\u001b[34m\u001b[1mwandb\u001b[0m:   1 of 1 files downloaded.  \n"
          ]
        },
        {
          "name": "stdout",
          "output_type": "stream",
          "text": [
            "Loaded 5 episodes from v39\n",
            "Downloading artifact version: mahin-sank-iit-kgp/alpha-racer-data/alpha_racer_multi_mpc_combined:v40\n"
          ]
        },
        {
          "name": "stderr",
          "output_type": "stream",
          "text": [
            "\u001b[34m\u001b[1mwandb\u001b[0m:   1 of 1 files downloaded.  \n"
          ]
        },
        {
          "name": "stdout",
          "output_type": "stream",
          "text": [
            "Loaded 5 episodes from v40\n",
            "Downloading artifact version: mahin-sank-iit-kgp/alpha-racer-data/alpha_racer_multi_mpc_combined:v41\n"
          ]
        },
        {
          "name": "stderr",
          "output_type": "stream",
          "text": [
            "\u001b[34m\u001b[1mwandb\u001b[0m:   1 of 1 files downloaded.  \n"
          ]
        },
        {
          "name": "stdout",
          "output_type": "stream",
          "text": [
            "Loaded 6 episodes from v41\n",
            "Downloading artifact version: mahin-sank-iit-kgp/alpha-racer-data/alpha_racer_multi_mpc_combined:v42\n"
          ]
        },
        {
          "name": "stderr",
          "output_type": "stream",
          "text": [
            "\u001b[34m\u001b[1mwandb\u001b[0m:   1 of 1 files downloaded.  \n"
          ]
        },
        {
          "name": "stdout",
          "output_type": "stream",
          "text": [
            "Loaded 6 episodes from v42\n",
            "Downloading artifact version: mahin-sank-iit-kgp/alpha-racer-data/alpha_racer_multi_mpc_combined:v43\n"
          ]
        },
        {
          "name": "stderr",
          "output_type": "stream",
          "text": [
            "\u001b[34m\u001b[1mwandb\u001b[0m:   1 of 1 files downloaded.  \n"
          ]
        },
        {
          "name": "stdout",
          "output_type": "stream",
          "text": [
            "Loaded 6 episodes from v43\n",
            "Downloading artifact version: mahin-sank-iit-kgp/alpha-racer-data/alpha_racer_multi_mpc_combined:v44\n"
          ]
        },
        {
          "name": "stderr",
          "output_type": "stream",
          "text": [
            "\u001b[34m\u001b[1mwandb\u001b[0m:   1 of 1 files downloaded.  \n"
          ]
        },
        {
          "name": "stdout",
          "output_type": "stream",
          "text": [
            "Loaded 6 episodes from v44\n",
            "Downloading artifact version: mahin-sank-iit-kgp/alpha-racer-data/alpha_racer_multi_mpc_combined:v45\n"
          ]
        },
        {
          "name": "stderr",
          "output_type": "stream",
          "text": [
            "\u001b[34m\u001b[1mwandb\u001b[0m:   1 of 1 files downloaded.  \n"
          ]
        },
        {
          "name": "stdout",
          "output_type": "stream",
          "text": [
            "Loaded 6 episodes from v45\n",
            "Downloading artifact version: mahin-sank-iit-kgp/alpha-racer-data/alpha_racer_multi_mpc_combined:v46\n"
          ]
        },
        {
          "name": "stderr",
          "output_type": "stream",
          "text": [
            "\u001b[34m\u001b[1mwandb\u001b[0m:   1 of 1 files downloaded.  \n"
          ]
        },
        {
          "name": "stdout",
          "output_type": "stream",
          "text": [
            "Loaded 6 episodes from v46\n",
            "Downloading artifact version: mahin-sank-iit-kgp/alpha-racer-data/alpha_racer_multi_mpc_combined:v47\n"
          ]
        },
        {
          "name": "stderr",
          "output_type": "stream",
          "text": [
            "\u001b[34m\u001b[1mwandb\u001b[0m:   1 of 1 files downloaded.  \n"
          ]
        },
        {
          "name": "stdout",
          "output_type": "stream",
          "text": [
            "Loaded 6 episodes from v47\n",
            "Downloading artifact version: mahin-sank-iit-kgp/alpha-racer-data/alpha_racer_multi_mpc_combined:v48\n"
          ]
        },
        {
          "name": "stderr",
          "output_type": "stream",
          "text": [
            "\u001b[34m\u001b[1mwandb\u001b[0m:   1 of 1 files downloaded.  \n"
          ]
        },
        {
          "name": "stdout",
          "output_type": "stream",
          "text": [
            "Loaded 6 episodes from v48\n",
            "Downloading artifact version: mahin-sank-iit-kgp/alpha-racer-data/alpha_racer_multi_mpc_combined:v49\n"
          ]
        },
        {
          "name": "stderr",
          "output_type": "stream",
          "text": [
            "\u001b[34m\u001b[1mwandb\u001b[0m:   1 of 1 files downloaded.  \n"
          ]
        },
        {
          "name": "stdout",
          "output_type": "stream",
          "text": [
            "Loaded 6 episodes from v49\n",
            "Downloading artifact version: mahin-sank-iit-kgp/alpha-racer-data/alpha_racer_multi_mpc_combined:v50\n"
          ]
        },
        {
          "name": "stderr",
          "output_type": "stream",
          "text": [
            "\u001b[34m\u001b[1mwandb\u001b[0m:   1 of 1 files downloaded.  \n"
          ]
        },
        {
          "name": "stdout",
          "output_type": "stream",
          "text": [
            "Loaded 6 episodes from v50\n",
            "Downloading artifact version: mahin-sank-iit-kgp/alpha-racer-data/alpha_racer_multi_mpc_combined:v51\n"
          ]
        },
        {
          "name": "stderr",
          "output_type": "stream",
          "text": [
            "\u001b[34m\u001b[1mwandb\u001b[0m:   1 of 1 files downloaded.  \n"
          ]
        },
        {
          "name": "stdout",
          "output_type": "stream",
          "text": [
            "Loaded 7 episodes from v51\n",
            "Downloading artifact version: mahin-sank-iit-kgp/alpha-racer-data/alpha_racer_multi_mpc_combined:v52\n"
          ]
        },
        {
          "name": "stderr",
          "output_type": "stream",
          "text": [
            "\u001b[34m\u001b[1mwandb\u001b[0m:   1 of 1 files downloaded.  \n"
          ]
        },
        {
          "name": "stdout",
          "output_type": "stream",
          "text": [
            "Loaded 7 episodes from v52\n",
            "Downloading artifact version: mahin-sank-iit-kgp/alpha-racer-data/alpha_racer_multi_mpc_combined:v53\n"
          ]
        },
        {
          "name": "stderr",
          "output_type": "stream",
          "text": [
            "\u001b[34m\u001b[1mwandb\u001b[0m:   1 of 1 files downloaded.  \n"
          ]
        },
        {
          "name": "stdout",
          "output_type": "stream",
          "text": [
            "Loaded 7 episodes from v53\n",
            "Downloading artifact version: mahin-sank-iit-kgp/alpha-racer-data/alpha_racer_multi_mpc_combined:v54\n"
          ]
        },
        {
          "name": "stderr",
          "output_type": "stream",
          "text": [
            "\u001b[34m\u001b[1mwandb\u001b[0m:   1 of 1 files downloaded.  \n"
          ]
        },
        {
          "name": "stdout",
          "output_type": "stream",
          "text": [
            "Loaded 7 episodes from v54\n",
            "Downloading artifact version: mahin-sank-iit-kgp/alpha-racer-data/alpha_racer_multi_mpc_combined:v55\n"
          ]
        },
        {
          "name": "stderr",
          "output_type": "stream",
          "text": [
            "\u001b[34m\u001b[1mwandb\u001b[0m:   1 of 1 files downloaded.  \n"
          ]
        },
        {
          "name": "stdout",
          "output_type": "stream",
          "text": [
            "Loaded 7 episodes from v55\n",
            "Downloading artifact version: mahin-sank-iit-kgp/alpha-racer-data/alpha_racer_multi_mpc_combined:v56\n"
          ]
        },
        {
          "name": "stderr",
          "output_type": "stream",
          "text": [
            "\u001b[34m\u001b[1mwandb\u001b[0m:   1 of 1 files downloaded.  \n"
          ]
        },
        {
          "name": "stdout",
          "output_type": "stream",
          "text": [
            "Loaded 7 episodes from v56\n",
            "Downloading artifact version: mahin-sank-iit-kgp/alpha-racer-data/alpha_racer_multi_mpc_combined:v57\n"
          ]
        },
        {
          "name": "stderr",
          "output_type": "stream",
          "text": [
            "\u001b[34m\u001b[1mwandb\u001b[0m:   1 of 1 files downloaded.  \n"
          ]
        },
        {
          "name": "stdout",
          "output_type": "stream",
          "text": [
            "Loaded 7 episodes from v57\n",
            "Downloading artifact version: mahin-sank-iit-kgp/alpha-racer-data/alpha_racer_multi_mpc_combined:v58\n"
          ]
        },
        {
          "name": "stderr",
          "output_type": "stream",
          "text": [
            "\u001b[34m\u001b[1mwandb\u001b[0m:   1 of 1 files downloaded.  \n"
          ]
        },
        {
          "name": "stdout",
          "output_type": "stream",
          "text": [
            "Loaded 7 episodes from v58\n",
            "Downloading artifact version: mahin-sank-iit-kgp/alpha-racer-data/alpha_racer_multi_mpc_combined:v59\n"
          ]
        },
        {
          "name": "stderr",
          "output_type": "stream",
          "text": [
            "\u001b[34m\u001b[1mwandb\u001b[0m:   1 of 1 files downloaded.  \n"
          ]
        },
        {
          "name": "stdout",
          "output_type": "stream",
          "text": [
            "Loaded 7 episodes from v59\n",
            "Downloading artifact version: mahin-sank-iit-kgp/alpha-racer-data/alpha_racer_multi_mpc_combined:v60\n"
          ]
        },
        {
          "name": "stderr",
          "output_type": "stream",
          "text": [
            "\u001b[34m\u001b[1mwandb\u001b[0m:   1 of 1 files downloaded.  \n"
          ]
        },
        {
          "name": "stdout",
          "output_type": "stream",
          "text": [
            "Loaded 7 episodes from v60\n",
            "Downloading artifact version: mahin-sank-iit-kgp/alpha-racer-data/alpha_racer_multi_mpc_combined:v61\n"
          ]
        },
        {
          "name": "stderr",
          "output_type": "stream",
          "text": [
            "\u001b[34m\u001b[1mwandb\u001b[0m:   1 of 1 files downloaded.  \n"
          ]
        },
        {
          "name": "stdout",
          "output_type": "stream",
          "text": [
            "Loaded 8 episodes from v61\n",
            "Downloading artifact version: mahin-sank-iit-kgp/alpha-racer-data/alpha_racer_multi_mpc_combined:v62\n"
          ]
        },
        {
          "name": "stderr",
          "output_type": "stream",
          "text": [
            "\u001b[34m\u001b[1mwandb\u001b[0m:   1 of 1 files downloaded.  \n"
          ]
        },
        {
          "name": "stdout",
          "output_type": "stream",
          "text": [
            "Loaded 8 episodes from v62\n",
            "Downloading artifact version: mahin-sank-iit-kgp/alpha-racer-data/alpha_racer_multi_mpc_combined:v63\n"
          ]
        },
        {
          "name": "stderr",
          "output_type": "stream",
          "text": [
            "\u001b[34m\u001b[1mwandb\u001b[0m:   1 of 1 files downloaded.  \n"
          ]
        },
        {
          "name": "stdout",
          "output_type": "stream",
          "text": [
            "Loaded 8 episodes from v63\n",
            "Downloading artifact version: mahin-sank-iit-kgp/alpha-racer-data/alpha_racer_multi_mpc_combined:v64\n"
          ]
        },
        {
          "name": "stderr",
          "output_type": "stream",
          "text": [
            "\u001b[34m\u001b[1mwandb\u001b[0m:   1 of 1 files downloaded.  \n"
          ]
        },
        {
          "name": "stdout",
          "output_type": "stream",
          "text": [
            "Loaded 8 episodes from v64\n",
            "Downloading artifact version: mahin-sank-iit-kgp/alpha-racer-data/alpha_racer_multi_mpc_combined:v65\n"
          ]
        },
        {
          "name": "stderr",
          "output_type": "stream",
          "text": [
            "\u001b[34m\u001b[1mwandb\u001b[0m:   1 of 1 files downloaded.  \n"
          ]
        },
        {
          "name": "stdout",
          "output_type": "stream",
          "text": [
            "Loaded 8 episodes from v65\n",
            "Downloading artifact version: mahin-sank-iit-kgp/alpha-racer-data/alpha_racer_multi_mpc_combined:v66\n"
          ]
        },
        {
          "name": "stderr",
          "output_type": "stream",
          "text": [
            "\u001b[34m\u001b[1mwandb\u001b[0m:   1 of 1 files downloaded.  \n"
          ]
        },
        {
          "name": "stdout",
          "output_type": "stream",
          "text": [
            "Loaded 8 episodes from v66\n",
            "Downloading artifact version: mahin-sank-iit-kgp/alpha-racer-data/alpha_racer_multi_mpc_combined:v67\n"
          ]
        },
        {
          "name": "stderr",
          "output_type": "stream",
          "text": [
            "\u001b[34m\u001b[1mwandb\u001b[0m:   1 of 1 files downloaded.  \n"
          ]
        },
        {
          "name": "stdout",
          "output_type": "stream",
          "text": [
            "Loaded 8 episodes from v67\n",
            "Downloading artifact version: mahin-sank-iit-kgp/alpha-racer-data/alpha_racer_multi_mpc_combined:v68\n"
          ]
        },
        {
          "name": "stderr",
          "output_type": "stream",
          "text": [
            "\u001b[34m\u001b[1mwandb\u001b[0m:   1 of 1 files downloaded.  \n"
          ]
        },
        {
          "name": "stdout",
          "output_type": "stream",
          "text": [
            "Loaded 8 episodes from v68\n",
            "Downloading artifact version: mahin-sank-iit-kgp/alpha-racer-data/alpha_racer_multi_mpc_combined:v69\n"
          ]
        },
        {
          "name": "stderr",
          "output_type": "stream",
          "text": [
            "\u001b[34m\u001b[1mwandb\u001b[0m:   1 of 1 files downloaded.  \n"
          ]
        },
        {
          "name": "stdout",
          "output_type": "stream",
          "text": [
            "Loaded 8 episodes from v69\n",
            "Downloading artifact version: mahin-sank-iit-kgp/alpha-racer-data/alpha_racer_multi_mpc_combined:v70\n"
          ]
        },
        {
          "name": "stderr",
          "output_type": "stream",
          "text": [
            "\u001b[34m\u001b[1mwandb\u001b[0m:   1 of 1 files downloaded.  \n"
          ]
        },
        {
          "name": "stdout",
          "output_type": "stream",
          "text": [
            "Loaded 8 episodes from v70\n",
            "Downloading artifact version: mahin-sank-iit-kgp/alpha-racer-data/alpha_racer_multi_mpc_combined:v71\n"
          ]
        },
        {
          "name": "stderr",
          "output_type": "stream",
          "text": [
            "\u001b[34m\u001b[1mwandb\u001b[0m:   1 of 1 files downloaded.  \n"
          ]
        },
        {
          "name": "stdout",
          "output_type": "stream",
          "text": [
            "Loaded 1 episodes from v71\n",
            "Downloading artifact version: mahin-sank-iit-kgp/alpha-racer-data/alpha_racer_multi_mpc_combined:v72\n"
          ]
        },
        {
          "name": "stderr",
          "output_type": "stream",
          "text": [
            "\u001b[34m\u001b[1mwandb\u001b[0m:   1 of 1 files downloaded.  \n"
          ]
        },
        {
          "name": "stdout",
          "output_type": "stream",
          "text": [
            "Loaded 2 episodes from v72\n",
            "Downloading artifact version: mahin-sank-iit-kgp/alpha-racer-data/alpha_racer_multi_mpc_combined:v73\n"
          ]
        },
        {
          "name": "stderr",
          "output_type": "stream",
          "text": [
            "\u001b[34m\u001b[1mwandb\u001b[0m:   1 of 1 files downloaded.  \n"
          ]
        },
        {
          "name": "stdout",
          "output_type": "stream",
          "text": [
            "Loaded 2 episodes from v73\n",
            "Downloading artifact version: mahin-sank-iit-kgp/alpha-racer-data/alpha_racer_multi_mpc_combined:v74\n"
          ]
        },
        {
          "name": "stderr",
          "output_type": "stream",
          "text": [
            "\u001b[34m\u001b[1mwandb\u001b[0m:   1 of 1 files downloaded.  \n"
          ]
        },
        {
          "name": "stdout",
          "output_type": "stream",
          "text": [
            "Loaded 2 episodes from v74\n",
            "Downloading artifact version: mahin-sank-iit-kgp/alpha-racer-data/alpha_racer_multi_mpc_combined:v75\n"
          ]
        },
        {
          "name": "stderr",
          "output_type": "stream",
          "text": [
            "\u001b[34m\u001b[1mwandb\u001b[0m:   1 of 1 files downloaded.  \n"
          ]
        },
        {
          "name": "stdout",
          "output_type": "stream",
          "text": [
            "Loaded 2 episodes from v75\n",
            "Downloading artifact version: mahin-sank-iit-kgp/alpha-racer-data/alpha_racer_multi_mpc_combined:v76\n"
          ]
        },
        {
          "name": "stderr",
          "output_type": "stream",
          "text": [
            "\u001b[34m\u001b[1mwandb\u001b[0m:   1 of 1 files downloaded.  \n"
          ]
        },
        {
          "name": "stdout",
          "output_type": "stream",
          "text": [
            "Loaded 2 episodes from v76\n",
            "Downloading artifact version: mahin-sank-iit-kgp/alpha-racer-data/alpha_racer_multi_mpc_combined:v77\n"
          ]
        },
        {
          "name": "stderr",
          "output_type": "stream",
          "text": [
            "\u001b[34m\u001b[1mwandb\u001b[0m:   1 of 1 files downloaded.  \n"
          ]
        },
        {
          "name": "stdout",
          "output_type": "stream",
          "text": [
            "Loaded 2 episodes from v77\n",
            "Downloading artifact version: mahin-sank-iit-kgp/alpha-racer-data/alpha_racer_multi_mpc_combined:v78\n"
          ]
        },
        {
          "name": "stderr",
          "output_type": "stream",
          "text": [
            "\u001b[34m\u001b[1mwandb\u001b[0m:   1 of 1 files downloaded.  \n"
          ]
        },
        {
          "name": "stdout",
          "output_type": "stream",
          "text": [
            "Loaded 2 episodes from v78\n",
            "Downloading artifact version: mahin-sank-iit-kgp/alpha-racer-data/alpha_racer_multi_mpc_combined:v79\n"
          ]
        },
        {
          "name": "stderr",
          "output_type": "stream",
          "text": [
            "\u001b[34m\u001b[1mwandb\u001b[0m:   1 of 1 files downloaded.  \n"
          ]
        },
        {
          "name": "stdout",
          "output_type": "stream",
          "text": [
            "Loaded 2 episodes from v79\n",
            "Downloading artifact version: mahin-sank-iit-kgp/alpha-racer-data/alpha_racer_multi_mpc_combined:v80\n"
          ]
        },
        {
          "name": "stderr",
          "output_type": "stream",
          "text": [
            "\u001b[34m\u001b[1mwandb\u001b[0m:   1 of 1 files downloaded.  \n"
          ]
        },
        {
          "name": "stdout",
          "output_type": "stream",
          "text": [
            "Loaded 2 episodes from v80\n",
            "Downloading artifact version: mahin-sank-iit-kgp/alpha-racer-data/alpha_racer_multi_mpc_combined:v81\n"
          ]
        },
        {
          "name": "stderr",
          "output_type": "stream",
          "text": [
            "\u001b[34m\u001b[1mwandb\u001b[0m:   1 of 1 files downloaded.  \n"
          ]
        },
        {
          "name": "stdout",
          "output_type": "stream",
          "text": [
            "Loaded 2 episodes from v81\n",
            "Downloading artifact version: mahin-sank-iit-kgp/alpha-racer-data/alpha_racer_multi_mpc_combined:v82\n"
          ]
        },
        {
          "name": "stderr",
          "output_type": "stream",
          "text": [
            "\u001b[34m\u001b[1mwandb\u001b[0m:   1 of 1 files downloaded.  \n"
          ]
        },
        {
          "name": "stdout",
          "output_type": "stream",
          "text": [
            "Loaded 3 episodes from v82\n",
            "Downloading artifact version: mahin-sank-iit-kgp/alpha-racer-data/alpha_racer_multi_mpc_combined:v83\n"
          ]
        },
        {
          "name": "stderr",
          "output_type": "stream",
          "text": [
            "\u001b[34m\u001b[1mwandb\u001b[0m:   1 of 1 files downloaded.  \n"
          ]
        },
        {
          "name": "stdout",
          "output_type": "stream",
          "text": [
            "Loaded 3 episodes from v83\n",
            "Downloading artifact version: mahin-sank-iit-kgp/alpha-racer-data/alpha_racer_multi_mpc_combined:v84\n"
          ]
        },
        {
          "name": "stderr",
          "output_type": "stream",
          "text": [
            "\u001b[34m\u001b[1mwandb\u001b[0m:   1 of 1 files downloaded.  \n"
          ]
        },
        {
          "name": "stdout",
          "output_type": "stream",
          "text": [
            "Loaded 3 episodes from v84\n",
            "Downloading artifact version: mahin-sank-iit-kgp/alpha-racer-data/alpha_racer_multi_mpc_combined:v85\n"
          ]
        },
        {
          "name": "stderr",
          "output_type": "stream",
          "text": [
            "\u001b[34m\u001b[1mwandb\u001b[0m:   1 of 1 files downloaded.  \n"
          ]
        },
        {
          "name": "stdout",
          "output_type": "stream",
          "text": [
            "Loaded 3 episodes from v85\n",
            "Downloading artifact version: mahin-sank-iit-kgp/alpha-racer-data/alpha_racer_multi_mpc_combined:v86\n"
          ]
        },
        {
          "name": "stderr",
          "output_type": "stream",
          "text": [
            "\u001b[34m\u001b[1mwandb\u001b[0m:   1 of 1 files downloaded.  \n"
          ]
        },
        {
          "name": "stdout",
          "output_type": "stream",
          "text": [
            "Loaded 3 episodes from v86\n",
            "Downloading artifact version: mahin-sank-iit-kgp/alpha-racer-data/alpha_racer_multi_mpc_combined:v87\n"
          ]
        },
        {
          "name": "stderr",
          "output_type": "stream",
          "text": [
            "\u001b[34m\u001b[1mwandb\u001b[0m:   1 of 1 files downloaded.  \n"
          ]
        },
        {
          "name": "stdout",
          "output_type": "stream",
          "text": [
            "Loaded 3 episodes from v87\n",
            "Downloading artifact version: mahin-sank-iit-kgp/alpha-racer-data/alpha_racer_multi_mpc_combined:v88\n"
          ]
        },
        {
          "name": "stderr",
          "output_type": "stream",
          "text": [
            "\u001b[34m\u001b[1mwandb\u001b[0m:   1 of 1 files downloaded.  \n"
          ]
        },
        {
          "name": "stdout",
          "output_type": "stream",
          "text": [
            "Loaded 3 episodes from v88\n",
            "Downloading artifact version: mahin-sank-iit-kgp/alpha-racer-data/alpha_racer_multi_mpc_combined:v89\n"
          ]
        },
        {
          "name": "stderr",
          "output_type": "stream",
          "text": [
            "\u001b[34m\u001b[1mwandb\u001b[0m:   1 of 1 files downloaded.  \n"
          ]
        },
        {
          "name": "stdout",
          "output_type": "stream",
          "text": [
            "Loaded 3 episodes from v89\n",
            "Downloading artifact version: mahin-sank-iit-kgp/alpha-racer-data/alpha_racer_multi_mpc_combined:v90\n"
          ]
        },
        {
          "name": "stderr",
          "output_type": "stream",
          "text": [
            "\u001b[34m\u001b[1mwandb\u001b[0m:   1 of 1 files downloaded.  \n"
          ]
        },
        {
          "name": "stdout",
          "output_type": "stream",
          "text": [
            "Loaded 3 episodes from v90\n",
            "Downloading artifact version: mahin-sank-iit-kgp/alpha-racer-data/alpha_racer_multi_mpc_combined:v91\n"
          ]
        },
        {
          "name": "stderr",
          "output_type": "stream",
          "text": [
            "\u001b[34m\u001b[1mwandb\u001b[0m:   1 of 1 files downloaded.  \n"
          ]
        },
        {
          "name": "stdout",
          "output_type": "stream",
          "text": [
            "Loaded 3 episodes from v91\n",
            "Downloading artifact version: mahin-sank-iit-kgp/alpha-racer-data/alpha_racer_multi_mpc_combined:v92\n"
          ]
        },
        {
          "name": "stderr",
          "output_type": "stream",
          "text": [
            "\u001b[34m\u001b[1mwandb\u001b[0m:   1 of 1 files downloaded.  \n"
          ]
        },
        {
          "name": "stdout",
          "output_type": "stream",
          "text": [
            "Loaded 4 episodes from v92\n",
            "Downloading artifact version: mahin-sank-iit-kgp/alpha-racer-data/alpha_racer_multi_mpc_combined:v93\n"
          ]
        },
        {
          "name": "stderr",
          "output_type": "stream",
          "text": [
            "\u001b[34m\u001b[1mwandb\u001b[0m:   1 of 1 files downloaded.  \n"
          ]
        },
        {
          "name": "stdout",
          "output_type": "stream",
          "text": [
            "Loaded 4 episodes from v93\n",
            "Downloading artifact version: mahin-sank-iit-kgp/alpha-racer-data/alpha_racer_multi_mpc_combined:v94\n"
          ]
        },
        {
          "name": "stderr",
          "output_type": "stream",
          "text": [
            "\u001b[34m\u001b[1mwandb\u001b[0m:   1 of 1 files downloaded.  \n"
          ]
        },
        {
          "name": "stdout",
          "output_type": "stream",
          "text": [
            "Loaded 4 episodes from v94\n",
            "Downloading artifact version: mahin-sank-iit-kgp/alpha-racer-data/alpha_racer_multi_mpc_combined:v95\n"
          ]
        },
        {
          "name": "stderr",
          "output_type": "stream",
          "text": [
            "\u001b[34m\u001b[1mwandb\u001b[0m:   1 of 1 files downloaded.  \n"
          ]
        },
        {
          "name": "stdout",
          "output_type": "stream",
          "text": [
            "Loaded 4 episodes from v95\n",
            "Downloading artifact version: mahin-sank-iit-kgp/alpha-racer-data/alpha_racer_multi_mpc_combined:v96\n"
          ]
        },
        {
          "name": "stderr",
          "output_type": "stream",
          "text": [
            "\u001b[34m\u001b[1mwandb\u001b[0m:   1 of 1 files downloaded.  \n"
          ]
        },
        {
          "name": "stdout",
          "output_type": "stream",
          "text": [
            "Loaded 4 episodes from v96\n",
            "Downloading artifact version: mahin-sank-iit-kgp/alpha-racer-data/alpha_racer_multi_mpc_combined:v97\n"
          ]
        },
        {
          "name": "stderr",
          "output_type": "stream",
          "text": [
            "\u001b[34m\u001b[1mwandb\u001b[0m:   1 of 1 files downloaded.  \n"
          ]
        },
        {
          "name": "stdout",
          "output_type": "stream",
          "text": [
            "Loaded 4 episodes from v97\n",
            "Downloading artifact version: mahin-sank-iit-kgp/alpha-racer-data/alpha_racer_multi_mpc_combined:v98\n"
          ]
        },
        {
          "name": "stderr",
          "output_type": "stream",
          "text": [
            "\u001b[34m\u001b[1mwandb\u001b[0m:   1 of 1 files downloaded.  \n"
          ]
        },
        {
          "name": "stdout",
          "output_type": "stream",
          "text": [
            "Loaded 4 episodes from v98\n",
            "Downloading artifact version: mahin-sank-iit-kgp/alpha-racer-data/alpha_racer_multi_mpc_combined:v99\n"
          ]
        },
        {
          "name": "stderr",
          "output_type": "stream",
          "text": [
            "\u001b[34m\u001b[1mwandb\u001b[0m:   1 of 1 files downloaded.  \n"
          ]
        },
        {
          "name": "stdout",
          "output_type": "stream",
          "text": [
            "Loaded 4 episodes from v99\n",
            "Downloading artifact version: mahin-sank-iit-kgp/alpha-racer-data/alpha_racer_multi_mpc_combined:v100\n"
          ]
        },
        {
          "name": "stderr",
          "output_type": "stream",
          "text": [
            "\u001b[34m\u001b[1mwandb\u001b[0m:   1 of 1 files downloaded.  \n"
          ]
        },
        {
          "name": "stdout",
          "output_type": "stream",
          "text": [
            "Loaded 4 episodes from v100\n",
            "Downloading artifact version: mahin-sank-iit-kgp/alpha-racer-data/alpha_racer_multi_mpc_combined:v101\n"
          ]
        },
        {
          "name": "stderr",
          "output_type": "stream",
          "text": [
            "\u001b[34m\u001b[1mwandb\u001b[0m:   1 of 1 files downloaded.  \n"
          ]
        },
        {
          "name": "stdout",
          "output_type": "stream",
          "text": [
            "Loaded 4 episodes from v101\n",
            "Downloading artifact version: mahin-sank-iit-kgp/alpha-racer-data/alpha_racer_multi_mpc_combined:v102\n"
          ]
        },
        {
          "name": "stderr",
          "output_type": "stream",
          "text": [
            "\u001b[34m\u001b[1mwandb\u001b[0m:   1 of 1 files downloaded.  \n"
          ]
        },
        {
          "name": "stdout",
          "output_type": "stream",
          "text": [
            "Loaded 5 episodes from v102\n",
            "Downloading artifact version: mahin-sank-iit-kgp/alpha-racer-data/alpha_racer_multi_mpc_combined:v103\n"
          ]
        },
        {
          "name": "stderr",
          "output_type": "stream",
          "text": [
            "\u001b[34m\u001b[1mwandb\u001b[0m:   1 of 1 files downloaded.  \n"
          ]
        },
        {
          "name": "stdout",
          "output_type": "stream",
          "text": [
            "Loaded 5 episodes from v103\n",
            "Downloading artifact version: mahin-sank-iit-kgp/alpha-racer-data/alpha_racer_multi_mpc_combined:v104\n"
          ]
        },
        {
          "name": "stderr",
          "output_type": "stream",
          "text": [
            "\u001b[34m\u001b[1mwandb\u001b[0m:   1 of 1 files downloaded.  \n"
          ]
        },
        {
          "name": "stdout",
          "output_type": "stream",
          "text": [
            "Loaded 5 episodes from v104\n",
            "Downloading artifact version: mahin-sank-iit-kgp/alpha-racer-data/alpha_racer_multi_mpc_combined:v105\n"
          ]
        },
        {
          "name": "stderr",
          "output_type": "stream",
          "text": [
            "\u001b[34m\u001b[1mwandb\u001b[0m:   1 of 1 files downloaded.  \n"
          ]
        },
        {
          "name": "stdout",
          "output_type": "stream",
          "text": [
            "Loaded 5 episodes from v105\n",
            "Downloading artifact version: mahin-sank-iit-kgp/alpha-racer-data/alpha_racer_multi_mpc_combined:v106\n"
          ]
        },
        {
          "name": "stderr",
          "output_type": "stream",
          "text": [
            "\u001b[34m\u001b[1mwandb\u001b[0m:   1 of 1 files downloaded.  \n"
          ]
        },
        {
          "name": "stdout",
          "output_type": "stream",
          "text": [
            "Loaded 5 episodes from v106\n",
            "Downloading artifact version: mahin-sank-iit-kgp/alpha-racer-data/alpha_racer_multi_mpc_combined:v107\n"
          ]
        },
        {
          "name": "stderr",
          "output_type": "stream",
          "text": [
            "\u001b[34m\u001b[1mwandb\u001b[0m:   1 of 1 files downloaded.  \n"
          ]
        },
        {
          "name": "stdout",
          "output_type": "stream",
          "text": [
            "Loaded 5 episodes from v107\n",
            "Downloading artifact version: mahin-sank-iit-kgp/alpha-racer-data/alpha_racer_multi_mpc_combined:v108\n"
          ]
        },
        {
          "name": "stderr",
          "output_type": "stream",
          "text": [
            "\u001b[34m\u001b[1mwandb\u001b[0m:   1 of 1 files downloaded.  \n"
          ]
        },
        {
          "name": "stdout",
          "output_type": "stream",
          "text": [
            "Loaded 5 episodes from v108\n",
            "Downloading artifact version: mahin-sank-iit-kgp/alpha-racer-data/alpha_racer_multi_mpc_combined:v109\n"
          ]
        },
        {
          "name": "stderr",
          "output_type": "stream",
          "text": [
            "\u001b[34m\u001b[1mwandb\u001b[0m:   1 of 1 files downloaded.  \n"
          ]
        },
        {
          "name": "stdout",
          "output_type": "stream",
          "text": [
            "Loaded 5 episodes from v109\n",
            "Downloading artifact version: mahin-sank-iit-kgp/alpha-racer-data/alpha_racer_multi_mpc_combined:v110\n"
          ]
        },
        {
          "name": "stderr",
          "output_type": "stream",
          "text": [
            "\u001b[34m\u001b[1mwandb\u001b[0m:   1 of 1 files downloaded.  \n"
          ]
        },
        {
          "name": "stdout",
          "output_type": "stream",
          "text": [
            "Loaded 5 episodes from v110\n",
            "Downloading artifact version: mahin-sank-iit-kgp/alpha-racer-data/alpha_racer_multi_mpc_combined:v111\n"
          ]
        },
        {
          "name": "stderr",
          "output_type": "stream",
          "text": [
            "\u001b[34m\u001b[1mwandb\u001b[0m:   1 of 1 files downloaded.  \n"
          ]
        },
        {
          "name": "stdout",
          "output_type": "stream",
          "text": [
            "Loaded 5 episodes from v111\n",
            "Downloading artifact version: mahin-sank-iit-kgp/alpha-racer-data/alpha_racer_multi_mpc_combined:v112\n"
          ]
        },
        {
          "name": "stderr",
          "output_type": "stream",
          "text": [
            "\u001b[34m\u001b[1mwandb\u001b[0m:   1 of 1 files downloaded.  \n"
          ]
        },
        {
          "name": "stdout",
          "output_type": "stream",
          "text": [
            "Loaded 6 episodes from v112\n",
            "Downloading artifact version: mahin-sank-iit-kgp/alpha-racer-data/alpha_racer_multi_mpc_combined:v113\n"
          ]
        },
        {
          "name": "stderr",
          "output_type": "stream",
          "text": [
            "\u001b[34m\u001b[1mwandb\u001b[0m:   1 of 1 files downloaded.  \n"
          ]
        },
        {
          "name": "stdout",
          "output_type": "stream",
          "text": [
            "Loaded 6 episodes from v113\n",
            "Downloading artifact version: mahin-sank-iit-kgp/alpha-racer-data/alpha_racer_multi_mpc_combined:v114\n"
          ]
        },
        {
          "name": "stderr",
          "output_type": "stream",
          "text": [
            "\u001b[34m\u001b[1mwandb\u001b[0m:   1 of 1 files downloaded.  \n"
          ]
        },
        {
          "name": "stdout",
          "output_type": "stream",
          "text": [
            "Loaded 6 episodes from v114\n",
            "Downloading artifact version: mahin-sank-iit-kgp/alpha-racer-data/alpha_racer_multi_mpc_combined:v115\n"
          ]
        },
        {
          "name": "stderr",
          "output_type": "stream",
          "text": [
            "\u001b[34m\u001b[1mwandb\u001b[0m:   1 of 1 files downloaded.  \n"
          ]
        },
        {
          "name": "stdout",
          "output_type": "stream",
          "text": [
            "Loaded 6 episodes from v115\n",
            "Downloading artifact version: mahin-sank-iit-kgp/alpha-racer-data/alpha_racer_multi_mpc_combined:v116\n"
          ]
        },
        {
          "name": "stderr",
          "output_type": "stream",
          "text": [
            "\u001b[34m\u001b[1mwandb\u001b[0m:   1 of 1 files downloaded.  \n"
          ]
        },
        {
          "name": "stdout",
          "output_type": "stream",
          "text": [
            "Loaded 6 episodes from v116\n",
            "Downloading artifact version: mahin-sank-iit-kgp/alpha-racer-data/alpha_racer_multi_mpc_combined:v117\n"
          ]
        },
        {
          "name": "stderr",
          "output_type": "stream",
          "text": [
            "\u001b[34m\u001b[1mwandb\u001b[0m:   1 of 1 files downloaded.  \n"
          ]
        },
        {
          "name": "stdout",
          "output_type": "stream",
          "text": [
            "Loaded 6 episodes from v117\n",
            "Downloading artifact version: mahin-sank-iit-kgp/alpha-racer-data/alpha_racer_multi_mpc_combined:v118\n"
          ]
        },
        {
          "name": "stderr",
          "output_type": "stream",
          "text": [
            "\u001b[34m\u001b[1mwandb\u001b[0m:   1 of 1 files downloaded.  \n"
          ]
        },
        {
          "name": "stdout",
          "output_type": "stream",
          "text": [
            "Loaded 6 episodes from v118\n",
            "Downloading artifact version: mahin-sank-iit-kgp/alpha-racer-data/alpha_racer_multi_mpc_combined:v119\n"
          ]
        },
        {
          "name": "stderr",
          "output_type": "stream",
          "text": [
            "\u001b[34m\u001b[1mwandb\u001b[0m:   1 of 1 files downloaded.  \n"
          ]
        },
        {
          "name": "stdout",
          "output_type": "stream",
          "text": [
            "Loaded 6 episodes from v119\n",
            "Downloading artifact version: mahin-sank-iit-kgp/alpha-racer-data/alpha_racer_multi_mpc_combined:v120\n"
          ]
        },
        {
          "name": "stderr",
          "output_type": "stream",
          "text": [
            "\u001b[34m\u001b[1mwandb\u001b[0m:   1 of 1 files downloaded.  \n"
          ]
        },
        {
          "name": "stdout",
          "output_type": "stream",
          "text": [
            "Loaded 6 episodes from v120\n",
            "Downloading artifact version: mahin-sank-iit-kgp/alpha-racer-data/alpha_racer_multi_mpc_combined:v121\n"
          ]
        },
        {
          "name": "stderr",
          "output_type": "stream",
          "text": [
            "\u001b[34m\u001b[1mwandb\u001b[0m:   1 of 1 files downloaded.  \n"
          ]
        },
        {
          "name": "stdout",
          "output_type": "stream",
          "text": [
            "Loaded 6 episodes from v121\n",
            "Downloading artifact version: mahin-sank-iit-kgp/alpha-racer-data/alpha_racer_multi_mpc_combined:v122\n"
          ]
        },
        {
          "name": "stderr",
          "output_type": "stream",
          "text": [
            "\u001b[34m\u001b[1mwandb\u001b[0m:   1 of 1 files downloaded.  \n"
          ]
        },
        {
          "name": "stdout",
          "output_type": "stream",
          "text": [
            "Loaded 7 episodes from v122\n",
            "Downloading artifact version: mahin-sank-iit-kgp/alpha-racer-data/alpha_racer_multi_mpc_combined:v123\n"
          ]
        },
        {
          "name": "stderr",
          "output_type": "stream",
          "text": [
            "\u001b[34m\u001b[1mwandb\u001b[0m:   1 of 1 files downloaded.  \n"
          ]
        },
        {
          "name": "stdout",
          "output_type": "stream",
          "text": [
            "Loaded 7 episodes from v123\n",
            "Downloading artifact version: mahin-sank-iit-kgp/alpha-racer-data/alpha_racer_multi_mpc_combined:v124\n"
          ]
        },
        {
          "name": "stderr",
          "output_type": "stream",
          "text": [
            "\u001b[34m\u001b[1mwandb\u001b[0m:   1 of 1 files downloaded.  \n"
          ]
        },
        {
          "name": "stdout",
          "output_type": "stream",
          "text": [
            "Loaded 7 episodes from v124\n",
            "Downloading artifact version: mahin-sank-iit-kgp/alpha-racer-data/alpha_racer_multi_mpc_combined:v125\n"
          ]
        },
        {
          "name": "stderr",
          "output_type": "stream",
          "text": [
            "\u001b[34m\u001b[1mwandb\u001b[0m:   1 of 1 files downloaded.  \n"
          ]
        },
        {
          "name": "stdout",
          "output_type": "stream",
          "text": [
            "Loaded 7 episodes from v125\n",
            "Downloading artifact version: mahin-sank-iit-kgp/alpha-racer-data/alpha_racer_multi_mpc_combined:v126\n"
          ]
        },
        {
          "name": "stderr",
          "output_type": "stream",
          "text": [
            "\u001b[34m\u001b[1mwandb\u001b[0m:   1 of 1 files downloaded.  \n"
          ]
        },
        {
          "name": "stdout",
          "output_type": "stream",
          "text": [
            "Loaded 7 episodes from v126\n",
            "Downloading artifact version: mahin-sank-iit-kgp/alpha-racer-data/alpha_racer_multi_mpc_combined:v127\n"
          ]
        },
        {
          "name": "stderr",
          "output_type": "stream",
          "text": [
            "\u001b[34m\u001b[1mwandb\u001b[0m:   1 of 1 files downloaded.  \n"
          ]
        },
        {
          "name": "stdout",
          "output_type": "stream",
          "text": [
            "Loaded 7 episodes from v127\n",
            "Downloading artifact version: mahin-sank-iit-kgp/alpha-racer-data/alpha_racer_multi_mpc_combined:v128\n"
          ]
        },
        {
          "name": "stderr",
          "output_type": "stream",
          "text": [
            "\u001b[34m\u001b[1mwandb\u001b[0m:   1 of 1 files downloaded.  \n"
          ]
        },
        {
          "name": "stdout",
          "output_type": "stream",
          "text": [
            "Loaded 7 episodes from v128\n",
            "Downloading artifact version: mahin-sank-iit-kgp/alpha-racer-data/alpha_racer_multi_mpc_combined:v129\n"
          ]
        },
        {
          "name": "stderr",
          "output_type": "stream",
          "text": [
            "\u001b[34m\u001b[1mwandb\u001b[0m:   1 of 1 files downloaded.  \n"
          ]
        },
        {
          "name": "stdout",
          "output_type": "stream",
          "text": [
            "Loaded 7 episodes from v129\n",
            "Downloading artifact version: mahin-sank-iit-kgp/alpha-racer-data/alpha_racer_multi_mpc_combined:v130\n"
          ]
        },
        {
          "name": "stderr",
          "output_type": "stream",
          "text": [
            "\u001b[34m\u001b[1mwandb\u001b[0m:   1 of 1 files downloaded.  \n"
          ]
        },
        {
          "name": "stdout",
          "output_type": "stream",
          "text": [
            "Loaded 7 episodes from v130\n",
            "Downloading artifact version: mahin-sank-iit-kgp/alpha-racer-data/alpha_racer_multi_mpc_combined:v131\n"
          ]
        },
        {
          "name": "stderr",
          "output_type": "stream",
          "text": [
            "\u001b[34m\u001b[1mwandb\u001b[0m:   1 of 1 files downloaded.  \n"
          ]
        },
        {
          "name": "stdout",
          "output_type": "stream",
          "text": [
            "Loaded 7 episodes from v131\n",
            "Downloading artifact version: mahin-sank-iit-kgp/alpha-racer-data/alpha_racer_multi_mpc_combined:v132\n"
          ]
        },
        {
          "name": "stderr",
          "output_type": "stream",
          "text": [
            "\u001b[34m\u001b[1mwandb\u001b[0m:   1 of 1 files downloaded.  \n"
          ]
        },
        {
          "name": "stdout",
          "output_type": "stream",
          "text": [
            "Loaded 8 episodes from v132\n",
            "Downloading artifact version: mahin-sank-iit-kgp/alpha-racer-data/alpha_racer_multi_mpc_combined:v133\n"
          ]
        },
        {
          "name": "stderr",
          "output_type": "stream",
          "text": [
            "\u001b[34m\u001b[1mwandb\u001b[0m:   1 of 1 files downloaded.  \n"
          ]
        },
        {
          "name": "stdout",
          "output_type": "stream",
          "text": [
            "Loaded 8 episodes from v133\n",
            "Downloading artifact version: mahin-sank-iit-kgp/alpha-racer-data/alpha_racer_multi_mpc_combined:v134\n"
          ]
        },
        {
          "name": "stderr",
          "output_type": "stream",
          "text": [
            "\u001b[34m\u001b[1mwandb\u001b[0m:   1 of 1 files downloaded.  \n"
          ]
        },
        {
          "name": "stdout",
          "output_type": "stream",
          "text": [
            "Loaded 8 episodes from v134\n",
            "Downloading artifact version: mahin-sank-iit-kgp/alpha-racer-data/alpha_racer_multi_mpc_combined:v135\n"
          ]
        },
        {
          "name": "stderr",
          "output_type": "stream",
          "text": [
            "\u001b[34m\u001b[1mwandb\u001b[0m:   1 of 1 files downloaded.  \n"
          ]
        },
        {
          "name": "stdout",
          "output_type": "stream",
          "text": [
            "Loaded 8 episodes from v135\n",
            "Downloading artifact version: mahin-sank-iit-kgp/alpha-racer-data/alpha_racer_multi_mpc_combined:v136\n"
          ]
        },
        {
          "name": "stderr",
          "output_type": "stream",
          "text": [
            "\u001b[34m\u001b[1mwandb\u001b[0m:   1 of 1 files downloaded.  \n"
          ]
        },
        {
          "name": "stdout",
          "output_type": "stream",
          "text": [
            "Loaded 8 episodes from v136\n",
            "Downloading artifact version: mahin-sank-iit-kgp/alpha-racer-data/alpha_racer_multi_mpc_combined:v137\n"
          ]
        },
        {
          "name": "stderr",
          "output_type": "stream",
          "text": [
            "\u001b[34m\u001b[1mwandb\u001b[0m:   1 of 1 files downloaded.  \n"
          ]
        },
        {
          "name": "stdout",
          "output_type": "stream",
          "text": [
            "Loaded 8 episodes from v137\n",
            "Downloading artifact version: mahin-sank-iit-kgp/alpha-racer-data/alpha_racer_multi_mpc_combined:v138\n"
          ]
        },
        {
          "name": "stderr",
          "output_type": "stream",
          "text": [
            "\u001b[34m\u001b[1mwandb\u001b[0m:   1 of 1 files downloaded.  \n"
          ]
        },
        {
          "name": "stdout",
          "output_type": "stream",
          "text": [
            "Loaded 8 episodes from v138\n",
            "Downloading artifact version: mahin-sank-iit-kgp/alpha-racer-data/alpha_racer_multi_mpc_combined:v139\n"
          ]
        },
        {
          "name": "stderr",
          "output_type": "stream",
          "text": [
            "\u001b[34m\u001b[1mwandb\u001b[0m:   1 of 1 files downloaded.  \n"
          ]
        },
        {
          "name": "stdout",
          "output_type": "stream",
          "text": [
            "Loaded 8 episodes from v139\n",
            "Downloading artifact version: mahin-sank-iit-kgp/alpha-racer-data/alpha_racer_multi_mpc_combined:v140\n"
          ]
        },
        {
          "name": "stderr",
          "output_type": "stream",
          "text": [
            "\u001b[34m\u001b[1mwandb\u001b[0m:   1 of 1 files downloaded.  \n"
          ]
        },
        {
          "name": "stdout",
          "output_type": "stream",
          "text": [
            "Loaded 8 episodes from v140\n",
            "Downloading artifact version: mahin-sank-iit-kgp/alpha-racer-data/alpha_racer_multi_mpc_combined:v141\n"
          ]
        },
        {
          "name": "stderr",
          "output_type": "stream",
          "text": [
            "\u001b[34m\u001b[1mwandb\u001b[0m:   1 of 1 files downloaded.  \n"
          ]
        },
        {
          "name": "stdout",
          "output_type": "stream",
          "text": [
            "Loaded 8 episodes from v141\n",
            "Downloading artifact version: mahin-sank-iit-kgp/alpha-racer-data/alpha_racer_multi_mpc_combined:v142\n"
          ]
        },
        {
          "name": "stderr",
          "output_type": "stream",
          "text": [
            "\u001b[34m\u001b[1mwandb\u001b[0m:   1 of 1 files downloaded.  \n"
          ]
        },
        {
          "name": "stdout",
          "output_type": "stream",
          "text": [
            "Loaded 9 episodes from v142\n",
            "Downloading artifact version: mahin-sank-iit-kgp/alpha-racer-data/alpha_racer_multi_mpc_combined:v143\n"
          ]
        },
        {
          "name": "stderr",
          "output_type": "stream",
          "text": [
            "\u001b[34m\u001b[1mwandb\u001b[0m:   1 of 1 files downloaded.  \n"
          ]
        },
        {
          "name": "stdout",
          "output_type": "stream",
          "text": [
            "Loaded 9 episodes from v143\n",
            "Downloading artifact version: mahin-sank-iit-kgp/alpha-racer-data/alpha_racer_multi_mpc_combined:v144\n"
          ]
        },
        {
          "name": "stderr",
          "output_type": "stream",
          "text": [
            "\u001b[34m\u001b[1mwandb\u001b[0m:   1 of 1 files downloaded.  \n"
          ]
        },
        {
          "name": "stdout",
          "output_type": "stream",
          "text": [
            "Loaded 9 episodes from v144\n",
            "Downloading artifact version: mahin-sank-iit-kgp/alpha-racer-data/alpha_racer_multi_mpc_combined:v145\n"
          ]
        },
        {
          "name": "stderr",
          "output_type": "stream",
          "text": [
            "\u001b[34m\u001b[1mwandb\u001b[0m:   1 of 1 files downloaded.  \n"
          ]
        },
        {
          "name": "stdout",
          "output_type": "stream",
          "text": [
            "Loaded 9 episodes from v145\n",
            "Downloading artifact version: mahin-sank-iit-kgp/alpha-racer-data/alpha_racer_multi_mpc_combined:v146\n"
          ]
        },
        {
          "name": "stderr",
          "output_type": "stream",
          "text": [
            "\u001b[34m\u001b[1mwandb\u001b[0m:   1 of 1 files downloaded.  \n"
          ]
        },
        {
          "name": "stdout",
          "output_type": "stream",
          "text": [
            "Loaded 9 episodes from v146\n",
            "Downloading artifact version: mahin-sank-iit-kgp/alpha-racer-data/alpha_racer_multi_mpc_combined:v147\n"
          ]
        },
        {
          "name": "stderr",
          "output_type": "stream",
          "text": [
            "\u001b[34m\u001b[1mwandb\u001b[0m:   1 of 1 files downloaded.  \n"
          ]
        },
        {
          "name": "stdout",
          "output_type": "stream",
          "text": [
            "Loaded 9 episodes from v147\n",
            "Downloading artifact version: mahin-sank-iit-kgp/alpha-racer-data/alpha_racer_multi_mpc_combined:v148\n"
          ]
        },
        {
          "name": "stderr",
          "output_type": "stream",
          "text": [
            "\u001b[34m\u001b[1mwandb\u001b[0m:   1 of 1 files downloaded.  \n"
          ]
        },
        {
          "name": "stdout",
          "output_type": "stream",
          "text": [
            "Loaded 9 episodes from v148\n",
            "Downloading artifact version: mahin-sank-iit-kgp/alpha-racer-data/alpha_racer_multi_mpc_combined:v149\n"
          ]
        },
        {
          "name": "stderr",
          "output_type": "stream",
          "text": [
            "\u001b[34m\u001b[1mwandb\u001b[0m:   1 of 1 files downloaded.  \n"
          ]
        },
        {
          "name": "stdout",
          "output_type": "stream",
          "text": [
            "Loaded 9 episodes from v149\n",
            "Downloading artifact version: mahin-sank-iit-kgp/alpha-racer-data/alpha_racer_multi_mpc_combined:v150\n"
          ]
        },
        {
          "name": "stderr",
          "output_type": "stream",
          "text": [
            "\u001b[34m\u001b[1mwandb\u001b[0m:   1 of 1 files downloaded.  \n"
          ]
        },
        {
          "name": "stdout",
          "output_type": "stream",
          "text": [
            "Loaded 9 episodes from v150\n",
            "Downloading artifact version: mahin-sank-iit-kgp/alpha-racer-data/alpha_racer_multi_mpc_combined:v151\n"
          ]
        },
        {
          "name": "stderr",
          "output_type": "stream",
          "text": [
            "\u001b[34m\u001b[1mwandb\u001b[0m:   1 of 1 files downloaded.  \n"
          ]
        },
        {
          "name": "stdout",
          "output_type": "stream",
          "text": [
            "Loaded 9 episodes from v151\n",
            "Downloading artifact version: mahin-sank-iit-kgp/alpha-racer-data/alpha_racer_multi_mpc_combined:v152\n"
          ]
        },
        {
          "name": "stderr",
          "output_type": "stream",
          "text": [
            "\u001b[34m\u001b[1mwandb\u001b[0m:   1 of 1 files downloaded.  \n"
          ]
        },
        {
          "name": "stdout",
          "output_type": "stream",
          "text": [
            "Loaded 10 episodes from v152\n",
            "Downloading artifact version: mahin-sank-iit-kgp/alpha-racer-data/alpha_racer_multi_mpc_combined:v153\n"
          ]
        },
        {
          "name": "stderr",
          "output_type": "stream",
          "text": [
            "\u001b[34m\u001b[1mwandb\u001b[0m:   1 of 1 files downloaded.  \n"
          ]
        },
        {
          "name": "stdout",
          "output_type": "stream",
          "text": [
            "Loaded 10 episodes from v153\n",
            "Downloading artifact version: mahin-sank-iit-kgp/alpha-racer-data/alpha_racer_multi_mpc_combined:v154\n"
          ]
        },
        {
          "name": "stderr",
          "output_type": "stream",
          "text": [
            "\u001b[34m\u001b[1mwandb\u001b[0m:   1 of 1 files downloaded.  \n"
          ]
        },
        {
          "name": "stdout",
          "output_type": "stream",
          "text": [
            "Loaded 10 episodes from v154\n",
            "Downloading artifact version: mahin-sank-iit-kgp/alpha-racer-data/alpha_racer_multi_mpc_combined:v155\n"
          ]
        },
        {
          "name": "stderr",
          "output_type": "stream",
          "text": [
            "\u001b[34m\u001b[1mwandb\u001b[0m:   1 of 1 files downloaded.  \n"
          ]
        },
        {
          "name": "stdout",
          "output_type": "stream",
          "text": [
            "Loaded 10 episodes from v155\n",
            "Downloading artifact version: mahin-sank-iit-kgp/alpha-racer-data/alpha_racer_multi_mpc_combined:v156\n"
          ]
        },
        {
          "name": "stderr",
          "output_type": "stream",
          "text": [
            "\u001b[34m\u001b[1mwandb\u001b[0m:   1 of 1 files downloaded.  \n"
          ]
        },
        {
          "name": "stdout",
          "output_type": "stream",
          "text": [
            "Loaded 10 episodes from v156\n",
            "Downloading artifact version: mahin-sank-iit-kgp/alpha-racer-data/alpha_racer_multi_mpc_combined:v157\n"
          ]
        },
        {
          "name": "stderr",
          "output_type": "stream",
          "text": [
            "\u001b[34m\u001b[1mwandb\u001b[0m:   1 of 1 files downloaded.  \n"
          ]
        },
        {
          "name": "stdout",
          "output_type": "stream",
          "text": [
            "Loaded 10 episodes from v157\n",
            "Downloading artifact version: mahin-sank-iit-kgp/alpha-racer-data/alpha_racer_multi_mpc_combined:v158\n"
          ]
        },
        {
          "name": "stderr",
          "output_type": "stream",
          "text": [
            "\u001b[34m\u001b[1mwandb\u001b[0m:   1 of 1 files downloaded.  \n"
          ]
        },
        {
          "name": "stdout",
          "output_type": "stream",
          "text": [
            "Loaded 10 episodes from v158\n",
            "Downloading artifact version: mahin-sank-iit-kgp/alpha-racer-data/alpha_racer_multi_mpc_combined:v159\n"
          ]
        },
        {
          "name": "stderr",
          "output_type": "stream",
          "text": [
            "\u001b[34m\u001b[1mwandb\u001b[0m:   1 of 1 files downloaded.  \n"
          ]
        },
        {
          "name": "stdout",
          "output_type": "stream",
          "text": [
            "Loaded 10 episodes from v159\n",
            "Downloading artifact version: mahin-sank-iit-kgp/alpha-racer-data/alpha_racer_multi_mpc_combined:v160\n"
          ]
        },
        {
          "name": "stderr",
          "output_type": "stream",
          "text": [
            "\u001b[34m\u001b[1mwandb\u001b[0m:   1 of 1 files downloaded.  \n"
          ]
        },
        {
          "name": "stdout",
          "output_type": "stream",
          "text": [
            "Loaded 10 episodes from v160\n",
            "Downloading artifact version: mahin-sank-iit-kgp/alpha-racer-data/alpha_racer_multi_mpc_combined:v161\n"
          ]
        },
        {
          "name": "stderr",
          "output_type": "stream",
          "text": [
            "\u001b[34m\u001b[1mwandb\u001b[0m:   1 of 1 files downloaded.  \n"
          ]
        },
        {
          "name": "stdout",
          "output_type": "stream",
          "text": [
            "Loaded 10 episodes from v161\n",
            "Downloading artifact version: mahin-sank-iit-kgp/alpha-racer-data/alpha_racer_multi_mpc_combined:v162\n"
          ]
        },
        {
          "name": "stderr",
          "output_type": "stream",
          "text": [
            "\u001b[34m\u001b[1mwandb\u001b[0m:   1 of 1 files downloaded.  \n"
          ]
        },
        {
          "name": "stdout",
          "output_type": "stream",
          "text": [
            "Loaded 11 episodes from v162\n",
            "Downloading artifact version: mahin-sank-iit-kgp/alpha-racer-data/alpha_racer_multi_mpc_combined:v163\n"
          ]
        },
        {
          "name": "stderr",
          "output_type": "stream",
          "text": [
            "\u001b[34m\u001b[1mwandb\u001b[0m:   1 of 1 files downloaded.  \n"
          ]
        },
        {
          "name": "stdout",
          "output_type": "stream",
          "text": [
            "Loaded 11 episodes from v163\n",
            "Downloading artifact version: mahin-sank-iit-kgp/alpha-racer-data/alpha_racer_multi_mpc_combined:v164\n"
          ]
        },
        {
          "name": "stderr",
          "output_type": "stream",
          "text": [
            "\u001b[34m\u001b[1mwandb\u001b[0m:   1 of 1 files downloaded.  \n"
          ]
        },
        {
          "name": "stdout",
          "output_type": "stream",
          "text": [
            "Loaded 11 episodes from v164\n",
            "Downloading artifact version: mahin-sank-iit-kgp/alpha-racer-data/alpha_racer_multi_mpc_combined:v165\n"
          ]
        },
        {
          "name": "stderr",
          "output_type": "stream",
          "text": [
            "\u001b[34m\u001b[1mwandb\u001b[0m:   1 of 1 files downloaded.  \n"
          ]
        },
        {
          "name": "stdout",
          "output_type": "stream",
          "text": [
            "Loaded 11 episodes from v165\n",
            "Downloading artifact version: mahin-sank-iit-kgp/alpha-racer-data/alpha_racer_multi_mpc_combined:v166\n"
          ]
        },
        {
          "name": "stderr",
          "output_type": "stream",
          "text": [
            "\u001b[34m\u001b[1mwandb\u001b[0m:   1 of 1 files downloaded.  \n"
          ]
        },
        {
          "name": "stdout",
          "output_type": "stream",
          "text": [
            "Loaded 11 episodes from v166\n",
            "Downloading artifact version: mahin-sank-iit-kgp/alpha-racer-data/alpha_racer_multi_mpc_combined:v167\n"
          ]
        },
        {
          "name": "stderr",
          "output_type": "stream",
          "text": [
            "\u001b[34m\u001b[1mwandb\u001b[0m:   1 of 1 files downloaded.  \n"
          ]
        },
        {
          "name": "stdout",
          "output_type": "stream",
          "text": [
            "Loaded 11 episodes from v167\n",
            "Downloading artifact version: mahin-sank-iit-kgp/alpha-racer-data/alpha_racer_multi_mpc_combined:v168\n"
          ]
        },
        {
          "name": "stderr",
          "output_type": "stream",
          "text": [
            "\u001b[34m\u001b[1mwandb\u001b[0m:   1 of 1 files downloaded.  \n"
          ]
        },
        {
          "name": "stdout",
          "output_type": "stream",
          "text": [
            "Loaded 11 episodes from v168\n",
            "Downloading artifact version: mahin-sank-iit-kgp/alpha-racer-data/alpha_racer_multi_mpc_combined:v169\n"
          ]
        },
        {
          "name": "stderr",
          "output_type": "stream",
          "text": [
            "\u001b[34m\u001b[1mwandb\u001b[0m:   1 of 1 files downloaded.  \n"
          ]
        },
        {
          "name": "stdout",
          "output_type": "stream",
          "text": [
            "Loaded 11 episodes from v169\n",
            "Downloading artifact version: mahin-sank-iit-kgp/alpha-racer-data/alpha_racer_multi_mpc_combined:v170\n"
          ]
        },
        {
          "name": "stderr",
          "output_type": "stream",
          "text": [
            "\u001b[34m\u001b[1mwandb\u001b[0m:   1 of 1 files downloaded.  \n"
          ]
        },
        {
          "name": "stdout",
          "output_type": "stream",
          "text": [
            "Loaded 11 episodes from v170\n",
            "Downloading artifact version: mahin-sank-iit-kgp/alpha-racer-data/alpha_racer_multi_mpc_combined:v171\n"
          ]
        },
        {
          "name": "stderr",
          "output_type": "stream",
          "text": [
            "\u001b[34m\u001b[1mwandb\u001b[0m:   1 of 1 files downloaded.  \n"
          ]
        },
        {
          "name": "stdout",
          "output_type": "stream",
          "text": [
            "Loaded 11 episodes from v171\n",
            "Downloading artifact version: mahin-sank-iit-kgp/alpha-racer-data/alpha_racer_multi_mpc_combined:v172\n"
          ]
        },
        {
          "name": "stderr",
          "output_type": "stream",
          "text": [
            "\u001b[34m\u001b[1mwandb\u001b[0m:   1 of 1 files downloaded.  \n"
          ]
        },
        {
          "name": "stdout",
          "output_type": "stream",
          "text": [
            "Loaded 12 episodes from v172\n",
            "Downloading artifact version: mahin-sank-iit-kgp/alpha-racer-data/alpha_racer_multi_mpc_combined:v173\n"
          ]
        },
        {
          "name": "stderr",
          "output_type": "stream",
          "text": [
            "\u001b[34m\u001b[1mwandb\u001b[0m:   1 of 1 files downloaded.  \n"
          ]
        },
        {
          "name": "stdout",
          "output_type": "stream",
          "text": [
            "Loaded 12 episodes from v173\n",
            "Downloading artifact version: mahin-sank-iit-kgp/alpha-racer-data/alpha_racer_multi_mpc_combined:v174\n"
          ]
        },
        {
          "name": "stderr",
          "output_type": "stream",
          "text": [
            "\u001b[34m\u001b[1mwandb\u001b[0m:   1 of 1 files downloaded.  \n"
          ]
        },
        {
          "name": "stdout",
          "output_type": "stream",
          "text": [
            "Loaded 12 episodes from v174\n",
            "Downloading artifact version: mahin-sank-iit-kgp/alpha-racer-data/alpha_racer_multi_mpc_combined:v175\n"
          ]
        },
        {
          "name": "stderr",
          "output_type": "stream",
          "text": [
            "\u001b[34m\u001b[1mwandb\u001b[0m:   1 of 1 files downloaded.  \n"
          ]
        },
        {
          "name": "stdout",
          "output_type": "stream",
          "text": [
            "Loaded 12 episodes from v175\n",
            "Downloading artifact version: mahin-sank-iit-kgp/alpha-racer-data/alpha_racer_multi_mpc_combined:v176\n"
          ]
        },
        {
          "name": "stderr",
          "output_type": "stream",
          "text": [
            "\u001b[34m\u001b[1mwandb\u001b[0m:   1 of 1 files downloaded.  \n"
          ]
        },
        {
          "name": "stdout",
          "output_type": "stream",
          "text": [
            "Loaded 12 episodes from v176\n",
            "Downloading artifact version: mahin-sank-iit-kgp/alpha-racer-data/alpha_racer_multi_mpc_combined:v177\n"
          ]
        },
        {
          "name": "stderr",
          "output_type": "stream",
          "text": [
            "\u001b[34m\u001b[1mwandb\u001b[0m:   1 of 1 files downloaded.  \n"
          ]
        },
        {
          "name": "stdout",
          "output_type": "stream",
          "text": [
            "Loaded 12 episodes from v177\n",
            "Downloading artifact version: mahin-sank-iit-kgp/alpha-racer-data/alpha_racer_multi_mpc_combined:v178\n"
          ]
        },
        {
          "name": "stderr",
          "output_type": "stream",
          "text": [
            "\u001b[34m\u001b[1mwandb\u001b[0m:   1 of 1 files downloaded.  \n"
          ]
        },
        {
          "name": "stdout",
          "output_type": "stream",
          "text": [
            "Loaded 12 episodes from v178\n",
            "Downloading artifact version: mahin-sank-iit-kgp/alpha-racer-data/alpha_racer_multi_mpc_combined:v179\n"
          ]
        },
        {
          "name": "stderr",
          "output_type": "stream",
          "text": [
            "\u001b[34m\u001b[1mwandb\u001b[0m:   1 of 1 files downloaded.  \n"
          ]
        },
        {
          "name": "stdout",
          "output_type": "stream",
          "text": [
            "Loaded 12 episodes from v179\n",
            "Downloading artifact version: mahin-sank-iit-kgp/alpha-racer-data/alpha_racer_multi_mpc_combined:v180\n"
          ]
        },
        {
          "name": "stderr",
          "output_type": "stream",
          "text": [
            "\u001b[34m\u001b[1mwandb\u001b[0m:   1 of 1 files downloaded.  \n"
          ]
        },
        {
          "name": "stdout",
          "output_type": "stream",
          "text": [
            "Loaded 12 episodes from v180\n",
            "Downloading artifact version: mahin-sank-iit-kgp/alpha-racer-data/alpha_racer_multi_mpc_combined:v181\n"
          ]
        },
        {
          "name": "stderr",
          "output_type": "stream",
          "text": [
            "\u001b[34m\u001b[1mwandb\u001b[0m:   1 of 1 files downloaded.  \n"
          ]
        },
        {
          "name": "stdout",
          "output_type": "stream",
          "text": [
            "Loaded 13 episodes from v181\n",
            "Downloading artifact version: mahin-sank-iit-kgp/alpha-racer-data/alpha_racer_multi_mpc_combined:v182\n"
          ]
        },
        {
          "name": "stderr",
          "output_type": "stream",
          "text": [
            "\u001b[34m\u001b[1mwandb\u001b[0m:   1 of 1 files downloaded.  \n"
          ]
        },
        {
          "name": "stdout",
          "output_type": "stream",
          "text": [
            "Loaded 12 episodes from v182\n",
            "Downloading artifact version: mahin-sank-iit-kgp/alpha-racer-data/alpha_racer_multi_mpc_combined:v183\n"
          ]
        },
        {
          "name": "stderr",
          "output_type": "stream",
          "text": [
            "\u001b[34m\u001b[1mwandb\u001b[0m:   1 of 1 files downloaded.  \n"
          ]
        },
        {
          "name": "stdout",
          "output_type": "stream",
          "text": [
            "Loaded 13 episodes from v183\n",
            "Downloading artifact version: mahin-sank-iit-kgp/alpha-racer-data/alpha_racer_multi_mpc_combined:v184\n"
          ]
        },
        {
          "name": "stderr",
          "output_type": "stream",
          "text": [
            "\u001b[34m\u001b[1mwandb\u001b[0m:   1 of 1 files downloaded.  \n"
          ]
        },
        {
          "name": "stdout",
          "output_type": "stream",
          "text": [
            "Loaded 13 episodes from v184\n",
            "Downloading artifact version: mahin-sank-iit-kgp/alpha-racer-data/alpha_racer_multi_mpc_combined:v185\n"
          ]
        },
        {
          "name": "stderr",
          "output_type": "stream",
          "text": [
            "\u001b[34m\u001b[1mwandb\u001b[0m:   1 of 1 files downloaded.  \n"
          ]
        },
        {
          "name": "stdout",
          "output_type": "stream",
          "text": [
            "Loaded 13 episodes from v185\n",
            "Downloading artifact version: mahin-sank-iit-kgp/alpha-racer-data/alpha_racer_multi_mpc_combined:v186\n"
          ]
        },
        {
          "name": "stderr",
          "output_type": "stream",
          "text": [
            "\u001b[34m\u001b[1mwandb\u001b[0m:   1 of 1 files downloaded.  \n"
          ]
        },
        {
          "name": "stdout",
          "output_type": "stream",
          "text": [
            "Loaded 13 episodes from v186\n",
            "Downloading artifact version: mahin-sank-iit-kgp/alpha-racer-data/alpha_racer_multi_mpc_combined:v187\n"
          ]
        },
        {
          "name": "stderr",
          "output_type": "stream",
          "text": [
            "\u001b[34m\u001b[1mwandb\u001b[0m:   1 of 1 files downloaded.  \n"
          ]
        },
        {
          "name": "stdout",
          "output_type": "stream",
          "text": [
            "Loaded 13 episodes from v187\n",
            "Downloading artifact version: mahin-sank-iit-kgp/alpha-racer-data/alpha_racer_multi_mpc_combined:v188\n"
          ]
        },
        {
          "name": "stderr",
          "output_type": "stream",
          "text": [
            "\u001b[34m\u001b[1mwandb\u001b[0m:   1 of 1 files downloaded.  \n"
          ]
        },
        {
          "name": "stdout",
          "output_type": "stream",
          "text": [
            "Loaded 13 episodes from v188\n",
            "Downloading artifact version: mahin-sank-iit-kgp/alpha-racer-data/alpha_racer_multi_mpc_combined:v189\n"
          ]
        },
        {
          "name": "stderr",
          "output_type": "stream",
          "text": [
            "\u001b[34m\u001b[1mwandb\u001b[0m:   1 of 1 files downloaded.  \n"
          ]
        },
        {
          "name": "stdout",
          "output_type": "stream",
          "text": [
            "Loaded 13 episodes from v189\n",
            "Downloading artifact version: mahin-sank-iit-kgp/alpha-racer-data/alpha_racer_multi_mpc_combined:v190\n"
          ]
        },
        {
          "name": "stderr",
          "output_type": "stream",
          "text": [
            "\u001b[34m\u001b[1mwandb\u001b[0m:   1 of 1 files downloaded.  \n"
          ]
        },
        {
          "name": "stdout",
          "output_type": "stream",
          "text": [
            "Loaded 13 episodes from v190\n",
            "Downloading artifact version: mahin-sank-iit-kgp/alpha-racer-data/alpha_racer_multi_mpc_combined:v191\n"
          ]
        },
        {
          "name": "stderr",
          "output_type": "stream",
          "text": [
            "\u001b[34m\u001b[1mwandb\u001b[0m:   1 of 1 files downloaded.  \n"
          ]
        },
        {
          "name": "stdout",
          "output_type": "stream",
          "text": [
            "Loaded 14 episodes from v191\n",
            "Downloading artifact version: mahin-sank-iit-kgp/alpha-racer-data/alpha_racer_multi_mpc_combined:v192\n"
          ]
        },
        {
          "name": "stderr",
          "output_type": "stream",
          "text": [
            "\u001b[34m\u001b[1mwandb\u001b[0m:   1 of 1 files downloaded.  \n"
          ]
        },
        {
          "name": "stdout",
          "output_type": "stream",
          "text": [
            "Loaded 13 episodes from v192\n",
            "Downloading artifact version: mahin-sank-iit-kgp/alpha-racer-data/alpha_racer_multi_mpc_combined:v193\n"
          ]
        },
        {
          "name": "stderr",
          "output_type": "stream",
          "text": [
            "\u001b[34m\u001b[1mwandb\u001b[0m:   1 of 1 files downloaded.  \n"
          ]
        },
        {
          "name": "stdout",
          "output_type": "stream",
          "text": [
            "Loaded 14 episodes from v193\n",
            "Downloading artifact version: mahin-sank-iit-kgp/alpha-racer-data/alpha_racer_multi_mpc_combined:v194\n"
          ]
        },
        {
          "name": "stderr",
          "output_type": "stream",
          "text": [
            "\u001b[34m\u001b[1mwandb\u001b[0m:   1 of 1 files downloaded.  \n"
          ]
        },
        {
          "name": "stdout",
          "output_type": "stream",
          "text": [
            "Loaded 14 episodes from v194\n",
            "Downloading artifact version: mahin-sank-iit-kgp/alpha-racer-data/alpha_racer_multi_mpc_combined:v195\n"
          ]
        },
        {
          "name": "stderr",
          "output_type": "stream",
          "text": [
            "\u001b[34m\u001b[1mwandb\u001b[0m:   1 of 1 files downloaded.  \n"
          ]
        },
        {
          "name": "stdout",
          "output_type": "stream",
          "text": [
            "Loaded 14 episodes from v195\n",
            "Downloading artifact version: mahin-sank-iit-kgp/alpha-racer-data/alpha_racer_multi_mpc_combined:v196\n"
          ]
        },
        {
          "name": "stderr",
          "output_type": "stream",
          "text": [
            "\u001b[34m\u001b[1mwandb\u001b[0m:   1 of 1 files downloaded.  \n"
          ]
        },
        {
          "name": "stdout",
          "output_type": "stream",
          "text": [
            "Loaded 14 episodes from v196\n",
            "Downloading artifact version: mahin-sank-iit-kgp/alpha-racer-data/alpha_racer_multi_mpc_combined:v197\n"
          ]
        },
        {
          "name": "stderr",
          "output_type": "stream",
          "text": [
            "\u001b[34m\u001b[1mwandb\u001b[0m:   1 of 1 files downloaded.  \n"
          ]
        },
        {
          "name": "stdout",
          "output_type": "stream",
          "text": [
            "Loaded 14 episodes from v197\n",
            "Downloading artifact version: mahin-sank-iit-kgp/alpha-racer-data/alpha_racer_multi_mpc_combined:v198\n"
          ]
        },
        {
          "name": "stderr",
          "output_type": "stream",
          "text": [
            "\u001b[34m\u001b[1mwandb\u001b[0m:   1 of 1 files downloaded.  \n"
          ]
        },
        {
          "name": "stdout",
          "output_type": "stream",
          "text": [
            "Loaded 14 episodes from v198\n",
            "Downloading artifact version: mahin-sank-iit-kgp/alpha-racer-data/alpha_racer_multi_mpc_combined:v199\n"
          ]
        },
        {
          "name": "stderr",
          "output_type": "stream",
          "text": [
            "\u001b[34m\u001b[1mwandb\u001b[0m:   1 of 1 files downloaded.  \n"
          ]
        },
        {
          "name": "stdout",
          "output_type": "stream",
          "text": [
            "Loaded 14 episodes from v199\n",
            "Downloading artifact version: mahin-sank-iit-kgp/alpha-racer-data/alpha_racer_multi_mpc_combined:v200\n"
          ]
        },
        {
          "name": "stderr",
          "output_type": "stream",
          "text": [
            "\u001b[34m\u001b[1mwandb\u001b[0m:   1 of 1 files downloaded.  \n"
          ]
        },
        {
          "name": "stdout",
          "output_type": "stream",
          "text": [
            "Loaded 14 episodes from v200\n",
            "Downloading artifact version: mahin-sank-iit-kgp/alpha-racer-data/alpha_racer_multi_mpc_combined:v201\n"
          ]
        },
        {
          "name": "stderr",
          "output_type": "stream",
          "text": [
            "\u001b[34m\u001b[1mwandb\u001b[0m:   1 of 1 files downloaded.  \n"
          ]
        },
        {
          "name": "stdout",
          "output_type": "stream",
          "text": [
            "Loaded 14 episodes from v201\n",
            "Downloading artifact version: mahin-sank-iit-kgp/alpha-racer-data/alpha_racer_multi_mpc_combined:v202\n"
          ]
        },
        {
          "name": "stderr",
          "output_type": "stream",
          "text": [
            "\u001b[34m\u001b[1mwandb\u001b[0m:   1 of 1 files downloaded.  \n"
          ]
        },
        {
          "name": "stdout",
          "output_type": "stream",
          "text": [
            "Loaded 15 episodes from v202\n",
            "Downloading artifact version: mahin-sank-iit-kgp/alpha-racer-data/alpha_racer_multi_mpc_combined:v203\n"
          ]
        },
        {
          "name": "stderr",
          "output_type": "stream",
          "text": [
            "\u001b[34m\u001b[1mwandb\u001b[0m:   1 of 1 files downloaded.  \n"
          ]
        },
        {
          "name": "stdout",
          "output_type": "stream",
          "text": [
            "Loaded 15 episodes from v203\n",
            "Downloading artifact version: mahin-sank-iit-kgp/alpha-racer-data/alpha_racer_multi_mpc_combined:v204\n"
          ]
        },
        {
          "name": "stderr",
          "output_type": "stream",
          "text": [
            "\u001b[34m\u001b[1mwandb\u001b[0m:   1 of 1 files downloaded.  \n"
          ]
        },
        {
          "name": "stdout",
          "output_type": "stream",
          "text": [
            "Loaded 15 episodes from v204\n",
            "Downloading artifact version: mahin-sank-iit-kgp/alpha-racer-data/alpha_racer_multi_mpc_combined:v205\n"
          ]
        },
        {
          "name": "stderr",
          "output_type": "stream",
          "text": [
            "\u001b[34m\u001b[1mwandb\u001b[0m:   1 of 1 files downloaded.  \n"
          ]
        },
        {
          "name": "stdout",
          "output_type": "stream",
          "text": [
            "Loaded 15 episodes from v205\n",
            "Downloading artifact version: mahin-sank-iit-kgp/alpha-racer-data/alpha_racer_multi_mpc_combined:v206\n"
          ]
        },
        {
          "name": "stderr",
          "output_type": "stream",
          "text": [
            "\u001b[34m\u001b[1mwandb\u001b[0m:   1 of 1 files downloaded.  \n"
          ]
        },
        {
          "name": "stdout",
          "output_type": "stream",
          "text": [
            "Loaded 15 episodes from v206\n",
            "Downloading artifact version: mahin-sank-iit-kgp/alpha-racer-data/alpha_racer_multi_mpc_combined:v207\n"
          ]
        },
        {
          "name": "stderr",
          "output_type": "stream",
          "text": [
            "\u001b[34m\u001b[1mwandb\u001b[0m:   1 of 1 files downloaded.  \n"
          ]
        },
        {
          "name": "stdout",
          "output_type": "stream",
          "text": [
            "Loaded 15 episodes from v207\n",
            "Downloading artifact version: mahin-sank-iit-kgp/alpha-racer-data/alpha_racer_multi_mpc_combined:v208\n"
          ]
        },
        {
          "name": "stderr",
          "output_type": "stream",
          "text": [
            "\u001b[34m\u001b[1mwandb\u001b[0m:   1 of 1 files downloaded.  \n"
          ]
        },
        {
          "name": "stdout",
          "output_type": "stream",
          "text": [
            "Loaded 15 episodes from v208\n",
            "Downloading artifact version: mahin-sank-iit-kgp/alpha-racer-data/alpha_racer_multi_mpc_combined:v209\n"
          ]
        },
        {
          "name": "stderr",
          "output_type": "stream",
          "text": [
            "\u001b[34m\u001b[1mwandb\u001b[0m:   1 of 1 files downloaded.  \n"
          ]
        },
        {
          "name": "stdout",
          "output_type": "stream",
          "text": [
            "Loaded 15 episodes from v209\n",
            "Downloading artifact version: mahin-sank-iit-kgp/alpha-racer-data/alpha_racer_multi_mpc_combined:v210\n"
          ]
        },
        {
          "name": "stderr",
          "output_type": "stream",
          "text": [
            "\u001b[34m\u001b[1mwandb\u001b[0m:   1 of 1 files downloaded.  \n"
          ]
        },
        {
          "name": "stdout",
          "output_type": "stream",
          "text": [
            "Loaded 15 episodes from v210\n",
            "Downloading artifact version: mahin-sank-iit-kgp/alpha-racer-data/alpha_racer_multi_mpc_combined:v211\n"
          ]
        },
        {
          "name": "stderr",
          "output_type": "stream",
          "text": [
            "\u001b[34m\u001b[1mwandb\u001b[0m:   1 of 1 files downloaded.  \n"
          ]
        },
        {
          "name": "stdout",
          "output_type": "stream",
          "text": [
            "Loaded 15 episodes from v211\n",
            "Downloading artifact version: mahin-sank-iit-kgp/alpha-racer-data/alpha_racer_multi_mpc_combined:v212\n"
          ]
        },
        {
          "name": "stderr",
          "output_type": "stream",
          "text": [
            "\u001b[34m\u001b[1mwandb\u001b[0m:   1 of 1 files downloaded.  \n"
          ]
        },
        {
          "name": "stdout",
          "output_type": "stream",
          "text": [
            "Loaded 16 episodes from v212\n",
            "Downloading artifact version: mahin-sank-iit-kgp/alpha-racer-data/alpha_racer_multi_mpc_combined:v213\n"
          ]
        },
        {
          "name": "stderr",
          "output_type": "stream",
          "text": [
            "\u001b[34m\u001b[1mwandb\u001b[0m:   1 of 1 files downloaded.  \n"
          ]
        },
        {
          "name": "stdout",
          "output_type": "stream",
          "text": [
            "Loaded 16 episodes from v213\n",
            "Downloading artifact version: mahin-sank-iit-kgp/alpha-racer-data/alpha_racer_multi_mpc_combined:v214\n"
          ]
        },
        {
          "name": "stderr",
          "output_type": "stream",
          "text": [
            "\u001b[34m\u001b[1mwandb\u001b[0m:   1 of 1 files downloaded.  \n"
          ]
        },
        {
          "name": "stdout",
          "output_type": "stream",
          "text": [
            "Loaded 16 episodes from v214\n",
            "Downloading artifact version: mahin-sank-iit-kgp/alpha-racer-data/alpha_racer_multi_mpc_combined:v215\n"
          ]
        },
        {
          "name": "stderr",
          "output_type": "stream",
          "text": [
            "\u001b[34m\u001b[1mwandb\u001b[0m:   1 of 1 files downloaded.  \n"
          ]
        },
        {
          "name": "stdout",
          "output_type": "stream",
          "text": [
            "Loaded 16 episodes from v215\n",
            "Downloading artifact version: mahin-sank-iit-kgp/alpha-racer-data/alpha_racer_multi_mpc_combined:v216\n"
          ]
        },
        {
          "name": "stderr",
          "output_type": "stream",
          "text": [
            "\u001b[34m\u001b[1mwandb\u001b[0m:   1 of 1 files downloaded.  \n"
          ]
        },
        {
          "name": "stdout",
          "output_type": "stream",
          "text": [
            "Loaded 16 episodes from v216\n",
            "Downloading artifact version: mahin-sank-iit-kgp/alpha-racer-data/alpha_racer_multi_mpc_combined:v217\n"
          ]
        },
        {
          "name": "stderr",
          "output_type": "stream",
          "text": [
            "\u001b[34m\u001b[1mwandb\u001b[0m:   1 of 1 files downloaded.  \n"
          ]
        },
        {
          "name": "stdout",
          "output_type": "stream",
          "text": [
            "Loaded 16 episodes from v217\n",
            "Downloading artifact version: mahin-sank-iit-kgp/alpha-racer-data/alpha_racer_multi_mpc_combined:v218\n"
          ]
        },
        {
          "name": "stderr",
          "output_type": "stream",
          "text": [
            "\u001b[34m\u001b[1mwandb\u001b[0m:   1 of 1 files downloaded.  \n"
          ]
        },
        {
          "name": "stdout",
          "output_type": "stream",
          "text": [
            "Loaded 16 episodes from v218\n",
            "Downloading artifact version: mahin-sank-iit-kgp/alpha-racer-data/alpha_racer_multi_mpc_combined:v219\n"
          ]
        },
        {
          "name": "stderr",
          "output_type": "stream",
          "text": [
            "\u001b[34m\u001b[1mwandb\u001b[0m:   1 of 1 files downloaded.  \n"
          ]
        },
        {
          "name": "stdout",
          "output_type": "stream",
          "text": [
            "Loaded 16 episodes from v219\n",
            "Downloading artifact version: mahin-sank-iit-kgp/alpha-racer-data/alpha_racer_multi_mpc_combined:v220\n"
          ]
        },
        {
          "name": "stderr",
          "output_type": "stream",
          "text": [
            "\u001b[34m\u001b[1mwandb\u001b[0m:   1 of 1 files downloaded.  \n"
          ]
        },
        {
          "name": "stdout",
          "output_type": "stream",
          "text": [
            "Loaded 16 episodes from v220\n",
            "Downloading artifact version: mahin-sank-iit-kgp/alpha-racer-data/alpha_racer_multi_mpc_combined:v221\n"
          ]
        },
        {
          "name": "stderr",
          "output_type": "stream",
          "text": [
            "\u001b[34m\u001b[1mwandb\u001b[0m:   1 of 1 files downloaded.  \n"
          ]
        },
        {
          "name": "stdout",
          "output_type": "stream",
          "text": [
            "Loaded 16 episodes from v221\n",
            "Downloading artifact version: mahin-sank-iit-kgp/alpha-racer-data/alpha_racer_multi_mpc_combined:v222\n"
          ]
        },
        {
          "name": "stderr",
          "output_type": "stream",
          "text": [
            "\u001b[34m\u001b[1mwandb\u001b[0m:   1 of 1 files downloaded.  \n"
          ]
        },
        {
          "name": "stdout",
          "output_type": "stream",
          "text": [
            "Loaded 17 episodes from v222\n",
            "Downloading artifact version: mahin-sank-iit-kgp/alpha-racer-data/alpha_racer_multi_mpc_combined:v223\n"
          ]
        },
        {
          "name": "stderr",
          "output_type": "stream",
          "text": [
            "\u001b[34m\u001b[1mwandb\u001b[0m:   1 of 1 files downloaded.  \n"
          ]
        },
        {
          "name": "stdout",
          "output_type": "stream",
          "text": [
            "Loaded 17 episodes from v223\n",
            "Downloading artifact version: mahin-sank-iit-kgp/alpha-racer-data/alpha_racer_multi_mpc_combined:v224\n"
          ]
        },
        {
          "name": "stderr",
          "output_type": "stream",
          "text": [
            "\u001b[34m\u001b[1mwandb\u001b[0m:   1 of 1 files downloaded.  \n"
          ]
        },
        {
          "name": "stdout",
          "output_type": "stream",
          "text": [
            "Loaded 17 episodes from v224\n",
            "Downloading artifact version: mahin-sank-iit-kgp/alpha-racer-data/alpha_racer_multi_mpc_combined:v225\n"
          ]
        },
        {
          "name": "stderr",
          "output_type": "stream",
          "text": [
            "\u001b[34m\u001b[1mwandb\u001b[0m:   1 of 1 files downloaded.  \n"
          ]
        },
        {
          "name": "stdout",
          "output_type": "stream",
          "text": [
            "Loaded 17 episodes from v225\n",
            "Downloading artifact version: mahin-sank-iit-kgp/alpha-racer-data/alpha_racer_multi_mpc_combined:v226\n"
          ]
        },
        {
          "name": "stderr",
          "output_type": "stream",
          "text": [
            "\u001b[34m\u001b[1mwandb\u001b[0m:   1 of 1 files downloaded.  \n"
          ]
        },
        {
          "name": "stdout",
          "output_type": "stream",
          "text": [
            "Loaded 17 episodes from v226\n",
            "Downloading artifact version: mahin-sank-iit-kgp/alpha-racer-data/alpha_racer_multi_mpc_combined:v227\n"
          ]
        },
        {
          "name": "stderr",
          "output_type": "stream",
          "text": [
            "\u001b[34m\u001b[1mwandb\u001b[0m:   1 of 1 files downloaded.  \n"
          ]
        },
        {
          "name": "stdout",
          "output_type": "stream",
          "text": [
            "Loaded 17 episodes from v227\n",
            "Downloading artifact version: mahin-sank-iit-kgp/alpha-racer-data/alpha_racer_multi_mpc_combined:v228\n"
          ]
        },
        {
          "name": "stderr",
          "output_type": "stream",
          "text": [
            "\u001b[34m\u001b[1mwandb\u001b[0m:   1 of 1 files downloaded.  \n"
          ]
        },
        {
          "name": "stdout",
          "output_type": "stream",
          "text": [
            "Loaded 17 episodes from v228\n",
            "Downloading artifact version: mahin-sank-iit-kgp/alpha-racer-data/alpha_racer_multi_mpc_combined:v229\n"
          ]
        },
        {
          "name": "stderr",
          "output_type": "stream",
          "text": [
            "\u001b[34m\u001b[1mwandb\u001b[0m:   1 of 1 files downloaded.  \n"
          ]
        },
        {
          "name": "stdout",
          "output_type": "stream",
          "text": [
            "Loaded 17 episodes from v229\n",
            "Downloading artifact version: mahin-sank-iit-kgp/alpha-racer-data/alpha_racer_multi_mpc_combined:v230\n"
          ]
        },
        {
          "name": "stderr",
          "output_type": "stream",
          "text": [
            "\u001b[34m\u001b[1mwandb\u001b[0m:   1 of 1 files downloaded.  \n"
          ]
        },
        {
          "name": "stdout",
          "output_type": "stream",
          "text": [
            "Loaded 17 episodes from v230\n",
            "Downloading artifact version: mahin-sank-iit-kgp/alpha-racer-data/alpha_racer_multi_mpc_combined:v231\n"
          ]
        },
        {
          "name": "stderr",
          "output_type": "stream",
          "text": [
            "\u001b[34m\u001b[1mwandb\u001b[0m:   1 of 1 files downloaded.  \n"
          ]
        },
        {
          "name": "stdout",
          "output_type": "stream",
          "text": [
            "Loaded 17 episodes from v231\n",
            "Downloading artifact version: mahin-sank-iit-kgp/alpha-racer-data/alpha_racer_multi_mpc_combined:v232\n"
          ]
        },
        {
          "name": "stderr",
          "output_type": "stream",
          "text": [
            "\u001b[34m\u001b[1mwandb\u001b[0m:   1 of 1 files downloaded.  \n"
          ]
        },
        {
          "name": "stdout",
          "output_type": "stream",
          "text": [
            "Loaded 18 episodes from v232\n",
            "Downloading artifact version: mahin-sank-iit-kgp/alpha-racer-data/alpha_racer_multi_mpc_combined:v233\n"
          ]
        },
        {
          "name": "stderr",
          "output_type": "stream",
          "text": [
            "\u001b[34m\u001b[1mwandb\u001b[0m:   1 of 1 files downloaded.  \n"
          ]
        },
        {
          "name": "stdout",
          "output_type": "stream",
          "text": [
            "Loaded 18 episodes from v233\n",
            "Downloading artifact version: mahin-sank-iit-kgp/alpha-racer-data/alpha_racer_multi_mpc_combined:v234\n"
          ]
        },
        {
          "name": "stderr",
          "output_type": "stream",
          "text": [
            "\u001b[34m\u001b[1mwandb\u001b[0m:   1 of 1 files downloaded.  \n"
          ]
        },
        {
          "name": "stdout",
          "output_type": "stream",
          "text": [
            "Loaded 18 episodes from v234\n",
            "Downloading artifact version: mahin-sank-iit-kgp/alpha-racer-data/alpha_racer_multi_mpc_combined:v235\n"
          ]
        },
        {
          "name": "stderr",
          "output_type": "stream",
          "text": [
            "\u001b[34m\u001b[1mwandb\u001b[0m:   1 of 1 files downloaded.  \n"
          ]
        },
        {
          "name": "stdout",
          "output_type": "stream",
          "text": [
            "Loaded 18 episodes from v235\n",
            "Downloading artifact version: mahin-sank-iit-kgp/alpha-racer-data/alpha_racer_multi_mpc_combined:v236\n"
          ]
        },
        {
          "name": "stderr",
          "output_type": "stream",
          "text": [
            "\u001b[34m\u001b[1mwandb\u001b[0m:   1 of 1 files downloaded.  \n"
          ]
        },
        {
          "name": "stdout",
          "output_type": "stream",
          "text": [
            "Loaded 18 episodes from v236\n",
            "Downloading artifact version: mahin-sank-iit-kgp/alpha-racer-data/alpha_racer_multi_mpc_combined:v237\n"
          ]
        },
        {
          "name": "stderr",
          "output_type": "stream",
          "text": [
            "\u001b[34m\u001b[1mwandb\u001b[0m:   1 of 1 files downloaded.  \n"
          ]
        },
        {
          "name": "stdout",
          "output_type": "stream",
          "text": [
            "Loaded 18 episodes from v237\n",
            "Downloading artifact version: mahin-sank-iit-kgp/alpha-racer-data/alpha_racer_multi_mpc_combined:v238\n"
          ]
        },
        {
          "name": "stderr",
          "output_type": "stream",
          "text": [
            "\u001b[34m\u001b[1mwandb\u001b[0m:   1 of 1 files downloaded.  \n"
          ]
        },
        {
          "name": "stdout",
          "output_type": "stream",
          "text": [
            "Loaded 18 episodes from v238\n",
            "Downloading artifact version: mahin-sank-iit-kgp/alpha-racer-data/alpha_racer_multi_mpc_combined:v239\n"
          ]
        },
        {
          "name": "stderr",
          "output_type": "stream",
          "text": [
            "\u001b[34m\u001b[1mwandb\u001b[0m:   1 of 1 files downloaded.  \n"
          ]
        },
        {
          "name": "stdout",
          "output_type": "stream",
          "text": [
            "Loaded 18 episodes from v239\n",
            "Downloading artifact version: mahin-sank-iit-kgp/alpha-racer-data/alpha_racer_multi_mpc_combined:v240\n"
          ]
        },
        {
          "name": "stderr",
          "output_type": "stream",
          "text": [
            "\u001b[34m\u001b[1mwandb\u001b[0m:   1 of 1 files downloaded.  \n"
          ]
        },
        {
          "name": "stdout",
          "output_type": "stream",
          "text": [
            "Loaded 18 episodes from v240\n",
            "Downloading artifact version: mahin-sank-iit-kgp/alpha-racer-data/alpha_racer_multi_mpc_combined:v241\n"
          ]
        },
        {
          "name": "stderr",
          "output_type": "stream",
          "text": [
            "\u001b[34m\u001b[1mwandb\u001b[0m:   1 of 1 files downloaded.  \n"
          ]
        },
        {
          "name": "stdout",
          "output_type": "stream",
          "text": [
            "Loaded 18 episodes from v241\n",
            "Downloading artifact version: mahin-sank-iit-kgp/alpha-racer-data/alpha_racer_multi_mpc_combined:v242\n"
          ]
        },
        {
          "name": "stderr",
          "output_type": "stream",
          "text": [
            "\u001b[34m\u001b[1mwandb\u001b[0m:   1 of 1 files downloaded.  \n"
          ]
        },
        {
          "name": "stdout",
          "output_type": "stream",
          "text": [
            "Loaded 19 episodes from v242\n",
            "Downloading artifact version: mahin-sank-iit-kgp/alpha-racer-data/alpha_racer_multi_mpc_combined:v243\n"
          ]
        },
        {
          "name": "stderr",
          "output_type": "stream",
          "text": [
            "\u001b[34m\u001b[1mwandb\u001b[0m:   1 of 1 files downloaded.  \n"
          ]
        },
        {
          "name": "stdout",
          "output_type": "stream",
          "text": [
            "Loaded 19 episodes from v243\n",
            "Downloading artifact version: mahin-sank-iit-kgp/alpha-racer-data/alpha_racer_multi_mpc_combined:v244\n"
          ]
        },
        {
          "name": "stderr",
          "output_type": "stream",
          "text": [
            "\u001b[34m\u001b[1mwandb\u001b[0m:   1 of 1 files downloaded.  \n"
          ]
        },
        {
          "name": "stdout",
          "output_type": "stream",
          "text": [
            "Loaded 19 episodes from v244\n",
            "Downloading artifact version: mahin-sank-iit-kgp/alpha-racer-data/alpha_racer_multi_mpc_combined:v245\n"
          ]
        },
        {
          "name": "stderr",
          "output_type": "stream",
          "text": [
            "\u001b[34m\u001b[1mwandb\u001b[0m:   1 of 1 files downloaded.  \n"
          ]
        },
        {
          "name": "stdout",
          "output_type": "stream",
          "text": [
            "Loaded 19 episodes from v245\n",
            "Downloading artifact version: mahin-sank-iit-kgp/alpha-racer-data/alpha_racer_multi_mpc_combined:v246\n"
          ]
        },
        {
          "name": "stderr",
          "output_type": "stream",
          "text": [
            "\u001b[34m\u001b[1mwandb\u001b[0m:   1 of 1 files downloaded.  \n"
          ]
        },
        {
          "name": "stdout",
          "output_type": "stream",
          "text": [
            "Loaded 19 episodes from v246\n",
            "Downloading artifact version: mahin-sank-iit-kgp/alpha-racer-data/alpha_racer_multi_mpc_combined:v247\n"
          ]
        },
        {
          "name": "stderr",
          "output_type": "stream",
          "text": [
            "\u001b[34m\u001b[1mwandb\u001b[0m:   1 of 1 files downloaded.  \n"
          ]
        },
        {
          "name": "stdout",
          "output_type": "stream",
          "text": [
            "Loaded 19 episodes from v247\n",
            "Downloading artifact version: mahin-sank-iit-kgp/alpha-racer-data/alpha_racer_multi_mpc_combined:v248\n"
          ]
        },
        {
          "name": "stderr",
          "output_type": "stream",
          "text": [
            "\u001b[34m\u001b[1mwandb\u001b[0m:   1 of 1 files downloaded.  \n"
          ]
        },
        {
          "name": "stdout",
          "output_type": "stream",
          "text": [
            "Loaded 19 episodes from v248\n",
            "Downloading artifact version: mahin-sank-iit-kgp/alpha-racer-data/alpha_racer_multi_mpc_combined:v249\n"
          ]
        },
        {
          "name": "stderr",
          "output_type": "stream",
          "text": [
            "\u001b[34m\u001b[1mwandb\u001b[0m:   1 of 1 files downloaded.  \n"
          ]
        },
        {
          "name": "stdout",
          "output_type": "stream",
          "text": [
            "Loaded 19 episodes from v249\n",
            "Downloading artifact version: mahin-sank-iit-kgp/alpha-racer-data/alpha_racer_multi_mpc_combined:v250\n"
          ]
        },
        {
          "name": "stderr",
          "output_type": "stream",
          "text": [
            "\u001b[34m\u001b[1mwandb\u001b[0m:   1 of 1 files downloaded.  \n"
          ]
        },
        {
          "name": "stdout",
          "output_type": "stream",
          "text": [
            "Loaded 19 episodes from v250\n",
            "Downloading artifact version: mahin-sank-iit-kgp/alpha-racer-data/alpha_racer_multi_mpc_combined:v251\n"
          ]
        },
        {
          "name": "stderr",
          "output_type": "stream",
          "text": [
            "\u001b[34m\u001b[1mwandb\u001b[0m:   1 of 1 files downloaded.  \n"
          ]
        },
        {
          "name": "stdout",
          "output_type": "stream",
          "text": [
            "Loaded 20 episodes from v251\n",
            "Downloading artifact version: mahin-sank-iit-kgp/alpha-racer-data/alpha_racer_multi_mpc_combined:v252\n"
          ]
        },
        {
          "name": "stderr",
          "output_type": "stream",
          "text": [
            "\u001b[34m\u001b[1mwandb\u001b[0m:   1 of 1 files downloaded.  \n"
          ]
        },
        {
          "name": "stdout",
          "output_type": "stream",
          "text": [
            "Loaded 20 episodes from v252\n",
            "Downloading artifact version: mahin-sank-iit-kgp/alpha-racer-data/alpha_racer_multi_mpc_combined:v253\n"
          ]
        },
        {
          "name": "stderr",
          "output_type": "stream",
          "text": [
            "\u001b[34m\u001b[1mwandb\u001b[0m:   1 of 1 files downloaded.  \n"
          ]
        },
        {
          "name": "stdout",
          "output_type": "stream",
          "text": [
            "Loaded 20 episodes from v253\n",
            "Downloading artifact version: mahin-sank-iit-kgp/alpha-racer-data/alpha_racer_multi_mpc_combined:v254\n"
          ]
        },
        {
          "name": "stderr",
          "output_type": "stream",
          "text": [
            "\u001b[34m\u001b[1mwandb\u001b[0m:   1 of 1 files downloaded.  \n"
          ]
        },
        {
          "name": "stdout",
          "output_type": "stream",
          "text": [
            "Loaded 20 episodes from v254\n",
            "Downloading artifact version: mahin-sank-iit-kgp/alpha-racer-data/alpha_racer_multi_mpc_combined:v255\n"
          ]
        },
        {
          "name": "stderr",
          "output_type": "stream",
          "text": [
            "\u001b[34m\u001b[1mwandb\u001b[0m:   1 of 1 files downloaded.  \n"
          ]
        },
        {
          "name": "stdout",
          "output_type": "stream",
          "text": [
            "Loaded 20 episodes from v255\n",
            "Downloading artifact version: mahin-sank-iit-kgp/alpha-racer-data/alpha_racer_multi_mpc_combined:v256\n"
          ]
        },
        {
          "name": "stderr",
          "output_type": "stream",
          "text": [
            "\u001b[34m\u001b[1mwandb\u001b[0m:   1 of 1 files downloaded.  \n"
          ]
        },
        {
          "name": "stdout",
          "output_type": "stream",
          "text": [
            "Loaded 20 episodes from v256\n",
            "Downloading artifact version: mahin-sank-iit-kgp/alpha-racer-data/alpha_racer_multi_mpc_combined:v257\n"
          ]
        },
        {
          "name": "stderr",
          "output_type": "stream",
          "text": [
            "\u001b[34m\u001b[1mwandb\u001b[0m:   1 of 1 files downloaded.  \n"
          ]
        },
        {
          "name": "stdout",
          "output_type": "stream",
          "text": [
            "Loaded 20 episodes from v257\n",
            "Downloading artifact version: mahin-sank-iit-kgp/alpha-racer-data/alpha_racer_multi_mpc_combined:v258\n"
          ]
        },
        {
          "name": "stderr",
          "output_type": "stream",
          "text": [
            "\u001b[34m\u001b[1mwandb\u001b[0m:   1 of 1 files downloaded.  \n"
          ]
        },
        {
          "name": "stdout",
          "output_type": "stream",
          "text": [
            "Loaded 20 episodes from v258\n",
            "Downloading artifact version: mahin-sank-iit-kgp/alpha-racer-data/alpha_racer_multi_mpc_combined:v259\n"
          ]
        },
        {
          "name": "stderr",
          "output_type": "stream",
          "text": [
            "\u001b[34m\u001b[1mwandb\u001b[0m:   1 of 1 files downloaded.  \n"
          ]
        },
        {
          "name": "stdout",
          "output_type": "stream",
          "text": [
            "Loaded 20 episodes from v259\n",
            "Downloading artifact version: mahin-sank-iit-kgp/alpha-racer-data/alpha_racer_multi_mpc_combined:v260\n"
          ]
        },
        {
          "name": "stderr",
          "output_type": "stream",
          "text": [
            "\u001b[34m\u001b[1mwandb\u001b[0m:   1 of 1 files downloaded.  \n"
          ]
        },
        {
          "name": "stdout",
          "output_type": "stream",
          "text": [
            "Loaded 21 episodes from v260\n",
            "Downloading artifact version: mahin-sank-iit-kgp/alpha-racer-data/alpha_racer_multi_mpc_combined:v261\n"
          ]
        },
        {
          "name": "stderr",
          "output_type": "stream",
          "text": [
            "\u001b[34m\u001b[1mwandb\u001b[0m:   1 of 1 files downloaded.  \n"
          ]
        },
        {
          "name": "stdout",
          "output_type": "stream",
          "text": [
            "Loaded 21 episodes from v261\n",
            "Downloading artifact version: mahin-sank-iit-kgp/alpha-racer-data/alpha_racer_multi_mpc_combined:v262\n"
          ]
        },
        {
          "name": "stderr",
          "output_type": "stream",
          "text": [
            "\u001b[34m\u001b[1mwandb\u001b[0m:   1 of 1 files downloaded.  \n"
          ]
        },
        {
          "name": "stdout",
          "output_type": "stream",
          "text": [
            "Loaded 21 episodes from v262\n",
            "Downloading artifact version: mahin-sank-iit-kgp/alpha-racer-data/alpha_racer_multi_mpc_combined:v263\n"
          ]
        },
        {
          "name": "stderr",
          "output_type": "stream",
          "text": [
            "\u001b[34m\u001b[1mwandb\u001b[0m:   1 of 1 files downloaded.  \n"
          ]
        },
        {
          "name": "stdout",
          "output_type": "stream",
          "text": [
            "Loaded 21 episodes from v263\n",
            "Downloading artifact version: mahin-sank-iit-kgp/alpha-racer-data/alpha_racer_multi_mpc_combined:v264\n"
          ]
        },
        {
          "name": "stderr",
          "output_type": "stream",
          "text": [
            "\u001b[34m\u001b[1mwandb\u001b[0m:   1 of 1 files downloaded.  \n"
          ]
        },
        {
          "name": "stdout",
          "output_type": "stream",
          "text": [
            "Loaded 21 episodes from v264\n",
            "Downloading artifact version: mahin-sank-iit-kgp/alpha-racer-data/alpha_racer_multi_mpc_combined:v265\n"
          ]
        },
        {
          "name": "stderr",
          "output_type": "stream",
          "text": [
            "\u001b[34m\u001b[1mwandb\u001b[0m:   1 of 1 files downloaded.  \n"
          ]
        },
        {
          "name": "stdout",
          "output_type": "stream",
          "text": [
            "Loaded 21 episodes from v265\n",
            "Downloading artifact version: mahin-sank-iit-kgp/alpha-racer-data/alpha_racer_multi_mpc_combined:v266\n"
          ]
        },
        {
          "name": "stderr",
          "output_type": "stream",
          "text": [
            "\u001b[34m\u001b[1mwandb\u001b[0m:   1 of 1 files downloaded.  \n"
          ]
        },
        {
          "name": "stdout",
          "output_type": "stream",
          "text": [
            "Loaded 21 episodes from v266\n",
            "Downloading artifact version: mahin-sank-iit-kgp/alpha-racer-data/alpha_racer_multi_mpc_combined:v267\n"
          ]
        },
        {
          "name": "stderr",
          "output_type": "stream",
          "text": [
            "\u001b[34m\u001b[1mwandb\u001b[0m:   1 of 1 files downloaded.  \n"
          ]
        },
        {
          "name": "stdout",
          "output_type": "stream",
          "text": [
            "Loaded 21 episodes from v267\n",
            "Downloading artifact version: mahin-sank-iit-kgp/alpha-racer-data/alpha_racer_multi_mpc_combined:v268\n"
          ]
        },
        {
          "name": "stderr",
          "output_type": "stream",
          "text": [
            "\u001b[34m\u001b[1mwandb\u001b[0m:   1 of 1 files downloaded.  \n"
          ]
        },
        {
          "name": "stdout",
          "output_type": "stream",
          "text": [
            "Loaded 21 episodes from v268\n",
            "Downloading artifact version: mahin-sank-iit-kgp/alpha-racer-data/alpha_racer_multi_mpc_combined:v269\n"
          ]
        },
        {
          "name": "stderr",
          "output_type": "stream",
          "text": [
            "\u001b[34m\u001b[1mwandb\u001b[0m:   1 of 1 files downloaded.  \n"
          ]
        },
        {
          "name": "stdout",
          "output_type": "stream",
          "text": [
            "Loaded 22 episodes from v269\n",
            "Downloading artifact version: mahin-sank-iit-kgp/alpha-racer-data/alpha_racer_multi_mpc_combined:v270\n"
          ]
        },
        {
          "name": "stderr",
          "output_type": "stream",
          "text": [
            "\u001b[34m\u001b[1mwandb\u001b[0m:   1 of 1 files downloaded.  \n"
          ]
        },
        {
          "name": "stdout",
          "output_type": "stream",
          "text": [
            "Loaded 22 episodes from v270\n",
            "Downloading artifact version: mahin-sank-iit-kgp/alpha-racer-data/alpha_racer_multi_mpc_combined:v271\n"
          ]
        },
        {
          "name": "stderr",
          "output_type": "stream",
          "text": [
            "\u001b[34m\u001b[1mwandb\u001b[0m:   1 of 1 files downloaded.  \n"
          ]
        },
        {
          "name": "stdout",
          "output_type": "stream",
          "text": [
            "Loaded 22 episodes from v271\n",
            "Downloading artifact version: mahin-sank-iit-kgp/alpha-racer-data/alpha_racer_multi_mpc_combined:v272\n"
          ]
        },
        {
          "name": "stderr",
          "output_type": "stream",
          "text": [
            "\u001b[34m\u001b[1mwandb\u001b[0m:   1 of 1 files downloaded.  \n"
          ]
        },
        {
          "name": "stdout",
          "output_type": "stream",
          "text": [
            "Loaded 22 episodes from v272\n",
            "Downloading artifact version: mahin-sank-iit-kgp/alpha-racer-data/alpha_racer_multi_mpc_combined:v273\n"
          ]
        },
        {
          "name": "stderr",
          "output_type": "stream",
          "text": [
            "\u001b[34m\u001b[1mwandb\u001b[0m:   1 of 1 files downloaded.  \n"
          ]
        },
        {
          "name": "stdout",
          "output_type": "stream",
          "text": [
            "Loaded 22 episodes from v273\n",
            "Downloading artifact version: mahin-sank-iit-kgp/alpha-racer-data/alpha_racer_multi_mpc_combined:v274\n"
          ]
        },
        {
          "name": "stderr",
          "output_type": "stream",
          "text": [
            "\u001b[34m\u001b[1mwandb\u001b[0m:   1 of 1 files downloaded.  \n"
          ]
        },
        {
          "name": "stdout",
          "output_type": "stream",
          "text": [
            "Loaded 22 episodes from v274\n",
            "Downloading artifact version: mahin-sank-iit-kgp/alpha-racer-data/alpha_racer_multi_mpc_combined:v275\n"
          ]
        },
        {
          "name": "stderr",
          "output_type": "stream",
          "text": [
            "\u001b[34m\u001b[1mwandb\u001b[0m:   1 of 1 files downloaded.  \n"
          ]
        },
        {
          "name": "stdout",
          "output_type": "stream",
          "text": [
            "Loaded 22 episodes from v275\n",
            "Downloading artifact version: mahin-sank-iit-kgp/alpha-racer-data/alpha_racer_multi_mpc_combined:v276\n"
          ]
        },
        {
          "name": "stderr",
          "output_type": "stream",
          "text": [
            "\u001b[34m\u001b[1mwandb\u001b[0m:   1 of 1 files downloaded.  \n"
          ]
        },
        {
          "name": "stdout",
          "output_type": "stream",
          "text": [
            "Loaded 22 episodes from v276\n",
            "Downloading artifact version: mahin-sank-iit-kgp/alpha-racer-data/alpha_racer_multi_mpc_combined:v277\n"
          ]
        },
        {
          "name": "stderr",
          "output_type": "stream",
          "text": [
            "\u001b[34m\u001b[1mwandb\u001b[0m:   1 of 1 files downloaded.  \n"
          ]
        },
        {
          "name": "stdout",
          "output_type": "stream",
          "text": [
            "Loaded 22 episodes from v277\n",
            "Downloading artifact version: mahin-sank-iit-kgp/alpha-racer-data/alpha_racer_multi_mpc_combined:v278\n"
          ]
        },
        {
          "name": "stderr",
          "output_type": "stream",
          "text": [
            "\u001b[34m\u001b[1mwandb\u001b[0m:   1 of 1 files downloaded.  \n"
          ]
        },
        {
          "name": "stdout",
          "output_type": "stream",
          "text": [
            "Loaded 23 episodes from v278\n",
            "Downloading artifact version: mahin-sank-iit-kgp/alpha-racer-data/alpha_racer_multi_mpc_combined:v279\n"
          ]
        },
        {
          "name": "stderr",
          "output_type": "stream",
          "text": [
            "\u001b[34m\u001b[1mwandb\u001b[0m:   1 of 1 files downloaded.  \n"
          ]
        },
        {
          "name": "stdout",
          "output_type": "stream",
          "text": [
            "Loaded 23 episodes from v279\n",
            "Downloading artifact version: mahin-sank-iit-kgp/alpha-racer-data/alpha_racer_multi_mpc_combined:v280\n"
          ]
        },
        {
          "name": "stderr",
          "output_type": "stream",
          "text": [
            "\u001b[34m\u001b[1mwandb\u001b[0m:   1 of 1 files downloaded.  \n"
          ]
        },
        {
          "name": "stdout",
          "output_type": "stream",
          "text": [
            "Loaded 23 episodes from v280\n",
            "Downloading artifact version: mahin-sank-iit-kgp/alpha-racer-data/alpha_racer_multi_mpc_combined:v281\n"
          ]
        },
        {
          "name": "stderr",
          "output_type": "stream",
          "text": [
            "\u001b[34m\u001b[1mwandb\u001b[0m:   1 of 1 files downloaded.  \n"
          ]
        },
        {
          "name": "stdout",
          "output_type": "stream",
          "text": [
            "Loaded 23 episodes from v281\n",
            "Downloading artifact version: mahin-sank-iit-kgp/alpha-racer-data/alpha_racer_multi_mpc_combined:v282\n"
          ]
        },
        {
          "name": "stderr",
          "output_type": "stream",
          "text": [
            "\u001b[34m\u001b[1mwandb\u001b[0m:   1 of 1 files downloaded.  \n"
          ]
        },
        {
          "name": "stdout",
          "output_type": "stream",
          "text": [
            "Loaded 23 episodes from v282\n",
            "Downloading artifact version: mahin-sank-iit-kgp/alpha-racer-data/alpha_racer_multi_mpc_combined:v283\n"
          ]
        },
        {
          "name": "stderr",
          "output_type": "stream",
          "text": [
            "\u001b[34m\u001b[1mwandb\u001b[0m:   1 of 1 files downloaded.  \n"
          ]
        },
        {
          "name": "stdout",
          "output_type": "stream",
          "text": [
            "Loaded 23 episodes from v283\n",
            "Downloading artifact version: mahin-sank-iit-kgp/alpha-racer-data/alpha_racer_multi_mpc_combined:v284\n"
          ]
        },
        {
          "name": "stderr",
          "output_type": "stream",
          "text": [
            "\u001b[34m\u001b[1mwandb\u001b[0m:   1 of 1 files downloaded.  \n"
          ]
        },
        {
          "name": "stdout",
          "output_type": "stream",
          "text": [
            "Loaded 23 episodes from v284\n",
            "Downloading artifact version: mahin-sank-iit-kgp/alpha-racer-data/alpha_racer_multi_mpc_combined:v285\n"
          ]
        },
        {
          "name": "stderr",
          "output_type": "stream",
          "text": [
            "\u001b[34m\u001b[1mwandb\u001b[0m:   1 of 1 files downloaded.  \n"
          ]
        },
        {
          "name": "stdout",
          "output_type": "stream",
          "text": [
            "Loaded 23 episodes from v285\n",
            "Downloading artifact version: mahin-sank-iit-kgp/alpha-racer-data/alpha_racer_multi_mpc_combined:v286\n"
          ]
        },
        {
          "name": "stderr",
          "output_type": "stream",
          "text": [
            "\u001b[34m\u001b[1mwandb\u001b[0m:   1 of 1 files downloaded.  \n"
          ]
        },
        {
          "name": "stdout",
          "output_type": "stream",
          "text": [
            "Loaded 23 episodes from v286\n",
            "Downloading artifact version: mahin-sank-iit-kgp/alpha-racer-data/alpha_racer_multi_mpc_combined:v287\n"
          ]
        },
        {
          "name": "stderr",
          "output_type": "stream",
          "text": [
            "\u001b[34m\u001b[1mwandb\u001b[0m:   1 of 1 files downloaded.  \n"
          ]
        },
        {
          "name": "stdout",
          "output_type": "stream",
          "text": [
            "Loaded 24 episodes from v287\n",
            "Downloading artifact version: mahin-sank-iit-kgp/alpha-racer-data/alpha_racer_multi_mpc_combined:v288\n"
          ]
        },
        {
          "name": "stderr",
          "output_type": "stream",
          "text": [
            "\u001b[34m\u001b[1mwandb\u001b[0m:   1 of 1 files downloaded.  \n"
          ]
        },
        {
          "name": "stdout",
          "output_type": "stream",
          "text": [
            "Loaded 24 episodes from v288\n",
            "Downloading artifact version: mahin-sank-iit-kgp/alpha-racer-data/alpha_racer_multi_mpc_combined:v289\n"
          ]
        },
        {
          "name": "stderr",
          "output_type": "stream",
          "text": [
            "\u001b[34m\u001b[1mwandb\u001b[0m:   1 of 1 files downloaded.  \n"
          ]
        },
        {
          "name": "stdout",
          "output_type": "stream",
          "text": [
            "Loaded 24 episodes from v289\n",
            "Downloading artifact version: mahin-sank-iit-kgp/alpha-racer-data/alpha_racer_multi_mpc_combined:v290\n"
          ]
        },
        {
          "name": "stderr",
          "output_type": "stream",
          "text": [
            "\u001b[34m\u001b[1mwandb\u001b[0m:   1 of 1 files downloaded.  \n"
          ]
        },
        {
          "name": "stdout",
          "output_type": "stream",
          "text": [
            "Loaded 24 episodes from v290\n",
            "Downloading artifact version: mahin-sank-iit-kgp/alpha-racer-data/alpha_racer_multi_mpc_combined:v291\n"
          ]
        },
        {
          "name": "stderr",
          "output_type": "stream",
          "text": [
            "\u001b[34m\u001b[1mwandb\u001b[0m:   1 of 1 files downloaded.  \n"
          ]
        },
        {
          "name": "stdout",
          "output_type": "stream",
          "text": [
            "Loaded 24 episodes from v291\n",
            "Downloading artifact version: mahin-sank-iit-kgp/alpha-racer-data/alpha_racer_multi_mpc_combined:v292\n"
          ]
        },
        {
          "name": "stderr",
          "output_type": "stream",
          "text": [
            "\u001b[34m\u001b[1mwandb\u001b[0m:   1 of 1 files downloaded.  \n"
          ]
        },
        {
          "name": "stdout",
          "output_type": "stream",
          "text": [
            "Loaded 24 episodes from v292\n",
            "Downloading artifact version: mahin-sank-iit-kgp/alpha-racer-data/alpha_racer_multi_mpc_combined:v293\n"
          ]
        },
        {
          "name": "stderr",
          "output_type": "stream",
          "text": [
            "\u001b[34m\u001b[1mwandb\u001b[0m:   1 of 1 files downloaded.  \n"
          ]
        },
        {
          "name": "stdout",
          "output_type": "stream",
          "text": [
            "Loaded 24 episodes from v293\n",
            "Downloading artifact version: mahin-sank-iit-kgp/alpha-racer-data/alpha_racer_multi_mpc_combined:v294\n"
          ]
        },
        {
          "name": "stderr",
          "output_type": "stream",
          "text": [
            "\u001b[34m\u001b[1mwandb\u001b[0m:   1 of 1 files downloaded.  \n"
          ]
        },
        {
          "name": "stdout",
          "output_type": "stream",
          "text": [
            "Loaded 24 episodes from v294\n",
            "Downloading artifact version: mahin-sank-iit-kgp/alpha-racer-data/alpha_racer_multi_mpc_combined:v295\n"
          ]
        },
        {
          "name": "stderr",
          "output_type": "stream",
          "text": [
            "\u001b[34m\u001b[1mwandb\u001b[0m:   1 of 1 files downloaded.  \n"
          ]
        },
        {
          "name": "stdout",
          "output_type": "stream",
          "text": [
            "Loaded 24 episodes from v295\n",
            "Downloading artifact version: mahin-sank-iit-kgp/alpha-racer-data/alpha_racer_multi_mpc_combined:v296\n"
          ]
        },
        {
          "name": "stderr",
          "output_type": "stream",
          "text": [
            "\u001b[34m\u001b[1mwandb\u001b[0m:   1 of 1 files downloaded.  \n"
          ]
        },
        {
          "name": "stdout",
          "output_type": "stream",
          "text": [
            "Loaded 25 episodes from v296\n",
            "Downloading artifact version: mahin-sank-iit-kgp/alpha-racer-data/alpha_racer_multi_mpc_combined:v297\n"
          ]
        },
        {
          "name": "stderr",
          "output_type": "stream",
          "text": [
            "\u001b[34m\u001b[1mwandb\u001b[0m:   1 of 1 files downloaded.  \n"
          ]
        },
        {
          "name": "stdout",
          "output_type": "stream",
          "text": [
            "Loaded 26 episodes from v297\n",
            "Downloading artifact version: mahin-sank-iit-kgp/alpha-racer-data/alpha_racer_multi_mpc_combined:v298\n"
          ]
        },
        {
          "name": "stderr",
          "output_type": "stream",
          "text": [
            "\u001b[34m\u001b[1mwandb\u001b[0m:   1 of 1 files downloaded.  \n"
          ]
        },
        {
          "name": "stdout",
          "output_type": "stream",
          "text": [
            "Loaded 25 episodes from v298\n",
            "Downloading artifact version: mahin-sank-iit-kgp/alpha-racer-data/alpha_racer_multi_mpc_combined:v299\n"
          ]
        },
        {
          "name": "stderr",
          "output_type": "stream",
          "text": [
            "\u001b[34m\u001b[1mwandb\u001b[0m:   1 of 1 files downloaded.  \n"
          ]
        },
        {
          "name": "stdout",
          "output_type": "stream",
          "text": [
            "Loaded 25 episodes from v299\n",
            "Downloading artifact version: mahin-sank-iit-kgp/alpha-racer-data/alpha_racer_multi_mpc_combined:v300\n"
          ]
        },
        {
          "name": "stderr",
          "output_type": "stream",
          "text": [
            "\u001b[34m\u001b[1mwandb\u001b[0m:   1 of 1 files downloaded.  \n"
          ]
        },
        {
          "name": "stdout",
          "output_type": "stream",
          "text": [
            "Loaded 26 episodes from v300\n",
            "Downloading artifact version: mahin-sank-iit-kgp/alpha-racer-data/alpha_racer_multi_mpc_combined:v301\n"
          ]
        },
        {
          "name": "stderr",
          "output_type": "stream",
          "text": [
            "\u001b[34m\u001b[1mwandb\u001b[0m:   1 of 1 files downloaded.  \n"
          ]
        },
        {
          "name": "stdout",
          "output_type": "stream",
          "text": [
            "Loaded 25 episodes from v301\n",
            "Downloading artifact version: mahin-sank-iit-kgp/alpha-racer-data/alpha_racer_multi_mpc_combined:v302\n"
          ]
        },
        {
          "name": "stderr",
          "output_type": "stream",
          "text": [
            "\u001b[34m\u001b[1mwandb\u001b[0m:   1 of 1 files downloaded.  \n"
          ]
        },
        {
          "name": "stdout",
          "output_type": "stream",
          "text": [
            "Loaded 26 episodes from v302\n",
            "Downloading artifact version: mahin-sank-iit-kgp/alpha-racer-data/alpha_racer_multi_mpc_combined:v303\n"
          ]
        },
        {
          "name": "stderr",
          "output_type": "stream",
          "text": [
            "\u001b[34m\u001b[1mwandb\u001b[0m:   1 of 1 files downloaded.  \n"
          ]
        },
        {
          "name": "stdout",
          "output_type": "stream",
          "text": [
            "Loaded 26 episodes from v303\n",
            "Downloading artifact version: mahin-sank-iit-kgp/alpha-racer-data/alpha_racer_multi_mpc_combined:v304\n"
          ]
        },
        {
          "name": "stderr",
          "output_type": "stream",
          "text": [
            "\u001b[34m\u001b[1mwandb\u001b[0m:   1 of 1 files downloaded.  \n"
          ]
        },
        {
          "name": "stdout",
          "output_type": "stream",
          "text": [
            "Loaded 25 episodes from v304\n",
            "Downloading artifact version: mahin-sank-iit-kgp/alpha-racer-data/alpha_racer_multi_mpc_combined:v305\n"
          ]
        },
        {
          "name": "stderr",
          "output_type": "stream",
          "text": [
            "\u001b[34m\u001b[1mwandb\u001b[0m:   1 of 1 files downloaded.  \n"
          ]
        },
        {
          "name": "stdout",
          "output_type": "stream",
          "text": [
            "Loaded 25 episodes from v305\n",
            "Downloading artifact version: mahin-sank-iit-kgp/alpha-racer-data/alpha_racer_multi_mpc_combined:v306\n"
          ]
        },
        {
          "name": "stderr",
          "output_type": "stream",
          "text": [
            "\u001b[34m\u001b[1mwandb\u001b[0m:   1 of 1 files downloaded.  \n"
          ]
        },
        {
          "name": "stdout",
          "output_type": "stream",
          "text": [
            "Loaded 25 episodes from v306\n",
            "Downloading artifact version: mahin-sank-iit-kgp/alpha-racer-data/alpha_racer_multi_mpc_combined:v307\n"
          ]
        },
        {
          "name": "stderr",
          "output_type": "stream",
          "text": [
            "\u001b[34m\u001b[1mwandb\u001b[0m:   1 of 1 files downloaded.  \n"
          ]
        },
        {
          "name": "stdout",
          "output_type": "stream",
          "text": [
            "Loaded 25 episodes from v307\n",
            "Downloading artifact version: mahin-sank-iit-kgp/alpha-racer-data/alpha_racer_multi_mpc_combined:v308\n"
          ]
        },
        {
          "name": "stderr",
          "output_type": "stream",
          "text": [
            "\u001b[34m\u001b[1mwandb\u001b[0m:   1 of 1 files downloaded.  \n"
          ]
        },
        {
          "name": "stdout",
          "output_type": "stream",
          "text": [
            "Loaded 26 episodes from v308\n",
            "Downloading artifact version: mahin-sank-iit-kgp/alpha-racer-data/alpha_racer_multi_mpc_combined:v309\n"
          ]
        },
        {
          "name": "stderr",
          "output_type": "stream",
          "text": [
            "\u001b[34m\u001b[1mwandb\u001b[0m:   1 of 1 files downloaded.  \n"
          ]
        },
        {
          "name": "stdout",
          "output_type": "stream",
          "text": [
            "Loaded 25 episodes from v309\n",
            "Downloading artifact version: mahin-sank-iit-kgp/alpha-racer-data/alpha_racer_multi_mpc_combined:v310\n"
          ]
        },
        {
          "name": "stderr",
          "output_type": "stream",
          "text": [
            "\u001b[34m\u001b[1mwandb\u001b[0m:   1 of 1 files downloaded.  \n"
          ]
        },
        {
          "name": "stdout",
          "output_type": "stream",
          "text": [
            "Loaded 26 episodes from v310\n",
            "Downloading artifact version: mahin-sank-iit-kgp/alpha-racer-data/alpha_racer_multi_mpc_combined:v311\n"
          ]
        },
        {
          "name": "stderr",
          "output_type": "stream",
          "text": [
            "\u001b[34m\u001b[1mwandb\u001b[0m:   1 of 1 files downloaded.  \n"
          ]
        },
        {
          "name": "stdout",
          "output_type": "stream",
          "text": [
            "Loaded 26 episodes from v311\n",
            "Downloading artifact version: mahin-sank-iit-kgp/alpha-racer-data/alpha_racer_multi_mpc_combined:v312\n"
          ]
        },
        {
          "name": "stderr",
          "output_type": "stream",
          "text": [
            "\u001b[34m\u001b[1mwandb\u001b[0m:   1 of 1 files downloaded.  \n"
          ]
        },
        {
          "name": "stdout",
          "output_type": "stream",
          "text": [
            "Loaded 26 episodes from v312\n",
            "Downloading artifact version: mahin-sank-iit-kgp/alpha-racer-data/alpha_racer_multi_mpc_combined:v313\n"
          ]
        },
        {
          "name": "stderr",
          "output_type": "stream",
          "text": [
            "\u001b[34m\u001b[1mwandb\u001b[0m:   1 of 1 files downloaded.  \n"
          ]
        },
        {
          "name": "stdout",
          "output_type": "stream",
          "text": [
            "Loaded 26 episodes from v313\n",
            "Downloading artifact version: mahin-sank-iit-kgp/alpha-racer-data/alpha_racer_multi_mpc_combined:v314\n"
          ]
        },
        {
          "name": "stderr",
          "output_type": "stream",
          "text": [
            "\u001b[34m\u001b[1mwandb\u001b[0m:   1 of 1 files downloaded.  \n"
          ]
        },
        {
          "name": "stdout",
          "output_type": "stream",
          "text": [
            "Loaded 2 episodes from v314\n",
            "Downloading artifact version: mahin-sank-iit-kgp/alpha-racer-data/alpha_racer_multi_mpc_combined:v315\n"
          ]
        },
        {
          "name": "stderr",
          "output_type": "stream",
          "text": [
            "\u001b[34m\u001b[1mwandb\u001b[0m:   1 of 1 files downloaded.  \n"
          ]
        },
        {
          "name": "stdout",
          "output_type": "stream",
          "text": [
            "Loaded 2 episodes from v315\n",
            "Downloading artifact version: mahin-sank-iit-kgp/alpha-racer-data/alpha_racer_multi_mpc_combined:v316\n"
          ]
        },
        {
          "name": "stderr",
          "output_type": "stream",
          "text": [
            "\u001b[34m\u001b[1mwandb\u001b[0m:   1 of 1 files downloaded.  \n"
          ]
        },
        {
          "name": "stdout",
          "output_type": "stream",
          "text": [
            "Loaded 2 episodes from v316\n",
            "Downloading artifact version: mahin-sank-iit-kgp/alpha-racer-data/alpha_racer_multi_mpc_combined:v317\n"
          ]
        },
        {
          "name": "stderr",
          "output_type": "stream",
          "text": [
            "\u001b[34m\u001b[1mwandb\u001b[0m:   1 of 1 files downloaded.  \n"
          ]
        },
        {
          "name": "stdout",
          "output_type": "stream",
          "text": [
            "Loaded 2 episodes from v317\n",
            "Downloading artifact version: mahin-sank-iit-kgp/alpha-racer-data/alpha_racer_multi_mpc_combined:v318\n"
          ]
        },
        {
          "name": "stderr",
          "output_type": "stream",
          "text": [
            "\u001b[34m\u001b[1mwandb\u001b[0m:   1 of 1 files downloaded.  \n"
          ]
        },
        {
          "name": "stdout",
          "output_type": "stream",
          "text": [
            "Loaded 2 episodes from v318\n",
            "Downloading artifact version: mahin-sank-iit-kgp/alpha-racer-data/alpha_racer_multi_mpc_combined:v319\n"
          ]
        },
        {
          "name": "stderr",
          "output_type": "stream",
          "text": [
            "\u001b[34m\u001b[1mwandb\u001b[0m:   1 of 1 files downloaded.  \n"
          ]
        },
        {
          "name": "stdout",
          "output_type": "stream",
          "text": [
            "Loaded 2 episodes from v319\n",
            "Downloading artifact version: mahin-sank-iit-kgp/alpha-racer-data/alpha_racer_multi_mpc_combined:v320\n"
          ]
        },
        {
          "name": "stderr",
          "output_type": "stream",
          "text": [
            "\u001b[34m\u001b[1mwandb\u001b[0m:   1 of 1 files downloaded.  \n"
          ]
        },
        {
          "name": "stdout",
          "output_type": "stream",
          "text": [
            "Loaded 2 episodes from v320\n",
            "Downloading artifact version: mahin-sank-iit-kgp/alpha-racer-data/alpha_racer_multi_mpc_combined:v321\n"
          ]
        },
        {
          "name": "stderr",
          "output_type": "stream",
          "text": [
            "\u001b[34m\u001b[1mwandb\u001b[0m:   1 of 1 files downloaded.  \n"
          ]
        },
        {
          "name": "stdout",
          "output_type": "stream",
          "text": [
            "Loaded 2 episodes from v321\n",
            "Downloading artifact version: mahin-sank-iit-kgp/alpha-racer-data/alpha_racer_multi_mpc_combined:v322\n"
          ]
        },
        {
          "name": "stderr",
          "output_type": "stream",
          "text": [
            "\u001b[34m\u001b[1mwandb\u001b[0m:   1 of 1 files downloaded.  \n"
          ]
        },
        {
          "name": "stdout",
          "output_type": "stream",
          "text": [
            "Loaded 2 episodes from v322\n",
            "Downloading artifact version: mahin-sank-iit-kgp/alpha-racer-data/alpha_racer_multi_mpc_combined:v323\n"
          ]
        },
        {
          "name": "stderr",
          "output_type": "stream",
          "text": [
            "\u001b[34m\u001b[1mwandb\u001b[0m:   1 of 1 files downloaded.  \n"
          ]
        },
        {
          "name": "stdout",
          "output_type": "stream",
          "text": [
            "Loaded 2 episodes from v323\n",
            "Downloading artifact version: mahin-sank-iit-kgp/alpha-racer-data/alpha_racer_multi_mpc_combined:v324\n"
          ]
        },
        {
          "name": "stderr",
          "output_type": "stream",
          "text": [
            "\u001b[34m\u001b[1mwandb\u001b[0m:   1 of 1 files downloaded.  \n"
          ]
        },
        {
          "name": "stdout",
          "output_type": "stream",
          "text": [
            "Loaded 3 episodes from v324\n",
            "Downloading artifact version: mahin-sank-iit-kgp/alpha-racer-data/alpha_racer_multi_mpc_combined:v325\n"
          ]
        },
        {
          "name": "stderr",
          "output_type": "stream",
          "text": [
            "\u001b[34m\u001b[1mwandb\u001b[0m:   1 of 1 files downloaded.  \n"
          ]
        },
        {
          "name": "stdout",
          "output_type": "stream",
          "text": [
            "Loaded 3 episodes from v325\n",
            "Downloading artifact version: mahin-sank-iit-kgp/alpha-racer-data/alpha_racer_multi_mpc_combined:v326\n"
          ]
        },
        {
          "name": "stderr",
          "output_type": "stream",
          "text": [
            "\u001b[34m\u001b[1mwandb\u001b[0m:   1 of 1 files downloaded.  \n"
          ]
        },
        {
          "name": "stdout",
          "output_type": "stream",
          "text": [
            "Loaded 3 episodes from v326\n",
            "Downloading artifact version: mahin-sank-iit-kgp/alpha-racer-data/alpha_racer_multi_mpc_combined:v327\n"
          ]
        },
        {
          "name": "stderr",
          "output_type": "stream",
          "text": [
            "\u001b[34m\u001b[1mwandb\u001b[0m:   1 of 1 files downloaded.  \n"
          ]
        },
        {
          "name": "stdout",
          "output_type": "stream",
          "text": [
            "Loaded 3 episodes from v327\n",
            "Downloading artifact version: mahin-sank-iit-kgp/alpha-racer-data/alpha_racer_multi_mpc_combined:v328\n"
          ]
        },
        {
          "name": "stderr",
          "output_type": "stream",
          "text": [
            "\u001b[34m\u001b[1mwandb\u001b[0m:   1 of 1 files downloaded.  \n"
          ]
        },
        {
          "name": "stdout",
          "output_type": "stream",
          "text": [
            "Loaded 3 episodes from v328\n",
            "Downloading artifact version: mahin-sank-iit-kgp/alpha-racer-data/alpha_racer_multi_mpc_combined:v329\n"
          ]
        },
        {
          "name": "stderr",
          "output_type": "stream",
          "text": [
            "\u001b[34m\u001b[1mwandb\u001b[0m:   1 of 1 files downloaded.  \n"
          ]
        },
        {
          "name": "stdout",
          "output_type": "stream",
          "text": [
            "Loaded 3 episodes from v329\n",
            "Downloading artifact version: mahin-sank-iit-kgp/alpha-racer-data/alpha_racer_multi_mpc_combined:v330\n"
          ]
        },
        {
          "name": "stderr",
          "output_type": "stream",
          "text": [
            "\u001b[34m\u001b[1mwandb\u001b[0m:   1 of 1 files downloaded.  \n"
          ]
        },
        {
          "name": "stdout",
          "output_type": "stream",
          "text": [
            "Loaded 3 episodes from v330\n",
            "Downloading artifact version: mahin-sank-iit-kgp/alpha-racer-data/alpha_racer_multi_mpc_combined:v331\n"
          ]
        },
        {
          "name": "stderr",
          "output_type": "stream",
          "text": [
            "\u001b[34m\u001b[1mwandb\u001b[0m:   1 of 1 files downloaded.  \n"
          ]
        },
        {
          "name": "stdout",
          "output_type": "stream",
          "text": [
            "Loaded 3 episodes from v331\n",
            "Downloading artifact version: mahin-sank-iit-kgp/alpha-racer-data/alpha_racer_multi_mpc_combined:v332\n"
          ]
        },
        {
          "name": "stderr",
          "output_type": "stream",
          "text": [
            "\u001b[34m\u001b[1mwandb\u001b[0m:   1 of 1 files downloaded.  \n"
          ]
        },
        {
          "name": "stdout",
          "output_type": "stream",
          "text": [
            "Loaded 3 episodes from v332\n",
            "Downloading artifact version: mahin-sank-iit-kgp/alpha-racer-data/alpha_racer_multi_mpc_combined:v333\n"
          ]
        },
        {
          "name": "stderr",
          "output_type": "stream",
          "text": [
            "\u001b[34m\u001b[1mwandb\u001b[0m:   1 of 1 files downloaded.  \n"
          ]
        },
        {
          "name": "stdout",
          "output_type": "stream",
          "text": [
            "Loaded 3 episodes from v333\n",
            "Downloading artifact version: mahin-sank-iit-kgp/alpha-racer-data/alpha_racer_multi_mpc_combined:v334\n"
          ]
        },
        {
          "name": "stderr",
          "output_type": "stream",
          "text": [
            "\u001b[34m\u001b[1mwandb\u001b[0m:   1 of 1 files downloaded.  \n"
          ]
        },
        {
          "name": "stdout",
          "output_type": "stream",
          "text": [
            "Loaded 4 episodes from v334\n",
            "Downloading artifact version: mahin-sank-iit-kgp/alpha-racer-data/alpha_racer_multi_mpc_combined:v335\n"
          ]
        },
        {
          "name": "stderr",
          "output_type": "stream",
          "text": [
            "\u001b[34m\u001b[1mwandb\u001b[0m:   1 of 1 files downloaded.  \n"
          ]
        },
        {
          "name": "stdout",
          "output_type": "stream",
          "text": [
            "Loaded 4 episodes from v335\n",
            "Downloading artifact version: mahin-sank-iit-kgp/alpha-racer-data/alpha_racer_multi_mpc_combined:v336\n"
          ]
        },
        {
          "name": "stderr",
          "output_type": "stream",
          "text": [
            "\u001b[34m\u001b[1mwandb\u001b[0m:   1 of 1 files downloaded.  \n"
          ]
        },
        {
          "name": "stdout",
          "output_type": "stream",
          "text": [
            "Loaded 4 episodes from v336\n",
            "Downloading artifact version: mahin-sank-iit-kgp/alpha-racer-data/alpha_racer_multi_mpc_combined:v337\n"
          ]
        },
        {
          "name": "stderr",
          "output_type": "stream",
          "text": [
            "\u001b[34m\u001b[1mwandb\u001b[0m:   1 of 1 files downloaded.  \n"
          ]
        },
        {
          "name": "stdout",
          "output_type": "stream",
          "text": [
            "Loaded 4 episodes from v337\n",
            "Downloading artifact version: mahin-sank-iit-kgp/alpha-racer-data/alpha_racer_multi_mpc_combined:v338\n"
          ]
        },
        {
          "name": "stderr",
          "output_type": "stream",
          "text": [
            "\u001b[34m\u001b[1mwandb\u001b[0m:   1 of 1 files downloaded.  \n"
          ]
        },
        {
          "name": "stdout",
          "output_type": "stream",
          "text": [
            "Loaded 4 episodes from v338\n",
            "Downloading artifact version: mahin-sank-iit-kgp/alpha-racer-data/alpha_racer_multi_mpc_combined:v339\n"
          ]
        },
        {
          "name": "stderr",
          "output_type": "stream",
          "text": [
            "\u001b[34m\u001b[1mwandb\u001b[0m:   1 of 1 files downloaded.  \n"
          ]
        },
        {
          "name": "stdout",
          "output_type": "stream",
          "text": [
            "Loaded 4 episodes from v339\n",
            "Downloading artifact version: mahin-sank-iit-kgp/alpha-racer-data/alpha_racer_multi_mpc_combined:v340\n"
          ]
        },
        {
          "name": "stderr",
          "output_type": "stream",
          "text": [
            "\u001b[34m\u001b[1mwandb\u001b[0m:   1 of 1 files downloaded.  \n"
          ]
        },
        {
          "name": "stdout",
          "output_type": "stream",
          "text": [
            "Loaded 4 episodes from v340\n",
            "Downloading artifact version: mahin-sank-iit-kgp/alpha-racer-data/alpha_racer_multi_mpc_combined:v341\n"
          ]
        },
        {
          "name": "stderr",
          "output_type": "stream",
          "text": [
            "\u001b[34m\u001b[1mwandb\u001b[0m:   1 of 1 files downloaded.  \n"
          ]
        },
        {
          "name": "stdout",
          "output_type": "stream",
          "text": [
            "Loaded 4 episodes from v341\n",
            "Downloading artifact version: mahin-sank-iit-kgp/alpha-racer-data/alpha_racer_multi_mpc_combined:v342\n"
          ]
        },
        {
          "name": "stderr",
          "output_type": "stream",
          "text": [
            "\u001b[34m\u001b[1mwandb\u001b[0m:   1 of 1 files downloaded.  \n"
          ]
        },
        {
          "name": "stdout",
          "output_type": "stream",
          "text": [
            "Loaded 4 episodes from v342\n",
            "Downloading artifact version: mahin-sank-iit-kgp/alpha-racer-data/alpha_racer_multi_mpc_combined:v343\n"
          ]
        },
        {
          "name": "stderr",
          "output_type": "stream",
          "text": [
            "\u001b[34m\u001b[1mwandb\u001b[0m:   1 of 1 files downloaded.  \n"
          ]
        },
        {
          "name": "stdout",
          "output_type": "stream",
          "text": [
            "Loaded 4 episodes from v343\n",
            "Downloading artifact version: mahin-sank-iit-kgp/alpha-racer-data/alpha_racer_multi_mpc_combined:v344\n"
          ]
        },
        {
          "name": "stderr",
          "output_type": "stream",
          "text": [
            "\u001b[34m\u001b[1mwandb\u001b[0m:   1 of 1 files downloaded.  \n"
          ]
        },
        {
          "name": "stdout",
          "output_type": "stream",
          "text": [
            "Loaded 5 episodes from v344\n",
            "Downloading artifact version: mahin-sank-iit-kgp/alpha-racer-data/alpha_racer_multi_mpc_combined:v345\n"
          ]
        },
        {
          "name": "stderr",
          "output_type": "stream",
          "text": [
            "\u001b[34m\u001b[1mwandb\u001b[0m:   1 of 1 files downloaded.  \n"
          ]
        },
        {
          "name": "stdout",
          "output_type": "stream",
          "text": [
            "Loaded 2 episodes from v345\n",
            "Downloading artifact version: mahin-sank-iit-kgp/alpha-racer-data/alpha_racer_multi_mpc_combined:v346\n"
          ]
        },
        {
          "name": "stderr",
          "output_type": "stream",
          "text": [
            "\u001b[34m\u001b[1mwandb\u001b[0m:   1 of 1 files downloaded.  \n"
          ]
        },
        {
          "name": "stdout",
          "output_type": "stream",
          "text": [
            "Loaded 2 episodes from v346\n",
            "Downloading artifact version: mahin-sank-iit-kgp/alpha-racer-data/alpha_racer_multi_mpc_combined:v347\n"
          ]
        },
        {
          "name": "stderr",
          "output_type": "stream",
          "text": [
            "\u001b[34m\u001b[1mwandb\u001b[0m:   1 of 1 files downloaded.  \n"
          ]
        },
        {
          "name": "stdout",
          "output_type": "stream",
          "text": [
            "Loaded 2 episodes from v347\n",
            "Downloading artifact version: mahin-sank-iit-kgp/alpha-racer-data/alpha_racer_multi_mpc_combined:v348\n"
          ]
        },
        {
          "name": "stderr",
          "output_type": "stream",
          "text": [
            "\u001b[34m\u001b[1mwandb\u001b[0m:   1 of 1 files downloaded.  \n"
          ]
        },
        {
          "name": "stdout",
          "output_type": "stream",
          "text": [
            "Loaded 2 episodes from v348\n",
            "Downloading artifact version: mahin-sank-iit-kgp/alpha-racer-data/alpha_racer_multi_mpc_combined:v349\n"
          ]
        },
        {
          "name": "stderr",
          "output_type": "stream",
          "text": [
            "\u001b[34m\u001b[1mwandb\u001b[0m:   1 of 1 files downloaded.  \n"
          ]
        },
        {
          "name": "stdout",
          "output_type": "stream",
          "text": [
            "Loaded 2 episodes from v349\n",
            "Downloading artifact version: mahin-sank-iit-kgp/alpha-racer-data/alpha_racer_multi_mpc_combined:v350\n"
          ]
        },
        {
          "name": "stderr",
          "output_type": "stream",
          "text": [
            "\u001b[34m\u001b[1mwandb\u001b[0m:   1 of 1 files downloaded.  \n"
          ]
        },
        {
          "name": "stdout",
          "output_type": "stream",
          "text": [
            "Loaded 2 episodes from v350\n",
            "Downloading artifact version: mahin-sank-iit-kgp/alpha-racer-data/alpha_racer_multi_mpc_combined:v351\n"
          ]
        },
        {
          "name": "stderr",
          "output_type": "stream",
          "text": [
            "\u001b[34m\u001b[1mwandb\u001b[0m:   1 of 1 files downloaded.  \n"
          ]
        },
        {
          "name": "stdout",
          "output_type": "stream",
          "text": [
            "Loaded 2 episodes from v351\n",
            "Downloading artifact version: mahin-sank-iit-kgp/alpha-racer-data/alpha_racer_multi_mpc_combined:v352\n"
          ]
        },
        {
          "name": "stderr",
          "output_type": "stream",
          "text": [
            "\u001b[34m\u001b[1mwandb\u001b[0m:   1 of 1 files downloaded.  \n"
          ]
        },
        {
          "name": "stdout",
          "output_type": "stream",
          "text": [
            "Loaded 2 episodes from v352\n",
            "Downloading artifact version: mahin-sank-iit-kgp/alpha-racer-data/alpha_racer_multi_mpc_combined:v353\n"
          ]
        },
        {
          "name": "stderr",
          "output_type": "stream",
          "text": [
            "\u001b[34m\u001b[1mwandb\u001b[0m:   1 of 1 files downloaded.  \n"
          ]
        },
        {
          "name": "stdout",
          "output_type": "stream",
          "text": [
            "Loaded 2 episodes from v353\n",
            "Downloading artifact version: mahin-sank-iit-kgp/alpha-racer-data/alpha_racer_multi_mpc_combined:v354\n"
          ]
        },
        {
          "name": "stderr",
          "output_type": "stream",
          "text": [
            "\u001b[34m\u001b[1mwandb\u001b[0m:   1 of 1 files downloaded.  \n"
          ]
        },
        {
          "name": "stdout",
          "output_type": "stream",
          "text": [
            "Loaded 2 episodes from v354\n",
            "Downloading artifact version: mahin-sank-iit-kgp/alpha-racer-data/alpha_racer_multi_mpc_combined:v355\n"
          ]
        },
        {
          "name": "stderr",
          "output_type": "stream",
          "text": [
            "\u001b[34m\u001b[1mwandb\u001b[0m:   1 of 1 files downloaded.  \n"
          ]
        },
        {
          "name": "stdout",
          "output_type": "stream",
          "text": [
            "Loaded 2 episodes from v355\n",
            "Downloading artifact version: mahin-sank-iit-kgp/alpha-racer-data/alpha_racer_multi_mpc_combined:v356\n"
          ]
        },
        {
          "name": "stderr",
          "output_type": "stream",
          "text": [
            "\u001b[34m\u001b[1mwandb\u001b[0m:   1 of 1 files downloaded.  \n"
          ]
        },
        {
          "name": "stdout",
          "output_type": "stream",
          "text": [
            "Loaded 2 episodes from v356\n",
            "Downloading artifact version: mahin-sank-iit-kgp/alpha-racer-data/alpha_racer_multi_mpc_combined:v357\n"
          ]
        },
        {
          "name": "stderr",
          "output_type": "stream",
          "text": [
            "\u001b[34m\u001b[1mwandb\u001b[0m:   1 of 1 files downloaded.  \n"
          ]
        },
        {
          "name": "stdout",
          "output_type": "stream",
          "text": [
            "Loaded 2 episodes from v357\n",
            "Downloading artifact version: mahin-sank-iit-kgp/alpha-racer-data/alpha_racer_multi_mpc_combined:v358\n"
          ]
        },
        {
          "name": "stderr",
          "output_type": "stream",
          "text": [
            "\u001b[34m\u001b[1mwandb\u001b[0m:   1 of 1 files downloaded.  \n"
          ]
        },
        {
          "name": "stdout",
          "output_type": "stream",
          "text": [
            "Loaded 2 episodes from v358\n",
            "Downloading artifact version: mahin-sank-iit-kgp/alpha-racer-data/alpha_racer_multi_mpc_combined:v359\n"
          ]
        },
        {
          "name": "stderr",
          "output_type": "stream",
          "text": [
            "\u001b[34m\u001b[1mwandb\u001b[0m:   1 of 1 files downloaded.  \n"
          ]
        },
        {
          "name": "stdout",
          "output_type": "stream",
          "text": [
            "Loaded 2 episodes from v359\n",
            "Downloading artifact version: mahin-sank-iit-kgp/alpha-racer-data/alpha_racer_multi_mpc_combined:v360\n"
          ]
        },
        {
          "name": "stderr",
          "output_type": "stream",
          "text": [
            "\u001b[34m\u001b[1mwandb\u001b[0m:   1 of 1 files downloaded.  \n"
          ]
        },
        {
          "name": "stdout",
          "output_type": "stream",
          "text": [
            "Loaded 2 episodes from v360\n",
            "Downloading artifact version: mahin-sank-iit-kgp/alpha-racer-data/alpha_racer_multi_mpc_combined:v361\n"
          ]
        },
        {
          "name": "stderr",
          "output_type": "stream",
          "text": [
            "\u001b[34m\u001b[1mwandb\u001b[0m:   1 of 1 files downloaded.  \n"
          ]
        },
        {
          "name": "stdout",
          "output_type": "stream",
          "text": [
            "Loaded 2 episodes from v361\n",
            "Downloading artifact version: mahin-sank-iit-kgp/alpha-racer-data/alpha_racer_multi_mpc_combined:v362\n"
          ]
        },
        {
          "name": "stderr",
          "output_type": "stream",
          "text": [
            "\u001b[34m\u001b[1mwandb\u001b[0m:   1 of 1 files downloaded.  \n"
          ]
        },
        {
          "name": "stdout",
          "output_type": "stream",
          "text": [
            "Loaded 2 episodes from v362\n",
            "Downloading artifact version: mahin-sank-iit-kgp/alpha-racer-data/alpha_racer_multi_mpc_combined:v363\n"
          ]
        },
        {
          "name": "stderr",
          "output_type": "stream",
          "text": [
            "\u001b[34m\u001b[1mwandb\u001b[0m:   1 of 1 files downloaded.  \n"
          ]
        },
        {
          "name": "stdout",
          "output_type": "stream",
          "text": [
            "Loaded 3 episodes from v363\n",
            "Downloading artifact version: mahin-sank-iit-kgp/alpha-racer-data/alpha_racer_multi_mpc_combined:v364\n"
          ]
        },
        {
          "name": "stderr",
          "output_type": "stream",
          "text": [
            "\u001b[34m\u001b[1mwandb\u001b[0m:   1 of 1 files downloaded.  \n"
          ]
        },
        {
          "name": "stdout",
          "output_type": "stream",
          "text": [
            "Loaded 3 episodes from v364\n",
            "Downloading artifact version: mahin-sank-iit-kgp/alpha-racer-data/alpha_racer_multi_mpc_combined:v365\n"
          ]
        },
        {
          "name": "stderr",
          "output_type": "stream",
          "text": [
            "\u001b[34m\u001b[1mwandb\u001b[0m:   1 of 1 files downloaded.  \n"
          ]
        },
        {
          "name": "stdout",
          "output_type": "stream",
          "text": [
            "Loaded 3 episodes from v365\n",
            "Downloading artifact version: mahin-sank-iit-kgp/alpha-racer-data/alpha_racer_multi_mpc_combined:v366\n"
          ]
        },
        {
          "name": "stderr",
          "output_type": "stream",
          "text": [
            "\u001b[34m\u001b[1mwandb\u001b[0m:   1 of 1 files downloaded.  \n"
          ]
        },
        {
          "name": "stdout",
          "output_type": "stream",
          "text": [
            "Loaded 3 episodes from v366\n",
            "Downloading artifact version: mahin-sank-iit-kgp/alpha-racer-data/alpha_racer_multi_mpc_combined:v367\n"
          ]
        },
        {
          "name": "stderr",
          "output_type": "stream",
          "text": [
            "\u001b[34m\u001b[1mwandb\u001b[0m:   1 of 1 files downloaded.  \n"
          ]
        },
        {
          "name": "stdout",
          "output_type": "stream",
          "text": [
            "Loaded 3 episodes from v367\n",
            "Downloading artifact version: mahin-sank-iit-kgp/alpha-racer-data/alpha_racer_multi_mpc_combined:v368\n"
          ]
        },
        {
          "name": "stderr",
          "output_type": "stream",
          "text": [
            "\u001b[34m\u001b[1mwandb\u001b[0m:   1 of 1 files downloaded.  \n"
          ]
        },
        {
          "name": "stdout",
          "output_type": "stream",
          "text": [
            "Loaded 3 episodes from v368\n",
            "Downloading artifact version: mahin-sank-iit-kgp/alpha-racer-data/alpha_racer_multi_mpc_combined:v369\n"
          ]
        },
        {
          "name": "stderr",
          "output_type": "stream",
          "text": [
            "\u001b[34m\u001b[1mwandb\u001b[0m:   1 of 1 files downloaded.  \n"
          ]
        },
        {
          "name": "stdout",
          "output_type": "stream",
          "text": [
            "Loaded 3 episodes from v369\n",
            "Downloading artifact version: mahin-sank-iit-kgp/alpha-racer-data/alpha_racer_multi_mpc_combined:v370\n"
          ]
        },
        {
          "name": "stderr",
          "output_type": "stream",
          "text": [
            "\u001b[34m\u001b[1mwandb\u001b[0m:   1 of 1 files downloaded.  \n"
          ]
        },
        {
          "name": "stdout",
          "output_type": "stream",
          "text": [
            "Loaded 3 episodes from v370\n",
            "Downloading artifact version: mahin-sank-iit-kgp/alpha-racer-data/alpha_racer_multi_mpc_combined:v371\n"
          ]
        },
        {
          "name": "stderr",
          "output_type": "stream",
          "text": [
            "\u001b[34m\u001b[1mwandb\u001b[0m:   1 of 1 files downloaded.  \n"
          ]
        },
        {
          "name": "stdout",
          "output_type": "stream",
          "text": [
            "Loaded 3 episodes from v371\n",
            "Downloading artifact version: mahin-sank-iit-kgp/alpha-racer-data/alpha_racer_multi_mpc_combined:v372\n"
          ]
        },
        {
          "name": "stderr",
          "output_type": "stream",
          "text": [
            "\u001b[34m\u001b[1mwandb\u001b[0m:   1 of 1 files downloaded.  \n"
          ]
        },
        {
          "name": "stdout",
          "output_type": "stream",
          "text": [
            "Loaded 3 episodes from v372\n",
            "Downloading artifact version: mahin-sank-iit-kgp/alpha-racer-data/alpha_racer_multi_mpc_combined:v373\n"
          ]
        },
        {
          "name": "stderr",
          "output_type": "stream",
          "text": [
            "\u001b[34m\u001b[1mwandb\u001b[0m:   1 of 1 files downloaded.  \n"
          ]
        },
        {
          "name": "stdout",
          "output_type": "stream",
          "text": [
            "Loaded 4 episodes from v373\n",
            "Downloading artifact version: mahin-sank-iit-kgp/alpha-racer-data/alpha_racer_multi_mpc_combined:v374\n"
          ]
        },
        {
          "name": "stderr",
          "output_type": "stream",
          "text": [
            "\u001b[34m\u001b[1mwandb\u001b[0m:   1 of 1 files downloaded.  \n"
          ]
        },
        {
          "name": "stdout",
          "output_type": "stream",
          "text": [
            "Loaded 4 episodes from v374\n",
            "Downloading artifact version: mahin-sank-iit-kgp/alpha-racer-data/alpha_racer_multi_mpc_combined:v375\n"
          ]
        },
        {
          "name": "stderr",
          "output_type": "stream",
          "text": [
            "\u001b[34m\u001b[1mwandb\u001b[0m:   1 of 1 files downloaded.  \n"
          ]
        },
        {
          "name": "stdout",
          "output_type": "stream",
          "text": [
            "Loaded 2 episodes from v375\n",
            "Downloading artifact version: mahin-sank-iit-kgp/alpha-racer-data/alpha_racer_multi_mpc_combined:v376\n"
          ]
        },
        {
          "name": "stderr",
          "output_type": "stream",
          "text": [
            "\u001b[34m\u001b[1mwandb\u001b[0m:   1 of 1 files downloaded.  \n"
          ]
        },
        {
          "name": "stdout",
          "output_type": "stream",
          "text": [
            "Loaded 2 episodes from v376\n",
            "Downloading artifact version: mahin-sank-iit-kgp/alpha-racer-data/alpha_racer_multi_mpc_combined:v377\n"
          ]
        },
        {
          "name": "stderr",
          "output_type": "stream",
          "text": [
            "\u001b[34m\u001b[1mwandb\u001b[0m:   1 of 1 files downloaded.  \n"
          ]
        },
        {
          "name": "stdout",
          "output_type": "stream",
          "text": [
            "Loaded 2 episodes from v377\n",
            "Downloading artifact version: mahin-sank-iit-kgp/alpha-racer-data/alpha_racer_multi_mpc_combined:v378\n"
          ]
        },
        {
          "name": "stderr",
          "output_type": "stream",
          "text": [
            "\u001b[34m\u001b[1mwandb\u001b[0m:   1 of 1 files downloaded.  \n"
          ]
        },
        {
          "name": "stdout",
          "output_type": "stream",
          "text": [
            "Loaded 2 episodes from v378\n",
            "Downloading artifact version: mahin-sank-iit-kgp/alpha-racer-data/alpha_racer_multi_mpc_combined:v379\n"
          ]
        },
        {
          "name": "stderr",
          "output_type": "stream",
          "text": [
            "\u001b[34m\u001b[1mwandb\u001b[0m:   1 of 1 files downloaded.  \n"
          ]
        },
        {
          "name": "stdout",
          "output_type": "stream",
          "text": [
            "Loaded 2 episodes from v379\n",
            "Downloading artifact version: mahin-sank-iit-kgp/alpha-racer-data/alpha_racer_multi_mpc_combined:v380\n"
          ]
        },
        {
          "name": "stderr",
          "output_type": "stream",
          "text": [
            "\u001b[34m\u001b[1mwandb\u001b[0m:   1 of 1 files downloaded.  \n"
          ]
        },
        {
          "name": "stdout",
          "output_type": "stream",
          "text": [
            "Loaded 2 episodes from v380\n",
            "Downloading artifact version: mahin-sank-iit-kgp/alpha-racer-data/alpha_racer_multi_mpc_combined:v381\n"
          ]
        },
        {
          "name": "stderr",
          "output_type": "stream",
          "text": [
            "\u001b[34m\u001b[1mwandb\u001b[0m:   1 of 1 files downloaded.  \n"
          ]
        },
        {
          "name": "stdout",
          "output_type": "stream",
          "text": [
            "Loaded 2 episodes from v381\n",
            "Downloading artifact version: mahin-sank-iit-kgp/alpha-racer-data/alpha_racer_multi_mpc_combined:v382\n"
          ]
        },
        {
          "name": "stderr",
          "output_type": "stream",
          "text": [
            "\u001b[34m\u001b[1mwandb\u001b[0m:   1 of 1 files downloaded.  \n"
          ]
        },
        {
          "name": "stdout",
          "output_type": "stream",
          "text": [
            "Loaded 2 episodes from v382\n",
            "Downloading artifact version: mahin-sank-iit-kgp/alpha-racer-data/alpha_racer_multi_mpc_combined:v383\n"
          ]
        },
        {
          "name": "stderr",
          "output_type": "stream",
          "text": [
            "\u001b[34m\u001b[1mwandb\u001b[0m:   1 of 1 files downloaded.  \n"
          ]
        },
        {
          "name": "stdout",
          "output_type": "stream",
          "text": [
            "Loaded 2 episodes from v383\n",
            "Downloading artifact version: mahin-sank-iit-kgp/alpha-racer-data/alpha_racer_multi_mpc_combined:v384\n"
          ]
        },
        {
          "name": "stderr",
          "output_type": "stream",
          "text": [
            "\u001b[34m\u001b[1mwandb\u001b[0m:   1 of 1 files downloaded.  \n"
          ]
        },
        {
          "name": "stdout",
          "output_type": "stream",
          "text": [
            "Loaded 2 episodes from v384\n",
            "Downloading artifact version: mahin-sank-iit-kgp/alpha-racer-data/alpha_racer_multi_mpc_combined:v385\n"
          ]
        },
        {
          "name": "stderr",
          "output_type": "stream",
          "text": [
            "\u001b[34m\u001b[1mwandb\u001b[0m:   1 of 1 files downloaded.  \n"
          ]
        },
        {
          "name": "stdout",
          "output_type": "stream",
          "text": [
            "Loaded 3 episodes from v385\n",
            "Downloading artifact version: mahin-sank-iit-kgp/alpha-racer-data/alpha_racer_multi_mpc_combined:v386\n"
          ]
        },
        {
          "name": "stderr",
          "output_type": "stream",
          "text": [
            "\u001b[34m\u001b[1mwandb\u001b[0m:   1 of 1 files downloaded.  \n"
          ]
        },
        {
          "name": "stdout",
          "output_type": "stream",
          "text": [
            "Loaded 3 episodes from v386\n",
            "Downloading artifact version: mahin-sank-iit-kgp/alpha-racer-data/alpha_racer_multi_mpc_combined:v387\n"
          ]
        },
        {
          "name": "stderr",
          "output_type": "stream",
          "text": [
            "\u001b[34m\u001b[1mwandb\u001b[0m:   1 of 1 files downloaded.  \n"
          ]
        },
        {
          "name": "stdout",
          "output_type": "stream",
          "text": [
            "Loaded 3 episodes from v387\n",
            "Downloading artifact version: mahin-sank-iit-kgp/alpha-racer-data/alpha_racer_multi_mpc_combined:v388\n"
          ]
        },
        {
          "name": "stderr",
          "output_type": "stream",
          "text": [
            "\u001b[34m\u001b[1mwandb\u001b[0m:   1 of 1 files downloaded.  \n"
          ]
        },
        {
          "name": "stdout",
          "output_type": "stream",
          "text": [
            "Loaded 3 episodes from v388\n",
            "Downloading artifact version: mahin-sank-iit-kgp/alpha-racer-data/alpha_racer_multi_mpc_combined:v389\n"
          ]
        },
        {
          "name": "stderr",
          "output_type": "stream",
          "text": [
            "\u001b[34m\u001b[1mwandb\u001b[0m:   1 of 1 files downloaded.  \n"
          ]
        },
        {
          "name": "stdout",
          "output_type": "stream",
          "text": [
            "Loaded 3 episodes from v389\n",
            "Downloading artifact version: mahin-sank-iit-kgp/alpha-racer-data/alpha_racer_multi_mpc_combined:v390\n"
          ]
        },
        {
          "name": "stderr",
          "output_type": "stream",
          "text": [
            "\u001b[34m\u001b[1mwandb\u001b[0m:   1 of 1 files downloaded.  \n"
          ]
        },
        {
          "name": "stdout",
          "output_type": "stream",
          "text": [
            "Loaded 3 episodes from v390\n",
            "Downloading artifact version: mahin-sank-iit-kgp/alpha-racer-data/alpha_racer_multi_mpc_combined:v391\n"
          ]
        },
        {
          "name": "stderr",
          "output_type": "stream",
          "text": [
            "\u001b[34m\u001b[1mwandb\u001b[0m:   1 of 1 files downloaded.  \n"
          ]
        },
        {
          "name": "stdout",
          "output_type": "stream",
          "text": [
            "Loaded 3 episodes from v391\n",
            "Downloading artifact version: mahin-sank-iit-kgp/alpha-racer-data/alpha_racer_multi_mpc_combined:v392\n"
          ]
        },
        {
          "name": "stderr",
          "output_type": "stream",
          "text": [
            "\u001b[34m\u001b[1mwandb\u001b[0m:   1 of 1 files downloaded.  \n"
          ]
        },
        {
          "name": "stdout",
          "output_type": "stream",
          "text": [
            "Loaded 3 episodes from v392\n",
            "Downloading artifact version: mahin-sank-iit-kgp/alpha-racer-data/alpha_racer_multi_mpc_combined:v393\n"
          ]
        },
        {
          "name": "stderr",
          "output_type": "stream",
          "text": [
            "\u001b[34m\u001b[1mwandb\u001b[0m:   1 of 1 files downloaded.  \n"
          ]
        },
        {
          "name": "stdout",
          "output_type": "stream",
          "text": [
            "Loaded 3 episodes from v393\n",
            "Downloading artifact version: mahin-sank-iit-kgp/alpha-racer-data/alpha_racer_multi_mpc_combined:v394\n"
          ]
        },
        {
          "name": "stderr",
          "output_type": "stream",
          "text": [
            "\u001b[34m\u001b[1mwandb\u001b[0m:   1 of 1 files downloaded.  \n"
          ]
        },
        {
          "name": "stdout",
          "output_type": "stream",
          "text": [
            "Loaded 3 episodes from v394\n",
            "Downloading artifact version: mahin-sank-iit-kgp/alpha-racer-data/alpha_racer_multi_mpc_combined:v395\n"
          ]
        },
        {
          "name": "stderr",
          "output_type": "stream",
          "text": [
            "\u001b[34m\u001b[1mwandb\u001b[0m:   1 of 1 files downloaded.  \n"
          ]
        },
        {
          "name": "stdout",
          "output_type": "stream",
          "text": [
            "Loaded 4 episodes from v395\n",
            "Downloading artifact version: mahin-sank-iit-kgp/alpha-racer-data/alpha_racer_multi_mpc_combined:v396\n"
          ]
        },
        {
          "name": "stderr",
          "output_type": "stream",
          "text": [
            "\u001b[34m\u001b[1mwandb\u001b[0m:   1 of 1 files downloaded.  \n"
          ]
        },
        {
          "name": "stdout",
          "output_type": "stream",
          "text": [
            "Loaded 5 episodes from v396\n",
            "Downloading artifact version: mahin-sank-iit-kgp/alpha-racer-data/alpha_racer_multi_mpc_combined:v397\n"
          ]
        },
        {
          "name": "stderr",
          "output_type": "stream",
          "text": [
            "\u001b[34m\u001b[1mwandb\u001b[0m:   1 of 1 files downloaded.  \n"
          ]
        },
        {
          "name": "stdout",
          "output_type": "stream",
          "text": [
            "Loaded 5 episodes from v397\n",
            "Downloading artifact version: mahin-sank-iit-kgp/alpha-racer-data/alpha_racer_multi_mpc_combined:v398\n"
          ]
        },
        {
          "name": "stderr",
          "output_type": "stream",
          "text": [
            "\u001b[34m\u001b[1mwandb\u001b[0m:   1 of 1 files downloaded.  \n"
          ]
        },
        {
          "name": "stdout",
          "output_type": "stream",
          "text": [
            "Loaded 5 episodes from v398\n",
            "Downloading artifact version: mahin-sank-iit-kgp/alpha-racer-data/alpha_racer_multi_mpc_combined:v399\n"
          ]
        },
        {
          "name": "stderr",
          "output_type": "stream",
          "text": [
            "\u001b[34m\u001b[1mwandb\u001b[0m:   1 of 1 files downloaded.  \n"
          ]
        },
        {
          "name": "stdout",
          "output_type": "stream",
          "text": [
            "Loaded 5 episodes from v399\n",
            "Downloading artifact version: mahin-sank-iit-kgp/alpha-racer-data/alpha_racer_multi_mpc_combined:v400\n"
          ]
        },
        {
          "name": "stderr",
          "output_type": "stream",
          "text": [
            "\u001b[34m\u001b[1mwandb\u001b[0m:   1 of 1 files downloaded.  \n"
          ]
        },
        {
          "name": "stdout",
          "output_type": "stream",
          "text": [
            "Loaded 5 episodes from v400\n",
            "Downloading artifact version: mahin-sank-iit-kgp/alpha-racer-data/alpha_racer_multi_mpc_combined:v401\n"
          ]
        },
        {
          "name": "stderr",
          "output_type": "stream",
          "text": [
            "\u001b[34m\u001b[1mwandb\u001b[0m:   1 of 1 files downloaded.  \n"
          ]
        },
        {
          "name": "stdout",
          "output_type": "stream",
          "text": [
            "Loaded 5 episodes from v401\n",
            "Downloading artifact version: mahin-sank-iit-kgp/alpha-racer-data/alpha_racer_multi_mpc_combined:v402\n"
          ]
        },
        {
          "name": "stderr",
          "output_type": "stream",
          "text": [
            "\u001b[34m\u001b[1mwandb\u001b[0m:   1 of 1 files downloaded.  \n"
          ]
        },
        {
          "name": "stdout",
          "output_type": "stream",
          "text": [
            "Loaded 5 episodes from v402\n",
            "Downloading artifact version: mahin-sank-iit-kgp/alpha-racer-data/alpha_racer_multi_mpc_combined:v403\n"
          ]
        },
        {
          "name": "stderr",
          "output_type": "stream",
          "text": [
            "\u001b[34m\u001b[1mwandb\u001b[0m:   1 of 1 files downloaded.  \n"
          ]
        },
        {
          "name": "stdout",
          "output_type": "stream",
          "text": [
            "Loaded 5 episodes from v403\n",
            "Downloading artifact version: mahin-sank-iit-kgp/alpha-racer-data/alpha_racer_multi_mpc_combined:v404\n"
          ]
        },
        {
          "name": "stderr",
          "output_type": "stream",
          "text": [
            "\u001b[34m\u001b[1mwandb\u001b[0m:   1 of 1 files downloaded.  \n"
          ]
        },
        {
          "name": "stdout",
          "output_type": "stream",
          "text": [
            "Loaded 5 episodes from v404\n",
            "Downloading artifact version: mahin-sank-iit-kgp/alpha-racer-data/alpha_racer_multi_mpc_combined:v405\n"
          ]
        },
        {
          "name": "stderr",
          "output_type": "stream",
          "text": [
            "\u001b[34m\u001b[1mwandb\u001b[0m:   1 of 1 files downloaded.  \n"
          ]
        },
        {
          "name": "stdout",
          "output_type": "stream",
          "text": [
            "Loaded 5 episodes from v405\n",
            "Downloading artifact version: mahin-sank-iit-kgp/alpha-racer-data/alpha_racer_multi_mpc_combined:v406\n"
          ]
        },
        {
          "name": "stderr",
          "output_type": "stream",
          "text": [
            "\u001b[34m\u001b[1mwandb\u001b[0m:   1 of 1 files downloaded.  \n"
          ]
        },
        {
          "name": "stdout",
          "output_type": "stream",
          "text": [
            "Loaded 6 episodes from v406\n",
            "Downloading artifact version: mahin-sank-iit-kgp/alpha-racer-data/alpha_racer_multi_mpc_combined:v407\n"
          ]
        },
        {
          "name": "stderr",
          "output_type": "stream",
          "text": [
            "\u001b[34m\u001b[1mwandb\u001b[0m:   1 of 1 files downloaded.  \n"
          ]
        },
        {
          "name": "stdout",
          "output_type": "stream",
          "text": [
            "Loaded 6 episodes from v407\n",
            "Downloading artifact version: mahin-sank-iit-kgp/alpha-racer-data/alpha_racer_multi_mpc_combined:v408\n"
          ]
        },
        {
          "name": "stderr",
          "output_type": "stream",
          "text": [
            "\u001b[34m\u001b[1mwandb\u001b[0m:   1 of 1 files downloaded.  \n"
          ]
        },
        {
          "name": "stdout",
          "output_type": "stream",
          "text": [
            "Loaded 6 episodes from v408\n",
            "Downloading artifact version: mahin-sank-iit-kgp/alpha-racer-data/alpha_racer_multi_mpc_combined:v409\n"
          ]
        },
        {
          "name": "stderr",
          "output_type": "stream",
          "text": [
            "\u001b[34m\u001b[1mwandb\u001b[0m:   1 of 1 files downloaded.  \n"
          ]
        },
        {
          "name": "stdout",
          "output_type": "stream",
          "text": [
            "Loaded 6 episodes from v409\n",
            "Downloading artifact version: mahin-sank-iit-kgp/alpha-racer-data/alpha_racer_multi_mpc_combined:v410\n"
          ]
        },
        {
          "name": "stderr",
          "output_type": "stream",
          "text": [
            "\u001b[34m\u001b[1mwandb\u001b[0m:   1 of 1 files downloaded.  \n"
          ]
        },
        {
          "name": "stdout",
          "output_type": "stream",
          "text": [
            "Loaded 6 episodes from v410\n",
            "Downloading artifact version: mahin-sank-iit-kgp/alpha-racer-data/alpha_racer_multi_mpc_combined:v411\n"
          ]
        },
        {
          "name": "stderr",
          "output_type": "stream",
          "text": [
            "\u001b[34m\u001b[1mwandb\u001b[0m:   1 of 1 files downloaded.  \n"
          ]
        },
        {
          "name": "stdout",
          "output_type": "stream",
          "text": [
            "Loaded 6 episodes from v411\n",
            "Downloading artifact version: mahin-sank-iit-kgp/alpha-racer-data/alpha_racer_multi_mpc_combined:v412\n"
          ]
        },
        {
          "name": "stderr",
          "output_type": "stream",
          "text": [
            "\u001b[34m\u001b[1mwandb\u001b[0m:   1 of 1 files downloaded.  \n"
          ]
        },
        {
          "name": "stdout",
          "output_type": "stream",
          "text": [
            "Loaded 6 episodes from v412\n",
            "Downloading artifact version: mahin-sank-iit-kgp/alpha-racer-data/alpha_racer_multi_mpc_combined:v413\n"
          ]
        },
        {
          "name": "stderr",
          "output_type": "stream",
          "text": [
            "\u001b[34m\u001b[1mwandb\u001b[0m:   1 of 1 files downloaded.  \n"
          ]
        },
        {
          "name": "stdout",
          "output_type": "stream",
          "text": [
            "Loaded 6 episodes from v413\n",
            "Downloading artifact version: mahin-sank-iit-kgp/alpha-racer-data/alpha_racer_multi_mpc_combined:v414\n"
          ]
        },
        {
          "name": "stderr",
          "output_type": "stream",
          "text": [
            "\u001b[34m\u001b[1mwandb\u001b[0m:   1 of 1 files downloaded.  \n"
          ]
        },
        {
          "name": "stdout",
          "output_type": "stream",
          "text": [
            "Loaded 6 episodes from v414\n",
            "Downloading artifact version: mahin-sank-iit-kgp/alpha-racer-data/alpha_racer_multi_mpc_combined:v415\n"
          ]
        },
        {
          "name": "stderr",
          "output_type": "stream",
          "text": [
            "\u001b[34m\u001b[1mwandb\u001b[0m:   1 of 1 files downloaded.  \n"
          ]
        },
        {
          "name": "stdout",
          "output_type": "stream",
          "text": [
            "Loaded 6 episodes from v415\n",
            "Downloading artifact version: mahin-sank-iit-kgp/alpha-racer-data/alpha_racer_multi_mpc_combined:v416\n"
          ]
        },
        {
          "name": "stderr",
          "output_type": "stream",
          "text": [
            "\u001b[34m\u001b[1mwandb\u001b[0m:   1 of 1 files downloaded.  \n"
          ]
        },
        {
          "name": "stdout",
          "output_type": "stream",
          "text": [
            "Loaded 2 episodes from v416\n",
            "Downloading artifact version: mahin-sank-iit-kgp/alpha-racer-data/alpha_racer_multi_mpc_combined:v417\n"
          ]
        },
        {
          "name": "stderr",
          "output_type": "stream",
          "text": [
            "\u001b[34m\u001b[1mwandb\u001b[0m:   1 of 1 files downloaded.  \n"
          ]
        },
        {
          "name": "stdout",
          "output_type": "stream",
          "text": [
            "Loaded 2 episodes from v417\n",
            "Downloading artifact version: mahin-sank-iit-kgp/alpha-racer-data/alpha_racer_multi_mpc_combined:v418\n"
          ]
        },
        {
          "name": "stderr",
          "output_type": "stream",
          "text": [
            "\u001b[34m\u001b[1mwandb\u001b[0m:   1 of 1 files downloaded.  \n"
          ]
        },
        {
          "name": "stdout",
          "output_type": "stream",
          "text": [
            "Loaded 2 episodes from v418\n",
            "Downloading artifact version: mahin-sank-iit-kgp/alpha-racer-data/alpha_racer_multi_mpc_combined:v419\n"
          ]
        },
        {
          "name": "stderr",
          "output_type": "stream",
          "text": [
            "\u001b[34m\u001b[1mwandb\u001b[0m:   1 of 1 files downloaded.  \n"
          ]
        },
        {
          "name": "stdout",
          "output_type": "stream",
          "text": [
            "Loaded 2 episodes from v419\n",
            "Downloading artifact version: mahin-sank-iit-kgp/alpha-racer-data/alpha_racer_multi_mpc_combined:v420\n"
          ]
        },
        {
          "name": "stderr",
          "output_type": "stream",
          "text": [
            "\u001b[34m\u001b[1mwandb\u001b[0m:   1 of 1 files downloaded.  \n"
          ]
        },
        {
          "name": "stdout",
          "output_type": "stream",
          "text": [
            "Loaded 2 episodes from v420\n",
            "Downloading artifact version: mahin-sank-iit-kgp/alpha-racer-data/alpha_racer_multi_mpc_combined:v421\n"
          ]
        },
        {
          "name": "stderr",
          "output_type": "stream",
          "text": [
            "\u001b[34m\u001b[1mwandb\u001b[0m:   1 of 1 files downloaded.  \n"
          ]
        },
        {
          "name": "stdout",
          "output_type": "stream",
          "text": [
            "Loaded 2 episodes from v421\n",
            "Downloading artifact version: mahin-sank-iit-kgp/alpha-racer-data/alpha_racer_multi_mpc_combined:v422\n"
          ]
        },
        {
          "name": "stderr",
          "output_type": "stream",
          "text": [
            "\u001b[34m\u001b[1mwandb\u001b[0m:   1 of 1 files downloaded.  \n"
          ]
        },
        {
          "name": "stdout",
          "output_type": "stream",
          "text": [
            "Loaded 2 episodes from v422\n",
            "Downloading artifact version: mahin-sank-iit-kgp/alpha-racer-data/alpha_racer_multi_mpc_combined:v423\n"
          ]
        },
        {
          "name": "stderr",
          "output_type": "stream",
          "text": [
            "\u001b[34m\u001b[1mwandb\u001b[0m:   1 of 1 files downloaded.  \n"
          ]
        },
        {
          "name": "stdout",
          "output_type": "stream",
          "text": [
            "Loaded 2 episodes from v423\n",
            "Downloading artifact version: mahin-sank-iit-kgp/alpha-racer-data/alpha_racer_multi_mpc_combined:v424\n"
          ]
        },
        {
          "name": "stderr",
          "output_type": "stream",
          "text": [
            "\u001b[34m\u001b[1mwandb\u001b[0m:   1 of 1 files downloaded.  \n"
          ]
        },
        {
          "name": "stdout",
          "output_type": "stream",
          "text": [
            "Loaded 2 episodes from v424\n",
            "Downloading artifact version: mahin-sank-iit-kgp/alpha-racer-data/alpha_racer_multi_mpc_combined:v425\n"
          ]
        },
        {
          "name": "stderr",
          "output_type": "stream",
          "text": [
            "\u001b[34m\u001b[1mwandb\u001b[0m:   1 of 1 files downloaded.  \n"
          ]
        },
        {
          "name": "stdout",
          "output_type": "stream",
          "text": [
            "Loaded 2 episodes from v425\n",
            "Downloading artifact version: mahin-sank-iit-kgp/alpha-racer-data/alpha_racer_multi_mpc_combined:v426\n"
          ]
        },
        {
          "name": "stderr",
          "output_type": "stream",
          "text": [
            "\u001b[34m\u001b[1mwandb\u001b[0m:   1 of 1 files downloaded.  \n"
          ]
        },
        {
          "name": "stdout",
          "output_type": "stream",
          "text": [
            "Loaded 3 episodes from v426\n",
            "Downloading artifact version: mahin-sank-iit-kgp/alpha-racer-data/alpha_racer_multi_mpc_combined:v427\n"
          ]
        },
        {
          "name": "stderr",
          "output_type": "stream",
          "text": [
            "\u001b[34m\u001b[1mwandb\u001b[0m:   1 of 1 files downloaded.  \n"
          ]
        },
        {
          "name": "stdout",
          "output_type": "stream",
          "text": [
            "Loaded 3 episodes from v427\n",
            "Downloading artifact version: mahin-sank-iit-kgp/alpha-racer-data/alpha_racer_multi_mpc_combined:v428\n"
          ]
        },
        {
          "name": "stderr",
          "output_type": "stream",
          "text": [
            "\u001b[34m\u001b[1mwandb\u001b[0m:   1 of 1 files downloaded.  \n"
          ]
        },
        {
          "name": "stdout",
          "output_type": "stream",
          "text": [
            "Loaded 3 episodes from v428\n",
            "Downloading artifact version: mahin-sank-iit-kgp/alpha-racer-data/alpha_racer_multi_mpc_combined:v429\n"
          ]
        },
        {
          "name": "stderr",
          "output_type": "stream",
          "text": [
            "\u001b[34m\u001b[1mwandb\u001b[0m:   1 of 1 files downloaded.  \n"
          ]
        },
        {
          "name": "stdout",
          "output_type": "stream",
          "text": [
            "Loaded 3 episodes from v429\n",
            "Downloading artifact version: mahin-sank-iit-kgp/alpha-racer-data/alpha_racer_multi_mpc_combined:v430\n"
          ]
        },
        {
          "name": "stderr",
          "output_type": "stream",
          "text": [
            "\u001b[34m\u001b[1mwandb\u001b[0m:   1 of 1 files downloaded.  \n"
          ]
        },
        {
          "name": "stdout",
          "output_type": "stream",
          "text": [
            "Loaded 3 episodes from v430\n",
            "Downloading artifact version: mahin-sank-iit-kgp/alpha-racer-data/alpha_racer_multi_mpc_combined:v431\n"
          ]
        },
        {
          "name": "stderr",
          "output_type": "stream",
          "text": [
            "\u001b[34m\u001b[1mwandb\u001b[0m:   1 of 1 files downloaded.  \n"
          ]
        },
        {
          "name": "stdout",
          "output_type": "stream",
          "text": [
            "Loaded 3 episodes from v431\n",
            "Downloading artifact version: mahin-sank-iit-kgp/alpha-racer-data/alpha_racer_multi_mpc_combined:v432\n"
          ]
        },
        {
          "name": "stderr",
          "output_type": "stream",
          "text": [
            "\u001b[34m\u001b[1mwandb\u001b[0m:   1 of 1 files downloaded.  \n"
          ]
        },
        {
          "name": "stdout",
          "output_type": "stream",
          "text": [
            "Loaded 3 episodes from v432\n",
            "Downloading artifact version: mahin-sank-iit-kgp/alpha-racer-data/alpha_racer_multi_mpc_combined:v433\n"
          ]
        },
        {
          "name": "stderr",
          "output_type": "stream",
          "text": [
            "\u001b[34m\u001b[1mwandb\u001b[0m:   1 of 1 files downloaded.  \n"
          ]
        },
        {
          "name": "stdout",
          "output_type": "stream",
          "text": [
            "Loaded 3 episodes from v433\n",
            "Downloading artifact version: mahin-sank-iit-kgp/alpha-racer-data/alpha_racer_multi_mpc_combined:v434\n"
          ]
        },
        {
          "name": "stderr",
          "output_type": "stream",
          "text": [
            "\u001b[34m\u001b[1mwandb\u001b[0m:   1 of 1 files downloaded.  \n"
          ]
        },
        {
          "name": "stdout",
          "output_type": "stream",
          "text": [
            "Loaded 3 episodes from v434\n",
            "Downloading artifact version: mahin-sank-iit-kgp/alpha-racer-data/alpha_racer_multi_mpc_combined:v435\n"
          ]
        },
        {
          "name": "stderr",
          "output_type": "stream",
          "text": [
            "\u001b[34m\u001b[1mwandb\u001b[0m:   1 of 1 files downloaded.  \n"
          ]
        },
        {
          "name": "stdout",
          "output_type": "stream",
          "text": [
            "Loaded 3 episodes from v435\n",
            "Downloading artifact version: mahin-sank-iit-kgp/alpha-racer-data/alpha_racer_multi_mpc_combined:v436\n"
          ]
        },
        {
          "name": "stderr",
          "output_type": "stream",
          "text": [
            "\u001b[34m\u001b[1mwandb\u001b[0m:   1 of 1 files downloaded.  \n"
          ]
        },
        {
          "name": "stdout",
          "output_type": "stream",
          "text": [
            "Loaded 7 episodes from v436\n",
            "Downloading artifact version: mahin-sank-iit-kgp/alpha-racer-data/alpha_racer_multi_mpc_combined:v437\n"
          ]
        },
        {
          "name": "stderr",
          "output_type": "stream",
          "text": [
            "\u001b[34m\u001b[1mwandb\u001b[0m:   1 of 1 files downloaded.  \n"
          ]
        },
        {
          "name": "stdout",
          "output_type": "stream",
          "text": [
            "Loaded 4 episodes from v437\n",
            "Downloading artifact version: mahin-sank-iit-kgp/alpha-racer-data/alpha_racer_multi_mpc_combined:v438\n"
          ]
        },
        {
          "name": "stderr",
          "output_type": "stream",
          "text": [
            "\u001b[34m\u001b[1mwandb\u001b[0m:   1 of 1 files downloaded.  \n"
          ]
        },
        {
          "name": "stdout",
          "output_type": "stream",
          "text": [
            "Loaded 4 episodes from v438\n",
            "Downloading artifact version: mahin-sank-iit-kgp/alpha-racer-data/alpha_racer_multi_mpc_combined:v439\n"
          ]
        },
        {
          "name": "stderr",
          "output_type": "stream",
          "text": [
            "\u001b[34m\u001b[1mwandb\u001b[0m:   1 of 1 files downloaded.  \n"
          ]
        },
        {
          "name": "stdout",
          "output_type": "stream",
          "text": [
            "Loaded 4 episodes from v439\n",
            "Downloading artifact version: mahin-sank-iit-kgp/alpha-racer-data/alpha_racer_multi_mpc_combined:v440\n"
          ]
        },
        {
          "name": "stderr",
          "output_type": "stream",
          "text": [
            "\u001b[34m\u001b[1mwandb\u001b[0m:   1 of 1 files downloaded.  \n"
          ]
        },
        {
          "name": "stdout",
          "output_type": "stream",
          "text": [
            "Loaded 7 episodes from v440\n",
            "Downloading artifact version: mahin-sank-iit-kgp/alpha-racer-data/alpha_racer_multi_mpc_combined:v441\n"
          ]
        },
        {
          "name": "stderr",
          "output_type": "stream",
          "text": [
            "\u001b[34m\u001b[1mwandb\u001b[0m:   1 of 1 files downloaded.  \n"
          ]
        },
        {
          "name": "stdout",
          "output_type": "stream",
          "text": [
            "Loaded 4 episodes from v441\n",
            "Downloading artifact version: mahin-sank-iit-kgp/alpha-racer-data/alpha_racer_multi_mpc_combined:v442\n"
          ]
        },
        {
          "name": "stderr",
          "output_type": "stream",
          "text": [
            "\u001b[34m\u001b[1mwandb\u001b[0m:   1 of 1 files downloaded.  \n"
          ]
        },
        {
          "name": "stdout",
          "output_type": "stream",
          "text": [
            "Loaded 4 episodes from v442\n",
            "Downloading artifact version: mahin-sank-iit-kgp/alpha-racer-data/alpha_racer_multi_mpc_combined:v443\n"
          ]
        },
        {
          "name": "stderr",
          "output_type": "stream",
          "text": [
            "\u001b[34m\u001b[1mwandb\u001b[0m:   1 of 1 files downloaded.  \n"
          ]
        },
        {
          "name": "stdout",
          "output_type": "stream",
          "text": [
            "Loaded 7 episodes from v443\n",
            "Downloading artifact version: mahin-sank-iit-kgp/alpha-racer-data/alpha_racer_multi_mpc_combined:v444\n"
          ]
        },
        {
          "name": "stderr",
          "output_type": "stream",
          "text": [
            "\u001b[34m\u001b[1mwandb\u001b[0m:   1 of 1 files downloaded.  \n"
          ]
        },
        {
          "name": "stdout",
          "output_type": "stream",
          "text": [
            "Loaded 4 episodes from v444\n",
            "Downloading artifact version: mahin-sank-iit-kgp/alpha-racer-data/alpha_racer_multi_mpc_combined:v445\n"
          ]
        },
        {
          "name": "stderr",
          "output_type": "stream",
          "text": [
            "\u001b[34m\u001b[1mwandb\u001b[0m:   1 of 1 files downloaded.  \n"
          ]
        },
        {
          "name": "stdout",
          "output_type": "stream",
          "text": [
            "Loaded 4 episodes from v445\n",
            "Downloading artifact version: mahin-sank-iit-kgp/alpha-racer-data/alpha_racer_multi_mpc_combined:v446\n"
          ]
        },
        {
          "name": "stderr",
          "output_type": "stream",
          "text": [
            "\u001b[34m\u001b[1mwandb\u001b[0m:   1 of 1 files downloaded.  \n"
          ]
        },
        {
          "name": "stdout",
          "output_type": "stream",
          "text": [
            "Loaded 7 episodes from v446\n",
            "Downloading artifact version: mahin-sank-iit-kgp/alpha-racer-data/alpha_racer_multi_mpc_combined:v447\n"
          ]
        },
        {
          "name": "stderr",
          "output_type": "stream",
          "text": [
            "\u001b[34m\u001b[1mwandb\u001b[0m:   1 of 1 files downloaded.  \n"
          ]
        },
        {
          "name": "stdout",
          "output_type": "stream",
          "text": [
            "Loaded 7 episodes from v447\n",
            "Downloading artifact version: mahin-sank-iit-kgp/alpha-racer-data/alpha_racer_multi_mpc_combined:v448\n"
          ]
        },
        {
          "name": "stderr",
          "output_type": "stream",
          "text": [
            "\u001b[34m\u001b[1mwandb\u001b[0m:   1 of 1 files downloaded.  \n"
          ]
        },
        {
          "name": "stdout",
          "output_type": "stream",
          "text": [
            "Loaded 7 episodes from v448\n",
            "Downloading artifact version: mahin-sank-iit-kgp/alpha-racer-data/alpha_racer_multi_mpc_combined:v449\n"
          ]
        },
        {
          "name": "stderr",
          "output_type": "stream",
          "text": [
            "\u001b[34m\u001b[1mwandb\u001b[0m:   1 of 1 files downloaded.  \n"
          ]
        },
        {
          "name": "stdout",
          "output_type": "stream",
          "text": [
            "Loaded 7 episodes from v449\n",
            "Downloading artifact version: mahin-sank-iit-kgp/alpha-racer-data/alpha_racer_multi_mpc_combined:v450\n"
          ]
        },
        {
          "name": "stderr",
          "output_type": "stream",
          "text": [
            "\u001b[34m\u001b[1mwandb\u001b[0m:   1 of 1 files downloaded.  \n"
          ]
        },
        {
          "name": "stdout",
          "output_type": "stream",
          "text": [
            "Loaded 4 episodes from v450\n",
            "Downloading artifact version: mahin-sank-iit-kgp/alpha-racer-data/alpha_racer_multi_mpc_combined:v451\n"
          ]
        },
        {
          "name": "stderr",
          "output_type": "stream",
          "text": [
            "\u001b[34m\u001b[1mwandb\u001b[0m:   1 of 1 files downloaded.  \n"
          ]
        },
        {
          "name": "stdout",
          "output_type": "stream",
          "text": [
            "Loaded 7 episodes from v451\n",
            "Downloading artifact version: mahin-sank-iit-kgp/alpha-racer-data/alpha_racer_multi_mpc_combined:v452\n"
          ]
        },
        {
          "name": "stderr",
          "output_type": "stream",
          "text": [
            "\u001b[34m\u001b[1mwandb\u001b[0m:   1 of 1 files downloaded.  \n"
          ]
        },
        {
          "name": "stdout",
          "output_type": "stream",
          "text": [
            "Loaded 7 episodes from v452\n",
            "Downloading artifact version: mahin-sank-iit-kgp/alpha-racer-data/alpha_racer_multi_mpc_combined:v453\n"
          ]
        },
        {
          "name": "stderr",
          "output_type": "stream",
          "text": [
            "\u001b[34m\u001b[1mwandb\u001b[0m:   1 of 1 files downloaded.  \n"
          ]
        },
        {
          "name": "stdout",
          "output_type": "stream",
          "text": [
            "Loaded 4 episodes from v453\n",
            "Downloading artifact version: mahin-sank-iit-kgp/alpha-racer-data/alpha_racer_multi_mpc_combined:v454\n"
          ]
        },
        {
          "name": "stderr",
          "output_type": "stream",
          "text": [
            "\u001b[34m\u001b[1mwandb\u001b[0m:   1 of 1 files downloaded.  \n"
          ]
        },
        {
          "name": "stdout",
          "output_type": "stream",
          "text": [
            "Loaded 4 episodes from v454\n",
            "Downloading artifact version: mahin-sank-iit-kgp/alpha-racer-data/alpha_racer_multi_mpc_combined:v455\n"
          ]
        },
        {
          "name": "stderr",
          "output_type": "stream",
          "text": [
            "\u001b[34m\u001b[1mwandb\u001b[0m:   1 of 1 files downloaded.  \n"
          ]
        },
        {
          "name": "stdout",
          "output_type": "stream",
          "text": [
            "Loaded 7 episodes from v455\n",
            "Downloading artifact version: mahin-sank-iit-kgp/alpha-racer-data/alpha_racer_multi_mpc_combined:v456\n"
          ]
        },
        {
          "name": "stderr",
          "output_type": "stream",
          "text": [
            "\u001b[34m\u001b[1mwandb\u001b[0m:   1 of 1 files downloaded.  \n"
          ]
        },
        {
          "name": "stdout",
          "output_type": "stream",
          "text": [
            "Loaded 5 episodes from v456\n",
            "Downloading artifact version: mahin-sank-iit-kgp/alpha-racer-data/alpha_racer_multi_mpc_combined:v457\n"
          ]
        },
        {
          "name": "stderr",
          "output_type": "stream",
          "text": [
            "\u001b[34m\u001b[1mwandb\u001b[0m:   1 of 1 files downloaded.  \n"
          ]
        },
        {
          "name": "stdout",
          "output_type": "stream",
          "text": [
            "Loaded 5 episodes from v457\n",
            "Downloading artifact version: mahin-sank-iit-kgp/alpha-racer-data/alpha_racer_multi_mpc_combined:v458\n"
          ]
        },
        {
          "name": "stderr",
          "output_type": "stream",
          "text": [
            "\u001b[34m\u001b[1mwandb\u001b[0m:   1 of 1 files downloaded.  \n"
          ]
        },
        {
          "name": "stdout",
          "output_type": "stream",
          "text": [
            "Loaded 5 episodes from v458\n",
            "Downloading artifact version: mahin-sank-iit-kgp/alpha-racer-data/alpha_racer_multi_mpc_combined:v459\n"
          ]
        },
        {
          "name": "stderr",
          "output_type": "stream",
          "text": [
            "\u001b[34m\u001b[1mwandb\u001b[0m:   1 of 1 files downloaded.  \n"
          ]
        },
        {
          "name": "stdout",
          "output_type": "stream",
          "text": [
            "Loaded 5 episodes from v459\n",
            "Downloading artifact version: mahin-sank-iit-kgp/alpha-racer-data/alpha_racer_multi_mpc_combined:v460\n"
          ]
        },
        {
          "name": "stderr",
          "output_type": "stream",
          "text": [
            "\u001b[34m\u001b[1mwandb\u001b[0m:   1 of 1 files downloaded.  \n"
          ]
        },
        {
          "name": "stdout",
          "output_type": "stream",
          "text": [
            "Loaded 5 episodes from v460\n",
            "Downloading artifact version: mahin-sank-iit-kgp/alpha-racer-data/alpha_racer_multi_mpc_combined:v461\n"
          ]
        },
        {
          "name": "stderr",
          "output_type": "stream",
          "text": [
            "\u001b[34m\u001b[1mwandb\u001b[0m:   1 of 1 files downloaded.  \n"
          ]
        },
        {
          "name": "stdout",
          "output_type": "stream",
          "text": [
            "Loaded 5 episodes from v461\n",
            "Downloading artifact version: mahin-sank-iit-kgp/alpha-racer-data/alpha_racer_multi_mpc_combined:v462\n"
          ]
        },
        {
          "name": "stderr",
          "output_type": "stream",
          "text": [
            "\u001b[34m\u001b[1mwandb\u001b[0m:   1 of 1 files downloaded.  \n"
          ]
        },
        {
          "name": "stdout",
          "output_type": "stream",
          "text": [
            "Loaded 5 episodes from v462\n",
            "Downloading artifact version: mahin-sank-iit-kgp/alpha-racer-data/alpha_racer_multi_mpc_combined:v463\n"
          ]
        },
        {
          "name": "stderr",
          "output_type": "stream",
          "text": [
            "\u001b[34m\u001b[1mwandb\u001b[0m:   1 of 1 files downloaded.  \n"
          ]
        },
        {
          "name": "stdout",
          "output_type": "stream",
          "text": [
            "Loaded 5 episodes from v463\n",
            "Downloading artifact version: mahin-sank-iit-kgp/alpha-racer-data/alpha_racer_multi_mpc_combined:v464\n"
          ]
        },
        {
          "name": "stderr",
          "output_type": "stream",
          "text": [
            "\u001b[34m\u001b[1mwandb\u001b[0m:   1 of 1 files downloaded.  \n"
          ]
        },
        {
          "name": "stdout",
          "output_type": "stream",
          "text": [
            "Loaded 5 episodes from v464\n",
            "Downloading artifact version: mahin-sank-iit-kgp/alpha-racer-data/alpha_racer_multi_mpc_combined:v465\n"
          ]
        },
        {
          "name": "stderr",
          "output_type": "stream",
          "text": [
            "\u001b[34m\u001b[1mwandb\u001b[0m:   1 of 1 files downloaded.  \n"
          ]
        },
        {
          "name": "stdout",
          "output_type": "stream",
          "text": [
            "Loaded 5 episodes from v465\n",
            "Downloading artifact version: mahin-sank-iit-kgp/alpha-racer-data/alpha_racer_multi_mpc_combined:v466\n"
          ]
        },
        {
          "name": "stderr",
          "output_type": "stream",
          "text": [
            "\u001b[34m\u001b[1mwandb\u001b[0m:   1 of 1 files downloaded.  \n"
          ]
        },
        {
          "name": "stdout",
          "output_type": "stream",
          "text": [
            "Loaded 6 episodes from v466\n",
            "Downloading artifact version: mahin-sank-iit-kgp/alpha-racer-data/alpha_racer_multi_mpc_combined:v467\n"
          ]
        },
        {
          "name": "stderr",
          "output_type": "stream",
          "text": [
            "\u001b[34m\u001b[1mwandb\u001b[0m:   1 of 1 files downloaded.  \n"
          ]
        },
        {
          "name": "stdout",
          "output_type": "stream",
          "text": [
            "Loaded 6 episodes from v467\n",
            "Downloading artifact version: mahin-sank-iit-kgp/alpha-racer-data/alpha_racer_multi_mpc_combined:v468\n"
          ]
        },
        {
          "name": "stderr",
          "output_type": "stream",
          "text": [
            "\u001b[34m\u001b[1mwandb\u001b[0m:   1 of 1 files downloaded.  \n"
          ]
        },
        {
          "name": "stdout",
          "output_type": "stream",
          "text": [
            "Loaded 6 episodes from v468\n",
            "Downloading artifact version: mahin-sank-iit-kgp/alpha-racer-data/alpha_racer_multi_mpc_combined:v469\n"
          ]
        },
        {
          "name": "stderr",
          "output_type": "stream",
          "text": [
            "\u001b[34m\u001b[1mwandb\u001b[0m:   1 of 1 files downloaded.  \n"
          ]
        },
        {
          "name": "stdout",
          "output_type": "stream",
          "text": [
            "Loaded 6 episodes from v469\n",
            "Downloading artifact version: mahin-sank-iit-kgp/alpha-racer-data/alpha_racer_multi_mpc_combined:v470\n"
          ]
        },
        {
          "name": "stderr",
          "output_type": "stream",
          "text": [
            "\u001b[34m\u001b[1mwandb\u001b[0m:   1 of 1 files downloaded.  \n"
          ]
        },
        {
          "name": "stdout",
          "output_type": "stream",
          "text": [
            "Loaded 6 episodes from v470\n",
            "Downloading artifact version: mahin-sank-iit-kgp/alpha-racer-data/alpha_racer_multi_mpc_combined:v471\n"
          ]
        },
        {
          "name": "stderr",
          "output_type": "stream",
          "text": [
            "\u001b[34m\u001b[1mwandb\u001b[0m:   1 of 1 files downloaded.  \n"
          ]
        },
        {
          "name": "stdout",
          "output_type": "stream",
          "text": [
            "Loaded 6 episodes from v471\n",
            "Downloading artifact version: mahin-sank-iit-kgp/alpha-racer-data/alpha_racer_multi_mpc_combined:v472\n"
          ]
        },
        {
          "name": "stderr",
          "output_type": "stream",
          "text": [
            "\u001b[34m\u001b[1mwandb\u001b[0m:   1 of 1 files downloaded.  \n"
          ]
        },
        {
          "name": "stdout",
          "output_type": "stream",
          "text": [
            "Loaded 6 episodes from v472\n",
            "Downloading artifact version: mahin-sank-iit-kgp/alpha-racer-data/alpha_racer_multi_mpc_combined:v473\n"
          ]
        },
        {
          "name": "stderr",
          "output_type": "stream",
          "text": [
            "\u001b[34m\u001b[1mwandb\u001b[0m:   1 of 1 files downloaded.  \n"
          ]
        },
        {
          "name": "stdout",
          "output_type": "stream",
          "text": [
            "Loaded 6 episodes from v473\n",
            "Downloading artifact version: mahin-sank-iit-kgp/alpha-racer-data/alpha_racer_multi_mpc_combined:v474\n"
          ]
        },
        {
          "name": "stderr",
          "output_type": "stream",
          "text": [
            "\u001b[34m\u001b[1mwandb\u001b[0m:   1 of 1 files downloaded.  \n"
          ]
        },
        {
          "name": "stdout",
          "output_type": "stream",
          "text": [
            "Loaded 6 episodes from v474\n",
            "Downloading artifact version: mahin-sank-iit-kgp/alpha-racer-data/alpha_racer_multi_mpc_combined:v475\n"
          ]
        },
        {
          "name": "stderr",
          "output_type": "stream",
          "text": [
            "\u001b[34m\u001b[1mwandb\u001b[0m:   1 of 1 files downloaded.  \n"
          ]
        },
        {
          "name": "stdout",
          "output_type": "stream",
          "text": [
            "Loaded 6 episodes from v475\n",
            "Downloading artifact version: mahin-sank-iit-kgp/alpha-racer-data/alpha_racer_multi_mpc_combined:v476\n"
          ]
        },
        {
          "name": "stderr",
          "output_type": "stream",
          "text": [
            "\u001b[34m\u001b[1mwandb\u001b[0m:   1 of 1 files downloaded.  \n"
          ]
        },
        {
          "name": "stdout",
          "output_type": "stream",
          "text": [
            "Loaded 7 episodes from v476\n",
            "Downloading artifact version: mahin-sank-iit-kgp/alpha-racer-data/alpha_racer_multi_mpc_combined:v477\n"
          ]
        },
        {
          "name": "stderr",
          "output_type": "stream",
          "text": [
            "\u001b[34m\u001b[1mwandb\u001b[0m:   1 of 1 files downloaded.  \n"
          ]
        },
        {
          "name": "stdout",
          "output_type": "stream",
          "text": [
            "Loaded 7 episodes from v477\n",
            "Downloading artifact version: mahin-sank-iit-kgp/alpha-racer-data/alpha_racer_multi_mpc_combined:v478\n"
          ]
        },
        {
          "name": "stderr",
          "output_type": "stream",
          "text": [
            "\u001b[34m\u001b[1mwandb\u001b[0m:   1 of 1 files downloaded.  \n"
          ]
        },
        {
          "name": "stdout",
          "output_type": "stream",
          "text": [
            "Loaded 7 episodes from v478\n",
            "Downloading artifact version: mahin-sank-iit-kgp/alpha-racer-data/alpha_racer_multi_mpc_combined:v479\n"
          ]
        },
        {
          "name": "stderr",
          "output_type": "stream",
          "text": [
            "\u001b[34m\u001b[1mwandb\u001b[0m:   1 of 1 files downloaded.  \n"
          ]
        },
        {
          "name": "stdout",
          "output_type": "stream",
          "text": [
            "Loaded 7 episodes from v479\n",
            "Downloading artifact version: mahin-sank-iit-kgp/alpha-racer-data/alpha_racer_multi_mpc_combined:v480\n"
          ]
        },
        {
          "name": "stderr",
          "output_type": "stream",
          "text": [
            "\u001b[34m\u001b[1mwandb\u001b[0m:   1 of 1 files downloaded.  \n"
          ]
        },
        {
          "name": "stdout",
          "output_type": "stream",
          "text": [
            "Loaded 7 episodes from v480\n",
            "Downloading artifact version: mahin-sank-iit-kgp/alpha-racer-data/alpha_racer_multi_mpc_combined:v481\n"
          ]
        },
        {
          "name": "stderr",
          "output_type": "stream",
          "text": [
            "\u001b[34m\u001b[1mwandb\u001b[0m:   1 of 1 files downloaded.  \n"
          ]
        },
        {
          "name": "stdout",
          "output_type": "stream",
          "text": [
            "Loaded 7 episodes from v481\n",
            "Downloading artifact version: mahin-sank-iit-kgp/alpha-racer-data/alpha_racer_multi_mpc_combined:v482\n"
          ]
        },
        {
          "name": "stderr",
          "output_type": "stream",
          "text": [
            "\u001b[34m\u001b[1mwandb\u001b[0m:   1 of 1 files downloaded.  \n"
          ]
        },
        {
          "name": "stdout",
          "output_type": "stream",
          "text": [
            "Loaded 7 episodes from v482\n",
            "Downloading artifact version: mahin-sank-iit-kgp/alpha-racer-data/alpha_racer_multi_mpc_combined:v483\n"
          ]
        },
        {
          "name": "stderr",
          "output_type": "stream",
          "text": [
            "\u001b[34m\u001b[1mwandb\u001b[0m:   1 of 1 files downloaded.  \n"
          ]
        },
        {
          "name": "stdout",
          "output_type": "stream",
          "text": [
            "Loaded 7 episodes from v483\n",
            "Downloading artifact version: mahin-sank-iit-kgp/alpha-racer-data/alpha_racer_multi_mpc_combined:v484\n"
          ]
        },
        {
          "name": "stderr",
          "output_type": "stream",
          "text": [
            "\u001b[34m\u001b[1mwandb\u001b[0m:   1 of 1 files downloaded.  \n"
          ]
        },
        {
          "name": "stdout",
          "output_type": "stream",
          "text": [
            "Loaded 7 episodes from v484\n",
            "Downloading artifact version: mahin-sank-iit-kgp/alpha-racer-data/alpha_racer_multi_mpc_combined:v485\n"
          ]
        },
        {
          "name": "stderr",
          "output_type": "stream",
          "text": [
            "\u001b[34m\u001b[1mwandb\u001b[0m:   1 of 1 files downloaded.  \n"
          ]
        },
        {
          "name": "stdout",
          "output_type": "stream",
          "text": [
            "Loaded 7 episodes from v485\n",
            "Downloading artifact version: mahin-sank-iit-kgp/alpha-racer-data/alpha_racer_multi_mpc_combined:v486\n"
          ]
        },
        {
          "name": "stderr",
          "output_type": "stream",
          "text": [
            "\u001b[34m\u001b[1mwandb\u001b[0m:   1 of 1 files downloaded.  \n"
          ]
        },
        {
          "name": "stdout",
          "output_type": "stream",
          "text": [
            "Loaded 8 episodes from v486\n",
            "Downloading artifact version: mahin-sank-iit-kgp/alpha-racer-data/alpha_racer_multi_mpc_combined:v487\n"
          ]
        },
        {
          "name": "stderr",
          "output_type": "stream",
          "text": [
            "\u001b[34m\u001b[1mwandb\u001b[0m:   1 of 1 files downloaded.  \n"
          ]
        },
        {
          "name": "stdout",
          "output_type": "stream",
          "text": [
            "Loaded 8 episodes from v487\n",
            "Downloading artifact version: mahin-sank-iit-kgp/alpha-racer-data/alpha_racer_multi_mpc_combined:v488\n"
          ]
        },
        {
          "name": "stderr",
          "output_type": "stream",
          "text": [
            "\u001b[34m\u001b[1mwandb\u001b[0m:   1 of 1 files downloaded.  \n"
          ]
        },
        {
          "name": "stdout",
          "output_type": "stream",
          "text": [
            "Loaded 8 episodes from v488\n",
            "Downloading artifact version: mahin-sank-iit-kgp/alpha-racer-data/alpha_racer_multi_mpc_combined:v489\n"
          ]
        },
        {
          "name": "stderr",
          "output_type": "stream",
          "text": [
            "\u001b[34m\u001b[1mwandb\u001b[0m:   1 of 1 files downloaded.  \n"
          ]
        },
        {
          "name": "stdout",
          "output_type": "stream",
          "text": [
            "Loaded 8 episodes from v489\n",
            "Downloading artifact version: mahin-sank-iit-kgp/alpha-racer-data/alpha_racer_multi_mpc_combined:v490\n"
          ]
        },
        {
          "name": "stderr",
          "output_type": "stream",
          "text": [
            "\u001b[34m\u001b[1mwandb\u001b[0m:   1 of 1 files downloaded.  \n"
          ]
        },
        {
          "name": "stdout",
          "output_type": "stream",
          "text": [
            "Loaded 8 episodes from v490\n",
            "Downloading artifact version: mahin-sank-iit-kgp/alpha-racer-data/alpha_racer_multi_mpc_combined:v491\n"
          ]
        },
        {
          "name": "stderr",
          "output_type": "stream",
          "text": [
            "\u001b[34m\u001b[1mwandb\u001b[0m:   1 of 1 files downloaded.  \n"
          ]
        },
        {
          "name": "stdout",
          "output_type": "stream",
          "text": [
            "Loaded 8 episodes from v491\n",
            "Downloading artifact version: mahin-sank-iit-kgp/alpha-racer-data/alpha_racer_multi_mpc_combined:v492\n"
          ]
        },
        {
          "name": "stderr",
          "output_type": "stream",
          "text": [
            "\u001b[34m\u001b[1mwandb\u001b[0m:   1 of 1 files downloaded.  \n"
          ]
        },
        {
          "name": "stdout",
          "output_type": "stream",
          "text": [
            "Loaded 8 episodes from v492\n",
            "Downloading artifact version: mahin-sank-iit-kgp/alpha-racer-data/alpha_racer_multi_mpc_combined:v493\n"
          ]
        },
        {
          "name": "stderr",
          "output_type": "stream",
          "text": [
            "\u001b[34m\u001b[1mwandb\u001b[0m:   1 of 1 files downloaded.  \n"
          ]
        },
        {
          "name": "stdout",
          "output_type": "stream",
          "text": [
            "Loaded 8 episodes from v493\n",
            "Downloading artifact version: mahin-sank-iit-kgp/alpha-racer-data/alpha_racer_multi_mpc_combined:v494\n"
          ]
        },
        {
          "name": "stderr",
          "output_type": "stream",
          "text": [
            "\u001b[34m\u001b[1mwandb\u001b[0m:   1 of 1 files downloaded.  \n"
          ]
        },
        {
          "name": "stdout",
          "output_type": "stream",
          "text": [
            "Loaded 8 episodes from v494\n",
            "Downloading artifact version: mahin-sank-iit-kgp/alpha-racer-data/alpha_racer_multi_mpc_combined:v495\n"
          ]
        },
        {
          "name": "stderr",
          "output_type": "stream",
          "text": [
            "\u001b[34m\u001b[1mwandb\u001b[0m:   1 of 1 files downloaded.  \n"
          ]
        },
        {
          "name": "stdout",
          "output_type": "stream",
          "text": [
            "Loaded 8 episodes from v495\n",
            "Downloading artifact version: mahin-sank-iit-kgp/alpha-racer-data/alpha_racer_multi_mpc_combined:v496\n"
          ]
        },
        {
          "name": "stderr",
          "output_type": "stream",
          "text": [
            "\u001b[34m\u001b[1mwandb\u001b[0m:   1 of 1 files downloaded.  \n"
          ]
        },
        {
          "name": "stdout",
          "output_type": "stream",
          "text": [
            "Loaded 8 episodes from v496\n",
            "Downloading artifact version: mahin-sank-iit-kgp/alpha-racer-data/alpha_racer_multi_mpc_combined:v497\n"
          ]
        },
        {
          "name": "stderr",
          "output_type": "stream",
          "text": [
            "\u001b[34m\u001b[1mwandb\u001b[0m:   1 of 1 files downloaded.  \n"
          ]
        },
        {
          "name": "stdout",
          "output_type": "stream",
          "text": [
            "Loaded 8 episodes from v497\n",
            "Downloading artifact version: mahin-sank-iit-kgp/alpha-racer-data/alpha_racer_multi_mpc_combined:v498\n"
          ]
        },
        {
          "name": "stderr",
          "output_type": "stream",
          "text": [
            "\u001b[34m\u001b[1mwandb\u001b[0m:   1 of 1 files downloaded.  \n"
          ]
        },
        {
          "name": "stdout",
          "output_type": "stream",
          "text": [
            "Loaded 8 episodes from v498\n",
            "Downloading artifact version: mahin-sank-iit-kgp/alpha-racer-data/alpha_racer_multi_mpc_combined:v499\n"
          ]
        },
        {
          "name": "stderr",
          "output_type": "stream",
          "text": [
            "\u001b[34m\u001b[1mwandb\u001b[0m:   1 of 1 files downloaded.  \n"
          ]
        },
        {
          "name": "stdout",
          "output_type": "stream",
          "text": [
            "Loaded 8 episodes from v499\n",
            "Downloading artifact version: mahin-sank-iit-kgp/alpha-racer-data/alpha_racer_multi_mpc_combined:v500\n"
          ]
        },
        {
          "name": "stderr",
          "output_type": "stream",
          "text": [
            "\u001b[34m\u001b[1mwandb\u001b[0m:   1 of 1 files downloaded.  \n"
          ]
        },
        {
          "name": "stdout",
          "output_type": "stream",
          "text": [
            "Loaded 8 episodes from v500\n",
            "Downloading artifact version: mahin-sank-iit-kgp/alpha-racer-data/alpha_racer_multi_mpc_combined:v501\n"
          ]
        },
        {
          "name": "stderr",
          "output_type": "stream",
          "text": [
            "\u001b[34m\u001b[1mwandb\u001b[0m:   1 of 1 files downloaded.  \n"
          ]
        },
        {
          "name": "stdout",
          "output_type": "stream",
          "text": [
            "Loaded 9 episodes from v501\n",
            "Downloading artifact version: mahin-sank-iit-kgp/alpha-racer-data/alpha_racer_multi_mpc_combined:v502\n"
          ]
        },
        {
          "name": "stderr",
          "output_type": "stream",
          "text": [
            "\u001b[34m\u001b[1mwandb\u001b[0m:   1 of 1 files downloaded.  \n"
          ]
        },
        {
          "name": "stdout",
          "output_type": "stream",
          "text": [
            "Loaded 9 episodes from v502\n",
            "Downloading artifact version: mahin-sank-iit-kgp/alpha-racer-data/alpha_racer_multi_mpc_combined:v503\n"
          ]
        },
        {
          "name": "stderr",
          "output_type": "stream",
          "text": [
            "\u001b[34m\u001b[1mwandb\u001b[0m:   1 of 1 files downloaded.  \n"
          ]
        },
        {
          "name": "stdout",
          "output_type": "stream",
          "text": [
            "Loaded 9 episodes from v503\n",
            "Downloading artifact version: mahin-sank-iit-kgp/alpha-racer-data/alpha_racer_multi_mpc_combined:v504\n"
          ]
        },
        {
          "name": "stderr",
          "output_type": "stream",
          "text": [
            "\u001b[34m\u001b[1mwandb\u001b[0m:   1 of 1 files downloaded.  \n"
          ]
        },
        {
          "name": "stdout",
          "output_type": "stream",
          "text": [
            "Loaded 9 episodes from v504\n",
            "Downloading artifact version: mahin-sank-iit-kgp/alpha-racer-data/alpha_racer_multi_mpc_combined:v505\n"
          ]
        },
        {
          "name": "stderr",
          "output_type": "stream",
          "text": [
            "\u001b[34m\u001b[1mwandb\u001b[0m:   1 of 1 files downloaded.  \n"
          ]
        },
        {
          "name": "stdout",
          "output_type": "stream",
          "text": [
            "Loaded 9 episodes from v505\n",
            "Downloading artifact version: mahin-sank-iit-kgp/alpha-racer-data/alpha_racer_multi_mpc_combined:v506\n"
          ]
        },
        {
          "name": "stderr",
          "output_type": "stream",
          "text": [
            "\u001b[34m\u001b[1mwandb\u001b[0m:   1 of 1 files downloaded.  \n"
          ]
        },
        {
          "name": "stdout",
          "output_type": "stream",
          "text": [
            "Loaded 9 episodes from v506\n",
            "Downloading artifact version: mahin-sank-iit-kgp/alpha-racer-data/alpha_racer_multi_mpc_combined:v507\n"
          ]
        },
        {
          "name": "stderr",
          "output_type": "stream",
          "text": [
            "\u001b[34m\u001b[1mwandb\u001b[0m:   1 of 1 files downloaded.  \n"
          ]
        },
        {
          "name": "stdout",
          "output_type": "stream",
          "text": [
            "Loaded 9 episodes from v507\n",
            "Downloading artifact version: mahin-sank-iit-kgp/alpha-racer-data/alpha_racer_multi_mpc_combined:v508\n"
          ]
        },
        {
          "name": "stderr",
          "output_type": "stream",
          "text": [
            "\u001b[34m\u001b[1mwandb\u001b[0m:   1 of 1 files downloaded.  \n"
          ]
        },
        {
          "name": "stdout",
          "output_type": "stream",
          "text": [
            "Loaded 9 episodes from v508\n",
            "Downloading artifact version: mahin-sank-iit-kgp/alpha-racer-data/alpha_racer_multi_mpc_combined:v509\n"
          ]
        },
        {
          "name": "stderr",
          "output_type": "stream",
          "text": [
            "\u001b[34m\u001b[1mwandb\u001b[0m:   1 of 1 files downloaded.  \n"
          ]
        },
        {
          "name": "stdout",
          "output_type": "stream",
          "text": [
            "Loaded 9 episodes from v509\n",
            "Downloading artifact version: mahin-sank-iit-kgp/alpha-racer-data/alpha_racer_multi_mpc_combined:v510\n"
          ]
        },
        {
          "name": "stderr",
          "output_type": "stream",
          "text": [
            "\u001b[34m\u001b[1mwandb\u001b[0m:   1 of 1 files downloaded.  \n"
          ]
        },
        {
          "name": "stdout",
          "output_type": "stream",
          "text": [
            "Loaded 9 episodes from v510\n",
            "Downloading artifact version: mahin-sank-iit-kgp/alpha-racer-data/alpha_racer_multi_mpc_combined:v511\n"
          ]
        },
        {
          "name": "stderr",
          "output_type": "stream",
          "text": [
            "\u001b[34m\u001b[1mwandb\u001b[0m:   1 of 1 files downloaded.  \n"
          ]
        },
        {
          "name": "stdout",
          "output_type": "stream",
          "text": [
            "Loaded 10 episodes from v511\n",
            "Downloading artifact version: mahin-sank-iit-kgp/alpha-racer-data/alpha_racer_multi_mpc_combined:v512\n"
          ]
        },
        {
          "name": "stderr",
          "output_type": "stream",
          "text": [
            "\u001b[34m\u001b[1mwandb\u001b[0m:   1 of 1 files downloaded.  \n"
          ]
        },
        {
          "name": "stdout",
          "output_type": "stream",
          "text": [
            "Loaded 10 episodes from v512\n",
            "Downloading artifact version: mahin-sank-iit-kgp/alpha-racer-data/alpha_racer_multi_mpc_combined:v513\n"
          ]
        },
        {
          "name": "stderr",
          "output_type": "stream",
          "text": [
            "\u001b[34m\u001b[1mwandb\u001b[0m:   1 of 1 files downloaded.  \n"
          ]
        },
        {
          "name": "stdout",
          "output_type": "stream",
          "text": [
            "Loaded 10 episodes from v513\n",
            "Downloading artifact version: mahin-sank-iit-kgp/alpha-racer-data/alpha_racer_multi_mpc_combined:v514\n"
          ]
        },
        {
          "name": "stderr",
          "output_type": "stream",
          "text": [
            "\u001b[34m\u001b[1mwandb\u001b[0m:   1 of 1 files downloaded.  \n"
          ]
        },
        {
          "name": "stdout",
          "output_type": "stream",
          "text": [
            "Loaded 10 episodes from v514\n",
            "Downloading artifact version: mahin-sank-iit-kgp/alpha-racer-data/alpha_racer_multi_mpc_combined:v515\n"
          ]
        },
        {
          "name": "stderr",
          "output_type": "stream",
          "text": [
            "\u001b[34m\u001b[1mwandb\u001b[0m:   1 of 1 files downloaded.  \n"
          ]
        },
        {
          "name": "stdout",
          "output_type": "stream",
          "text": [
            "Loaded 10 episodes from v515\n",
            "Downloading artifact version: mahin-sank-iit-kgp/alpha-racer-data/alpha_racer_multi_mpc_combined:v516\n"
          ]
        },
        {
          "name": "stderr",
          "output_type": "stream",
          "text": [
            "\u001b[34m\u001b[1mwandb\u001b[0m:   1 of 1 files downloaded.  \n"
          ]
        },
        {
          "name": "stdout",
          "output_type": "stream",
          "text": [
            "Loaded 10 episodes from v516\n",
            "Downloading artifact version: mahin-sank-iit-kgp/alpha-racer-data/alpha_racer_multi_mpc_combined:v517\n"
          ]
        },
        {
          "name": "stderr",
          "output_type": "stream",
          "text": [
            "\u001b[34m\u001b[1mwandb\u001b[0m:   1 of 1 files downloaded.  \n"
          ]
        },
        {
          "name": "stdout",
          "output_type": "stream",
          "text": [
            "Loaded 10 episodes from v517\n",
            "Downloading artifact version: mahin-sank-iit-kgp/alpha-racer-data/alpha_racer_multi_mpc_combined:v518\n"
          ]
        },
        {
          "name": "stderr",
          "output_type": "stream",
          "text": [
            "\u001b[34m\u001b[1mwandb\u001b[0m:   1 of 1 files downloaded.  \n"
          ]
        },
        {
          "name": "stdout",
          "output_type": "stream",
          "text": [
            "Loaded 10 episodes from v518\n",
            "Downloading artifact version: mahin-sank-iit-kgp/alpha-racer-data/alpha_racer_multi_mpc_combined:v519\n"
          ]
        },
        {
          "name": "stderr",
          "output_type": "stream",
          "text": [
            "\u001b[34m\u001b[1mwandb\u001b[0m:   1 of 1 files downloaded.  \n"
          ]
        },
        {
          "name": "stdout",
          "output_type": "stream",
          "text": [
            "Loaded 10 episodes from v519\n",
            "Downloading artifact version: mahin-sank-iit-kgp/alpha-racer-data/alpha_racer_multi_mpc_combined:v520\n"
          ]
        },
        {
          "name": "stderr",
          "output_type": "stream",
          "text": [
            "\u001b[34m\u001b[1mwandb\u001b[0m:   1 of 1 files downloaded.  \n"
          ]
        },
        {
          "name": "stdout",
          "output_type": "stream",
          "text": [
            "Loaded 10 episodes from v520\n",
            "Downloading artifact version: mahin-sank-iit-kgp/alpha-racer-data/alpha_racer_multi_mpc_combined:v521\n"
          ]
        },
        {
          "name": "stderr",
          "output_type": "stream",
          "text": [
            "\u001b[34m\u001b[1mwandb\u001b[0m:   1 of 1 files downloaded.  \n"
          ]
        },
        {
          "name": "stdout",
          "output_type": "stream",
          "text": [
            "Loaded 11 episodes from v521\n",
            "Downloading artifact version: mahin-sank-iit-kgp/alpha-racer-data/alpha_racer_multi_mpc_combined:v522\n"
          ]
        },
        {
          "name": "stderr",
          "output_type": "stream",
          "text": [
            "\u001b[34m\u001b[1mwandb\u001b[0m:   1 of 1 files downloaded.  \n"
          ]
        },
        {
          "name": "stdout",
          "output_type": "stream",
          "text": [
            "Loaded 11 episodes from v522\n",
            "Downloading artifact version: mahin-sank-iit-kgp/alpha-racer-data/alpha_racer_multi_mpc_combined:v523\n"
          ]
        },
        {
          "name": "stderr",
          "output_type": "stream",
          "text": [
            "\u001b[34m\u001b[1mwandb\u001b[0m:   1 of 1 files downloaded.  \n"
          ]
        },
        {
          "name": "stdout",
          "output_type": "stream",
          "text": [
            "Loaded 11 episodes from v523\n",
            "Downloading artifact version: mahin-sank-iit-kgp/alpha-racer-data/alpha_racer_multi_mpc_combined:v524\n"
          ]
        },
        {
          "name": "stderr",
          "output_type": "stream",
          "text": [
            "\u001b[34m\u001b[1mwandb\u001b[0m:   1 of 1 files downloaded.  \n"
          ]
        },
        {
          "name": "stdout",
          "output_type": "stream",
          "text": [
            "Loaded 11 episodes from v524\n",
            "Downloading artifact version: mahin-sank-iit-kgp/alpha-racer-data/alpha_racer_multi_mpc_combined:v525\n"
          ]
        },
        {
          "name": "stderr",
          "output_type": "stream",
          "text": [
            "\u001b[34m\u001b[1mwandb\u001b[0m:   1 of 1 files downloaded.  \n"
          ]
        },
        {
          "name": "stdout",
          "output_type": "stream",
          "text": [
            "Loaded 11 episodes from v525\n",
            "Downloading artifact version: mahin-sank-iit-kgp/alpha-racer-data/alpha_racer_multi_mpc_combined:v526\n"
          ]
        },
        {
          "name": "stderr",
          "output_type": "stream",
          "text": [
            "\u001b[34m\u001b[1mwandb\u001b[0m:   1 of 1 files downloaded.  \n"
          ]
        },
        {
          "name": "stdout",
          "output_type": "stream",
          "text": [
            "Loaded 11 episodes from v526\n",
            "Downloading artifact version: mahin-sank-iit-kgp/alpha-racer-data/alpha_racer_multi_mpc_combined:v527\n"
          ]
        },
        {
          "name": "stderr",
          "output_type": "stream",
          "text": [
            "\u001b[34m\u001b[1mwandb\u001b[0m:   1 of 1 files downloaded.  \n"
          ]
        },
        {
          "name": "stdout",
          "output_type": "stream",
          "text": [
            "Loaded 11 episodes from v527\n",
            "Downloading artifact version: mahin-sank-iit-kgp/alpha-racer-data/alpha_racer_multi_mpc_combined:v528\n"
          ]
        },
        {
          "name": "stderr",
          "output_type": "stream",
          "text": [
            "\u001b[34m\u001b[1mwandb\u001b[0m:   1 of 1 files downloaded.  \n"
          ]
        },
        {
          "name": "stdout",
          "output_type": "stream",
          "text": [
            "Loaded 11 episodes from v528\n",
            "Downloading artifact version: mahin-sank-iit-kgp/alpha-racer-data/alpha_racer_multi_mpc_combined:v529\n"
          ]
        },
        {
          "name": "stderr",
          "output_type": "stream",
          "text": [
            "\u001b[34m\u001b[1mwandb\u001b[0m:   1 of 1 files downloaded.  \n"
          ]
        },
        {
          "name": "stdout",
          "output_type": "stream",
          "text": [
            "Loaded 11 episodes from v529\n",
            "Downloading artifact version: mahin-sank-iit-kgp/alpha-racer-data/alpha_racer_multi_mpc_combined:v530\n"
          ]
        },
        {
          "name": "stderr",
          "output_type": "stream",
          "text": [
            "\u001b[34m\u001b[1mwandb\u001b[0m:   1 of 1 files downloaded.  \n"
          ]
        },
        {
          "name": "stdout",
          "output_type": "stream",
          "text": [
            "Loaded 11 episodes from v530\n",
            "Downloading artifact version: mahin-sank-iit-kgp/alpha-racer-data/alpha_racer_multi_mpc_combined:v531\n"
          ]
        },
        {
          "name": "stderr",
          "output_type": "stream",
          "text": [
            "\u001b[34m\u001b[1mwandb\u001b[0m:   1 of 1 files downloaded.  \n"
          ]
        },
        {
          "name": "stdout",
          "output_type": "stream",
          "text": [
            "Loaded 12 episodes from v531\n",
            "Downloading artifact version: mahin-sank-iit-kgp/alpha-racer-data/alpha_racer_multi_mpc_combined:v532\n"
          ]
        },
        {
          "name": "stderr",
          "output_type": "stream",
          "text": [
            "\u001b[34m\u001b[1mwandb\u001b[0m:   1 of 1 files downloaded.  \n"
          ]
        },
        {
          "name": "stdout",
          "output_type": "stream",
          "text": [
            "Loaded 12 episodes from v532\n",
            "Downloading artifact version: mahin-sank-iit-kgp/alpha-racer-data/alpha_racer_multi_mpc_combined:v533\n"
          ]
        },
        {
          "name": "stderr",
          "output_type": "stream",
          "text": [
            "\u001b[34m\u001b[1mwandb\u001b[0m:   1 of 1 files downloaded.  \n"
          ]
        },
        {
          "name": "stdout",
          "output_type": "stream",
          "text": [
            "Loaded 12 episodes from v533\n",
            "Downloading artifact version: mahin-sank-iit-kgp/alpha-racer-data/alpha_racer_multi_mpc_combined:v534\n"
          ]
        },
        {
          "name": "stderr",
          "output_type": "stream",
          "text": [
            "\u001b[34m\u001b[1mwandb\u001b[0m:   1 of 1 files downloaded.  \n"
          ]
        },
        {
          "name": "stdout",
          "output_type": "stream",
          "text": [
            "Loaded 12 episodes from v534\n",
            "Downloading artifact version: mahin-sank-iit-kgp/alpha-racer-data/alpha_racer_multi_mpc_combined:v535\n"
          ]
        },
        {
          "name": "stderr",
          "output_type": "stream",
          "text": [
            "\u001b[34m\u001b[1mwandb\u001b[0m:   1 of 1 files downloaded.  \n"
          ]
        },
        {
          "name": "stdout",
          "output_type": "stream",
          "text": [
            "Loaded 12 episodes from v535\n",
            "Downloading artifact version: mahin-sank-iit-kgp/alpha-racer-data/alpha_racer_multi_mpc_combined:v536\n"
          ]
        },
        {
          "name": "stderr",
          "output_type": "stream",
          "text": [
            "\u001b[34m\u001b[1mwandb\u001b[0m:   1 of 1 files downloaded.  \n"
          ]
        },
        {
          "name": "stdout",
          "output_type": "stream",
          "text": [
            "Loaded 12 episodes from v536\n",
            "Downloading artifact version: mahin-sank-iit-kgp/alpha-racer-data/alpha_racer_multi_mpc_combined:v537\n"
          ]
        },
        {
          "name": "stderr",
          "output_type": "stream",
          "text": [
            "\u001b[34m\u001b[1mwandb\u001b[0m:   1 of 1 files downloaded.  \n"
          ]
        },
        {
          "name": "stdout",
          "output_type": "stream",
          "text": [
            "Loaded 12 episodes from v537\n",
            "Downloading artifact version: mahin-sank-iit-kgp/alpha-racer-data/alpha_racer_multi_mpc_combined:v538\n"
          ]
        },
        {
          "name": "stderr",
          "output_type": "stream",
          "text": [
            "\u001b[34m\u001b[1mwandb\u001b[0m:   1 of 1 files downloaded.  \n"
          ]
        },
        {
          "name": "stdout",
          "output_type": "stream",
          "text": [
            "Loaded 12 episodes from v538\n",
            "Downloading artifact version: mahin-sank-iit-kgp/alpha-racer-data/alpha_racer_multi_mpc_combined:v539\n"
          ]
        },
        {
          "name": "stderr",
          "output_type": "stream",
          "text": [
            "\u001b[34m\u001b[1mwandb\u001b[0m:   1 of 1 files downloaded.  \n"
          ]
        },
        {
          "name": "stdout",
          "output_type": "stream",
          "text": [
            "Loaded 12 episodes from v539\n",
            "Downloading artifact version: mahin-sank-iit-kgp/alpha-racer-data/alpha_racer_multi_mpc_combined:v540\n"
          ]
        },
        {
          "name": "stderr",
          "output_type": "stream",
          "text": [
            "\u001b[34m\u001b[1mwandb\u001b[0m:   1 of 1 files downloaded.  \n"
          ]
        },
        {
          "name": "stdout",
          "output_type": "stream",
          "text": [
            "Loaded 12 episodes from v540\n",
            "Downloading artifact version: mahin-sank-iit-kgp/alpha-racer-data/alpha_racer_multi_mpc_combined:v541\n"
          ]
        },
        {
          "name": "stderr",
          "output_type": "stream",
          "text": [
            "\u001b[34m\u001b[1mwandb\u001b[0m:   1 of 1 files downloaded.  \n"
          ]
        },
        {
          "name": "stdout",
          "output_type": "stream",
          "text": [
            "Loaded 13 episodes from v541\n",
            "Downloading artifact version: mahin-sank-iit-kgp/alpha-racer-data/alpha_racer_multi_mpc_combined:v542\n"
          ]
        },
        {
          "name": "stderr",
          "output_type": "stream",
          "text": [
            "\u001b[34m\u001b[1mwandb\u001b[0m:   1 of 1 files downloaded.  \n"
          ]
        },
        {
          "name": "stdout",
          "output_type": "stream",
          "text": [
            "Loaded 13 episodes from v542\n",
            "Downloading artifact version: mahin-sank-iit-kgp/alpha-racer-data/alpha_racer_multi_mpc_combined:v543\n"
          ]
        },
        {
          "name": "stderr",
          "output_type": "stream",
          "text": [
            "\u001b[34m\u001b[1mwandb\u001b[0m:   1 of 1 files downloaded.  \n"
          ]
        },
        {
          "name": "stdout",
          "output_type": "stream",
          "text": [
            "Loaded 13 episodes from v543\n",
            "Downloading artifact version: mahin-sank-iit-kgp/alpha-racer-data/alpha_racer_multi_mpc_combined:v544\n"
          ]
        },
        {
          "name": "stderr",
          "output_type": "stream",
          "text": [
            "\u001b[34m\u001b[1mwandb\u001b[0m:   1 of 1 files downloaded.  \n"
          ]
        },
        {
          "name": "stdout",
          "output_type": "stream",
          "text": [
            "Loaded 13 episodes from v544\n",
            "Downloading artifact version: mahin-sank-iit-kgp/alpha-racer-data/alpha_racer_multi_mpc_combined:v545\n"
          ]
        },
        {
          "name": "stderr",
          "output_type": "stream",
          "text": [
            "\u001b[34m\u001b[1mwandb\u001b[0m:   1 of 1 files downloaded.  \n"
          ]
        },
        {
          "name": "stdout",
          "output_type": "stream",
          "text": [
            "Loaded 13 episodes from v545\n",
            "Downloading artifact version: mahin-sank-iit-kgp/alpha-racer-data/alpha_racer_multi_mpc_combined:v546\n"
          ]
        },
        {
          "name": "stderr",
          "output_type": "stream",
          "text": [
            "\u001b[34m\u001b[1mwandb\u001b[0m:   1 of 1 files downloaded.  \n"
          ]
        },
        {
          "name": "stdout",
          "output_type": "stream",
          "text": [
            "Loaded 13 episodes from v546\n",
            "Downloading artifact version: mahin-sank-iit-kgp/alpha-racer-data/alpha_racer_multi_mpc_combined:v547\n"
          ]
        },
        {
          "name": "stderr",
          "output_type": "stream",
          "text": [
            "\u001b[34m\u001b[1mwandb\u001b[0m:   1 of 1 files downloaded.  \n"
          ]
        },
        {
          "name": "stdout",
          "output_type": "stream",
          "text": [
            "Loaded 13 episodes from v547\n",
            "Downloading artifact version: mahin-sank-iit-kgp/alpha-racer-data/alpha_racer_multi_mpc_combined:v548\n"
          ]
        },
        {
          "name": "stderr",
          "output_type": "stream",
          "text": [
            "\u001b[34m\u001b[1mwandb\u001b[0m:   1 of 1 files downloaded.  \n"
          ]
        },
        {
          "name": "stdout",
          "output_type": "stream",
          "text": [
            "Loaded 13 episodes from v548\n",
            "Downloading artifact version: mahin-sank-iit-kgp/alpha-racer-data/alpha_racer_multi_mpc_combined:v549\n"
          ]
        },
        {
          "name": "stderr",
          "output_type": "stream",
          "text": [
            "\u001b[34m\u001b[1mwandb\u001b[0m:   1 of 1 files downloaded.  \n"
          ]
        },
        {
          "name": "stdout",
          "output_type": "stream",
          "text": [
            "Loaded 13 episodes from v549\n",
            "Downloading artifact version: mahin-sank-iit-kgp/alpha-racer-data/alpha_racer_multi_mpc_combined:v550\n"
          ]
        },
        {
          "name": "stderr",
          "output_type": "stream",
          "text": [
            "\u001b[34m\u001b[1mwandb\u001b[0m:   1 of 1 files downloaded.  \n"
          ]
        },
        {
          "name": "stdout",
          "output_type": "stream",
          "text": [
            "Loaded 13 episodes from v550\n",
            "Downloading artifact version: mahin-sank-iit-kgp/alpha-racer-data/alpha_racer_multi_mpc_combined:v551\n"
          ]
        },
        {
          "name": "stderr",
          "output_type": "stream",
          "text": [
            "\u001b[34m\u001b[1mwandb\u001b[0m:   1 of 1 files downloaded.  \n"
          ]
        },
        {
          "name": "stdout",
          "output_type": "stream",
          "text": [
            "Loaded 14 episodes from v551\n",
            "Downloading artifact version: mahin-sank-iit-kgp/alpha-racer-data/alpha_racer_multi_mpc_combined:v552\n"
          ]
        },
        {
          "name": "stderr",
          "output_type": "stream",
          "text": [
            "\u001b[34m\u001b[1mwandb\u001b[0m:   1 of 1 files downloaded.  \n"
          ]
        },
        {
          "name": "stdout",
          "output_type": "stream",
          "text": [
            "Loaded 14 episodes from v552\n",
            "Downloading artifact version: mahin-sank-iit-kgp/alpha-racer-data/alpha_racer_multi_mpc_combined:v553\n"
          ]
        },
        {
          "name": "stderr",
          "output_type": "stream",
          "text": [
            "\u001b[34m\u001b[1mwandb\u001b[0m:   1 of 1 files downloaded.  \n"
          ]
        },
        {
          "name": "stdout",
          "output_type": "stream",
          "text": [
            "Loaded 14 episodes from v553\n",
            "Downloading artifact version: mahin-sank-iit-kgp/alpha-racer-data/alpha_racer_multi_mpc_combined:v554\n"
          ]
        },
        {
          "name": "stderr",
          "output_type": "stream",
          "text": [
            "\u001b[34m\u001b[1mwandb\u001b[0m:   1 of 1 files downloaded.  \n"
          ]
        },
        {
          "name": "stdout",
          "output_type": "stream",
          "text": [
            "Loaded 14 episodes from v554\n",
            "Downloading artifact version: mahin-sank-iit-kgp/alpha-racer-data/alpha_racer_multi_mpc_combined:v555\n"
          ]
        },
        {
          "name": "stderr",
          "output_type": "stream",
          "text": [
            "\u001b[34m\u001b[1mwandb\u001b[0m:   1 of 1 files downloaded.  \n"
          ]
        },
        {
          "name": "stdout",
          "output_type": "stream",
          "text": [
            "Loaded 14 episodes from v555\n",
            "Downloading artifact version: mahin-sank-iit-kgp/alpha-racer-data/alpha_racer_multi_mpc_combined:v556\n"
          ]
        },
        {
          "name": "stderr",
          "output_type": "stream",
          "text": [
            "\u001b[34m\u001b[1mwandb\u001b[0m:   1 of 1 files downloaded.  \n"
          ]
        },
        {
          "name": "stdout",
          "output_type": "stream",
          "text": [
            "Loaded 14 episodes from v556\n",
            "Downloading artifact version: mahin-sank-iit-kgp/alpha-racer-data/alpha_racer_multi_mpc_combined:v557\n"
          ]
        },
        {
          "name": "stderr",
          "output_type": "stream",
          "text": [
            "\u001b[34m\u001b[1mwandb\u001b[0m:   1 of 1 files downloaded.  \n"
          ]
        },
        {
          "name": "stdout",
          "output_type": "stream",
          "text": [
            "Loaded 14 episodes from v557\n",
            "Downloading artifact version: mahin-sank-iit-kgp/alpha-racer-data/alpha_racer_multi_mpc_combined:v558\n"
          ]
        },
        {
          "name": "stderr",
          "output_type": "stream",
          "text": [
            "\u001b[34m\u001b[1mwandb\u001b[0m:   1 of 1 files downloaded.  \n"
          ]
        },
        {
          "name": "stdout",
          "output_type": "stream",
          "text": [
            "Loaded 14 episodes from v558\n",
            "Downloading artifact version: mahin-sank-iit-kgp/alpha-racer-data/alpha_racer_multi_mpc_combined:v559\n"
          ]
        },
        {
          "name": "stderr",
          "output_type": "stream",
          "text": [
            "\u001b[34m\u001b[1mwandb\u001b[0m:   1 of 1 files downloaded.  \n"
          ]
        },
        {
          "name": "stdout",
          "output_type": "stream",
          "text": [
            "Loaded 14 episodes from v559\n",
            "Downloading artifact version: mahin-sank-iit-kgp/alpha-racer-data/alpha_racer_multi_mpc_combined:v560\n"
          ]
        },
        {
          "name": "stderr",
          "output_type": "stream",
          "text": [
            "\u001b[34m\u001b[1mwandb\u001b[0m:   1 of 1 files downloaded.  \n"
          ]
        },
        {
          "name": "stdout",
          "output_type": "stream",
          "text": [
            "Loaded 14 episodes from v560\n",
            "Downloading artifact version: mahin-sank-iit-kgp/alpha-racer-data/alpha_racer_multi_mpc_combined:v561\n"
          ]
        },
        {
          "name": "stderr",
          "output_type": "stream",
          "text": [
            "\u001b[34m\u001b[1mwandb\u001b[0m:   1 of 1 files downloaded.  \n"
          ]
        },
        {
          "name": "stdout",
          "output_type": "stream",
          "text": [
            "Loaded 15 episodes from v561\n",
            "Downloading artifact version: mahin-sank-iit-kgp/alpha-racer-data/alpha_racer_multi_mpc_combined:v562\n"
          ]
        },
        {
          "name": "stderr",
          "output_type": "stream",
          "text": [
            "\u001b[34m\u001b[1mwandb\u001b[0m:   1 of 1 files downloaded.  \n"
          ]
        },
        {
          "name": "stdout",
          "output_type": "stream",
          "text": [
            "Loaded 15 episodes from v562\n",
            "Downloading artifact version: mahin-sank-iit-kgp/alpha-racer-data/alpha_racer_multi_mpc_combined:v563\n"
          ]
        },
        {
          "name": "stderr",
          "output_type": "stream",
          "text": [
            "\u001b[34m\u001b[1mwandb\u001b[0m:   1 of 1 files downloaded.  \n"
          ]
        },
        {
          "name": "stdout",
          "output_type": "stream",
          "text": [
            "Loaded 15 episodes from v563\n",
            "Downloading artifact version: mahin-sank-iit-kgp/alpha-racer-data/alpha_racer_multi_mpc_combined:v564\n"
          ]
        },
        {
          "name": "stderr",
          "output_type": "stream",
          "text": [
            "\u001b[34m\u001b[1mwandb\u001b[0m:   1 of 1 files downloaded.  \n"
          ]
        },
        {
          "name": "stdout",
          "output_type": "stream",
          "text": [
            "Loaded 15 episodes from v564\n",
            "Downloading artifact version: mahin-sank-iit-kgp/alpha-racer-data/alpha_racer_multi_mpc_combined:v565\n"
          ]
        },
        {
          "name": "stderr",
          "output_type": "stream",
          "text": [
            "\u001b[34m\u001b[1mwandb\u001b[0m:   1 of 1 files downloaded.  \n"
          ]
        },
        {
          "name": "stdout",
          "output_type": "stream",
          "text": [
            "Loaded 15 episodes from v565\n",
            "Downloading artifact version: mahin-sank-iit-kgp/alpha-racer-data/alpha_racer_multi_mpc_combined:v566\n"
          ]
        },
        {
          "name": "stderr",
          "output_type": "stream",
          "text": [
            "\u001b[34m\u001b[1mwandb\u001b[0m:   1 of 1 files downloaded.  \n"
          ]
        },
        {
          "name": "stdout",
          "output_type": "stream",
          "text": [
            "Loaded 15 episodes from v566\n",
            "Downloading artifact version: mahin-sank-iit-kgp/alpha-racer-data/alpha_racer_multi_mpc_combined:v567\n"
          ]
        },
        {
          "name": "stderr",
          "output_type": "stream",
          "text": [
            "\u001b[34m\u001b[1mwandb\u001b[0m:   1 of 1 files downloaded.  \n"
          ]
        },
        {
          "name": "stdout",
          "output_type": "stream",
          "text": [
            "Loaded 15 episodes from v567\n",
            "Downloading artifact version: mahin-sank-iit-kgp/alpha-racer-data/alpha_racer_multi_mpc_combined:v568\n"
          ]
        },
        {
          "name": "stderr",
          "output_type": "stream",
          "text": [
            "\u001b[34m\u001b[1mwandb\u001b[0m:   1 of 1 files downloaded.  \n"
          ]
        },
        {
          "name": "stdout",
          "output_type": "stream",
          "text": [
            "Loaded 15 episodes from v568\n",
            "Downloading artifact version: mahin-sank-iit-kgp/alpha-racer-data/alpha_racer_multi_mpc_combined:v569\n"
          ]
        },
        {
          "name": "stderr",
          "output_type": "stream",
          "text": [
            "\u001b[34m\u001b[1mwandb\u001b[0m:   1 of 1 files downloaded.  \n"
          ]
        },
        {
          "name": "stdout",
          "output_type": "stream",
          "text": [
            "Loaded 15 episodes from v569\n",
            "Downloading artifact version: mahin-sank-iit-kgp/alpha-racer-data/alpha_racer_multi_mpc_combined:v570\n"
          ]
        },
        {
          "name": "stderr",
          "output_type": "stream",
          "text": [
            "\u001b[34m\u001b[1mwandb\u001b[0m:   1 of 1 files downloaded.  \n"
          ]
        },
        {
          "name": "stdout",
          "output_type": "stream",
          "text": [
            "Loaded 15 episodes from v570\n",
            "Downloading artifact version: mahin-sank-iit-kgp/alpha-racer-data/alpha_racer_multi_mpc_combined:v571\n"
          ]
        },
        {
          "name": "stderr",
          "output_type": "stream",
          "text": [
            "\u001b[34m\u001b[1mwandb\u001b[0m:   1 of 1 files downloaded.  \n"
          ]
        },
        {
          "name": "stdout",
          "output_type": "stream",
          "text": [
            "Loaded 16 episodes from v571\n",
            "Downloading artifact version: mahin-sank-iit-kgp/alpha-racer-data/alpha_racer_multi_mpc_combined:v572\n"
          ]
        },
        {
          "name": "stderr",
          "output_type": "stream",
          "text": [
            "\u001b[34m\u001b[1mwandb\u001b[0m:   1 of 1 files downloaded.  \n"
          ]
        },
        {
          "name": "stdout",
          "output_type": "stream",
          "text": [
            "Loaded 16 episodes from v572\n",
            "Downloading artifact version: mahin-sank-iit-kgp/alpha-racer-data/alpha_racer_multi_mpc_combined:v573\n"
          ]
        },
        {
          "name": "stderr",
          "output_type": "stream",
          "text": [
            "\u001b[34m\u001b[1mwandb\u001b[0m:   1 of 1 files downloaded.  \n"
          ]
        },
        {
          "name": "stdout",
          "output_type": "stream",
          "text": [
            "Loaded 16 episodes from v573\n",
            "Downloading artifact version: mahin-sank-iit-kgp/alpha-racer-data/alpha_racer_multi_mpc_combined:v574\n"
          ]
        },
        {
          "name": "stderr",
          "output_type": "stream",
          "text": [
            "\u001b[34m\u001b[1mwandb\u001b[0m:   1 of 1 files downloaded.  \n"
          ]
        },
        {
          "name": "stdout",
          "output_type": "stream",
          "text": [
            "Loaded 16 episodes from v574\n",
            "Downloading artifact version: mahin-sank-iit-kgp/alpha-racer-data/alpha_racer_multi_mpc_combined:v575\n"
          ]
        },
        {
          "name": "stderr",
          "output_type": "stream",
          "text": [
            "\u001b[34m\u001b[1mwandb\u001b[0m:   1 of 1 files downloaded.  \n"
          ]
        },
        {
          "name": "stdout",
          "output_type": "stream",
          "text": [
            "Loaded 16 episodes from v575\n",
            "Downloading artifact version: mahin-sank-iit-kgp/alpha-racer-data/alpha_racer_multi_mpc_combined:v576\n"
          ]
        },
        {
          "name": "stderr",
          "output_type": "stream",
          "text": [
            "\u001b[34m\u001b[1mwandb\u001b[0m:   1 of 1 files downloaded.  \n"
          ]
        },
        {
          "name": "stdout",
          "output_type": "stream",
          "text": [
            "Loaded 16 episodes from v576\n",
            "Downloading artifact version: mahin-sank-iit-kgp/alpha-racer-data/alpha_racer_multi_mpc_combined:v577\n"
          ]
        },
        {
          "name": "stderr",
          "output_type": "stream",
          "text": [
            "\u001b[34m\u001b[1mwandb\u001b[0m:   1 of 1 files downloaded.  \n"
          ]
        },
        {
          "name": "stdout",
          "output_type": "stream",
          "text": [
            "Loaded 16 episodes from v577\n",
            "Downloading artifact version: mahin-sank-iit-kgp/alpha-racer-data/alpha_racer_multi_mpc_combined:v578\n"
          ]
        },
        {
          "name": "stderr",
          "output_type": "stream",
          "text": [
            "\u001b[34m\u001b[1mwandb\u001b[0m:   1 of 1 files downloaded.  \n"
          ]
        },
        {
          "name": "stdout",
          "output_type": "stream",
          "text": [
            "Loaded 16 episodes from v578\n",
            "Downloading artifact version: mahin-sank-iit-kgp/alpha-racer-data/alpha_racer_multi_mpc_combined:v579\n"
          ]
        },
        {
          "name": "stderr",
          "output_type": "stream",
          "text": [
            "\u001b[34m\u001b[1mwandb\u001b[0m:   1 of 1 files downloaded.  \n"
          ]
        },
        {
          "name": "stdout",
          "output_type": "stream",
          "text": [
            "Loaded 16 episodes from v579\n",
            "Downloading artifact version: mahin-sank-iit-kgp/alpha-racer-data/alpha_racer_multi_mpc_combined:v580\n"
          ]
        },
        {
          "name": "stderr",
          "output_type": "stream",
          "text": [
            "\u001b[34m\u001b[1mwandb\u001b[0m:   1 of 1 files downloaded.  \n"
          ]
        },
        {
          "name": "stdout",
          "output_type": "stream",
          "text": [
            "Loaded 16 episodes from v580\n",
            "Downloading artifact version: mahin-sank-iit-kgp/alpha-racer-data/alpha_racer_multi_mpc_combined:v581\n"
          ]
        },
        {
          "name": "stderr",
          "output_type": "stream",
          "text": [
            "\u001b[34m\u001b[1mwandb\u001b[0m:   1 of 1 files downloaded.  \n"
          ]
        },
        {
          "name": "stdout",
          "output_type": "stream",
          "text": [
            "Loaded 17 episodes from v581\n",
            "Downloading artifact version: mahin-sank-iit-kgp/alpha-racer-data/alpha_racer_multi_mpc_combined:v582\n"
          ]
        },
        {
          "name": "stderr",
          "output_type": "stream",
          "text": [
            "\u001b[34m\u001b[1mwandb\u001b[0m:   1 of 1 files downloaded.  \n"
          ]
        },
        {
          "name": "stdout",
          "output_type": "stream",
          "text": [
            "Loaded 17 episodes from v582\n",
            "Downloading artifact version: mahin-sank-iit-kgp/alpha-racer-data/alpha_racer_multi_mpc_combined:v583\n"
          ]
        },
        {
          "name": "stderr",
          "output_type": "stream",
          "text": [
            "\u001b[34m\u001b[1mwandb\u001b[0m:   1 of 1 files downloaded.  \n"
          ]
        },
        {
          "name": "stdout",
          "output_type": "stream",
          "text": [
            "Loaded 17 episodes from v583\n",
            "Downloading artifact version: mahin-sank-iit-kgp/alpha-racer-data/alpha_racer_multi_mpc_combined:v584\n"
          ]
        },
        {
          "name": "stderr",
          "output_type": "stream",
          "text": [
            "\u001b[34m\u001b[1mwandb\u001b[0m:   1 of 1 files downloaded.  \n"
          ]
        },
        {
          "name": "stdout",
          "output_type": "stream",
          "text": [
            "Loaded 17 episodes from v584\n",
            "Downloading artifact version: mahin-sank-iit-kgp/alpha-racer-data/alpha_racer_multi_mpc_combined:v585\n"
          ]
        },
        {
          "name": "stderr",
          "output_type": "stream",
          "text": [
            "\u001b[34m\u001b[1mwandb\u001b[0m:   1 of 1 files downloaded.  \n"
          ]
        },
        {
          "name": "stdout",
          "output_type": "stream",
          "text": [
            "Loaded 17 episodes from v585\n",
            "Downloading artifact version: mahin-sank-iit-kgp/alpha-racer-data/alpha_racer_multi_mpc_combined:v586\n"
          ]
        },
        {
          "name": "stderr",
          "output_type": "stream",
          "text": [
            "\u001b[34m\u001b[1mwandb\u001b[0m:   1 of 1 files downloaded.  \n"
          ]
        },
        {
          "name": "stdout",
          "output_type": "stream",
          "text": [
            "Loaded 17 episodes from v586\n",
            "Downloading artifact version: mahin-sank-iit-kgp/alpha-racer-data/alpha_racer_multi_mpc_combined:v587\n"
          ]
        },
        {
          "name": "stderr",
          "output_type": "stream",
          "text": [
            "\u001b[34m\u001b[1mwandb\u001b[0m:   1 of 1 files downloaded.  \n"
          ]
        },
        {
          "name": "stdout",
          "output_type": "stream",
          "text": [
            "Loaded 17 episodes from v587\n",
            "Downloading artifact version: mahin-sank-iit-kgp/alpha-racer-data/alpha_racer_multi_mpc_combined:v588\n"
          ]
        },
        {
          "name": "stderr",
          "output_type": "stream",
          "text": [
            "\u001b[34m\u001b[1mwandb\u001b[0m:   1 of 1 files downloaded.  \n"
          ]
        },
        {
          "name": "stdout",
          "output_type": "stream",
          "text": [
            "Loaded 17 episodes from v588\n",
            "Downloading artifact version: mahin-sank-iit-kgp/alpha-racer-data/alpha_racer_multi_mpc_combined:v589\n"
          ]
        },
        {
          "name": "stderr",
          "output_type": "stream",
          "text": [
            "\u001b[34m\u001b[1mwandb\u001b[0m:   1 of 1 files downloaded.  \n"
          ]
        },
        {
          "name": "stdout",
          "output_type": "stream",
          "text": [
            "Loaded 17 episodes from v589\n",
            "Downloading artifact version: mahin-sank-iit-kgp/alpha-racer-data/alpha_racer_multi_mpc_combined:v590\n"
          ]
        },
        {
          "name": "stderr",
          "output_type": "stream",
          "text": [
            "\u001b[34m\u001b[1mwandb\u001b[0m:   1 of 1 files downloaded.  \n"
          ]
        },
        {
          "name": "stdout",
          "output_type": "stream",
          "text": [
            "Loaded 17 episodes from v590\n",
            "Downloading artifact version: mahin-sank-iit-kgp/alpha-racer-data/alpha_racer_multi_mpc_combined:v591\n"
          ]
        },
        {
          "name": "stderr",
          "output_type": "stream",
          "text": [
            "\u001b[34m\u001b[1mwandb\u001b[0m:   1 of 1 files downloaded.  \n"
          ]
        },
        {
          "name": "stdout",
          "output_type": "stream",
          "text": [
            "Loaded 18 episodes from v591\n",
            "Downloading artifact version: mahin-sank-iit-kgp/alpha-racer-data/alpha_racer_multi_mpc_combined:v592\n"
          ]
        },
        {
          "name": "stderr",
          "output_type": "stream",
          "text": [
            "\u001b[34m\u001b[1mwandb\u001b[0m:   1 of 1 files downloaded.  \n"
          ]
        },
        {
          "name": "stdout",
          "output_type": "stream",
          "text": [
            "Loaded 18 episodes from v592\n",
            "Downloading artifact version: mahin-sank-iit-kgp/alpha-racer-data/alpha_racer_multi_mpc_combined:v593\n"
          ]
        },
        {
          "name": "stderr",
          "output_type": "stream",
          "text": [
            "\u001b[34m\u001b[1mwandb\u001b[0m:   1 of 1 files downloaded.  \n"
          ]
        },
        {
          "name": "stdout",
          "output_type": "stream",
          "text": [
            "Loaded 18 episodes from v593\n",
            "Downloading artifact version: mahin-sank-iit-kgp/alpha-racer-data/alpha_racer_multi_mpc_combined:v594\n"
          ]
        },
        {
          "name": "stderr",
          "output_type": "stream",
          "text": [
            "\u001b[34m\u001b[1mwandb\u001b[0m:   1 of 1 files downloaded.  \n"
          ]
        },
        {
          "name": "stdout",
          "output_type": "stream",
          "text": [
            "Loaded 18 episodes from v594\n",
            "Downloading artifact version: mahin-sank-iit-kgp/alpha-racer-data/alpha_racer_multi_mpc_combined:v595\n"
          ]
        },
        {
          "name": "stderr",
          "output_type": "stream",
          "text": [
            "\u001b[34m\u001b[1mwandb\u001b[0m:   1 of 1 files downloaded.  \n"
          ]
        },
        {
          "name": "stdout",
          "output_type": "stream",
          "text": [
            "Loaded 18 episodes from v595\n",
            "Downloading artifact version: mahin-sank-iit-kgp/alpha-racer-data/alpha_racer_multi_mpc_combined:v596\n"
          ]
        },
        {
          "name": "stderr",
          "output_type": "stream",
          "text": [
            "\u001b[34m\u001b[1mwandb\u001b[0m:   1 of 1 files downloaded.  \n"
          ]
        },
        {
          "name": "stdout",
          "output_type": "stream",
          "text": [
            "Loaded 18 episodes from v596\n",
            "Downloading artifact version: mahin-sank-iit-kgp/alpha-racer-data/alpha_racer_multi_mpc_combined:v597\n"
          ]
        },
        {
          "name": "stderr",
          "output_type": "stream",
          "text": [
            "\u001b[34m\u001b[1mwandb\u001b[0m:   1 of 1 files downloaded.  \n"
          ]
        },
        {
          "name": "stdout",
          "output_type": "stream",
          "text": [
            "Loaded 18 episodes from v597\n",
            "Downloading artifact version: mahin-sank-iit-kgp/alpha-racer-data/alpha_racer_multi_mpc_combined:v598\n"
          ]
        },
        {
          "name": "stderr",
          "output_type": "stream",
          "text": [
            "\u001b[34m\u001b[1mwandb\u001b[0m:   1 of 1 files downloaded.  \n"
          ]
        },
        {
          "name": "stdout",
          "output_type": "stream",
          "text": [
            "Loaded 18 episodes from v598\n",
            "Downloading artifact version: mahin-sank-iit-kgp/alpha-racer-data/alpha_racer_multi_mpc_combined:v599\n"
          ]
        },
        {
          "name": "stderr",
          "output_type": "stream",
          "text": [
            "\u001b[34m\u001b[1mwandb\u001b[0m:   1 of 1 files downloaded.  \n"
          ]
        },
        {
          "name": "stdout",
          "output_type": "stream",
          "text": [
            "Loaded 18 episodes from v599\n",
            "Downloading artifact version: mahin-sank-iit-kgp/alpha-racer-data/alpha_racer_multi_mpc_combined:v600\n"
          ]
        },
        {
          "name": "stderr",
          "output_type": "stream",
          "text": [
            "\u001b[34m\u001b[1mwandb\u001b[0m:   1 of 1 files downloaded.  \n"
          ]
        },
        {
          "name": "stdout",
          "output_type": "stream",
          "text": [
            "Loaded 18 episodes from v600\n",
            "Downloading artifact version: mahin-sank-iit-kgp/alpha-racer-data/alpha_racer_multi_mpc_combined:v601\n"
          ]
        },
        {
          "name": "stderr",
          "output_type": "stream",
          "text": [
            "\u001b[34m\u001b[1mwandb\u001b[0m:   1 of 1 files downloaded.  \n"
          ]
        },
        {
          "name": "stdout",
          "output_type": "stream",
          "text": [
            "Loaded 19 episodes from v601\n",
            "Downloading artifact version: mahin-sank-iit-kgp/alpha-racer-data/alpha_racer_multi_mpc_combined:v602\n"
          ]
        },
        {
          "name": "stderr",
          "output_type": "stream",
          "text": [
            "\u001b[34m\u001b[1mwandb\u001b[0m:   1 of 1 files downloaded.  \n"
          ]
        },
        {
          "name": "stdout",
          "output_type": "stream",
          "text": [
            "Loaded 19 episodes from v602\n",
            "Downloading artifact version: mahin-sank-iit-kgp/alpha-racer-data/alpha_racer_multi_mpc_combined:v603\n"
          ]
        },
        {
          "name": "stderr",
          "output_type": "stream",
          "text": [
            "\u001b[34m\u001b[1mwandb\u001b[0m:   1 of 1 files downloaded.  \n"
          ]
        },
        {
          "name": "stdout",
          "output_type": "stream",
          "text": [
            "Loaded 19 episodes from v603\n",
            "Downloading artifact version: mahin-sank-iit-kgp/alpha-racer-data/alpha_racer_multi_mpc_combined:v604\n"
          ]
        },
        {
          "name": "stderr",
          "output_type": "stream",
          "text": [
            "\u001b[34m\u001b[1mwandb\u001b[0m:   1 of 1 files downloaded.  \n"
          ]
        },
        {
          "name": "stdout",
          "output_type": "stream",
          "text": [
            "Loaded 19 episodes from v604\n",
            "Downloading artifact version: mahin-sank-iit-kgp/alpha-racer-data/alpha_racer_multi_mpc_combined:v605\n"
          ]
        },
        {
          "name": "stderr",
          "output_type": "stream",
          "text": [
            "\u001b[34m\u001b[1mwandb\u001b[0m:   1 of 1 files downloaded.  \n"
          ]
        },
        {
          "name": "stdout",
          "output_type": "stream",
          "text": [
            "Loaded 19 episodes from v605\n",
            "Downloading artifact version: mahin-sank-iit-kgp/alpha-racer-data/alpha_racer_multi_mpc_combined:v606\n"
          ]
        },
        {
          "name": "stderr",
          "output_type": "stream",
          "text": [
            "\u001b[34m\u001b[1mwandb\u001b[0m:   1 of 1 files downloaded.  \n"
          ]
        },
        {
          "name": "stdout",
          "output_type": "stream",
          "text": [
            "Loaded 19 episodes from v606\n",
            "Downloading artifact version: mahin-sank-iit-kgp/alpha-racer-data/alpha_racer_multi_mpc_combined:v607\n"
          ]
        },
        {
          "name": "stderr",
          "output_type": "stream",
          "text": [
            "\u001b[34m\u001b[1mwandb\u001b[0m:   1 of 1 files downloaded.  \n"
          ]
        },
        {
          "name": "stdout",
          "output_type": "stream",
          "text": [
            "Loaded 19 episodes from v607\n",
            "Downloading artifact version: mahin-sank-iit-kgp/alpha-racer-data/alpha_racer_multi_mpc_combined:v608\n"
          ]
        },
        {
          "name": "stderr",
          "output_type": "stream",
          "text": [
            "\u001b[34m\u001b[1mwandb\u001b[0m:   1 of 1 files downloaded.  \n"
          ]
        },
        {
          "name": "stdout",
          "output_type": "stream",
          "text": [
            "Loaded 19 episodes from v608\n",
            "Downloading artifact version: mahin-sank-iit-kgp/alpha-racer-data/alpha_racer_multi_mpc_combined:v609\n"
          ]
        },
        {
          "name": "stderr",
          "output_type": "stream",
          "text": [
            "\u001b[34m\u001b[1mwandb\u001b[0m:   1 of 1 files downloaded.  \n"
          ]
        },
        {
          "name": "stdout",
          "output_type": "stream",
          "text": [
            "Loaded 19 episodes from v609\n",
            "Downloading artifact version: mahin-sank-iit-kgp/alpha-racer-data/alpha_racer_multi_mpc_combined:v610\n"
          ]
        },
        {
          "name": "stderr",
          "output_type": "stream",
          "text": [
            "\u001b[34m\u001b[1mwandb\u001b[0m:   1 of 1 files downloaded.  \n"
          ]
        },
        {
          "name": "stdout",
          "output_type": "stream",
          "text": [
            "Loaded 20 episodes from v610\n",
            "Downloading artifact version: mahin-sank-iit-kgp/alpha-racer-data/alpha_racer_multi_mpc_combined:v611\n"
          ]
        },
        {
          "name": "stderr",
          "output_type": "stream",
          "text": [
            "\u001b[34m\u001b[1mwandb\u001b[0m:   1 of 1 files downloaded.  \n"
          ]
        },
        {
          "name": "stdout",
          "output_type": "stream",
          "text": [
            "Loaded 20 episodes from v611\n",
            "Downloading artifact version: mahin-sank-iit-kgp/alpha-racer-data/alpha_racer_multi_mpc_combined:v612\n"
          ]
        },
        {
          "name": "stderr",
          "output_type": "stream",
          "text": [
            "\u001b[34m\u001b[1mwandb\u001b[0m:   1 of 1 files downloaded.  \n"
          ]
        },
        {
          "name": "stdout",
          "output_type": "stream",
          "text": [
            "Loaded 20 episodes from v612\n",
            "Downloading artifact version: mahin-sank-iit-kgp/alpha-racer-data/alpha_racer_multi_mpc_combined:v613\n"
          ]
        },
        {
          "name": "stderr",
          "output_type": "stream",
          "text": [
            "\u001b[34m\u001b[1mwandb\u001b[0m:   1 of 1 files downloaded.  \n"
          ]
        },
        {
          "name": "stdout",
          "output_type": "stream",
          "text": [
            "Loaded 20 episodes from v613\n",
            "Downloading artifact version: mahin-sank-iit-kgp/alpha-racer-data/alpha_racer_multi_mpc_combined:v614\n"
          ]
        },
        {
          "name": "stderr",
          "output_type": "stream",
          "text": [
            "\u001b[34m\u001b[1mwandb\u001b[0m:   1 of 1 files downloaded.  \n"
          ]
        },
        {
          "name": "stdout",
          "output_type": "stream",
          "text": [
            "Loaded 20 episodes from v614\n",
            "Downloading artifact version: mahin-sank-iit-kgp/alpha-racer-data/alpha_racer_multi_mpc_combined:v615\n"
          ]
        },
        {
          "name": "stderr",
          "output_type": "stream",
          "text": [
            "\u001b[34m\u001b[1mwandb\u001b[0m:   1 of 1 files downloaded.  \n"
          ]
        },
        {
          "name": "stdout",
          "output_type": "stream",
          "text": [
            "Loaded 20 episodes from v615\n",
            "Downloading artifact version: mahin-sank-iit-kgp/alpha-racer-data/alpha_racer_multi_mpc_combined:v616\n"
          ]
        },
        {
          "name": "stderr",
          "output_type": "stream",
          "text": [
            "\u001b[34m\u001b[1mwandb\u001b[0m:   1 of 1 files downloaded.  \n"
          ]
        },
        {
          "name": "stdout",
          "output_type": "stream",
          "text": [
            "Loaded 20 episodes from v616\n",
            "Downloading artifact version: mahin-sank-iit-kgp/alpha-racer-data/alpha_racer_multi_mpc_combined:v617\n"
          ]
        },
        {
          "name": "stderr",
          "output_type": "stream",
          "text": [
            "\u001b[34m\u001b[1mwandb\u001b[0m:   1 of 1 files downloaded.  \n"
          ]
        },
        {
          "name": "stdout",
          "output_type": "stream",
          "text": [
            "Loaded 20 episodes from v617\n",
            "Downloading artifact version: mahin-sank-iit-kgp/alpha-racer-data/alpha_racer_multi_mpc_combined:v618\n"
          ]
        },
        {
          "name": "stderr",
          "output_type": "stream",
          "text": [
            "\u001b[34m\u001b[1mwandb\u001b[0m:   1 of 1 files downloaded.  \n"
          ]
        },
        {
          "name": "stdout",
          "output_type": "stream",
          "text": [
            "Loaded 20 episodes from v618\n",
            "Downloading artifact version: mahin-sank-iit-kgp/alpha-racer-data/alpha_racer_multi_mpc_combined:v619\n"
          ]
        },
        {
          "name": "stderr",
          "output_type": "stream",
          "text": [
            "\u001b[34m\u001b[1mwandb\u001b[0m:   1 of 1 files downloaded.  \n"
          ]
        },
        {
          "name": "stdout",
          "output_type": "stream",
          "text": [
            "Loaded 21 episodes from v619\n",
            "Downloading artifact version: mahin-sank-iit-kgp/alpha-racer-data/alpha_racer_multi_mpc_combined:v620\n"
          ]
        },
        {
          "name": "stderr",
          "output_type": "stream",
          "text": [
            "\u001b[34m\u001b[1mwandb\u001b[0m:   1 of 1 files downloaded.  \n"
          ]
        },
        {
          "name": "stdout",
          "output_type": "stream",
          "text": [
            "Loaded 21 episodes from v620\n",
            "Downloading artifact version: mahin-sank-iit-kgp/alpha-racer-data/alpha_racer_multi_mpc_combined:v621\n"
          ]
        },
        {
          "name": "stderr",
          "output_type": "stream",
          "text": [
            "\u001b[34m\u001b[1mwandb\u001b[0m:   1 of 1 files downloaded.  \n"
          ]
        },
        {
          "name": "stdout",
          "output_type": "stream",
          "text": [
            "Loaded 21 episodes from v621\n",
            "Downloading artifact version: mahin-sank-iit-kgp/alpha-racer-data/alpha_racer_multi_mpc_combined:v622\n"
          ]
        },
        {
          "name": "stderr",
          "output_type": "stream",
          "text": [
            "\u001b[34m\u001b[1mwandb\u001b[0m:   1 of 1 files downloaded.  \n"
          ]
        },
        {
          "name": "stdout",
          "output_type": "stream",
          "text": [
            "Loaded 21 episodes from v622\n",
            "Downloading artifact version: mahin-sank-iit-kgp/alpha-racer-data/alpha_racer_multi_mpc_combined:v623\n"
          ]
        },
        {
          "name": "stderr",
          "output_type": "stream",
          "text": [
            "\u001b[34m\u001b[1mwandb\u001b[0m:   1 of 1 files downloaded.  \n"
          ]
        },
        {
          "name": "stdout",
          "output_type": "stream",
          "text": [
            "Loaded 21 episodes from v623\n",
            "Downloading artifact version: mahin-sank-iit-kgp/alpha-racer-data/alpha_racer_multi_mpc_combined:v624\n"
          ]
        },
        {
          "name": "stderr",
          "output_type": "stream",
          "text": [
            "\u001b[34m\u001b[1mwandb\u001b[0m:   1 of 1 files downloaded.  \n"
          ]
        },
        {
          "name": "stdout",
          "output_type": "stream",
          "text": [
            "Loaded 21 episodes from v624\n",
            "Downloading artifact version: mahin-sank-iit-kgp/alpha-racer-data/alpha_racer_multi_mpc_combined:v625\n"
          ]
        },
        {
          "name": "stderr",
          "output_type": "stream",
          "text": [
            "\u001b[34m\u001b[1mwandb\u001b[0m:   1 of 1 files downloaded.  \n"
          ]
        },
        {
          "name": "stdout",
          "output_type": "stream",
          "text": [
            "Loaded 21 episodes from v625\n",
            "Downloading artifact version: mahin-sank-iit-kgp/alpha-racer-data/alpha_racer_multi_mpc_combined:v626\n"
          ]
        },
        {
          "name": "stderr",
          "output_type": "stream",
          "text": [
            "\u001b[34m\u001b[1mwandb\u001b[0m:   1 of 1 files downloaded.  \n"
          ]
        },
        {
          "name": "stdout",
          "output_type": "stream",
          "text": [
            "Loaded 21 episodes from v626\n",
            "Downloading artifact version: mahin-sank-iit-kgp/alpha-racer-data/alpha_racer_multi_mpc_combined:v627\n"
          ]
        },
        {
          "name": "stderr",
          "output_type": "stream",
          "text": [
            "\u001b[34m\u001b[1mwandb\u001b[0m:   1 of 1 files downloaded.  \n"
          ]
        },
        {
          "name": "stdout",
          "output_type": "stream",
          "text": [
            "Loaded 21 episodes from v627\n",
            "Downloading artifact version: mahin-sank-iit-kgp/alpha-racer-data/alpha_racer_multi_mpc_combined:v628\n"
          ]
        },
        {
          "name": "stderr",
          "output_type": "stream",
          "text": [
            "\u001b[34m\u001b[1mwandb\u001b[0m:   1 of 1 files downloaded.  \n"
          ]
        },
        {
          "name": "stdout",
          "output_type": "stream",
          "text": [
            "Loaded 22 episodes from v628\n",
            "Downloading artifact version: mahin-sank-iit-kgp/alpha-racer-data/alpha_racer_multi_mpc_combined:v629\n"
          ]
        },
        {
          "name": "stderr",
          "output_type": "stream",
          "text": [
            "\u001b[34m\u001b[1mwandb\u001b[0m:   1 of 1 files downloaded.  \n"
          ]
        },
        {
          "name": "stdout",
          "output_type": "stream",
          "text": [
            "Loaded 22 episodes from v629\n",
            "Downloading artifact version: mahin-sank-iit-kgp/alpha-racer-data/alpha_racer_multi_mpc_combined:v630\n"
          ]
        },
        {
          "name": "stderr",
          "output_type": "stream",
          "text": [
            "\u001b[34m\u001b[1mwandb\u001b[0m:   1 of 1 files downloaded.  \n"
          ]
        },
        {
          "name": "stdout",
          "output_type": "stream",
          "text": [
            "Loaded 22 episodes from v630\n",
            "Downloading artifact version: mahin-sank-iit-kgp/alpha-racer-data/alpha_racer_multi_mpc_combined:v631\n"
          ]
        },
        {
          "name": "stderr",
          "output_type": "stream",
          "text": [
            "\u001b[34m\u001b[1mwandb\u001b[0m:   1 of 1 files downloaded.  \n"
          ]
        },
        {
          "name": "stdout",
          "output_type": "stream",
          "text": [
            "Loaded 22 episodes from v631\n",
            "Downloading artifact version: mahin-sank-iit-kgp/alpha-racer-data/alpha_racer_multi_mpc_combined:v632\n"
          ]
        },
        {
          "name": "stderr",
          "output_type": "stream",
          "text": [
            "\u001b[34m\u001b[1mwandb\u001b[0m:   1 of 1 files downloaded.  \n"
          ]
        },
        {
          "name": "stdout",
          "output_type": "stream",
          "text": [
            "Loaded 22 episodes from v632\n",
            "Downloading artifact version: mahin-sank-iit-kgp/alpha-racer-data/alpha_racer_multi_mpc_combined:v633\n"
          ]
        },
        {
          "name": "stderr",
          "output_type": "stream",
          "text": [
            "\u001b[34m\u001b[1mwandb\u001b[0m:   1 of 1 files downloaded.  \n"
          ]
        },
        {
          "name": "stdout",
          "output_type": "stream",
          "text": [
            "Loaded 22 episodes from v633\n",
            "Downloading artifact version: mahin-sank-iit-kgp/alpha-racer-data/alpha_racer_multi_mpc_combined:v634\n"
          ]
        },
        {
          "name": "stderr",
          "output_type": "stream",
          "text": [
            "\u001b[34m\u001b[1mwandb\u001b[0m:   1 of 1 files downloaded.  \n"
          ]
        },
        {
          "name": "stdout",
          "output_type": "stream",
          "text": [
            "Loaded 22 episodes from v634\n",
            "Downloading artifact version: mahin-sank-iit-kgp/alpha-racer-data/alpha_racer_multi_mpc_combined:v635\n"
          ]
        },
        {
          "name": "stderr",
          "output_type": "stream",
          "text": [
            "\u001b[34m\u001b[1mwandb\u001b[0m:   1 of 1 files downloaded.  \n"
          ]
        },
        {
          "name": "stdout",
          "output_type": "stream",
          "text": [
            "Loaded 22 episodes from v635\n",
            "Downloading artifact version: mahin-sank-iit-kgp/alpha-racer-data/alpha_racer_multi_mpc_combined:v636\n"
          ]
        },
        {
          "name": "stderr",
          "output_type": "stream",
          "text": [
            "\u001b[34m\u001b[1mwandb\u001b[0m:   1 of 1 files downloaded.  \n"
          ]
        },
        {
          "name": "stdout",
          "output_type": "stream",
          "text": [
            "Loaded 22 episodes from v636\n",
            "Downloading artifact version: mahin-sank-iit-kgp/alpha-racer-data/alpha_racer_multi_mpc_combined:v637\n"
          ]
        },
        {
          "name": "stderr",
          "output_type": "stream",
          "text": [
            "\u001b[34m\u001b[1mwandb\u001b[0m:   1 of 1 files downloaded.  \n"
          ]
        },
        {
          "name": "stdout",
          "output_type": "stream",
          "text": [
            "Loaded 23 episodes from v637\n",
            "Downloading artifact version: mahin-sank-iit-kgp/alpha-racer-data/alpha_racer_multi_mpc_combined:v638\n"
          ]
        },
        {
          "name": "stderr",
          "output_type": "stream",
          "text": [
            "\u001b[34m\u001b[1mwandb\u001b[0m:   1 of 1 files downloaded.  \n"
          ]
        },
        {
          "name": "stdout",
          "output_type": "stream",
          "text": [
            "Loaded 23 episodes from v638\n",
            "Downloading artifact version: mahin-sank-iit-kgp/alpha-racer-data/alpha_racer_multi_mpc_combined:v639\n"
          ]
        },
        {
          "name": "stderr",
          "output_type": "stream",
          "text": [
            "\u001b[34m\u001b[1mwandb\u001b[0m:   1 of 1 files downloaded.  \n"
          ]
        },
        {
          "name": "stdout",
          "output_type": "stream",
          "text": [
            "Loaded 23 episodes from v639\n",
            "Downloading artifact version: mahin-sank-iit-kgp/alpha-racer-data/alpha_racer_multi_mpc_combined:v640\n"
          ]
        },
        {
          "name": "stderr",
          "output_type": "stream",
          "text": [
            "\u001b[34m\u001b[1mwandb\u001b[0m:   1 of 1 files downloaded.  \n"
          ]
        },
        {
          "name": "stdout",
          "output_type": "stream",
          "text": [
            "Loaded 23 episodes from v640\n",
            "Downloading artifact version: mahin-sank-iit-kgp/alpha-racer-data/alpha_racer_multi_mpc_combined:v641\n"
          ]
        },
        {
          "name": "stderr",
          "output_type": "stream",
          "text": [
            "\u001b[34m\u001b[1mwandb\u001b[0m:   1 of 1 files downloaded.  \n"
          ]
        },
        {
          "name": "stdout",
          "output_type": "stream",
          "text": [
            "Loaded 23 episodes from v641\n",
            "Downloading artifact version: mahin-sank-iit-kgp/alpha-racer-data/alpha_racer_multi_mpc_combined:v642\n"
          ]
        },
        {
          "name": "stderr",
          "output_type": "stream",
          "text": [
            "\u001b[34m\u001b[1mwandb\u001b[0m:   1 of 1 files downloaded.  \n"
          ]
        },
        {
          "name": "stdout",
          "output_type": "stream",
          "text": [
            "Loaded 23 episodes from v642\n",
            "Downloading artifact version: mahin-sank-iit-kgp/alpha-racer-data/alpha_racer_multi_mpc_combined:v643\n"
          ]
        },
        {
          "name": "stderr",
          "output_type": "stream",
          "text": [
            "\u001b[34m\u001b[1mwandb\u001b[0m:   1 of 1 files downloaded.  \n"
          ]
        },
        {
          "name": "stdout",
          "output_type": "stream",
          "text": [
            "Loaded 23 episodes from v643\n",
            "Downloading artifact version: mahin-sank-iit-kgp/alpha-racer-data/alpha_racer_multi_mpc_combined:v644\n"
          ]
        },
        {
          "name": "stderr",
          "output_type": "stream",
          "text": [
            "\u001b[34m\u001b[1mwandb\u001b[0m:   1 of 1 files downloaded.  \n"
          ]
        },
        {
          "name": "stdout",
          "output_type": "stream",
          "text": [
            "Loaded 23 episodes from v644\n",
            "Downloading artifact version: mahin-sank-iit-kgp/alpha-racer-data/alpha_racer_multi_mpc_combined:v645\n"
          ]
        },
        {
          "name": "stderr",
          "output_type": "stream",
          "text": [
            "\u001b[34m\u001b[1mwandb\u001b[0m:   1 of 1 files downloaded.  \n"
          ]
        },
        {
          "name": "stdout",
          "output_type": "stream",
          "text": [
            "Loaded 23 episodes from v645\n",
            "Downloading artifact version: mahin-sank-iit-kgp/alpha-racer-data/alpha_racer_multi_mpc_combined:v646\n"
          ]
        },
        {
          "name": "stderr",
          "output_type": "stream",
          "text": [
            "\u001b[34m\u001b[1mwandb\u001b[0m:   1 of 1 files downloaded.  \n"
          ]
        },
        {
          "name": "stdout",
          "output_type": "stream",
          "text": [
            "Loaded 24 episodes from v646\n",
            "Downloading artifact version: mahin-sank-iit-kgp/alpha-racer-data/alpha_racer_multi_mpc_combined:v647\n"
          ]
        },
        {
          "name": "stderr",
          "output_type": "stream",
          "text": [
            "\u001b[34m\u001b[1mwandb\u001b[0m:   1 of 1 files downloaded.  \n"
          ]
        },
        {
          "name": "stdout",
          "output_type": "stream",
          "text": [
            "Loaded 24 episodes from v647\n",
            "Downloading artifact version: mahin-sank-iit-kgp/alpha-racer-data/alpha_racer_multi_mpc_combined:v648\n"
          ]
        },
        {
          "name": "stderr",
          "output_type": "stream",
          "text": [
            "\u001b[34m\u001b[1mwandb\u001b[0m:   1 of 1 files downloaded.  \n"
          ]
        },
        {
          "name": "stdout",
          "output_type": "stream",
          "text": [
            "Loaded 24 episodes from v648\n",
            "Downloading artifact version: mahin-sank-iit-kgp/alpha-racer-data/alpha_racer_multi_mpc_combined:v649\n"
          ]
        },
        {
          "name": "stderr",
          "output_type": "stream",
          "text": [
            "\u001b[34m\u001b[1mwandb\u001b[0m:   1 of 1 files downloaded.  \n"
          ]
        },
        {
          "name": "stdout",
          "output_type": "stream",
          "text": [
            "Loaded 24 episodes from v649\n",
            "Downloading artifact version: mahin-sank-iit-kgp/alpha-racer-data/alpha_racer_multi_mpc_combined:v650\n"
          ]
        },
        {
          "name": "stderr",
          "output_type": "stream",
          "text": [
            "\u001b[34m\u001b[1mwandb\u001b[0m:   1 of 1 files downloaded.  \n"
          ]
        },
        {
          "name": "stdout",
          "output_type": "stream",
          "text": [
            "Loaded 24 episodes from v650\n",
            "Downloading artifact version: mahin-sank-iit-kgp/alpha-racer-data/alpha_racer_multi_mpc_combined:v651\n"
          ]
        },
        {
          "name": "stderr",
          "output_type": "stream",
          "text": [
            "\u001b[34m\u001b[1mwandb\u001b[0m:   1 of 1 files downloaded.  \n"
          ]
        },
        {
          "name": "stdout",
          "output_type": "stream",
          "text": [
            "Loaded 24 episodes from v651\n",
            "Downloading artifact version: mahin-sank-iit-kgp/alpha-racer-data/alpha_racer_multi_mpc_combined:v652\n"
          ]
        },
        {
          "name": "stderr",
          "output_type": "stream",
          "text": [
            "\u001b[34m\u001b[1mwandb\u001b[0m:   1 of 1 files downloaded.  \n"
          ]
        },
        {
          "name": "stdout",
          "output_type": "stream",
          "text": [
            "Loaded 24 episodes from v652\n",
            "Downloading artifact version: mahin-sank-iit-kgp/alpha-racer-data/alpha_racer_multi_mpc_combined:v653\n"
          ]
        },
        {
          "name": "stderr",
          "output_type": "stream",
          "text": [
            "\u001b[34m\u001b[1mwandb\u001b[0m:   1 of 1 files downloaded.  \n"
          ]
        },
        {
          "name": "stdout",
          "output_type": "stream",
          "text": [
            "Loaded 24 episodes from v653\n",
            "Downloading artifact version: mahin-sank-iit-kgp/alpha-racer-data/alpha_racer_multi_mpc_combined:v654\n"
          ]
        },
        {
          "name": "stderr",
          "output_type": "stream",
          "text": [
            "\u001b[34m\u001b[1mwandb\u001b[0m:   1 of 1 files downloaded.  \n"
          ]
        },
        {
          "name": "stdout",
          "output_type": "stream",
          "text": [
            "Loaded 24 episodes from v654\n",
            "Downloading artifact version: mahin-sank-iit-kgp/alpha-racer-data/alpha_racer_multi_mpc_combined:v655\n"
          ]
        },
        {
          "name": "stderr",
          "output_type": "stream",
          "text": [
            "\u001b[34m\u001b[1mwandb\u001b[0m:   1 of 1 files downloaded.  \n"
          ]
        },
        {
          "name": "stdout",
          "output_type": "stream",
          "text": [
            "Loaded 25 episodes from v655\n",
            "Downloading artifact version: mahin-sank-iit-kgp/alpha-racer-data/alpha_racer_multi_mpc_combined:v656\n"
          ]
        },
        {
          "name": "stderr",
          "output_type": "stream",
          "text": [
            "\u001b[34m\u001b[1mwandb\u001b[0m:   1 of 1 files downloaded.  \n"
          ]
        },
        {
          "name": "stdout",
          "output_type": "stream",
          "text": [
            "Loaded 25 episodes from v656\n",
            "Downloading artifact version: mahin-sank-iit-kgp/alpha-racer-data/alpha_racer_multi_mpc_combined:v657\n"
          ]
        },
        {
          "name": "stderr",
          "output_type": "stream",
          "text": [
            "\u001b[34m\u001b[1mwandb\u001b[0m:   1 of 1 files downloaded.  \n"
          ]
        },
        {
          "name": "stdout",
          "output_type": "stream",
          "text": [
            "Loaded 25 episodes from v657\n",
            "Downloading artifact version: mahin-sank-iit-kgp/alpha-racer-data/alpha_racer_multi_mpc_combined:v658\n"
          ]
        },
        {
          "name": "stderr",
          "output_type": "stream",
          "text": [
            "\u001b[34m\u001b[1mwandb\u001b[0m:   1 of 1 files downloaded.  \n"
          ]
        },
        {
          "name": "stdout",
          "output_type": "stream",
          "text": [
            "Loaded 25 episodes from v658\n",
            "Downloading artifact version: mahin-sank-iit-kgp/alpha-racer-data/alpha_racer_multi_mpc_combined:v659\n"
          ]
        },
        {
          "name": "stderr",
          "output_type": "stream",
          "text": [
            "\u001b[34m\u001b[1mwandb\u001b[0m:   1 of 1 files downloaded.  \n"
          ]
        },
        {
          "name": "stdout",
          "output_type": "stream",
          "text": [
            "Loaded 26 episodes from v659\n",
            "Downloading artifact version: mahin-sank-iit-kgp/alpha-racer-data/alpha_racer_multi_mpc_combined:v660\n"
          ]
        },
        {
          "name": "stderr",
          "output_type": "stream",
          "text": [
            "\u001b[34m\u001b[1mwandb\u001b[0m:   1 of 1 files downloaded.  \n"
          ]
        },
        {
          "name": "stdout",
          "output_type": "stream",
          "text": [
            "Loaded 26 episodes from v660\n",
            "Downloading artifact version: mahin-sank-iit-kgp/alpha-racer-data/alpha_racer_multi_mpc_combined:v661\n"
          ]
        },
        {
          "name": "stderr",
          "output_type": "stream",
          "text": [
            "\u001b[34m\u001b[1mwandb\u001b[0m:   1 of 1 files downloaded.  \n"
          ]
        },
        {
          "name": "stdout",
          "output_type": "stream",
          "text": [
            "Loaded 26 episodes from v661\n",
            "Downloading artifact version: mahin-sank-iit-kgp/alpha-racer-data/alpha_racer_multi_mpc_combined:v662\n"
          ]
        },
        {
          "name": "stderr",
          "output_type": "stream",
          "text": [
            "\u001b[34m\u001b[1mwandb\u001b[0m:   1 of 1 files downloaded.  \n"
          ]
        },
        {
          "name": "stdout",
          "output_type": "stream",
          "text": [
            "Loaded 26 episodes from v662\n",
            "Downloading artifact version: mahin-sank-iit-kgp/alpha-racer-data/alpha_racer_multi_mpc_combined:v663\n"
          ]
        },
        {
          "name": "stderr",
          "output_type": "stream",
          "text": [
            "\u001b[34m\u001b[1mwandb\u001b[0m:   1 of 1 files downloaded.  \n"
          ]
        },
        {
          "name": "stdout",
          "output_type": "stream",
          "text": [
            "Loaded 25 episodes from v663\n",
            "Downloading artifact version: mahin-sank-iit-kgp/alpha-racer-data/alpha_racer_multi_mpc_combined:v664\n"
          ]
        },
        {
          "name": "stderr",
          "output_type": "stream",
          "text": [
            "\u001b[34m\u001b[1mwandb\u001b[0m:   1 of 1 files downloaded.  \n"
          ]
        },
        {
          "name": "stdout",
          "output_type": "stream",
          "text": [
            "Loaded 26 episodes from v664\n",
            "Downloading artifact version: mahin-sank-iit-kgp/alpha-racer-data/alpha_racer_multi_mpc_combined:v665\n"
          ]
        },
        {
          "name": "stderr",
          "output_type": "stream",
          "text": [
            "\u001b[34m\u001b[1mwandb\u001b[0m:   1 of 1 files downloaded.  \n"
          ]
        },
        {
          "name": "stdout",
          "output_type": "stream",
          "text": [
            "Loaded 25 episodes from v665\n",
            "Downloading artifact version: mahin-sank-iit-kgp/alpha-racer-data/alpha_racer_multi_mpc_combined:v666\n"
          ]
        },
        {
          "name": "stderr",
          "output_type": "stream",
          "text": [
            "\u001b[34m\u001b[1mwandb\u001b[0m:   1 of 1 files downloaded.  \n"
          ]
        },
        {
          "name": "stdout",
          "output_type": "stream",
          "text": [
            "Loaded 25 episodes from v666\n",
            "Downloading artifact version: mahin-sank-iit-kgp/alpha-racer-data/alpha_racer_multi_mpc_combined:v667\n"
          ]
        },
        {
          "name": "stderr",
          "output_type": "stream",
          "text": [
            "\u001b[34m\u001b[1mwandb\u001b[0m:   1 of 1 files downloaded.  \n"
          ]
        },
        {
          "name": "stdout",
          "output_type": "stream",
          "text": [
            "Loaded 25 episodes from v667\n",
            "Downloading artifact version: mahin-sank-iit-kgp/alpha-racer-data/alpha_racer_multi_mpc_combined:v668\n"
          ]
        },
        {
          "name": "stderr",
          "output_type": "stream",
          "text": [
            "\u001b[34m\u001b[1mwandb\u001b[0m:   1 of 1 files downloaded.  \n"
          ]
        },
        {
          "name": "stdout",
          "output_type": "stream",
          "text": [
            "Loaded 26 episodes from v668\n",
            "Downloading artifact version: mahin-sank-iit-kgp/alpha-racer-data/alpha_racer_multi_mpc_combined:v669\n"
          ]
        },
        {
          "name": "stderr",
          "output_type": "stream",
          "text": [
            "\u001b[34m\u001b[1mwandb\u001b[0m:   1 of 1 files downloaded.  \n"
          ]
        },
        {
          "name": "stdout",
          "output_type": "stream",
          "text": [
            "Loaded 26 episodes from v669\n",
            "Downloading artifact version: mahin-sank-iit-kgp/alpha-racer-data/alpha_racer_multi_mpc_combined:v670\n"
          ]
        },
        {
          "name": "stderr",
          "output_type": "stream",
          "text": [
            "\u001b[34m\u001b[1mwandb\u001b[0m:   1 of 1 files downloaded.  \n"
          ]
        },
        {
          "name": "stdout",
          "output_type": "stream",
          "text": [
            "Loaded 25 episodes from v670\n",
            "Downloading artifact version: mahin-sank-iit-kgp/alpha-racer-data/alpha_racer_multi_mpc_combined:v671\n"
          ]
        },
        {
          "name": "stderr",
          "output_type": "stream",
          "text": [
            "\u001b[34m\u001b[1mwandb\u001b[0m:   1 of 1 files downloaded.  \n"
          ]
        },
        {
          "name": "stdout",
          "output_type": "stream",
          "text": [
            "Loaded 26 episodes from v671\n",
            "Downloading artifact version: mahin-sank-iit-kgp/alpha-racer-data/alpha_racer_multi_mpc_combined:v672\n"
          ]
        },
        {
          "name": "stderr",
          "output_type": "stream",
          "text": [
            "\u001b[34m\u001b[1mwandb\u001b[0m:   1 of 1 files downloaded.  \n"
          ]
        },
        {
          "name": "stdout",
          "output_type": "stream",
          "text": [
            "Loaded 26 episodes from v672\n",
            "Downloading artifact version: mahin-sank-iit-kgp/alpha-racer-data/alpha_racer_multi_mpc_combined:v673\n"
          ]
        },
        {
          "name": "stderr",
          "output_type": "stream",
          "text": [
            "\u001b[34m\u001b[1mwandb\u001b[0m:   1 of 1 files downloaded.  \n"
          ]
        },
        {
          "name": "stdout",
          "output_type": "stream",
          "text": [
            "Loaded 2 episodes from v673\n",
            "Downloading artifact version: mahin-sank-iit-kgp/alpha-racer-data/alpha_racer_multi_mpc_combined:v674\n"
          ]
        },
        {
          "name": "stderr",
          "output_type": "stream",
          "text": [
            "\u001b[34m\u001b[1mwandb\u001b[0m:   1 of 1 files downloaded.  \n"
          ]
        },
        {
          "name": "stdout",
          "output_type": "stream",
          "text": [
            "Loaded 2 episodes from v674\n",
            "Downloading artifact version: mahin-sank-iit-kgp/alpha-racer-data/alpha_racer_multi_mpc_combined:v675\n"
          ]
        },
        {
          "name": "stderr",
          "output_type": "stream",
          "text": [
            "\u001b[34m\u001b[1mwandb\u001b[0m:   1 of 1 files downloaded.  \n"
          ]
        },
        {
          "name": "stdout",
          "output_type": "stream",
          "text": [
            "Loaded 2 episodes from v675\n",
            "Downloading artifact version: mahin-sank-iit-kgp/alpha-racer-data/alpha_racer_multi_mpc_combined:v676\n"
          ]
        },
        {
          "name": "stderr",
          "output_type": "stream",
          "text": [
            "\u001b[34m\u001b[1mwandb\u001b[0m:   1 of 1 files downloaded.  \n"
          ]
        },
        {
          "name": "stdout",
          "output_type": "stream",
          "text": [
            "Loaded 2 episodes from v676\n",
            "Downloading artifact version: mahin-sank-iit-kgp/alpha-racer-data/alpha_racer_multi_mpc_combined:v677\n"
          ]
        },
        {
          "name": "stderr",
          "output_type": "stream",
          "text": [
            "\u001b[34m\u001b[1mwandb\u001b[0m:   1 of 1 files downloaded.  \n"
          ]
        },
        {
          "name": "stdout",
          "output_type": "stream",
          "text": [
            "Loaded 2 episodes from v677\n",
            "Downloading artifact version: mahin-sank-iit-kgp/alpha-racer-data/alpha_racer_multi_mpc_combined:v678\n"
          ]
        },
        {
          "name": "stderr",
          "output_type": "stream",
          "text": [
            "\u001b[34m\u001b[1mwandb\u001b[0m:   1 of 1 files downloaded.  \n"
          ]
        },
        {
          "name": "stdout",
          "output_type": "stream",
          "text": [
            "Loaded 2 episodes from v678\n",
            "Downloading artifact version: mahin-sank-iit-kgp/alpha-racer-data/alpha_racer_multi_mpc_combined:v679\n"
          ]
        },
        {
          "name": "stderr",
          "output_type": "stream",
          "text": [
            "\u001b[34m\u001b[1mwandb\u001b[0m:   1 of 1 files downloaded.  \n"
          ]
        },
        {
          "name": "stdout",
          "output_type": "stream",
          "text": [
            "Loaded 2 episodes from v679\n",
            "Downloading artifact version: mahin-sank-iit-kgp/alpha-racer-data/alpha_racer_multi_mpc_combined:v680\n"
          ]
        },
        {
          "name": "stderr",
          "output_type": "stream",
          "text": [
            "\u001b[34m\u001b[1mwandb\u001b[0m:   1 of 1 files downloaded.  \n"
          ]
        },
        {
          "name": "stdout",
          "output_type": "stream",
          "text": [
            "Loaded 2 episodes from v680\n",
            "Downloading artifact version: mahin-sank-iit-kgp/alpha-racer-data/alpha_racer_multi_mpc_combined:v681\n"
          ]
        },
        {
          "name": "stderr",
          "output_type": "stream",
          "text": [
            "\u001b[34m\u001b[1mwandb\u001b[0m:   1 of 1 files downloaded.  \n"
          ]
        },
        {
          "name": "stdout",
          "output_type": "stream",
          "text": [
            "Loaded 2 episodes from v681\n",
            "Downloading artifact version: mahin-sank-iit-kgp/alpha-racer-data/alpha_racer_multi_mpc_combined:v682\n"
          ]
        },
        {
          "name": "stderr",
          "output_type": "stream",
          "text": [
            "\u001b[34m\u001b[1mwandb\u001b[0m:   1 of 1 files downloaded.  \n"
          ]
        },
        {
          "name": "stdout",
          "output_type": "stream",
          "text": [
            "Loaded 2 episodes from v682\n",
            "Downloading artifact version: mahin-sank-iit-kgp/alpha-racer-data/alpha_racer_multi_mpc_combined:v683\n"
          ]
        },
        {
          "name": "stderr",
          "output_type": "stream",
          "text": [
            "\u001b[34m\u001b[1mwandb\u001b[0m:   1 of 1 files downloaded.  \n"
          ]
        },
        {
          "name": "stdout",
          "output_type": "stream",
          "text": [
            "Loaded 2 episodes from v683\n",
            "Downloading artifact version: mahin-sank-iit-kgp/alpha-racer-data/alpha_racer_multi_mpc_combined:v684\n"
          ]
        },
        {
          "name": "stderr",
          "output_type": "stream",
          "text": [
            "\u001b[34m\u001b[1mwandb\u001b[0m:   1 of 1 files downloaded.  \n"
          ]
        },
        {
          "name": "stdout",
          "output_type": "stream",
          "text": [
            "Loaded 2 episodes from v684\n",
            "Downloading artifact version: mahin-sank-iit-kgp/alpha-racer-data/alpha_racer_multi_mpc_combined:v685\n"
          ]
        },
        {
          "name": "stderr",
          "output_type": "stream",
          "text": [
            "\u001b[34m\u001b[1mwandb\u001b[0m:   1 of 1 files downloaded.  \n"
          ]
        },
        {
          "name": "stdout",
          "output_type": "stream",
          "text": [
            "Loaded 3 episodes from v685\n",
            "Downloading artifact version: mahin-sank-iit-kgp/alpha-racer-data/alpha_racer_multi_mpc_combined:v686\n"
          ]
        },
        {
          "name": "stderr",
          "output_type": "stream",
          "text": [
            "\u001b[34m\u001b[1mwandb\u001b[0m:   1 of 1 files downloaded.  \n"
          ]
        },
        {
          "name": "stdout",
          "output_type": "stream",
          "text": [
            "Loaded 3 episodes from v686\n",
            "Downloading artifact version: mahin-sank-iit-kgp/alpha-racer-data/alpha_racer_multi_mpc_combined:v687\n"
          ]
        },
        {
          "name": "stderr",
          "output_type": "stream",
          "text": [
            "\u001b[34m\u001b[1mwandb\u001b[0m:   1 of 1 files downloaded.  \n"
          ]
        },
        {
          "name": "stdout",
          "output_type": "stream",
          "text": [
            "Loaded 3 episodes from v687\n",
            "Downloading artifact version: mahin-sank-iit-kgp/alpha-racer-data/alpha_racer_multi_mpc_combined:v688\n"
          ]
        },
        {
          "name": "stderr",
          "output_type": "stream",
          "text": [
            "\u001b[34m\u001b[1mwandb\u001b[0m:   1 of 1 files downloaded.  \n"
          ]
        },
        {
          "name": "stdout",
          "output_type": "stream",
          "text": [
            "Loaded 3 episodes from v688\n",
            "Downloading artifact version: mahin-sank-iit-kgp/alpha-racer-data/alpha_racer_multi_mpc_combined:v689\n"
          ]
        },
        {
          "name": "stderr",
          "output_type": "stream",
          "text": [
            "\u001b[34m\u001b[1mwandb\u001b[0m:   1 of 1 files downloaded.  \n"
          ]
        },
        {
          "name": "stdout",
          "output_type": "stream",
          "text": [
            "Loaded 3 episodes from v689\n",
            "Downloading artifact version: mahin-sank-iit-kgp/alpha-racer-data/alpha_racer_multi_mpc_combined:v690\n"
          ]
        },
        {
          "name": "stderr",
          "output_type": "stream",
          "text": [
            "\u001b[34m\u001b[1mwandb\u001b[0m:   1 of 1 files downloaded.  \n"
          ]
        },
        {
          "name": "stdout",
          "output_type": "stream",
          "text": [
            "Loaded 3 episodes from v690\n",
            "Downloading artifact version: mahin-sank-iit-kgp/alpha-racer-data/alpha_racer_multi_mpc_combined:v691\n"
          ]
        },
        {
          "name": "stderr",
          "output_type": "stream",
          "text": [
            "\u001b[34m\u001b[1mwandb\u001b[0m:   1 of 1 files downloaded.  \n"
          ]
        },
        {
          "name": "stdout",
          "output_type": "stream",
          "text": [
            "Loaded 3 episodes from v691\n",
            "Downloading artifact version: mahin-sank-iit-kgp/alpha-racer-data/alpha_racer_multi_mpc_combined:v692\n"
          ]
        },
        {
          "name": "stderr",
          "output_type": "stream",
          "text": [
            "\u001b[34m\u001b[1mwandb\u001b[0m:   1 of 1 files downloaded.  \n"
          ]
        },
        {
          "name": "stdout",
          "output_type": "stream",
          "text": [
            "Loaded 3 episodes from v692\n",
            "Downloading artifact version: mahin-sank-iit-kgp/alpha-racer-data/alpha_racer_multi_mpc_combined:v693\n"
          ]
        },
        {
          "name": "stderr",
          "output_type": "stream",
          "text": [
            "\u001b[34m\u001b[1mwandb\u001b[0m:   1 of 1 files downloaded.  \n"
          ]
        },
        {
          "name": "stdout",
          "output_type": "stream",
          "text": [
            "Loaded 3 episodes from v693\n",
            "Downloading artifact version: mahin-sank-iit-kgp/alpha-racer-data/alpha_racer_multi_mpc_combined:v694\n"
          ]
        },
        {
          "name": "stderr",
          "output_type": "stream",
          "text": [
            "\u001b[34m\u001b[1mwandb\u001b[0m:   1 of 1 files downloaded.  \n"
          ]
        },
        {
          "name": "stdout",
          "output_type": "stream",
          "text": [
            "Loaded 3 episodes from v694\n",
            "Downloading artifact version: mahin-sank-iit-kgp/alpha-racer-data/alpha_racer_multi_mpc_combined:v695\n"
          ]
        },
        {
          "name": "stderr",
          "output_type": "stream",
          "text": [
            "\u001b[34m\u001b[1mwandb\u001b[0m:   1 of 1 files downloaded.  \n"
          ]
        },
        {
          "name": "stdout",
          "output_type": "stream",
          "text": [
            "Loaded 2 episodes from v695\n",
            "Downloading artifact version: mahin-sank-iit-kgp/alpha-racer-data/alpha_racer_multi_mpc_combined:v696\n"
          ]
        },
        {
          "name": "stderr",
          "output_type": "stream",
          "text": [
            "\u001b[34m\u001b[1mwandb\u001b[0m:   1 of 1 files downloaded.  \n"
          ]
        },
        {
          "name": "stdout",
          "output_type": "stream",
          "text": [
            "Loaded 2 episodes from v696\n",
            "Downloading artifact version: mahin-sank-iit-kgp/alpha-racer-data/alpha_racer_multi_mpc_combined:v697\n"
          ]
        },
        {
          "name": "stderr",
          "output_type": "stream",
          "text": [
            "\u001b[34m\u001b[1mwandb\u001b[0m:   1 of 1 files downloaded.  \n"
          ]
        },
        {
          "name": "stdout",
          "output_type": "stream",
          "text": [
            "Loaded 2 episodes from v697\n",
            "Downloading artifact version: mahin-sank-iit-kgp/alpha-racer-data/alpha_racer_multi_mpc_combined:v698\n"
          ]
        },
        {
          "name": "stderr",
          "output_type": "stream",
          "text": [
            "\u001b[34m\u001b[1mwandb\u001b[0m:   1 of 1 files downloaded.  \n"
          ]
        },
        {
          "name": "stdout",
          "output_type": "stream",
          "text": [
            "Loaded 2 episodes from v698\n",
            "Downloading artifact version: mahin-sank-iit-kgp/alpha-racer-data/alpha_racer_multi_mpc_combined:v699\n"
          ]
        },
        {
          "name": "stderr",
          "output_type": "stream",
          "text": [
            "\u001b[34m\u001b[1mwandb\u001b[0m:   1 of 1 files downloaded.  \n"
          ]
        },
        {
          "name": "stdout",
          "output_type": "stream",
          "text": [
            "Loaded 2 episodes from v699\n",
            "Downloading artifact version: mahin-sank-iit-kgp/alpha-racer-data/alpha_racer_multi_mpc_combined:v700\n"
          ]
        },
        {
          "name": "stderr",
          "output_type": "stream",
          "text": [
            "\u001b[34m\u001b[1mwandb\u001b[0m:   1 of 1 files downloaded.  \n"
          ]
        },
        {
          "name": "stdout",
          "output_type": "stream",
          "text": [
            "Loaded 2 episodes from v700\n",
            "Downloading artifact version: mahin-sank-iit-kgp/alpha-racer-data/alpha_racer_multi_mpc_combined:v701\n"
          ]
        },
        {
          "name": "stderr",
          "output_type": "stream",
          "text": [
            "\u001b[34m\u001b[1mwandb\u001b[0m:   1 of 1 files downloaded.  \n"
          ]
        },
        {
          "name": "stdout",
          "output_type": "stream",
          "text": [
            "Loaded 2 episodes from v701\n",
            "Downloading artifact version: mahin-sank-iit-kgp/alpha-racer-data/alpha_racer_multi_mpc_combined:v702\n"
          ]
        },
        {
          "name": "stderr",
          "output_type": "stream",
          "text": [
            "\u001b[34m\u001b[1mwandb\u001b[0m:   1 of 1 files downloaded.  \n"
          ]
        },
        {
          "name": "stdout",
          "output_type": "stream",
          "text": [
            "Loaded 2 episodes from v702\n",
            "Downloading artifact version: mahin-sank-iit-kgp/alpha-racer-data/alpha_racer_multi_mpc_combined:v703\n"
          ]
        },
        {
          "name": "stderr",
          "output_type": "stream",
          "text": [
            "\u001b[34m\u001b[1mwandb\u001b[0m:   1 of 1 files downloaded.  \n"
          ]
        },
        {
          "name": "stdout",
          "output_type": "stream",
          "text": [
            "Loaded 2 episodes from v703\n",
            "Downloading artifact version: mahin-sank-iit-kgp/alpha-racer-data/alpha_racer_multi_mpc_combined:v704\n"
          ]
        },
        {
          "name": "stderr",
          "output_type": "stream",
          "text": [
            "\u001b[34m\u001b[1mwandb\u001b[0m:   1 of 1 files downloaded.  \n"
          ]
        },
        {
          "name": "stdout",
          "output_type": "stream",
          "text": [
            "Loaded 4 episodes from v704\n",
            "Downloading artifact version: mahin-sank-iit-kgp/alpha-racer-data/alpha_racer_multi_mpc_combined:v705\n"
          ]
        },
        {
          "name": "stderr",
          "output_type": "stream",
          "text": [
            "\u001b[34m\u001b[1mwandb\u001b[0m:   1 of 1 files downloaded.  \n"
          ]
        },
        {
          "name": "stdout",
          "output_type": "stream",
          "text": [
            "Loaded 2 episodes from v705\n",
            "Downloading artifact version: mahin-sank-iit-kgp/alpha-racer-data/alpha_racer_multi_mpc_combined:v706\n"
          ]
        },
        {
          "name": "stderr",
          "output_type": "stream",
          "text": [
            "\u001b[34m\u001b[1mwandb\u001b[0m:   1 of 1 files downloaded.  \n"
          ]
        },
        {
          "name": "stdout",
          "output_type": "stream",
          "text": [
            "Loaded 4 episodes from v706\n",
            "Downloading artifact version: mahin-sank-iit-kgp/alpha-racer-data/alpha_racer_multi_mpc_combined:v707\n"
          ]
        },
        {
          "name": "stderr",
          "output_type": "stream",
          "text": [
            "\u001b[34m\u001b[1mwandb\u001b[0m:   1 of 1 files downloaded.  \n"
          ]
        },
        {
          "name": "stdout",
          "output_type": "stream",
          "text": [
            "Loaded 4 episodes from v707\n",
            "Downloading artifact version: mahin-sank-iit-kgp/alpha-racer-data/alpha_racer_multi_mpc_combined:v708\n"
          ]
        },
        {
          "name": "stderr",
          "output_type": "stream",
          "text": [
            "\u001b[34m\u001b[1mwandb\u001b[0m:   1 of 1 files downloaded.  \n"
          ]
        },
        {
          "name": "stdout",
          "output_type": "stream",
          "text": [
            "Loaded 4 episodes from v708\n",
            "Downloading artifact version: mahin-sank-iit-kgp/alpha-racer-data/alpha_racer_multi_mpc_combined:v709\n"
          ]
        },
        {
          "name": "stderr",
          "output_type": "stream",
          "text": [
            "\u001b[34m\u001b[1mwandb\u001b[0m:   1 of 1 files downloaded.  \n"
          ]
        },
        {
          "name": "stdout",
          "output_type": "stream",
          "text": [
            "Loaded 4 episodes from v709\n",
            "Downloading artifact version: mahin-sank-iit-kgp/alpha-racer-data/alpha_racer_multi_mpc_combined:v710\n"
          ]
        },
        {
          "name": "stderr",
          "output_type": "stream",
          "text": [
            "\u001b[34m\u001b[1mwandb\u001b[0m:   1 of 1 files downloaded.  \n"
          ]
        },
        {
          "name": "stdout",
          "output_type": "stream",
          "text": [
            "Loaded 4 episodes from v710\n",
            "Downloading artifact version: mahin-sank-iit-kgp/alpha-racer-data/alpha_racer_multi_mpc_combined:v711\n"
          ]
        },
        {
          "name": "stderr",
          "output_type": "stream",
          "text": [
            "\u001b[34m\u001b[1mwandb\u001b[0m:   1 of 1 files downloaded.  \n"
          ]
        },
        {
          "name": "stdout",
          "output_type": "stream",
          "text": [
            "Loaded 4 episodes from v711\n",
            "Downloading artifact version: mahin-sank-iit-kgp/alpha-racer-data/alpha_racer_multi_mpc_combined:v712\n"
          ]
        },
        {
          "name": "stderr",
          "output_type": "stream",
          "text": [
            "\u001b[34m\u001b[1mwandb\u001b[0m:   1 of 1 files downloaded.  \n"
          ]
        },
        {
          "name": "stdout",
          "output_type": "stream",
          "text": [
            "Loaded 4 episodes from v712\n",
            "Downloading artifact version: mahin-sank-iit-kgp/alpha-racer-data/alpha_racer_multi_mpc_combined:v713\n"
          ]
        },
        {
          "name": "stderr",
          "output_type": "stream",
          "text": [
            "\u001b[34m\u001b[1mwandb\u001b[0m:   1 of 1 files downloaded.  \n"
          ]
        },
        {
          "name": "stdout",
          "output_type": "stream",
          "text": [
            "Loaded 4 episodes from v713\n",
            "Downloading artifact version: mahin-sank-iit-kgp/alpha-racer-data/alpha_racer_multi_mpc_combined:v714\n"
          ]
        },
        {
          "name": "stderr",
          "output_type": "stream",
          "text": [
            "\u001b[34m\u001b[1mwandb\u001b[0m:   1 of 1 files downloaded.  \n"
          ]
        },
        {
          "name": "stdout",
          "output_type": "stream",
          "text": [
            "Loaded 4 episodes from v714\n",
            "Downloading artifact version: mahin-sank-iit-kgp/alpha-racer-data/alpha_racer_multi_mpc_combined:v715\n"
          ]
        },
        {
          "name": "stderr",
          "output_type": "stream",
          "text": [
            "\u001b[34m\u001b[1mwandb\u001b[0m:   1 of 1 files downloaded.  \n"
          ]
        },
        {
          "name": "stdout",
          "output_type": "stream",
          "text": [
            "Loaded 5 episodes from v715\n",
            "Downloading artifact version: mahin-sank-iit-kgp/alpha-racer-data/alpha_racer_multi_mpc_combined:v716\n"
          ]
        },
        {
          "name": "stderr",
          "output_type": "stream",
          "text": [
            "\u001b[34m\u001b[1mwandb\u001b[0m:   1 of 1 files downloaded.  \n"
          ]
        },
        {
          "name": "stdout",
          "output_type": "stream",
          "text": [
            "Loaded 5 episodes from v716\n",
            "Downloading artifact version: mahin-sank-iit-kgp/alpha-racer-data/alpha_racer_multi_mpc_combined:v717\n"
          ]
        },
        {
          "name": "stderr",
          "output_type": "stream",
          "text": [
            "\u001b[34m\u001b[1mwandb\u001b[0m:   1 of 1 files downloaded.  \n"
          ]
        },
        {
          "name": "stdout",
          "output_type": "stream",
          "text": [
            "Loaded 5 episodes from v717\n",
            "Downloading artifact version: mahin-sank-iit-kgp/alpha-racer-data/alpha_racer_multi_mpc_combined:v718\n"
          ]
        },
        {
          "name": "stderr",
          "output_type": "stream",
          "text": [
            "\u001b[34m\u001b[1mwandb\u001b[0m:   1 of 1 files downloaded.  \n"
          ]
        },
        {
          "name": "stdout",
          "output_type": "stream",
          "text": [
            "Loaded 5 episodes from v718\n",
            "Downloading artifact version: mahin-sank-iit-kgp/alpha-racer-data/alpha_racer_multi_mpc_combined:v719\n"
          ]
        },
        {
          "name": "stderr",
          "output_type": "stream",
          "text": [
            "\u001b[34m\u001b[1mwandb\u001b[0m:   1 of 1 files downloaded.  \n"
          ]
        },
        {
          "name": "stdout",
          "output_type": "stream",
          "text": [
            "Loaded 5 episodes from v719\n",
            "Downloading artifact version: mahin-sank-iit-kgp/alpha-racer-data/alpha_racer_multi_mpc_combined:v720\n"
          ]
        },
        {
          "name": "stderr",
          "output_type": "stream",
          "text": [
            "\u001b[34m\u001b[1mwandb\u001b[0m:   1 of 1 files downloaded.  \n"
          ]
        },
        {
          "name": "stdout",
          "output_type": "stream",
          "text": [
            "Loaded 5 episodes from v720\n",
            "Downloading artifact version: mahin-sank-iit-kgp/alpha-racer-data/alpha_racer_multi_mpc_combined:v721\n"
          ]
        },
        {
          "name": "stderr",
          "output_type": "stream",
          "text": [
            "\u001b[34m\u001b[1mwandb\u001b[0m:   1 of 1 files downloaded.  \n"
          ]
        },
        {
          "name": "stdout",
          "output_type": "stream",
          "text": [
            "Loaded 5 episodes from v721\n",
            "Downloading artifact version: mahin-sank-iit-kgp/alpha-racer-data/alpha_racer_multi_mpc_combined:v722\n"
          ]
        },
        {
          "name": "stderr",
          "output_type": "stream",
          "text": [
            "\u001b[34m\u001b[1mwandb\u001b[0m:   1 of 1 files downloaded.  \n"
          ]
        },
        {
          "name": "stdout",
          "output_type": "stream",
          "text": [
            "Loaded 5 episodes from v722\n",
            "Downloading artifact version: mahin-sank-iit-kgp/alpha-racer-data/alpha_racer_multi_mpc_combined:v723\n"
          ]
        },
        {
          "name": "stderr",
          "output_type": "stream",
          "text": [
            "\u001b[34m\u001b[1mwandb\u001b[0m:   1 of 1 files downloaded.  \n"
          ]
        },
        {
          "name": "stdout",
          "output_type": "stream",
          "text": [
            "Loaded 5 episodes from v723\n",
            "Downloading artifact version: mahin-sank-iit-kgp/alpha-racer-data/alpha_racer_multi_mpc_combined:v724\n"
          ]
        },
        {
          "name": "stderr",
          "output_type": "stream",
          "text": [
            "\u001b[34m\u001b[1mwandb\u001b[0m:   1 of 1 files downloaded.  \n"
          ]
        },
        {
          "name": "stdout",
          "output_type": "stream",
          "text": [
            "Loaded 5 episodes from v724\n",
            "Downloading artifact version: mahin-sank-iit-kgp/alpha-racer-data/alpha_racer_multi_mpc_combined:v725\n"
          ]
        },
        {
          "name": "stderr",
          "output_type": "stream",
          "text": [
            "\u001b[34m\u001b[1mwandb\u001b[0m:   1 of 1 files downloaded.  \n"
          ]
        },
        {
          "name": "stdout",
          "output_type": "stream",
          "text": [
            "Loaded 6 episodes from v725\n",
            "Downloading artifact version: mahin-sank-iit-kgp/alpha-racer-data/alpha_racer_multi_mpc_combined:v726\n"
          ]
        },
        {
          "name": "stderr",
          "output_type": "stream",
          "text": [
            "\u001b[34m\u001b[1mwandb\u001b[0m:   1 of 1 files downloaded.  \n"
          ]
        },
        {
          "name": "stdout",
          "output_type": "stream",
          "text": [
            "Loaded 2 episodes from v726\n",
            "Downloading artifact version: mahin-sank-iit-kgp/alpha-racer-data/alpha_racer_multi_mpc_combined:v727\n"
          ]
        },
        {
          "name": "stderr",
          "output_type": "stream",
          "text": [
            "\u001b[34m\u001b[1mwandb\u001b[0m:   1 of 1 files downloaded.  \n"
          ]
        },
        {
          "name": "stdout",
          "output_type": "stream",
          "text": [
            "Loaded 2 episodes from v727\n",
            "Downloading artifact version: mahin-sank-iit-kgp/alpha-racer-data/alpha_racer_multi_mpc_combined:v728\n"
          ]
        },
        {
          "name": "stderr",
          "output_type": "stream",
          "text": [
            "\u001b[34m\u001b[1mwandb\u001b[0m:   1 of 1 files downloaded.  \n"
          ]
        },
        {
          "name": "stdout",
          "output_type": "stream",
          "text": [
            "Loaded 6 episodes from v728\n",
            "Downloading artifact version: mahin-sank-iit-kgp/alpha-racer-data/alpha_racer_multi_mpc_combined:v729\n"
          ]
        },
        {
          "name": "stderr",
          "output_type": "stream",
          "text": [
            "\u001b[34m\u001b[1mwandb\u001b[0m:   1 of 1 files downloaded.  \n"
          ]
        },
        {
          "name": "stdout",
          "output_type": "stream",
          "text": [
            "Loaded 2 episodes from v729\n",
            "Downloading artifact version: mahin-sank-iit-kgp/alpha-racer-data/alpha_racer_multi_mpc_combined:v730\n"
          ]
        },
        {
          "name": "stderr",
          "output_type": "stream",
          "text": [
            "\u001b[34m\u001b[1mwandb\u001b[0m:   1 of 1 files downloaded.  \n"
          ]
        },
        {
          "name": "stdout",
          "output_type": "stream",
          "text": [
            "Loaded 6 episodes from v730\n",
            "Downloading artifact version: mahin-sank-iit-kgp/alpha-racer-data/alpha_racer_multi_mpc_combined:v731\n"
          ]
        },
        {
          "name": "stderr",
          "output_type": "stream",
          "text": [
            "\u001b[34m\u001b[1mwandb\u001b[0m:   1 of 1 files downloaded.  \n"
          ]
        },
        {
          "name": "stdout",
          "output_type": "stream",
          "text": [
            "Loaded 2 episodes from v731\n",
            "Downloading artifact version: mahin-sank-iit-kgp/alpha-racer-data/alpha_racer_multi_mpc_combined:v732\n"
          ]
        },
        {
          "name": "stderr",
          "output_type": "stream",
          "text": [
            "\u001b[34m\u001b[1mwandb\u001b[0m:   1 of 1 files downloaded.  \n"
          ]
        },
        {
          "name": "stdout",
          "output_type": "stream",
          "text": [
            "Loaded 2 episodes from v732\n",
            "Downloading artifact version: mahin-sank-iit-kgp/alpha-racer-data/alpha_racer_multi_mpc_combined:v733\n"
          ]
        },
        {
          "name": "stderr",
          "output_type": "stream",
          "text": [
            "\u001b[34m\u001b[1mwandb\u001b[0m:   1 of 1 files downloaded.  \n"
          ]
        },
        {
          "name": "stdout",
          "output_type": "stream",
          "text": [
            "Loaded 6 episodes from v733\n",
            "Downloading artifact version: mahin-sank-iit-kgp/alpha-racer-data/alpha_racer_multi_mpc_combined:v734\n"
          ]
        },
        {
          "name": "stderr",
          "output_type": "stream",
          "text": [
            "\u001b[34m\u001b[1mwandb\u001b[0m:   1 of 1 files downloaded.  \n"
          ]
        },
        {
          "name": "stdout",
          "output_type": "stream",
          "text": [
            "Loaded 2 episodes from v734\n",
            "Downloading artifact version: mahin-sank-iit-kgp/alpha-racer-data/alpha_racer_multi_mpc_combined:v735\n"
          ]
        },
        {
          "name": "stderr",
          "output_type": "stream",
          "text": [
            "\u001b[34m\u001b[1mwandb\u001b[0m:   1 of 1 files downloaded.  \n"
          ]
        },
        {
          "name": "stdout",
          "output_type": "stream",
          "text": [
            "Loaded 3 episodes from v735\n",
            "Downloading artifact version: mahin-sank-iit-kgp/alpha-racer-data/alpha_racer_multi_mpc_combined:v736\n"
          ]
        },
        {
          "name": "stderr",
          "output_type": "stream",
          "text": [
            "\u001b[34m\u001b[1mwandb\u001b[0m:   1 of 1 files downloaded.  \n"
          ]
        },
        {
          "name": "stdout",
          "output_type": "stream",
          "text": [
            "Loaded 2 episodes from v736\n",
            "Downloading artifact version: mahin-sank-iit-kgp/alpha-racer-data/alpha_racer_multi_mpc_combined:v737\n"
          ]
        },
        {
          "name": "stderr",
          "output_type": "stream",
          "text": [
            "\u001b[34m\u001b[1mwandb\u001b[0m:   1 of 1 files downloaded.  \n"
          ]
        },
        {
          "name": "stdout",
          "output_type": "stream",
          "text": [
            "Loaded 6 episodes from v737\n",
            "Downloading artifact version: mahin-sank-iit-kgp/alpha-racer-data/alpha_racer_multi_mpc_combined:v738\n"
          ]
        },
        {
          "name": "stderr",
          "output_type": "stream",
          "text": [
            "\u001b[34m\u001b[1mwandb\u001b[0m:   1 of 1 files downloaded.  \n"
          ]
        },
        {
          "name": "stdout",
          "output_type": "stream",
          "text": [
            "Loaded 2 episodes from v738\n",
            "Downloading artifact version: mahin-sank-iit-kgp/alpha-racer-data/alpha_racer_multi_mpc_combined:v739\n"
          ]
        },
        {
          "name": "stderr",
          "output_type": "stream",
          "text": [
            "\u001b[34m\u001b[1mwandb\u001b[0m:   1 of 1 files downloaded.  \n"
          ]
        },
        {
          "name": "stdout",
          "output_type": "stream",
          "text": [
            "Loaded 6 episodes from v739\n",
            "Downloading artifact version: mahin-sank-iit-kgp/alpha-racer-data/alpha_racer_multi_mpc_combined:v740\n"
          ]
        },
        {
          "name": "stderr",
          "output_type": "stream",
          "text": [
            "\u001b[34m\u001b[1mwandb\u001b[0m:   1 of 1 files downloaded.  \n"
          ]
        },
        {
          "name": "stdout",
          "output_type": "stream",
          "text": [
            "Loaded 6 episodes from v740\n",
            "Downloading artifact version: mahin-sank-iit-kgp/alpha-racer-data/alpha_racer_multi_mpc_combined:v741\n"
          ]
        },
        {
          "name": "stderr",
          "output_type": "stream",
          "text": [
            "\u001b[34m\u001b[1mwandb\u001b[0m:   1 of 1 files downloaded.  \n"
          ]
        },
        {
          "name": "stdout",
          "output_type": "stream",
          "text": [
            "Loaded 6 episodes from v741\n",
            "Downloading artifact version: mahin-sank-iit-kgp/alpha-racer-data/alpha_racer_multi_mpc_combined:v742\n"
          ]
        },
        {
          "name": "stderr",
          "output_type": "stream",
          "text": [
            "\u001b[34m\u001b[1mwandb\u001b[0m:   1 of 1 files downloaded.  \n"
          ]
        },
        {
          "name": "stdout",
          "output_type": "stream",
          "text": [
            "Loaded 6 episodes from v742\n",
            "Downloading artifact version: mahin-sank-iit-kgp/alpha-racer-data/alpha_racer_multi_mpc_combined:v743\n"
          ]
        },
        {
          "name": "stderr",
          "output_type": "stream",
          "text": [
            "\u001b[34m\u001b[1mwandb\u001b[0m:   1 of 1 files downloaded.  \n"
          ]
        },
        {
          "name": "stdout",
          "output_type": "stream",
          "text": [
            "Loaded 2 episodes from v743\n",
            "Downloading artifact version: mahin-sank-iit-kgp/alpha-racer-data/alpha_racer_multi_mpc_combined:v744\n"
          ]
        },
        {
          "name": "stderr",
          "output_type": "stream",
          "text": [
            "\u001b[34m\u001b[1mwandb\u001b[0m:   1 of 1 files downloaded.  \n"
          ]
        },
        {
          "name": "stdout",
          "output_type": "stream",
          "text": [
            "Loaded 6 episodes from v744\n",
            "Downloading artifact version: mahin-sank-iit-kgp/alpha-racer-data/alpha_racer_multi_mpc_combined:v745\n"
          ]
        },
        {
          "name": "stderr",
          "output_type": "stream",
          "text": [
            "\u001b[34m\u001b[1mwandb\u001b[0m:   1 of 1 files downloaded.  \n"
          ]
        },
        {
          "name": "stdout",
          "output_type": "stream",
          "text": [
            "Loaded 2 episodes from v745\n",
            "Downloading artifact version: mahin-sank-iit-kgp/alpha-racer-data/alpha_racer_multi_mpc_combined:v746\n"
          ]
        },
        {
          "name": "stderr",
          "output_type": "stream",
          "text": [
            "\u001b[34m\u001b[1mwandb\u001b[0m:   1 of 1 files downloaded.  \n"
          ]
        },
        {
          "name": "stdout",
          "output_type": "stream",
          "text": [
            "Loaded 3 episodes from v746\n",
            "Downloading artifact version: mahin-sank-iit-kgp/alpha-racer-data/alpha_racer_multi_mpc_combined:v747\n"
          ]
        },
        {
          "name": "stderr",
          "output_type": "stream",
          "text": [
            "\u001b[34m\u001b[1mwandb\u001b[0m:   1 of 1 files downloaded.  \n"
          ]
        },
        {
          "name": "stdout",
          "output_type": "stream",
          "text": [
            "Loaded 3 episodes from v747\n",
            "Downloading artifact version: mahin-sank-iit-kgp/alpha-racer-data/alpha_racer_multi_mpc_combined:v748\n"
          ]
        },
        {
          "name": "stderr",
          "output_type": "stream",
          "text": [
            "\u001b[34m\u001b[1mwandb\u001b[0m:   1 of 1 files downloaded.  \n"
          ]
        },
        {
          "name": "stdout",
          "output_type": "stream",
          "text": [
            "Loaded 3 episodes from v748\n",
            "Downloading artifact version: mahin-sank-iit-kgp/alpha-racer-data/alpha_racer_multi_mpc_combined:v749\n"
          ]
        },
        {
          "name": "stderr",
          "output_type": "stream",
          "text": [
            "\u001b[34m\u001b[1mwandb\u001b[0m:   1 of 1 files downloaded.  \n"
          ]
        },
        {
          "name": "stdout",
          "output_type": "stream",
          "text": [
            "Loaded 7 episodes from v749\n",
            "Downloading artifact version: mahin-sank-iit-kgp/alpha-racer-data/alpha_racer_multi_mpc_combined:v750\n"
          ]
        },
        {
          "name": "stderr",
          "output_type": "stream",
          "text": [
            "\u001b[34m\u001b[1mwandb\u001b[0m:   1 of 1 files downloaded.  \n"
          ]
        },
        {
          "name": "stdout",
          "output_type": "stream",
          "text": [
            "Loaded 3 episodes from v750\n",
            "Downloading artifact version: mahin-sank-iit-kgp/alpha-racer-data/alpha_racer_multi_mpc_combined:v751\n"
          ]
        },
        {
          "name": "stderr",
          "output_type": "stream",
          "text": [
            "\u001b[34m\u001b[1mwandb\u001b[0m:   1 of 1 files downloaded.  \n"
          ]
        },
        {
          "name": "stdout",
          "output_type": "stream",
          "text": [
            "Loaded 3 episodes from v751\n",
            "Downloading artifact version: mahin-sank-iit-kgp/alpha-racer-data/alpha_racer_multi_mpc_combined:v752\n"
          ]
        },
        {
          "name": "stderr",
          "output_type": "stream",
          "text": [
            "\u001b[34m\u001b[1mwandb\u001b[0m:   1 of 1 files downloaded.  \n"
          ]
        },
        {
          "name": "stdout",
          "output_type": "stream",
          "text": [
            "Loaded 3 episodes from v752\n",
            "Downloading artifact version: mahin-sank-iit-kgp/alpha-racer-data/alpha_racer_multi_mpc_combined:v753\n"
          ]
        },
        {
          "name": "stderr",
          "output_type": "stream",
          "text": [
            "\u001b[34m\u001b[1mwandb\u001b[0m:   1 of 1 files downloaded.  \n"
          ]
        },
        {
          "name": "stdout",
          "output_type": "stream",
          "text": [
            "Loaded 3 episodes from v753\n",
            "Downloading artifact version: mahin-sank-iit-kgp/alpha-racer-data/alpha_racer_multi_mpc_combined:v754\n"
          ]
        },
        {
          "name": "stderr",
          "output_type": "stream",
          "text": [
            "\u001b[34m\u001b[1mwandb\u001b[0m:   1 of 1 files downloaded.  \n"
          ]
        },
        {
          "name": "stdout",
          "output_type": "stream",
          "text": [
            "Loaded 7 episodes from v754\n",
            "Downloading artifact version: mahin-sank-iit-kgp/alpha-racer-data/alpha_racer_multi_mpc_combined:v755\n"
          ]
        },
        {
          "name": "stderr",
          "output_type": "stream",
          "text": [
            "\u001b[34m\u001b[1mwandb\u001b[0m:   1 of 1 files downloaded.  \n"
          ]
        },
        {
          "name": "stdout",
          "output_type": "stream",
          "text": [
            "Loaded 7 episodes from v755\n",
            "Downloading artifact version: mahin-sank-iit-kgp/alpha-racer-data/alpha_racer_multi_mpc_combined:v756\n"
          ]
        },
        {
          "name": "stderr",
          "output_type": "stream",
          "text": [
            "\u001b[34m\u001b[1mwandb\u001b[0m:   1 of 1 files downloaded.  \n"
          ]
        },
        {
          "name": "stdout",
          "output_type": "stream",
          "text": [
            "Loaded 7 episodes from v756\n",
            "Downloading artifact version: mahin-sank-iit-kgp/alpha-racer-data/alpha_racer_multi_mpc_combined:v757\n"
          ]
        },
        {
          "name": "stderr",
          "output_type": "stream",
          "text": [
            "\u001b[34m\u001b[1mwandb\u001b[0m:   1 of 1 files downloaded.  \n"
          ]
        },
        {
          "name": "stdout",
          "output_type": "stream",
          "text": [
            "Loaded 7 episodes from v757\n",
            "Downloading artifact version: mahin-sank-iit-kgp/alpha-racer-data/alpha_racer_multi_mpc_combined:v758\n"
          ]
        },
        {
          "name": "stderr",
          "output_type": "stream",
          "text": [
            "\u001b[34m\u001b[1mwandb\u001b[0m:   1 of 1 files downloaded.  \n"
          ]
        },
        {
          "name": "stdout",
          "output_type": "stream",
          "text": [
            "Loaded 3 episodes from v758\n",
            "Downloading artifact version: mahin-sank-iit-kgp/alpha-racer-data/alpha_racer_multi_mpc_combined:v759\n"
          ]
        },
        {
          "name": "stderr",
          "output_type": "stream",
          "text": [
            "\u001b[34m\u001b[1mwandb\u001b[0m:   1 of 1 files downloaded.  \n"
          ]
        },
        {
          "name": "stdout",
          "output_type": "stream",
          "text": [
            "Loaded 7 episodes from v759\n",
            "Downloading artifact version: mahin-sank-iit-kgp/alpha-racer-data/alpha_racer_multi_mpc_combined:v760\n"
          ]
        },
        {
          "name": "stderr",
          "output_type": "stream",
          "text": [
            "\u001b[34m\u001b[1mwandb\u001b[0m:   1 of 1 files downloaded.  \n"
          ]
        },
        {
          "name": "stdout",
          "output_type": "stream",
          "text": [
            "Loaded 3 episodes from v760\n",
            "Downloading artifact version: mahin-sank-iit-kgp/alpha-racer-data/alpha_racer_multi_mpc_combined:v761\n"
          ]
        },
        {
          "name": "stderr",
          "output_type": "stream",
          "text": [
            "\u001b[34m\u001b[1mwandb\u001b[0m:   1 of 1 files downloaded.  \n"
          ]
        },
        {
          "name": "stdout",
          "output_type": "stream",
          "text": [
            "Loaded 7 episodes from v761\n",
            "Downloading artifact version: mahin-sank-iit-kgp/alpha-racer-data/alpha_racer_multi_mpc_combined:v762\n"
          ]
        },
        {
          "name": "stderr",
          "output_type": "stream",
          "text": [
            "\u001b[34m\u001b[1mwandb\u001b[0m:   1 of 1 files downloaded.  \n"
          ]
        },
        {
          "name": "stdout",
          "output_type": "stream",
          "text": [
            "Loaded 7 episodes from v762\n",
            "Downloading artifact version: mahin-sank-iit-kgp/alpha-racer-data/alpha_racer_multi_mpc_combined:v763\n"
          ]
        },
        {
          "name": "stderr",
          "output_type": "stream",
          "text": [
            "\u001b[34m\u001b[1mwandb\u001b[0m:   1 of 1 files downloaded.  \n"
          ]
        },
        {
          "name": "stdout",
          "output_type": "stream",
          "text": [
            "Loaded 7 episodes from v763\n",
            "Downloading artifact version: mahin-sank-iit-kgp/alpha-racer-data/alpha_racer_multi_mpc_combined:v764\n"
          ]
        },
        {
          "name": "stderr",
          "output_type": "stream",
          "text": [
            "\u001b[34m\u001b[1mwandb\u001b[0m:   1 of 1 files downloaded.  \n"
          ]
        },
        {
          "name": "stdout",
          "output_type": "stream",
          "text": [
            "Loaded 7 episodes from v764\n",
            "Downloading artifact version: mahin-sank-iit-kgp/alpha-racer-data/alpha_racer_multi_mpc_combined:v765\n"
          ]
        },
        {
          "name": "stderr",
          "output_type": "stream",
          "text": [
            "\u001b[34m\u001b[1mwandb\u001b[0m:   1 of 1 files downloaded.  \n"
          ]
        },
        {
          "name": "stdout",
          "output_type": "stream",
          "text": [
            "Loaded 3 episodes from v765\n",
            "Downloading artifact version: mahin-sank-iit-kgp/alpha-racer-data/alpha_racer_multi_mpc_combined:v766\n"
          ]
        },
        {
          "name": "stderr",
          "output_type": "stream",
          "text": [
            "\u001b[34m\u001b[1mwandb\u001b[0m:   1 of 1 files downloaded.  \n"
          ]
        },
        {
          "name": "stdout",
          "output_type": "stream",
          "text": [
            "Loaded 3 episodes from v766\n",
            "Downloading artifact version: mahin-sank-iit-kgp/alpha-racer-data/alpha_racer_multi_mpc_combined:v767\n"
          ]
        },
        {
          "name": "stderr",
          "output_type": "stream",
          "text": [
            "\u001b[34m\u001b[1mwandb\u001b[0m:   1 of 1 files downloaded.  \n"
          ]
        },
        {
          "name": "stdout",
          "output_type": "stream",
          "text": [
            "Loaded 3 episodes from v767\n",
            "Downloading artifact version: mahin-sank-iit-kgp/alpha-racer-data/alpha_racer_multi_mpc_combined:v768\n"
          ]
        },
        {
          "name": "stderr",
          "output_type": "stream",
          "text": [
            "\u001b[34m\u001b[1mwandb\u001b[0m:   1 of 1 files downloaded.  \n"
          ]
        },
        {
          "name": "stdout",
          "output_type": "stream",
          "text": [
            "Loaded 3 episodes from v768\n",
            "Downloading artifact version: mahin-sank-iit-kgp/alpha-racer-data/alpha_racer_multi_mpc_combined:v769\n"
          ]
        },
        {
          "name": "stderr",
          "output_type": "stream",
          "text": [
            "\u001b[34m\u001b[1mwandb\u001b[0m:   1 of 1 files downloaded.  \n"
          ]
        },
        {
          "name": "stdout",
          "output_type": "stream",
          "text": [
            "Loaded 3 episodes from v769\n",
            "Downloading artifact version: mahin-sank-iit-kgp/alpha-racer-data/alpha_racer_multi_mpc_combined:v770\n"
          ]
        },
        {
          "name": "stderr",
          "output_type": "stream",
          "text": [
            "\u001b[34m\u001b[1mwandb\u001b[0m:   1 of 1 files downloaded.  \n"
          ]
        },
        {
          "name": "stdout",
          "output_type": "stream",
          "text": [
            "Loaded 3 episodes from v770\n",
            "Downloading artifact version: mahin-sank-iit-kgp/alpha-racer-data/alpha_racer_multi_mpc_combined:v771\n"
          ]
        },
        {
          "name": "stderr",
          "output_type": "stream",
          "text": [
            "\u001b[34m\u001b[1mwandb\u001b[0m:   1 of 1 files downloaded.  \n"
          ]
        },
        {
          "name": "stdout",
          "output_type": "stream",
          "text": [
            "Loaded 8 episodes from v771\n",
            "Downloading artifact version: mahin-sank-iit-kgp/alpha-racer-data/alpha_racer_multi_mpc_combined:v772\n"
          ]
        },
        {
          "name": "stderr",
          "output_type": "stream",
          "text": [
            "\u001b[34m\u001b[1mwandb\u001b[0m:   1 of 1 files downloaded.  \n"
          ]
        },
        {
          "name": "stdout",
          "output_type": "stream",
          "text": [
            "Loaded 3 episodes from v772\n",
            "Downloading artifact version: mahin-sank-iit-kgp/alpha-racer-data/alpha_racer_multi_mpc_combined:v773\n"
          ]
        },
        {
          "name": "stderr",
          "output_type": "stream",
          "text": [
            "\u001b[34m\u001b[1mwandb\u001b[0m:   1 of 1 files downloaded.  \n"
          ]
        },
        {
          "name": "stdout",
          "output_type": "stream",
          "text": [
            "Loaded 3 episodes from v773\n",
            "Downloading artifact version: mahin-sank-iit-kgp/alpha-racer-data/alpha_racer_multi_mpc_combined:v774\n"
          ]
        },
        {
          "name": "stderr",
          "output_type": "stream",
          "text": [
            "\u001b[34m\u001b[1mwandb\u001b[0m:   1 of 1 files downloaded.  \n"
          ]
        },
        {
          "name": "stdout",
          "output_type": "stream",
          "text": [
            "Loaded 3 episodes from v774\n",
            "Downloading artifact version: mahin-sank-iit-kgp/alpha-racer-data/alpha_racer_multi_mpc_combined:v775\n"
          ]
        },
        {
          "name": "stderr",
          "output_type": "stream",
          "text": [
            "\u001b[34m\u001b[1mwandb\u001b[0m:   1 of 1 files downloaded.  \n"
          ]
        },
        {
          "name": "stdout",
          "output_type": "stream",
          "text": [
            "Loaded 8 episodes from v775\n",
            "Downloading artifact version: mahin-sank-iit-kgp/alpha-racer-data/alpha_racer_multi_mpc_combined:v776\n"
          ]
        },
        {
          "name": "stderr",
          "output_type": "stream",
          "text": [
            "\u001b[34m\u001b[1mwandb\u001b[0m:   1 of 1 files downloaded.  \n"
          ]
        },
        {
          "name": "stdout",
          "output_type": "stream",
          "text": [
            "Loaded 8 episodes from v776\n",
            "Downloading artifact version: mahin-sank-iit-kgp/alpha-racer-data/alpha_racer_multi_mpc_combined:v777\n"
          ]
        },
        {
          "name": "stderr",
          "output_type": "stream",
          "text": [
            "\u001b[34m\u001b[1mwandb\u001b[0m:   1 of 1 files downloaded.  \n"
          ]
        },
        {
          "name": "stdout",
          "output_type": "stream",
          "text": [
            "Loaded 8 episodes from v777\n",
            "Downloading artifact version: mahin-sank-iit-kgp/alpha-racer-data/alpha_racer_multi_mpc_combined:v778\n"
          ]
        },
        {
          "name": "stderr",
          "output_type": "stream",
          "text": [
            "\u001b[34m\u001b[1mwandb\u001b[0m:   1 of 1 files downloaded.  \n"
          ]
        },
        {
          "name": "stdout",
          "output_type": "stream",
          "text": [
            "Loaded 3 episodes from v778\n",
            "Downloading artifact version: mahin-sank-iit-kgp/alpha-racer-data/alpha_racer_multi_mpc_combined:v779\n"
          ]
        },
        {
          "name": "stderr",
          "output_type": "stream",
          "text": [
            "\u001b[34m\u001b[1mwandb\u001b[0m:   1 of 1 files downloaded.  \n"
          ]
        },
        {
          "name": "stdout",
          "output_type": "stream",
          "text": [
            "Loaded 8 episodes from v779\n",
            "Downloading artifact version: mahin-sank-iit-kgp/alpha-racer-data/alpha_racer_multi_mpc_combined:v780\n"
          ]
        },
        {
          "name": "stderr",
          "output_type": "stream",
          "text": [
            "\u001b[34m\u001b[1mwandb\u001b[0m:   1 of 1 files downloaded.  \n"
          ]
        },
        {
          "name": "stdout",
          "output_type": "stream",
          "text": [
            "Loaded 8 episodes from v780\n",
            "Downloading artifact version: mahin-sank-iit-kgp/alpha-racer-data/alpha_racer_multi_mpc_combined:v781\n"
          ]
        },
        {
          "name": "stderr",
          "output_type": "stream",
          "text": [
            "\u001b[34m\u001b[1mwandb\u001b[0m:   1 of 1 files downloaded.  \n"
          ]
        },
        {
          "name": "stdout",
          "output_type": "stream",
          "text": [
            "Loaded 8 episodes from v781\n",
            "Downloading artifact version: mahin-sank-iit-kgp/alpha-racer-data/alpha_racer_multi_mpc_combined:v782\n"
          ]
        },
        {
          "name": "stderr",
          "output_type": "stream",
          "text": [
            "\u001b[34m\u001b[1mwandb\u001b[0m:   1 of 1 files downloaded.  \n"
          ]
        },
        {
          "name": "stdout",
          "output_type": "stream",
          "text": [
            "Loaded 8 episodes from v782\n",
            "Downloading artifact version: mahin-sank-iit-kgp/alpha-racer-data/alpha_racer_multi_mpc_combined:v783\n"
          ]
        },
        {
          "name": "stderr",
          "output_type": "stream",
          "text": [
            "\u001b[34m\u001b[1mwandb\u001b[0m:   1 of 1 files downloaded.  \n"
          ]
        },
        {
          "name": "stdout",
          "output_type": "stream",
          "text": [
            "Loaded 8 episodes from v783\n",
            "Downloading artifact version: mahin-sank-iit-kgp/alpha-racer-data/alpha_racer_multi_mpc_combined:v784\n"
          ]
        },
        {
          "name": "stderr",
          "output_type": "stream",
          "text": [
            "\u001b[34m\u001b[1mwandb\u001b[0m:   1 of 1 files downloaded.  \n"
          ]
        },
        {
          "name": "stdout",
          "output_type": "stream",
          "text": [
            "Loaded 8 episodes from v784\n",
            "Downloading artifact version: mahin-sank-iit-kgp/alpha-racer-data/alpha_racer_multi_mpc_combined:v785\n"
          ]
        },
        {
          "name": "stderr",
          "output_type": "stream",
          "text": [
            "\u001b[34m\u001b[1mwandb\u001b[0m:   1 of 1 files downloaded.  \n"
          ]
        },
        {
          "name": "stdout",
          "output_type": "stream",
          "text": [
            "Loaded 9 episodes from v785\n",
            "Downloading artifact version: mahin-sank-iit-kgp/alpha-racer-data/alpha_racer_multi_mpc_combined:v786\n"
          ]
        },
        {
          "name": "stderr",
          "output_type": "stream",
          "text": [
            "\u001b[34m\u001b[1mwandb\u001b[0m:   1 of 1 files downloaded.  \n"
          ]
        },
        {
          "name": "stdout",
          "output_type": "stream",
          "text": [
            "Loaded 9 episodes from v786\n",
            "Downloading artifact version: mahin-sank-iit-kgp/alpha-racer-data/alpha_racer_multi_mpc_combined:v787\n"
          ]
        },
        {
          "name": "stderr",
          "output_type": "stream",
          "text": [
            "\u001b[34m\u001b[1mwandb\u001b[0m:   1 of 1 files downloaded.  \n"
          ]
        },
        {
          "name": "stdout",
          "output_type": "stream",
          "text": [
            "Loaded 9 episodes from v787\n",
            "Downloading artifact version: mahin-sank-iit-kgp/alpha-racer-data/alpha_racer_multi_mpc_combined:v788\n"
          ]
        },
        {
          "name": "stderr",
          "output_type": "stream",
          "text": [
            "\u001b[34m\u001b[1mwandb\u001b[0m:   1 of 1 files downloaded.  \n"
          ]
        },
        {
          "name": "stdout",
          "output_type": "stream",
          "text": [
            "Loaded 9 episodes from v788\n",
            "Downloading artifact version: mahin-sank-iit-kgp/alpha-racer-data/alpha_racer_multi_mpc_combined:v789\n"
          ]
        },
        {
          "name": "stderr",
          "output_type": "stream",
          "text": [
            "\u001b[34m\u001b[1mwandb\u001b[0m:   1 of 1 files downloaded.  \n"
          ]
        },
        {
          "name": "stdout",
          "output_type": "stream",
          "text": [
            "Loaded 9 episodes from v789\n",
            "Downloading artifact version: mahin-sank-iit-kgp/alpha-racer-data/alpha_racer_multi_mpc_combined:v790\n"
          ]
        },
        {
          "name": "stderr",
          "output_type": "stream",
          "text": [
            "\u001b[34m\u001b[1mwandb\u001b[0m:   1 of 1 files downloaded.  \n"
          ]
        },
        {
          "name": "stdout",
          "output_type": "stream",
          "text": [
            "Loaded 9 episodes from v790\n",
            "Downloading artifact version: mahin-sank-iit-kgp/alpha-racer-data/alpha_racer_multi_mpc_combined:v791\n"
          ]
        },
        {
          "name": "stderr",
          "output_type": "stream",
          "text": [
            "\u001b[34m\u001b[1mwandb\u001b[0m:   1 of 1 files downloaded.  \n"
          ]
        },
        {
          "name": "stdout",
          "output_type": "stream",
          "text": [
            "Loaded 4 episodes from v791\n",
            "Downloading artifact version: mahin-sank-iit-kgp/alpha-racer-data/alpha_racer_multi_mpc_combined:v792\n"
          ]
        },
        {
          "name": "stderr",
          "output_type": "stream",
          "text": [
            "\u001b[34m\u001b[1mwandb\u001b[0m:   1 of 1 files downloaded.  \n"
          ]
        },
        {
          "name": "stdout",
          "output_type": "stream",
          "text": [
            "Loaded 4 episodes from v792\n",
            "Downloading artifact version: mahin-sank-iit-kgp/alpha-racer-data/alpha_racer_multi_mpc_combined:v793\n"
          ]
        },
        {
          "name": "stderr",
          "output_type": "stream",
          "text": [
            "\u001b[34m\u001b[1mwandb\u001b[0m:   1 of 1 files downloaded.  \n"
          ]
        },
        {
          "name": "stdout",
          "output_type": "stream",
          "text": [
            "Loaded 9 episodes from v793\n",
            "Downloading artifact version: mahin-sank-iit-kgp/alpha-racer-data/alpha_racer_multi_mpc_combined:v794\n"
          ]
        },
        {
          "name": "stderr",
          "output_type": "stream",
          "text": [
            "\u001b[34m\u001b[1mwandb\u001b[0m:   1 of 1 files downloaded.  \n"
          ]
        },
        {
          "name": "stdout",
          "output_type": "stream",
          "text": [
            "Loaded 9 episodes from v794\n",
            "Downloading artifact version: mahin-sank-iit-kgp/alpha-racer-data/alpha_racer_multi_mpc_combined:v795\n"
          ]
        },
        {
          "name": "stderr",
          "output_type": "stream",
          "text": [
            "\u001b[34m\u001b[1mwandb\u001b[0m:   1 of 1 files downloaded.  \n"
          ]
        },
        {
          "name": "stdout",
          "output_type": "stream",
          "text": [
            "Loaded 4 episodes from v795\n",
            "Downloading artifact version: mahin-sank-iit-kgp/alpha-racer-data/alpha_racer_multi_mpc_combined:v796\n"
          ]
        },
        {
          "name": "stderr",
          "output_type": "stream",
          "text": [
            "\u001b[34m\u001b[1mwandb\u001b[0m:   1 of 1 files downloaded.  \n"
          ]
        },
        {
          "name": "stdout",
          "output_type": "stream",
          "text": [
            "Loaded 9 episodes from v796\n",
            "Downloading artifact version: mahin-sank-iit-kgp/alpha-racer-data/alpha_racer_multi_mpc_combined:v797\n"
          ]
        },
        {
          "name": "stderr",
          "output_type": "stream",
          "text": [
            "\u001b[34m\u001b[1mwandb\u001b[0m:   1 of 1 files downloaded.  \n"
          ]
        },
        {
          "name": "stdout",
          "output_type": "stream",
          "text": [
            "Loaded 9 episodes from v797\n",
            "Downloading artifact version: mahin-sank-iit-kgp/alpha-racer-data/alpha_racer_multi_mpc_combined:v798\n"
          ]
        },
        {
          "name": "stderr",
          "output_type": "stream",
          "text": [
            "\u001b[34m\u001b[1mwandb\u001b[0m:   1 of 1 files downloaded.  \n"
          ]
        },
        {
          "name": "stdout",
          "output_type": "stream",
          "text": [
            "Loaded 4 episodes from v798\n",
            "Downloading artifact version: mahin-sank-iit-kgp/alpha-racer-data/alpha_racer_multi_mpc_combined:v799\n"
          ]
        },
        {
          "name": "stderr",
          "output_type": "stream",
          "text": [
            "\u001b[34m\u001b[1mwandb\u001b[0m:   1 of 1 files downloaded.  \n"
          ]
        },
        {
          "name": "stdout",
          "output_type": "stream",
          "text": [
            "Loaded 4 episodes from v799\n",
            "Downloading artifact version: mahin-sank-iit-kgp/alpha-racer-data/alpha_racer_multi_mpc_combined:v800\n"
          ]
        },
        {
          "name": "stderr",
          "output_type": "stream",
          "text": [
            "\u001b[34m\u001b[1mwandb\u001b[0m:   1 of 1 files downloaded.  \n"
          ]
        },
        {
          "name": "stdout",
          "output_type": "stream",
          "text": [
            "Loaded 4 episodes from v800\n",
            "Downloading artifact version: mahin-sank-iit-kgp/alpha-racer-data/alpha_racer_multi_mpc_combined:v801\n"
          ]
        },
        {
          "name": "stderr",
          "output_type": "stream",
          "text": [
            "\u001b[34m\u001b[1mwandb\u001b[0m:   1 of 1 files downloaded.  \n"
          ]
        },
        {
          "name": "stdout",
          "output_type": "stream",
          "text": [
            "Loaded 4 episodes from v801\n",
            "Downloading artifact version: mahin-sank-iit-kgp/alpha-racer-data/alpha_racer_multi_mpc_combined:v802\n"
          ]
        },
        {
          "name": "stderr",
          "output_type": "stream",
          "text": [
            "\u001b[34m\u001b[1mwandb\u001b[0m:   1 of 1 files downloaded.  \n"
          ]
        },
        {
          "name": "stdout",
          "output_type": "stream",
          "text": [
            "Loaded 4 episodes from v802\n",
            "Downloading artifact version: mahin-sank-iit-kgp/alpha-racer-data/alpha_racer_multi_mpc_combined:v803\n"
          ]
        },
        {
          "name": "stderr",
          "output_type": "stream",
          "text": [
            "\u001b[34m\u001b[1mwandb\u001b[0m:   1 of 1 files downloaded.  \n"
          ]
        },
        {
          "name": "stdout",
          "output_type": "stream",
          "text": [
            "Loaded 4 episodes from v803\n",
            "Downloading artifact version: mahin-sank-iit-kgp/alpha-racer-data/alpha_racer_multi_mpc_combined:v804\n"
          ]
        },
        {
          "name": "stderr",
          "output_type": "stream",
          "text": [
            "\u001b[34m\u001b[1mwandb\u001b[0m:   1 of 1 files downloaded.  \n"
          ]
        },
        {
          "name": "stdout",
          "output_type": "stream",
          "text": [
            "Loaded 4 episodes from v804\n",
            "Downloading artifact version: mahin-sank-iit-kgp/alpha-racer-data/alpha_racer_multi_mpc_combined:v805\n"
          ]
        },
        {
          "name": "stderr",
          "output_type": "stream",
          "text": [
            "\u001b[34m\u001b[1mwandb\u001b[0m:   1 of 1 files downloaded.  \n"
          ]
        },
        {
          "name": "stdout",
          "output_type": "stream",
          "text": [
            "Loaded 4 episodes from v805\n",
            "Downloading artifact version: mahin-sank-iit-kgp/alpha-racer-data/alpha_racer_multi_mpc_combined:v806\n"
          ]
        },
        {
          "name": "stderr",
          "output_type": "stream",
          "text": [
            "\u001b[34m\u001b[1mwandb\u001b[0m:   1 of 1 files downloaded.  \n"
          ]
        },
        {
          "name": "stdout",
          "output_type": "stream",
          "text": [
            "Loaded 10 episodes from v806\n",
            "Downloading artifact version: mahin-sank-iit-kgp/alpha-racer-data/alpha_racer_multi_mpc_combined:v807\n"
          ]
        },
        {
          "name": "stderr",
          "output_type": "stream",
          "text": [
            "\u001b[34m\u001b[1mwandb\u001b[0m:   1 of 1 files downloaded.  \n"
          ]
        },
        {
          "name": "stdout",
          "output_type": "stream",
          "text": [
            "Loaded 10 episodes from v807\n",
            "Downloading artifact version: mahin-sank-iit-kgp/alpha-racer-data/alpha_racer_multi_mpc_combined:v808\n"
          ]
        },
        {
          "name": "stderr",
          "output_type": "stream",
          "text": [
            "\u001b[34m\u001b[1mwandb\u001b[0m:   1 of 1 files downloaded.  \n"
          ]
        },
        {
          "name": "stdout",
          "output_type": "stream",
          "text": [
            "Loaded 10 episodes from v808\n",
            "Downloading artifact version: mahin-sank-iit-kgp/alpha-racer-data/alpha_racer_multi_mpc_combined:v809\n"
          ]
        },
        {
          "name": "stderr",
          "output_type": "stream",
          "text": [
            "\u001b[34m\u001b[1mwandb\u001b[0m:   1 of 1 files downloaded.  \n"
          ]
        },
        {
          "name": "stdout",
          "output_type": "stream",
          "text": [
            "Loaded 10 episodes from v809\n",
            "Downloading artifact version: mahin-sank-iit-kgp/alpha-racer-data/alpha_racer_multi_mpc_combined:v810\n"
          ]
        },
        {
          "name": "stderr",
          "output_type": "stream",
          "text": [
            "\u001b[34m\u001b[1mwandb\u001b[0m:   1 of 1 files downloaded.  \n"
          ]
        },
        {
          "name": "stdout",
          "output_type": "stream",
          "text": [
            "Loaded 10 episodes from v810\n",
            "Downloading artifact version: mahin-sank-iit-kgp/alpha-racer-data/alpha_racer_multi_mpc_combined:v811\n"
          ]
        },
        {
          "name": "stderr",
          "output_type": "stream",
          "text": [
            "\u001b[34m\u001b[1mwandb\u001b[0m:   1 of 1 files downloaded.  \n"
          ]
        },
        {
          "name": "stdout",
          "output_type": "stream",
          "text": [
            "Loaded 10 episodes from v811\n",
            "Downloading artifact version: mahin-sank-iit-kgp/alpha-racer-data/alpha_racer_multi_mpc_combined:v812\n"
          ]
        },
        {
          "name": "stderr",
          "output_type": "stream",
          "text": [
            "\u001b[34m\u001b[1mwandb\u001b[0m:   1 of 1 files downloaded.  \n"
          ]
        },
        {
          "name": "stdout",
          "output_type": "stream",
          "text": [
            "Loaded 4 episodes from v812\n",
            "Downloading artifact version: mahin-sank-iit-kgp/alpha-racer-data/alpha_racer_multi_mpc_combined:v813\n"
          ]
        },
        {
          "name": "stderr",
          "output_type": "stream",
          "text": [
            "\u001b[34m\u001b[1mwandb\u001b[0m:   1 of 1 files downloaded.  \n"
          ]
        },
        {
          "name": "stdout",
          "output_type": "stream",
          "text": [
            "Loaded 4 episodes from v813\n",
            "Downloading artifact version: mahin-sank-iit-kgp/alpha-racer-data/alpha_racer_multi_mpc_combined:v814\n"
          ]
        },
        {
          "name": "stderr",
          "output_type": "stream",
          "text": [
            "\u001b[34m\u001b[1mwandb\u001b[0m:   1 of 1 files downloaded.  \n"
          ]
        },
        {
          "name": "stdout",
          "output_type": "stream",
          "text": [
            "Loaded 10 episodes from v814\n",
            "Downloading artifact version: mahin-sank-iit-kgp/alpha-racer-data/alpha_racer_multi_mpc_combined:v815\n"
          ]
        },
        {
          "name": "stderr",
          "output_type": "stream",
          "text": [
            "\u001b[34m\u001b[1mwandb\u001b[0m:   1 of 1 files downloaded.  \n"
          ]
        },
        {
          "name": "stdout",
          "output_type": "stream",
          "text": [
            "Loaded 10 episodes from v815\n",
            "Downloading artifact version: mahin-sank-iit-kgp/alpha-racer-data/alpha_racer_multi_mpc_combined:v816\n"
          ]
        },
        {
          "name": "stderr",
          "output_type": "stream",
          "text": [
            "\u001b[34m\u001b[1mwandb\u001b[0m:   1 of 1 files downloaded.  \n"
          ]
        },
        {
          "name": "stdout",
          "output_type": "stream",
          "text": [
            "Loaded 10 episodes from v816\n",
            "Downloading artifact version: mahin-sank-iit-kgp/alpha-racer-data/alpha_racer_multi_mpc_combined:v817\n"
          ]
        },
        {
          "name": "stderr",
          "output_type": "stream",
          "text": [
            "\u001b[34m\u001b[1mwandb\u001b[0m:   1 of 1 files downloaded.  \n"
          ]
        },
        {
          "name": "stdout",
          "output_type": "stream",
          "text": [
            "Loaded 4 episodes from v817\n",
            "Downloading artifact version: mahin-sank-iit-kgp/alpha-racer-data/alpha_racer_multi_mpc_combined:v818\n"
          ]
        },
        {
          "name": "stderr",
          "output_type": "stream",
          "text": [
            "\u001b[34m\u001b[1mwandb\u001b[0m:   1 of 1 files downloaded.  \n"
          ]
        },
        {
          "name": "stdout",
          "output_type": "stream",
          "text": [
            "Loaded 10 episodes from v818\n",
            "Downloading artifact version: mahin-sank-iit-kgp/alpha-racer-data/alpha_racer_multi_mpc_combined:v819\n"
          ]
        },
        {
          "name": "stderr",
          "output_type": "stream",
          "text": [
            "\u001b[34m\u001b[1mwandb\u001b[0m:   1 of 1 files downloaded.  \n"
          ]
        },
        {
          "name": "stdout",
          "output_type": "stream",
          "text": [
            "Loaded 4 episodes from v819\n",
            "Downloading artifact version: mahin-sank-iit-kgp/alpha-racer-data/alpha_racer_multi_mpc_combined:v820\n"
          ]
        },
        {
          "name": "stderr",
          "output_type": "stream",
          "text": [
            "\u001b[34m\u001b[1mwandb\u001b[0m:   1 of 1 files downloaded.  \n"
          ]
        },
        {
          "name": "stdout",
          "output_type": "stream",
          "text": [
            "Loaded 4 episodes from v820\n",
            "Downloading artifact version: mahin-sank-iit-kgp/alpha-racer-data/alpha_racer_multi_mpc_combined:v821\n"
          ]
        },
        {
          "name": "stderr",
          "output_type": "stream",
          "text": [
            "\u001b[34m\u001b[1mwandb\u001b[0m:   1 of 1 files downloaded.  \n"
          ]
        },
        {
          "name": "stdout",
          "output_type": "stream",
          "text": [
            "Loaded 4 episodes from v821\n",
            "Downloading artifact version: mahin-sank-iit-kgp/alpha-racer-data/alpha_racer_multi_mpc_combined:v822\n"
          ]
        },
        {
          "name": "stderr",
          "output_type": "stream",
          "text": [
            "\u001b[34m\u001b[1mwandb\u001b[0m:   1 of 1 files downloaded.  \n"
          ]
        },
        {
          "name": "stdout",
          "output_type": "stream",
          "text": [
            "Loaded 4 episodes from v822\n",
            "Downloading artifact version: mahin-sank-iit-kgp/alpha-racer-data/alpha_racer_multi_mpc_combined:v823\n"
          ]
        },
        {
          "name": "stderr",
          "output_type": "stream",
          "text": [
            "\u001b[34m\u001b[1mwandb\u001b[0m:   1 of 1 files downloaded.  \n"
          ]
        },
        {
          "name": "stdout",
          "output_type": "stream",
          "text": [
            "Loaded 11 episodes from v823\n",
            "Downloading artifact version: mahin-sank-iit-kgp/alpha-racer-data/alpha_racer_multi_mpc_combined:v824\n"
          ]
        },
        {
          "name": "stderr",
          "output_type": "stream",
          "text": [
            "\u001b[34m\u001b[1mwandb\u001b[0m:   1 of 1 files downloaded.  \n"
          ]
        },
        {
          "name": "stdout",
          "output_type": "stream",
          "text": [
            "Loaded 5 episodes from v824\n",
            "Downloading artifact version: mahin-sank-iit-kgp/alpha-racer-data/alpha_racer_multi_mpc_combined:v825\n"
          ]
        },
        {
          "name": "stderr",
          "output_type": "stream",
          "text": [
            "\u001b[34m\u001b[1mwandb\u001b[0m:   1 of 1 files downloaded.  \n"
          ]
        },
        {
          "name": "stdout",
          "output_type": "stream",
          "text": [
            "Loaded 4 episodes from v825\n",
            "Downloading artifact version: mahin-sank-iit-kgp/alpha-racer-data/alpha_racer_multi_mpc_combined:v826\n"
          ]
        },
        {
          "name": "stderr",
          "output_type": "stream",
          "text": [
            "\u001b[34m\u001b[1mwandb\u001b[0m:   1 of 1 files downloaded.  \n"
          ]
        },
        {
          "name": "stdout",
          "output_type": "stream",
          "text": [
            "Loaded 5 episodes from v826\n",
            "Downloading artifact version: mahin-sank-iit-kgp/alpha-racer-data/alpha_racer_multi_mpc_combined:v827\n"
          ]
        },
        {
          "name": "stderr",
          "output_type": "stream",
          "text": [
            "\u001b[34m\u001b[1mwandb\u001b[0m:   1 of 1 files downloaded.  \n"
          ]
        },
        {
          "name": "stdout",
          "output_type": "stream",
          "text": [
            "Loaded 11 episodes from v827\n",
            "Downloading artifact version: mahin-sank-iit-kgp/alpha-racer-data/alpha_racer_multi_mpc_combined:v828\n"
          ]
        },
        {
          "name": "stderr",
          "output_type": "stream",
          "text": [
            "\u001b[34m\u001b[1mwandb\u001b[0m:   1 of 1 files downloaded.  \n"
          ]
        },
        {
          "name": "stdout",
          "output_type": "stream",
          "text": [
            "Loaded 11 episodes from v828\n",
            "Downloading artifact version: mahin-sank-iit-kgp/alpha-racer-data/alpha_racer_multi_mpc_combined:v829\n"
          ]
        },
        {
          "name": "stderr",
          "output_type": "stream",
          "text": [
            "\u001b[34m\u001b[1mwandb\u001b[0m:   1 of 1 files downloaded.  \n"
          ]
        },
        {
          "name": "stdout",
          "output_type": "stream",
          "text": [
            "Loaded 4 episodes from v829\n",
            "Downloading artifact version: mahin-sank-iit-kgp/alpha-racer-data/alpha_racer_multi_mpc_combined:v830\n"
          ]
        },
        {
          "name": "stderr",
          "output_type": "stream",
          "text": [
            "\u001b[34m\u001b[1mwandb\u001b[0m:   1 of 1 files downloaded.  \n"
          ]
        },
        {
          "name": "stdout",
          "output_type": "stream",
          "text": [
            "Loaded 5 episodes from v830\n",
            "Downloading artifact version: mahin-sank-iit-kgp/alpha-racer-data/alpha_racer_multi_mpc_combined:v831\n"
          ]
        },
        {
          "name": "stderr",
          "output_type": "stream",
          "text": [
            "\u001b[34m\u001b[1mwandb\u001b[0m:   1 of 1 files downloaded.  \n"
          ]
        },
        {
          "name": "stdout",
          "output_type": "stream",
          "text": [
            "Loaded 11 episodes from v831\n",
            "Downloading artifact version: mahin-sank-iit-kgp/alpha-racer-data/alpha_racer_multi_mpc_combined:v832\n"
          ]
        },
        {
          "name": "stderr",
          "output_type": "stream",
          "text": [
            "\u001b[34m\u001b[1mwandb\u001b[0m:   1 of 1 files downloaded.  \n"
          ]
        },
        {
          "name": "stdout",
          "output_type": "stream",
          "text": [
            "Loaded 11 episodes from v832\n",
            "Downloading artifact version: mahin-sank-iit-kgp/alpha-racer-data/alpha_racer_multi_mpc_combined:v833\n"
          ]
        },
        {
          "name": "stderr",
          "output_type": "stream",
          "text": [
            "\u001b[34m\u001b[1mwandb\u001b[0m:   1 of 1 files downloaded.  \n"
          ]
        },
        {
          "name": "stdout",
          "output_type": "stream",
          "text": [
            "Loaded 11 episodes from v833\n",
            "Downloading artifact version: mahin-sank-iit-kgp/alpha-racer-data/alpha_racer_multi_mpc_combined:v834\n"
          ]
        },
        {
          "name": "stderr",
          "output_type": "stream",
          "text": [
            "\u001b[34m\u001b[1mwandb\u001b[0m:   1 of 1 files downloaded.  \n"
          ]
        },
        {
          "name": "stdout",
          "output_type": "stream",
          "text": [
            "Loaded 11 episodes from v834\n",
            "Downloading artifact version: mahin-sank-iit-kgp/alpha-racer-data/alpha_racer_multi_mpc_combined:v835\n"
          ]
        },
        {
          "name": "stderr",
          "output_type": "stream",
          "text": [
            "\u001b[34m\u001b[1mwandb\u001b[0m:   1 of 1 files downloaded.  \n"
          ]
        },
        {
          "name": "stdout",
          "output_type": "stream",
          "text": [
            "Loaded 5 episodes from v835\n",
            "Downloading artifact version: mahin-sank-iit-kgp/alpha-racer-data/alpha_racer_multi_mpc_combined:v836\n"
          ]
        },
        {
          "name": "stderr",
          "output_type": "stream",
          "text": [
            "\u001b[34m\u001b[1mwandb\u001b[0m:   1 of 1 files downloaded.  \n"
          ]
        },
        {
          "name": "stdout",
          "output_type": "stream",
          "text": [
            "Loaded 5 episodes from v836\n",
            "Downloading artifact version: mahin-sank-iit-kgp/alpha-racer-data/alpha_racer_multi_mpc_combined:v837\n"
          ]
        },
        {
          "name": "stderr",
          "output_type": "stream",
          "text": [
            "\u001b[34m\u001b[1mwandb\u001b[0m:   1 of 1 files downloaded.  \n"
          ]
        },
        {
          "name": "stdout",
          "output_type": "stream",
          "text": [
            "Loaded 11 episodes from v837\n",
            "Downloading artifact version: mahin-sank-iit-kgp/alpha-racer-data/alpha_racer_multi_mpc_combined:v838\n"
          ]
        },
        {
          "name": "stderr",
          "output_type": "stream",
          "text": [
            "\u001b[34m\u001b[1mwandb\u001b[0m:   1 of 1 files downloaded.  \n"
          ]
        },
        {
          "name": "stdout",
          "output_type": "stream",
          "text": [
            "Loaded 11 episodes from v838\n",
            "Downloading artifact version: mahin-sank-iit-kgp/alpha-racer-data/alpha_racer_multi_mpc_combined:v839\n"
          ]
        },
        {
          "name": "stderr",
          "output_type": "stream",
          "text": [
            "\u001b[34m\u001b[1mwandb\u001b[0m:   1 of 1 files downloaded.  \n"
          ]
        },
        {
          "name": "stdout",
          "output_type": "stream",
          "text": [
            "Loaded 11 episodes from v839\n",
            "Downloading artifact version: mahin-sank-iit-kgp/alpha-racer-data/alpha_racer_multi_mpc_combined:v840\n"
          ]
        },
        {
          "name": "stderr",
          "output_type": "stream",
          "text": [
            "\u001b[34m\u001b[1mwandb\u001b[0m:   1 of 1 files downloaded.  \n"
          ]
        },
        {
          "name": "stdout",
          "output_type": "stream",
          "text": [
            "Loaded 5 episodes from v840\n",
            "Downloading artifact version: mahin-sank-iit-kgp/alpha-racer-data/alpha_racer_multi_mpc_combined:v841\n"
          ]
        },
        {
          "name": "stderr",
          "output_type": "stream",
          "text": [
            "\u001b[34m\u001b[1mwandb\u001b[0m:   1 of 1 files downloaded.  \n"
          ]
        },
        {
          "name": "stdout",
          "output_type": "stream",
          "text": [
            "Loaded 5 episodes from v841\n",
            "Downloading artifact version: mahin-sank-iit-kgp/alpha-racer-data/alpha_racer_multi_mpc_combined:v842\n"
          ]
        },
        {
          "name": "stderr",
          "output_type": "stream",
          "text": [
            "\u001b[34m\u001b[1mwandb\u001b[0m:   1 of 1 files downloaded.  \n"
          ]
        },
        {
          "name": "stdout",
          "output_type": "stream",
          "text": [
            "Loaded 5 episodes from v842\n",
            "Downloading artifact version: mahin-sank-iit-kgp/alpha-racer-data/alpha_racer_multi_mpc_combined:v843\n"
          ]
        },
        {
          "name": "stderr",
          "output_type": "stream",
          "text": [
            "\u001b[34m\u001b[1mwandb\u001b[0m:   1 of 1 files downloaded.  \n"
          ]
        },
        {
          "name": "stdout",
          "output_type": "stream",
          "text": [
            "Loaded 5 episodes from v843\n",
            "Downloading artifact version: mahin-sank-iit-kgp/alpha-racer-data/alpha_racer_multi_mpc_combined:v844\n"
          ]
        },
        {
          "name": "stderr",
          "output_type": "stream",
          "text": [
            "\u001b[34m\u001b[1mwandb\u001b[0m:   1 of 1 files downloaded.  \n"
          ]
        },
        {
          "name": "stdout",
          "output_type": "stream",
          "text": [
            "Loaded 5 episodes from v844\n",
            "Downloading artifact version: mahin-sank-iit-kgp/alpha-racer-data/alpha_racer_multi_mpc_combined:v845\n"
          ]
        },
        {
          "name": "stderr",
          "output_type": "stream",
          "text": [
            "\u001b[34m\u001b[1mwandb\u001b[0m:   1 of 1 files downloaded.  \n"
          ]
        },
        {
          "name": "stdout",
          "output_type": "stream",
          "text": [
            "Loaded 12 episodes from v845\n",
            "Downloading artifact version: mahin-sank-iit-kgp/alpha-racer-data/alpha_racer_multi_mpc_combined:v846\n"
          ]
        },
        {
          "name": "stderr",
          "output_type": "stream",
          "text": [
            "\u001b[34m\u001b[1mwandb\u001b[0m:   1 of 1 files downloaded.  \n"
          ]
        },
        {
          "name": "stdout",
          "output_type": "stream",
          "text": [
            "Loaded 12 episodes from v846\n",
            "Downloading artifact version: mahin-sank-iit-kgp/alpha-racer-data/alpha_racer_multi_mpc_combined:v847\n"
          ]
        },
        {
          "name": "stderr",
          "output_type": "stream",
          "text": [
            "\u001b[34m\u001b[1mwandb\u001b[0m:   1 of 1 files downloaded.  \n"
          ]
        },
        {
          "name": "stdout",
          "output_type": "stream",
          "text": [
            "Loaded 12 episodes from v847\n",
            "Downloading artifact version: mahin-sank-iit-kgp/alpha-racer-data/alpha_racer_multi_mpc_combined:v848\n"
          ]
        },
        {
          "name": "stderr",
          "output_type": "stream",
          "text": [
            "\u001b[34m\u001b[1mwandb\u001b[0m:   1 of 1 files downloaded.  \n"
          ]
        },
        {
          "name": "stdout",
          "output_type": "stream",
          "text": [
            "Loaded 12 episodes from v848\n",
            "Downloading artifact version: mahin-sank-iit-kgp/alpha-racer-data/alpha_racer_multi_mpc_combined:v849\n"
          ]
        },
        {
          "name": "stderr",
          "output_type": "stream",
          "text": [
            "\u001b[34m\u001b[1mwandb\u001b[0m:   1 of 1 files downloaded.  \n"
          ]
        },
        {
          "name": "stdout",
          "output_type": "stream",
          "text": [
            "Loaded 12 episodes from v849\n",
            "Downloading artifact version: mahin-sank-iit-kgp/alpha-racer-data/alpha_racer_multi_mpc_combined:v850\n"
          ]
        },
        {
          "name": "stderr",
          "output_type": "stream",
          "text": [
            "\u001b[34m\u001b[1mwandb\u001b[0m:   1 of 1 files downloaded.  \n"
          ]
        },
        {
          "name": "stdout",
          "output_type": "stream",
          "text": [
            "Loaded 12 episodes from v850\n",
            "Downloading artifact version: mahin-sank-iit-kgp/alpha-racer-data/alpha_racer_multi_mpc_combined:v851\n"
          ]
        },
        {
          "name": "stderr",
          "output_type": "stream",
          "text": [
            "\u001b[34m\u001b[1mwandb\u001b[0m:   1 of 1 files downloaded.  \n"
          ]
        },
        {
          "name": "stdout",
          "output_type": "stream",
          "text": [
            "Loaded 12 episodes from v851\n",
            "Downloading artifact version: mahin-sank-iit-kgp/alpha-racer-data/alpha_racer_multi_mpc_combined:v852\n"
          ]
        },
        {
          "name": "stderr",
          "output_type": "stream",
          "text": [
            "\u001b[34m\u001b[1mwandb\u001b[0m:   1 of 1 files downloaded.  \n"
          ]
        },
        {
          "name": "stdout",
          "output_type": "stream",
          "text": [
            "Loaded 12 episodes from v852\n",
            "Downloading artifact version: mahin-sank-iit-kgp/alpha-racer-data/alpha_racer_multi_mpc_combined:v853\n"
          ]
        },
        {
          "name": "stderr",
          "output_type": "stream",
          "text": [
            "\u001b[34m\u001b[1mwandb\u001b[0m:   1 of 1 files downloaded.  \n"
          ]
        },
        {
          "name": "stdout",
          "output_type": "stream",
          "text": [
            "Loaded 12 episodes from v853\n",
            "Downloading artifact version: mahin-sank-iit-kgp/alpha-racer-data/alpha_racer_multi_mpc_combined:v854\n"
          ]
        },
        {
          "name": "stderr",
          "output_type": "stream",
          "text": [
            "\u001b[34m\u001b[1mwandb\u001b[0m:   1 of 1 files downloaded.  \n"
          ]
        },
        {
          "name": "stdout",
          "output_type": "stream",
          "text": [
            "Loaded 12 episodes from v854\n",
            "Downloading artifact version: mahin-sank-iit-kgp/alpha-racer-data/alpha_racer_multi_mpc_combined:v855\n"
          ]
        },
        {
          "name": "stderr",
          "output_type": "stream",
          "text": [
            "\u001b[34m\u001b[1mwandb\u001b[0m:   1 of 1 files downloaded.  \n"
          ]
        },
        {
          "name": "stdout",
          "output_type": "stream",
          "text": [
            "Loaded 6 episodes from v855\n",
            "Downloading artifact version: mahin-sank-iit-kgp/alpha-racer-data/alpha_racer_multi_mpc_combined:v856\n"
          ]
        },
        {
          "name": "stderr",
          "output_type": "stream",
          "text": [
            "\u001b[34m\u001b[1mwandb\u001b[0m:   1 of 1 files downloaded.  \n"
          ]
        },
        {
          "name": "stdout",
          "output_type": "stream",
          "text": [
            "Loaded 6 episodes from v856\n",
            "Downloading artifact version: mahin-sank-iit-kgp/alpha-racer-data/alpha_racer_multi_mpc_combined:v857\n"
          ]
        },
        {
          "name": "stderr",
          "output_type": "stream",
          "text": [
            "\u001b[34m\u001b[1mwandb\u001b[0m:   1 of 1 files downloaded.  \n"
          ]
        },
        {
          "name": "stdout",
          "output_type": "stream",
          "text": [
            "Loaded 6 episodes from v857\n",
            "Downloading artifact version: mahin-sank-iit-kgp/alpha-racer-data/alpha_racer_multi_mpc_combined:v858\n"
          ]
        },
        {
          "name": "stderr",
          "output_type": "stream",
          "text": [
            "\u001b[34m\u001b[1mwandb\u001b[0m:   1 of 1 files downloaded.  \n"
          ]
        },
        {
          "name": "stdout",
          "output_type": "stream",
          "text": [
            "Loaded 13 episodes from v858\n",
            "Downloading artifact version: mahin-sank-iit-kgp/alpha-racer-data/alpha_racer_multi_mpc_combined:v859\n"
          ]
        },
        {
          "name": "stderr",
          "output_type": "stream",
          "text": [
            "\u001b[34m\u001b[1mwandb\u001b[0m:   1 of 1 files downloaded.  \n"
          ]
        },
        {
          "name": "stdout",
          "output_type": "stream",
          "text": [
            "Loaded 6 episodes from v859\n",
            "Downloading artifact version: mahin-sank-iit-kgp/alpha-racer-data/alpha_racer_multi_mpc_combined:v860\n"
          ]
        },
        {
          "name": "stderr",
          "output_type": "stream",
          "text": [
            "\u001b[34m\u001b[1mwandb\u001b[0m:   1 of 1 files downloaded.  \n"
          ]
        },
        {
          "name": "stdout",
          "output_type": "stream",
          "text": [
            "Loaded 6 episodes from v860\n",
            "Downloading artifact version: mahin-sank-iit-kgp/alpha-racer-data/alpha_racer_multi_mpc_combined:v861\n"
          ]
        },
        {
          "name": "stderr",
          "output_type": "stream",
          "text": [
            "\u001b[34m\u001b[1mwandb\u001b[0m:   1 of 1 files downloaded.  \n"
          ]
        },
        {
          "name": "stdout",
          "output_type": "stream",
          "text": [
            "Loaded 13 episodes from v861\n",
            "Downloading artifact version: mahin-sank-iit-kgp/alpha-racer-data/alpha_racer_multi_mpc_combined:v862\n"
          ]
        },
        {
          "name": "stderr",
          "output_type": "stream",
          "text": [
            "\u001b[34m\u001b[1mwandb\u001b[0m:   1 of 1 files downloaded.  \n"
          ]
        },
        {
          "name": "stdout",
          "output_type": "stream",
          "text": [
            "Loaded 5 episodes from v862\n",
            "Downloading artifact version: mahin-sank-iit-kgp/alpha-racer-data/alpha_racer_multi_mpc_combined:v863\n"
          ]
        },
        {
          "name": "stderr",
          "output_type": "stream",
          "text": [
            "\u001b[34m\u001b[1mwandb\u001b[0m:   1 of 1 files downloaded.  \n"
          ]
        },
        {
          "name": "stdout",
          "output_type": "stream",
          "text": [
            "Loaded 13 episodes from v863\n",
            "Downloading artifact version: mahin-sank-iit-kgp/alpha-racer-data/alpha_racer_multi_mpc_combined:v864\n"
          ]
        },
        {
          "name": "stderr",
          "output_type": "stream",
          "text": [
            "\u001b[34m\u001b[1mwandb\u001b[0m:   1 of 1 files downloaded.  \n"
          ]
        },
        {
          "name": "stdout",
          "output_type": "stream",
          "text": [
            "Loaded 13 episodes from v864\n",
            "Downloading artifact version: mahin-sank-iit-kgp/alpha-racer-data/alpha_racer_multi_mpc_combined:v865\n"
          ]
        },
        {
          "name": "stderr",
          "output_type": "stream",
          "text": [
            "\u001b[34m\u001b[1mwandb\u001b[0m:   1 of 1 files downloaded.  \n"
          ]
        },
        {
          "name": "stdout",
          "output_type": "stream",
          "text": [
            "Loaded 6 episodes from v865\n",
            "Downloading artifact version: mahin-sank-iit-kgp/alpha-racer-data/alpha_racer_multi_mpc_combined:v866\n"
          ]
        },
        {
          "name": "stderr",
          "output_type": "stream",
          "text": [
            "\u001b[34m\u001b[1mwandb\u001b[0m:   1 of 1 files downloaded.  \n"
          ]
        },
        {
          "name": "stdout",
          "output_type": "stream",
          "text": [
            "Loaded 6 episodes from v866\n",
            "Downloading artifact version: mahin-sank-iit-kgp/alpha-racer-data/alpha_racer_multi_mpc_combined:v867\n"
          ]
        },
        {
          "name": "stderr",
          "output_type": "stream",
          "text": [
            "\u001b[34m\u001b[1mwandb\u001b[0m:   1 of 1 files downloaded.  \n"
          ]
        },
        {
          "name": "stdout",
          "output_type": "stream",
          "text": [
            "Loaded 6 episodes from v867\n",
            "Downloading artifact version: mahin-sank-iit-kgp/alpha-racer-data/alpha_racer_multi_mpc_combined:v868\n"
          ]
        },
        {
          "name": "stderr",
          "output_type": "stream",
          "text": [
            "\u001b[34m\u001b[1mwandb\u001b[0m:   1 of 1 files downloaded.  \n"
          ]
        },
        {
          "name": "stdout",
          "output_type": "stream",
          "text": [
            "Loaded 6 episodes from v868\n",
            "Downloading artifact version: mahin-sank-iit-kgp/alpha-racer-data/alpha_racer_multi_mpc_combined:v869\n"
          ]
        },
        {
          "name": "stderr",
          "output_type": "stream",
          "text": [
            "\u001b[34m\u001b[1mwandb\u001b[0m:   1 of 1 files downloaded.  \n"
          ]
        },
        {
          "name": "stdout",
          "output_type": "stream",
          "text": [
            "Loaded 6 episodes from v869\n",
            "Downloading artifact version: mahin-sank-iit-kgp/alpha-racer-data/alpha_racer_multi_mpc_combined:v870\n"
          ]
        },
        {
          "name": "stderr",
          "output_type": "stream",
          "text": [
            "\u001b[34m\u001b[1mwandb\u001b[0m:   1 of 1 files downloaded.  \n"
          ]
        },
        {
          "name": "stdout",
          "output_type": "stream",
          "text": [
            "Loaded 13 episodes from v870\n",
            "Downloading artifact version: mahin-sank-iit-kgp/alpha-racer-data/alpha_racer_multi_mpc_combined:v871\n"
          ]
        },
        {
          "name": "stderr",
          "output_type": "stream",
          "text": [
            "\u001b[34m\u001b[1mwandb\u001b[0m:   1 of 1 files downloaded.  \n"
          ]
        },
        {
          "name": "stdout",
          "output_type": "stream",
          "text": [
            "Loaded 13 episodes from v871\n",
            "Downloading artifact version: mahin-sank-iit-kgp/alpha-racer-data/alpha_racer_multi_mpc_combined:v872\n"
          ]
        },
        {
          "name": "stderr",
          "output_type": "stream",
          "text": [
            "\u001b[34m\u001b[1mwandb\u001b[0m:   1 of 1 files downloaded.  \n"
          ]
        },
        {
          "name": "stdout",
          "output_type": "stream",
          "text": [
            "Loaded 13 episodes from v872\n",
            "Downloading artifact version: mahin-sank-iit-kgp/alpha-racer-data/alpha_racer_multi_mpc_combined:v873\n"
          ]
        },
        {
          "name": "stderr",
          "output_type": "stream",
          "text": [
            "\u001b[34m\u001b[1mwandb\u001b[0m:   1 of 1 files downloaded.  \n"
          ]
        },
        {
          "name": "stdout",
          "output_type": "stream",
          "text": [
            "Loaded 13 episodes from v873\n",
            "Downloading artifact version: mahin-sank-iit-kgp/alpha-racer-data/alpha_racer_multi_mpc_combined:v874\n"
          ]
        },
        {
          "name": "stderr",
          "output_type": "stream",
          "text": [
            "\u001b[34m\u001b[1mwandb\u001b[0m:   1 of 1 files downloaded.  \n"
          ]
        },
        {
          "name": "stdout",
          "output_type": "stream",
          "text": [
            "Loaded 5 episodes from v874\n",
            "Downloading artifact version: mahin-sank-iit-kgp/alpha-racer-data/alpha_racer_multi_mpc_combined:v875\n"
          ]
        },
        {
          "name": "stderr",
          "output_type": "stream",
          "text": [
            "\u001b[34m\u001b[1mwandb\u001b[0m:   1 of 1 files downloaded.  \n"
          ]
        },
        {
          "name": "stdout",
          "output_type": "stream",
          "text": [
            "Loaded 13 episodes from v875\n",
            "Downloading artifact version: mahin-sank-iit-kgp/alpha-racer-data/alpha_racer_multi_mpc_combined:v876\n"
          ]
        },
        {
          "name": "stderr",
          "output_type": "stream",
          "text": [
            "\u001b[34m\u001b[1mwandb\u001b[0m:   1 of 1 files downloaded.  \n"
          ]
        },
        {
          "name": "stdout",
          "output_type": "stream",
          "text": [
            "Loaded 13 episodes from v876\n",
            "Downloading artifact version: mahin-sank-iit-kgp/alpha-racer-data/alpha_racer_multi_mpc_combined:v877\n"
          ]
        },
        {
          "name": "stderr",
          "output_type": "stream",
          "text": [
            "\u001b[34m\u001b[1mwandb\u001b[0m:   1 of 1 files downloaded.  \n"
          ]
        },
        {
          "name": "stdout",
          "output_type": "stream",
          "text": [
            "Loaded 14 episodes from v877\n",
            "Downloading artifact version: mahin-sank-iit-kgp/alpha-racer-data/alpha_racer_multi_mpc_combined:v878\n"
          ]
        },
        {
          "name": "stderr",
          "output_type": "stream",
          "text": [
            "\u001b[34m\u001b[1mwandb\u001b[0m:   1 of 1 files downloaded.  \n"
          ]
        },
        {
          "name": "stdout",
          "output_type": "stream",
          "text": [
            "Loaded 5 episodes from v878\n",
            "Downloading artifact version: mahin-sank-iit-kgp/alpha-racer-data/alpha_racer_multi_mpc_combined:v879\n"
          ]
        },
        {
          "name": "stderr",
          "output_type": "stream",
          "text": [
            "\u001b[34m\u001b[1mwandb\u001b[0m:   1 of 1 files downloaded.  \n"
          ]
        },
        {
          "name": "stdout",
          "output_type": "stream",
          "text": [
            "Loaded 14 episodes from v879\n",
            "Downloading artifact version: mahin-sank-iit-kgp/alpha-racer-data/alpha_racer_multi_mpc_combined:v880\n"
          ]
        },
        {
          "name": "stderr",
          "output_type": "stream",
          "text": [
            "\u001b[34m\u001b[1mwandb\u001b[0m:   1 of 1 files downloaded.  \n"
          ]
        },
        {
          "name": "stdout",
          "output_type": "stream",
          "text": [
            "Loaded 14 episodes from v880\n",
            "Downloading artifact version: mahin-sank-iit-kgp/alpha-racer-data/alpha_racer_multi_mpc_combined:v881\n"
          ]
        },
        {
          "name": "stderr",
          "output_type": "stream",
          "text": [
            "\u001b[34m\u001b[1mwandb\u001b[0m:   1 of 1 files downloaded.  \n"
          ]
        },
        {
          "name": "stdout",
          "output_type": "stream",
          "text": [
            "Loaded 14 episodes from v881\n",
            "Downloading artifact version: mahin-sank-iit-kgp/alpha-racer-data/alpha_racer_multi_mpc_combined:v882\n"
          ]
        },
        {
          "name": "stderr",
          "output_type": "stream",
          "text": [
            "\u001b[34m\u001b[1mwandb\u001b[0m:   1 of 1 files downloaded.  \n"
          ]
        },
        {
          "name": "stdout",
          "output_type": "stream",
          "text": [
            "Loaded 7 episodes from v882\n",
            "Downloading artifact version: mahin-sank-iit-kgp/alpha-racer-data/alpha_racer_multi_mpc_combined:v883\n"
          ]
        },
        {
          "name": "stderr",
          "output_type": "stream",
          "text": [
            "\u001b[34m\u001b[1mwandb\u001b[0m:   1 of 1 files downloaded.  \n"
          ]
        },
        {
          "name": "stdout",
          "output_type": "stream",
          "text": [
            "Loaded 5 episodes from v883\n",
            "Downloading artifact version: mahin-sank-iit-kgp/alpha-racer-data/alpha_racer_multi_mpc_combined:v884\n"
          ]
        },
        {
          "name": "stderr",
          "output_type": "stream",
          "text": [
            "\u001b[34m\u001b[1mwandb\u001b[0m:   1 of 1 files downloaded.  \n"
          ]
        },
        {
          "name": "stdout",
          "output_type": "stream",
          "text": [
            "Loaded 14 episodes from v884\n",
            "Downloading artifact version: mahin-sank-iit-kgp/alpha-racer-data/alpha_racer_multi_mpc_combined:v885\n"
          ]
        },
        {
          "name": "stderr",
          "output_type": "stream",
          "text": [
            "\u001b[34m\u001b[1mwandb\u001b[0m:   1 of 1 files downloaded.  \n"
          ]
        },
        {
          "name": "stdout",
          "output_type": "stream",
          "text": [
            "Loaded 14 episodes from v885\n",
            "Downloading artifact version: mahin-sank-iit-kgp/alpha-racer-data/alpha_racer_multi_mpc_combined:v886\n"
          ]
        },
        {
          "name": "stderr",
          "output_type": "stream",
          "text": [
            "\u001b[34m\u001b[1mwandb\u001b[0m:   1 of 1 files downloaded.  \n"
          ]
        },
        {
          "name": "stdout",
          "output_type": "stream",
          "text": [
            "Loaded 14 episodes from v886\n",
            "Downloading artifact version: mahin-sank-iit-kgp/alpha-racer-data/alpha_racer_multi_mpc_combined:v887\n"
          ]
        },
        {
          "name": "stderr",
          "output_type": "stream",
          "text": [
            "\u001b[34m\u001b[1mwandb\u001b[0m:   1 of 1 files downloaded.  \n"
          ]
        },
        {
          "name": "stdout",
          "output_type": "stream",
          "text": [
            "Loaded 14 episodes from v887\n",
            "Downloading artifact version: mahin-sank-iit-kgp/alpha-racer-data/alpha_racer_multi_mpc_combined:v888\n"
          ]
        },
        {
          "name": "stderr",
          "output_type": "stream",
          "text": [
            "\u001b[34m\u001b[1mwandb\u001b[0m:   1 of 1 files downloaded.  \n"
          ]
        },
        {
          "name": "stdout",
          "output_type": "stream",
          "text": [
            "Loaded 5 episodes from v888\n",
            "Downloading artifact version: mahin-sank-iit-kgp/alpha-racer-data/alpha_racer_multi_mpc_combined:v889\n"
          ]
        },
        {
          "name": "stderr",
          "output_type": "stream",
          "text": [
            "\u001b[34m\u001b[1mwandb\u001b[0m:   1 of 1 files downloaded.  \n"
          ]
        },
        {
          "name": "stdout",
          "output_type": "stream",
          "text": [
            "Loaded 7 episodes from v889\n",
            "Downloading artifact version: mahin-sank-iit-kgp/alpha-racer-data/alpha_racer_multi_mpc_combined:v890\n"
          ]
        },
        {
          "name": "stderr",
          "output_type": "stream",
          "text": [
            "\u001b[34m\u001b[1mwandb\u001b[0m:   1 of 1 files downloaded.  \n"
          ]
        },
        {
          "name": "stdout",
          "output_type": "stream",
          "text": [
            "Loaded 14 episodes from v890\n",
            "Downloading artifact version: mahin-sank-iit-kgp/alpha-racer-data/alpha_racer_multi_mpc_combined:v891\n"
          ]
        },
        {
          "name": "stderr",
          "output_type": "stream",
          "text": [
            "\u001b[34m\u001b[1mwandb\u001b[0m:   1 of 1 files downloaded.  \n"
          ]
        },
        {
          "name": "stdout",
          "output_type": "stream",
          "text": [
            "Loaded 5 episodes from v891\n",
            "Downloading artifact version: mahin-sank-iit-kgp/alpha-racer-data/alpha_racer_multi_mpc_combined:v892\n"
          ]
        },
        {
          "name": "stderr",
          "output_type": "stream",
          "text": [
            "\u001b[34m\u001b[1mwandb\u001b[0m:   1 of 1 files downloaded.  \n"
          ]
        },
        {
          "name": "stdout",
          "output_type": "stream",
          "text": [
            "Loaded 14 episodes from v892\n",
            "Downloading artifact version: mahin-sank-iit-kgp/alpha-racer-data/alpha_racer_multi_mpc_combined:v893\n"
          ]
        },
        {
          "name": "stderr",
          "output_type": "stream",
          "text": [
            "\u001b[34m\u001b[1mwandb\u001b[0m:   1 of 1 files downloaded.  \n"
          ]
        },
        {
          "name": "stdout",
          "output_type": "stream",
          "text": [
            "Loaded 7 episodes from v893\n",
            "Downloading artifact version: mahin-sank-iit-kgp/alpha-racer-data/alpha_racer_multi_mpc_combined:v894\n"
          ]
        },
        {
          "name": "stderr",
          "output_type": "stream",
          "text": [
            "\u001b[34m\u001b[1mwandb\u001b[0m:   1 of 1 files downloaded.  \n"
          ]
        },
        {
          "name": "stdout",
          "output_type": "stream",
          "text": [
            "Loaded 5 episodes from v894\n",
            "Downloading artifact version: mahin-sank-iit-kgp/alpha-racer-data/alpha_racer_multi_mpc_combined:v895\n"
          ]
        },
        {
          "name": "stderr",
          "output_type": "stream",
          "text": [
            "\u001b[34m\u001b[1mwandb\u001b[0m:   1 of 1 files downloaded.  \n"
          ]
        },
        {
          "name": "stdout",
          "output_type": "stream",
          "text": [
            "Loaded 5 episodes from v895\n",
            "Downloading artifact version: mahin-sank-iit-kgp/alpha-racer-data/alpha_racer_multi_mpc_combined:v896\n"
          ]
        },
        {
          "name": "stderr",
          "output_type": "stream",
          "text": [
            "\u001b[34m\u001b[1mwandb\u001b[0m:   1 of 1 files downloaded.  \n"
          ]
        },
        {
          "name": "stdout",
          "output_type": "stream",
          "text": [
            "Loaded 7 episodes from v896\n",
            "Downloading artifact version: mahin-sank-iit-kgp/alpha-racer-data/alpha_racer_multi_mpc_combined:v897\n"
          ]
        },
        {
          "name": "stderr",
          "output_type": "stream",
          "text": [
            "\u001b[34m\u001b[1mwandb\u001b[0m:   1 of 1 files downloaded.  \n"
          ]
        },
        {
          "name": "stdout",
          "output_type": "stream",
          "text": [
            "Loaded 5 episodes from v897\n",
            "Downloading artifact version: mahin-sank-iit-kgp/alpha-racer-data/alpha_racer_multi_mpc_combined:v898\n"
          ]
        },
        {
          "name": "stderr",
          "output_type": "stream",
          "text": [
            "\u001b[34m\u001b[1mwandb\u001b[0m:   1 of 1 files downloaded.  \n"
          ]
        },
        {
          "name": "stdout",
          "output_type": "stream",
          "text": [
            "Loaded 5 episodes from v898\n",
            "Downloading artifact version: mahin-sank-iit-kgp/alpha-racer-data/alpha_racer_multi_mpc_combined:v899\n"
          ]
        },
        {
          "name": "stderr",
          "output_type": "stream",
          "text": [
            "\u001b[34m\u001b[1mwandb\u001b[0m:   1 of 1 files downloaded.  \n"
          ]
        },
        {
          "name": "stdout",
          "output_type": "stream",
          "text": [
            "Loaded 7 episodes from v899\n",
            "Downloading artifact version: mahin-sank-iit-kgp/alpha-racer-data/alpha_racer_multi_mpc_combined:v900\n"
          ]
        },
        {
          "name": "stderr",
          "output_type": "stream",
          "text": [
            "\u001b[34m\u001b[1mwandb\u001b[0m:   1 of 1 files downloaded.  \n"
          ]
        },
        {
          "name": "stdout",
          "output_type": "stream",
          "text": [
            "Loaded 7 episodes from v900\n",
            "Downloading artifact version: mahin-sank-iit-kgp/alpha-racer-data/alpha_racer_multi_mpc_combined:v901\n"
          ]
        },
        {
          "name": "stderr",
          "output_type": "stream",
          "text": [
            "\u001b[34m\u001b[1mwandb\u001b[0m:   1 of 1 files downloaded.  \n"
          ]
        },
        {
          "name": "stdout",
          "output_type": "stream",
          "text": [
            "Loaded 15 episodes from v901\n",
            "Downloading artifact version: mahin-sank-iit-kgp/alpha-racer-data/alpha_racer_multi_mpc_combined:v902\n"
          ]
        },
        {
          "name": "stderr",
          "output_type": "stream",
          "text": [
            "\u001b[34m\u001b[1mwandb\u001b[0m:   1 of 1 files downloaded.  \n"
          ]
        },
        {
          "name": "stdout",
          "output_type": "stream",
          "text": [
            "Loaded 7 episodes from v902\n",
            "Downloading artifact version: mahin-sank-iit-kgp/alpha-racer-data/alpha_racer_multi_mpc_combined:v903\n"
          ]
        },
        {
          "name": "stderr",
          "output_type": "stream",
          "text": [
            "\u001b[34m\u001b[1mwandb\u001b[0m:   1 of 1 files downloaded.  \n"
          ]
        },
        {
          "name": "stdout",
          "output_type": "stream",
          "text": [
            "Loaded 7 episodes from v903\n",
            "Downloading artifact version: mahin-sank-iit-kgp/alpha-racer-data/alpha_racer_multi_mpc_combined:v904\n"
          ]
        },
        {
          "name": "stderr",
          "output_type": "stream",
          "text": [
            "\u001b[34m\u001b[1mwandb\u001b[0m:   1 of 1 files downloaded.  \n"
          ]
        },
        {
          "name": "stdout",
          "output_type": "stream",
          "text": [
            "Loaded 7 episodes from v904\n",
            "Downloading artifact version: mahin-sank-iit-kgp/alpha-racer-data/alpha_racer_multi_mpc_combined:v905\n"
          ]
        },
        {
          "name": "stderr",
          "output_type": "stream",
          "text": [
            "\u001b[34m\u001b[1mwandb\u001b[0m:   1 of 1 files downloaded.  \n"
          ]
        },
        {
          "name": "stdout",
          "output_type": "stream",
          "text": [
            "Loaded 15 episodes from v905\n",
            "Downloading artifact version: mahin-sank-iit-kgp/alpha-racer-data/alpha_racer_multi_mpc_combined:v906\n"
          ]
        },
        {
          "name": "stderr",
          "output_type": "stream",
          "text": [
            "\u001b[34m\u001b[1mwandb\u001b[0m:   1 of 1 files downloaded.  \n"
          ]
        },
        {
          "name": "stdout",
          "output_type": "stream",
          "text": [
            "Loaded 7 episodes from v906\n",
            "Downloading artifact version: mahin-sank-iit-kgp/alpha-racer-data/alpha_racer_multi_mpc_combined:v907\n"
          ]
        },
        {
          "name": "stderr",
          "output_type": "stream",
          "text": [
            "\u001b[34m\u001b[1mwandb\u001b[0m:   1 of 1 files downloaded.  \n"
          ]
        },
        {
          "name": "stdout",
          "output_type": "stream",
          "text": [
            "Loaded 15 episodes from v907\n",
            "Downloading artifact version: mahin-sank-iit-kgp/alpha-racer-data/alpha_racer_multi_mpc_combined:v908\n"
          ]
        },
        {
          "name": "stderr",
          "output_type": "stream",
          "text": [
            "\u001b[34m\u001b[1mwandb\u001b[0m:   1 of 1 files downloaded.  \n"
          ]
        },
        {
          "name": "stdout",
          "output_type": "stream",
          "text": [
            "Loaded 15 episodes from v908\n",
            "Downloading artifact version: mahin-sank-iit-kgp/alpha-racer-data/alpha_racer_multi_mpc_combined:v909\n"
          ]
        },
        {
          "name": "stderr",
          "output_type": "stream",
          "text": [
            "\u001b[34m\u001b[1mwandb\u001b[0m:   1 of 1 files downloaded.  \n"
          ]
        },
        {
          "name": "stdout",
          "output_type": "stream",
          "text": [
            "Loaded 15 episodes from v909\n",
            "Downloading artifact version: mahin-sank-iit-kgp/alpha-racer-data/alpha_racer_multi_mpc_combined:v910\n"
          ]
        },
        {
          "name": "stderr",
          "output_type": "stream",
          "text": [
            "\u001b[34m\u001b[1mwandb\u001b[0m:   1 of 1 files downloaded.  \n"
          ]
        },
        {
          "name": "stdout",
          "output_type": "stream",
          "text": [
            "Loaded 15 episodes from v910\n",
            "Downloading artifact version: mahin-sank-iit-kgp/alpha-racer-data/alpha_racer_multi_mpc_combined:v911\n"
          ]
        },
        {
          "name": "stderr",
          "output_type": "stream",
          "text": [
            "\u001b[34m\u001b[1mwandb\u001b[0m:   1 of 1 files downloaded.  \n"
          ]
        },
        {
          "name": "stdout",
          "output_type": "stream",
          "text": [
            "Loaded 15 episodes from v911\n",
            "Downloading artifact version: mahin-sank-iit-kgp/alpha-racer-data/alpha_racer_multi_mpc_combined:v912\n"
          ]
        },
        {
          "name": "stderr",
          "output_type": "stream",
          "text": [
            "\u001b[34m\u001b[1mwandb\u001b[0m:   1 of 1 files downloaded.  \n"
          ]
        },
        {
          "name": "stdout",
          "output_type": "stream",
          "text": [
            "Loaded 15 episodes from v912\n",
            "Downloading artifact version: mahin-sank-iit-kgp/alpha-racer-data/alpha_racer_multi_mpc_combined:v913\n"
          ]
        },
        {
          "name": "stderr",
          "output_type": "stream",
          "text": [
            "\u001b[34m\u001b[1mwandb\u001b[0m:   1 of 1 files downloaded.  \n"
          ]
        },
        {
          "name": "stdout",
          "output_type": "stream",
          "text": [
            "Loaded 15 episodes from v913\n",
            "Downloading artifact version: mahin-sank-iit-kgp/alpha-racer-data/alpha_racer_multi_mpc_combined:v914\n"
          ]
        },
        {
          "name": "stderr",
          "output_type": "stream",
          "text": [
            "\u001b[34m\u001b[1mwandb\u001b[0m:   1 of 1 files downloaded.  \n"
          ]
        },
        {
          "name": "stdout",
          "output_type": "stream",
          "text": [
            "Loaded 15 episodes from v914\n",
            "Downloading artifact version: mahin-sank-iit-kgp/alpha-racer-data/alpha_racer_multi_mpc_combined:v915\n"
          ]
        },
        {
          "name": "stderr",
          "output_type": "stream",
          "text": [
            "\u001b[34m\u001b[1mwandb\u001b[0m:   1 of 1 files downloaded.  \n"
          ]
        },
        {
          "name": "stdout",
          "output_type": "stream",
          "text": [
            "Loaded 16 episodes from v915\n",
            "Downloading artifact version: mahin-sank-iit-kgp/alpha-racer-data/alpha_racer_multi_mpc_combined:v916\n"
          ]
        },
        {
          "name": "stderr",
          "output_type": "stream",
          "text": [
            "\u001b[34m\u001b[1mwandb\u001b[0m:   1 of 1 files downloaded.  \n"
          ]
        },
        {
          "name": "stdout",
          "output_type": "stream",
          "text": [
            "Loaded 8 episodes from v916\n",
            "Downloading artifact version: mahin-sank-iit-kgp/alpha-racer-data/alpha_racer_multi_mpc_combined:v917\n"
          ]
        },
        {
          "name": "stderr",
          "output_type": "stream",
          "text": [
            "\u001b[34m\u001b[1mwandb\u001b[0m:   1 of 1 files downloaded.  \n"
          ]
        },
        {
          "name": "stdout",
          "output_type": "stream",
          "text": [
            "Loaded 16 episodes from v917\n",
            "Downloading artifact version: mahin-sank-iit-kgp/alpha-racer-data/alpha_racer_multi_mpc_combined:v918\n"
          ]
        },
        {
          "name": "stderr",
          "output_type": "stream",
          "text": [
            "\u001b[34m\u001b[1mwandb\u001b[0m:   1 of 1 files downloaded.  \n"
          ]
        },
        {
          "name": "stdout",
          "output_type": "stream",
          "text": [
            "Loaded 16 episodes from v918\n",
            "Downloading artifact version: mahin-sank-iit-kgp/alpha-racer-data/alpha_racer_multi_mpc_combined:v919\n"
          ]
        },
        {
          "name": "stderr",
          "output_type": "stream",
          "text": [
            "\u001b[34m\u001b[1mwandb\u001b[0m:   1 of 1 files downloaded.  \n"
          ]
        },
        {
          "name": "stdout",
          "output_type": "stream",
          "text": [
            "Loaded 16 episodes from v919\n",
            "Downloading artifact version: mahin-sank-iit-kgp/alpha-racer-data/alpha_racer_multi_mpc_combined:v920\n"
          ]
        },
        {
          "name": "stderr",
          "output_type": "stream",
          "text": [
            "\u001b[34m\u001b[1mwandb\u001b[0m:   1 of 1 files downloaded.  \n"
          ]
        },
        {
          "name": "stdout",
          "output_type": "stream",
          "text": [
            "Loaded 16 episodes from v920\n",
            "Downloading artifact version: mahin-sank-iit-kgp/alpha-racer-data/alpha_racer_multi_mpc_combined:v921\n"
          ]
        },
        {
          "name": "stderr",
          "output_type": "stream",
          "text": [
            "\u001b[34m\u001b[1mwandb\u001b[0m:   1 of 1 files downloaded.  \n"
          ]
        },
        {
          "name": "stdout",
          "output_type": "stream",
          "text": [
            "Loaded 16 episodes from v921\n",
            "Downloading artifact version: mahin-sank-iit-kgp/alpha-racer-data/alpha_racer_multi_mpc_combined:v922\n"
          ]
        },
        {
          "name": "stderr",
          "output_type": "stream",
          "text": [
            "\u001b[34m\u001b[1mwandb\u001b[0m:   1 of 1 files downloaded.  \n"
          ]
        },
        {
          "name": "stdout",
          "output_type": "stream",
          "text": [
            "Loaded 8 episodes from v922\n",
            "Downloading artifact version: mahin-sank-iit-kgp/alpha-racer-data/alpha_racer_multi_mpc_combined:v923\n"
          ]
        },
        {
          "name": "stderr",
          "output_type": "stream",
          "text": [
            "\u001b[34m\u001b[1mwandb\u001b[0m:   1 of 1 files downloaded.  \n"
          ]
        },
        {
          "name": "stdout",
          "output_type": "stream",
          "text": [
            "Loaded 8 episodes from v923\n",
            "Downloading artifact version: mahin-sank-iit-kgp/alpha-racer-data/alpha_racer_multi_mpc_combined:v924\n"
          ]
        },
        {
          "name": "stderr",
          "output_type": "stream",
          "text": [
            "\u001b[34m\u001b[1mwandb\u001b[0m:   1 of 1 files downloaded.  \n"
          ]
        },
        {
          "name": "stdout",
          "output_type": "stream",
          "text": [
            "Loaded 8 episodes from v924\n",
            "Downloading artifact version: mahin-sank-iit-kgp/alpha-racer-data/alpha_racer_multi_mpc_combined:v925\n"
          ]
        },
        {
          "name": "stderr",
          "output_type": "stream",
          "text": [
            "\u001b[34m\u001b[1mwandb\u001b[0m:   1 of 1 files downloaded.  \n"
          ]
        },
        {
          "name": "stdout",
          "output_type": "stream",
          "text": [
            "Loaded 16 episodes from v925\n",
            "Downloading artifact version: mahin-sank-iit-kgp/alpha-racer-data/alpha_racer_multi_mpc_combined:v926\n"
          ]
        },
        {
          "name": "stderr",
          "output_type": "stream",
          "text": [
            "\u001b[34m\u001b[1mwandb\u001b[0m:   1 of 1 files downloaded.  \n"
          ]
        },
        {
          "name": "stdout",
          "output_type": "stream",
          "text": [
            "Loaded 16 episodes from v926\n",
            "Downloading artifact version: mahin-sank-iit-kgp/alpha-racer-data/alpha_racer_multi_mpc_combined:v927\n"
          ]
        },
        {
          "name": "stderr",
          "output_type": "stream",
          "text": [
            "\u001b[34m\u001b[1mwandb\u001b[0m:   1 of 1 files downloaded.  \n"
          ]
        },
        {
          "name": "stdout",
          "output_type": "stream",
          "text": [
            "Loaded 6 episodes from v927\n",
            "Downloading artifact version: mahin-sank-iit-kgp/alpha-racer-data/alpha_racer_multi_mpc_combined:v928\n"
          ]
        },
        {
          "name": "stderr",
          "output_type": "stream",
          "text": [
            "\u001b[34m\u001b[1mwandb\u001b[0m:   1 of 1 files downloaded.  \n"
          ]
        },
        {
          "name": "stdout",
          "output_type": "stream",
          "text": [
            "Loaded 16 episodes from v928\n",
            "Downloading artifact version: mahin-sank-iit-kgp/alpha-racer-data/alpha_racer_multi_mpc_combined:v929\n"
          ]
        },
        {
          "name": "stderr",
          "output_type": "stream",
          "text": [
            "\u001b[34m\u001b[1mwandb\u001b[0m:   1 of 1 files downloaded.  \n"
          ]
        },
        {
          "name": "stdout",
          "output_type": "stream",
          "text": [
            "Loaded 16 episodes from v929\n",
            "Downloading artifact version: mahin-sank-iit-kgp/alpha-racer-data/alpha_racer_multi_mpc_combined:v930\n"
          ]
        },
        {
          "name": "stderr",
          "output_type": "stream",
          "text": [
            "\u001b[34m\u001b[1mwandb\u001b[0m:   1 of 1 files downloaded.  \n"
          ]
        },
        {
          "name": "stdout",
          "output_type": "stream",
          "text": [
            "Loaded 8 episodes from v930\n",
            "Downloading artifact version: mahin-sank-iit-kgp/alpha-racer-data/alpha_racer_multi_mpc_combined:v931\n"
          ]
        },
        {
          "name": "stderr",
          "output_type": "stream",
          "text": [
            "\u001b[34m\u001b[1mwandb\u001b[0m:   1 of 1 files downloaded.  \n"
          ]
        },
        {
          "name": "stdout",
          "output_type": "stream",
          "text": [
            "Loaded 8 episodes from v931\n",
            "Downloading artifact version: mahin-sank-iit-kgp/alpha-racer-data/alpha_racer_multi_mpc_combined:v932\n"
          ]
        },
        {
          "name": "stderr",
          "output_type": "stream",
          "text": [
            "\u001b[34m\u001b[1mwandb\u001b[0m:   1 of 1 files downloaded.  \n"
          ]
        },
        {
          "name": "stdout",
          "output_type": "stream",
          "text": [
            "Loaded 8 episodes from v932\n",
            "Downloading artifact version: mahin-sank-iit-kgp/alpha-racer-data/alpha_racer_multi_mpc_combined:v933\n"
          ]
        },
        {
          "name": "stderr",
          "output_type": "stream",
          "text": [
            "\u001b[34m\u001b[1mwandb\u001b[0m:   1 of 1 files downloaded.  \n"
          ]
        },
        {
          "name": "stdout",
          "output_type": "stream",
          "text": [
            "Loaded 8 episodes from v933\n",
            "Downloading artifact version: mahin-sank-iit-kgp/alpha-racer-data/alpha_racer_multi_mpc_combined:v934\n"
          ]
        },
        {
          "name": "stderr",
          "output_type": "stream",
          "text": [
            "\u001b[34m\u001b[1mwandb\u001b[0m:   1 of 1 files downloaded.  \n"
          ]
        },
        {
          "name": "stdout",
          "output_type": "stream",
          "text": [
            "Loaded 8 episodes from v934\n",
            "Downloading artifact version: mahin-sank-iit-kgp/alpha-racer-data/alpha_racer_multi_mpc_combined:v935\n"
          ]
        },
        {
          "name": "stderr",
          "output_type": "stream",
          "text": [
            "\u001b[34m\u001b[1mwandb\u001b[0m:   1 of 1 files downloaded.  \n"
          ]
        },
        {
          "name": "stdout",
          "output_type": "stream",
          "text": [
            "Loaded 6 episodes from v935\n",
            "Downloading artifact version: mahin-sank-iit-kgp/alpha-racer-data/alpha_racer_multi_mpc_combined:v936\n"
          ]
        },
        {
          "name": "stderr",
          "output_type": "stream",
          "text": [
            "\u001b[34m\u001b[1mwandb\u001b[0m:   1 of 1 files downloaded.  \n"
          ]
        },
        {
          "name": "stdout",
          "output_type": "stream",
          "text": [
            "Loaded 17 episodes from v936\n",
            "Downloading artifact version: mahin-sank-iit-kgp/alpha-racer-data/alpha_racer_multi_mpc_combined:v937\n"
          ]
        },
        {
          "name": "stderr",
          "output_type": "stream",
          "text": [
            "\u001b[34m\u001b[1mwandb\u001b[0m:   1 of 1 files downloaded.  \n"
          ]
        },
        {
          "name": "stdout",
          "output_type": "stream",
          "text": [
            "Loaded 8 episodes from v937\n",
            "Downloading artifact version: mahin-sank-iit-kgp/alpha-racer-data/alpha_racer_multi_mpc_combined:v938\n"
          ]
        },
        {
          "name": "stderr",
          "output_type": "stream",
          "text": [
            "\u001b[34m\u001b[1mwandb\u001b[0m:   1 of 1 files downloaded.  \n"
          ]
        },
        {
          "name": "stdout",
          "output_type": "stream",
          "text": [
            "Loaded 17 episodes from v938\n",
            "Downloading artifact version: mahin-sank-iit-kgp/alpha-racer-data/alpha_racer_multi_mpc_combined:v939\n"
          ]
        },
        {
          "name": "stderr",
          "output_type": "stream",
          "text": [
            "\u001b[34m\u001b[1mwandb\u001b[0m:   1 of 1 files downloaded.  \n"
          ]
        },
        {
          "name": "stdout",
          "output_type": "stream",
          "text": [
            "Loaded 17 episodes from v939\n",
            "Downloading artifact version: mahin-sank-iit-kgp/alpha-racer-data/alpha_racer_multi_mpc_combined:v940\n"
          ]
        },
        {
          "name": "stderr",
          "output_type": "stream",
          "text": [
            "\u001b[34m\u001b[1mwandb\u001b[0m:   1 of 1 files downloaded.  \n"
          ]
        },
        {
          "name": "stdout",
          "output_type": "stream",
          "text": [
            "Loaded 17 episodes from v940\n",
            "Downloading artifact version: mahin-sank-iit-kgp/alpha-racer-data/alpha_racer_multi_mpc_combined:v941\n"
          ]
        },
        {
          "name": "stderr",
          "output_type": "stream",
          "text": [
            "\u001b[34m\u001b[1mwandb\u001b[0m:   1 of 1 files downloaded.  \n"
          ]
        },
        {
          "name": "stdout",
          "output_type": "stream",
          "text": [
            "Loaded 17 episodes from v941\n",
            "Downloading artifact version: mahin-sank-iit-kgp/alpha-racer-data/alpha_racer_multi_mpc_combined:v942\n"
          ]
        },
        {
          "name": "stderr",
          "output_type": "stream",
          "text": [
            "\u001b[34m\u001b[1mwandb\u001b[0m:   1 of 1 files downloaded.  \n"
          ]
        },
        {
          "name": "stdout",
          "output_type": "stream",
          "text": [
            "Loaded 17 episodes from v942\n",
            "Downloading artifact version: mahin-sank-iit-kgp/alpha-racer-data/alpha_racer_multi_mpc_combined:v943\n"
          ]
        },
        {
          "name": "stderr",
          "output_type": "stream",
          "text": [
            "\u001b[34m\u001b[1mwandb\u001b[0m:   1 of 1 files downloaded.  \n"
          ]
        },
        {
          "name": "stdout",
          "output_type": "stream",
          "text": [
            "Loaded 17 episodes from v943\n",
            "Downloading artifact version: mahin-sank-iit-kgp/alpha-racer-data/alpha_racer_multi_mpc_combined:v944\n"
          ]
        },
        {
          "name": "stderr",
          "output_type": "stream",
          "text": [
            "\u001b[34m\u001b[1mwandb\u001b[0m:   1 of 1 files downloaded.  \n"
          ]
        },
        {
          "name": "stdout",
          "output_type": "stream",
          "text": [
            "Loaded 17 episodes from v944\n",
            "Downloading artifact version: mahin-sank-iit-kgp/alpha-racer-data/alpha_racer_multi_mpc_combined:v945\n"
          ]
        },
        {
          "name": "stderr",
          "output_type": "stream",
          "text": [
            "\u001b[34m\u001b[1mwandb\u001b[0m:   1 of 1 files downloaded.  \n"
          ]
        },
        {
          "name": "stdout",
          "output_type": "stream",
          "text": [
            "Loaded 6 episodes from v945\n",
            "Downloading artifact version: mahin-sank-iit-kgp/alpha-racer-data/alpha_racer_multi_mpc_combined:v946\n"
          ]
        },
        {
          "name": "stderr",
          "output_type": "stream",
          "text": [
            "\u001b[34m\u001b[1mwandb\u001b[0m:   1 of 1 files downloaded.  \n"
          ]
        },
        {
          "name": "stdout",
          "output_type": "stream",
          "text": [
            "Loaded 18 episodes from v946\n",
            "Downloading artifact version: mahin-sank-iit-kgp/alpha-racer-data/alpha_racer_multi_mpc_combined:v947\n"
          ]
        },
        {
          "name": "stderr",
          "output_type": "stream",
          "text": [
            "\u001b[34m\u001b[1mwandb\u001b[0m:   1 of 1 files downloaded.  \n"
          ]
        },
        {
          "name": "stdout",
          "output_type": "stream",
          "text": [
            "Loaded 17 episodes from v947\n",
            "Downloading artifact version: mahin-sank-iit-kgp/alpha-racer-data/alpha_racer_multi_mpc_combined:v948\n"
          ]
        },
        {
          "name": "stderr",
          "output_type": "stream",
          "text": [
            "\u001b[34m\u001b[1mwandb\u001b[0m:   1 of 1 files downloaded.  \n"
          ]
        },
        {
          "name": "stdout",
          "output_type": "stream",
          "text": [
            "Loaded 17 episodes from v948\n",
            "Downloading artifact version: mahin-sank-iit-kgp/alpha-racer-data/alpha_racer_multi_mpc_combined:v949\n"
          ]
        },
        {
          "name": "stderr",
          "output_type": "stream",
          "text": [
            "\u001b[34m\u001b[1mwandb\u001b[0m:   1 of 1 files downloaded.  \n"
          ]
        },
        {
          "name": "stdout",
          "output_type": "stream",
          "text": [
            "Loaded 9 episodes from v949\n",
            "Downloading artifact version: mahin-sank-iit-kgp/alpha-racer-data/alpha_racer_multi_mpc_combined:v950\n"
          ]
        },
        {
          "name": "stderr",
          "output_type": "stream",
          "text": [
            "\u001b[34m\u001b[1mwandb\u001b[0m:   1 of 1 files downloaded.  \n"
          ]
        },
        {
          "name": "stdout",
          "output_type": "stream",
          "text": [
            "Loaded 6 episodes from v950\n",
            "Downloading artifact version: mahin-sank-iit-kgp/alpha-racer-data/alpha_racer_multi_mpc_combined:v951\n"
          ]
        },
        {
          "name": "stderr",
          "output_type": "stream",
          "text": [
            "\u001b[34m\u001b[1mwandb\u001b[0m:   1 of 1 files downloaded.  \n"
          ]
        },
        {
          "name": "stdout",
          "output_type": "stream",
          "text": [
            "Loaded 18 episodes from v951\n",
            "Downloading artifact version: mahin-sank-iit-kgp/alpha-racer-data/alpha_racer_multi_mpc_combined:v952\n"
          ]
        },
        {
          "name": "stderr",
          "output_type": "stream",
          "text": [
            "\u001b[34m\u001b[1mwandb\u001b[0m:   1 of 1 files downloaded.  \n"
          ]
        },
        {
          "name": "stdout",
          "output_type": "stream",
          "text": [
            "Loaded 18 episodes from v952\n",
            "Downloading artifact version: mahin-sank-iit-kgp/alpha-racer-data/alpha_racer_multi_mpc_combined:v953\n"
          ]
        },
        {
          "name": "stderr",
          "output_type": "stream",
          "text": [
            "\u001b[34m\u001b[1mwandb\u001b[0m:   1 of 1 files downloaded.  \n"
          ]
        },
        {
          "name": "stdout",
          "output_type": "stream",
          "text": [
            "Loaded 9 episodes from v953\n",
            "Downloading artifact version: mahin-sank-iit-kgp/alpha-racer-data/alpha_racer_multi_mpc_combined:v954\n"
          ]
        },
        {
          "name": "stderr",
          "output_type": "stream",
          "text": [
            "\u001b[34m\u001b[1mwandb\u001b[0m:   1 of 1 files downloaded.  \n"
          ]
        },
        {
          "name": "stdout",
          "output_type": "stream",
          "text": [
            "Loaded 18 episodes from v954\n",
            "Downloading artifact version: mahin-sank-iit-kgp/alpha-racer-data/alpha_racer_multi_mpc_combined:v955\n"
          ]
        },
        {
          "name": "stderr",
          "output_type": "stream",
          "text": [
            "\u001b[34m\u001b[1mwandb\u001b[0m:   1 of 1 files downloaded.  \n"
          ]
        },
        {
          "name": "stdout",
          "output_type": "stream",
          "text": [
            "Loaded 9 episodes from v955\n",
            "Downloading artifact version: mahin-sank-iit-kgp/alpha-racer-data/alpha_racer_multi_mpc_combined:v956\n"
          ]
        },
        {
          "name": "stderr",
          "output_type": "stream",
          "text": [
            "\u001b[34m\u001b[1mwandb\u001b[0m:   1 of 1 files downloaded.  \n"
          ]
        },
        {
          "name": "stdout",
          "output_type": "stream",
          "text": [
            "Loaded 9 episodes from v956\n",
            "Downloading artifact version: mahin-sank-iit-kgp/alpha-racer-data/alpha_racer_multi_mpc_combined:v957\n"
          ]
        },
        {
          "name": "stderr",
          "output_type": "stream",
          "text": [
            "\u001b[34m\u001b[1mwandb\u001b[0m:   1 of 1 files downloaded.  \n"
          ]
        },
        {
          "name": "stdout",
          "output_type": "stream",
          "text": [
            "Loaded 18 episodes from v957\n",
            "Downloading artifact version: mahin-sank-iit-kgp/alpha-racer-data/alpha_racer_multi_mpc_combined:v958\n"
          ]
        },
        {
          "name": "stderr",
          "output_type": "stream",
          "text": [
            "\u001b[34m\u001b[1mwandb\u001b[0m:   1 of 1 files downloaded.  \n"
          ]
        },
        {
          "name": "stdout",
          "output_type": "stream",
          "text": [
            "Loaded 6 episodes from v958\n",
            "Downloading artifact version: mahin-sank-iit-kgp/alpha-racer-data/alpha_racer_multi_mpc_combined:v959\n"
          ]
        },
        {
          "name": "stderr",
          "output_type": "stream",
          "text": [
            "\u001b[34m\u001b[1mwandb\u001b[0m:   1 of 1 files downloaded.  \n"
          ]
        },
        {
          "name": "stdout",
          "output_type": "stream",
          "text": [
            "Loaded 18 episodes from v959\n",
            "Downloading artifact version: mahin-sank-iit-kgp/alpha-racer-data/alpha_racer_multi_mpc_combined:v960\n"
          ]
        },
        {
          "name": "stderr",
          "output_type": "stream",
          "text": [
            "\u001b[34m\u001b[1mwandb\u001b[0m:   1 of 1 files downloaded.  \n"
          ]
        },
        {
          "name": "stdout",
          "output_type": "stream",
          "text": [
            "Loaded 18 episodes from v960\n",
            "Downloading artifact version: mahin-sank-iit-kgp/alpha-racer-data/alpha_racer_multi_mpc_combined:v961\n"
          ]
        },
        {
          "name": "stderr",
          "output_type": "stream",
          "text": [
            "\u001b[34m\u001b[1mwandb\u001b[0m:   1 of 1 files downloaded.  \n"
          ]
        },
        {
          "name": "stdout",
          "output_type": "stream",
          "text": [
            "Loaded 6 episodes from v961\n",
            "Downloading artifact version: mahin-sank-iit-kgp/alpha-racer-data/alpha_racer_multi_mpc_combined:v962\n"
          ]
        },
        {
          "name": "stderr",
          "output_type": "stream",
          "text": [
            "\u001b[34m\u001b[1mwandb\u001b[0m:   1 of 1 files downloaded.  \n"
          ]
        },
        {
          "name": "stdout",
          "output_type": "stream",
          "text": [
            "Loaded 9 episodes from v962\n",
            "Downloading artifact version: mahin-sank-iit-kgp/alpha-racer-data/alpha_racer_multi_mpc_combined:v963\n"
          ]
        },
        {
          "name": "stderr",
          "output_type": "stream",
          "text": [
            "\u001b[34m\u001b[1mwandb\u001b[0m:   1 of 1 files downloaded.  \n"
          ]
        },
        {
          "name": "stdout",
          "output_type": "stream",
          "text": [
            "Loaded 9 episodes from v963\n",
            "Downloading artifact version: mahin-sank-iit-kgp/alpha-racer-data/alpha_racer_multi_mpc_combined:v964\n"
          ]
        },
        {
          "name": "stderr",
          "output_type": "stream",
          "text": [
            "\u001b[34m\u001b[1mwandb\u001b[0m:   1 of 1 files downloaded.  \n"
          ]
        },
        {
          "name": "stdout",
          "output_type": "stream",
          "text": [
            "Loaded 6 episodes from v964\n",
            "Downloading artifact version: mahin-sank-iit-kgp/alpha-racer-data/alpha_racer_multi_mpc_combined:v965\n"
          ]
        },
        {
          "name": "stderr",
          "output_type": "stream",
          "text": [
            "\u001b[34m\u001b[1mwandb\u001b[0m:   1 of 1 files downloaded.  \n"
          ]
        },
        {
          "name": "stdout",
          "output_type": "stream",
          "text": [
            "Loaded 18 episodes from v965\n",
            "Downloading artifact version: mahin-sank-iit-kgp/alpha-racer-data/alpha_racer_multi_mpc_combined:v966\n"
          ]
        },
        {
          "name": "stderr",
          "output_type": "stream",
          "text": [
            "\u001b[34m\u001b[1mwandb\u001b[0m:   1 of 1 files downloaded.  \n"
          ]
        },
        {
          "name": "stdout",
          "output_type": "stream",
          "text": [
            "Loaded 6 episodes from v966\n",
            "Downloading artifact version: mahin-sank-iit-kgp/alpha-racer-data/alpha_racer_multi_mpc_combined:v967\n"
          ]
        },
        {
          "name": "stderr",
          "output_type": "stream",
          "text": [
            "\u001b[34m\u001b[1mwandb\u001b[0m:   1 of 1 files downloaded.  \n"
          ]
        },
        {
          "name": "stdout",
          "output_type": "stream",
          "text": [
            "Loaded 9 episodes from v967\n",
            "Downloading artifact version: mahin-sank-iit-kgp/alpha-racer-data/alpha_racer_multi_mpc_combined:v968\n"
          ]
        },
        {
          "name": "stderr",
          "output_type": "stream",
          "text": [
            "\u001b[34m\u001b[1mwandb\u001b[0m:   1 of 1 files downloaded.  \n"
          ]
        },
        {
          "name": "stdout",
          "output_type": "stream",
          "text": [
            "Loaded 9 episodes from v968\n",
            "Downloading artifact version: mahin-sank-iit-kgp/alpha-racer-data/alpha_racer_multi_mpc_combined:v969\n"
          ]
        },
        {
          "name": "stderr",
          "output_type": "stream",
          "text": [
            "\u001b[34m\u001b[1mwandb\u001b[0m:   1 of 1 files downloaded.  \n"
          ]
        },
        {
          "name": "stdout",
          "output_type": "stream",
          "text": [
            "Loaded 9 episodes from v969\n",
            "Downloading artifact version: mahin-sank-iit-kgp/alpha-racer-data/alpha_racer_multi_mpc_combined:v970\n"
          ]
        },
        {
          "name": "stderr",
          "output_type": "stream",
          "text": [
            "\u001b[34m\u001b[1mwandb\u001b[0m:   1 of 1 files downloaded.  \n"
          ]
        },
        {
          "name": "stdout",
          "output_type": "stream",
          "text": [
            "Loaded 6 episodes from v970\n",
            "Downloading artifact version: mahin-sank-iit-kgp/alpha-racer-data/alpha_racer_multi_mpc_combined:v971\n"
          ]
        },
        {
          "name": "stderr",
          "output_type": "stream",
          "text": [
            "\u001b[34m\u001b[1mwandb\u001b[0m:   1 of 1 files downloaded.  \n"
          ]
        },
        {
          "name": "stdout",
          "output_type": "stream",
          "text": [
            "Loaded 18 episodes from v971\n",
            "Downloading artifact version: mahin-sank-iit-kgp/alpha-racer-data/alpha_racer_multi_mpc_combined:v972\n"
          ]
        },
        {
          "name": "stderr",
          "output_type": "stream",
          "text": [
            "\u001b[34m\u001b[1mwandb\u001b[0m:   1 of 1 files downloaded.  \n"
          ]
        },
        {
          "name": "stdout",
          "output_type": "stream",
          "text": [
            "Loaded 18 episodes from v972\n",
            "Downloading artifact version: mahin-sank-iit-kgp/alpha-racer-data/alpha_racer_multi_mpc_combined:v973\n"
          ]
        },
        {
          "name": "stderr",
          "output_type": "stream",
          "text": [
            "\u001b[34m\u001b[1mwandb\u001b[0m:   1 of 1 files downloaded.  \n"
          ]
        },
        {
          "name": "stdout",
          "output_type": "stream",
          "text": [
            "Loaded 1 episodes from v973\n",
            "Downloading artifact version: mahin-sank-iit-kgp/alpha-racer-data/alpha_racer_multi_mpc_combined:v974\n"
          ]
        },
        {
          "name": "stderr",
          "output_type": "stream",
          "text": [
            "\u001b[34m\u001b[1mwandb\u001b[0m:   1 of 1 files downloaded.  \n"
          ]
        },
        {
          "name": "stdout",
          "output_type": "stream",
          "text": [
            "Loaded 6 episodes from v974\n",
            "Downloading artifact version: mahin-sank-iit-kgp/alpha-racer-data/alpha_racer_multi_mpc_combined:v975\n"
          ]
        },
        {
          "name": "stderr",
          "output_type": "stream",
          "text": [
            "\u001b[34m\u001b[1mwandb\u001b[0m:   1 of 1 files downloaded.  \n"
          ]
        },
        {
          "name": "stdout",
          "output_type": "stream",
          "text": [
            "Loaded 9 episodes from v975\n",
            "Downloading artifact version: mahin-sank-iit-kgp/alpha-racer-data/alpha_racer_multi_mpc_combined:v976\n"
          ]
        },
        {
          "name": "stderr",
          "output_type": "stream",
          "text": [
            "\u001b[34m\u001b[1mwandb\u001b[0m:   1 of 1 files downloaded.  \n"
          ]
        },
        {
          "name": "stdout",
          "output_type": "stream",
          "text": [
            "Loaded 19 episodes from v976\n",
            "Downloading artifact version: mahin-sank-iit-kgp/alpha-racer-data/alpha_racer_multi_mpc_combined:v977\n"
          ]
        },
        {
          "name": "stderr",
          "output_type": "stream",
          "text": [
            "\u001b[34m\u001b[1mwandb\u001b[0m:   1 of 1 files downloaded.  \n"
          ]
        },
        {
          "name": "stdout",
          "output_type": "stream",
          "text": [
            "Loaded 19 episodes from v977\n",
            "Downloading artifact version: mahin-sank-iit-kgp/alpha-racer-data/alpha_racer_multi_mpc_combined:v978\n"
          ]
        },
        {
          "name": "stderr",
          "output_type": "stream",
          "text": [
            "\u001b[34m\u001b[1mwandb\u001b[0m:   1 of 1 files downloaded.  \n"
          ]
        },
        {
          "name": "stdout",
          "output_type": "stream",
          "text": [
            "Loaded 19 episodes from v978\n",
            "Downloading artifact version: mahin-sank-iit-kgp/alpha-racer-data/alpha_racer_multi_mpc_combined:v979\n"
          ]
        },
        {
          "name": "stderr",
          "output_type": "stream",
          "text": [
            "\u001b[34m\u001b[1mwandb\u001b[0m:   1 of 1 files downloaded.  \n"
          ]
        },
        {
          "name": "stdout",
          "output_type": "stream",
          "text": [
            "Loaded 19 episodes from v979\n",
            "Downloading artifact version: mahin-sank-iit-kgp/alpha-racer-data/alpha_racer_multi_mpc_combined:v980\n"
          ]
        },
        {
          "name": "stderr",
          "output_type": "stream",
          "text": [
            "\u001b[34m\u001b[1mwandb\u001b[0m:   1 of 1 files downloaded.  \n"
          ]
        },
        {
          "name": "stdout",
          "output_type": "stream",
          "text": [
            "Loaded 19 episodes from v980\n",
            "Downloading artifact version: mahin-sank-iit-kgp/alpha-racer-data/alpha_racer_multi_mpc_combined:v981\n"
          ]
        },
        {
          "name": "stderr",
          "output_type": "stream",
          "text": [
            "\u001b[34m\u001b[1mwandb\u001b[0m:   1 of 1 files downloaded.  \n"
          ]
        },
        {
          "name": "stdout",
          "output_type": "stream",
          "text": [
            "Loaded 19 episodes from v981\n",
            "Downloading artifact version: mahin-sank-iit-kgp/alpha-racer-data/alpha_racer_multi_mpc_combined:v982\n"
          ]
        },
        {
          "name": "stderr",
          "output_type": "stream",
          "text": [
            "\u001b[34m\u001b[1mwandb\u001b[0m:   1 of 1 files downloaded.  \n"
          ]
        },
        {
          "name": "stdout",
          "output_type": "stream",
          "text": [
            "Loaded 10 episodes from v982\n",
            "Downloading artifact version: mahin-sank-iit-kgp/alpha-racer-data/alpha_racer_multi_mpc_combined:v983\n"
          ]
        },
        {
          "name": "stderr",
          "output_type": "stream",
          "text": [
            "\u001b[34m\u001b[1mwandb\u001b[0m:   1 of 1 files downloaded.  \n"
          ]
        },
        {
          "name": "stdout",
          "output_type": "stream",
          "text": [
            "Loaded 19 episodes from v983\n",
            "Downloading artifact version: mahin-sank-iit-kgp/alpha-racer-data/alpha_racer_multi_mpc_combined:v984\n"
          ]
        },
        {
          "name": "stderr",
          "output_type": "stream",
          "text": [
            "\u001b[34m\u001b[1mwandb\u001b[0m:   1 of 1 files downloaded.  \n"
          ]
        },
        {
          "name": "stdout",
          "output_type": "stream",
          "text": [
            "Loaded 19 episodes from v984\n",
            "Downloading artifact version: mahin-sank-iit-kgp/alpha-racer-data/alpha_racer_multi_mpc_combined:v985\n"
          ]
        },
        {
          "name": "stderr",
          "output_type": "stream",
          "text": [
            "\u001b[34m\u001b[1mwandb\u001b[0m:   1 of 1 files downloaded.  \n"
          ]
        },
        {
          "name": "stdout",
          "output_type": "stream",
          "text": [
            "Loaded 19 episodes from v985\n",
            "Downloading artifact version: mahin-sank-iit-kgp/alpha-racer-data/alpha_racer_multi_mpc_combined:v986\n"
          ]
        },
        {
          "name": "stderr",
          "output_type": "stream",
          "text": [
            "\u001b[34m\u001b[1mwandb\u001b[0m:   1 of 1 files downloaded.  \n"
          ]
        },
        {
          "name": "stdout",
          "output_type": "stream",
          "text": [
            "Loaded 10 episodes from v986\n",
            "Downloading artifact version: mahin-sank-iit-kgp/alpha-racer-data/alpha_racer_multi_mpc_combined:v987\n"
          ]
        },
        {
          "name": "stderr",
          "output_type": "stream",
          "text": [
            "\u001b[34m\u001b[1mwandb\u001b[0m:   1 of 1 files downloaded.  \n"
          ]
        },
        {
          "name": "stdout",
          "output_type": "stream",
          "text": [
            "Loaded 10 episodes from v987\n",
            "Downloading artifact version: mahin-sank-iit-kgp/alpha-racer-data/alpha_racer_multi_mpc_combined:v988\n"
          ]
        },
        {
          "name": "stderr",
          "output_type": "stream",
          "text": [
            "\u001b[34m\u001b[1mwandb\u001b[0m:   1 of 1 files downloaded.  \n"
          ]
        },
        {
          "name": "stdout",
          "output_type": "stream",
          "text": [
            "Loaded 10 episodes from v988\n",
            "Downloading artifact version: mahin-sank-iit-kgp/alpha-racer-data/alpha_racer_multi_mpc_combined:v989\n"
          ]
        },
        {
          "name": "stderr",
          "output_type": "stream",
          "text": [
            "\u001b[34m\u001b[1mwandb\u001b[0m:   1 of 1 files downloaded.  \n"
          ]
        },
        {
          "name": "stdout",
          "output_type": "stream",
          "text": [
            "Loaded 20 episodes from v989\n",
            "Downloading artifact version: mahin-sank-iit-kgp/alpha-racer-data/alpha_racer_multi_mpc_combined:v990\n"
          ]
        },
        {
          "name": "stderr",
          "output_type": "stream",
          "text": [
            "\u001b[34m\u001b[1mwandb\u001b[0m:   1 of 1 files downloaded.  \n"
          ]
        },
        {
          "name": "stdout",
          "output_type": "stream",
          "text": [
            "Loaded 20 episodes from v990\n",
            "Downloading artifact version: mahin-sank-iit-kgp/alpha-racer-data/alpha_racer_multi_mpc_combined:v991\n"
          ]
        },
        {
          "name": "stderr",
          "output_type": "stream",
          "text": [
            "\u001b[34m\u001b[1mwandb\u001b[0m:   1 of 1 files downloaded.  \n"
          ]
        },
        {
          "name": "stdout",
          "output_type": "stream",
          "text": [
            "Loaded 2 episodes from v991\n",
            "Downloading artifact version: mahin-sank-iit-kgp/alpha-racer-data/alpha_racer_multi_mpc_combined:v992\n"
          ]
        },
        {
          "name": "stderr",
          "output_type": "stream",
          "text": [
            "\u001b[34m\u001b[1mwandb\u001b[0m:   1 of 1 files downloaded.  \n"
          ]
        },
        {
          "name": "stdout",
          "output_type": "stream",
          "text": [
            "Loaded 20 episodes from v992\n",
            "Downloading artifact version: mahin-sank-iit-kgp/alpha-racer-data/alpha_racer_multi_mpc_combined:v993\n"
          ]
        },
        {
          "name": "stderr",
          "output_type": "stream",
          "text": [
            "\u001b[34m\u001b[1mwandb\u001b[0m:   1 of 1 files downloaded.  \n"
          ]
        },
        {
          "name": "stdout",
          "output_type": "stream",
          "text": [
            "Loaded 2 episodes from v993\n",
            "Downloading artifact version: mahin-sank-iit-kgp/alpha-racer-data/alpha_racer_multi_mpc_combined:v994\n"
          ]
        },
        {
          "name": "stderr",
          "output_type": "stream",
          "text": [
            "\u001b[34m\u001b[1mwandb\u001b[0m:   1 of 1 files downloaded.  \n"
          ]
        },
        {
          "name": "stdout",
          "output_type": "stream",
          "text": [
            "Loaded 10 episodes from v994\n",
            "Downloading artifact version: mahin-sank-iit-kgp/alpha-racer-data/alpha_racer_multi_mpc_combined:v995\n"
          ]
        },
        {
          "name": "stderr",
          "output_type": "stream",
          "text": [
            "\u001b[34m\u001b[1mwandb\u001b[0m:   1 of 1 files downloaded.  \n"
          ]
        },
        {
          "name": "stdout",
          "output_type": "stream",
          "text": [
            "Loaded 10 episodes from v995\n",
            "Downloading artifact version: mahin-sank-iit-kgp/alpha-racer-data/alpha_racer_multi_mpc_combined:v996\n"
          ]
        },
        {
          "name": "stderr",
          "output_type": "stream",
          "text": [
            "\u001b[34m\u001b[1mwandb\u001b[0m:   1 of 1 files downloaded.  \n"
          ]
        },
        {
          "name": "stdout",
          "output_type": "stream",
          "text": [
            "Loaded 10 episodes from v996\n",
            "Downloading artifact version: mahin-sank-iit-kgp/alpha-racer-data/alpha_racer_multi_mpc_combined:v997\n"
          ]
        },
        {
          "name": "stderr",
          "output_type": "stream",
          "text": [
            "\u001b[34m\u001b[1mwandb\u001b[0m:   1 of 1 files downloaded.  \n"
          ]
        },
        {
          "name": "stdout",
          "output_type": "stream",
          "text": [
            "Loaded 10 episodes from v997\n",
            "Downloading artifact version: mahin-sank-iit-kgp/alpha-racer-data/alpha_racer_multi_mpc_combined:v998\n"
          ]
        },
        {
          "name": "stderr",
          "output_type": "stream",
          "text": [
            "\u001b[34m\u001b[1mwandb\u001b[0m:   1 of 1 files downloaded.  \n"
          ]
        },
        {
          "name": "stdout",
          "output_type": "stream",
          "text": [
            "Loaded 20 episodes from v998\n",
            "Downloading artifact version: mahin-sank-iit-kgp/alpha-racer-data/alpha_racer_multi_mpc_combined:v999\n"
          ]
        },
        {
          "name": "stderr",
          "output_type": "stream",
          "text": [
            "\u001b[34m\u001b[1mwandb\u001b[0m:   1 of 1 files downloaded.  \n"
          ]
        },
        {
          "name": "stdout",
          "output_type": "stream",
          "text": [
            "Loaded 10 episodes from v999\n",
            "Downloading artifact version: mahin-sank-iit-kgp/alpha-racer-data/alpha_racer_multi_mpc_combined:v1000\n"
          ]
        },
        {
          "name": "stderr",
          "output_type": "stream",
          "text": [
            "\u001b[34m\u001b[1mwandb\u001b[0m:   1 of 1 files downloaded.  \n"
          ]
        },
        {
          "name": "stdout",
          "output_type": "stream",
          "text": [
            "Loaded 20 episodes from v1000\n",
            "Downloading artifact version: mahin-sank-iit-kgp/alpha-racer-data/alpha_racer_multi_mpc_combined:v1001\n"
          ]
        },
        {
          "name": "stderr",
          "output_type": "stream",
          "text": [
            "\u001b[34m\u001b[1mwandb\u001b[0m:   1 of 1 files downloaded.  \n"
          ]
        },
        {
          "name": "stdout",
          "output_type": "stream",
          "text": [
            "Loaded 20 episodes from v1001\n",
            "Downloading artifact version: mahin-sank-iit-kgp/alpha-racer-data/alpha_racer_multi_mpc_combined:v1002\n"
          ]
        },
        {
          "name": "stderr",
          "output_type": "stream",
          "text": [
            "\u001b[34m\u001b[1mwandb\u001b[0m:   1 of 1 files downloaded.  \n"
          ]
        },
        {
          "name": "stdout",
          "output_type": "stream",
          "text": [
            "Loaded 2 episodes from v1002\n",
            "Downloading artifact version: mahin-sank-iit-kgp/alpha-racer-data/alpha_racer_multi_mpc_combined:v1003\n"
          ]
        },
        {
          "name": "stderr",
          "output_type": "stream",
          "text": [
            "\u001b[34m\u001b[1mwandb\u001b[0m:   1 of 1 files downloaded.  \n"
          ]
        },
        {
          "name": "stdout",
          "output_type": "stream",
          "text": [
            "Loaded 20 episodes from v1003\n",
            "Downloading artifact version: mahin-sank-iit-kgp/alpha-racer-data/alpha_racer_multi_mpc_combined:v1004\n"
          ]
        },
        {
          "name": "stderr",
          "output_type": "stream",
          "text": [
            "\u001b[34m\u001b[1mwandb\u001b[0m:   1 of 1 files downloaded.  \n"
          ]
        },
        {
          "name": "stdout",
          "output_type": "stream",
          "text": [
            "Loaded 2 episodes from v1004\n",
            "Downloading artifact version: mahin-sank-iit-kgp/alpha-racer-data/alpha_racer_multi_mpc_combined:v1005\n"
          ]
        },
        {
          "name": "stderr",
          "output_type": "stream",
          "text": [
            "\u001b[34m\u001b[1mwandb\u001b[0m:   1 of 1 files downloaded.  \n"
          ]
        },
        {
          "name": "stdout",
          "output_type": "stream",
          "text": [
            "Loaded 7 episodes from v1005\n",
            "Downloading artifact version: mahin-sank-iit-kgp/alpha-racer-data/alpha_racer_multi_mpc_combined:v1006\n"
          ]
        },
        {
          "name": "stderr",
          "output_type": "stream",
          "text": [
            "\u001b[34m\u001b[1mwandb\u001b[0m:   1 of 1 files downloaded.  \n"
          ]
        },
        {
          "name": "stdout",
          "output_type": "stream",
          "text": [
            "Loaded 20 episodes from v1006\n",
            "Downloading artifact version: mahin-sank-iit-kgp/alpha-racer-data/alpha_racer_multi_mpc_combined:v1007\n"
          ]
        },
        {
          "name": "stderr",
          "output_type": "stream",
          "text": [
            "\u001b[34m\u001b[1mwandb\u001b[0m:   1 of 1 files downloaded.  \n"
          ]
        },
        {
          "name": "stdout",
          "output_type": "stream",
          "text": [
            "Loaded 20 episodes from v1007\n",
            "Downloading artifact version: mahin-sank-iit-kgp/alpha-racer-data/alpha_racer_multi_mpc_combined:v1008\n"
          ]
        },
        {
          "name": "stderr",
          "output_type": "stream",
          "text": [
            "\u001b[34m\u001b[1mwandb\u001b[0m:   1 of 1 files downloaded.  \n"
          ]
        },
        {
          "name": "stdout",
          "output_type": "stream",
          "text": [
            "Loaded 2 episodes from v1008\n",
            "Downloading artifact version: mahin-sank-iit-kgp/alpha-racer-data/alpha_racer_multi_mpc_combined:v1009\n"
          ]
        },
        {
          "name": "stderr",
          "output_type": "stream",
          "text": [
            "\u001b[34m\u001b[1mwandb\u001b[0m:   1 of 1 files downloaded.  \n"
          ]
        },
        {
          "name": "stdout",
          "output_type": "stream",
          "text": [
            "Loaded 7 episodes from v1009\n",
            "Downloading artifact version: mahin-sank-iit-kgp/alpha-racer-data/alpha_racer_multi_mpc_combined:v1010\n"
          ]
        },
        {
          "name": "stderr",
          "output_type": "stream",
          "text": [
            "\u001b[34m\u001b[1mwandb\u001b[0m:   1 of 1 files downloaded.  \n"
          ]
        },
        {
          "name": "stdout",
          "output_type": "stream",
          "text": [
            "Loaded 10 episodes from v1010\n",
            "Downloading artifact version: mahin-sank-iit-kgp/alpha-racer-data/alpha_racer_multi_mpc_combined:v1011\n"
          ]
        },
        {
          "name": "stderr",
          "output_type": "stream",
          "text": [
            "\u001b[34m\u001b[1mwandb\u001b[0m:   1 of 1 files downloaded.  \n"
          ]
        },
        {
          "name": "stdout",
          "output_type": "stream",
          "text": [
            "Loaded 2 episodes from v1011\n",
            "Downloading artifact version: mahin-sank-iit-kgp/alpha-racer-data/alpha_racer_multi_mpc_combined:v1012\n"
          ]
        },
        {
          "name": "stderr",
          "output_type": "stream",
          "text": [
            "\u001b[34m\u001b[1mwandb\u001b[0m:   1 of 1 files downloaded.  \n"
          ]
        },
        {
          "name": "stdout",
          "output_type": "stream",
          "text": [
            "Loaded 2 episodes from v1012\n",
            "Downloading artifact version: mahin-sank-iit-kgp/alpha-racer-data/alpha_racer_multi_mpc_combined:v1013\n"
          ]
        },
        {
          "name": "stderr",
          "output_type": "stream",
          "text": [
            "\u001b[34m\u001b[1mwandb\u001b[0m:   1 of 1 files downloaded.  \n"
          ]
        },
        {
          "name": "stdout",
          "output_type": "stream",
          "text": [
            "Loaded 2 episodes from v1013\n",
            "Downloading artifact version: mahin-sank-iit-kgp/alpha-racer-data/alpha_racer_multi_mpc_combined:v1014\n"
          ]
        },
        {
          "name": "stderr",
          "output_type": "stream",
          "text": [
            "\u001b[34m\u001b[1mwandb\u001b[0m:   1 of 1 files downloaded.  \n"
          ]
        },
        {
          "name": "stdout",
          "output_type": "stream",
          "text": [
            "Loaded 2 episodes from v1014\n",
            "Downloading artifact version: mahin-sank-iit-kgp/alpha-racer-data/alpha_racer_multi_mpc_combined:v1015\n"
          ]
        },
        {
          "name": "stderr",
          "output_type": "stream",
          "text": [
            "\u001b[34m\u001b[1mwandb\u001b[0m:   1 of 1 files downloaded.  \n"
          ]
        },
        {
          "name": "stdout",
          "output_type": "stream",
          "text": [
            "Loaded 21 episodes from v1015\n",
            "Downloading artifact version: mahin-sank-iit-kgp/alpha-racer-data/alpha_racer_multi_mpc_combined:v1016\n"
          ]
        },
        {
          "name": "stderr",
          "output_type": "stream",
          "text": [
            "\u001b[34m\u001b[1mwandb\u001b[0m:   1 of 1 files downloaded.  \n"
          ]
        },
        {
          "name": "stdout",
          "output_type": "stream",
          "text": [
            "Loaded 21 episodes from v1016\n",
            "Downloading artifact version: mahin-sank-iit-kgp/alpha-racer-data/alpha_racer_multi_mpc_combined:v1017\n"
          ]
        },
        {
          "name": "stderr",
          "output_type": "stream",
          "text": [
            "\u001b[34m\u001b[1mwandb\u001b[0m:   1 of 1 files downloaded.  \n"
          ]
        },
        {
          "name": "stdout",
          "output_type": "stream",
          "text": [
            "Loaded 2 episodes from v1017\n",
            "Downloading artifact version: mahin-sank-iit-kgp/alpha-racer-data/alpha_racer_multi_mpc_combined:v1018\n"
          ]
        },
        {
          "name": "stderr",
          "output_type": "stream",
          "text": [
            "\u001b[34m\u001b[1mwandb\u001b[0m:   1 of 1 files downloaded.  \n"
          ]
        },
        {
          "name": "stdout",
          "output_type": "stream",
          "text": [
            "Loaded 21 episodes from v1018\n",
            "Downloading artifact version: mahin-sank-iit-kgp/alpha-racer-data/alpha_racer_multi_mpc_combined:v1019\n"
          ]
        },
        {
          "name": "stderr",
          "output_type": "stream",
          "text": [
            "\u001b[34m\u001b[1mwandb\u001b[0m:   1 of 1 files downloaded.  \n"
          ]
        },
        {
          "name": "stdout",
          "output_type": "stream",
          "text": [
            "Loaded 21 episodes from v1019\n",
            "Downloading artifact version: mahin-sank-iit-kgp/alpha-racer-data/alpha_racer_multi_mpc_combined:v1020\n"
          ]
        },
        {
          "name": "stderr",
          "output_type": "stream",
          "text": [
            "\u001b[34m\u001b[1mwandb\u001b[0m:   1 of 1 files downloaded.  \n"
          ]
        },
        {
          "name": "stdout",
          "output_type": "stream",
          "text": [
            "Loaded 11 episodes from v1020\n",
            "Downloading artifact version: mahin-sank-iit-kgp/alpha-racer-data/alpha_racer_multi_mpc_combined:v1021\n"
          ]
        },
        {
          "name": "stderr",
          "output_type": "stream",
          "text": [
            "\u001b[34m\u001b[1mwandb\u001b[0m:   1 of 1 files downloaded.  \n"
          ]
        },
        {
          "name": "stdout",
          "output_type": "stream",
          "text": [
            "Loaded 21 episodes from v1021\n",
            "Downloading artifact version: mahin-sank-iit-kgp/alpha-racer-data/alpha_racer_multi_mpc_combined:v1022\n"
          ]
        },
        {
          "name": "stderr",
          "output_type": "stream",
          "text": [
            "\u001b[34m\u001b[1mwandb\u001b[0m:   1 of 1 files downloaded.  \n"
          ]
        },
        {
          "name": "stdout",
          "output_type": "stream",
          "text": [
            "Loaded 21 episodes from v1022\n",
            "Downloading artifact version: mahin-sank-iit-kgp/alpha-racer-data/alpha_racer_multi_mpc_combined:v1023\n"
          ]
        },
        {
          "name": "stderr",
          "output_type": "stream",
          "text": [
            "\u001b[34m\u001b[1mwandb\u001b[0m:   1 of 1 files downloaded.  \n"
          ]
        },
        {
          "name": "stdout",
          "output_type": "stream",
          "text": [
            "Loaded 7 episodes from v1023\n",
            "Downloading artifact version: mahin-sank-iit-kgp/alpha-racer-data/alpha_racer_multi_mpc_combined:v1024\n"
          ]
        },
        {
          "name": "stderr",
          "output_type": "stream",
          "text": [
            "\u001b[34m\u001b[1mwandb\u001b[0m:   1 of 1 files downloaded.  \n"
          ]
        },
        {
          "name": "stdout",
          "output_type": "stream",
          "text": [
            "Loaded 21 episodes from v1024\n",
            "Downloading artifact version: mahin-sank-iit-kgp/alpha-racer-data/alpha_racer_multi_mpc_combined:v1025\n"
          ]
        },
        {
          "name": "stderr",
          "output_type": "stream",
          "text": [
            "\u001b[34m\u001b[1mwandb\u001b[0m:   1 of 1 files downloaded.  \n"
          ]
        },
        {
          "name": "stdout",
          "output_type": "stream",
          "text": [
            "Loaded 21 episodes from v1025\n",
            "Downloading artifact version: mahin-sank-iit-kgp/alpha-racer-data/alpha_racer_multi_mpc_combined:v1026\n"
          ]
        },
        {
          "name": "stderr",
          "output_type": "stream",
          "text": [
            "\u001b[34m\u001b[1mwandb\u001b[0m:   1 of 1 files downloaded.  \n"
          ]
        },
        {
          "name": "stdout",
          "output_type": "stream",
          "text": [
            "Loaded 21 episodes from v1026\n",
            "Downloading artifact version: mahin-sank-iit-kgp/alpha-racer-data/alpha_racer_multi_mpc_combined:v1027\n"
          ]
        },
        {
          "name": "stderr",
          "output_type": "stream",
          "text": [
            "\u001b[34m\u001b[1mwandb\u001b[0m:   1 of 1 files downloaded.  \n"
          ]
        },
        {
          "name": "stdout",
          "output_type": "stream",
          "text": [
            "Loaded 3 episodes from v1027\n",
            "Downloading artifact version: mahin-sank-iit-kgp/alpha-racer-data/alpha_racer_multi_mpc_combined:v1028\n"
          ]
        },
        {
          "name": "stderr",
          "output_type": "stream",
          "text": [
            "\u001b[34m\u001b[1mwandb\u001b[0m:   1 of 1 files downloaded.  \n"
          ]
        },
        {
          "name": "stdout",
          "output_type": "stream",
          "text": [
            "Loaded 3 episodes from v1028\n",
            "Downloading artifact version: mahin-sank-iit-kgp/alpha-racer-data/alpha_racer_multi_mpc_combined:v1029\n"
          ]
        },
        {
          "name": "stderr",
          "output_type": "stream",
          "text": [
            "\u001b[34m\u001b[1mwandb\u001b[0m:   1 of 1 files downloaded.  \n"
          ]
        },
        {
          "name": "stdout",
          "output_type": "stream",
          "text": [
            "Loaded 7 episodes from v1029\n",
            "Downloading artifact version: mahin-sank-iit-kgp/alpha-racer-data/alpha_racer_multi_mpc_combined:v1030\n"
          ]
        },
        {
          "name": "stderr",
          "output_type": "stream",
          "text": [
            "\u001b[34m\u001b[1mwandb\u001b[0m:   1 of 1 files downloaded.  \n"
          ]
        },
        {
          "name": "stdout",
          "output_type": "stream",
          "text": [
            "Loaded 11 episodes from v1030\n",
            "Downloading artifact version: mahin-sank-iit-kgp/alpha-racer-data/alpha_racer_multi_mpc_combined:v1031\n"
          ]
        },
        {
          "name": "stderr",
          "output_type": "stream",
          "text": [
            "\u001b[34m\u001b[1mwandb\u001b[0m:   1 of 1 files downloaded.  \n"
          ]
        },
        {
          "name": "stdout",
          "output_type": "stream",
          "text": [
            "Loaded 11 episodes from v1031\n",
            "Downloading artifact version: mahin-sank-iit-kgp/alpha-racer-data/alpha_racer_multi_mpc_combined:v1032\n"
          ]
        },
        {
          "name": "stderr",
          "output_type": "stream",
          "text": [
            "\u001b[34m\u001b[1mwandb\u001b[0m:   1 of 1 files downloaded.  \n"
          ]
        },
        {
          "name": "stdout",
          "output_type": "stream",
          "text": [
            "Loaded 3 episodes from v1032\n",
            "Downloading artifact version: mahin-sank-iit-kgp/alpha-racer-data/alpha_racer_multi_mpc_combined:v1033\n"
          ]
        },
        {
          "name": "stderr",
          "output_type": "stream",
          "text": [
            "\u001b[34m\u001b[1mwandb\u001b[0m:   1 of 1 files downloaded.  \n"
          ]
        },
        {
          "name": "stdout",
          "output_type": "stream",
          "text": [
            "Loaded 3 episodes from v1033\n",
            "Downloading artifact version: mahin-sank-iit-kgp/alpha-racer-data/alpha_racer_multi_mpc_combined:v1034\n"
          ]
        },
        {
          "name": "stderr",
          "output_type": "stream",
          "text": [
            "\u001b[34m\u001b[1mwandb\u001b[0m:   1 of 1 files downloaded.  \n"
          ]
        },
        {
          "name": "stdout",
          "output_type": "stream",
          "text": [
            "Loaded 11 episodes from v1034\n",
            "Downloading artifact version: mahin-sank-iit-kgp/alpha-racer-data/alpha_racer_multi_mpc_combined:v1035\n"
          ]
        },
        {
          "name": "stderr",
          "output_type": "stream",
          "text": [
            "\u001b[34m\u001b[1mwandb\u001b[0m:   1 of 1 files downloaded.  \n"
          ]
        },
        {
          "name": "stdout",
          "output_type": "stream",
          "text": [
            "Loaded 11 episodes from v1035\n",
            "Downloading artifact version: mahin-sank-iit-kgp/alpha-racer-data/alpha_racer_multi_mpc_combined:v1036\n"
          ]
        },
        {
          "name": "stderr",
          "output_type": "stream",
          "text": [
            "\u001b[34m\u001b[1mwandb\u001b[0m:   1 of 1 files downloaded.  \n"
          ]
        },
        {
          "name": "stdout",
          "output_type": "stream",
          "text": [
            "Loaded 11 episodes from v1036\n",
            "Downloading artifact version: mahin-sank-iit-kgp/alpha-racer-data/alpha_racer_multi_mpc_combined:v1037\n"
          ]
        },
        {
          "name": "stderr",
          "output_type": "stream",
          "text": [
            "\u001b[34m\u001b[1mwandb\u001b[0m:   1 of 1 files downloaded.  \n"
          ]
        },
        {
          "name": "stdout",
          "output_type": "stream",
          "text": [
            "Loaded 11 episodes from v1037\n",
            "Downloading artifact version: mahin-sank-iit-kgp/alpha-racer-data/alpha_racer_multi_mpc_combined:v1038\n"
          ]
        },
        {
          "name": "stderr",
          "output_type": "stream",
          "text": [
            "\u001b[34m\u001b[1mwandb\u001b[0m:   1 of 1 files downloaded.  \n"
          ]
        },
        {
          "name": "stdout",
          "output_type": "stream",
          "text": [
            "Loaded 22 episodes from v1038\n",
            "Downloading artifact version: mahin-sank-iit-kgp/alpha-racer-data/alpha_racer_multi_mpc_combined:v1039\n"
          ]
        },
        {
          "name": "stderr",
          "output_type": "stream",
          "text": [
            "\u001b[34m\u001b[1mwandb\u001b[0m:   1 of 1 files downloaded.  \n"
          ]
        },
        {
          "name": "stdout",
          "output_type": "stream",
          "text": [
            "Loaded 22 episodes from v1039\n",
            "Downloading artifact version: mahin-sank-iit-kgp/alpha-racer-data/alpha_racer_multi_mpc_combined:v1040\n"
          ]
        },
        {
          "name": "stderr",
          "output_type": "stream",
          "text": [
            "\u001b[34m\u001b[1mwandb\u001b[0m:   1 of 1 files downloaded.  \n"
          ]
        },
        {
          "name": "stdout",
          "output_type": "stream",
          "text": [
            "Loaded 22 episodes from v1040\n",
            "Downloading artifact version: mahin-sank-iit-kgp/alpha-racer-data/alpha_racer_multi_mpc_combined:v1041\n"
          ]
        },
        {
          "name": "stderr",
          "output_type": "stream",
          "text": [
            "\u001b[34m\u001b[1mwandb\u001b[0m:   1 of 1 files downloaded.  \n"
          ]
        },
        {
          "name": "stdout",
          "output_type": "stream",
          "text": [
            "Loaded 11 episodes from v1041\n",
            "Downloading artifact version: mahin-sank-iit-kgp/alpha-racer-data/alpha_racer_multi_mpc_combined:v1042\n"
          ]
        },
        {
          "name": "stderr",
          "output_type": "stream",
          "text": [
            "\u001b[34m\u001b[1mwandb\u001b[0m:   1 of 1 files downloaded.  \n"
          ]
        },
        {
          "name": "stdout",
          "output_type": "stream",
          "text": [
            "Loaded 7 episodes from v1042\n",
            "Downloading artifact version: mahin-sank-iit-kgp/alpha-racer-data/alpha_racer_multi_mpc_combined:v1043\n"
          ]
        },
        {
          "name": "stderr",
          "output_type": "stream",
          "text": [
            "\u001b[34m\u001b[1mwandb\u001b[0m:   1 of 1 files downloaded.  \n"
          ]
        },
        {
          "name": "stdout",
          "output_type": "stream",
          "text": [
            "Loaded 11 episodes from v1043\n",
            "Downloading artifact version: mahin-sank-iit-kgp/alpha-racer-data/alpha_racer_multi_mpc_combined:v1044\n"
          ]
        },
        {
          "name": "stderr",
          "output_type": "stream",
          "text": [
            "\u001b[34m\u001b[1mwandb\u001b[0m:   1 of 1 files downloaded.  \n"
          ]
        },
        {
          "name": "stdout",
          "output_type": "stream",
          "text": [
            "Loaded 7 episodes from v1044\n",
            "Downloading artifact version: mahin-sank-iit-kgp/alpha-racer-data/alpha_racer_multi_mpc_combined:v1045\n"
          ]
        },
        {
          "name": "stderr",
          "output_type": "stream",
          "text": [
            "\u001b[34m\u001b[1mwandb\u001b[0m:   1 of 1 files downloaded.  \n"
          ]
        },
        {
          "name": "stdout",
          "output_type": "stream",
          "text": [
            "Loaded 7 episodes from v1045\n",
            "Downloading artifact version: mahin-sank-iit-kgp/alpha-racer-data/alpha_racer_multi_mpc_combined:v1046\n"
          ]
        },
        {
          "name": "stderr",
          "output_type": "stream",
          "text": [
            "\u001b[34m\u001b[1mwandb\u001b[0m:   1 of 1 files downloaded.  \n"
          ]
        },
        {
          "name": "stdout",
          "output_type": "stream",
          "text": [
            "Loaded 22 episodes from v1046\n",
            "Downloading artifact version: mahin-sank-iit-kgp/alpha-racer-data/alpha_racer_multi_mpc_combined:v1047\n"
          ]
        },
        {
          "name": "stderr",
          "output_type": "stream",
          "text": [
            "\u001b[34m\u001b[1mwandb\u001b[0m:   1 of 1 files downloaded.  \n"
          ]
        },
        {
          "name": "stdout",
          "output_type": "stream",
          "text": [
            "Loaded 7 episodes from v1047\n",
            "Downloading artifact version: mahin-sank-iit-kgp/alpha-racer-data/alpha_racer_multi_mpc_combined:v1048\n"
          ]
        },
        {
          "name": "stderr",
          "output_type": "stream",
          "text": [
            "\u001b[34m\u001b[1mwandb\u001b[0m:   1 of 1 files downloaded.  \n"
          ]
        },
        {
          "name": "stdout",
          "output_type": "stream",
          "text": [
            "Loaded 22 episodes from v1048\n",
            "Downloading artifact version: mahin-sank-iit-kgp/alpha-racer-data/alpha_racer_multi_mpc_combined:v1049\n"
          ]
        },
        {
          "name": "stderr",
          "output_type": "stream",
          "text": [
            "\u001b[34m\u001b[1mwandb\u001b[0m:   1 of 1 files downloaded.  \n"
          ]
        },
        {
          "name": "stdout",
          "output_type": "stream",
          "text": [
            "Loaded 22 episodes from v1049\n",
            "Downloading artifact version: mahin-sank-iit-kgp/alpha-racer-data/alpha_racer_multi_mpc_combined:v1050\n"
          ]
        },
        {
          "name": "stderr",
          "output_type": "stream",
          "text": [
            "\u001b[34m\u001b[1mwandb\u001b[0m:   1 of 1 files downloaded.  \n"
          ]
        },
        {
          "name": "stdout",
          "output_type": "stream",
          "text": [
            "Loaded 7 episodes from v1050\n",
            "Downloading artifact version: mahin-sank-iit-kgp/alpha-racer-data/alpha_racer_multi_mpc_combined:v1051\n"
          ]
        },
        {
          "name": "stderr",
          "output_type": "stream",
          "text": [
            "\u001b[34m\u001b[1mwandb\u001b[0m:   1 of 1 files downloaded.  \n"
          ]
        },
        {
          "name": "stdout",
          "output_type": "stream",
          "text": [
            "Loaded 7 episodes from v1051\n",
            "Downloading artifact version: mahin-sank-iit-kgp/alpha-racer-data/alpha_racer_multi_mpc_combined:v1052\n"
          ]
        },
        {
          "name": "stderr",
          "output_type": "stream",
          "text": [
            "\u001b[34m\u001b[1mwandb\u001b[0m:   1 of 1 files downloaded.  \n"
          ]
        },
        {
          "name": "stdout",
          "output_type": "stream",
          "text": [
            "Loaded 22 episodes from v1052\n",
            "Downloading artifact version: mahin-sank-iit-kgp/alpha-racer-data/alpha_racer_multi_mpc_combined:v1053\n"
          ]
        },
        {
          "name": "stderr",
          "output_type": "stream",
          "text": [
            "\u001b[34m\u001b[1mwandb\u001b[0m:   1 of 1 files downloaded.  \n"
          ]
        },
        {
          "name": "stdout",
          "output_type": "stream",
          "text": [
            "Loaded 22 episodes from v1053\n",
            "Downloading artifact version: mahin-sank-iit-kgp/alpha-racer-data/alpha_racer_multi_mpc_combined:v1054\n"
          ]
        },
        {
          "name": "stderr",
          "output_type": "stream",
          "text": [
            "\u001b[34m\u001b[1mwandb\u001b[0m:   1 of 1 files downloaded.  \n"
          ]
        },
        {
          "name": "stdout",
          "output_type": "stream",
          "text": [
            "Loaded 22 episodes from v1054\n",
            "Downloading artifact version: mahin-sank-iit-kgp/alpha-racer-data/alpha_racer_multi_mpc_combined:v1055\n"
          ]
        },
        {
          "name": "stderr",
          "output_type": "stream",
          "text": [
            "\u001b[34m\u001b[1mwandb\u001b[0m:   1 of 1 files downloaded.  \n"
          ]
        },
        {
          "name": "stdout",
          "output_type": "stream",
          "text": [
            "Loaded 11 episodes from v1055\n",
            "Downloading artifact version: mahin-sank-iit-kgp/alpha-racer-data/alpha_racer_multi_mpc_combined:v1056\n"
          ]
        },
        {
          "name": "stderr",
          "output_type": "stream",
          "text": [
            "\u001b[34m\u001b[1mwandb\u001b[0m:   1 of 1 files downloaded.  \n"
          ]
        },
        {
          "name": "stdout",
          "output_type": "stream",
          "text": [
            "Loaded 12 episodes from v1056\n",
            "Downloading artifact version: mahin-sank-iit-kgp/alpha-racer-data/alpha_racer_multi_mpc_combined:v1057\n"
          ]
        },
        {
          "name": "stderr",
          "output_type": "stream",
          "text": [
            "\u001b[34m\u001b[1mwandb\u001b[0m:   1 of 1 files downloaded.  \n"
          ]
        },
        {
          "name": "stdout",
          "output_type": "stream",
          "text": [
            "Loaded 23 episodes from v1057\n",
            "Downloading artifact version: mahin-sank-iit-kgp/alpha-racer-data/alpha_racer_multi_mpc_combined:v1058\n"
          ]
        },
        {
          "name": "stderr",
          "output_type": "stream",
          "text": [
            "\u001b[34m\u001b[1mwandb\u001b[0m:   1 of 1 files downloaded.  \n"
          ]
        },
        {
          "name": "stdout",
          "output_type": "stream",
          "text": [
            "Loaded 23 episodes from v1058\n",
            "Downloading artifact version: mahin-sank-iit-kgp/alpha-racer-data/alpha_racer_multi_mpc_combined:v1059\n"
          ]
        },
        {
          "name": "stderr",
          "output_type": "stream",
          "text": [
            "\u001b[34m\u001b[1mwandb\u001b[0m:   1 of 1 files downloaded.  \n"
          ]
        },
        {
          "name": "stdout",
          "output_type": "stream",
          "text": [
            "Loaded 23 episodes from v1059\n",
            "Downloading artifact version: mahin-sank-iit-kgp/alpha-racer-data/alpha_racer_multi_mpc_combined:v1060\n"
          ]
        },
        {
          "name": "stderr",
          "output_type": "stream",
          "text": [
            "\u001b[34m\u001b[1mwandb\u001b[0m:   1 of 1 files downloaded.  \n"
          ]
        },
        {
          "name": "stdout",
          "output_type": "stream",
          "text": [
            "Loaded 23 episodes from v1060\n",
            "Downloading artifact version: mahin-sank-iit-kgp/alpha-racer-data/alpha_racer_multi_mpc_combined:v1061\n"
          ]
        },
        {
          "name": "stderr",
          "output_type": "stream",
          "text": [
            "\u001b[34m\u001b[1mwandb\u001b[0m:   1 of 1 files downloaded.  \n"
          ]
        },
        {
          "name": "stdout",
          "output_type": "stream",
          "text": [
            "Loaded 23 episodes from v1061\n",
            "Downloading artifact version: mahin-sank-iit-kgp/alpha-racer-data/alpha_racer_multi_mpc_combined:v1062\n"
          ]
        },
        {
          "name": "stderr",
          "output_type": "stream",
          "text": [
            "\u001b[34m\u001b[1mwandb\u001b[0m:   1 of 1 files downloaded.  \n"
          ]
        },
        {
          "name": "stdout",
          "output_type": "stream",
          "text": [
            "Loaded 23 episodes from v1062\n",
            "Downloading artifact version: mahin-sank-iit-kgp/alpha-racer-data/alpha_racer_multi_mpc_combined:v1063\n"
          ]
        },
        {
          "name": "stderr",
          "output_type": "stream",
          "text": [
            "\u001b[34m\u001b[1mwandb\u001b[0m:   1 of 1 files downloaded.  \n"
          ]
        },
        {
          "name": "stdout",
          "output_type": "stream",
          "text": [
            "Loaded 23 episodes from v1063\n",
            "Downloading artifact version: mahin-sank-iit-kgp/alpha-racer-data/alpha_racer_multi_mpc_combined:v1064\n"
          ]
        },
        {
          "name": "stderr",
          "output_type": "stream",
          "text": [
            "\u001b[34m\u001b[1mwandb\u001b[0m:   1 of 1 files downloaded.  \n"
          ]
        },
        {
          "name": "stdout",
          "output_type": "stream",
          "text": [
            "Loaded 23 episodes from v1064\n",
            "Downloading artifact version: mahin-sank-iit-kgp/alpha-racer-data/alpha_racer_multi_mpc_combined:v1065\n"
          ]
        },
        {
          "name": "stderr",
          "output_type": "stream",
          "text": [
            "\u001b[34m\u001b[1mwandb\u001b[0m:   1 of 1 files downloaded.  \n"
          ]
        },
        {
          "name": "stdout",
          "output_type": "stream",
          "text": [
            "Loaded 23 episodes from v1065\n",
            "Downloading artifact version: mahin-sank-iit-kgp/alpha-racer-data/alpha_racer_multi_mpc_combined:v1066\n"
          ]
        },
        {
          "name": "stderr",
          "output_type": "stream",
          "text": [
            "\u001b[34m\u001b[1mwandb\u001b[0m:   1 of 1 files downloaded.  \n"
          ]
        },
        {
          "name": "stdout",
          "output_type": "stream",
          "text": [
            "Loaded 12 episodes from v1066\n",
            "Downloading artifact version: mahin-sank-iit-kgp/alpha-racer-data/alpha_racer_multi_mpc_combined:v1067\n"
          ]
        },
        {
          "name": "stderr",
          "output_type": "stream",
          "text": [
            "\u001b[34m\u001b[1mwandb\u001b[0m:   1 of 1 files downloaded.  \n"
          ]
        },
        {
          "name": "stdout",
          "output_type": "stream",
          "text": [
            "Loaded 12 episodes from v1067\n",
            "Downloading artifact version: mahin-sank-iit-kgp/alpha-racer-data/alpha_racer_multi_mpc_combined:v1068\n"
          ]
        },
        {
          "name": "stderr",
          "output_type": "stream",
          "text": [
            "\u001b[34m\u001b[1mwandb\u001b[0m:   1 of 1 files downloaded.  \n"
          ]
        },
        {
          "name": "stdout",
          "output_type": "stream",
          "text": [
            "Loaded 12 episodes from v1068\n",
            "Downloading artifact version: mahin-sank-iit-kgp/alpha-racer-data/alpha_racer_multi_mpc_combined:v1069\n"
          ]
        },
        {
          "name": "stderr",
          "output_type": "stream",
          "text": [
            "\u001b[34m\u001b[1mwandb\u001b[0m:   1 of 1 files downloaded.  \n"
          ]
        },
        {
          "name": "stdout",
          "output_type": "stream",
          "text": [
            "Loaded 12 episodes from v1069\n",
            "Downloading artifact version: mahin-sank-iit-kgp/alpha-racer-data/alpha_racer_multi_mpc_combined:v1070\n"
          ]
        },
        {
          "name": "stderr",
          "output_type": "stream",
          "text": [
            "\u001b[34m\u001b[1mwandb\u001b[0m:   1 of 1 files downloaded.  \n"
          ]
        },
        {
          "name": "stdout",
          "output_type": "stream",
          "text": [
            "Loaded 12 episodes from v1070\n",
            "Downloading artifact version: mahin-sank-iit-kgp/alpha-racer-data/alpha_racer_multi_mpc_combined:v1071\n"
          ]
        },
        {
          "name": "stderr",
          "output_type": "stream",
          "text": [
            "\u001b[34m\u001b[1mwandb\u001b[0m:   1 of 1 files downloaded.  \n"
          ]
        },
        {
          "name": "stdout",
          "output_type": "stream",
          "text": [
            "Loaded 12 episodes from v1071\n",
            "Downloading artifact version: mahin-sank-iit-kgp/alpha-racer-data/alpha_racer_multi_mpc_combined:v1072\n"
          ]
        },
        {
          "name": "stderr",
          "output_type": "stream",
          "text": [
            "\u001b[34m\u001b[1mwandb\u001b[0m:   1 of 1 files downloaded.  \n"
          ]
        },
        {
          "name": "stdout",
          "output_type": "stream",
          "text": [
            "Loaded 24 episodes from v1072\n",
            "Downloading artifact version: mahin-sank-iit-kgp/alpha-racer-data/alpha_racer_multi_mpc_combined:v1073\n"
          ]
        },
        {
          "name": "stderr",
          "output_type": "stream",
          "text": [
            "\u001b[34m\u001b[1mwandb\u001b[0m:   1 of 1 files downloaded.  \n"
          ]
        },
        {
          "name": "stdout",
          "output_type": "stream",
          "text": [
            "Loaded 24 episodes from v1073\n",
            "Downloading artifact version: mahin-sank-iit-kgp/alpha-racer-data/alpha_racer_multi_mpc_combined:v1074\n"
          ]
        },
        {
          "name": "stderr",
          "output_type": "stream",
          "text": [
            "\u001b[34m\u001b[1mwandb\u001b[0m:   1 of 1 files downloaded.  \n"
          ]
        },
        {
          "name": "stdout",
          "output_type": "stream",
          "text": [
            "Loaded 24 episodes from v1074\n",
            "Downloading artifact version: mahin-sank-iit-kgp/alpha-racer-data/alpha_racer_multi_mpc_combined:v1075\n"
          ]
        },
        {
          "name": "stderr",
          "output_type": "stream",
          "text": [
            "\u001b[34m\u001b[1mwandb\u001b[0m:   1 of 1 files downloaded.  \n"
          ]
        },
        {
          "name": "stdout",
          "output_type": "stream",
          "text": [
            "Loaded 12 episodes from v1075\n",
            "Downloading artifact version: mahin-sank-iit-kgp/alpha-racer-data/alpha_racer_multi_mpc_combined:v1076\n"
          ]
        },
        {
          "name": "stderr",
          "output_type": "stream",
          "text": [
            "\u001b[34m\u001b[1mwandb\u001b[0m:   1 of 1 files downloaded.  \n"
          ]
        },
        {
          "name": "stdout",
          "output_type": "stream",
          "text": [
            "Loaded 12 episodes from v1076\n",
            "Downloading artifact version: mahin-sank-iit-kgp/alpha-racer-data/alpha_racer_multi_mpc_combined:v1077\n"
          ]
        },
        {
          "name": "stderr",
          "output_type": "stream",
          "text": [
            "\u001b[34m\u001b[1mwandb\u001b[0m:   1 of 1 files downloaded.  \n"
          ]
        },
        {
          "name": "stdout",
          "output_type": "stream",
          "text": [
            "Loaded 24 episodes from v1077\n",
            "Downloading artifact version: mahin-sank-iit-kgp/alpha-racer-data/alpha_racer_multi_mpc_combined:v1078\n"
          ]
        },
        {
          "name": "stderr",
          "output_type": "stream",
          "text": [
            "\u001b[34m\u001b[1mwandb\u001b[0m:   1 of 1 files downloaded.  \n"
          ]
        },
        {
          "name": "stdout",
          "output_type": "stream",
          "text": [
            "Loaded 24 episodes from v1078\n",
            "Downloading artifact version: mahin-sank-iit-kgp/alpha-racer-data/alpha_racer_multi_mpc_combined:v1079\n"
          ]
        },
        {
          "name": "stderr",
          "output_type": "stream",
          "text": [
            "\u001b[34m\u001b[1mwandb\u001b[0m:   1 of 1 files downloaded.  \n"
          ]
        },
        {
          "name": "stdout",
          "output_type": "stream",
          "text": [
            "Loaded 24 episodes from v1079\n",
            "Downloading artifact version: mahin-sank-iit-kgp/alpha-racer-data/alpha_racer_multi_mpc_combined:v1080\n"
          ]
        },
        {
          "name": "stderr",
          "output_type": "stream",
          "text": [
            "\u001b[34m\u001b[1mwandb\u001b[0m:   1 of 1 files downloaded.  \n"
          ]
        },
        {
          "name": "stdout",
          "output_type": "stream",
          "text": [
            "Loaded 24 episodes from v1080\n",
            "Downloading artifact version: mahin-sank-iit-kgp/alpha-racer-data/alpha_racer_multi_mpc_combined:v1081\n"
          ]
        },
        {
          "name": "stderr",
          "output_type": "stream",
          "text": [
            "\u001b[34m\u001b[1mwandb\u001b[0m:   1 of 1 files downloaded.  \n"
          ]
        },
        {
          "name": "stdout",
          "output_type": "stream",
          "text": [
            "Loaded 24 episodes from v1081\n",
            "Downloading artifact version: mahin-sank-iit-kgp/alpha-racer-data/alpha_racer_multi_mpc_combined:v1082\n"
          ]
        },
        {
          "name": "stderr",
          "output_type": "stream",
          "text": [
            "\u001b[34m\u001b[1mwandb\u001b[0m:   1 of 1 files downloaded.  \n"
          ]
        },
        {
          "name": "stdout",
          "output_type": "stream",
          "text": [
            "Loaded 24 episodes from v1082\n",
            "Downloading artifact version: mahin-sank-iit-kgp/alpha-racer-data/alpha_racer_multi_mpc_combined:v1083\n"
          ]
        },
        {
          "name": "stderr",
          "output_type": "stream",
          "text": [
            "\u001b[34m\u001b[1mwandb\u001b[0m:   1 of 1 files downloaded.  \n"
          ]
        },
        {
          "name": "stdout",
          "output_type": "stream",
          "text": [
            "Loaded 12 episodes from v1083\n",
            "Downloading artifact version: mahin-sank-iit-kgp/alpha-racer-data/alpha_racer_multi_mpc_combined:v1084\n"
          ]
        },
        {
          "name": "stderr",
          "output_type": "stream",
          "text": [
            "\u001b[34m\u001b[1mwandb\u001b[0m:   1 of 1 files downloaded.  \n"
          ]
        },
        {
          "name": "stdout",
          "output_type": "stream",
          "text": [
            "Loaded 8 episodes from v1084\n",
            "Downloading artifact version: mahin-sank-iit-kgp/alpha-racer-data/alpha_racer_multi_mpc_combined:v1085\n"
          ]
        },
        {
          "name": "stderr",
          "output_type": "stream",
          "text": [
            "\u001b[34m\u001b[1mwandb\u001b[0m:   1 of 1 files downloaded.  \n"
          ]
        },
        {
          "name": "stdout",
          "output_type": "stream",
          "text": [
            "Loaded 8 episodes from v1085\n",
            "Downloading artifact version: mahin-sank-iit-kgp/alpha-racer-data/alpha_racer_multi_mpc_combined:v1086\n"
          ]
        },
        {
          "name": "stderr",
          "output_type": "stream",
          "text": [
            "\u001b[34m\u001b[1mwandb\u001b[0m:   1 of 1 files downloaded.  \n"
          ]
        },
        {
          "name": "stdout",
          "output_type": "stream",
          "text": [
            "Loaded 25 episodes from v1086\n",
            "Downloading artifact version: mahin-sank-iit-kgp/alpha-racer-data/alpha_racer_multi_mpc_combined:v1087\n"
          ]
        },
        {
          "name": "stderr",
          "output_type": "stream",
          "text": [
            "\u001b[34m\u001b[1mwandb\u001b[0m:   1 of 1 files downloaded.  \n"
          ]
        },
        {
          "name": "stdout",
          "output_type": "stream",
          "text": [
            "Loaded 25 episodes from v1087\n",
            "Downloading artifact version: mahin-sank-iit-kgp/alpha-racer-data/alpha_racer_multi_mpc_combined:v1088\n"
          ]
        },
        {
          "name": "stderr",
          "output_type": "stream",
          "text": [
            "\u001b[34m\u001b[1mwandb\u001b[0m:   1 of 1 files downloaded.  \n"
          ]
        },
        {
          "name": "stdout",
          "output_type": "stream",
          "text": [
            "Loaded 25 episodes from v1088\n",
            "Downloading artifact version: mahin-sank-iit-kgp/alpha-racer-data/alpha_racer_multi_mpc_combined:v1089\n"
          ]
        },
        {
          "name": "stderr",
          "output_type": "stream",
          "text": [
            "\u001b[34m\u001b[1mwandb\u001b[0m:   1 of 1 files downloaded.  \n"
          ]
        },
        {
          "name": "stdout",
          "output_type": "stream",
          "text": [
            "Loaded 26 episodes from v1089\n",
            "Downloading artifact version: mahin-sank-iit-kgp/alpha-racer-data/alpha_racer_multi_mpc_combined:v1090\n"
          ]
        },
        {
          "name": "stderr",
          "output_type": "stream",
          "text": [
            "\u001b[34m\u001b[1mwandb\u001b[0m:   1 of 1 files downloaded.  \n"
          ]
        },
        {
          "name": "stdout",
          "output_type": "stream",
          "text": [
            "Loaded 26 episodes from v1090\n",
            "Downloading artifact version: mahin-sank-iit-kgp/alpha-racer-data/alpha_racer_multi_mpc_combined:v1091\n"
          ]
        },
        {
          "name": "stderr",
          "output_type": "stream",
          "text": [
            "\u001b[34m\u001b[1mwandb\u001b[0m:   1 of 1 files downloaded.  \n"
          ]
        },
        {
          "name": "stdout",
          "output_type": "stream",
          "text": [
            "Loaded 26 episodes from v1091\n",
            "Downloading artifact version: mahin-sank-iit-kgp/alpha-racer-data/alpha_racer_multi_mpc_combined:v1092\n"
          ]
        },
        {
          "name": "stderr",
          "output_type": "stream",
          "text": [
            "\u001b[34m\u001b[1mwandb\u001b[0m:   1 of 1 files downloaded.  \n"
          ]
        },
        {
          "name": "stdout",
          "output_type": "stream",
          "text": [
            "Loaded 25 episodes from v1092\n",
            "Downloading artifact version: mahin-sank-iit-kgp/alpha-racer-data/alpha_racer_multi_mpc_combined:v1093\n"
          ]
        },
        {
          "name": "stderr",
          "output_type": "stream",
          "text": [
            "\u001b[34m\u001b[1mwandb\u001b[0m:   1 of 1 files downloaded.  \n"
          ]
        },
        {
          "name": "stdout",
          "output_type": "stream",
          "text": [
            "Loaded 13 episodes from v1093\n",
            "Downloading artifact version: mahin-sank-iit-kgp/alpha-racer-data/alpha_racer_multi_mpc_combined:v1094\n"
          ]
        },
        {
          "name": "stderr",
          "output_type": "stream",
          "text": [
            "\u001b[34m\u001b[1mwandb\u001b[0m:   1 of 1 files downloaded.  \n"
          ]
        },
        {
          "name": "stdout",
          "output_type": "stream",
          "text": [
            "Loaded 25 episodes from v1094\n",
            "Downloading artifact version: mahin-sank-iit-kgp/alpha-racer-data/alpha_racer_multi_mpc_combined:v1095\n"
          ]
        },
        {
          "name": "stderr",
          "output_type": "stream",
          "text": [
            "\u001b[34m\u001b[1mwandb\u001b[0m:   1 of 1 files downloaded.  \n"
          ]
        },
        {
          "name": "stdout",
          "output_type": "stream",
          "text": [
            "Loaded 26 episodes from v1095\n",
            "Downloading artifact version: mahin-sank-iit-kgp/alpha-racer-data/alpha_racer_multi_mpc_combined:v1096\n"
          ]
        },
        {
          "name": "stderr",
          "output_type": "stream",
          "text": [
            "\u001b[34m\u001b[1mwandb\u001b[0m:   1 of 1 files downloaded.  \n"
          ]
        },
        {
          "name": "stdout",
          "output_type": "stream",
          "text": [
            "Loaded 25 episodes from v1096\n",
            "Downloading artifact version: mahin-sank-iit-kgp/alpha-racer-data/alpha_racer_multi_mpc_combined:v1097\n"
          ]
        },
        {
          "name": "stderr",
          "output_type": "stream",
          "text": [
            "\u001b[34m\u001b[1mwandb\u001b[0m:   1 of 1 files downloaded.  \n"
          ]
        },
        {
          "name": "stdout",
          "output_type": "stream",
          "text": [
            "Loaded 26 episodes from v1097\n",
            "Downloading artifact version: mahin-sank-iit-kgp/alpha-racer-data/alpha_racer_multi_mpc_combined:v1098\n"
          ]
        },
        {
          "name": "stderr",
          "output_type": "stream",
          "text": [
            "\u001b[34m\u001b[1mwandb\u001b[0m:   1 of 1 files downloaded.  \n"
          ]
        },
        {
          "name": "stdout",
          "output_type": "stream",
          "text": [
            "Loaded 25 episodes from v1098\n",
            "Downloading artifact version: mahin-sank-iit-kgp/alpha-racer-data/alpha_racer_multi_mpc_combined:v1099\n"
          ]
        },
        {
          "name": "stderr",
          "output_type": "stream",
          "text": [
            "\u001b[34m\u001b[1mwandb\u001b[0m:   1 of 1 files downloaded.  \n"
          ]
        },
        {
          "name": "stdout",
          "output_type": "stream",
          "text": [
            "Loaded 25 episodes from v1099\n",
            "Downloading artifact version: mahin-sank-iit-kgp/alpha-racer-data/alpha_racer_multi_mpc_combined:v1100\n"
          ]
        },
        {
          "name": "stderr",
          "output_type": "stream",
          "text": [
            "\u001b[34m\u001b[1mwandb\u001b[0m:   1 of 1 files downloaded.  \n"
          ]
        },
        {
          "name": "stdout",
          "output_type": "stream",
          "text": [
            "Loaded 25 episodes from v1100\n",
            "Downloading artifact version: mahin-sank-iit-kgp/alpha-racer-data/alpha_racer_multi_mpc_combined:v1101\n"
          ]
        },
        {
          "name": "stderr",
          "output_type": "stream",
          "text": [
            "\u001b[34m\u001b[1mwandb\u001b[0m:   1 of 1 files downloaded.  \n"
          ]
        },
        {
          "name": "stdout",
          "output_type": "stream",
          "text": [
            "Loaded 26 episodes from v1101\n",
            "Downloading artifact version: mahin-sank-iit-kgp/alpha-racer-data/alpha_racer_multi_mpc_combined:v1102\n"
          ]
        },
        {
          "name": "stderr",
          "output_type": "stream",
          "text": [
            "\u001b[34m\u001b[1mwandb\u001b[0m:   1 of 1 files downloaded.  \n"
          ]
        },
        {
          "name": "stdout",
          "output_type": "stream",
          "text": [
            "Loaded 26 episodes from v1102\n",
            "Downloading artifact version: mahin-sank-iit-kgp/alpha-racer-data/alpha_racer_multi_mpc_combined:v1103\n"
          ]
        },
        {
          "name": "stderr",
          "output_type": "stream",
          "text": [
            "\u001b[34m\u001b[1mwandb\u001b[0m:   1 of 1 files downloaded.  \n"
          ]
        },
        {
          "name": "stdout",
          "output_type": "stream",
          "text": [
            "Loaded 26 episodes from v1103\n",
            "Downloading artifact version: mahin-sank-iit-kgp/alpha-racer-data/alpha_racer_multi_mpc_combined:v1104\n"
          ]
        },
        {
          "name": "stderr",
          "output_type": "stream",
          "text": [
            "\u001b[34m\u001b[1mwandb\u001b[0m:   1 of 1 files downloaded.  \n"
          ]
        },
        {
          "name": "stdout",
          "output_type": "stream",
          "text": [
            "Loaded 26 episodes from v1104\n",
            "Downloading artifact version: mahin-sank-iit-kgp/alpha-racer-data/alpha_racer_multi_mpc_combined:v1105\n"
          ]
        },
        {
          "name": "stderr",
          "output_type": "stream",
          "text": [
            "\u001b[34m\u001b[1mwandb\u001b[0m:   1 of 1 files downloaded.  \n"
          ]
        },
        {
          "name": "stdout",
          "output_type": "stream",
          "text": [
            "Loaded 13 episodes from v1105\n",
            "Downloading artifact version: mahin-sank-iit-kgp/alpha-racer-data/alpha_racer_multi_mpc_combined:v1106\n"
          ]
        },
        {
          "name": "stderr",
          "output_type": "stream",
          "text": [
            "\u001b[34m\u001b[1mwandb\u001b[0m:   1 of 1 files downloaded.  \n"
          ]
        },
        {
          "name": "stdout",
          "output_type": "stream",
          "text": [
            "Loaded 8 episodes from v1106\n",
            "Downloading artifact version: mahin-sank-iit-kgp/alpha-racer-data/alpha_racer_multi_mpc_combined:v1107\n"
          ]
        },
        {
          "name": "stderr",
          "output_type": "stream",
          "text": [
            "\u001b[34m\u001b[1mwandb\u001b[0m:   1 of 1 files downloaded.  \n"
          ]
        },
        {
          "name": "stdout",
          "output_type": "stream",
          "text": [
            "Loaded 13 episodes from v1107\n",
            "Downloading artifact version: mahin-sank-iit-kgp/alpha-racer-data/alpha_racer_multi_mpc_combined:v1108\n"
          ]
        },
        {
          "name": "stderr",
          "output_type": "stream",
          "text": [
            "\u001b[34m\u001b[1mwandb\u001b[0m:   1 of 1 files downloaded.  \n"
          ]
        },
        {
          "name": "stdout",
          "output_type": "stream",
          "text": [
            "Loaded 8 episodes from v1108\n",
            "Downloading artifact version: mahin-sank-iit-kgp/alpha-racer-data/alpha_racer_multi_mpc_combined:v1109\n"
          ]
        },
        {
          "name": "stderr",
          "output_type": "stream",
          "text": [
            "\u001b[34m\u001b[1mwandb\u001b[0m:   1 of 1 files downloaded.  \n"
          ]
        },
        {
          "name": "stdout",
          "output_type": "stream",
          "text": [
            "Loaded 13 episodes from v1109\n",
            "Downloading artifact version: mahin-sank-iit-kgp/alpha-racer-data/alpha_racer_multi_mpc_combined:v1110\n"
          ]
        },
        {
          "name": "stderr",
          "output_type": "stream",
          "text": [
            "\u001b[34m\u001b[1mwandb\u001b[0m:   1 of 1 files downloaded.  \n"
          ]
        },
        {
          "name": "stdout",
          "output_type": "stream",
          "text": [
            "Loaded 8 episodes from v1110\n",
            "Downloading artifact version: mahin-sank-iit-kgp/alpha-racer-data/alpha_racer_multi_mpc_combined:v1111\n"
          ]
        },
        {
          "name": "stderr",
          "output_type": "stream",
          "text": [
            "\u001b[34m\u001b[1mwandb\u001b[0m:   1 of 1 files downloaded.  \n"
          ]
        },
        {
          "name": "stdout",
          "output_type": "stream",
          "text": [
            "Loaded 13 episodes from v1111\n",
            "Downloading artifact version: mahin-sank-iit-kgp/alpha-racer-data/alpha_racer_multi_mpc_combined:v1112\n"
          ]
        },
        {
          "name": "stderr",
          "output_type": "stream",
          "text": [
            "\u001b[34m\u001b[1mwandb\u001b[0m:   1 of 1 files downloaded.  \n"
          ]
        },
        {
          "name": "stdout",
          "output_type": "stream",
          "text": [
            "Loaded 13 episodes from v1112\n",
            "Downloading artifact version: mahin-sank-iit-kgp/alpha-racer-data/alpha_racer_multi_mpc_combined:v1113\n"
          ]
        },
        {
          "name": "stderr",
          "output_type": "stream",
          "text": [
            "\u001b[34m\u001b[1mwandb\u001b[0m:   1 of 1 files downloaded.  \n"
          ]
        },
        {
          "name": "stdout",
          "output_type": "stream",
          "text": [
            "Loaded 13 episodes from v1113\n",
            "Downloading artifact version: mahin-sank-iit-kgp/alpha-racer-data/alpha_racer_multi_mpc_combined:v1114\n"
          ]
        },
        {
          "name": "stderr",
          "output_type": "stream",
          "text": [
            "\u001b[34m\u001b[1mwandb\u001b[0m:   1 of 1 files downloaded.  \n"
          ]
        },
        {
          "name": "stdout",
          "output_type": "stream",
          "text": [
            "Loaded 8 episodes from v1114\n",
            "Downloading artifact version: mahin-sank-iit-kgp/alpha-racer-data/alpha_racer_multi_mpc_combined:v1115\n"
          ]
        },
        {
          "name": "stderr",
          "output_type": "stream",
          "text": [
            "\u001b[34m\u001b[1mwandb\u001b[0m:   1 of 1 files downloaded.  \n"
          ]
        },
        {
          "name": "stdout",
          "output_type": "stream",
          "text": [
            "Loaded 8 episodes from v1115\n",
            "Downloading artifact version: mahin-sank-iit-kgp/alpha-racer-data/alpha_racer_multi_mpc_combined:v1116\n"
          ]
        },
        {
          "name": "stderr",
          "output_type": "stream",
          "text": [
            "\u001b[34m\u001b[1mwandb\u001b[0m:   1 of 1 files downloaded.  \n"
          ]
        },
        {
          "name": "stdout",
          "output_type": "stream",
          "text": [
            "Loaded 13 episodes from v1116\n",
            "Downloading artifact version: mahin-sank-iit-kgp/alpha-racer-data/alpha_racer_multi_mpc_combined:v1117\n"
          ]
        },
        {
          "name": "stderr",
          "output_type": "stream",
          "text": [
            "\u001b[34m\u001b[1mwandb\u001b[0m:   1 of 1 files downloaded.  \n"
          ]
        },
        {
          "name": "stdout",
          "output_type": "stream",
          "text": [
            "Loaded 13 episodes from v1117\n",
            "Downloading artifact version: mahin-sank-iit-kgp/alpha-racer-data/alpha_racer_multi_mpc_combined:v1118\n"
          ]
        },
        {
          "name": "stderr",
          "output_type": "stream",
          "text": [
            "\u001b[34m\u001b[1mwandb\u001b[0m:   1 of 1 files downloaded.  \n"
          ]
        },
        {
          "name": "stdout",
          "output_type": "stream",
          "text": [
            "Loaded 13 episodes from v1118\n",
            "Downloading artifact version: mahin-sank-iit-kgp/alpha-racer-data/alpha_racer_multi_mpc_combined:v1119\n"
          ]
        },
        {
          "name": "stderr",
          "output_type": "stream",
          "text": [
            "\u001b[34m\u001b[1mwandb\u001b[0m:   1 of 1 files downloaded.  \n"
          ]
        },
        {
          "name": "stdout",
          "output_type": "stream",
          "text": [
            "Loaded 8 episodes from v1119\n",
            "Downloading artifact version: mahin-sank-iit-kgp/alpha-racer-data/alpha_racer_multi_mpc_combined:v1120\n"
          ]
        },
        {
          "name": "stderr",
          "output_type": "stream",
          "text": [
            "\u001b[34m\u001b[1mwandb\u001b[0m:   1 of 1 files downloaded.  \n"
          ]
        },
        {
          "name": "stdout",
          "output_type": "stream",
          "text": [
            "Loaded 8 episodes from v1120\n",
            "Downloading artifact version: mahin-sank-iit-kgp/alpha-racer-data/alpha_racer_multi_mpc_combined:v1121\n"
          ]
        },
        {
          "name": "stderr",
          "output_type": "stream",
          "text": [
            "\u001b[34m\u001b[1mwandb\u001b[0m:   1 of 1 files downloaded.  \n"
          ]
        },
        {
          "name": "stdout",
          "output_type": "stream",
          "text": [
            "Loaded 8 episodes from v1121\n",
            "Downloading artifact version: mahin-sank-iit-kgp/alpha-racer-data/alpha_racer_multi_mpc_combined:v1122\n"
          ]
        },
        {
          "name": "stderr",
          "output_type": "stream",
          "text": [
            "\u001b[34m\u001b[1mwandb\u001b[0m:   1 of 1 files downloaded.  \n"
          ]
        },
        {
          "name": "stdout",
          "output_type": "stream",
          "text": [
            "Loaded 14 episodes from v1122\n",
            "Downloading artifact version: mahin-sank-iit-kgp/alpha-racer-data/alpha_racer_multi_mpc_combined:v1123\n"
          ]
        },
        {
          "name": "stderr",
          "output_type": "stream",
          "text": [
            "\u001b[34m\u001b[1mwandb\u001b[0m:   1 of 1 files downloaded.  \n"
          ]
        },
        {
          "name": "stdout",
          "output_type": "stream",
          "text": [
            "Loaded 14 episodes from v1123\n",
            "Downloading artifact version: mahin-sank-iit-kgp/alpha-racer-data/alpha_racer_multi_mpc_combined:v1124\n"
          ]
        },
        {
          "name": "stderr",
          "output_type": "stream",
          "text": [
            "\u001b[34m\u001b[1mwandb\u001b[0m:   1 of 1 files downloaded.  \n"
          ]
        },
        {
          "name": "stdout",
          "output_type": "stream",
          "text": [
            "Loaded 14 episodes from v1124\n",
            "Downloading artifact version: mahin-sank-iit-kgp/alpha-racer-data/alpha_racer_multi_mpc_combined:v1125\n"
          ]
        },
        {
          "name": "stderr",
          "output_type": "stream",
          "text": [
            "\u001b[34m\u001b[1mwandb\u001b[0m:   1 of 1 files downloaded.  \n"
          ]
        },
        {
          "name": "stdout",
          "output_type": "stream",
          "text": [
            "Loaded 14 episodes from v1125\n",
            "Downloading artifact version: mahin-sank-iit-kgp/alpha-racer-data/alpha_racer_multi_mpc_combined:v1126\n"
          ]
        },
        {
          "name": "stderr",
          "output_type": "stream",
          "text": [
            "\u001b[34m\u001b[1mwandb\u001b[0m:   1 of 1 files downloaded.  \n"
          ]
        },
        {
          "name": "stdout",
          "output_type": "stream",
          "text": [
            "Loaded 14 episodes from v1126\n",
            "Downloading artifact version: mahin-sank-iit-kgp/alpha-racer-data/alpha_racer_multi_mpc_combined:v1127\n"
          ]
        },
        {
          "name": "stderr",
          "output_type": "stream",
          "text": [
            "\u001b[34m\u001b[1mwandb\u001b[0m:   1 of 1 files downloaded.  \n"
          ]
        },
        {
          "name": "stdout",
          "output_type": "stream",
          "text": [
            "Loaded 14 episodes from v1127\n",
            "Downloading artifact version: mahin-sank-iit-kgp/alpha-racer-data/alpha_racer_multi_mpc_combined:v1128\n"
          ]
        },
        {
          "name": "stderr",
          "output_type": "stream",
          "text": [
            "\u001b[34m\u001b[1mwandb\u001b[0m:   1 of 1 files downloaded.  \n"
          ]
        },
        {
          "name": "stdout",
          "output_type": "stream",
          "text": [
            "Loaded 14 episodes from v1128\n",
            "Downloading artifact version: mahin-sank-iit-kgp/alpha-racer-data/alpha_racer_multi_mpc_combined:v1129\n"
          ]
        },
        {
          "name": "stderr",
          "output_type": "stream",
          "text": [
            "\u001b[34m\u001b[1mwandb\u001b[0m:   1 of 1 files downloaded.  \n"
          ]
        },
        {
          "name": "stdout",
          "output_type": "stream",
          "text": [
            "Loaded 14 episodes from v1129\n",
            "Downloading artifact version: mahin-sank-iit-kgp/alpha-racer-data/alpha_racer_multi_mpc_combined:v1130\n"
          ]
        },
        {
          "name": "stderr",
          "output_type": "stream",
          "text": [
            "\u001b[34m\u001b[1mwandb\u001b[0m:   1 of 1 files downloaded.  \n"
          ]
        },
        {
          "name": "stdout",
          "output_type": "stream",
          "text": [
            "Loaded 14 episodes from v1130\n",
            "Downloading artifact version: mahin-sank-iit-kgp/alpha-racer-data/alpha_racer_multi_mpc_combined:v1131\n"
          ]
        },
        {
          "name": "stderr",
          "output_type": "stream",
          "text": [
            "\u001b[34m\u001b[1mwandb\u001b[0m:   1 of 1 files downloaded.  \n"
          ]
        },
        {
          "name": "stdout",
          "output_type": "stream",
          "text": [
            "Loaded 14 episodes from v1131\n",
            "Downloading artifact version: mahin-sank-iit-kgp/alpha-racer-data/alpha_racer_multi_mpc_combined:v1132\n"
          ]
        },
        {
          "name": "stderr",
          "output_type": "stream",
          "text": [
            "\u001b[34m\u001b[1mwandb\u001b[0m:   1 of 1 files downloaded.  \n"
          ]
        },
        {
          "name": "stdout",
          "output_type": "stream",
          "text": [
            "Loaded 9 episodes from v1132\n",
            "Downloading artifact version: mahin-sank-iit-kgp/alpha-racer-data/alpha_racer_multi_mpc_combined:v1133\n"
          ]
        },
        {
          "name": "stderr",
          "output_type": "stream",
          "text": [
            "\u001b[34m\u001b[1mwandb\u001b[0m:   1 of 1 files downloaded.  \n"
          ]
        },
        {
          "name": "stdout",
          "output_type": "stream",
          "text": [
            "Loaded 9 episodes from v1133\n",
            "Downloading artifact version: mahin-sank-iit-kgp/alpha-racer-data/alpha_racer_multi_mpc_combined:v1134\n"
          ]
        },
        {
          "name": "stderr",
          "output_type": "stream",
          "text": [
            "\u001b[34m\u001b[1mwandb\u001b[0m:   1 of 1 files downloaded.  \n"
          ]
        },
        {
          "name": "stdout",
          "output_type": "stream",
          "text": [
            "Loaded 15 episodes from v1134\n",
            "Downloading artifact version: mahin-sank-iit-kgp/alpha-racer-data/alpha_racer_multi_mpc_combined:v1135\n"
          ]
        },
        {
          "name": "stderr",
          "output_type": "stream",
          "text": [
            "\u001b[34m\u001b[1mwandb\u001b[0m:   1 of 1 files downloaded.  \n"
          ]
        },
        {
          "name": "stdout",
          "output_type": "stream",
          "text": [
            "Loaded 15 episodes from v1135\n",
            "Downloading artifact version: mahin-sank-iit-kgp/alpha-racer-data/alpha_racer_multi_mpc_combined:v1136\n"
          ]
        },
        {
          "name": "stderr",
          "output_type": "stream",
          "text": [
            "\u001b[34m\u001b[1mwandb\u001b[0m:   1 of 1 files downloaded.  \n"
          ]
        },
        {
          "name": "stdout",
          "output_type": "stream",
          "text": [
            "Loaded 9 episodes from v1136\n",
            "Downloading artifact version: mahin-sank-iit-kgp/alpha-racer-data/alpha_racer_multi_mpc_combined:v1137\n"
          ]
        },
        {
          "name": "stderr",
          "output_type": "stream",
          "text": [
            "\u001b[34m\u001b[1mwandb\u001b[0m:   1 of 1 files downloaded.  \n"
          ]
        },
        {
          "name": "stdout",
          "output_type": "stream",
          "text": [
            "Loaded 15 episodes from v1137\n",
            "Downloading artifact version: mahin-sank-iit-kgp/alpha-racer-data/alpha_racer_multi_mpc_combined:v1138\n"
          ]
        },
        {
          "name": "stderr",
          "output_type": "stream",
          "text": [
            "\u001b[34m\u001b[1mwandb\u001b[0m:   1 of 1 files downloaded.  \n"
          ]
        },
        {
          "name": "stdout",
          "output_type": "stream",
          "text": [
            "Loaded 9 episodes from v1138\n",
            "Downloading artifact version: mahin-sank-iit-kgp/alpha-racer-data/alpha_racer_multi_mpc_combined:v1139\n"
          ]
        },
        {
          "name": "stderr",
          "output_type": "stream",
          "text": [
            "\u001b[34m\u001b[1mwandb\u001b[0m:   1 of 1 files downloaded.  \n"
          ]
        },
        {
          "name": "stdout",
          "output_type": "stream",
          "text": [
            "Loaded 15 episodes from v1139\n",
            "Downloading artifact version: mahin-sank-iit-kgp/alpha-racer-data/alpha_racer_multi_mpc_combined:v1140\n"
          ]
        },
        {
          "name": "stderr",
          "output_type": "stream",
          "text": [
            "\u001b[34m\u001b[1mwandb\u001b[0m:   1 of 1 files downloaded.  \n"
          ]
        },
        {
          "name": "stdout",
          "output_type": "stream",
          "text": [
            "Loaded 15 episodes from v1140\n",
            "Downloading artifact version: mahin-sank-iit-kgp/alpha-racer-data/alpha_racer_multi_mpc_combined:v1141\n"
          ]
        },
        {
          "name": "stderr",
          "output_type": "stream",
          "text": [
            "\u001b[34m\u001b[1mwandb\u001b[0m:   1 of 1 files downloaded.  \n"
          ]
        },
        {
          "name": "stdout",
          "output_type": "stream",
          "text": [
            "Loaded 15 episodes from v1141\n",
            "Downloading artifact version: mahin-sank-iit-kgp/alpha-racer-data/alpha_racer_multi_mpc_combined:v1142\n"
          ]
        },
        {
          "name": "stderr",
          "output_type": "stream",
          "text": [
            "\u001b[34m\u001b[1mwandb\u001b[0m:   1 of 1 files downloaded.  \n"
          ]
        },
        {
          "name": "stdout",
          "output_type": "stream",
          "text": [
            "Loaded 9 episodes from v1142\n",
            "Downloading artifact version: mahin-sank-iit-kgp/alpha-racer-data/alpha_racer_multi_mpc_combined:v1143\n"
          ]
        },
        {
          "name": "stderr",
          "output_type": "stream",
          "text": [
            "\u001b[34m\u001b[1mwandb\u001b[0m:   1 of 1 files downloaded.  \n"
          ]
        },
        {
          "name": "stdout",
          "output_type": "stream",
          "text": [
            "Loaded 9 episodes from v1143\n",
            "Downloading artifact version: mahin-sank-iit-kgp/alpha-racer-data/alpha_racer_multi_mpc_combined:v1144\n"
          ]
        },
        {
          "name": "stderr",
          "output_type": "stream",
          "text": [
            "\u001b[34m\u001b[1mwandb\u001b[0m:   1 of 1 files downloaded.  \n"
          ]
        },
        {
          "name": "stdout",
          "output_type": "stream",
          "text": [
            "Loaded 9 episodes from v1144\n",
            "Downloading artifact version: mahin-sank-iit-kgp/alpha-racer-data/alpha_racer_multi_mpc_combined:v1145\n"
          ]
        },
        {
          "name": "stderr",
          "output_type": "stream",
          "text": [
            "\u001b[34m\u001b[1mwandb\u001b[0m:   1 of 1 files downloaded.  \n"
          ]
        },
        {
          "name": "stdout",
          "output_type": "stream",
          "text": [
            "Loaded 15 episodes from v1145\n",
            "Downloading artifact version: mahin-sank-iit-kgp/alpha-racer-data/alpha_racer_multi_mpc_combined:v1146\n"
          ]
        },
        {
          "name": "stderr",
          "output_type": "stream",
          "text": [
            "\u001b[34m\u001b[1mwandb\u001b[0m:   1 of 1 files downloaded.  \n"
          ]
        },
        {
          "name": "stdout",
          "output_type": "stream",
          "text": [
            "Loaded 15 episodes from v1146\n",
            "Downloading artifact version: mahin-sank-iit-kgp/alpha-racer-data/alpha_racer_multi_mpc_combined:v1147\n"
          ]
        },
        {
          "name": "stderr",
          "output_type": "stream",
          "text": [
            "\u001b[34m\u001b[1mwandb\u001b[0m:   1 of 1 files downloaded.  \n"
          ]
        },
        {
          "name": "stdout",
          "output_type": "stream",
          "text": [
            "Loaded 15 episodes from v1147\n",
            "Downloading artifact version: mahin-sank-iit-kgp/alpha-racer-data/alpha_racer_multi_mpc_combined:v1148\n"
          ]
        },
        {
          "name": "stderr",
          "output_type": "stream",
          "text": [
            "\u001b[34m\u001b[1mwandb\u001b[0m:   1 of 1 files downloaded.  \n"
          ]
        },
        {
          "name": "stdout",
          "output_type": "stream",
          "text": [
            "Loaded 15 episodes from v1148\n",
            "Downloading artifact version: mahin-sank-iit-kgp/alpha-racer-data/alpha_racer_multi_mpc_combined:v1149\n"
          ]
        },
        {
          "name": "stderr",
          "output_type": "stream",
          "text": [
            "\u001b[34m\u001b[1mwandb\u001b[0m:   1 of 1 files downloaded.  \n"
          ]
        },
        {
          "name": "stdout",
          "output_type": "stream",
          "text": [
            "Loaded 2 episodes from v1149\n",
            "Downloading artifact version: mahin-sank-iit-kgp/alpha-racer-data/alpha_racer_multi_mpc_combined:v1150\n"
          ]
        },
        {
          "name": "stderr",
          "output_type": "stream",
          "text": [
            "\u001b[34m\u001b[1mwandb\u001b[0m:   1 of 1 files downloaded.  \n"
          ]
        },
        {
          "name": "stdout",
          "output_type": "stream",
          "text": [
            "Loaded 9 episodes from v1150\n",
            "Downloading artifact version: mahin-sank-iit-kgp/alpha-racer-data/alpha_racer_multi_mpc_combined:v1151\n"
          ]
        },
        {
          "name": "stderr",
          "output_type": "stream",
          "text": [
            "\u001b[34m\u001b[1mwandb\u001b[0m:   1 of 1 files downloaded.  \n"
          ]
        },
        {
          "name": "stdout",
          "output_type": "stream",
          "text": [
            "Loaded 2 episodes from v1151\n",
            "Downloading artifact version: mahin-sank-iit-kgp/alpha-racer-data/alpha_racer_multi_mpc_combined:v1152\n"
          ]
        },
        {
          "name": "stderr",
          "output_type": "stream",
          "text": [
            "\u001b[34m\u001b[1mwandb\u001b[0m:   1 of 1 files downloaded.  \n"
          ]
        },
        {
          "name": "stdout",
          "output_type": "stream",
          "text": [
            "Loaded 2 episodes from v1152\n",
            "Downloading artifact version: mahin-sank-iit-kgp/alpha-racer-data/alpha_racer_multi_mpc_combined:v1153\n"
          ]
        },
        {
          "name": "stderr",
          "output_type": "stream",
          "text": [
            "\u001b[34m\u001b[1mwandb\u001b[0m:   1 of 1 files downloaded.  \n"
          ]
        },
        {
          "name": "stdout",
          "output_type": "stream",
          "text": [
            "Loaded 16 episodes from v1153\n",
            "Downloading artifact version: mahin-sank-iit-kgp/alpha-racer-data/alpha_racer_multi_mpc_combined:v1154\n"
          ]
        },
        {
          "name": "stderr",
          "output_type": "stream",
          "text": [
            "\u001b[34m\u001b[1mwandb\u001b[0m:   1 of 1 files downloaded.  \n"
          ]
        },
        {
          "name": "stdout",
          "output_type": "stream",
          "text": [
            "Loaded 9 episodes from v1154\n",
            "Downloading artifact version: mahin-sank-iit-kgp/alpha-racer-data/alpha_racer_multi_mpc_combined:v1155\n"
          ]
        },
        {
          "name": "stderr",
          "output_type": "stream",
          "text": [
            "\u001b[34m\u001b[1mwandb\u001b[0m:   1 of 1 files downloaded.  \n"
          ]
        },
        {
          "name": "stdout",
          "output_type": "stream",
          "text": [
            "Loaded 2 episodes from v1155\n",
            "Downloading artifact version: mahin-sank-iit-kgp/alpha-racer-data/alpha_racer_multi_mpc_combined:v1156\n"
          ]
        },
        {
          "name": "stderr",
          "output_type": "stream",
          "text": [
            "\u001b[34m\u001b[1mwandb\u001b[0m:   1 of 1 files downloaded.  \n"
          ]
        },
        {
          "name": "stdout",
          "output_type": "stream",
          "text": [
            "Loaded 2 episodes from v1156\n",
            "Downloading artifact version: mahin-sank-iit-kgp/alpha-racer-data/alpha_racer_multi_mpc_combined:v1157\n"
          ]
        },
        {
          "name": "stderr",
          "output_type": "stream",
          "text": [
            "\u001b[34m\u001b[1mwandb\u001b[0m:   1 of 1 files downloaded.  \n"
          ]
        },
        {
          "name": "stdout",
          "output_type": "stream",
          "text": [
            "Loaded 2 episodes from v1157\n",
            "Downloading artifact version: mahin-sank-iit-kgp/alpha-racer-data/alpha_racer_multi_mpc_combined:v1158\n"
          ]
        },
        {
          "name": "stderr",
          "output_type": "stream",
          "text": [
            "\u001b[34m\u001b[1mwandb\u001b[0m:   1 of 1 files downloaded.  \n"
          ]
        },
        {
          "name": "stdout",
          "output_type": "stream",
          "text": [
            "Loaded 16 episodes from v1158\n",
            "Downloading artifact version: mahin-sank-iit-kgp/alpha-racer-data/alpha_racer_multi_mpc_combined:v1159\n"
          ]
        },
        {
          "name": "stderr",
          "output_type": "stream",
          "text": [
            "\u001b[34m\u001b[1mwandb\u001b[0m:   1 of 1 files downloaded.  \n"
          ]
        },
        {
          "name": "stdout",
          "output_type": "stream",
          "text": [
            "Loaded 2 episodes from v1159\n",
            "Downloading artifact version: mahin-sank-iit-kgp/alpha-racer-data/alpha_racer_multi_mpc_combined:v1160\n"
          ]
        },
        {
          "name": "stderr",
          "output_type": "stream",
          "text": [
            "\u001b[34m\u001b[1mwandb\u001b[0m:   1 of 1 files downloaded.  \n"
          ]
        },
        {
          "name": "stdout",
          "output_type": "stream",
          "text": [
            "Loaded 9 episodes from v1160\n",
            "Downloading artifact version: mahin-sank-iit-kgp/alpha-racer-data/alpha_racer_multi_mpc_combined:v1161\n"
          ]
        },
        {
          "name": "stderr",
          "output_type": "stream",
          "text": [
            "\u001b[34m\u001b[1mwandb\u001b[0m:   1 of 1 files downloaded.  \n"
          ]
        },
        {
          "name": "stdout",
          "output_type": "stream",
          "text": [
            "Loaded 2 episodes from v1161\n",
            "Downloading artifact version: mahin-sank-iit-kgp/alpha-racer-data/alpha_racer_multi_mpc_combined:v1162\n"
          ]
        },
        {
          "name": "stderr",
          "output_type": "stream",
          "text": [
            "\u001b[34m\u001b[1mwandb\u001b[0m:   1 of 1 files downloaded.  \n"
          ]
        },
        {
          "name": "stdout",
          "output_type": "stream",
          "text": [
            "Loaded 2 episodes from v1162\n",
            "Downloading artifact version: mahin-sank-iit-kgp/alpha-racer-data/alpha_racer_multi_mpc_combined:v1163\n"
          ]
        },
        {
          "name": "stderr",
          "output_type": "stream",
          "text": [
            "\u001b[34m\u001b[1mwandb\u001b[0m:   1 of 1 files downloaded.  \n"
          ]
        },
        {
          "name": "stdout",
          "output_type": "stream",
          "text": [
            "Loaded 2 episodes from v1163\n",
            "Downloading artifact version: mahin-sank-iit-kgp/alpha-racer-data/alpha_racer_multi_mpc_combined:v1164\n"
          ]
        },
        {
          "name": "stderr",
          "output_type": "stream",
          "text": [
            "\u001b[34m\u001b[1mwandb\u001b[0m:   1 of 1 files downloaded.  \n"
          ]
        },
        {
          "name": "stdout",
          "output_type": "stream",
          "text": [
            "Loaded 16 episodes from v1164\n",
            "Downloading artifact version: mahin-sank-iit-kgp/alpha-racer-data/alpha_racer_multi_mpc_combined:v1165\n"
          ]
        },
        {
          "name": "stderr",
          "output_type": "stream",
          "text": [
            "\u001b[34m\u001b[1mwandb\u001b[0m:   1 of 1 files downloaded.  \n"
          ]
        },
        {
          "name": "stdout",
          "output_type": "stream",
          "text": [
            "Loaded 16 episodes from v1165\n",
            "Downloading artifact version: mahin-sank-iit-kgp/alpha-racer-data/alpha_racer_multi_mpc_combined:v1166\n"
          ]
        },
        {
          "name": "stderr",
          "output_type": "stream",
          "text": [
            "\u001b[34m\u001b[1mwandb\u001b[0m:   1 of 1 files downloaded.  \n"
          ]
        },
        {
          "name": "stdout",
          "output_type": "stream",
          "text": [
            "Loaded 3 episodes from v1166\n",
            "Downloading artifact version: mahin-sank-iit-kgp/alpha-racer-data/alpha_racer_multi_mpc_combined:v1167\n"
          ]
        },
        {
          "name": "stderr",
          "output_type": "stream",
          "text": [
            "\u001b[34m\u001b[1mwandb\u001b[0m:   1 of 1 files downloaded.  \n"
          ]
        },
        {
          "name": "stdout",
          "output_type": "stream",
          "text": [
            "Loaded 16 episodes from v1167\n",
            "Downloading artifact version: mahin-sank-iit-kgp/alpha-racer-data/alpha_racer_multi_mpc_combined:v1168\n"
          ]
        },
        {
          "name": "stderr",
          "output_type": "stream",
          "text": [
            "\u001b[34m\u001b[1mwandb\u001b[0m:   1 of 1 files downloaded.  \n"
          ]
        },
        {
          "name": "stdout",
          "output_type": "stream",
          "text": [
            "Loaded 3 episodes from v1168\n",
            "Downloading artifact version: mahin-sank-iit-kgp/alpha-racer-data/alpha_racer_multi_mpc_combined:v1169\n"
          ]
        },
        {
          "name": "stderr",
          "output_type": "stream",
          "text": [
            "\u001b[34m\u001b[1mwandb\u001b[0m:   1 of 1 files downloaded.  \n"
          ]
        },
        {
          "name": "stdout",
          "output_type": "stream",
          "text": [
            "Loaded 16 episodes from v1169\n",
            "Downloading artifact version: mahin-sank-iit-kgp/alpha-racer-data/alpha_racer_multi_mpc_combined:v1170\n"
          ]
        },
        {
          "name": "stderr",
          "output_type": "stream",
          "text": [
            "\u001b[34m\u001b[1mwandb\u001b[0m:   1 of 1 files downloaded.  \n"
          ]
        },
        {
          "name": "stdout",
          "output_type": "stream",
          "text": [
            "Loaded 3 episodes from v1170\n",
            "Downloading artifact version: mahin-sank-iit-kgp/alpha-racer-data/alpha_racer_multi_mpc_combined:v1171\n"
          ]
        },
        {
          "name": "stderr",
          "output_type": "stream",
          "text": [
            "\u001b[34m\u001b[1mwandb\u001b[0m:   1 of 1 files downloaded.  \n"
          ]
        },
        {
          "name": "stdout",
          "output_type": "stream",
          "text": [
            "Loaded 3 episodes from v1171\n",
            "Downloading artifact version: mahin-sank-iit-kgp/alpha-racer-data/alpha_racer_multi_mpc_combined:v1172\n"
          ]
        },
        {
          "name": "stderr",
          "output_type": "stream",
          "text": [
            "\u001b[34m\u001b[1mwandb\u001b[0m:   1 of 1 files downloaded.  \n"
          ]
        },
        {
          "name": "stdout",
          "output_type": "stream",
          "text": [
            "Loaded 16 episodes from v1172\n",
            "Downloading artifact version: mahin-sank-iit-kgp/alpha-racer-data/alpha_racer_multi_mpc_combined:v1173\n"
          ]
        },
        {
          "name": "stderr",
          "output_type": "stream",
          "text": [
            "\u001b[34m\u001b[1mwandb\u001b[0m:   1 of 1 files downloaded.  \n"
          ]
        },
        {
          "name": "stdout",
          "output_type": "stream",
          "text": [
            "Loaded 16 episodes from v1173\n",
            "Downloading artifact version: mahin-sank-iit-kgp/alpha-racer-data/alpha_racer_multi_mpc_combined:v1174\n"
          ]
        },
        {
          "name": "stderr",
          "output_type": "stream",
          "text": [
            "\u001b[34m\u001b[1mwandb\u001b[0m:   1 of 1 files downloaded.  \n"
          ]
        },
        {
          "name": "stdout",
          "output_type": "stream",
          "text": [
            "Loaded 3 episodes from v1174\n",
            "Downloading artifact version: mahin-sank-iit-kgp/alpha-racer-data/alpha_racer_multi_mpc_combined:v1175\n"
          ]
        },
        {
          "name": "stderr",
          "output_type": "stream",
          "text": [
            "\u001b[34m\u001b[1mwandb\u001b[0m:   1 of 1 files downloaded.  \n"
          ]
        },
        {
          "name": "stdout",
          "output_type": "stream",
          "text": [
            "Loaded 3 episodes from v1175\n",
            "Downloading artifact version: mahin-sank-iit-kgp/alpha-racer-data/alpha_racer_multi_mpc_combined:v1176\n"
          ]
        },
        {
          "name": "stderr",
          "output_type": "stream",
          "text": [
            "\u001b[34m\u001b[1mwandb\u001b[0m:   1 of 1 files downloaded.  \n"
          ]
        },
        {
          "name": "stdout",
          "output_type": "stream",
          "text": [
            "Loaded 3 episodes from v1176\n",
            "Downloading artifact version: mahin-sank-iit-kgp/alpha-racer-data/alpha_racer_multi_mpc_combined:v1177\n"
          ]
        },
        {
          "name": "stderr",
          "output_type": "stream",
          "text": [
            "\u001b[34m\u001b[1mwandb\u001b[0m:   1 of 1 files downloaded.  \n"
          ]
        },
        {
          "name": "stdout",
          "output_type": "stream",
          "text": [
            "Loaded 3 episodes from v1177\n",
            "Downloading artifact version: mahin-sank-iit-kgp/alpha-racer-data/alpha_racer_multi_mpc_combined:v1178\n"
          ]
        },
        {
          "name": "stderr",
          "output_type": "stream",
          "text": [
            "\u001b[34m\u001b[1mwandb\u001b[0m:   1 of 1 files downloaded.  \n"
          ]
        },
        {
          "name": "stdout",
          "output_type": "stream",
          "text": [
            "Loaded 3 episodes from v1178\n",
            "Downloading artifact version: mahin-sank-iit-kgp/alpha-racer-data/alpha_racer_multi_mpc_combined:v1179\n"
          ]
        },
        {
          "name": "stderr",
          "output_type": "stream",
          "text": [
            "\u001b[34m\u001b[1mwandb\u001b[0m:   1 of 1 files downloaded.  \n"
          ]
        },
        {
          "name": "stdout",
          "output_type": "stream",
          "text": [
            "Loaded 16 episodes from v1179\n",
            "Downloading artifact version: mahin-sank-iit-kgp/alpha-racer-data/alpha_racer_multi_mpc_combined:v1180\n"
          ]
        },
        {
          "name": "stderr",
          "output_type": "stream",
          "text": [
            "\u001b[34m\u001b[1mwandb\u001b[0m:   1 of 1 files downloaded.  \n"
          ]
        },
        {
          "name": "stdout",
          "output_type": "stream",
          "text": [
            "Loaded 3 episodes from v1180\n",
            "Downloading artifact version: mahin-sank-iit-kgp/alpha-racer-data/alpha_racer_multi_mpc_combined:v1181\n"
          ]
        },
        {
          "name": "stderr",
          "output_type": "stream",
          "text": [
            "\u001b[34m\u001b[1mwandb\u001b[0m:   1 of 1 files downloaded.  \n"
          ]
        },
        {
          "name": "stdout",
          "output_type": "stream",
          "text": [
            "Loaded 16 episodes from v1181\n",
            "Downloading artifact version: mahin-sank-iit-kgp/alpha-racer-data/alpha_racer_multi_mpc_combined:v1182\n"
          ]
        },
        {
          "name": "stderr",
          "output_type": "stream",
          "text": [
            "\u001b[34m\u001b[1mwandb\u001b[0m:   1 of 1 files downloaded.  \n"
          ]
        },
        {
          "name": "stdout",
          "output_type": "stream",
          "text": [
            "Loaded 4 episodes from v1182\n",
            "Downloading artifact version: mahin-sank-iit-kgp/alpha-racer-data/alpha_racer_multi_mpc_combined:v1183\n"
          ]
        },
        {
          "name": "stderr",
          "output_type": "stream",
          "text": [
            "\u001b[34m\u001b[1mwandb\u001b[0m:   1 of 1 files downloaded.  \n"
          ]
        },
        {
          "name": "stdout",
          "output_type": "stream",
          "text": [
            "Loaded 4 episodes from v1183\n",
            "Downloading artifact version: mahin-sank-iit-kgp/alpha-racer-data/alpha_racer_multi_mpc_combined:v1184\n"
          ]
        },
        {
          "name": "stderr",
          "output_type": "stream",
          "text": [
            "\u001b[34m\u001b[1mwandb\u001b[0m:   1 of 1 files downloaded.  \n"
          ]
        },
        {
          "name": "stdout",
          "output_type": "stream",
          "text": [
            "Loaded 10 episodes from v1184\n",
            "Downloading artifact version: mahin-sank-iit-kgp/alpha-racer-data/alpha_racer_multi_mpc_combined:v1185\n"
          ]
        },
        {
          "name": "stderr",
          "output_type": "stream",
          "text": [
            "\u001b[34m\u001b[1mwandb\u001b[0m:   1 of 1 files downloaded.  \n"
          ]
        },
        {
          "name": "stdout",
          "output_type": "stream",
          "text": [
            "Loaded 4 episodes from v1185\n",
            "Downloading artifact version: mahin-sank-iit-kgp/alpha-racer-data/alpha_racer_multi_mpc_combined:v1186\n"
          ]
        },
        {
          "name": "stderr",
          "output_type": "stream",
          "text": [
            "\u001b[34m\u001b[1mwandb\u001b[0m:   1 of 1 files downloaded.  \n"
          ]
        },
        {
          "name": "stdout",
          "output_type": "stream",
          "text": [
            "Loaded 4 episodes from v1186\n",
            "Downloading artifact version: mahin-sank-iit-kgp/alpha-racer-data/alpha_racer_multi_mpc_combined:v1187\n"
          ]
        },
        {
          "name": "stderr",
          "output_type": "stream",
          "text": [
            "\u001b[34m\u001b[1mwandb\u001b[0m:   1 of 1 files downloaded.  \n"
          ]
        },
        {
          "name": "stdout",
          "output_type": "stream",
          "text": [
            "Loaded 4 episodes from v1187\n",
            "Downloading artifact version: mahin-sank-iit-kgp/alpha-racer-data/alpha_racer_multi_mpc_combined:v1188\n"
          ]
        },
        {
          "name": "stderr",
          "output_type": "stream",
          "text": [
            "\u001b[34m\u001b[1mwandb\u001b[0m:   1 of 1 files downloaded.  \n"
          ]
        },
        {
          "name": "stdout",
          "output_type": "stream",
          "text": [
            "Loaded 4 episodes from v1188\n",
            "Downloading artifact version: mahin-sank-iit-kgp/alpha-racer-data/alpha_racer_multi_mpc_combined:v1189\n"
          ]
        },
        {
          "name": "stderr",
          "output_type": "stream",
          "text": [
            "\u001b[34m\u001b[1mwandb\u001b[0m:   1 of 1 files downloaded.  \n"
          ]
        },
        {
          "name": "stdout",
          "output_type": "stream",
          "text": [
            "Loaded 17 episodes from v1189\n",
            "Downloading artifact version: mahin-sank-iit-kgp/alpha-racer-data/alpha_racer_multi_mpc_combined:v1190\n"
          ]
        },
        {
          "name": "stderr",
          "output_type": "stream",
          "text": [
            "\u001b[34m\u001b[1mwandb\u001b[0m:   1 of 1 files downloaded.  \n"
          ]
        },
        {
          "name": "stdout",
          "output_type": "stream",
          "text": [
            "Loaded 4 episodes from v1190\n",
            "Downloading artifact version: mahin-sank-iit-kgp/alpha-racer-data/alpha_racer_multi_mpc_combined:v1191\n"
          ]
        },
        {
          "name": "stderr",
          "output_type": "stream",
          "text": [
            "\u001b[34m\u001b[1mwandb\u001b[0m:   1 of 1 files downloaded.  \n"
          ]
        },
        {
          "name": "stdout",
          "output_type": "stream",
          "text": [
            "Loaded 10 episodes from v1191\n",
            "Downloading artifact version: mahin-sank-iit-kgp/alpha-racer-data/alpha_racer_multi_mpc_combined:v1192\n"
          ]
        },
        {
          "name": "stderr",
          "output_type": "stream",
          "text": [
            "\u001b[34m\u001b[1mwandb\u001b[0m:   1 of 1 files downloaded.  \n"
          ]
        },
        {
          "name": "stdout",
          "output_type": "stream",
          "text": [
            "Loaded 4 episodes from v1192\n",
            "Downloading artifact version: mahin-sank-iit-kgp/alpha-racer-data/alpha_racer_multi_mpc_combined:v1193\n"
          ]
        },
        {
          "name": "stderr",
          "output_type": "stream",
          "text": [
            "\u001b[34m\u001b[1mwandb\u001b[0m:   1 of 1 files downloaded.  \n"
          ]
        },
        {
          "name": "stdout",
          "output_type": "stream",
          "text": [
            "Loaded 17 episodes from v1193\n",
            "Downloading artifact version: mahin-sank-iit-kgp/alpha-racer-data/alpha_racer_multi_mpc_combined:v1194\n"
          ]
        },
        {
          "name": "stderr",
          "output_type": "stream",
          "text": [
            "\u001b[34m\u001b[1mwandb\u001b[0m:   1 of 1 files downloaded.  \n"
          ]
        },
        {
          "name": "stdout",
          "output_type": "stream",
          "text": [
            "Loaded 4 episodes from v1194\n",
            "Downloading artifact version: mahin-sank-iit-kgp/alpha-racer-data/alpha_racer_multi_mpc_combined:v1195\n"
          ]
        },
        {
          "name": "stderr",
          "output_type": "stream",
          "text": [
            "\u001b[34m\u001b[1mwandb\u001b[0m:   1 of 1 files downloaded.  \n"
          ]
        },
        {
          "name": "stdout",
          "output_type": "stream",
          "text": [
            "Loaded 4 episodes from v1195\n",
            "Downloading artifact version: mahin-sank-iit-kgp/alpha-racer-data/alpha_racer_multi_mpc_combined:v1196\n"
          ]
        },
        {
          "name": "stderr",
          "output_type": "stream",
          "text": [
            "\u001b[34m\u001b[1mwandb\u001b[0m:   1 of 1 files downloaded.  \n"
          ]
        },
        {
          "name": "stdout",
          "output_type": "stream",
          "text": [
            "Loaded 5 episodes from v1196\n",
            "Downloading artifact version: mahin-sank-iit-kgp/alpha-racer-data/alpha_racer_multi_mpc_combined:v1197\n"
          ]
        },
        {
          "name": "stderr",
          "output_type": "stream",
          "text": [
            "\u001b[34m\u001b[1mwandb\u001b[0m:   1 of 1 files downloaded.  \n"
          ]
        },
        {
          "name": "stdout",
          "output_type": "stream",
          "text": [
            "Loaded 5 episodes from v1197\n",
            "Downloading artifact version: mahin-sank-iit-kgp/alpha-racer-data/alpha_racer_multi_mpc_combined:v1198\n"
          ]
        },
        {
          "name": "stderr",
          "output_type": "stream",
          "text": [
            "\u001b[34m\u001b[1mwandb\u001b[0m:   1 of 1 files downloaded.  \n"
          ]
        },
        {
          "name": "stdout",
          "output_type": "stream",
          "text": [
            "Loaded 17 episodes from v1198\n",
            "Downloading artifact version: mahin-sank-iit-kgp/alpha-racer-data/alpha_racer_multi_mpc_combined:v1199\n"
          ]
        },
        {
          "name": "stderr",
          "output_type": "stream",
          "text": [
            "\u001b[34m\u001b[1mwandb\u001b[0m:   1 of 1 files downloaded.  \n"
          ]
        },
        {
          "name": "stdout",
          "output_type": "stream",
          "text": [
            "Loaded 5 episodes from v1199\n",
            "Downloading artifact version: mahin-sank-iit-kgp/alpha-racer-data/alpha_racer_multi_mpc_combined:v1200\n"
          ]
        },
        {
          "name": "stderr",
          "output_type": "stream",
          "text": [
            "\u001b[34m\u001b[1mwandb\u001b[0m:   1 of 1 files downloaded.  \n"
          ]
        },
        {
          "name": "stdout",
          "output_type": "stream",
          "text": [
            "Loaded 17 episodes from v1200\n",
            "Downloading artifact version: mahin-sank-iit-kgp/alpha-racer-data/alpha_racer_multi_mpc_combined:v1201\n"
          ]
        },
        {
          "name": "stderr",
          "output_type": "stream",
          "text": [
            "\u001b[34m\u001b[1mwandb\u001b[0m:   1 of 1 files downloaded.  \n"
          ]
        },
        {
          "name": "stdout",
          "output_type": "stream",
          "text": [
            "Loaded 10 episodes from v1201\n",
            "Downloading artifact version: mahin-sank-iit-kgp/alpha-racer-data/alpha_racer_multi_mpc_combined:v1202\n"
          ]
        },
        {
          "name": "stderr",
          "output_type": "stream",
          "text": [
            "\u001b[34m\u001b[1mwandb\u001b[0m:   1 of 1 files downloaded.  \n"
          ]
        },
        {
          "name": "stdout",
          "output_type": "stream",
          "text": [
            "Loaded 5 episodes from v1202\n",
            "Downloading artifact version: mahin-sank-iit-kgp/alpha-racer-data/alpha_racer_multi_mpc_combined:v1203\n"
          ]
        },
        {
          "name": "stderr",
          "output_type": "stream",
          "text": [
            "\u001b[34m\u001b[1mwandb\u001b[0m:   1 of 1 files downloaded.  \n"
          ]
        },
        {
          "name": "stdout",
          "output_type": "stream",
          "text": [
            "Loaded 17 episodes from v1203\n",
            "Downloading artifact version: mahin-sank-iit-kgp/alpha-racer-data/alpha_racer_multi_mpc_combined:v1204\n"
          ]
        },
        {
          "name": "stderr",
          "output_type": "stream",
          "text": [
            "\u001b[34m\u001b[1mwandb\u001b[0m:   1 of 1 files downloaded.  \n"
          ]
        },
        {
          "name": "stdout",
          "output_type": "stream",
          "text": [
            "Loaded 10 episodes from v1204\n",
            "Downloading artifact version: mahin-sank-iit-kgp/alpha-racer-data/alpha_racer_multi_mpc_combined:v1205\n"
          ]
        },
        {
          "name": "stderr",
          "output_type": "stream",
          "text": [
            "\u001b[34m\u001b[1mwandb\u001b[0m:   1 of 1 files downloaded.  \n"
          ]
        },
        {
          "name": "stdout",
          "output_type": "stream",
          "text": [
            "Loaded 5 episodes from v1205\n",
            "Downloading artifact version: mahin-sank-iit-kgp/alpha-racer-data/alpha_racer_multi_mpc_combined:v1206\n"
          ]
        },
        {
          "name": "stderr",
          "output_type": "stream",
          "text": [
            "\u001b[34m\u001b[1mwandb\u001b[0m:   1 of 1 files downloaded.  \n"
          ]
        },
        {
          "name": "stdout",
          "output_type": "stream",
          "text": [
            "Loaded 5 episodes from v1206\n",
            "Downloading artifact version: mahin-sank-iit-kgp/alpha-racer-data/alpha_racer_multi_mpc_combined:v1207\n"
          ]
        },
        {
          "name": "stderr",
          "output_type": "stream",
          "text": [
            "\u001b[34m\u001b[1mwandb\u001b[0m:   1 of 1 files downloaded.  \n"
          ]
        },
        {
          "name": "stdout",
          "output_type": "stream",
          "text": [
            "Loaded 17 episodes from v1207\n",
            "Downloading artifact version: mahin-sank-iit-kgp/alpha-racer-data/alpha_racer_multi_mpc_combined:v1208\n"
          ]
        },
        {
          "name": "stderr",
          "output_type": "stream",
          "text": [
            "\u001b[34m\u001b[1mwandb\u001b[0m:   1 of 1 files downloaded.  \n"
          ]
        },
        {
          "name": "stdout",
          "output_type": "stream",
          "text": [
            "Loaded 5 episodes from v1208\n",
            "Downloading artifact version: mahin-sank-iit-kgp/alpha-racer-data/alpha_racer_multi_mpc_combined:v1209\n"
          ]
        },
        {
          "name": "stderr",
          "output_type": "stream",
          "text": [
            "\u001b[34m\u001b[1mwandb\u001b[0m:   1 of 1 files downloaded.  \n"
          ]
        },
        {
          "name": "stdout",
          "output_type": "stream",
          "text": [
            "Loaded 17 episodes from v1209\n",
            "Downloading artifact version: mahin-sank-iit-kgp/alpha-racer-data/alpha_racer_multi_mpc_combined:v1210\n"
          ]
        },
        {
          "name": "stderr",
          "output_type": "stream",
          "text": [
            "\u001b[34m\u001b[1mwandb\u001b[0m:   1 of 1 files downloaded.  \n"
          ]
        },
        {
          "name": "stdout",
          "output_type": "stream",
          "text": [
            "Loaded 17 episodes from v1210\n",
            "Downloading artifact version: mahin-sank-iit-kgp/alpha-racer-data/alpha_racer_multi_mpc_combined:v1211\n"
          ]
        },
        {
          "name": "stderr",
          "output_type": "stream",
          "text": [
            "\u001b[34m\u001b[1mwandb\u001b[0m:   1 of 1 files downloaded.  \n"
          ]
        },
        {
          "name": "stdout",
          "output_type": "stream",
          "text": [
            "Loaded 5 episodes from v1211\n",
            "Downloading artifact version: mahin-sank-iit-kgp/alpha-racer-data/alpha_racer_multi_mpc_combined:v1212\n"
          ]
        },
        {
          "name": "stderr",
          "output_type": "stream",
          "text": [
            "\u001b[34m\u001b[1mwandb\u001b[0m:   1 of 1 files downloaded.  \n"
          ]
        },
        {
          "name": "stdout",
          "output_type": "stream",
          "text": [
            "Loaded 5 episodes from v1212\n",
            "Downloading artifact version: mahin-sank-iit-kgp/alpha-racer-data/alpha_racer_multi_mpc_combined:v1213\n"
          ]
        },
        {
          "name": "stderr",
          "output_type": "stream",
          "text": [
            "\u001b[34m\u001b[1mwandb\u001b[0m:   1 of 1 files downloaded.  \n"
          ]
        },
        {
          "name": "stdout",
          "output_type": "stream",
          "text": [
            "Loaded 10 episodes from v1213\n",
            "Downloading artifact version: mahin-sank-iit-kgp/alpha-racer-data/alpha_racer_multi_mpc_combined:v1214\n"
          ]
        },
        {
          "name": "stderr",
          "output_type": "stream",
          "text": [
            "\u001b[34m\u001b[1mwandb\u001b[0m:   1 of 1 files downloaded.  \n"
          ]
        },
        {
          "name": "stdout",
          "output_type": "stream",
          "text": [
            "Loaded 5 episodes from v1214\n",
            "Downloading artifact version: mahin-sank-iit-kgp/alpha-racer-data/alpha_racer_multi_mpc_combined:v1215\n"
          ]
        },
        {
          "name": "stderr",
          "output_type": "stream",
          "text": [
            "\u001b[34m\u001b[1mwandb\u001b[0m:   1 of 1 files downloaded.  \n"
          ]
        },
        {
          "name": "stdout",
          "output_type": "stream",
          "text": [
            "Loaded 10 episodes from v1215\n",
            "Downloading artifact version: mahin-sank-iit-kgp/alpha-racer-data/alpha_racer_multi_mpc_combined:v1216\n"
          ]
        },
        {
          "name": "stderr",
          "output_type": "stream",
          "text": [
            "\u001b[34m\u001b[1mwandb\u001b[0m:   1 of 1 files downloaded.  \n"
          ]
        },
        {
          "name": "stdout",
          "output_type": "stream",
          "text": [
            "Loaded 10 episodes from v1216\n",
            "Downloading artifact version: mahin-sank-iit-kgp/alpha-racer-data/alpha_racer_multi_mpc_combined:v1217\n"
          ]
        },
        {
          "name": "stderr",
          "output_type": "stream",
          "text": [
            "\u001b[34m\u001b[1mwandb\u001b[0m:   1 of 1 files downloaded.  \n"
          ]
        },
        {
          "name": "stdout",
          "output_type": "stream",
          "text": [
            "Loaded 6 episodes from v1217\n",
            "Downloading artifact version: mahin-sank-iit-kgp/alpha-racer-data/alpha_racer_multi_mpc_combined:v1218\n"
          ]
        },
        {
          "name": "stderr",
          "output_type": "stream",
          "text": [
            "\u001b[34m\u001b[1mwandb\u001b[0m:   1 of 1 files downloaded.  \n"
          ]
        },
        {
          "name": "stdout",
          "output_type": "stream",
          "text": [
            "Loaded 6 episodes from v1218\n",
            "Downloading artifact version: mahin-sank-iit-kgp/alpha-racer-data/alpha_racer_multi_mpc_combined:v1219\n"
          ]
        },
        {
          "name": "stderr",
          "output_type": "stream",
          "text": [
            "\u001b[34m\u001b[1mwandb\u001b[0m:   1 of 1 files downloaded.  \n"
          ]
        },
        {
          "name": "stdout",
          "output_type": "stream",
          "text": [
            "Loaded 17 episodes from v1219\n",
            "Downloading artifact version: mahin-sank-iit-kgp/alpha-racer-data/alpha_racer_multi_mpc_combined:v1220\n"
          ]
        },
        {
          "name": "stderr",
          "output_type": "stream",
          "text": [
            "\u001b[34m\u001b[1mwandb\u001b[0m:   1 of 1 files downloaded.  \n"
          ]
        },
        {
          "name": "stdout",
          "output_type": "stream",
          "text": [
            "Loaded 6 episodes from v1220\n",
            "Downloading artifact version: mahin-sank-iit-kgp/alpha-racer-data/alpha_racer_multi_mpc_combined:v1221\n"
          ]
        },
        {
          "name": "stderr",
          "output_type": "stream",
          "text": [
            "\u001b[34m\u001b[1mwandb\u001b[0m:   1 of 1 files downloaded.  \n"
          ]
        },
        {
          "name": "stdout",
          "output_type": "stream",
          "text": [
            "Loaded 17 episodes from v1221\n",
            "Downloading artifact version: mahin-sank-iit-kgp/alpha-racer-data/alpha_racer_multi_mpc_combined:v1222\n"
          ]
        },
        {
          "name": "stderr",
          "output_type": "stream",
          "text": [
            "\u001b[34m\u001b[1mwandb\u001b[0m:   1 of 1 files downloaded.  \n"
          ]
        },
        {
          "name": "stdout",
          "output_type": "stream",
          "text": [
            "Loaded 18 episodes from v1222\n",
            "Downloading artifact version: mahin-sank-iit-kgp/alpha-racer-data/alpha_racer_multi_mpc_combined:v1223\n"
          ]
        },
        {
          "name": "stderr",
          "output_type": "stream",
          "text": [
            "\u001b[34m\u001b[1mwandb\u001b[0m:   1 of 1 files downloaded.  \n"
          ]
        },
        {
          "name": "stdout",
          "output_type": "stream",
          "text": [
            "Loaded 6 episodes from v1223\n",
            "Downloading artifact version: mahin-sank-iit-kgp/alpha-racer-data/alpha_racer_multi_mpc_combined:v1224\n"
          ]
        },
        {
          "name": "stderr",
          "output_type": "stream",
          "text": [
            "\u001b[34m\u001b[1mwandb\u001b[0m:   1 of 1 files downloaded.  \n"
          ]
        },
        {
          "name": "stdout",
          "output_type": "stream",
          "text": [
            "Loaded 6 episodes from v1224\n",
            "Downloading artifact version: mahin-sank-iit-kgp/alpha-racer-data/alpha_racer_multi_mpc_combined:v1225\n"
          ]
        },
        {
          "name": "stderr",
          "output_type": "stream",
          "text": [
            "\u001b[34m\u001b[1mwandb\u001b[0m:   1 of 1 files downloaded.  \n"
          ]
        },
        {
          "name": "stdout",
          "output_type": "stream",
          "text": [
            "Loaded 6 episodes from v1225\n",
            "Downloading artifact version: mahin-sank-iit-kgp/alpha-racer-data/alpha_racer_multi_mpc_combined:v1226\n"
          ]
        },
        {
          "name": "stderr",
          "output_type": "stream",
          "text": [
            "\u001b[34m\u001b[1mwandb\u001b[0m:   1 of 1 files downloaded.  \n"
          ]
        },
        {
          "name": "stdout",
          "output_type": "stream",
          "text": [
            "Loaded 6 episodes from v1226\n",
            "Downloading artifact version: mahin-sank-iit-kgp/alpha-racer-data/alpha_racer_multi_mpc_combined:v1227\n"
          ]
        },
        {
          "name": "stderr",
          "output_type": "stream",
          "text": [
            "\u001b[34m\u001b[1mwandb\u001b[0m:   1 of 1 files downloaded.  \n"
          ]
        },
        {
          "name": "stdout",
          "output_type": "stream",
          "text": [
            "Loaded 10 episodes from v1227\n",
            "Downloading artifact version: mahin-sank-iit-kgp/alpha-racer-data/alpha_racer_multi_mpc_combined:v1228\n"
          ]
        },
        {
          "name": "stderr",
          "output_type": "stream",
          "text": [
            "\u001b[34m\u001b[1mwandb\u001b[0m:   1 of 1 files downloaded.  \n"
          ]
        },
        {
          "name": "stdout",
          "output_type": "stream",
          "text": [
            "Loaded 6 episodes from v1228\n",
            "Downloading artifact version: mahin-sank-iit-kgp/alpha-racer-data/alpha_racer_multi_mpc_combined:v1229\n"
          ]
        },
        {
          "name": "stderr",
          "output_type": "stream",
          "text": [
            "\u001b[34m\u001b[1mwandb\u001b[0m:   1 of 1 files downloaded.  \n"
          ]
        },
        {
          "name": "stdout",
          "output_type": "stream",
          "text": [
            "Loaded 6 episodes from v1229\n",
            "Downloading artifact version: mahin-sank-iit-kgp/alpha-racer-data/alpha_racer_multi_mpc_combined:v1230\n"
          ]
        },
        {
          "name": "stderr",
          "output_type": "stream",
          "text": [
            "\u001b[34m\u001b[1mwandb\u001b[0m:   1 of 1 files downloaded.  \n"
          ]
        },
        {
          "name": "stdout",
          "output_type": "stream",
          "text": [
            "Loaded 10 episodes from v1230\n",
            "Downloading artifact version: mahin-sank-iit-kgp/alpha-racer-data/alpha_racer_multi_mpc_combined:v1231\n"
          ]
        },
        {
          "name": "stderr",
          "output_type": "stream",
          "text": [
            "\u001b[34m\u001b[1mwandb\u001b[0m:   1 of 1 files downloaded.  \n"
          ]
        },
        {
          "name": "stdout",
          "output_type": "stream",
          "text": [
            "Loaded 6 episodes from v1231\n",
            "Downloading artifact version: mahin-sank-iit-kgp/alpha-racer-data/alpha_racer_multi_mpc_combined:v1232\n"
          ]
        },
        {
          "name": "stderr",
          "output_type": "stream",
          "text": [
            "\u001b[34m\u001b[1mwandb\u001b[0m:   1 of 1 files downloaded.  \n"
          ]
        },
        {
          "name": "stdout",
          "output_type": "stream",
          "text": [
            "Loaded 18 episodes from v1232\n",
            "Downloading artifact version: mahin-sank-iit-kgp/alpha-racer-data/alpha_racer_multi_mpc_combined:v1233\n"
          ]
        },
        {
          "name": "stderr",
          "output_type": "stream",
          "text": [
            "\u001b[34m\u001b[1mwandb\u001b[0m:   1 of 1 files downloaded.  \n"
          ]
        },
        {
          "name": "stdout",
          "output_type": "stream",
          "text": [
            "Loaded 18 episodes from v1233\n",
            "Downloading artifact version: mahin-sank-iit-kgp/alpha-racer-data/alpha_racer_multi_mpc_combined:v1234\n"
          ]
        },
        {
          "name": "stderr",
          "output_type": "stream",
          "text": [
            "\u001b[34m\u001b[1mwandb\u001b[0m:   1 of 1 files downloaded.  \n"
          ]
        },
        {
          "name": "stdout",
          "output_type": "stream",
          "text": [
            "Loaded 7 episodes from v1234\n",
            "Downloading artifact version: mahin-sank-iit-kgp/alpha-racer-data/alpha_racer_multi_mpc_combined:v1235\n"
          ]
        },
        {
          "name": "stderr",
          "output_type": "stream",
          "text": [
            "\u001b[34m\u001b[1mwandb\u001b[0m:   1 of 1 files downloaded.  \n"
          ]
        },
        {
          "name": "stdout",
          "output_type": "stream",
          "text": [
            "Loaded 7 episodes from v1235\n",
            "Downloading artifact version: mahin-sank-iit-kgp/alpha-racer-data/alpha_racer_multi_mpc_combined:v1236\n"
          ]
        },
        {
          "name": "stderr",
          "output_type": "stream",
          "text": [
            "\u001b[34m\u001b[1mwandb\u001b[0m:   1 of 1 files downloaded.  \n"
          ]
        },
        {
          "name": "stdout",
          "output_type": "stream",
          "text": [
            "Loaded 10 episodes from v1236\n",
            "Downloading artifact version: mahin-sank-iit-kgp/alpha-racer-data/alpha_racer_multi_mpc_combined:v1237\n"
          ]
        },
        {
          "name": "stderr",
          "output_type": "stream",
          "text": [
            "\u001b[34m\u001b[1mwandb\u001b[0m:   1 of 1 files downloaded.  \n"
          ]
        },
        {
          "name": "stdout",
          "output_type": "stream",
          "text": [
            "Loaded 7 episodes from v1237\n",
            "Downloading artifact version: mahin-sank-iit-kgp/alpha-racer-data/alpha_racer_multi_mpc_combined:v1238\n"
          ]
        },
        {
          "name": "stderr",
          "output_type": "stream",
          "text": [
            "\u001b[34m\u001b[1mwandb\u001b[0m:   1 of 1 files downloaded.  \n"
          ]
        },
        {
          "name": "stdout",
          "output_type": "stream",
          "text": [
            "Loaded 18 episodes from v1238\n",
            "Downloading artifact version: mahin-sank-iit-kgp/alpha-racer-data/alpha_racer_multi_mpc_combined:v1239\n"
          ]
        },
        {
          "name": "stderr",
          "output_type": "stream",
          "text": [
            "\u001b[34m\u001b[1mwandb\u001b[0m:   1 of 1 files downloaded.  \n"
          ]
        },
        {
          "name": "stdout",
          "output_type": "stream",
          "text": [
            "Loaded 18 episodes from v1239\n",
            "Downloading artifact version: mahin-sank-iit-kgp/alpha-racer-data/alpha_racer_multi_mpc_combined:v1240\n"
          ]
        },
        {
          "name": "stderr",
          "output_type": "stream",
          "text": [
            "\u001b[34m\u001b[1mwandb\u001b[0m:   1 of 1 files downloaded.  \n"
          ]
        },
        {
          "name": "stdout",
          "output_type": "stream",
          "text": [
            "Loaded 7 episodes from v1240\n",
            "Downloading artifact version: mahin-sank-iit-kgp/alpha-racer-data/alpha_racer_multi_mpc_combined:v1241\n"
          ]
        },
        {
          "name": "stderr",
          "output_type": "stream",
          "text": [
            "\u001b[34m\u001b[1mwandb\u001b[0m:   1 of 1 files downloaded.  \n"
          ]
        },
        {
          "name": "stdout",
          "output_type": "stream",
          "text": [
            "Loaded 7 episodes from v1241\n",
            "Downloading artifact version: mahin-sank-iit-kgp/alpha-racer-data/alpha_racer_multi_mpc_combined:v1242\n"
          ]
        },
        {
          "name": "stderr",
          "output_type": "stream",
          "text": [
            "\u001b[34m\u001b[1mwandb\u001b[0m:   1 of 1 files downloaded.  \n"
          ]
        },
        {
          "name": "stdout",
          "output_type": "stream",
          "text": [
            "Loaded 7 episodes from v1242\n",
            "Downloading artifact version: mahin-sank-iit-kgp/alpha-racer-data/alpha_racer_multi_mpc_combined:v1243\n"
          ]
        },
        {
          "name": "stderr",
          "output_type": "stream",
          "text": [
            "\u001b[34m\u001b[1mwandb\u001b[0m:   1 of 1 files downloaded.  \n"
          ]
        },
        {
          "name": "stdout",
          "output_type": "stream",
          "text": [
            "Loaded 7 episodes from v1243\n",
            "Downloading artifact version: mahin-sank-iit-kgp/alpha-racer-data/alpha_racer_multi_mpc_combined:v1244\n"
          ]
        },
        {
          "name": "stderr",
          "output_type": "stream",
          "text": [
            "\u001b[34m\u001b[1mwandb\u001b[0m:   1 of 1 files downloaded.  \n"
          ]
        },
        {
          "name": "stdout",
          "output_type": "stream",
          "text": [
            "Loaded 18 episodes from v1244\n",
            "Downloading artifact version: mahin-sank-iit-kgp/alpha-racer-data/alpha_racer_multi_mpc_combined:v1245\n"
          ]
        },
        {
          "name": "stderr",
          "output_type": "stream",
          "text": [
            "\u001b[34m\u001b[1mwandb\u001b[0m:   1 of 1 files downloaded.  \n"
          ]
        },
        {
          "name": "stdout",
          "output_type": "stream",
          "text": [
            "Loaded 18 episodes from v1245\n",
            "Downloading artifact version: mahin-sank-iit-kgp/alpha-racer-data/alpha_racer_multi_mpc_combined:v1246\n"
          ]
        },
        {
          "name": "stderr",
          "output_type": "stream",
          "text": [
            "\u001b[34m\u001b[1mwandb\u001b[0m:   1 of 1 files downloaded.  \n"
          ]
        },
        {
          "name": "stdout",
          "output_type": "stream",
          "text": [
            "Loaded 7 episodes from v1246\n",
            "Downloading artifact version: mahin-sank-iit-kgp/alpha-racer-data/alpha_racer_multi_mpc_combined:v1247\n"
          ]
        },
        {
          "name": "stderr",
          "output_type": "stream",
          "text": [
            "\u001b[34m\u001b[1mwandb\u001b[0m:   1 of 1 files downloaded.  \n"
          ]
        },
        {
          "name": "stdout",
          "output_type": "stream",
          "text": [
            "Loaded 18 episodes from v1247\n",
            "Downloading artifact version: mahin-sank-iit-kgp/alpha-racer-data/alpha_racer_multi_mpc_combined:v1248\n"
          ]
        },
        {
          "name": "stderr",
          "output_type": "stream",
          "text": [
            "\u001b[34m\u001b[1mwandb\u001b[0m:   1 of 1 files downloaded.  \n"
          ]
        },
        {
          "name": "stdout",
          "output_type": "stream",
          "text": [
            "Loaded 7 episodes from v1248\n",
            "Downloading artifact version: mahin-sank-iit-kgp/alpha-racer-data/alpha_racer_multi_mpc_combined:v1249\n"
          ]
        },
        {
          "name": "stderr",
          "output_type": "stream",
          "text": [
            "\u001b[34m\u001b[1mwandb\u001b[0m:   1 of 1 files downloaded.  \n"
          ]
        },
        {
          "name": "stdout",
          "output_type": "stream",
          "text": [
            "Loaded 18 episodes from v1249\n",
            "Downloading artifact version: mahin-sank-iit-kgp/alpha-racer-data/alpha_racer_multi_mpc_combined:v1250\n"
          ]
        },
        {
          "name": "stderr",
          "output_type": "stream",
          "text": [
            "\u001b[34m\u001b[1mwandb\u001b[0m:   1 of 1 files downloaded.  \n"
          ]
        },
        {
          "name": "stdout",
          "output_type": "stream",
          "text": [
            "Loaded 7 episodes from v1250\n",
            "Downloading artifact version: mahin-sank-iit-kgp/alpha-racer-data/alpha_racer_multi_mpc_combined:v1251\n"
          ]
        },
        {
          "name": "stderr",
          "output_type": "stream",
          "text": [
            "\u001b[34m\u001b[1mwandb\u001b[0m:   1 of 1 files downloaded.  \n"
          ]
        },
        {
          "name": "stdout",
          "output_type": "stream",
          "text": [
            "Loaded 8 episodes from v1251\n",
            "Downloading artifact version: mahin-sank-iit-kgp/alpha-racer-data/alpha_racer_multi_mpc_combined:v1252\n"
          ]
        },
        {
          "name": "stderr",
          "output_type": "stream",
          "text": [
            "\u001b[34m\u001b[1mwandb\u001b[0m:   1 of 1 files downloaded.  \n"
          ]
        },
        {
          "name": "stdout",
          "output_type": "stream",
          "text": [
            "Loaded 8 episodes from v1252\n",
            "Downloading artifact version: mahin-sank-iit-kgp/alpha-racer-data/alpha_racer_multi_mpc_combined:v1253\n"
          ]
        },
        {
          "name": "stderr",
          "output_type": "stream",
          "text": [
            "\u001b[34m\u001b[1mwandb\u001b[0m:   1 of 1 files downloaded.  \n"
          ]
        },
        {
          "name": "stdout",
          "output_type": "stream",
          "text": [
            "Loaded 18 episodes from v1253\n",
            "Downloading artifact version: mahin-sank-iit-kgp/alpha-racer-data/alpha_racer_multi_mpc_combined:v1254\n"
          ]
        },
        {
          "name": "stderr",
          "output_type": "stream",
          "text": [
            "\u001b[34m\u001b[1mwandb\u001b[0m:   1 of 1 files downloaded.  \n"
          ]
        },
        {
          "name": "stdout",
          "output_type": "stream",
          "text": [
            "Loaded 8 episodes from v1254\n",
            "Downloading artifact version: mahin-sank-iit-kgp/alpha-racer-data/alpha_racer_multi_mpc_combined:v1255\n"
          ]
        },
        {
          "name": "stderr",
          "output_type": "stream",
          "text": [
            "\u001b[34m\u001b[1mwandb\u001b[0m:   1 of 1 files downloaded.  \n"
          ]
        },
        {
          "name": "stdout",
          "output_type": "stream",
          "text": [
            "Loaded 8 episodes from v1255\n",
            "Downloading artifact version: mahin-sank-iit-kgp/alpha-racer-data/alpha_racer_multi_mpc_combined:v1256\n"
          ]
        },
        {
          "name": "stderr",
          "output_type": "stream",
          "text": [
            "\u001b[34m\u001b[1mwandb\u001b[0m:   1 of 1 files downloaded.  \n"
          ]
        },
        {
          "name": "stdout",
          "output_type": "stream",
          "text": [
            "Loaded 8 episodes from v1256\n",
            "Downloading artifact version: mahin-sank-iit-kgp/alpha-racer-data/alpha_racer_multi_mpc_combined:v1257\n"
          ]
        },
        {
          "name": "stderr",
          "output_type": "stream",
          "text": [
            "\u001b[34m\u001b[1mwandb\u001b[0m:   1 of 1 files downloaded.  \n"
          ]
        },
        {
          "name": "stdout",
          "output_type": "stream",
          "text": [
            "Loaded 8 episodes from v1257\n",
            "Downloading artifact version: mahin-sank-iit-kgp/alpha-racer-data/alpha_racer_multi_mpc_combined:v1258\n"
          ]
        },
        {
          "name": "stderr",
          "output_type": "stream",
          "text": [
            "\u001b[34m\u001b[1mwandb\u001b[0m:   1 of 1 files downloaded.  \n"
          ]
        },
        {
          "name": "stdout",
          "output_type": "stream",
          "text": [
            "Loaded 8 episodes from v1258\n",
            "Downloading artifact version: mahin-sank-iit-kgp/alpha-racer-data/alpha_racer_multi_mpc_combined:v1259\n"
          ]
        },
        {
          "name": "stderr",
          "output_type": "stream",
          "text": [
            "\u001b[34m\u001b[1mwandb\u001b[0m:   1 of 1 files downloaded.  \n"
          ]
        },
        {
          "name": "stdout",
          "output_type": "stream",
          "text": [
            "Loaded 8 episodes from v1259\n",
            "Downloading artifact version: mahin-sank-iit-kgp/alpha-racer-data/alpha_racer_multi_mpc_combined:v1260\n"
          ]
        },
        {
          "name": "stderr",
          "output_type": "stream",
          "text": [
            "\u001b[34m\u001b[1mwandb\u001b[0m:   1 of 1 files downloaded.  \n"
          ]
        },
        {
          "name": "stdout",
          "output_type": "stream",
          "text": [
            "Loaded 11 episodes from v1260\n",
            "Downloading artifact version: mahin-sank-iit-kgp/alpha-racer-data/alpha_racer_multi_mpc_combined:v1261\n"
          ]
        },
        {
          "name": "stderr",
          "output_type": "stream",
          "text": [
            "\u001b[34m\u001b[1mwandb\u001b[0m:   1 of 1 files downloaded.  \n"
          ]
        },
        {
          "name": "stdout",
          "output_type": "stream",
          "text": [
            "Loaded 8 episodes from v1261\n",
            "Downloading artifact version: mahin-sank-iit-kgp/alpha-racer-data/alpha_racer_multi_mpc_combined:v1262\n"
          ]
        },
        {
          "name": "stderr",
          "output_type": "stream",
          "text": [
            "\u001b[34m\u001b[1mwandb\u001b[0m:   1 of 1 files downloaded.  \n"
          ]
        },
        {
          "name": "stdout",
          "output_type": "stream",
          "text": [
            "Loaded 8 episodes from v1262\n",
            "Downloading artifact version: mahin-sank-iit-kgp/alpha-racer-data/alpha_racer_multi_mpc_combined:v1263\n"
          ]
        },
        {
          "name": "stderr",
          "output_type": "stream",
          "text": [
            "\u001b[34m\u001b[1mwandb\u001b[0m:   1 of 1 files downloaded.  \n"
          ]
        },
        {
          "name": "stdout",
          "output_type": "stream",
          "text": [
            "Loaded 19 episodes from v1263\n",
            "Downloading artifact version: mahin-sank-iit-kgp/alpha-racer-data/alpha_racer_multi_mpc_combined:v1264\n"
          ]
        },
        {
          "name": "stderr",
          "output_type": "stream",
          "text": [
            "\u001b[34m\u001b[1mwandb\u001b[0m:   1 of 1 files downloaded.  \n"
          ]
        },
        {
          "name": "stdout",
          "output_type": "stream",
          "text": [
            "Loaded 19 episodes from v1264\n",
            "Downloading artifact version: mahin-sank-iit-kgp/alpha-racer-data/alpha_racer_multi_mpc_combined:v1265\n"
          ]
        },
        {
          "name": "stderr",
          "output_type": "stream",
          "text": [
            "\u001b[34m\u001b[1mwandb\u001b[0m:   1 of 1 files downloaded.  \n"
          ]
        },
        {
          "name": "stdout",
          "output_type": "stream",
          "text": [
            "Loaded 9 episodes from v1265\n",
            "Downloading artifact version: mahin-sank-iit-kgp/alpha-racer-data/alpha_racer_multi_mpc_combined:v1266\n"
          ]
        },
        {
          "name": "stderr",
          "output_type": "stream",
          "text": [
            "\u001b[34m\u001b[1mwandb\u001b[0m:   1 of 1 files downloaded.  \n"
          ]
        },
        {
          "name": "stdout",
          "output_type": "stream",
          "text": [
            "Loaded 9 episodes from v1266\n",
            "Downloading artifact version: mahin-sank-iit-kgp/alpha-racer-data/alpha_racer_multi_mpc_combined:v1267\n"
          ]
        },
        {
          "name": "stderr",
          "output_type": "stream",
          "text": [
            "\u001b[34m\u001b[1mwandb\u001b[0m:   1 of 1 files downloaded.  \n"
          ]
        },
        {
          "name": "stdout",
          "output_type": "stream",
          "text": [
            "Loaded 19 episodes from v1267\n",
            "Downloading artifact version: mahin-sank-iit-kgp/alpha-racer-data/alpha_racer_multi_mpc_combined:v1268\n"
          ]
        },
        {
          "name": "stderr",
          "output_type": "stream",
          "text": [
            "\u001b[34m\u001b[1mwandb\u001b[0m:   1 of 1 files downloaded.  \n"
          ]
        },
        {
          "name": "stdout",
          "output_type": "stream",
          "text": [
            "Loaded 9 episodes from v1268\n",
            "Downloading artifact version: mahin-sank-iit-kgp/alpha-racer-data/alpha_racer_multi_mpc_combined:v1269\n"
          ]
        },
        {
          "name": "stderr",
          "output_type": "stream",
          "text": [
            "\u001b[34m\u001b[1mwandb\u001b[0m:   1 of 1 files downloaded.  \n"
          ]
        },
        {
          "name": "stdout",
          "output_type": "stream",
          "text": [
            "Loaded 19 episodes from v1269\n",
            "Downloading artifact version: mahin-sank-iit-kgp/alpha-racer-data/alpha_racer_multi_mpc_combined:v1270\n"
          ]
        },
        {
          "name": "stderr",
          "output_type": "stream",
          "text": [
            "\u001b[34m\u001b[1mwandb\u001b[0m:   1 of 1 files downloaded.  \n"
          ]
        },
        {
          "name": "stdout",
          "output_type": "stream",
          "text": [
            "Loaded 11 episodes from v1270\n",
            "Downloading artifact version: mahin-sank-iit-kgp/alpha-racer-data/alpha_racer_multi_mpc_combined:v1271\n"
          ]
        },
        {
          "name": "stderr",
          "output_type": "stream",
          "text": [
            "\u001b[34m\u001b[1mwandb\u001b[0m:   1 of 1 files downloaded.  \n"
          ]
        },
        {
          "name": "stdout",
          "output_type": "stream",
          "text": [
            "Loaded 9 episodes from v1271\n",
            "Downloading artifact version: mahin-sank-iit-kgp/alpha-racer-data/alpha_racer_multi_mpc_combined:v1272\n"
          ]
        },
        {
          "name": "stderr",
          "output_type": "stream",
          "text": [
            "\u001b[34m\u001b[1mwandb\u001b[0m:   1 of 1 files downloaded.  \n"
          ]
        },
        {
          "name": "stdout",
          "output_type": "stream",
          "text": [
            "Loaded 9 episodes from v1272\n",
            "Downloading artifact version: mahin-sank-iit-kgp/alpha-racer-data/alpha_racer_multi_mpc_combined:v1273\n"
          ]
        },
        {
          "name": "stderr",
          "output_type": "stream",
          "text": [
            "\u001b[34m\u001b[1mwandb\u001b[0m:   1 of 1 files downloaded.  \n"
          ]
        },
        {
          "name": "stdout",
          "output_type": "stream",
          "text": [
            "Loaded 11 episodes from v1273\n",
            "Downloading artifact version: mahin-sank-iit-kgp/alpha-racer-data/alpha_racer_multi_mpc_combined:v1274\n"
          ]
        },
        {
          "name": "stderr",
          "output_type": "stream",
          "text": [
            "\u001b[34m\u001b[1mwandb\u001b[0m:   1 of 1 files downloaded.  \n"
          ]
        },
        {
          "name": "stdout",
          "output_type": "stream",
          "text": [
            "Loaded 9 episodes from v1274\n",
            "Downloading artifact version: mahin-sank-iit-kgp/alpha-racer-data/alpha_racer_multi_mpc_combined:v1275\n"
          ]
        },
        {
          "name": "stderr",
          "output_type": "stream",
          "text": [
            "\u001b[34m\u001b[1mwandb\u001b[0m:   1 of 1 files downloaded.  \n"
          ]
        },
        {
          "name": "stdout",
          "output_type": "stream",
          "text": [
            "Loaded 9 episodes from v1275\n",
            "Downloading artifact version: mahin-sank-iit-kgp/alpha-racer-data/alpha_racer_multi_mpc_combined:v1276\n"
          ]
        },
        {
          "name": "stderr",
          "output_type": "stream",
          "text": [
            "\u001b[34m\u001b[1mwandb\u001b[0m:   1 of 1 files downloaded.  \n"
          ]
        },
        {
          "name": "stdout",
          "output_type": "stream",
          "text": [
            "Loaded 9 episodes from v1276\n",
            "Downloading artifact version: mahin-sank-iit-kgp/alpha-racer-data/alpha_racer_multi_mpc_combined:v1277\n"
          ]
        },
        {
          "name": "stderr",
          "output_type": "stream",
          "text": [
            "\u001b[34m\u001b[1mwandb\u001b[0m:   1 of 1 files downloaded.  \n"
          ]
        },
        {
          "name": "stdout",
          "output_type": "stream",
          "text": [
            "Loaded 19 episodes from v1277\n",
            "Downloading artifact version: mahin-sank-iit-kgp/alpha-racer-data/alpha_racer_multi_mpc_combined:v1278\n"
          ]
        },
        {
          "name": "stderr",
          "output_type": "stream",
          "text": [
            "\u001b[34m\u001b[1mwandb\u001b[0m:   1 of 1 files downloaded.  \n"
          ]
        },
        {
          "name": "stdout",
          "output_type": "stream",
          "text": [
            "Loaded 19 episodes from v1278\n",
            "Downloading artifact version: mahin-sank-iit-kgp/alpha-racer-data/alpha_racer_multi_mpc_combined:v1279\n"
          ]
        },
        {
          "name": "stderr",
          "output_type": "stream",
          "text": [
            "\u001b[34m\u001b[1mwandb\u001b[0m:   1 of 1 files downloaded.  \n"
          ]
        },
        {
          "name": "stdout",
          "output_type": "stream",
          "text": [
            "Loaded 19 episodes from v1279\n",
            "Downloading artifact version: mahin-sank-iit-kgp/alpha-racer-data/alpha_racer_multi_mpc_combined:v1280\n"
          ]
        },
        {
          "name": "stderr",
          "output_type": "stream",
          "text": [
            "\u001b[34m\u001b[1mwandb\u001b[0m:   1 of 1 files downloaded.  \n"
          ]
        },
        {
          "name": "stdout",
          "output_type": "stream",
          "text": [
            "Loaded 9 episodes from v1280\n",
            "Downloading artifact version: mahin-sank-iit-kgp/alpha-racer-data/alpha_racer_multi_mpc_combined:v1281\n"
          ]
        },
        {
          "name": "stderr",
          "output_type": "stream",
          "text": [
            "\u001b[34m\u001b[1mwandb\u001b[0m:   1 of 1 files downloaded.  \n"
          ]
        },
        {
          "name": "stdout",
          "output_type": "stream",
          "text": [
            "Loaded 9 episodes from v1281\n",
            "Downloading artifact version: mahin-sank-iit-kgp/alpha-racer-data/alpha_racer_multi_mpc_combined:v1282\n"
          ]
        },
        {
          "name": "stderr",
          "output_type": "stream",
          "text": [
            "\u001b[34m\u001b[1mwandb\u001b[0m:   1 of 1 files downloaded.  \n"
          ]
        },
        {
          "name": "stdout",
          "output_type": "stream",
          "text": [
            "Loaded 19 episodes from v1282\n",
            "Downloading artifact version: mahin-sank-iit-kgp/alpha-racer-data/alpha_racer_multi_mpc_combined:v1283\n"
          ]
        },
        {
          "name": "stderr",
          "output_type": "stream",
          "text": [
            "\u001b[34m\u001b[1mwandb\u001b[0m:   1 of 1 files downloaded.  \n"
          ]
        },
        {
          "name": "stdout",
          "output_type": "stream",
          "text": [
            "Loaded 10 episodes from v1283\n",
            "Downloading artifact version: mahin-sank-iit-kgp/alpha-racer-data/alpha_racer_multi_mpc_combined:v1284\n"
          ]
        },
        {
          "name": "stderr",
          "output_type": "stream",
          "text": [
            "\u001b[34m\u001b[1mwandb\u001b[0m:   1 of 1 files downloaded.  \n"
          ]
        },
        {
          "name": "stdout",
          "output_type": "stream",
          "text": [
            "Loaded 10 episodes from v1284\n",
            "Downloading artifact version: mahin-sank-iit-kgp/alpha-racer-data/alpha_racer_multi_mpc_combined:v1285\n"
          ]
        },
        {
          "name": "stderr",
          "output_type": "stream",
          "text": [
            "\u001b[34m\u001b[1mwandb\u001b[0m:   1 of 1 files downloaded.  \n"
          ]
        },
        {
          "name": "stdout",
          "output_type": "stream",
          "text": [
            "Loaded 11 episodes from v1285\n",
            "Downloading artifact version: mahin-sank-iit-kgp/alpha-racer-data/alpha_racer_multi_mpc_combined:v1286\n"
          ]
        },
        {
          "name": "stderr",
          "output_type": "stream",
          "text": [
            "\u001b[34m\u001b[1mwandb\u001b[0m:   1 of 1 files downloaded.  \n"
          ]
        },
        {
          "name": "stdout",
          "output_type": "stream",
          "text": [
            "Loaded 10 episodes from v1286\n",
            "Downloading artifact version: mahin-sank-iit-kgp/alpha-racer-data/alpha_racer_multi_mpc_combined:v1287\n"
          ]
        },
        {
          "name": "stderr",
          "output_type": "stream",
          "text": [
            "\u001b[34m\u001b[1mwandb\u001b[0m:   1 of 1 files downloaded.  \n"
          ]
        },
        {
          "name": "stdout",
          "output_type": "stream",
          "text": [
            "Loaded 19 episodes from v1287\n",
            "Downloading artifact version: mahin-sank-iit-kgp/alpha-racer-data/alpha_racer_multi_mpc_combined:v1288\n"
          ]
        },
        {
          "name": "stderr",
          "output_type": "stream",
          "text": [
            "\u001b[34m\u001b[1mwandb\u001b[0m:   1 of 1 files downloaded.  \n"
          ]
        },
        {
          "name": "stdout",
          "output_type": "stream",
          "text": [
            "Loaded 11 episodes from v1288\n",
            "Downloading artifact version: mahin-sank-iit-kgp/alpha-racer-data/alpha_racer_multi_mpc_combined:v1289\n"
          ]
        },
        {
          "name": "stderr",
          "output_type": "stream",
          "text": [
            "\u001b[34m\u001b[1mwandb\u001b[0m:   1 of 1 files downloaded.  \n"
          ]
        },
        {
          "name": "stdout",
          "output_type": "stream",
          "text": [
            "Loaded 10 episodes from v1289\n",
            "Downloading artifact version: mahin-sank-iit-kgp/alpha-racer-data/alpha_racer_multi_mpc_combined:v1290\n"
          ]
        },
        {
          "name": "stderr",
          "output_type": "stream",
          "text": [
            "\u001b[34m\u001b[1mwandb\u001b[0m:   1 of 1 files downloaded.  \n"
          ]
        },
        {
          "name": "stdout",
          "output_type": "stream",
          "text": [
            "Loaded 10 episodes from v1290\n",
            "Downloading artifact version: mahin-sank-iit-kgp/alpha-racer-data/alpha_racer_multi_mpc_combined:v1291\n"
          ]
        },
        {
          "name": "stderr",
          "output_type": "stream",
          "text": [
            "\u001b[34m\u001b[1mwandb\u001b[0m:   1 of 1 files downloaded.  \n"
          ]
        },
        {
          "name": "stdout",
          "output_type": "stream",
          "text": [
            "Loaded 10 episodes from v1291\n",
            "Downloading artifact version: mahin-sank-iit-kgp/alpha-racer-data/alpha_racer_multi_mpc_combined:v1292\n"
          ]
        },
        {
          "name": "stderr",
          "output_type": "stream",
          "text": [
            "\u001b[34m\u001b[1mwandb\u001b[0m:   1 of 1 files downloaded.  \n"
          ]
        },
        {
          "name": "stdout",
          "output_type": "stream",
          "text": [
            "Loaded 11 episodes from v1292\n",
            "Downloading artifact version: mahin-sank-iit-kgp/alpha-racer-data/alpha_racer_multi_mpc_combined:v1293\n"
          ]
        },
        {
          "name": "stderr",
          "output_type": "stream",
          "text": [
            "\u001b[34m\u001b[1mwandb\u001b[0m:   1 of 1 files downloaded.  \n"
          ]
        },
        {
          "name": "stdout",
          "output_type": "stream",
          "text": [
            "Loaded 10 episodes from v1293\n",
            "Downloading artifact version: mahin-sank-iit-kgp/alpha-racer-data/alpha_racer_multi_mpc_combined:v1294\n"
          ]
        },
        {
          "name": "stderr",
          "output_type": "stream",
          "text": [
            "\u001b[34m\u001b[1mwandb\u001b[0m:   1 of 1 files downloaded.  \n"
          ]
        },
        {
          "name": "stdout",
          "output_type": "stream",
          "text": [
            "Loaded 10 episodes from v1294\n",
            "Downloading artifact version: mahin-sank-iit-kgp/alpha-racer-data/alpha_racer_multi_mpc_combined:v1295\n"
          ]
        },
        {
          "name": "stderr",
          "output_type": "stream",
          "text": [
            "\u001b[34m\u001b[1mwandb\u001b[0m:   1 of 1 files downloaded.  \n"
          ]
        },
        {
          "name": "stdout",
          "output_type": "stream",
          "text": [
            "Loaded 10 episodes from v1295\n",
            "Downloading artifact version: mahin-sank-iit-kgp/alpha-racer-data/alpha_racer_multi_mpc_combined:v1296\n"
          ]
        },
        {
          "name": "stderr",
          "output_type": "stream",
          "text": [
            "\u001b[34m\u001b[1mwandb\u001b[0m:   1 of 1 files downloaded.  \n"
          ]
        },
        {
          "name": "stdout",
          "output_type": "stream",
          "text": [
            "Loaded 10 episodes from v1296\n",
            "Downloading artifact version: mahin-sank-iit-kgp/alpha-racer-data/alpha_racer_multi_mpc_combined:v1297\n"
          ]
        },
        {
          "name": "stderr",
          "output_type": "stream",
          "text": [
            "\u001b[34m\u001b[1mwandb\u001b[0m:   1 of 1 files downloaded.  \n"
          ]
        },
        {
          "name": "stdout",
          "output_type": "stream",
          "text": [
            "Loaded 11 episodes from v1297\n",
            "Downloading artifact version: mahin-sank-iit-kgp/alpha-racer-data/alpha_racer_multi_mpc_combined:v1298\n"
          ]
        },
        {
          "name": "stderr",
          "output_type": "stream",
          "text": [
            "\u001b[34m\u001b[1mwandb\u001b[0m:   1 of 1 files downloaded.  \n"
          ]
        },
        {
          "name": "stdout",
          "output_type": "stream",
          "text": [
            "Loaded 20 episodes from v1298\n",
            "Downloading artifact version: mahin-sank-iit-kgp/alpha-racer-data/alpha_racer_multi_mpc_combined:v1299\n"
          ]
        },
        {
          "name": "stderr",
          "output_type": "stream",
          "text": [
            "\u001b[34m\u001b[1mwandb\u001b[0m:   1 of 1 files downloaded.  \n"
          ]
        },
        {
          "name": "stdout",
          "output_type": "stream",
          "text": [
            "Loaded 11 episodes from v1299\n",
            "Downloading artifact version: mahin-sank-iit-kgp/alpha-racer-data/alpha_racer_multi_mpc_combined:v1300\n"
          ]
        },
        {
          "name": "stderr",
          "output_type": "stream",
          "text": [
            "\u001b[34m\u001b[1mwandb\u001b[0m:   1 of 1 files downloaded.  \n"
          ]
        },
        {
          "name": "stdout",
          "output_type": "stream",
          "text": [
            "Loaded 11 episodes from v1300\n",
            "Downloading artifact version: mahin-sank-iit-kgp/alpha-racer-data/alpha_racer_multi_mpc_combined:v1301\n"
          ]
        },
        {
          "name": "stderr",
          "output_type": "stream",
          "text": [
            "\u001b[34m\u001b[1mwandb\u001b[0m:   1 of 1 files downloaded.  \n"
          ]
        },
        {
          "name": "stdout",
          "output_type": "stream",
          "text": [
            "Loaded 20 episodes from v1301\n",
            "Downloading artifact version: mahin-sank-iit-kgp/alpha-racer-data/alpha_racer_multi_mpc_combined:v1302\n"
          ]
        },
        {
          "name": "stderr",
          "output_type": "stream",
          "text": [
            "\u001b[34m\u001b[1mwandb\u001b[0m:   1 of 1 files downloaded.  \n"
          ]
        },
        {
          "name": "stdout",
          "output_type": "stream",
          "text": [
            "Loaded 11 episodes from v1302\n",
            "Downloading artifact version: mahin-sank-iit-kgp/alpha-racer-data/alpha_racer_multi_mpc_combined:v1303\n"
          ]
        },
        {
          "name": "stderr",
          "output_type": "stream",
          "text": [
            "\u001b[34m\u001b[1mwandb\u001b[0m:   1 of 1 files downloaded.  \n"
          ]
        },
        {
          "name": "stdout",
          "output_type": "stream",
          "text": [
            "Loaded 20 episodes from v1303\n",
            "Downloading artifact version: mahin-sank-iit-kgp/alpha-racer-data/alpha_racer_multi_mpc_combined:v1304\n"
          ]
        },
        {
          "name": "stderr",
          "output_type": "stream",
          "text": [
            "\u001b[34m\u001b[1mwandb\u001b[0m:   1 of 1 files downloaded.  \n"
          ]
        },
        {
          "name": "stdout",
          "output_type": "stream",
          "text": [
            "Loaded 11 episodes from v1304\n",
            "Downloading artifact version: mahin-sank-iit-kgp/alpha-racer-data/alpha_racer_multi_mpc_combined:v1305\n"
          ]
        },
        {
          "name": "stderr",
          "output_type": "stream",
          "text": [
            "\u001b[34m\u001b[1mwandb\u001b[0m:   1 of 1 files downloaded.  \n"
          ]
        },
        {
          "name": "stdout",
          "output_type": "stream",
          "text": [
            "Loaded 11 episodes from v1305\n",
            "Downloading artifact version: mahin-sank-iit-kgp/alpha-racer-data/alpha_racer_multi_mpc_combined:v1306\n"
          ]
        },
        {
          "name": "stderr",
          "output_type": "stream",
          "text": [
            "\u001b[34m\u001b[1mwandb\u001b[0m:   1 of 1 files downloaded.  \n"
          ]
        },
        {
          "name": "stdout",
          "output_type": "stream",
          "text": [
            "Loaded 11 episodes from v1306\n",
            "Downloading artifact version: mahin-sank-iit-kgp/alpha-racer-data/alpha_racer_multi_mpc_combined:v1307\n"
          ]
        },
        {
          "name": "stderr",
          "output_type": "stream",
          "text": [
            "\u001b[34m\u001b[1mwandb\u001b[0m:   1 of 1 files downloaded.  \n"
          ]
        },
        {
          "name": "stdout",
          "output_type": "stream",
          "text": [
            "Loaded 11 episodes from v1307\n",
            "Downloading artifact version: mahin-sank-iit-kgp/alpha-racer-data/alpha_racer_multi_mpc_combined:v1308\n"
          ]
        },
        {
          "name": "stderr",
          "output_type": "stream",
          "text": [
            "\u001b[34m\u001b[1mwandb\u001b[0m:   1 of 1 files downloaded.  \n"
          ]
        },
        {
          "name": "stdout",
          "output_type": "stream",
          "text": [
            "Loaded 11 episodes from v1308\n",
            "Downloading artifact version: mahin-sank-iit-kgp/alpha-racer-data/alpha_racer_multi_mpc_combined:v1309\n"
          ]
        },
        {
          "name": "stderr",
          "output_type": "stream",
          "text": [
            "\u001b[34m\u001b[1mwandb\u001b[0m:   1 of 1 files downloaded.  \n"
          ]
        },
        {
          "name": "stdout",
          "output_type": "stream",
          "text": [
            "Loaded 11 episodes from v1309\n",
            "Downloading artifact version: mahin-sank-iit-kgp/alpha-racer-data/alpha_racer_multi_mpc_combined:v1310\n"
          ]
        },
        {
          "name": "stderr",
          "output_type": "stream",
          "text": [
            "\u001b[34m\u001b[1mwandb\u001b[0m:   1 of 1 files downloaded.  \n"
          ]
        },
        {
          "name": "stdout",
          "output_type": "stream",
          "text": [
            "Loaded 20 episodes from v1310\n",
            "Downloading artifact version: mahin-sank-iit-kgp/alpha-racer-data/alpha_racer_multi_mpc_combined:v1311\n"
          ]
        },
        {
          "name": "stderr",
          "output_type": "stream",
          "text": [
            "\u001b[34m\u001b[1mwandb\u001b[0m:   1 of 1 files downloaded.  \n"
          ]
        },
        {
          "name": "stdout",
          "output_type": "stream",
          "text": [
            "Loaded 11 episodes from v1311\n",
            "Downloading artifact version: mahin-sank-iit-kgp/alpha-racer-data/alpha_racer_multi_mpc_combined:v1312\n"
          ]
        },
        {
          "name": "stderr",
          "output_type": "stream",
          "text": [
            "\u001b[34m\u001b[1mwandb\u001b[0m:   1 of 1 files downloaded.  \n"
          ]
        },
        {
          "name": "stdout",
          "output_type": "stream",
          "text": [
            "Loaded 11 episodes from v1312\n",
            "Downloading artifact version: mahin-sank-iit-kgp/alpha-racer-data/alpha_racer_multi_mpc_combined:v1313\n"
          ]
        },
        {
          "name": "stderr",
          "output_type": "stream",
          "text": [
            "\u001b[34m\u001b[1mwandb\u001b[0m:   1 of 1 files downloaded.  \n"
          ]
        },
        {
          "name": "stdout",
          "output_type": "stream",
          "text": [
            "Loaded 11 episodes from v1313\n",
            "Downloading artifact version: mahin-sank-iit-kgp/alpha-racer-data/alpha_racer_multi_mpc_combined:v1314\n"
          ]
        },
        {
          "name": "stderr",
          "output_type": "stream",
          "text": [
            "\u001b[34m\u001b[1mwandb\u001b[0m:   1 of 1 files downloaded.  \n"
          ]
        },
        {
          "name": "stdout",
          "output_type": "stream",
          "text": [
            "Loaded 12 episodes from v1314\n",
            "Downloading artifact version: mahin-sank-iit-kgp/alpha-racer-data/alpha_racer_multi_mpc_combined:v1315\n"
          ]
        },
        {
          "name": "stderr",
          "output_type": "stream",
          "text": [
            "\u001b[34m\u001b[1mwandb\u001b[0m:   1 of 1 files downloaded.  \n"
          ]
        },
        {
          "name": "stdout",
          "output_type": "stream",
          "text": [
            "Loaded 20 episodes from v1315\n",
            "Downloading artifact version: mahin-sank-iit-kgp/alpha-racer-data/alpha_racer_multi_mpc_combined:v1316\n"
          ]
        },
        {
          "name": "stderr",
          "output_type": "stream",
          "text": [
            "\u001b[34m\u001b[1mwandb\u001b[0m:   1 of 1 files downloaded.  \n"
          ]
        },
        {
          "name": "stdout",
          "output_type": "stream",
          "text": [
            "Loaded 20 episodes from v1316\n",
            "Downloading artifact version: mahin-sank-iit-kgp/alpha-racer-data/alpha_racer_multi_mpc_combined:v1317\n"
          ]
        },
        {
          "name": "stderr",
          "output_type": "stream",
          "text": [
            "\u001b[34m\u001b[1mwandb\u001b[0m:   1 of 1 files downloaded.  \n"
          ]
        },
        {
          "name": "stdout",
          "output_type": "stream",
          "text": [
            "Loaded 12 episodes from v1317\n",
            "Downloading artifact version: mahin-sank-iit-kgp/alpha-racer-data/alpha_racer_multi_mpc_combined:v1318\n"
          ]
        },
        {
          "name": "stderr",
          "output_type": "stream",
          "text": [
            "\u001b[34m\u001b[1mwandb\u001b[0m:   1 of 1 files downloaded.  \n"
          ]
        },
        {
          "name": "stdout",
          "output_type": "stream",
          "text": [
            "Loaded 20 episodes from v1318\n",
            "Downloading artifact version: mahin-sank-iit-kgp/alpha-racer-data/alpha_racer_multi_mpc_combined:v1319\n"
          ]
        },
        {
          "name": "stderr",
          "output_type": "stream",
          "text": [
            "\u001b[34m\u001b[1mwandb\u001b[0m:   1 of 1 files downloaded.  \n"
          ]
        },
        {
          "name": "stdout",
          "output_type": "stream",
          "text": [
            "Loaded 20 episodes from v1319\n",
            "Downloading artifact version: mahin-sank-iit-kgp/alpha-racer-data/alpha_racer_multi_mpc_combined:v1320\n"
          ]
        },
        {
          "name": "stderr",
          "output_type": "stream",
          "text": [
            "\u001b[34m\u001b[1mwandb\u001b[0m:   1 of 1 files downloaded.  \n"
          ]
        },
        {
          "name": "stdout",
          "output_type": "stream",
          "text": [
            "Loaded 12 episodes from v1320\n",
            "Downloading artifact version: mahin-sank-iit-kgp/alpha-racer-data/alpha_racer_multi_mpc_combined:v1321\n"
          ]
        },
        {
          "name": "stderr",
          "output_type": "stream",
          "text": [
            "\u001b[34m\u001b[1mwandb\u001b[0m:   1 of 1 files downloaded.  \n"
          ]
        },
        {
          "name": "stdout",
          "output_type": "stream",
          "text": [
            "Loaded 11 episodes from v1321\n",
            "Downloading artifact version: mahin-sank-iit-kgp/alpha-racer-data/alpha_racer_multi_mpc_combined:v1322\n"
          ]
        },
        {
          "name": "stderr",
          "output_type": "stream",
          "text": [
            "\u001b[34m\u001b[1mwandb\u001b[0m:   1 of 1 files downloaded.  \n"
          ]
        },
        {
          "name": "stdout",
          "output_type": "stream",
          "text": [
            "Loaded 12 episodes from v1322\n",
            "Downloading artifact version: mahin-sank-iit-kgp/alpha-racer-data/alpha_racer_multi_mpc_combined:v1323\n"
          ]
        },
        {
          "name": "stderr",
          "output_type": "stream",
          "text": [
            "\u001b[34m\u001b[1mwandb\u001b[0m:   1 of 1 files downloaded.  \n"
          ]
        },
        {
          "name": "stdout",
          "output_type": "stream",
          "text": [
            "Loaded 12 episodes from v1323\n",
            "Downloading artifact version: mahin-sank-iit-kgp/alpha-racer-data/alpha_racer_multi_mpc_combined:v1324\n"
          ]
        },
        {
          "name": "stderr",
          "output_type": "stream",
          "text": [
            "\u001b[34m\u001b[1mwandb\u001b[0m:   1 of 1 files downloaded.  \n"
          ]
        },
        {
          "name": "stdout",
          "output_type": "stream",
          "text": [
            "Loaded 12 episodes from v1324\n",
            "Downloading artifact version: mahin-sank-iit-kgp/alpha-racer-data/alpha_racer_multi_mpc_combined:v1325\n"
          ]
        },
        {
          "name": "stderr",
          "output_type": "stream",
          "text": [
            "\u001b[34m\u001b[1mwandb\u001b[0m:   1 of 1 files downloaded.  \n"
          ]
        },
        {
          "name": "stdout",
          "output_type": "stream",
          "text": [
            "Loaded 12 episodes from v1325\n",
            "Downloading artifact version: mahin-sank-iit-kgp/alpha-racer-data/alpha_racer_multi_mpc_combined:v1326\n"
          ]
        },
        {
          "name": "stderr",
          "output_type": "stream",
          "text": [
            "\u001b[34m\u001b[1mwandb\u001b[0m:   1 of 1 files downloaded.  \n"
          ]
        },
        {
          "name": "stdout",
          "output_type": "stream",
          "text": [
            "Loaded 20 episodes from v1326\n",
            "Downloading artifact version: mahin-sank-iit-kgp/alpha-racer-data/alpha_racer_multi_mpc_combined:v1327\n"
          ]
        },
        {
          "name": "stderr",
          "output_type": "stream",
          "text": [
            "\u001b[34m\u001b[1mwandb\u001b[0m:   1 of 1 files downloaded.  \n"
          ]
        },
        {
          "name": "stdout",
          "output_type": "stream",
          "text": [
            "Loaded 12 episodes from v1327\n",
            "Downloading artifact version: mahin-sank-iit-kgp/alpha-racer-data/alpha_racer_multi_mpc_combined:v1328\n"
          ]
        },
        {
          "name": "stderr",
          "output_type": "stream",
          "text": [
            "\u001b[34m\u001b[1mwandb\u001b[0m:   1 of 1 files downloaded.  \n"
          ]
        },
        {
          "name": "stdout",
          "output_type": "stream",
          "text": [
            "Loaded 12 episodes from v1328\n",
            "Downloading artifact version: mahin-sank-iit-kgp/alpha-racer-data/alpha_racer_multi_mpc_combined:v1329\n"
          ]
        },
        {
          "name": "stderr",
          "output_type": "stream",
          "text": [
            "\u001b[34m\u001b[1mwandb\u001b[0m:   1 of 1 files downloaded.  \n"
          ]
        },
        {
          "name": "stdout",
          "output_type": "stream",
          "text": [
            "Loaded 12 episodes from v1329\n",
            "Downloading artifact version: mahin-sank-iit-kgp/alpha-racer-data/alpha_racer_multi_mpc_combined:v1330\n"
          ]
        },
        {
          "name": "stderr",
          "output_type": "stream",
          "text": [
            "\u001b[34m\u001b[1mwandb\u001b[0m:   1 of 1 files downloaded.  \n"
          ]
        },
        {
          "name": "stdout",
          "output_type": "stream",
          "text": [
            "Loaded 13 episodes from v1330\n",
            "Downloading artifact version: mahin-sank-iit-kgp/alpha-racer-data/alpha_racer_multi_mpc_combined:v1331\n"
          ]
        },
        {
          "name": "stderr",
          "output_type": "stream",
          "text": [
            "\u001b[34m\u001b[1mwandb\u001b[0m:   1 of 1 files downloaded.  \n"
          ]
        },
        {
          "name": "stdout",
          "output_type": "stream",
          "text": [
            "Loaded 13 episodes from v1331\n",
            "Downloading artifact version: mahin-sank-iit-kgp/alpha-racer-data/alpha_racer_multi_mpc_combined:v1332\n"
          ]
        },
        {
          "name": "stderr",
          "output_type": "stream",
          "text": [
            "\u001b[34m\u001b[1mwandb\u001b[0m:   1 of 1 files downloaded.  \n"
          ]
        },
        {
          "name": "stdout",
          "output_type": "stream",
          "text": [
            "Loaded 21 episodes from v1332\n",
            "Downloading artifact version: mahin-sank-iit-kgp/alpha-racer-data/alpha_racer_multi_mpc_combined:v1333\n"
          ]
        },
        {
          "name": "stderr",
          "output_type": "stream",
          "text": [
            "\u001b[34m\u001b[1mwandb\u001b[0m:   1 of 1 files downloaded.  \n"
          ]
        },
        {
          "name": "stdout",
          "output_type": "stream",
          "text": [
            "Loaded 21 episodes from v1333\n",
            "Downloading artifact version: mahin-sank-iit-kgp/alpha-racer-data/alpha_racer_multi_mpc_combined:v1334\n"
          ]
        },
        {
          "name": "stderr",
          "output_type": "stream",
          "text": [
            "\u001b[34m\u001b[1mwandb\u001b[0m:   1 of 1 files downloaded.  \n"
          ]
        },
        {
          "name": "stdout",
          "output_type": "stream",
          "text": [
            "Loaded 13 episodes from v1334\n",
            "Downloading artifact version: mahin-sank-iit-kgp/alpha-racer-data/alpha_racer_multi_mpc_combined:v1335\n"
          ]
        },
        {
          "name": "stderr",
          "output_type": "stream",
          "text": [
            "\u001b[34m\u001b[1mwandb\u001b[0m:   1 of 1 files downloaded.  \n"
          ]
        },
        {
          "name": "stdout",
          "output_type": "stream",
          "text": [
            "Loaded 12 episodes from v1335\n",
            "Downloading artifact version: mahin-sank-iit-kgp/alpha-racer-data/alpha_racer_multi_mpc_combined:v1336\n"
          ]
        },
        {
          "name": "stderr",
          "output_type": "stream",
          "text": [
            "\u001b[34m\u001b[1mwandb\u001b[0m:   1 of 1 files downloaded.  \n"
          ]
        },
        {
          "name": "stdout",
          "output_type": "stream",
          "text": [
            "Loaded 13 episodes from v1336\n",
            "Downloading artifact version: mahin-sank-iit-kgp/alpha-racer-data/alpha_racer_multi_mpc_combined:v1337\n"
          ]
        },
        {
          "name": "stderr",
          "output_type": "stream",
          "text": [
            "\u001b[34m\u001b[1mwandb\u001b[0m:   1 of 1 files downloaded.  \n"
          ]
        },
        {
          "name": "stdout",
          "output_type": "stream",
          "text": [
            "Loaded 13 episodes from v1337\n",
            "Downloading artifact version: mahin-sank-iit-kgp/alpha-racer-data/alpha_racer_multi_mpc_combined:v1338\n"
          ]
        },
        {
          "name": "stderr",
          "output_type": "stream",
          "text": [
            "\u001b[34m\u001b[1mwandb\u001b[0m:   1 of 1 files downloaded.  \n"
          ]
        },
        {
          "name": "stdout",
          "output_type": "stream",
          "text": [
            "Loaded 13 episodes from v1338\n",
            "Downloading artifact version: mahin-sank-iit-kgp/alpha-racer-data/alpha_racer_multi_mpc_combined:v1339\n"
          ]
        },
        {
          "name": "stderr",
          "output_type": "stream",
          "text": [
            "\u001b[34m\u001b[1mwandb\u001b[0m:   1 of 1 files downloaded.  \n"
          ]
        },
        {
          "name": "stdout",
          "output_type": "stream",
          "text": [
            "Loaded 13 episodes from v1339\n",
            "Downloading artifact version: mahin-sank-iit-kgp/alpha-racer-data/alpha_racer_multi_mpc_combined:v1340\n"
          ]
        },
        {
          "name": "stderr",
          "output_type": "stream",
          "text": [
            "\u001b[34m\u001b[1mwandb\u001b[0m:   1 of 1 files downloaded.  \n"
          ]
        },
        {
          "name": "stdout",
          "output_type": "stream",
          "text": [
            "Loaded 13 episodes from v1340\n",
            "Downloading artifact version: mahin-sank-iit-kgp/alpha-racer-data/alpha_racer_multi_mpc_combined:v1341\n"
          ]
        },
        {
          "name": "stderr",
          "output_type": "stream",
          "text": [
            "\u001b[34m\u001b[1mwandb\u001b[0m:   1 of 1 files downloaded.  \n"
          ]
        },
        {
          "name": "stdout",
          "output_type": "stream",
          "text": [
            "Loaded 21 episodes from v1341\n",
            "Downloading artifact version: mahin-sank-iit-kgp/alpha-racer-data/alpha_racer_multi_mpc_combined:v1342\n"
          ]
        },
        {
          "name": "stderr",
          "output_type": "stream",
          "text": [
            "\u001b[34m\u001b[1mwandb\u001b[0m:   1 of 1 files downloaded.  \n"
          ]
        },
        {
          "name": "stdout",
          "output_type": "stream",
          "text": [
            "Loaded 13 episodes from v1342\n",
            "Downloading artifact version: mahin-sank-iit-kgp/alpha-racer-data/alpha_racer_multi_mpc_combined:v1343\n"
          ]
        },
        {
          "name": "stderr",
          "output_type": "stream",
          "text": [
            "\u001b[34m\u001b[1mwandb\u001b[0m:   1 of 1 files downloaded.  \n"
          ]
        },
        {
          "name": "stdout",
          "output_type": "stream",
          "text": [
            "Loaded 13 episodes from v1343\n",
            "Downloading artifact version: mahin-sank-iit-kgp/alpha-racer-data/alpha_racer_multi_mpc_combined:v1344\n"
          ]
        },
        {
          "name": "stderr",
          "output_type": "stream",
          "text": [
            "\u001b[34m\u001b[1mwandb\u001b[0m:   1 of 1 files downloaded.  \n"
          ]
        },
        {
          "name": "stdout",
          "output_type": "stream",
          "text": [
            "Loaded 21 episodes from v1344\n",
            "Downloading artifact version: mahin-sank-iit-kgp/alpha-racer-data/alpha_racer_multi_mpc_combined:v1345\n"
          ]
        },
        {
          "name": "stderr",
          "output_type": "stream",
          "text": [
            "\u001b[34m\u001b[1mwandb\u001b[0m:   1 of 1 files downloaded.  \n"
          ]
        },
        {
          "name": "stdout",
          "output_type": "stream",
          "text": [
            "Loaded 14 episodes from v1345\n",
            "Downloading artifact version: mahin-sank-iit-kgp/alpha-racer-data/alpha_racer_multi_mpc_combined:v1346\n"
          ]
        },
        {
          "name": "stderr",
          "output_type": "stream",
          "text": [
            "\u001b[34m\u001b[1mwandb\u001b[0m:   1 of 1 files downloaded.  \n"
          ]
        },
        {
          "name": "stdout",
          "output_type": "stream",
          "text": [
            "Loaded 14 episodes from v1346\n",
            "Downloading artifact version: mahin-sank-iit-kgp/alpha-racer-data/alpha_racer_multi_mpc_combined:v1347\n"
          ]
        },
        {
          "name": "stderr",
          "output_type": "stream",
          "text": [
            "\u001b[34m\u001b[1mwandb\u001b[0m:   1 of 1 files downloaded.  \n"
          ]
        },
        {
          "name": "stdout",
          "output_type": "stream",
          "text": [
            "Loaded 21 episodes from v1347\n",
            "Downloading artifact version: mahin-sank-iit-kgp/alpha-racer-data/alpha_racer_multi_mpc_combined:v1348\n"
          ]
        },
        {
          "name": "stderr",
          "output_type": "stream",
          "text": [
            "\u001b[34m\u001b[1mwandb\u001b[0m:   1 of 1 files downloaded.  \n"
          ]
        },
        {
          "name": "stdout",
          "output_type": "stream",
          "text": [
            "Loaded 21 episodes from v1348\n",
            "Downloading artifact version: mahin-sank-iit-kgp/alpha-racer-data/alpha_racer_multi_mpc_combined:v1349\n"
          ]
        },
        {
          "name": "stderr",
          "output_type": "stream",
          "text": [
            "\u001b[34m\u001b[1mwandb\u001b[0m:   1 of 1 files downloaded.  \n"
          ]
        },
        {
          "name": "stdout",
          "output_type": "stream",
          "text": [
            "Loaded 21 episodes from v1349\n",
            "Downloading artifact version: mahin-sank-iit-kgp/alpha-racer-data/alpha_racer_multi_mpc_combined:v1350\n"
          ]
        },
        {
          "name": "stderr",
          "output_type": "stream",
          "text": [
            "\u001b[34m\u001b[1mwandb\u001b[0m:   1 of 1 files downloaded.  \n"
          ]
        },
        {
          "name": "stdout",
          "output_type": "stream",
          "text": [
            "Loaded 12 episodes from v1350\n",
            "Downloading artifact version: mahin-sank-iit-kgp/alpha-racer-data/alpha_racer_multi_mpc_combined:v1351\n"
          ]
        },
        {
          "name": "stderr",
          "output_type": "stream",
          "text": [
            "\u001b[34m\u001b[1mwandb\u001b[0m:   1 of 1 files downloaded.  \n"
          ]
        },
        {
          "name": "stdout",
          "output_type": "stream",
          "text": [
            "Loaded 21 episodes from v1351\n",
            "Downloading artifact version: mahin-sank-iit-kgp/alpha-racer-data/alpha_racer_multi_mpc_combined:v1352\n"
          ]
        },
        {
          "name": "stderr",
          "output_type": "stream",
          "text": [
            "\u001b[34m\u001b[1mwandb\u001b[0m:   1 of 1 files downloaded.  \n"
          ]
        },
        {
          "name": "stdout",
          "output_type": "stream",
          "text": [
            "Loaded 12 episodes from v1352\n",
            "Downloading artifact version: mahin-sank-iit-kgp/alpha-racer-data/alpha_racer_multi_mpc_combined:v1353\n"
          ]
        },
        {
          "name": "stderr",
          "output_type": "stream",
          "text": [
            "\u001b[34m\u001b[1mwandb\u001b[0m:   1 of 1 files downloaded.  \n"
          ]
        },
        {
          "name": "stdout",
          "output_type": "stream",
          "text": [
            "Loaded 14 episodes from v1353\n",
            "Downloading artifact version: mahin-sank-iit-kgp/alpha-racer-data/alpha_racer_multi_mpc_combined:v1354\n"
          ]
        },
        {
          "name": "stderr",
          "output_type": "stream",
          "text": [
            "\u001b[34m\u001b[1mwandb\u001b[0m:   1 of 1 files downloaded.  \n"
          ]
        },
        {
          "name": "stdout",
          "output_type": "stream",
          "text": [
            "Loaded 14 episodes from v1354\n",
            "Downloading artifact version: mahin-sank-iit-kgp/alpha-racer-data/alpha_racer_multi_mpc_combined:v1355\n"
          ]
        },
        {
          "name": "stderr",
          "output_type": "stream",
          "text": [
            "\u001b[34m\u001b[1mwandb\u001b[0m:   1 of 1 files downloaded.  \n"
          ]
        },
        {
          "name": "stdout",
          "output_type": "stream",
          "text": [
            "Loaded 14 episodes from v1355\n",
            "Downloading artifact version: mahin-sank-iit-kgp/alpha-racer-data/alpha_racer_multi_mpc_combined:v1356\n"
          ]
        },
        {
          "name": "stderr",
          "output_type": "stream",
          "text": [
            "\u001b[34m\u001b[1mwandb\u001b[0m:   1 of 1 files downloaded.  \n"
          ]
        },
        {
          "name": "stdout",
          "output_type": "stream",
          "text": [
            "Loaded 14 episodes from v1356\n",
            "Downloading artifact version: mahin-sank-iit-kgp/alpha-racer-data/alpha_racer_multi_mpc_combined:v1357\n"
          ]
        },
        {
          "name": "stderr",
          "output_type": "stream",
          "text": [
            "\u001b[34m\u001b[1mwandb\u001b[0m:   1 of 1 files downloaded.  \n"
          ]
        },
        {
          "name": "stdout",
          "output_type": "stream",
          "text": [
            "Loaded 21 episodes from v1357\n",
            "Downloading artifact version: mahin-sank-iit-kgp/alpha-racer-data/alpha_racer_multi_mpc_combined:v1358\n"
          ]
        },
        {
          "name": "stderr",
          "output_type": "stream",
          "text": [
            "\u001b[34m\u001b[1mwandb\u001b[0m:   1 of 1 files downloaded.  \n"
          ]
        },
        {
          "name": "stdout",
          "output_type": "stream",
          "text": [
            "Loaded 14 episodes from v1358\n",
            "Downloading artifact version: mahin-sank-iit-kgp/alpha-racer-data/alpha_racer_multi_mpc_combined:v1359\n"
          ]
        },
        {
          "name": "stderr",
          "output_type": "stream",
          "text": [
            "\u001b[34m\u001b[1mwandb\u001b[0m:   1 of 1 files downloaded.  \n"
          ]
        },
        {
          "name": "stdout",
          "output_type": "stream",
          "text": [
            "Loaded 14 episodes from v1359\n",
            "Downloading artifact version: mahin-sank-iit-kgp/alpha-racer-data/alpha_racer_multi_mpc_combined:v1360\n"
          ]
        },
        {
          "name": "stderr",
          "output_type": "stream",
          "text": [
            "\u001b[34m\u001b[1mwandb\u001b[0m:   1 of 1 files downloaded.  \n"
          ]
        },
        {
          "name": "stdout",
          "output_type": "stream",
          "text": [
            "Loaded 14 episodes from v1360\n",
            "Downloading artifact version: mahin-sank-iit-kgp/alpha-racer-data/alpha_racer_multi_mpc_combined:v1361\n"
          ]
        },
        {
          "name": "stderr",
          "output_type": "stream",
          "text": [
            "\u001b[34m\u001b[1mwandb\u001b[0m:   1 of 1 files downloaded.  \n"
          ]
        },
        {
          "name": "stdout",
          "output_type": "stream",
          "text": [
            "Loaded 14 episodes from v1361\n",
            "Downloading artifact version: mahin-sank-iit-kgp/alpha-racer-data/alpha_racer_multi_mpc_combined:v1362\n"
          ]
        },
        {
          "name": "stderr",
          "output_type": "stream",
          "text": [
            "\u001b[34m\u001b[1mwandb\u001b[0m:   1 of 1 files downloaded.  \n"
          ]
        },
        {
          "name": "stdout",
          "output_type": "stream",
          "text": [
            "Loaded 12 episodes from v1362\n",
            "Downloading artifact version: mahin-sank-iit-kgp/alpha-racer-data/alpha_racer_multi_mpc_combined:v1363\n"
          ]
        },
        {
          "name": "stderr",
          "output_type": "stream",
          "text": [
            "\u001b[34m\u001b[1mwandb\u001b[0m:   1 of 1 files downloaded.  \n"
          ]
        },
        {
          "name": "stdout",
          "output_type": "stream",
          "text": [
            "Loaded 15 episodes from v1363\n",
            "Downloading artifact version: mahin-sank-iit-kgp/alpha-racer-data/alpha_racer_multi_mpc_combined:v1364\n"
          ]
        },
        {
          "name": "stderr",
          "output_type": "stream",
          "text": [
            "\u001b[34m\u001b[1mwandb\u001b[0m:   1 of 1 files downloaded.  \n"
          ]
        },
        {
          "name": "stdout",
          "output_type": "stream",
          "text": [
            "Loaded 22 episodes from v1364\n",
            "Downloading artifact version: mahin-sank-iit-kgp/alpha-racer-data/alpha_racer_multi_mpc_combined:v1365\n"
          ]
        },
        {
          "name": "stderr",
          "output_type": "stream",
          "text": [
            "\u001b[34m\u001b[1mwandb\u001b[0m:   1 of 1 files downloaded.  \n"
          ]
        },
        {
          "name": "stdout",
          "output_type": "stream",
          "text": [
            "Loaded 15 episodes from v1365\n",
            "Downloading artifact version: mahin-sank-iit-kgp/alpha-racer-data/alpha_racer_multi_mpc_combined:v1366\n"
          ]
        },
        {
          "name": "stderr",
          "output_type": "stream",
          "text": [
            "\u001b[34m\u001b[1mwandb\u001b[0m:   1 of 1 files downloaded.  \n"
          ]
        },
        {
          "name": "stdout",
          "output_type": "stream",
          "text": [
            "Loaded 22 episodes from v1366\n",
            "Downloading artifact version: mahin-sank-iit-kgp/alpha-racer-data/alpha_racer_multi_mpc_combined:v1367\n"
          ]
        },
        {
          "name": "stderr",
          "output_type": "stream",
          "text": [
            "\u001b[34m\u001b[1mwandb\u001b[0m:   1 of 1 files downloaded.  \n"
          ]
        },
        {
          "name": "stdout",
          "output_type": "stream",
          "text": [
            "Loaded 12 episodes from v1367\n",
            "Downloading artifact version: mahin-sank-iit-kgp/alpha-racer-data/alpha_racer_multi_mpc_combined:v1368\n"
          ]
        },
        {
          "name": "stderr",
          "output_type": "stream",
          "text": [
            "\u001b[34m\u001b[1mwandb\u001b[0m:   1 of 1 files downloaded.  \n"
          ]
        },
        {
          "name": "stdout",
          "output_type": "stream",
          "text": [
            "Loaded 12 episodes from v1368\n",
            "Downloading artifact version: mahin-sank-iit-kgp/alpha-racer-data/alpha_racer_multi_mpc_combined:v1369\n"
          ]
        },
        {
          "name": "stderr",
          "output_type": "stream",
          "text": [
            "\u001b[34m\u001b[1mwandb\u001b[0m:   1 of 1 files downloaded.  \n"
          ]
        },
        {
          "name": "stdout",
          "output_type": "stream",
          "text": [
            "Loaded 15 episodes from v1369\n",
            "Downloading artifact version: mahin-sank-iit-kgp/alpha-racer-data/alpha_racer_multi_mpc_combined:v1370\n"
          ]
        },
        {
          "name": "stderr",
          "output_type": "stream",
          "text": [
            "\u001b[34m\u001b[1mwandb\u001b[0m:   1 of 1 files downloaded.  \n"
          ]
        },
        {
          "name": "stdout",
          "output_type": "stream",
          "text": [
            "Loaded 15 episodes from v1370\n",
            "Downloading artifact version: mahin-sank-iit-kgp/alpha-racer-data/alpha_racer_multi_mpc_combined:v1371\n"
          ]
        },
        {
          "name": "stderr",
          "output_type": "stream",
          "text": [
            "\u001b[34m\u001b[1mwandb\u001b[0m:   1 of 1 files downloaded.  \n"
          ]
        },
        {
          "name": "stdout",
          "output_type": "stream",
          "text": [
            "Loaded 15 episodes from v1371\n",
            "Downloading artifact version: mahin-sank-iit-kgp/alpha-racer-data/alpha_racer_multi_mpc_combined:v1372\n"
          ]
        },
        {
          "name": "stderr",
          "output_type": "stream",
          "text": [
            "\u001b[34m\u001b[1mwandb\u001b[0m:   1 of 1 files downloaded.  \n"
          ]
        },
        {
          "name": "stdout",
          "output_type": "stream",
          "text": [
            "Loaded 22 episodes from v1372\n",
            "Downloading artifact version: mahin-sank-iit-kgp/alpha-racer-data/alpha_racer_multi_mpc_combined:v1373\n"
          ]
        },
        {
          "name": "stderr",
          "output_type": "stream",
          "text": [
            "\u001b[34m\u001b[1mwandb\u001b[0m:   1 of 1 files downloaded.  \n"
          ]
        },
        {
          "name": "stdout",
          "output_type": "stream",
          "text": [
            "Loaded 15 episodes from v1373\n",
            "Downloading artifact version: mahin-sank-iit-kgp/alpha-racer-data/alpha_racer_multi_mpc_combined:v1374\n"
          ]
        },
        {
          "name": "stderr",
          "output_type": "stream",
          "text": [
            "\u001b[34m\u001b[1mwandb\u001b[0m:   1 of 1 files downloaded.  \n"
          ]
        },
        {
          "name": "stdout",
          "output_type": "stream",
          "text": [
            "Loaded 15 episodes from v1374\n",
            "Downloading artifact version: mahin-sank-iit-kgp/alpha-racer-data/alpha_racer_multi_mpc_combined:v1375\n"
          ]
        },
        {
          "name": "stderr",
          "output_type": "stream",
          "text": [
            "\u001b[34m\u001b[1mwandb\u001b[0m:   1 of 1 files downloaded.  \n"
          ]
        },
        {
          "name": "stdout",
          "output_type": "stream",
          "text": [
            "Loaded 15 episodes from v1375\n",
            "Downloading artifact version: mahin-sank-iit-kgp/alpha-racer-data/alpha_racer_multi_mpc_combined:v1376\n"
          ]
        },
        {
          "name": "stderr",
          "output_type": "stream",
          "text": [
            "\u001b[34m\u001b[1mwandb\u001b[0m:   1 of 1 files downloaded.  \n"
          ]
        },
        {
          "name": "stdout",
          "output_type": "stream",
          "text": [
            "Loaded 15 episodes from v1376\n",
            "Downloading artifact version: mahin-sank-iit-kgp/alpha-racer-data/alpha_racer_multi_mpc_combined:v1377\n"
          ]
        },
        {
          "name": "stderr",
          "output_type": "stream",
          "text": [
            "\u001b[34m\u001b[1mwandb\u001b[0m:   1 of 1 files downloaded.  \n"
          ]
        },
        {
          "name": "stdout",
          "output_type": "stream",
          "text": [
            "Loaded 22 episodes from v1377\n",
            "Downloading artifact version: mahin-sank-iit-kgp/alpha-racer-data/alpha_racer_multi_mpc_combined:v1378\n"
          ]
        },
        {
          "name": "stderr",
          "output_type": "stream",
          "text": [
            "\u001b[34m\u001b[1mwandb\u001b[0m:   1 of 1 files downloaded.  \n"
          ]
        },
        {
          "name": "stdout",
          "output_type": "stream",
          "text": [
            "Loaded 15 episodes from v1378\n",
            "Downloading artifact version: mahin-sank-iit-kgp/alpha-racer-data/alpha_racer_multi_mpc_combined:v1379\n"
          ]
        },
        {
          "name": "stderr",
          "output_type": "stream",
          "text": [
            "\u001b[34m\u001b[1mwandb\u001b[0m:   1 of 1 files downloaded.  \n"
          ]
        },
        {
          "name": "stdout",
          "output_type": "stream",
          "text": [
            "Loaded 12 episodes from v1379\n",
            "Downloading artifact version: mahin-sank-iit-kgp/alpha-racer-data/alpha_racer_multi_mpc_combined:v1380\n"
          ]
        },
        {
          "name": "stderr",
          "output_type": "stream",
          "text": [
            "\u001b[34m\u001b[1mwandb\u001b[0m:   1 of 1 files downloaded.  \n"
          ]
        },
        {
          "name": "stdout",
          "output_type": "stream",
          "text": [
            "Loaded 22 episodes from v1380\n",
            "Downloading artifact version: mahin-sank-iit-kgp/alpha-racer-data/alpha_racer_multi_mpc_combined:v1381\n"
          ]
        },
        {
          "name": "stderr",
          "output_type": "stream",
          "text": [
            "\u001b[34m\u001b[1mwandb\u001b[0m:   1 of 1 files downloaded.  \n"
          ]
        },
        {
          "name": "stdout",
          "output_type": "stream",
          "text": [
            "Loaded 16 episodes from v1381\n",
            "Downloading artifact version: mahin-sank-iit-kgp/alpha-racer-data/alpha_racer_multi_mpc_combined:v1382\n"
          ]
        },
        {
          "name": "stderr",
          "output_type": "stream",
          "text": [
            "\u001b[34m\u001b[1mwandb\u001b[0m:   1 of 1 files downloaded.  \n"
          ]
        },
        {
          "name": "stdout",
          "output_type": "stream",
          "text": [
            "Loaded 22 episodes from v1382\n",
            "Downloading artifact version: mahin-sank-iit-kgp/alpha-racer-data/alpha_racer_multi_mpc_combined:v1383\n"
          ]
        },
        {
          "name": "stderr",
          "output_type": "stream",
          "text": [
            "\u001b[34m\u001b[1mwandb\u001b[0m:   1 of 1 files downloaded.  \n"
          ]
        },
        {
          "name": "stdout",
          "output_type": "stream",
          "text": [
            "Loaded 12 episodes from v1383\n",
            "Downloading artifact version: mahin-sank-iit-kgp/alpha-racer-data/alpha_racer_multi_mpc_combined:v1384\n"
          ]
        },
        {
          "name": "stderr",
          "output_type": "stream",
          "text": [
            "\u001b[34m\u001b[1mwandb\u001b[0m:   1 of 1 files downloaded.  \n"
          ]
        },
        {
          "name": "stdout",
          "output_type": "stream",
          "text": [
            "Loaded 22 episodes from v1384\n",
            "Downloading artifact version: mahin-sank-iit-kgp/alpha-racer-data/alpha_racer_multi_mpc_combined:v1385\n"
          ]
        },
        {
          "name": "stderr",
          "output_type": "stream",
          "text": [
            "\u001b[34m\u001b[1mwandb\u001b[0m:   1 of 1 files downloaded.  \n"
          ]
        },
        {
          "name": "stdout",
          "output_type": "stream",
          "text": [
            "Loaded 16 episodes from v1385\n",
            "Downloading artifact version: mahin-sank-iit-kgp/alpha-racer-data/alpha_racer_multi_mpc_combined:v1386\n"
          ]
        },
        {
          "name": "stderr",
          "output_type": "stream",
          "text": [
            "\u001b[34m\u001b[1mwandb\u001b[0m:   1 of 1 files downloaded.  \n"
          ]
        },
        {
          "name": "stdout",
          "output_type": "stream",
          "text": [
            "Loaded 22 episodes from v1386\n",
            "Downloading artifact version: mahin-sank-iit-kgp/alpha-racer-data/alpha_racer_multi_mpc_combined:v1387\n"
          ]
        },
        {
          "name": "stderr",
          "output_type": "stream",
          "text": [
            "\u001b[34m\u001b[1mwandb\u001b[0m:   1 of 1 files downloaded.  \n"
          ]
        },
        {
          "name": "stdout",
          "output_type": "stream",
          "text": [
            "Loaded 16 episodes from v1387\n",
            "Downloading artifact version: mahin-sank-iit-kgp/alpha-racer-data/alpha_racer_multi_mpc_combined:v1388\n"
          ]
        },
        {
          "name": "stderr",
          "output_type": "stream",
          "text": [
            "\u001b[34m\u001b[1mwandb\u001b[0m:   1 of 1 files downloaded.  \n"
          ]
        },
        {
          "name": "stdout",
          "output_type": "stream",
          "text": [
            "Loaded 12 episodes from v1388\n",
            "Downloading artifact version: mahin-sank-iit-kgp/alpha-racer-data/alpha_racer_multi_mpc_combined:v1389\n"
          ]
        },
        {
          "name": "stderr",
          "output_type": "stream",
          "text": [
            "\u001b[34m\u001b[1mwandb\u001b[0m:   1 of 1 files downloaded.  \n"
          ]
        },
        {
          "name": "stdout",
          "output_type": "stream",
          "text": [
            "Loaded 22 episodes from v1389\n",
            "Downloading artifact version: mahin-sank-iit-kgp/alpha-racer-data/alpha_racer_multi_mpc_combined:v1390\n"
          ]
        },
        {
          "name": "stderr",
          "output_type": "stream",
          "text": [
            "\u001b[34m\u001b[1mwandb\u001b[0m:   1 of 1 files downloaded.  \n"
          ]
        },
        {
          "name": "stdout",
          "output_type": "stream",
          "text": [
            "Loaded 16 episodes from v1390\n",
            "Downloading artifact version: mahin-sank-iit-kgp/alpha-racer-data/alpha_racer_multi_mpc_combined:v1391\n"
          ]
        },
        {
          "name": "stderr",
          "output_type": "stream",
          "text": [
            "\u001b[34m\u001b[1mwandb\u001b[0m:   1 of 1 files downloaded.  \n"
          ]
        },
        {
          "name": "stdout",
          "output_type": "stream",
          "text": [
            "Loaded 16 episodes from v1391\n",
            "Downloading artifact version: mahin-sank-iit-kgp/alpha-racer-data/alpha_racer_multi_mpc_combined:v1392\n"
          ]
        },
        {
          "name": "stderr",
          "output_type": "stream",
          "text": [
            "\u001b[34m\u001b[1mwandb\u001b[0m:   1 of 1 files downloaded.  \n"
          ]
        },
        {
          "name": "stdout",
          "output_type": "stream",
          "text": [
            "Loaded 16 episodes from v1392\n",
            "Downloading artifact version: mahin-sank-iit-kgp/alpha-racer-data/alpha_racer_multi_mpc_combined:v1393\n"
          ]
        },
        {
          "name": "stderr",
          "output_type": "stream",
          "text": [
            "\u001b[34m\u001b[1mwandb\u001b[0m:   1 of 1 files downloaded.  \n"
          ]
        },
        {
          "name": "stdout",
          "output_type": "stream",
          "text": [
            "Loaded 16 episodes from v1393\n",
            "Downloading artifact version: mahin-sank-iit-kgp/alpha-racer-data/alpha_racer_multi_mpc_combined:v1394\n"
          ]
        },
        {
          "name": "stderr",
          "output_type": "stream",
          "text": [
            "\u001b[34m\u001b[1mwandb\u001b[0m:   1 of 1 files downloaded.  \n"
          ]
        },
        {
          "name": "stdout",
          "output_type": "stream",
          "text": [
            "Loaded 12 episodes from v1394\n",
            "Downloading artifact version: mahin-sank-iit-kgp/alpha-racer-data/alpha_racer_multi_mpc_combined:v1395\n"
          ]
        },
        {
          "name": "stderr",
          "output_type": "stream",
          "text": [
            "\u001b[34m\u001b[1mwandb\u001b[0m:   1 of 1 files downloaded.  \n"
          ]
        },
        {
          "name": "stdout",
          "output_type": "stream",
          "text": [
            "Loaded 16 episodes from v1395\n",
            "Downloading artifact version: mahin-sank-iit-kgp/alpha-racer-data/alpha_racer_multi_mpc_combined:v1396\n"
          ]
        },
        {
          "name": "stderr",
          "output_type": "stream",
          "text": [
            "\u001b[34m\u001b[1mwandb\u001b[0m:   1 of 1 files downloaded.  \n"
          ]
        },
        {
          "name": "stdout",
          "output_type": "stream",
          "text": [
            "Loaded 16 episodes from v1396\n",
            "Downloading artifact version: mahin-sank-iit-kgp/alpha-racer-data/alpha_racer_multi_mpc_combined:v1397\n"
          ]
        },
        {
          "name": "stderr",
          "output_type": "stream",
          "text": [
            "\u001b[34m\u001b[1mwandb\u001b[0m:   1 of 1 files downloaded.  \n"
          ]
        },
        {
          "name": "stdout",
          "output_type": "stream",
          "text": [
            "Loaded 16 episodes from v1397\n",
            "Downloading artifact version: mahin-sank-iit-kgp/alpha-racer-data/alpha_racer_multi_mpc_combined:v1398\n"
          ]
        },
        {
          "name": "stderr",
          "output_type": "stream",
          "text": [
            "\u001b[34m\u001b[1mwandb\u001b[0m:   1 of 1 files downloaded.  \n"
          ]
        },
        {
          "name": "stdout",
          "output_type": "stream",
          "text": [
            "Loaded 23 episodes from v1398\n",
            "Downloading artifact version: mahin-sank-iit-kgp/alpha-racer-data/alpha_racer_multi_mpc_combined:v1399\n"
          ]
        },
        {
          "name": "stderr",
          "output_type": "stream",
          "text": [
            "\u001b[34m\u001b[1mwandb\u001b[0m:   1 of 1 files downloaded.  \n"
          ]
        },
        {
          "name": "stdout",
          "output_type": "stream",
          "text": [
            "Loaded 23 episodes from v1399\n",
            "Downloading artifact version: mahin-sank-iit-kgp/alpha-racer-data/alpha_racer_multi_mpc_combined:v1400\n"
          ]
        },
        {
          "name": "stderr",
          "output_type": "stream",
          "text": [
            "\u001b[34m\u001b[1mwandb\u001b[0m:   1 of 1 files downloaded.  \n"
          ]
        },
        {
          "name": "stdout",
          "output_type": "stream",
          "text": [
            "Loaded 17 episodes from v1400\n",
            "Downloading artifact version: mahin-sank-iit-kgp/alpha-racer-data/alpha_racer_multi_mpc_combined:v1401\n"
          ]
        },
        {
          "name": "stderr",
          "output_type": "stream",
          "text": [
            "\u001b[34m\u001b[1mwandb\u001b[0m:   1 of 1 files downloaded.  \n"
          ]
        },
        {
          "name": "stdout",
          "output_type": "stream",
          "text": [
            "Loaded 17 episodes from v1401\n",
            "Downloading artifact version: mahin-sank-iit-kgp/alpha-racer-data/alpha_racer_multi_mpc_combined:v1402\n"
          ]
        },
        {
          "name": "stderr",
          "output_type": "stream",
          "text": [
            "\u001b[34m\u001b[1mwandb\u001b[0m:   1 of 1 files downloaded.  \n"
          ]
        },
        {
          "name": "stdout",
          "output_type": "stream",
          "text": [
            "Loaded 17 episodes from v1402\n",
            "Downloading artifact version: mahin-sank-iit-kgp/alpha-racer-data/alpha_racer_multi_mpc_combined:v1403\n"
          ]
        },
        {
          "name": "stderr",
          "output_type": "stream",
          "text": [
            "\u001b[34m\u001b[1mwandb\u001b[0m:   1 of 1 files downloaded.  \n"
          ]
        },
        {
          "name": "stdout",
          "output_type": "stream",
          "text": [
            "Loaded 17 episodes from v1403\n",
            "Downloading artifact version: mahin-sank-iit-kgp/alpha-racer-data/alpha_racer_multi_mpc_combined:v1404\n"
          ]
        },
        {
          "name": "stderr",
          "output_type": "stream",
          "text": [
            "\u001b[34m\u001b[1mwandb\u001b[0m:   1 of 1 files downloaded.  \n"
          ]
        },
        {
          "name": "stdout",
          "output_type": "stream",
          "text": [
            "Loaded 23 episodes from v1404\n",
            "Downloading artifact version: mahin-sank-iit-kgp/alpha-racer-data/alpha_racer_multi_mpc_combined:v1405\n"
          ]
        },
        {
          "name": "stderr",
          "output_type": "stream",
          "text": [
            "\u001b[34m\u001b[1mwandb\u001b[0m:   1 of 1 files downloaded.  \n"
          ]
        },
        {
          "name": "stdout",
          "output_type": "stream",
          "text": [
            "Loaded 17 episodes from v1405\n",
            "Downloading artifact version: mahin-sank-iit-kgp/alpha-racer-data/alpha_racer_multi_mpc_combined:v1406\n"
          ]
        },
        {
          "name": "stderr",
          "output_type": "stream",
          "text": [
            "\u001b[34m\u001b[1mwandb\u001b[0m:   1 of 1 files downloaded.  \n"
          ]
        },
        {
          "name": "stdout",
          "output_type": "stream",
          "text": [
            "Loaded 17 episodes from v1406\n",
            "Downloading artifact version: mahin-sank-iit-kgp/alpha-racer-data/alpha_racer_multi_mpc_combined:v1407\n"
          ]
        },
        {
          "name": "stderr",
          "output_type": "stream",
          "text": [
            "\u001b[34m\u001b[1mwandb\u001b[0m:   1 of 1 files downloaded.  \n"
          ]
        },
        {
          "name": "stdout",
          "output_type": "stream",
          "text": [
            "Loaded 17 episodes from v1407\n",
            "Downloading artifact version: mahin-sank-iit-kgp/alpha-racer-data/alpha_racer_multi_mpc_combined:v1408\n"
          ]
        },
        {
          "name": "stderr",
          "output_type": "stream",
          "text": [
            "\u001b[34m\u001b[1mwandb\u001b[0m:   1 of 1 files downloaded.  \n"
          ]
        },
        {
          "name": "stdout",
          "output_type": "stream",
          "text": [
            "Loaded 17 episodes from v1408\n",
            "Downloading artifact version: mahin-sank-iit-kgp/alpha-racer-data/alpha_racer_multi_mpc_combined:v1409\n"
          ]
        },
        {
          "name": "stderr",
          "output_type": "stream",
          "text": [
            "\u001b[34m\u001b[1mwandb\u001b[0m:   1 of 1 files downloaded.  \n"
          ]
        },
        {
          "name": "stdout",
          "output_type": "stream",
          "text": [
            "Loaded 23 episodes from v1409\n",
            "Downloading artifact version: mahin-sank-iit-kgp/alpha-racer-data/alpha_racer_multi_mpc_combined:v1410\n"
          ]
        },
        {
          "name": "stderr",
          "output_type": "stream",
          "text": [
            "\u001b[34m\u001b[1mwandb\u001b[0m:   1 of 1 files downloaded.  \n"
          ]
        },
        {
          "name": "stdout",
          "output_type": "stream",
          "text": [
            "Loaded 17 episodes from v1410\n",
            "Downloading artifact version: mahin-sank-iit-kgp/alpha-racer-data/alpha_racer_multi_mpc_combined:v1411\n"
          ]
        },
        {
          "name": "stderr",
          "output_type": "stream",
          "text": [
            "\u001b[34m\u001b[1mwandb\u001b[0m:   1 of 1 files downloaded.  \n"
          ]
        },
        {
          "name": "stdout",
          "output_type": "stream",
          "text": [
            "Loaded 23 episodes from v1411\n",
            "Downloading artifact version: mahin-sank-iit-kgp/alpha-racer-data/alpha_racer_multi_mpc_combined:v1412\n"
          ]
        },
        {
          "name": "stderr",
          "output_type": "stream",
          "text": [
            "\u001b[34m\u001b[1mwandb\u001b[0m:   1 of 1 files downloaded.  \n"
          ]
        },
        {
          "name": "stdout",
          "output_type": "stream",
          "text": [
            "Loaded 17 episodes from v1412\n",
            "Downloading artifact version: mahin-sank-iit-kgp/alpha-racer-data/alpha_racer_multi_mpc_combined:v1413\n"
          ]
        },
        {
          "name": "stderr",
          "output_type": "stream",
          "text": [
            "\u001b[34m\u001b[1mwandb\u001b[0m:   1 of 1 files downloaded.  \n"
          ]
        },
        {
          "name": "stdout",
          "output_type": "stream",
          "text": [
            "Loaded 23 episodes from v1413\n",
            "Downloading artifact version: mahin-sank-iit-kgp/alpha-racer-data/alpha_racer_multi_mpc_combined:v1414\n"
          ]
        },
        {
          "name": "stderr",
          "output_type": "stream",
          "text": [
            "\u001b[34m\u001b[1mwandb\u001b[0m:   1 of 1 files downloaded.  \n"
          ]
        },
        {
          "name": "stdout",
          "output_type": "stream",
          "text": [
            "Loaded 23 episodes from v1414\n",
            "Downloading artifact version: mahin-sank-iit-kgp/alpha-racer-data/alpha_racer_multi_mpc_combined:v1415\n"
          ]
        },
        {
          "name": "stderr",
          "output_type": "stream",
          "text": [
            "\u001b[34m\u001b[1mwandb\u001b[0m:   1 of 1 files downloaded.  \n"
          ]
        },
        {
          "name": "stdout",
          "output_type": "stream",
          "text": [
            "Loaded 18 episodes from v1415\n",
            "Downloading artifact version: mahin-sank-iit-kgp/alpha-racer-data/alpha_racer_multi_mpc_combined:v1416\n"
          ]
        },
        {
          "name": "stderr",
          "output_type": "stream",
          "text": [
            "\u001b[34m\u001b[1mwandb\u001b[0m:   1 of 1 files downloaded.  \n"
          ]
        },
        {
          "name": "stdout",
          "output_type": "stream",
          "text": [
            "Loaded 23 episodes from v1416\n",
            "Downloading artifact version: mahin-sank-iit-kgp/alpha-racer-data/alpha_racer_multi_mpc_combined:v1417\n"
          ]
        },
        {
          "name": "stderr",
          "output_type": "stream",
          "text": [
            "\u001b[34m\u001b[1mwandb\u001b[0m:   1 of 1 files downloaded.  \n"
          ]
        },
        {
          "name": "stdout",
          "output_type": "stream",
          "text": [
            "Loaded 18 episodes from v1417\n",
            "Downloading artifact version: mahin-sank-iit-kgp/alpha-racer-data/alpha_racer_multi_mpc_combined:v1418\n"
          ]
        },
        {
          "name": "stderr",
          "output_type": "stream",
          "text": [
            "\u001b[34m\u001b[1mwandb\u001b[0m:   1 of 1 files downloaded.  \n"
          ]
        },
        {
          "name": "stdout",
          "output_type": "stream",
          "text": [
            "Loaded 13 episodes from v1418\n",
            "Downloading artifact version: mahin-sank-iit-kgp/alpha-racer-data/alpha_racer_multi_mpc_combined:v1419\n"
          ]
        },
        {
          "name": "stderr",
          "output_type": "stream",
          "text": [
            "\u001b[34m\u001b[1mwandb\u001b[0m:   1 of 1 files downloaded.  \n"
          ]
        },
        {
          "name": "stdout",
          "output_type": "stream",
          "text": [
            "Loaded 13 episodes from v1419\n",
            "Downloading artifact version: mahin-sank-iit-kgp/alpha-racer-data/alpha_racer_multi_mpc_combined:v1420\n"
          ]
        },
        {
          "name": "stderr",
          "output_type": "stream",
          "text": [
            "\u001b[34m\u001b[1mwandb\u001b[0m:   1 of 1 files downloaded.  \n"
          ]
        },
        {
          "name": "stdout",
          "output_type": "stream",
          "text": [
            "Loaded 23 episodes from v1420\n",
            "Downloading artifact version: mahin-sank-iit-kgp/alpha-racer-data/alpha_racer_multi_mpc_combined:v1421\n"
          ]
        },
        {
          "name": "stderr",
          "output_type": "stream",
          "text": [
            "\u001b[34m\u001b[1mwandb\u001b[0m:   1 of 1 files downloaded.  \n"
          ]
        },
        {
          "name": "stdout",
          "output_type": "stream",
          "text": [
            "Loaded 18 episodes from v1421\n",
            "Downloading artifact version: mahin-sank-iit-kgp/alpha-racer-data/alpha_racer_multi_mpc_combined:v1422\n"
          ]
        },
        {
          "name": "stderr",
          "output_type": "stream",
          "text": [
            "\u001b[34m\u001b[1mwandb\u001b[0m:   1 of 1 files downloaded.  \n"
          ]
        },
        {
          "name": "stdout",
          "output_type": "stream",
          "text": [
            "Loaded 18 episodes from v1422\n",
            "Downloading artifact version: mahin-sank-iit-kgp/alpha-racer-data/alpha_racer_multi_mpc_combined:v1423\n"
          ]
        },
        {
          "name": "stderr",
          "output_type": "stream",
          "text": [
            "\u001b[34m\u001b[1mwandb\u001b[0m:   1 of 1 files downloaded.  \n"
          ]
        },
        {
          "name": "stdout",
          "output_type": "stream",
          "text": [
            "Loaded 18 episodes from v1423\n",
            "Downloading artifact version: mahin-sank-iit-kgp/alpha-racer-data/alpha_racer_multi_mpc_combined:v1424\n"
          ]
        },
        {
          "name": "stderr",
          "output_type": "stream",
          "text": [
            "\u001b[34m\u001b[1mwandb\u001b[0m:   1 of 1 files downloaded.  \n"
          ]
        },
        {
          "name": "stdout",
          "output_type": "stream",
          "text": [
            "Loaded 18 episodes from v1424\n",
            "Downloading artifact version: mahin-sank-iit-kgp/alpha-racer-data/alpha_racer_multi_mpc_combined:v1425\n"
          ]
        },
        {
          "name": "stderr",
          "output_type": "stream",
          "text": [
            "\u001b[34m\u001b[1mwandb\u001b[0m:   1 of 1 files downloaded.  \n"
          ]
        },
        {
          "name": "stdout",
          "output_type": "stream",
          "text": [
            "Loaded 18 episodes from v1425\n",
            "Downloading artifact version: mahin-sank-iit-kgp/alpha-racer-data/alpha_racer_multi_mpc_combined:v1426\n"
          ]
        },
        {
          "name": "stderr",
          "output_type": "stream",
          "text": [
            "\u001b[34m\u001b[1mwandb\u001b[0m:   1 of 1 files downloaded.  \n"
          ]
        },
        {
          "name": "stdout",
          "output_type": "stream",
          "text": [
            "Loaded 18 episodes from v1426\n",
            "Downloading artifact version: mahin-sank-iit-kgp/alpha-racer-data/alpha_racer_multi_mpc_combined:v1427\n"
          ]
        },
        {
          "name": "stderr",
          "output_type": "stream",
          "text": [
            "\u001b[34m\u001b[1mwandb\u001b[0m:   1 of 1 files downloaded.  \n"
          ]
        },
        {
          "name": "stdout",
          "output_type": "stream",
          "text": [
            "Loaded 24 episodes from v1427\n",
            "Downloading artifact version: mahin-sank-iit-kgp/alpha-racer-data/alpha_racer_multi_mpc_combined:v1428\n"
          ]
        },
        {
          "name": "stderr",
          "output_type": "stream",
          "text": [
            "\u001b[34m\u001b[1mwandb\u001b[0m:   1 of 1 files downloaded.  \n"
          ]
        },
        {
          "name": "stdout",
          "output_type": "stream",
          "text": [
            "Loaded 13 episodes from v1428\n",
            "Downloading artifact version: mahin-sank-iit-kgp/alpha-racer-data/alpha_racer_multi_mpc_combined:v1429\n"
          ]
        },
        {
          "name": "stderr",
          "output_type": "stream",
          "text": [
            "\u001b[34m\u001b[1mwandb\u001b[0m:   1 of 1 files downloaded.  \n"
          ]
        },
        {
          "name": "stdout",
          "output_type": "stream",
          "text": [
            "Loaded 18 episodes from v1429\n",
            "Downloading artifact version: mahin-sank-iit-kgp/alpha-racer-data/alpha_racer_multi_mpc_combined:v1430\n"
          ]
        },
        {
          "name": "stderr",
          "output_type": "stream",
          "text": [
            "\u001b[34m\u001b[1mwandb\u001b[0m:   1 of 1 files downloaded.  \n"
          ]
        },
        {
          "name": "stdout",
          "output_type": "stream",
          "text": [
            "Loaded 18 episodes from v1430\n",
            "Downloading artifact version: mahin-sank-iit-kgp/alpha-racer-data/alpha_racer_multi_mpc_combined:v1431\n"
          ]
        },
        {
          "name": "stderr",
          "output_type": "stream",
          "text": [
            "\u001b[34m\u001b[1mwandb\u001b[0m:   1 of 1 files downloaded.  \n"
          ]
        },
        {
          "name": "stdout",
          "output_type": "stream",
          "text": [
            "Loaded 24 episodes from v1431\n",
            "Downloading artifact version: mahin-sank-iit-kgp/alpha-racer-data/alpha_racer_multi_mpc_combined:v1432\n"
          ]
        },
        {
          "name": "stderr",
          "output_type": "stream",
          "text": [
            "\u001b[34m\u001b[1mwandb\u001b[0m:   1 of 1 files downloaded.  \n"
          ]
        },
        {
          "name": "stdout",
          "output_type": "stream",
          "text": [
            "Loaded 19 episodes from v1432\n",
            "Downloading artifact version: mahin-sank-iit-kgp/alpha-racer-data/alpha_racer_multi_mpc_combined:v1433\n"
          ]
        },
        {
          "name": "stderr",
          "output_type": "stream",
          "text": [
            "\u001b[34m\u001b[1mwandb\u001b[0m:   1 of 1 files downloaded.  \n"
          ]
        },
        {
          "name": "stdout",
          "output_type": "stream",
          "text": [
            "Loaded 13 episodes from v1433\n",
            "Downloading artifact version: mahin-sank-iit-kgp/alpha-racer-data/alpha_racer_multi_mpc_combined:v1434\n"
          ]
        },
        {
          "name": "stderr",
          "output_type": "stream",
          "text": [
            "\u001b[34m\u001b[1mwandb\u001b[0m:   1 of 1 files downloaded.  \n"
          ]
        },
        {
          "name": "stdout",
          "output_type": "stream",
          "text": [
            "Loaded 19 episodes from v1434\n",
            "Downloading artifact version: mahin-sank-iit-kgp/alpha-racer-data/alpha_racer_multi_mpc_combined:v1435\n"
          ]
        },
        {
          "name": "stderr",
          "output_type": "stream",
          "text": [
            "\u001b[34m\u001b[1mwandb\u001b[0m:   1 of 1 files downloaded.  \n"
          ]
        },
        {
          "name": "stdout",
          "output_type": "stream",
          "text": [
            "Loaded 19 episodes from v1435\n",
            "Downloading artifact version: mahin-sank-iit-kgp/alpha-racer-data/alpha_racer_multi_mpc_combined:v1436\n"
          ]
        },
        {
          "name": "stderr",
          "output_type": "stream",
          "text": [
            "\u001b[34m\u001b[1mwandb\u001b[0m:   1 of 1 files downloaded.  \n"
          ]
        },
        {
          "name": "stdout",
          "output_type": "stream",
          "text": [
            "Loaded 24 episodes from v1436\n",
            "Downloading artifact version: mahin-sank-iit-kgp/alpha-racer-data/alpha_racer_multi_mpc_combined:v1437\n"
          ]
        },
        {
          "name": "stderr",
          "output_type": "stream",
          "text": [
            "\u001b[34m\u001b[1mwandb\u001b[0m:   1 of 1 files downloaded.  \n"
          ]
        },
        {
          "name": "stdout",
          "output_type": "stream",
          "text": [
            "Loaded 19 episodes from v1437\n",
            "Downloading artifact version: mahin-sank-iit-kgp/alpha-racer-data/alpha_racer_multi_mpc_combined:v1438\n"
          ]
        },
        {
          "name": "stderr",
          "output_type": "stream",
          "text": [
            "\u001b[34m\u001b[1mwandb\u001b[0m:   1 of 1 files downloaded.  \n"
          ]
        },
        {
          "name": "stdout",
          "output_type": "stream",
          "text": [
            "Loaded 19 episodes from v1438\n",
            "Downloading artifact version: mahin-sank-iit-kgp/alpha-racer-data/alpha_racer_multi_mpc_combined:v1439\n"
          ]
        },
        {
          "name": "stderr",
          "output_type": "stream",
          "text": [
            "\u001b[34m\u001b[1mwandb\u001b[0m:   1 of 1 files downloaded.  \n"
          ]
        },
        {
          "name": "stdout",
          "output_type": "stream",
          "text": [
            "Loaded 19 episodes from v1439\n",
            "Downloading artifact version: mahin-sank-iit-kgp/alpha-racer-data/alpha_racer_multi_mpc_combined:v1440\n"
          ]
        },
        {
          "name": "stderr",
          "output_type": "stream",
          "text": [
            "\u001b[34m\u001b[1mwandb\u001b[0m:   1 of 1 files downloaded.  \n"
          ]
        },
        {
          "name": "stdout",
          "output_type": "stream",
          "text": [
            "Loaded 24 episodes from v1440\n",
            "Downloading artifact version: mahin-sank-iit-kgp/alpha-racer-data/alpha_racer_multi_mpc_combined:v1441\n"
          ]
        },
        {
          "name": "stderr",
          "output_type": "stream",
          "text": [
            "\u001b[34m\u001b[1mwandb\u001b[0m:   1 of 1 files downloaded.  \n"
          ]
        },
        {
          "name": "stdout",
          "output_type": "stream",
          "text": [
            "Loaded 19 episodes from v1441\n",
            "Downloading artifact version: mahin-sank-iit-kgp/alpha-racer-data/alpha_racer_multi_mpc_combined:v1442\n"
          ]
        },
        {
          "name": "stderr",
          "output_type": "stream",
          "text": [
            "\u001b[34m\u001b[1mwandb\u001b[0m:   1 of 1 files downloaded.  \n"
          ]
        },
        {
          "name": "stdout",
          "output_type": "stream",
          "text": [
            "Loaded 24 episodes from v1442\n",
            "Downloading artifact version: mahin-sank-iit-kgp/alpha-racer-data/alpha_racer_multi_mpc_combined:v1443\n"
          ]
        },
        {
          "name": "stderr",
          "output_type": "stream",
          "text": [
            "\u001b[34m\u001b[1mwandb\u001b[0m:   1 of 1 files downloaded.  \n"
          ]
        },
        {
          "name": "stdout",
          "output_type": "stream",
          "text": [
            "Loaded 19 episodes from v1443\n",
            "Downloading artifact version: mahin-sank-iit-kgp/alpha-racer-data/alpha_racer_multi_mpc_combined:v1444\n"
          ]
        },
        {
          "name": "stderr",
          "output_type": "stream",
          "text": [
            "\u001b[34m\u001b[1mwandb\u001b[0m:   1 of 1 files downloaded.  \n"
          ]
        },
        {
          "name": "stdout",
          "output_type": "stream",
          "text": [
            "Loaded 24 episodes from v1444\n",
            "Downloading artifact version: mahin-sank-iit-kgp/alpha-racer-data/alpha_racer_multi_mpc_combined:v1445\n"
          ]
        },
        {
          "name": "stderr",
          "output_type": "stream",
          "text": [
            "\u001b[34m\u001b[1mwandb\u001b[0m:   1 of 1 files downloaded.  \n"
          ]
        },
        {
          "name": "stdout",
          "output_type": "stream",
          "text": [
            "Loaded 13 episodes from v1445\n",
            "Downloading artifact version: mahin-sank-iit-kgp/alpha-racer-data/alpha_racer_multi_mpc_combined:v1446\n"
          ]
        },
        {
          "name": "stderr",
          "output_type": "stream",
          "text": [
            "\u001b[34m\u001b[1mwandb\u001b[0m:   1 of 1 files downloaded.  \n"
          ]
        },
        {
          "name": "stdout",
          "output_type": "stream",
          "text": [
            "Loaded 24 episodes from v1446\n",
            "Downloading artifact version: mahin-sank-iit-kgp/alpha-racer-data/alpha_racer_multi_mpc_combined:v1447\n"
          ]
        },
        {
          "name": "stderr",
          "output_type": "stream",
          "text": [
            "\u001b[34m\u001b[1mwandb\u001b[0m:   1 of 1 files downloaded.  \n"
          ]
        },
        {
          "name": "stdout",
          "output_type": "stream",
          "text": [
            "Loaded 19 episodes from v1447\n",
            "Downloading artifact version: mahin-sank-iit-kgp/alpha-racer-data/alpha_racer_multi_mpc_combined:v1448\n"
          ]
        },
        {
          "name": "stderr",
          "output_type": "stream",
          "text": [
            "\u001b[34m\u001b[1mwandb\u001b[0m:   1 of 1 files downloaded.  \n"
          ]
        },
        {
          "name": "stdout",
          "output_type": "stream",
          "text": [
            "Loaded 19 episodes from v1448\n",
            "Downloading artifact version: mahin-sank-iit-kgp/alpha-racer-data/alpha_racer_multi_mpc_combined:v1449\n"
          ]
        },
        {
          "name": "stderr",
          "output_type": "stream",
          "text": [
            "\u001b[34m\u001b[1mwandb\u001b[0m:   1 of 1 files downloaded.  \n"
          ]
        },
        {
          "name": "stdout",
          "output_type": "stream",
          "text": [
            "Loaded 24 episodes from v1449\n",
            "Downloading artifact version: mahin-sank-iit-kgp/alpha-racer-data/alpha_racer_multi_mpc_combined:v1450\n"
          ]
        },
        {
          "name": "stderr",
          "output_type": "stream",
          "text": [
            "\u001b[34m\u001b[1mwandb\u001b[0m:   1 of 1 files downloaded.  \n"
          ]
        },
        {
          "name": "stdout",
          "output_type": "stream",
          "text": [
            "Loaded 20 episodes from v1450\n",
            "Downloading artifact version: mahin-sank-iit-kgp/alpha-racer-data/alpha_racer_multi_mpc_combined:v1451\n"
          ]
        },
        {
          "name": "stderr",
          "output_type": "stream",
          "text": [
            "\u001b[34m\u001b[1mwandb\u001b[0m:   1 of 1 files downloaded.  \n"
          ]
        },
        {
          "name": "stdout",
          "output_type": "stream",
          "text": [
            "Loaded 13 episodes from v1451\n",
            "Downloading artifact version: mahin-sank-iit-kgp/alpha-racer-data/alpha_racer_multi_mpc_combined:v1452\n"
          ]
        },
        {
          "name": "stderr",
          "output_type": "stream",
          "text": [
            "\u001b[34m\u001b[1mwandb\u001b[0m:   1 of 1 files downloaded.  \n"
          ]
        },
        {
          "name": "stdout",
          "output_type": "stream",
          "text": [
            "Loaded 20 episodes from v1452\n",
            "Downloading artifact version: mahin-sank-iit-kgp/alpha-racer-data/alpha_racer_multi_mpc_combined:v1453\n"
          ]
        },
        {
          "name": "stderr",
          "output_type": "stream",
          "text": [
            "\u001b[34m\u001b[1mwandb\u001b[0m:   1 of 1 files downloaded.  \n"
          ]
        },
        {
          "name": "stdout",
          "output_type": "stream",
          "text": [
            "Loaded 24 episodes from v1453\n",
            "Downloading artifact version: mahin-sank-iit-kgp/alpha-racer-data/alpha_racer_multi_mpc_combined:v1454\n"
          ]
        },
        {
          "name": "stderr",
          "output_type": "stream",
          "text": [
            "\u001b[34m\u001b[1mwandb\u001b[0m:   1 of 1 files downloaded.  \n"
          ]
        },
        {
          "name": "stdout",
          "output_type": "stream",
          "text": [
            "Loaded 13 episodes from v1454\n",
            "Downloading artifact version: mahin-sank-iit-kgp/alpha-racer-data/alpha_racer_multi_mpc_combined:v1455\n"
          ]
        },
        {
          "name": "stderr",
          "output_type": "stream",
          "text": [
            "\u001b[34m\u001b[1mwandb\u001b[0m:   1 of 1 files downloaded.  \n"
          ]
        },
        {
          "name": "stdout",
          "output_type": "stream",
          "text": [
            "Loaded 20 episodes from v1455\n",
            "Downloading artifact version: mahin-sank-iit-kgp/alpha-racer-data/alpha_racer_multi_mpc_combined:v1456\n"
          ]
        },
        {
          "name": "stderr",
          "output_type": "stream",
          "text": [
            "\u001b[34m\u001b[1mwandb\u001b[0m:   1 of 1 files downloaded.  \n"
          ]
        },
        {
          "name": "stdout",
          "output_type": "stream",
          "text": [
            "Loaded 20 episodes from v1456\n",
            "Downloading artifact version: mahin-sank-iit-kgp/alpha-racer-data/alpha_racer_multi_mpc_combined:v1457\n"
          ]
        },
        {
          "name": "stderr",
          "output_type": "stream",
          "text": [
            "\u001b[34m\u001b[1mwandb\u001b[0m:   1 of 1 files downloaded.  \n"
          ]
        },
        {
          "name": "stdout",
          "output_type": "stream",
          "text": [
            "Loaded 20 episodes from v1457\n",
            "Downloading artifact version: mahin-sank-iit-kgp/alpha-racer-data/alpha_racer_multi_mpc_combined:v1458\n"
          ]
        },
        {
          "name": "stderr",
          "output_type": "stream",
          "text": [
            "\u001b[34m\u001b[1mwandb\u001b[0m:   1 of 1 files downloaded.  \n"
          ]
        },
        {
          "name": "stdout",
          "output_type": "stream",
          "text": [
            "Loaded 25 episodes from v1458\n",
            "Downloading artifact version: mahin-sank-iit-kgp/alpha-racer-data/alpha_racer_multi_mpc_combined:v1459\n"
          ]
        },
        {
          "name": "stderr",
          "output_type": "stream",
          "text": [
            "\u001b[34m\u001b[1mwandb\u001b[0m:   1 of 1 files downloaded.  \n"
          ]
        },
        {
          "name": "stdout",
          "output_type": "stream",
          "text": [
            "Loaded 13 episodes from v1459\n",
            "Downloading artifact version: mahin-sank-iit-kgp/alpha-racer-data/alpha_racer_multi_mpc_combined:v1460\n"
          ]
        },
        {
          "name": "stderr",
          "output_type": "stream",
          "text": [
            "\u001b[34m\u001b[1mwandb\u001b[0m:   1 of 1 files downloaded.  \n"
          ]
        },
        {
          "name": "stdout",
          "output_type": "stream",
          "text": [
            "Loaded 20 episodes from v1460\n",
            "Downloading artifact version: mahin-sank-iit-kgp/alpha-racer-data/alpha_racer_multi_mpc_combined:v1461\n"
          ]
        },
        {
          "name": "stderr",
          "output_type": "stream",
          "text": [
            "\u001b[34m\u001b[1mwandb\u001b[0m:   1 of 1 files downloaded.  \n"
          ]
        },
        {
          "name": "stdout",
          "output_type": "stream",
          "text": [
            "Loaded 25 episodes from v1461\n",
            "Downloading artifact version: mahin-sank-iit-kgp/alpha-racer-data/alpha_racer_multi_mpc_combined:v1462\n"
          ]
        },
        {
          "name": "stderr",
          "output_type": "stream",
          "text": [
            "\u001b[34m\u001b[1mwandb\u001b[0m:   1 of 1 files downloaded.  \n"
          ]
        },
        {
          "name": "stdout",
          "output_type": "stream",
          "text": [
            "Loaded 26 episodes from v1462\n",
            "Downloading artifact version: mahin-sank-iit-kgp/alpha-racer-data/alpha_racer_multi_mpc_combined:v1463\n"
          ]
        },
        {
          "name": "stderr",
          "output_type": "stream",
          "text": [
            "\u001b[34m\u001b[1mwandb\u001b[0m:   1 of 1 files downloaded.  \n"
          ]
        },
        {
          "name": "stdout",
          "output_type": "stream",
          "text": [
            "Loaded 20 episodes from v1463\n",
            "Downloading artifact version: mahin-sank-iit-kgp/alpha-racer-data/alpha_racer_multi_mpc_combined:v1464\n"
          ]
        },
        {
          "name": "stderr",
          "output_type": "stream",
          "text": [
            "\u001b[34m\u001b[1mwandb\u001b[0m:   1 of 1 files downloaded.  \n"
          ]
        },
        {
          "name": "stdout",
          "output_type": "stream",
          "text": [
            "Loaded 26 episodes from v1464\n",
            "Downloading artifact version: mahin-sank-iit-kgp/alpha-racer-data/alpha_racer_multi_mpc_combined:v1465\n"
          ]
        },
        {
          "name": "stderr",
          "output_type": "stream",
          "text": [
            "\u001b[34m\u001b[1mwandb\u001b[0m:   1 of 1 files downloaded.  \n"
          ]
        },
        {
          "name": "stdout",
          "output_type": "stream",
          "text": [
            "Loaded 20 episodes from v1465\n",
            "Downloading artifact version: mahin-sank-iit-kgp/alpha-racer-data/alpha_racer_multi_mpc_combined:v1466\n"
          ]
        },
        {
          "name": "stderr",
          "output_type": "stream",
          "text": [
            "\u001b[34m\u001b[1mwandb\u001b[0m:   1 of 1 files downloaded.  \n"
          ]
        },
        {
          "name": "stdout",
          "output_type": "stream",
          "text": [
            "Loaded 20 episodes from v1466\n",
            "Downloading artifact version: mahin-sank-iit-kgp/alpha-racer-data/alpha_racer_multi_mpc_combined:v1467\n"
          ]
        },
        {
          "name": "stderr",
          "output_type": "stream",
          "text": [
            "\u001b[34m\u001b[1mwandb\u001b[0m:   1 of 1 files downloaded.  \n"
          ]
        },
        {
          "name": "stdout",
          "output_type": "stream",
          "text": [
            "Loaded 20 episodes from v1467\n",
            "Downloading artifact version: mahin-sank-iit-kgp/alpha-racer-data/alpha_racer_multi_mpc_combined:v1468\n"
          ]
        },
        {
          "name": "stderr",
          "output_type": "stream",
          "text": [
            "\u001b[34m\u001b[1mwandb\u001b[0m:   1 of 1 files downloaded.  \n"
          ]
        },
        {
          "name": "stdout",
          "output_type": "stream",
          "text": [
            "Loaded 13 episodes from v1468\n",
            "Downloading artifact version: mahin-sank-iit-kgp/alpha-racer-data/alpha_racer_multi_mpc_combined:v1469\n"
          ]
        },
        {
          "name": "stderr",
          "output_type": "stream",
          "text": [
            "\u001b[34m\u001b[1mwandb\u001b[0m:   1 of 1 files downloaded.  \n"
          ]
        },
        {
          "name": "stdout",
          "output_type": "stream",
          "text": [
            "Loaded 21 episodes from v1469\n",
            "Downloading artifact version: mahin-sank-iit-kgp/alpha-racer-data/alpha_racer_multi_mpc_combined:v1470\n"
          ]
        },
        {
          "name": "stderr",
          "output_type": "stream",
          "text": [
            "\u001b[34m\u001b[1mwandb\u001b[0m:   1 of 1 files downloaded.  \n"
          ]
        },
        {
          "name": "stdout",
          "output_type": "stream",
          "text": [
            "Loaded 13 episodes from v1470\n",
            "Downloading artifact version: mahin-sank-iit-kgp/alpha-racer-data/alpha_racer_multi_mpc_combined:v1471\n"
          ]
        },
        {
          "name": "stderr",
          "output_type": "stream",
          "text": [
            "\u001b[34m\u001b[1mwandb\u001b[0m:   1 of 1 files downloaded.  \n"
          ]
        },
        {
          "name": "stdout",
          "output_type": "stream",
          "text": [
            "Loaded 21 episodes from v1471\n",
            "Downloading artifact version: mahin-sank-iit-kgp/alpha-racer-data/alpha_racer_multi_mpc_combined:v1472\n"
          ]
        },
        {
          "name": "stderr",
          "output_type": "stream",
          "text": [
            "\u001b[34m\u001b[1mwandb\u001b[0m:   1 of 1 files downloaded.  \n"
          ]
        },
        {
          "name": "stdout",
          "output_type": "stream",
          "text": [
            "Loaded 25 episodes from v1472\n",
            "Downloading artifact version: mahin-sank-iit-kgp/alpha-racer-data/alpha_racer_multi_mpc_combined:v1473\n"
          ]
        },
        {
          "name": "stderr",
          "output_type": "stream",
          "text": [
            "\u001b[34m\u001b[1mwandb\u001b[0m:   1 of 1 files downloaded.  \n"
          ]
        },
        {
          "name": "stdout",
          "output_type": "stream",
          "text": [
            "Loaded 26 episodes from v1473\n",
            "Downloading artifact version: mahin-sank-iit-kgp/alpha-racer-data/alpha_racer_multi_mpc_combined:v1474\n"
          ]
        },
        {
          "name": "stderr",
          "output_type": "stream",
          "text": [
            "\u001b[34m\u001b[1mwandb\u001b[0m:   1 of 1 files downloaded.  \n"
          ]
        },
        {
          "name": "stdout",
          "output_type": "stream",
          "text": [
            "Loaded 25 episodes from v1474\n",
            "Downloading artifact version: mahin-sank-iit-kgp/alpha-racer-data/alpha_racer_multi_mpc_combined:v1475\n"
          ]
        },
        {
          "name": "stderr",
          "output_type": "stream",
          "text": [
            "\u001b[34m\u001b[1mwandb\u001b[0m:   1 of 1 files downloaded.  \n"
          ]
        },
        {
          "name": "stdout",
          "output_type": "stream",
          "text": [
            "Loaded 25 episodes from v1475\n",
            "Downloading artifact version: mahin-sank-iit-kgp/alpha-racer-data/alpha_racer_multi_mpc_combined:v1476\n"
          ]
        },
        {
          "name": "stderr",
          "output_type": "stream",
          "text": [
            "\u001b[34m\u001b[1mwandb\u001b[0m:   1 of 1 files downloaded.  \n"
          ]
        },
        {
          "name": "stdout",
          "output_type": "stream",
          "text": [
            "Loaded 21 episodes from v1476\n",
            "Downloading artifact version: mahin-sank-iit-kgp/alpha-racer-data/alpha_racer_multi_mpc_combined:v1477\n"
          ]
        },
        {
          "name": "stderr",
          "output_type": "stream",
          "text": [
            "\u001b[34m\u001b[1mwandb\u001b[0m:   1 of 1 files downloaded.  \n"
          ]
        },
        {
          "name": "stdout",
          "output_type": "stream",
          "text": [
            "Loaded 21 episodes from v1477\n",
            "Downloading artifact version: mahin-sank-iit-kgp/alpha-racer-data/alpha_racer_multi_mpc_combined:v1478\n"
          ]
        },
        {
          "name": "stderr",
          "output_type": "stream",
          "text": [
            "\u001b[34m\u001b[1mwandb\u001b[0m:   1 of 1 files downloaded.  \n"
          ]
        },
        {
          "name": "stdout",
          "output_type": "stream",
          "text": [
            "Loaded 26 episodes from v1478\n",
            "Downloading artifact version: mahin-sank-iit-kgp/alpha-racer-data/alpha_racer_multi_mpc_combined:v1479\n"
          ]
        },
        {
          "name": "stderr",
          "output_type": "stream",
          "text": [
            "\u001b[34m\u001b[1mwandb\u001b[0m:   1 of 1 files downloaded.  \n"
          ]
        },
        {
          "name": "stdout",
          "output_type": "stream",
          "text": [
            "Loaded 26 episodes from v1479\n",
            "Downloading artifact version: mahin-sank-iit-kgp/alpha-racer-data/alpha_racer_multi_mpc_combined:v1480\n"
          ]
        },
        {
          "name": "stderr",
          "output_type": "stream",
          "text": [
            "\u001b[34m\u001b[1mwandb\u001b[0m:   1 of 1 files downloaded.  \n"
          ]
        },
        {
          "name": "stdout",
          "output_type": "stream",
          "text": [
            "Loaded 25 episodes from v1480\n",
            "Downloading artifact version: mahin-sank-iit-kgp/alpha-racer-data/alpha_racer_multi_mpc_combined:v1481\n"
          ]
        },
        {
          "name": "stderr",
          "output_type": "stream",
          "text": [
            "\u001b[34m\u001b[1mwandb\u001b[0m:   1 of 1 files downloaded.  \n"
          ]
        },
        {
          "name": "stdout",
          "output_type": "stream",
          "text": [
            "Loaded 25 episodes from v1481\n",
            "Downloading artifact version: mahin-sank-iit-kgp/alpha-racer-data/alpha_racer_multi_mpc_combined:v1482\n"
          ]
        },
        {
          "name": "stderr",
          "output_type": "stream",
          "text": [
            "\u001b[34m\u001b[1mwandb\u001b[0m:   1 of 1 files downloaded.  \n"
          ]
        },
        {
          "name": "stdout",
          "output_type": "stream",
          "text": [
            "Loaded 21 episodes from v1482\n",
            "Downloading artifact version: mahin-sank-iit-kgp/alpha-racer-data/alpha_racer_multi_mpc_combined:v1483\n"
          ]
        },
        {
          "name": "stderr",
          "output_type": "stream",
          "text": [
            "\u001b[34m\u001b[1mwandb\u001b[0m:   1 of 1 files downloaded.  \n"
          ]
        },
        {
          "name": "stdout",
          "output_type": "stream",
          "text": [
            "Loaded 26 episodes from v1483\n",
            "Downloading artifact version: mahin-sank-iit-kgp/alpha-racer-data/alpha_racer_multi_mpc_combined:v1484\n"
          ]
        },
        {
          "name": "stderr",
          "output_type": "stream",
          "text": [
            "\u001b[34m\u001b[1mwandb\u001b[0m:   1 of 1 files downloaded.  \n"
          ]
        },
        {
          "name": "stdout",
          "output_type": "stream",
          "text": [
            "Loaded 25 episodes from v1484\n",
            "Downloading artifact version: mahin-sank-iit-kgp/alpha-racer-data/alpha_racer_multi_mpc_combined:v1485\n"
          ]
        },
        {
          "name": "stderr",
          "output_type": "stream",
          "text": [
            "\u001b[34m\u001b[1mwandb\u001b[0m:   1 of 1 files downloaded.  \n"
          ]
        },
        {
          "name": "stdout",
          "output_type": "stream",
          "text": [
            "Loaded 21 episodes from v1485\n",
            "Downloading artifact version: mahin-sank-iit-kgp/alpha-racer-data/alpha_racer_multi_mpc_combined:v1486\n"
          ]
        },
        {
          "name": "stderr",
          "output_type": "stream",
          "text": [
            "\u001b[34m\u001b[1mwandb\u001b[0m:   1 of 1 files downloaded.  \n"
          ]
        },
        {
          "name": "stdout",
          "output_type": "stream",
          "text": [
            "Loaded 26 episodes from v1486\n",
            "Downloading artifact version: mahin-sank-iit-kgp/alpha-racer-data/alpha_racer_multi_mpc_combined:v1487\n"
          ]
        },
        {
          "name": "stderr",
          "output_type": "stream",
          "text": [
            "\u001b[34m\u001b[1mwandb\u001b[0m:   1 of 1 files downloaded.  \n"
          ]
        },
        {
          "name": "stdout",
          "output_type": "stream",
          "text": [
            "Loaded 21 episodes from v1487\n",
            "Downloading artifact version: mahin-sank-iit-kgp/alpha-racer-data/alpha_racer_multi_mpc_combined:v1488\n"
          ]
        },
        {
          "name": "stderr",
          "output_type": "stream",
          "text": [
            "\u001b[34m\u001b[1mwandb\u001b[0m:   1 of 1 files downloaded.  \n"
          ]
        },
        {
          "name": "stdout",
          "output_type": "stream",
          "text": [
            "Loaded 26 episodes from v1488\n",
            "Downloading artifact version: mahin-sank-iit-kgp/alpha-racer-data/alpha_racer_multi_mpc_combined:v1489\n"
          ]
        },
        {
          "name": "stderr",
          "output_type": "stream",
          "text": [
            "\u001b[34m\u001b[1mwandb\u001b[0m:   1 of 1 files downloaded.  \n"
          ]
        },
        {
          "name": "stdout",
          "output_type": "stream",
          "text": [
            "Loaded 25 episodes from v1489\n",
            "Downloading artifact version: mahin-sank-iit-kgp/alpha-racer-data/alpha_racer_multi_mpc_combined:v1490\n"
          ]
        },
        {
          "name": "stderr",
          "output_type": "stream",
          "text": [
            "\u001b[34m\u001b[1mwandb\u001b[0m:   1 of 1 files downloaded.  \n"
          ]
        },
        {
          "name": "stdout",
          "output_type": "stream",
          "text": [
            "Loaded 21 episodes from v1490\n",
            "Downloading artifact version: mahin-sank-iit-kgp/alpha-racer-data/alpha_racer_multi_mpc_combined:v1491\n"
          ]
        },
        {
          "name": "stderr",
          "output_type": "stream",
          "text": [
            "\u001b[34m\u001b[1mwandb\u001b[0m:   1 of 1 files downloaded.  \n"
          ]
        },
        {
          "name": "stdout",
          "output_type": "stream",
          "text": [
            "Loaded 21 episodes from v1491\n",
            "Downloading artifact version: mahin-sank-iit-kgp/alpha-racer-data/alpha_racer_multi_mpc_combined:v1492\n"
          ]
        },
        {
          "name": "stderr",
          "output_type": "stream",
          "text": [
            "\u001b[34m\u001b[1mwandb\u001b[0m:   1 of 1 files downloaded.  \n"
          ]
        },
        {
          "name": "stdout",
          "output_type": "stream",
          "text": [
            "Loaded 21 episodes from v1492\n",
            "Downloading artifact version: mahin-sank-iit-kgp/alpha-racer-data/alpha_racer_multi_mpc_combined:v1493\n"
          ]
        },
        {
          "name": "stderr",
          "output_type": "stream",
          "text": [
            "\u001b[34m\u001b[1mwandb\u001b[0m:   1 of 1 files downloaded.  \n"
          ]
        },
        {
          "name": "stdout",
          "output_type": "stream",
          "text": [
            "Loaded 26 episodes from v1493\n",
            "Downloading artifact version: mahin-sank-iit-kgp/alpha-racer-data/alpha_racer_multi_mpc_combined:v1494\n"
          ]
        },
        {
          "name": "stderr",
          "output_type": "stream",
          "text": [
            "\u001b[34m\u001b[1mwandb\u001b[0m:   1 of 1 files downloaded.  \n"
          ]
        },
        {
          "name": "stdout",
          "output_type": "stream",
          "text": [
            "Loaded 22 episodes from v1494\n",
            "Downloading artifact version: mahin-sank-iit-kgp/alpha-racer-data/alpha_racer_multi_mpc_combined:v1495\n"
          ]
        },
        {
          "name": "stderr",
          "output_type": "stream",
          "text": [
            "\u001b[34m\u001b[1mwandb\u001b[0m:   1 of 1 files downloaded.  \n"
          ]
        },
        {
          "name": "stdout",
          "output_type": "stream",
          "text": [
            "Loaded 14 episodes from v1495\n",
            "Downloading artifact version: mahin-sank-iit-kgp/alpha-racer-data/alpha_racer_multi_mpc_combined:v1496\n"
          ]
        },
        {
          "name": "stderr",
          "output_type": "stream",
          "text": [
            "\u001b[34m\u001b[1mwandb\u001b[0m:   1 of 1 files downloaded.  \n"
          ]
        },
        {
          "name": "stdout",
          "output_type": "stream",
          "text": [
            "Loaded 22 episodes from v1496\n",
            "Downloading artifact version: mahin-sank-iit-kgp/alpha-racer-data/alpha_racer_multi_mpc_combined:v1497\n"
          ]
        },
        {
          "name": "stderr",
          "output_type": "stream",
          "text": [
            "\u001b[34m\u001b[1mwandb\u001b[0m:   1 of 1 files downloaded.  \n"
          ]
        },
        {
          "name": "stdout",
          "output_type": "stream",
          "text": [
            "Loaded 22 episodes from v1497\n",
            "Downloading artifact version: mahin-sank-iit-kgp/alpha-racer-data/alpha_racer_multi_mpc_combined:v1498\n"
          ]
        },
        {
          "name": "stderr",
          "output_type": "stream",
          "text": [
            "\u001b[34m\u001b[1mwandb\u001b[0m:   1 of 1 files downloaded.  \n"
          ]
        },
        {
          "name": "stdout",
          "output_type": "stream",
          "text": [
            "Loaded 22 episodes from v1498\n",
            "Downloading artifact version: mahin-sank-iit-kgp/alpha-racer-data/alpha_racer_multi_mpc_combined:v1499\n"
          ]
        },
        {
          "name": "stderr",
          "output_type": "stream",
          "text": [
            "\u001b[34m\u001b[1mwandb\u001b[0m:   1 of 1 files downloaded.  \n"
          ]
        },
        {
          "name": "stdout",
          "output_type": "stream",
          "text": [
            "Loaded 22 episodes from v1499\n",
            "Downloading artifact version: mahin-sank-iit-kgp/alpha-racer-data/alpha_racer_multi_mpc_combined:v1500\n"
          ]
        },
        {
          "name": "stderr",
          "output_type": "stream",
          "text": [
            "\u001b[34m\u001b[1mwandb\u001b[0m:   1 of 1 files downloaded.  \n"
          ]
        },
        {
          "name": "stdout",
          "output_type": "stream",
          "text": [
            "Loaded 22 episodes from v1500\n",
            "Downloading artifact version: mahin-sank-iit-kgp/alpha-racer-data/alpha_racer_multi_mpc_combined:v1501\n"
          ]
        },
        {
          "name": "stderr",
          "output_type": "stream",
          "text": [
            "\u001b[34m\u001b[1mwandb\u001b[0m:   1 of 1 files downloaded.  \n"
          ]
        },
        {
          "name": "stdout",
          "output_type": "stream",
          "text": [
            "Loaded 22 episodes from v1501\n",
            "Downloading artifact version: mahin-sank-iit-kgp/alpha-racer-data/alpha_racer_multi_mpc_combined:v1502\n"
          ]
        },
        {
          "name": "stderr",
          "output_type": "stream",
          "text": [
            "\u001b[34m\u001b[1mwandb\u001b[0m:   1 of 1 files downloaded.  \n"
          ]
        },
        {
          "name": "stdout",
          "output_type": "stream",
          "text": [
            "Loaded 22 episodes from v1502\n",
            "Downloading artifact version: mahin-sank-iit-kgp/alpha-racer-data/alpha_racer_multi_mpc_combined:v1503\n"
          ]
        },
        {
          "name": "stderr",
          "output_type": "stream",
          "text": [
            "\u001b[34m\u001b[1mwandb\u001b[0m:   1 of 1 files downloaded.  \n"
          ]
        },
        {
          "name": "stdout",
          "output_type": "stream",
          "text": [
            "Loaded 22 episodes from v1503\n",
            "Downloading artifact version: mahin-sank-iit-kgp/alpha-racer-data/alpha_racer_multi_mpc_combined:v1504\n"
          ]
        },
        {
          "name": "stderr",
          "output_type": "stream",
          "text": [
            "\u001b[34m\u001b[1mwandb\u001b[0m:   1 of 1 files downloaded.  \n"
          ]
        },
        {
          "name": "stdout",
          "output_type": "stream",
          "text": [
            "Loaded 22 episodes from v1504\n",
            "Downloading artifact version: mahin-sank-iit-kgp/alpha-racer-data/alpha_racer_multi_mpc_combined:v1505\n"
          ]
        },
        {
          "name": "stderr",
          "output_type": "stream",
          "text": [
            "\u001b[34m\u001b[1mwandb\u001b[0m:   1 of 1 files downloaded.  \n"
          ]
        },
        {
          "name": "stdout",
          "output_type": "stream",
          "text": [
            "Loaded 14 episodes from v1505\n",
            "Downloading artifact version: mahin-sank-iit-kgp/alpha-racer-data/alpha_racer_multi_mpc_combined:v1506\n"
          ]
        },
        {
          "name": "stderr",
          "output_type": "stream",
          "text": [
            "\u001b[34m\u001b[1mwandb\u001b[0m:   1 of 1 files downloaded.  \n"
          ]
        },
        {
          "name": "stdout",
          "output_type": "stream",
          "text": [
            "Loaded 23 episodes from v1506\n",
            "Downloading artifact version: mahin-sank-iit-kgp/alpha-racer-data/alpha_racer_multi_mpc_combined:v1507\n"
          ]
        },
        {
          "name": "stderr",
          "output_type": "stream",
          "text": [
            "\u001b[34m\u001b[1mwandb\u001b[0m:   1 of 1 files downloaded.  \n"
          ]
        },
        {
          "name": "stdout",
          "output_type": "stream",
          "text": [
            "Loaded 23 episodes from v1507\n",
            "Downloading artifact version: mahin-sank-iit-kgp/alpha-racer-data/alpha_racer_multi_mpc_combined:v1508\n"
          ]
        },
        {
          "name": "stderr",
          "output_type": "stream",
          "text": [
            "\u001b[34m\u001b[1mwandb\u001b[0m:   1 of 1 files downloaded.  \n"
          ]
        },
        {
          "name": "stdout",
          "output_type": "stream",
          "text": [
            "Loaded 23 episodes from v1508\n",
            "Downloading artifact version: mahin-sank-iit-kgp/alpha-racer-data/alpha_racer_multi_mpc_combined:v1509\n"
          ]
        },
        {
          "name": "stderr",
          "output_type": "stream",
          "text": [
            "\u001b[34m\u001b[1mwandb\u001b[0m:   1 of 1 files downloaded.  \n"
          ]
        },
        {
          "name": "stdout",
          "output_type": "stream",
          "text": [
            "Loaded 23 episodes from v1509\n",
            "Downloading artifact version: mahin-sank-iit-kgp/alpha-racer-data/alpha_racer_multi_mpc_combined:v1510\n"
          ]
        },
        {
          "name": "stderr",
          "output_type": "stream",
          "text": [
            "\u001b[34m\u001b[1mwandb\u001b[0m:   1 of 1 files downloaded.  \n"
          ]
        },
        {
          "name": "stdout",
          "output_type": "stream",
          "text": [
            "Loaded 14 episodes from v1510\n",
            "Downloading artifact version: mahin-sank-iit-kgp/alpha-racer-data/alpha_racer_multi_mpc_combined:v1511\n"
          ]
        },
        {
          "name": "stderr",
          "output_type": "stream",
          "text": [
            "\u001b[34m\u001b[1mwandb\u001b[0m:   1 of 1 files downloaded.  \n"
          ]
        },
        {
          "name": "stdout",
          "output_type": "stream",
          "text": [
            "Loaded 23 episodes from v1511\n",
            "Downloading artifact version: mahin-sank-iit-kgp/alpha-racer-data/alpha_racer_multi_mpc_combined:v1512\n"
          ]
        },
        {
          "name": "stderr",
          "output_type": "stream",
          "text": [
            "\u001b[34m\u001b[1mwandb\u001b[0m:   1 of 1 files downloaded.  \n"
          ]
        },
        {
          "name": "stdout",
          "output_type": "stream",
          "text": [
            "Loaded 14 episodes from v1512\n",
            "Downloading artifact version: mahin-sank-iit-kgp/alpha-racer-data/alpha_racer_multi_mpc_combined:v1513\n"
          ]
        },
        {
          "name": "stderr",
          "output_type": "stream",
          "text": [
            "\u001b[34m\u001b[1mwandb\u001b[0m:   1 of 1 files downloaded.  \n"
          ]
        },
        {
          "name": "stdout",
          "output_type": "stream",
          "text": [
            "Loaded 23 episodes from v1513\n",
            "Downloading artifact version: mahin-sank-iit-kgp/alpha-racer-data/alpha_racer_multi_mpc_combined:v1514\n"
          ]
        },
        {
          "name": "stderr",
          "output_type": "stream",
          "text": [
            "\u001b[34m\u001b[1mwandb\u001b[0m:   1 of 1 files downloaded.  \n"
          ]
        },
        {
          "name": "stdout",
          "output_type": "stream",
          "text": [
            "Loaded 23 episodes from v1514\n",
            "Downloading artifact version: mahin-sank-iit-kgp/alpha-racer-data/alpha_racer_multi_mpc_combined:v1515\n"
          ]
        },
        {
          "name": "stderr",
          "output_type": "stream",
          "text": [
            "\u001b[34m\u001b[1mwandb\u001b[0m:   1 of 1 files downloaded.  \n"
          ]
        },
        {
          "name": "stdout",
          "output_type": "stream",
          "text": [
            "Loaded 14 episodes from v1515\n",
            "Downloading artifact version: mahin-sank-iit-kgp/alpha-racer-data/alpha_racer_multi_mpc_combined:v1516\n"
          ]
        },
        {
          "name": "stderr",
          "output_type": "stream",
          "text": [
            "\u001b[34m\u001b[1mwandb\u001b[0m:   1 of 1 files downloaded.  \n"
          ]
        },
        {
          "name": "stdout",
          "output_type": "stream",
          "text": [
            "Loaded 23 episodes from v1516\n",
            "Downloading artifact version: mahin-sank-iit-kgp/alpha-racer-data/alpha_racer_multi_mpc_combined:v1517\n"
          ]
        },
        {
          "name": "stderr",
          "output_type": "stream",
          "text": [
            "\u001b[34m\u001b[1mwandb\u001b[0m:   1 of 1 files downloaded.  \n"
          ]
        },
        {
          "name": "stdout",
          "output_type": "stream",
          "text": [
            "Loaded 23 episodes from v1517\n",
            "Downloading artifact version: mahin-sank-iit-kgp/alpha-racer-data/alpha_racer_multi_mpc_combined:v1518\n"
          ]
        },
        {
          "name": "stderr",
          "output_type": "stream",
          "text": [
            "\u001b[34m\u001b[1mwandb\u001b[0m:   1 of 1 files downloaded.  \n"
          ]
        },
        {
          "name": "stdout",
          "output_type": "stream",
          "text": [
            "Loaded 23 episodes from v1518\n",
            "Downloading artifact version: mahin-sank-iit-kgp/alpha-racer-data/alpha_racer_multi_mpc_combined:v1519\n"
          ]
        },
        {
          "name": "stderr",
          "output_type": "stream",
          "text": [
            "\u001b[34m\u001b[1mwandb\u001b[0m:   1 of 1 files downloaded.  \n"
          ]
        },
        {
          "name": "stdout",
          "output_type": "stream",
          "text": [
            "Loaded 24 episodes from v1519\n",
            "Downloading artifact version: mahin-sank-iit-kgp/alpha-racer-data/alpha_racer_multi_mpc_combined:v1520\n"
          ]
        },
        {
          "name": "stderr",
          "output_type": "stream",
          "text": [
            "\u001b[34m\u001b[1mwandb\u001b[0m:   1 of 1 files downloaded.  \n"
          ]
        },
        {
          "name": "stdout",
          "output_type": "stream",
          "text": [
            "Loaded 24 episodes from v1520\n",
            "Downloading artifact version: mahin-sank-iit-kgp/alpha-racer-data/alpha_racer_multi_mpc_combined:v1521\n"
          ]
        },
        {
          "name": "stderr",
          "output_type": "stream",
          "text": [
            "\u001b[34m\u001b[1mwandb\u001b[0m:   1 of 1 files downloaded.  \n"
          ]
        },
        {
          "name": "stdout",
          "output_type": "stream",
          "text": [
            "Loaded 24 episodes from v1521\n",
            "Downloading artifact version: mahin-sank-iit-kgp/alpha-racer-data/alpha_racer_multi_mpc_combined:v1522\n"
          ]
        },
        {
          "name": "stderr",
          "output_type": "stream",
          "text": [
            "\u001b[34m\u001b[1mwandb\u001b[0m:   1 of 1 files downloaded.  \n"
          ]
        },
        {
          "name": "stdout",
          "output_type": "stream",
          "text": [
            "Loaded 24 episodes from v1522\n",
            "Downloading artifact version: mahin-sank-iit-kgp/alpha-racer-data/alpha_racer_multi_mpc_combined:v1523\n"
          ]
        },
        {
          "name": "stderr",
          "output_type": "stream",
          "text": [
            "\u001b[34m\u001b[1mwandb\u001b[0m:   1 of 1 files downloaded.  \n"
          ]
        },
        {
          "name": "stdout",
          "output_type": "stream",
          "text": [
            "Loaded 24 episodes from v1523\n",
            "Downloading artifact version: mahin-sank-iit-kgp/alpha-racer-data/alpha_racer_multi_mpc_combined:v1524\n"
          ]
        },
        {
          "name": "stderr",
          "output_type": "stream",
          "text": [
            "\u001b[34m\u001b[1mwandb\u001b[0m:   1 of 1 files downloaded.  \n"
          ]
        },
        {
          "name": "stdout",
          "output_type": "stream",
          "text": [
            "Loaded 24 episodes from v1524\n",
            "Downloading artifact version: mahin-sank-iit-kgp/alpha-racer-data/alpha_racer_multi_mpc_combined:v1525\n"
          ]
        },
        {
          "name": "stderr",
          "output_type": "stream",
          "text": [
            "\u001b[34m\u001b[1mwandb\u001b[0m:   1 of 1 files downloaded.  \n"
          ]
        },
        {
          "name": "stdout",
          "output_type": "stream",
          "text": [
            "Loaded 24 episodes from v1525\n",
            "Downloading artifact version: mahin-sank-iit-kgp/alpha-racer-data/alpha_racer_multi_mpc_combined:v1526\n"
          ]
        },
        {
          "name": "stderr",
          "output_type": "stream",
          "text": [
            "\u001b[34m\u001b[1mwandb\u001b[0m:   1 of 1 files downloaded.  \n"
          ]
        },
        {
          "name": "stdout",
          "output_type": "stream",
          "text": [
            "Loaded 14 episodes from v1526\n",
            "Downloading artifact version: mahin-sank-iit-kgp/alpha-racer-data/alpha_racer_multi_mpc_combined:v1527\n"
          ]
        },
        {
          "name": "stderr",
          "output_type": "stream",
          "text": [
            "\u001b[34m\u001b[1mwandb\u001b[0m:   1 of 1 files downloaded.  \n"
          ]
        },
        {
          "name": "stdout",
          "output_type": "stream",
          "text": [
            "Loaded 14 episodes from v1527\n",
            "Downloading artifact version: mahin-sank-iit-kgp/alpha-racer-data/alpha_racer_multi_mpc_combined:v1528\n"
          ]
        },
        {
          "name": "stderr",
          "output_type": "stream",
          "text": [
            "\u001b[34m\u001b[1mwandb\u001b[0m:   1 of 1 files downloaded.  \n"
          ]
        },
        {
          "name": "stdout",
          "output_type": "stream",
          "text": [
            "Loaded 14 episodes from v1528\n",
            "Downloading artifact version: mahin-sank-iit-kgp/alpha-racer-data/alpha_racer_multi_mpc_combined:v1529\n"
          ]
        },
        {
          "name": "stderr",
          "output_type": "stream",
          "text": [
            "\u001b[34m\u001b[1mwandb\u001b[0m:   1 of 1 files downloaded.  \n"
          ]
        },
        {
          "name": "stdout",
          "output_type": "stream",
          "text": [
            "Loaded 24 episodes from v1529\n",
            "Downloading artifact version: mahin-sank-iit-kgp/alpha-racer-data/alpha_racer_multi_mpc_combined:v1530\n"
          ]
        },
        {
          "name": "stderr",
          "output_type": "stream",
          "text": [
            "\u001b[34m\u001b[1mwandb\u001b[0m:   1 of 1 files downloaded.  \n"
          ]
        },
        {
          "name": "stdout",
          "output_type": "stream",
          "text": [
            "Loaded 24 episodes from v1530\n",
            "Downloading artifact version: mahin-sank-iit-kgp/alpha-racer-data/alpha_racer_multi_mpc_combined:v1531\n"
          ]
        },
        {
          "name": "stderr",
          "output_type": "stream",
          "text": [
            "\u001b[34m\u001b[1mwandb\u001b[0m:   1 of 1 files downloaded.  \n"
          ]
        },
        {
          "name": "stdout",
          "output_type": "stream",
          "text": [
            "Loaded 24 episodes from v1531\n",
            "Downloading artifact version: mahin-sank-iit-kgp/alpha-racer-data/alpha_racer_multi_mpc_combined:v1532\n"
          ]
        },
        {
          "name": "stderr",
          "output_type": "stream",
          "text": [
            "\u001b[34m\u001b[1mwandb\u001b[0m:   1 of 1 files downloaded.  \n"
          ]
        },
        {
          "name": "stdout",
          "output_type": "stream",
          "text": [
            "Loaded 25 episodes from v1532\n",
            "Downloading artifact version: mahin-sank-iit-kgp/alpha-racer-data/alpha_racer_multi_mpc_combined:v1533\n"
          ]
        },
        {
          "name": "stderr",
          "output_type": "stream",
          "text": [
            "\u001b[34m\u001b[1mwandb\u001b[0m:   1 of 1 files downloaded.  \n"
          ]
        },
        {
          "name": "stdout",
          "output_type": "stream",
          "text": [
            "Loaded 26 episodes from v1533\n",
            "Downloading artifact version: mahin-sank-iit-kgp/alpha-racer-data/alpha_racer_multi_mpc_combined:v1534\n"
          ]
        },
        {
          "name": "stderr",
          "output_type": "stream",
          "text": [
            "\u001b[34m\u001b[1mwandb\u001b[0m:   1 of 1 files downloaded.  \n"
          ]
        },
        {
          "name": "stdout",
          "output_type": "stream",
          "text": [
            "Loaded 25 episodes from v1534\n",
            "Downloading artifact version: mahin-sank-iit-kgp/alpha-racer-data/alpha_racer_multi_mpc_combined:v1535\n"
          ]
        },
        {
          "name": "stderr",
          "output_type": "stream",
          "text": [
            "\u001b[34m\u001b[1mwandb\u001b[0m:   1 of 1 files downloaded.  \n"
          ]
        },
        {
          "name": "stdout",
          "output_type": "stream",
          "text": [
            "Loaded 26 episodes from v1535\n",
            "Downloading artifact version: mahin-sank-iit-kgp/alpha-racer-data/alpha_racer_multi_mpc_combined:v1536\n"
          ]
        },
        {
          "name": "stderr",
          "output_type": "stream",
          "text": [
            "\u001b[34m\u001b[1mwandb\u001b[0m:   1 of 1 files downloaded.  \n"
          ]
        },
        {
          "name": "stdout",
          "output_type": "stream",
          "text": [
            "Loaded 25 episodes from v1536\n",
            "Downloading artifact version: mahin-sank-iit-kgp/alpha-racer-data/alpha_racer_multi_mpc_combined:v1537\n"
          ]
        },
        {
          "name": "stderr",
          "output_type": "stream",
          "text": [
            "\u001b[34m\u001b[1mwandb\u001b[0m:   1 of 1 files downloaded.  \n"
          ]
        },
        {
          "name": "stdout",
          "output_type": "stream",
          "text": [
            "Loaded 25 episodes from v1537\n",
            "Downloading artifact version: mahin-sank-iit-kgp/alpha-racer-data/alpha_racer_multi_mpc_combined:v1538\n"
          ]
        },
        {
          "name": "stderr",
          "output_type": "stream",
          "text": [
            "\u001b[34m\u001b[1mwandb\u001b[0m:   1 of 1 files downloaded.  \n"
          ]
        },
        {
          "name": "stdout",
          "output_type": "stream",
          "text": [
            "Loaded 26 episodes from v1538\n",
            "Downloading artifact version: mahin-sank-iit-kgp/alpha-racer-data/alpha_racer_multi_mpc_combined:v1539\n"
          ]
        },
        {
          "name": "stderr",
          "output_type": "stream",
          "text": [
            "\u001b[34m\u001b[1mwandb\u001b[0m:   1 of 1 files downloaded.  \n"
          ]
        },
        {
          "name": "stdout",
          "output_type": "stream",
          "text": [
            "Loaded 25 episodes from v1539\n",
            "Downloading artifact version: mahin-sank-iit-kgp/alpha-racer-data/alpha_racer_multi_mpc_combined:v1540\n"
          ]
        },
        {
          "name": "stderr",
          "output_type": "stream",
          "text": [
            "\u001b[34m\u001b[1mwandb\u001b[0m:   1 of 1 files downloaded.  \n"
          ]
        },
        {
          "name": "stdout",
          "output_type": "stream",
          "text": [
            "Loaded 26 episodes from v1540\n",
            "Downloading artifact version: mahin-sank-iit-kgp/alpha-racer-data/alpha_racer_multi_mpc_combined:v1541\n"
          ]
        },
        {
          "name": "stderr",
          "output_type": "stream",
          "text": [
            "\u001b[34m\u001b[1mwandb\u001b[0m:   1 of 1 files downloaded.  \n"
          ]
        },
        {
          "name": "stdout",
          "output_type": "stream",
          "text": [
            "Loaded 25 episodes from v1541\n",
            "Downloading artifact version: mahin-sank-iit-kgp/alpha-racer-data/alpha_racer_multi_mpc_combined:v1542\n"
          ]
        },
        {
          "name": "stderr",
          "output_type": "stream",
          "text": [
            "\u001b[34m\u001b[1mwandb\u001b[0m:   1 of 1 files downloaded.  \n"
          ]
        },
        {
          "name": "stdout",
          "output_type": "stream",
          "text": [
            "Loaded 25 episodes from v1542\n",
            "Downloading artifact version: mahin-sank-iit-kgp/alpha-racer-data/alpha_racer_multi_mpc_combined:v1543\n"
          ]
        },
        {
          "name": "stderr",
          "output_type": "stream",
          "text": [
            "\u001b[34m\u001b[1mwandb\u001b[0m:   1 of 1 files downloaded.  \n"
          ]
        },
        {
          "name": "stdout",
          "output_type": "stream",
          "text": [
            "Loaded 26 episodes from v1543\n",
            "Downloading artifact version: mahin-sank-iit-kgp/alpha-racer-data/alpha_racer_multi_mpc_combined:v1544\n"
          ]
        },
        {
          "name": "stderr",
          "output_type": "stream",
          "text": [
            "\u001b[34m\u001b[1mwandb\u001b[0m:   1 of 1 files downloaded.  \n"
          ]
        },
        {
          "name": "stdout",
          "output_type": "stream",
          "text": [
            "Loaded 26 episodes from v1544\n",
            "Downloading artifact version: mahin-sank-iit-kgp/alpha-racer-data/alpha_racer_multi_mpc_combined:v1545\n"
          ]
        },
        {
          "name": "stderr",
          "output_type": "stream",
          "text": [
            "\u001b[34m\u001b[1mwandb\u001b[0m:   1 of 1 files downloaded.  \n"
          ]
        },
        {
          "name": "stdout",
          "output_type": "stream",
          "text": [
            "Loaded 26 episodes from v1545\n",
            "Downloading artifact version: mahin-sank-iit-kgp/alpha-racer-data/alpha_racer_multi_mpc_combined:v1546\n"
          ]
        },
        {
          "name": "stderr",
          "output_type": "stream",
          "text": [
            "\u001b[34m\u001b[1mwandb\u001b[0m:   1 of 1 files downloaded.  \n"
          ]
        },
        {
          "name": "stdout",
          "output_type": "stream",
          "text": [
            "Loaded 25 episodes from v1546\n",
            "Downloading artifact version: mahin-sank-iit-kgp/alpha-racer-data/alpha_racer_multi_mpc_combined:v1547\n"
          ]
        },
        {
          "name": "stderr",
          "output_type": "stream",
          "text": [
            "\u001b[34m\u001b[1mwandb\u001b[0m:   1 of 1 files downloaded.  \n"
          ]
        },
        {
          "name": "stdout",
          "output_type": "stream",
          "text": [
            "Loaded 14 episodes from v1547\n",
            "Downloading artifact version: mahin-sank-iit-kgp/alpha-racer-data/alpha_racer_multi_mpc_combined:v1548\n"
          ]
        },
        {
          "name": "stderr",
          "output_type": "stream",
          "text": [
            "\u001b[34m\u001b[1mwandb\u001b[0m:   1 of 1 files downloaded.  \n"
          ]
        },
        {
          "name": "stdout",
          "output_type": "stream",
          "text": [
            "Loaded 25 episodes from v1548\n",
            "Downloading artifact version: mahin-sank-iit-kgp/alpha-racer-data/alpha_racer_multi_mpc_combined:v1549\n"
          ]
        },
        {
          "name": "stderr",
          "output_type": "stream",
          "text": [
            "\u001b[34m\u001b[1mwandb\u001b[0m:   1 of 1 files downloaded.  \n"
          ]
        },
        {
          "name": "stdout",
          "output_type": "stream",
          "text": [
            "Loaded 25 episodes from v1549\n",
            "Downloading artifact version: mahin-sank-iit-kgp/alpha-racer-data/alpha_racer_multi_mpc_combined:v1550\n"
          ]
        },
        {
          "name": "stderr",
          "output_type": "stream",
          "text": [
            "\u001b[34m\u001b[1mwandb\u001b[0m:   1 of 1 files downloaded.  \n"
          ]
        },
        {
          "name": "stdout",
          "output_type": "stream",
          "text": [
            "Loaded 26 episodes from v1550\n",
            "Downloading artifact version: mahin-sank-iit-kgp/alpha-racer-data/alpha_racer_multi_mpc_combined:v1551\n"
          ]
        },
        {
          "name": "stderr",
          "output_type": "stream",
          "text": [
            "\u001b[34m\u001b[1mwandb\u001b[0m:   1 of 1 files downloaded.  \n"
          ]
        },
        {
          "name": "stdout",
          "output_type": "stream",
          "text": [
            "Loaded 26 episodes from v1551\n",
            "Downloading artifact version: mahin-sank-iit-kgp/alpha-racer-data/alpha_racer_multi_mpc_combined:v1552\n"
          ]
        },
        {
          "name": "stderr",
          "output_type": "stream",
          "text": [
            "\u001b[34m\u001b[1mwandb\u001b[0m:   1 of 1 files downloaded.  \n"
          ]
        },
        {
          "name": "stdout",
          "output_type": "stream",
          "text": [
            "Loaded 14 episodes from v1552\n",
            "Downloading artifact version: mahin-sank-iit-kgp/alpha-racer-data/alpha_racer_multi_mpc_combined:v1553\n"
          ]
        },
        {
          "name": "stderr",
          "output_type": "stream",
          "text": [
            "\u001b[34m\u001b[1mwandb\u001b[0m:   1 of 1 files downloaded.  \n"
          ]
        },
        {
          "name": "stdout",
          "output_type": "stream",
          "text": [
            "Loaded 26 episodes from v1553\n",
            "Downloading artifact version: mahin-sank-iit-kgp/alpha-racer-data/alpha_racer_multi_mpc_combined:v1554\n"
          ]
        },
        {
          "name": "stderr",
          "output_type": "stream",
          "text": [
            "\u001b[34m\u001b[1mwandb\u001b[0m:   1 of 1 files downloaded.  \n"
          ]
        },
        {
          "name": "stdout",
          "output_type": "stream",
          "text": [
            "Loaded 15 episodes from v1554\n",
            "Downloading artifact version: mahin-sank-iit-kgp/alpha-racer-data/alpha_racer_multi_mpc_combined:v1555\n"
          ]
        },
        {
          "name": "stderr",
          "output_type": "stream",
          "text": [
            "\u001b[34m\u001b[1mwandb\u001b[0m:   1 of 1 files downloaded.  \n"
          ]
        },
        {
          "name": "stdout",
          "output_type": "stream",
          "text": [
            "Loaded 15 episodes from v1555\n",
            "Downloading artifact version: mahin-sank-iit-kgp/alpha-racer-data/alpha_racer_multi_mpc_combined:v1556\n"
          ]
        },
        {
          "name": "stderr",
          "output_type": "stream",
          "text": [
            "\u001b[34m\u001b[1mwandb\u001b[0m:   1 of 1 files downloaded.  \n"
          ]
        },
        {
          "name": "stdout",
          "output_type": "stream",
          "text": [
            "Loaded 2 episodes from v1556\n",
            "Downloading artifact version: mahin-sank-iit-kgp/alpha-racer-data/alpha_racer_multi_mpc_combined:v1557\n"
          ]
        },
        {
          "name": "stderr",
          "output_type": "stream",
          "text": [
            "\u001b[34m\u001b[1mwandb\u001b[0m:   1 of 1 files downloaded.  \n"
          ]
        },
        {
          "name": "stdout",
          "output_type": "stream",
          "text": [
            "Loaded 2 episodes from v1557\n",
            "Downloading artifact version: mahin-sank-iit-kgp/alpha-racer-data/alpha_racer_multi_mpc_combined:v1558\n"
          ]
        },
        {
          "name": "stderr",
          "output_type": "stream",
          "text": [
            "\u001b[34m\u001b[1mwandb\u001b[0m:   1 of 1 files downloaded.  \n"
          ]
        },
        {
          "name": "stdout",
          "output_type": "stream",
          "text": [
            "Loaded 2 episodes from v1558\n",
            "Downloading artifact version: mahin-sank-iit-kgp/alpha-racer-data/alpha_racer_multi_mpc_combined:v1559\n"
          ]
        },
        {
          "name": "stderr",
          "output_type": "stream",
          "text": [
            "\u001b[34m\u001b[1mwandb\u001b[0m:   1 of 1 files downloaded.  \n"
          ]
        },
        {
          "name": "stdout",
          "output_type": "stream",
          "text": [
            "Loaded 2 episodes from v1559\n",
            "Downloading artifact version: mahin-sank-iit-kgp/alpha-racer-data/alpha_racer_multi_mpc_combined:v1560\n"
          ]
        },
        {
          "name": "stderr",
          "output_type": "stream",
          "text": [
            "\u001b[34m\u001b[1mwandb\u001b[0m:   1 of 1 files downloaded.  \n"
          ]
        },
        {
          "name": "stdout",
          "output_type": "stream",
          "text": [
            "Loaded 2 episodes from v1560\n",
            "Downloading artifact version: mahin-sank-iit-kgp/alpha-racer-data/alpha_racer_multi_mpc_combined:v1561\n"
          ]
        },
        {
          "name": "stderr",
          "output_type": "stream",
          "text": [
            "\u001b[34m\u001b[1mwandb\u001b[0m:   1 of 1 files downloaded.  \n"
          ]
        },
        {
          "name": "stdout",
          "output_type": "stream",
          "text": [
            "Loaded 15 episodes from v1561\n",
            "Downloading artifact version: mahin-sank-iit-kgp/alpha-racer-data/alpha_racer_multi_mpc_combined:v1562\n"
          ]
        },
        {
          "name": "stderr",
          "output_type": "stream",
          "text": [
            "\u001b[34m\u001b[1mwandb\u001b[0m:   1 of 1 files downloaded.  \n"
          ]
        },
        {
          "name": "stdout",
          "output_type": "stream",
          "text": [
            "Loaded 2 episodes from v1562\n",
            "Downloading artifact version: mahin-sank-iit-kgp/alpha-racer-data/alpha_racer_multi_mpc_combined:v1563\n"
          ]
        },
        {
          "name": "stderr",
          "output_type": "stream",
          "text": [
            "\u001b[34m\u001b[1mwandb\u001b[0m:   1 of 1 files downloaded.  \n"
          ]
        },
        {
          "name": "stdout",
          "output_type": "stream",
          "text": [
            "Loaded 15 episodes from v1563\n",
            "Downloading artifact version: mahin-sank-iit-kgp/alpha-racer-data/alpha_racer_multi_mpc_combined:v1564\n"
          ]
        },
        {
          "name": "stderr",
          "output_type": "stream",
          "text": [
            "\u001b[34m\u001b[1mwandb\u001b[0m:   1 of 1 files downloaded.  \n"
          ]
        },
        {
          "name": "stdout",
          "output_type": "stream",
          "text": [
            "Loaded 2 episodes from v1564\n",
            "Downloading artifact version: mahin-sank-iit-kgp/alpha-racer-data/alpha_racer_multi_mpc_combined:v1565\n"
          ]
        },
        {
          "name": "stderr",
          "output_type": "stream",
          "text": [
            "\u001b[34m\u001b[1mwandb\u001b[0m:   1 of 1 files downloaded.  \n"
          ]
        },
        {
          "name": "stdout",
          "output_type": "stream",
          "text": [
            "Loaded 2 episodes from v1565\n",
            "Downloading artifact version: mahin-sank-iit-kgp/alpha-racer-data/alpha_racer_multi_mpc_combined:v1566\n"
          ]
        },
        {
          "name": "stderr",
          "output_type": "stream",
          "text": [
            "\u001b[34m\u001b[1mwandb\u001b[0m:   1 of 1 files downloaded.  \n"
          ]
        },
        {
          "name": "stdout",
          "output_type": "stream",
          "text": [
            "Loaded 15 episodes from v1566\n",
            "Downloading artifact version: mahin-sank-iit-kgp/alpha-racer-data/alpha_racer_multi_mpc_combined:v1567\n"
          ]
        },
        {
          "name": "stderr",
          "output_type": "stream",
          "text": [
            "\u001b[34m\u001b[1mwandb\u001b[0m:   1 of 1 files downloaded.  \n"
          ]
        },
        {
          "name": "stdout",
          "output_type": "stream",
          "text": [
            "Loaded 15 episodes from v1567\n",
            "Downloading artifact version: mahin-sank-iit-kgp/alpha-racer-data/alpha_racer_multi_mpc_combined:v1568\n"
          ]
        },
        {
          "name": "stderr",
          "output_type": "stream",
          "text": [
            "\u001b[34m\u001b[1mwandb\u001b[0m:   1 of 1 files downloaded.  \n"
          ]
        },
        {
          "name": "stdout",
          "output_type": "stream",
          "text": [
            "Loaded 2 episodes from v1568\n",
            "Downloading artifact version: mahin-sank-iit-kgp/alpha-racer-data/alpha_racer_multi_mpc_combined:v1569\n"
          ]
        },
        {
          "name": "stderr",
          "output_type": "stream",
          "text": [
            "\u001b[34m\u001b[1mwandb\u001b[0m:   1 of 1 files downloaded.  \n"
          ]
        },
        {
          "name": "stdout",
          "output_type": "stream",
          "text": [
            "Loaded 2 episodes from v1569\n",
            "Downloading artifact version: mahin-sank-iit-kgp/alpha-racer-data/alpha_racer_multi_mpc_combined:v1570\n"
          ]
        },
        {
          "name": "stderr",
          "output_type": "stream",
          "text": [
            "\u001b[34m\u001b[1mwandb\u001b[0m:   1 of 1 files downloaded.  \n"
          ]
        },
        {
          "name": "stdout",
          "output_type": "stream",
          "text": [
            "Loaded 15 episodes from v1570\n",
            "Downloading artifact version: mahin-sank-iit-kgp/alpha-racer-data/alpha_racer_multi_mpc_combined:v1571\n"
          ]
        },
        {
          "name": "stderr",
          "output_type": "stream",
          "text": [
            "\u001b[34m\u001b[1mwandb\u001b[0m:   1 of 1 files downloaded.  \n"
          ]
        },
        {
          "name": "stdout",
          "output_type": "stream",
          "text": [
            "Loaded 3 episodes from v1571\n",
            "Downloading artifact version: mahin-sank-iit-kgp/alpha-racer-data/alpha_racer_multi_mpc_combined:v1572\n"
          ]
        },
        {
          "name": "stderr",
          "output_type": "stream",
          "text": [
            "\u001b[34m\u001b[1mwandb\u001b[0m:   1 of 1 files downloaded.  \n"
          ]
        },
        {
          "name": "stdout",
          "output_type": "stream",
          "text": [
            "Loaded 15 episodes from v1572\n",
            "Downloading artifact version: mahin-sank-iit-kgp/alpha-racer-data/alpha_racer_multi_mpc_combined:v1573\n"
          ]
        },
        {
          "name": "stderr",
          "output_type": "stream",
          "text": [
            "\u001b[34m\u001b[1mwandb\u001b[0m:   1 of 1 files downloaded.  \n"
          ]
        },
        {
          "name": "stdout",
          "output_type": "stream",
          "text": [
            "Loaded 3 episodes from v1573\n",
            "Downloading artifact version: mahin-sank-iit-kgp/alpha-racer-data/alpha_racer_multi_mpc_combined:v1574\n"
          ]
        },
        {
          "name": "stderr",
          "output_type": "stream",
          "text": [
            "\u001b[34m\u001b[1mwandb\u001b[0m:   1 of 1 files downloaded.  \n"
          ]
        },
        {
          "name": "stdout",
          "output_type": "stream",
          "text": [
            "Loaded 3 episodes from v1574\n",
            "Downloading artifact version: mahin-sank-iit-kgp/alpha-racer-data/alpha_racer_multi_mpc_combined:v1575\n"
          ]
        },
        {
          "name": "stderr",
          "output_type": "stream",
          "text": [
            "\u001b[34m\u001b[1mwandb\u001b[0m:   1 of 1 files downloaded.  \n"
          ]
        },
        {
          "name": "stdout",
          "output_type": "stream",
          "text": [
            "Loaded 3 episodes from v1575\n",
            "Downloading artifact version: mahin-sank-iit-kgp/alpha-racer-data/alpha_racer_multi_mpc_combined:v1576\n"
          ]
        },
        {
          "name": "stderr",
          "output_type": "stream",
          "text": [
            "\u001b[34m\u001b[1mwandb\u001b[0m:   1 of 1 files downloaded.  \n"
          ]
        },
        {
          "name": "stdout",
          "output_type": "stream",
          "text": [
            "Loaded 3 episodes from v1576\n",
            "Downloading artifact version: mahin-sank-iit-kgp/alpha-racer-data/alpha_racer_multi_mpc_combined:v1577\n"
          ]
        },
        {
          "name": "stderr",
          "output_type": "stream",
          "text": [
            "\u001b[34m\u001b[1mwandb\u001b[0m:   1 of 1 files downloaded.  \n"
          ]
        },
        {
          "name": "stdout",
          "output_type": "stream",
          "text": [
            "Loaded 3 episodes from v1577\n",
            "Downloading artifact version: mahin-sank-iit-kgp/alpha-racer-data/alpha_racer_multi_mpc_combined:v1578\n"
          ]
        },
        {
          "name": "stderr",
          "output_type": "stream",
          "text": [
            "\u001b[34m\u001b[1mwandb\u001b[0m:   1 of 1 files downloaded.  \n"
          ]
        },
        {
          "name": "stdout",
          "output_type": "stream",
          "text": [
            "Loaded 3 episodes from v1578\n",
            "Downloading artifact version: mahin-sank-iit-kgp/alpha-racer-data/alpha_racer_multi_mpc_combined:v1579\n"
          ]
        },
        {
          "name": "stderr",
          "output_type": "stream",
          "text": [
            "\u001b[34m\u001b[1mwandb\u001b[0m:   1 of 1 files downloaded.  \n"
          ]
        },
        {
          "name": "stdout",
          "output_type": "stream",
          "text": [
            "Loaded 3 episodes from v1579\n",
            "Downloading artifact version: mahin-sank-iit-kgp/alpha-racer-data/alpha_racer_multi_mpc_combined:v1580\n"
          ]
        },
        {
          "name": "stderr",
          "output_type": "stream",
          "text": [
            "\u001b[34m\u001b[1mwandb\u001b[0m:   1 of 1 files downloaded.  \n"
          ]
        },
        {
          "name": "stdout",
          "output_type": "stream",
          "text": [
            "Loaded 16 episodes from v1580\n",
            "Downloading artifact version: mahin-sank-iit-kgp/alpha-racer-data/alpha_racer_multi_mpc_combined:v1581\n"
          ]
        },
        {
          "name": "stderr",
          "output_type": "stream",
          "text": [
            "\u001b[34m\u001b[1mwandb\u001b[0m:   1 of 1 files downloaded.  \n"
          ]
        },
        {
          "name": "stdout",
          "output_type": "stream",
          "text": [
            "Loaded 3 episodes from v1581\n",
            "Downloading artifact version: mahin-sank-iit-kgp/alpha-racer-data/alpha_racer_multi_mpc_combined:v1582\n"
          ]
        },
        {
          "name": "stderr",
          "output_type": "stream",
          "text": [
            "\u001b[34m\u001b[1mwandb\u001b[0m:   1 of 1 files downloaded.  \n"
          ]
        },
        {
          "name": "stdout",
          "output_type": "stream",
          "text": [
            "Loaded 15 episodes from v1582\n",
            "Downloading artifact version: mahin-sank-iit-kgp/alpha-racer-data/alpha_racer_multi_mpc_combined:v1583\n"
          ]
        },
        {
          "name": "stderr",
          "output_type": "stream",
          "text": [
            "\u001b[34m\u001b[1mwandb\u001b[0m:   1 of 1 files downloaded.  \n"
          ]
        },
        {
          "name": "stdout",
          "output_type": "stream",
          "text": [
            "Loaded 3 episodes from v1583\n",
            "Downloading artifact version: mahin-sank-iit-kgp/alpha-racer-data/alpha_racer_multi_mpc_combined:v1584\n"
          ]
        },
        {
          "name": "stderr",
          "output_type": "stream",
          "text": [
            "\u001b[34m\u001b[1mwandb\u001b[0m:   1 of 1 files downloaded.  \n"
          ]
        },
        {
          "name": "stdout",
          "output_type": "stream",
          "text": [
            "Loaded 15 episodes from v1584\n",
            "Downloading artifact version: mahin-sank-iit-kgp/alpha-racer-data/alpha_racer_multi_mpc_combined:v1585\n"
          ]
        },
        {
          "name": "stderr",
          "output_type": "stream",
          "text": [
            "\u001b[34m\u001b[1mwandb\u001b[0m:   1 of 1 files downloaded.  \n"
          ]
        },
        {
          "name": "stdout",
          "output_type": "stream",
          "text": [
            "Loaded 4 episodes from v1585\n",
            "Downloading artifact version: mahin-sank-iit-kgp/alpha-racer-data/alpha_racer_multi_mpc_combined:v1586\n"
          ]
        },
        {
          "name": "stderr",
          "output_type": "stream",
          "text": [
            "\u001b[34m\u001b[1mwandb\u001b[0m:   1 of 1 files downloaded.  \n"
          ]
        },
        {
          "name": "stdout",
          "output_type": "stream",
          "text": [
            "Loaded 4 episodes from v1586\n",
            "Downloading artifact version: mahin-sank-iit-kgp/alpha-racer-data/alpha_racer_multi_mpc_combined:v1587\n"
          ]
        },
        {
          "name": "stderr",
          "output_type": "stream",
          "text": [
            "\u001b[34m\u001b[1mwandb\u001b[0m:   1 of 1 files downloaded.  \n"
          ]
        },
        {
          "name": "stdout",
          "output_type": "stream",
          "text": [
            "Loaded 4 episodes from v1587\n",
            "Downloading artifact version: mahin-sank-iit-kgp/alpha-racer-data/alpha_racer_multi_mpc_combined:v1588\n"
          ]
        },
        {
          "name": "stderr",
          "output_type": "stream",
          "text": [
            "\u001b[34m\u001b[1mwandb\u001b[0m:   1 of 1 files downloaded.  \n"
          ]
        },
        {
          "name": "stdout",
          "output_type": "stream",
          "text": [
            "Loaded 16 episodes from v1588\n",
            "Downloading artifact version: mahin-sank-iit-kgp/alpha-racer-data/alpha_racer_multi_mpc_combined:v1589\n"
          ]
        },
        {
          "name": "stderr",
          "output_type": "stream",
          "text": [
            "\u001b[34m\u001b[1mwandb\u001b[0m:   1 of 1 files downloaded.  \n"
          ]
        },
        {
          "name": "stdout",
          "output_type": "stream",
          "text": [
            "Loaded 4 episodes from v1589\n",
            "Downloading artifact version: mahin-sank-iit-kgp/alpha-racer-data/alpha_racer_multi_mpc_combined:v1590\n"
          ]
        },
        {
          "name": "stderr",
          "output_type": "stream",
          "text": [
            "\u001b[34m\u001b[1mwandb\u001b[0m:   1 of 1 files downloaded.  \n"
          ]
        },
        {
          "name": "stdout",
          "output_type": "stream",
          "text": [
            "Loaded 4 episodes from v1590\n",
            "Downloading artifact version: mahin-sank-iit-kgp/alpha-racer-data/alpha_racer_multi_mpc_combined:v1591\n"
          ]
        },
        {
          "name": "stderr",
          "output_type": "stream",
          "text": [
            "\u001b[34m\u001b[1mwandb\u001b[0m:   1 of 1 files downloaded.  \n"
          ]
        },
        {
          "name": "stdout",
          "output_type": "stream",
          "text": [
            "Loaded 4 episodes from v1591\n",
            "Downloading artifact version: mahin-sank-iit-kgp/alpha-racer-data/alpha_racer_multi_mpc_combined:v1592\n"
          ]
        },
        {
          "name": "stderr",
          "output_type": "stream",
          "text": [
            "\u001b[34m\u001b[1mwandb\u001b[0m:   1 of 1 files downloaded.  \n"
          ]
        },
        {
          "name": "stdout",
          "output_type": "stream",
          "text": [
            "Loaded 4 episodes from v1592\n",
            "Downloading artifact version: mahin-sank-iit-kgp/alpha-racer-data/alpha_racer_multi_mpc_combined:v1593\n"
          ]
        },
        {
          "name": "stderr",
          "output_type": "stream",
          "text": [
            "\u001b[34m\u001b[1mwandb\u001b[0m:   1 of 1 files downloaded.  \n"
          ]
        },
        {
          "name": "stdout",
          "output_type": "stream",
          "text": [
            "Loaded 4 episodes from v1593\n",
            "Downloading artifact version: mahin-sank-iit-kgp/alpha-racer-data/alpha_racer_multi_mpc_combined:v1594\n"
          ]
        },
        {
          "name": "stderr",
          "output_type": "stream",
          "text": [
            "\u001b[34m\u001b[1mwandb\u001b[0m:   1 of 1 files downloaded.  \n"
          ]
        },
        {
          "name": "stdout",
          "output_type": "stream",
          "text": [
            "Loaded 16 episodes from v1594\n",
            "Downloading artifact version: mahin-sank-iit-kgp/alpha-racer-data/alpha_racer_multi_mpc_combined:v1595\n"
          ]
        },
        {
          "name": "stderr",
          "output_type": "stream",
          "text": [
            "\u001b[34m\u001b[1mwandb\u001b[0m:   1 of 1 files downloaded.  \n"
          ]
        },
        {
          "name": "stdout",
          "output_type": "stream",
          "text": [
            "Loaded 4 episodes from v1595\n",
            "Downloading artifact version: mahin-sank-iit-kgp/alpha-racer-data/alpha_racer_multi_mpc_combined:v1596\n"
          ]
        },
        {
          "name": "stderr",
          "output_type": "stream",
          "text": [
            "\u001b[34m\u001b[1mwandb\u001b[0m:   1 of 1 files downloaded.  \n"
          ]
        },
        {
          "name": "stdout",
          "output_type": "stream",
          "text": [
            "Loaded 16 episodes from v1596\n",
            "Downloading artifact version: mahin-sank-iit-kgp/alpha-racer-data/alpha_racer_multi_mpc_combined:v1597\n"
          ]
        },
        {
          "name": "stderr",
          "output_type": "stream",
          "text": [
            "\u001b[34m\u001b[1mwandb\u001b[0m:   1 of 1 files downloaded.  \n"
          ]
        },
        {
          "name": "stdout",
          "output_type": "stream",
          "text": [
            "Loaded 16 episodes from v1597\n",
            "Downloading artifact version: mahin-sank-iit-kgp/alpha-racer-data/alpha_racer_multi_mpc_combined:v1598\n"
          ]
        },
        {
          "name": "stderr",
          "output_type": "stream",
          "text": [
            "\u001b[34m\u001b[1mwandb\u001b[0m:   1 of 1 files downloaded.  \n"
          ]
        },
        {
          "name": "stdout",
          "output_type": "stream",
          "text": [
            "Loaded 4 episodes from v1598\n",
            "Downloading artifact version: mahin-sank-iit-kgp/alpha-racer-data/alpha_racer_multi_mpc_combined:v1599\n"
          ]
        },
        {
          "name": "stderr",
          "output_type": "stream",
          "text": [
            "\u001b[34m\u001b[1mwandb\u001b[0m:   1 of 1 files downloaded.  \n"
          ]
        },
        {
          "name": "stdout",
          "output_type": "stream",
          "text": [
            "Loaded 16 episodes from v1599\n",
            "Downloading artifact version: mahin-sank-iit-kgp/alpha-racer-data/alpha_racer_multi_mpc_combined:v1600\n"
          ]
        },
        {
          "name": "stderr",
          "output_type": "stream",
          "text": [
            "\u001b[34m\u001b[1mwandb\u001b[0m:   1 of 1 files downloaded.  \n"
          ]
        },
        {
          "name": "stdout",
          "output_type": "stream",
          "text": [
            "Loaded 5 episodes from v1600\n",
            "Downloading artifact version: mahin-sank-iit-kgp/alpha-racer-data/alpha_racer_multi_mpc_combined:v1601\n"
          ]
        },
        {
          "name": "stderr",
          "output_type": "stream",
          "text": [
            "\u001b[34m\u001b[1mwandb\u001b[0m:   1 of 1 files downloaded.  \n"
          ]
        },
        {
          "name": "stdout",
          "output_type": "stream",
          "text": [
            "Loaded 16 episodes from v1601\n",
            "Downloading artifact version: mahin-sank-iit-kgp/alpha-racer-data/alpha_racer_multi_mpc_combined:v1602\n"
          ]
        },
        {
          "name": "stderr",
          "output_type": "stream",
          "text": [
            "\u001b[34m\u001b[1mwandb\u001b[0m:   1 of 1 files downloaded.  \n"
          ]
        },
        {
          "name": "stdout",
          "output_type": "stream",
          "text": [
            "Loaded 5 episodes from v1602\n",
            "Downloading artifact version: mahin-sank-iit-kgp/alpha-racer-data/alpha_racer_multi_mpc_combined:v1603\n"
          ]
        },
        {
          "name": "stderr",
          "output_type": "stream",
          "text": [
            "\u001b[34m\u001b[1mwandb\u001b[0m:   1 of 1 files downloaded.  \n"
          ]
        },
        {
          "name": "stdout",
          "output_type": "stream",
          "text": [
            "Loaded 5 episodes from v1603\n",
            "Downloading artifact version: mahin-sank-iit-kgp/alpha-racer-data/alpha_racer_multi_mpc_combined:v1604\n"
          ]
        },
        {
          "name": "stderr",
          "output_type": "stream",
          "text": [
            "\u001b[34m\u001b[1mwandb\u001b[0m:   1 of 1 files downloaded.  \n"
          ]
        },
        {
          "name": "stdout",
          "output_type": "stream",
          "text": [
            "Loaded 5 episodes from v1604\n",
            "Downloading artifact version: mahin-sank-iit-kgp/alpha-racer-data/alpha_racer_multi_mpc_combined:v1605\n"
          ]
        },
        {
          "name": "stderr",
          "output_type": "stream",
          "text": [
            "\u001b[34m\u001b[1mwandb\u001b[0m:   1 of 1 files downloaded.  \n"
          ]
        },
        {
          "name": "stdout",
          "output_type": "stream",
          "text": [
            "Loaded 16 episodes from v1605\n",
            "Downloading artifact version: mahin-sank-iit-kgp/alpha-racer-data/alpha_racer_multi_mpc_combined:v1606\n"
          ]
        },
        {
          "name": "stderr",
          "output_type": "stream",
          "text": [
            "\u001b[34m\u001b[1mwandb\u001b[0m:   1 of 1 files downloaded.  \n"
          ]
        },
        {
          "name": "stdout",
          "output_type": "stream",
          "text": [
            "Loaded 5 episodes from v1606\n",
            "Downloading artifact version: mahin-sank-iit-kgp/alpha-racer-data/alpha_racer_multi_mpc_combined:v1607\n"
          ]
        },
        {
          "name": "stderr",
          "output_type": "stream",
          "text": [
            "\u001b[34m\u001b[1mwandb\u001b[0m:   1 of 1 files downloaded.  \n"
          ]
        },
        {
          "name": "stdout",
          "output_type": "stream",
          "text": [
            "Loaded 5 episodes from v1607\n",
            "Downloading artifact version: mahin-sank-iit-kgp/alpha-racer-data/alpha_racer_multi_mpc_combined:v1608\n"
          ]
        },
        {
          "name": "stderr",
          "output_type": "stream",
          "text": [
            "\u001b[34m\u001b[1mwandb\u001b[0m:   1 of 1 files downloaded.  \n"
          ]
        },
        {
          "name": "stdout",
          "output_type": "stream",
          "text": [
            "Loaded 5 episodes from v1608\n",
            "Downloading artifact version: mahin-sank-iit-kgp/alpha-racer-data/alpha_racer_multi_mpc_combined:v1609\n"
          ]
        },
        {
          "name": "stderr",
          "output_type": "stream",
          "text": [
            "\u001b[34m\u001b[1mwandb\u001b[0m:   1 of 1 files downloaded.  \n"
          ]
        },
        {
          "name": "stdout",
          "output_type": "stream",
          "text": [
            "Loaded 5 episodes from v1609\n",
            "Downloading artifact version: mahin-sank-iit-kgp/alpha-racer-data/alpha_racer_multi_mpc_combined:v1610\n"
          ]
        },
        {
          "name": "stderr",
          "output_type": "stream",
          "text": [
            "\u001b[34m\u001b[1mwandb\u001b[0m:   1 of 1 files downloaded.  \n"
          ]
        },
        {
          "name": "stdout",
          "output_type": "stream",
          "text": [
            "Loaded 5 episodes from v1610\n",
            "Downloading artifact version: mahin-sank-iit-kgp/alpha-racer-data/alpha_racer_multi_mpc_combined:v1611\n"
          ]
        },
        {
          "name": "stderr",
          "output_type": "stream",
          "text": [
            "\u001b[34m\u001b[1mwandb\u001b[0m:   1 of 1 files downloaded.  \n"
          ]
        },
        {
          "name": "stdout",
          "output_type": "stream",
          "text": [
            "Loaded 5 episodes from v1611\n",
            "Downloading artifact version: mahin-sank-iit-kgp/alpha-racer-data/alpha_racer_multi_mpc_combined:v1612\n"
          ]
        },
        {
          "name": "stderr",
          "output_type": "stream",
          "text": [
            "\u001b[34m\u001b[1mwandb\u001b[0m:   1 of 1 files downloaded.  \n"
          ]
        },
        {
          "name": "stdout",
          "output_type": "stream",
          "text": [
            "Loaded 17 episodes from v1612\n",
            "Downloading artifact version: mahin-sank-iit-kgp/alpha-racer-data/alpha_racer_multi_mpc_combined:v1613\n"
          ]
        },
        {
          "name": "stderr",
          "output_type": "stream",
          "text": [
            "\u001b[34m\u001b[1mwandb\u001b[0m:   1 of 1 files downloaded.  \n"
          ]
        },
        {
          "name": "stdout",
          "output_type": "stream",
          "text": [
            "Loaded 16 episodes from v1613\n",
            "Downloading artifact version: mahin-sank-iit-kgp/alpha-racer-data/alpha_racer_multi_mpc_combined:v1614\n"
          ]
        },
        {
          "name": "stderr",
          "output_type": "stream",
          "text": [
            "\u001b[34m\u001b[1mwandb\u001b[0m:   1 of 1 files downloaded.  \n"
          ]
        },
        {
          "name": "stdout",
          "output_type": "stream",
          "text": [
            "Loaded 16 episodes from v1614\n",
            "Downloading artifact version: mahin-sank-iit-kgp/alpha-racer-data/alpha_racer_multi_mpc_combined:v1615\n"
          ]
        },
        {
          "name": "stderr",
          "output_type": "stream",
          "text": [
            "\u001b[34m\u001b[1mwandb\u001b[0m:   1 of 1 files downloaded.  \n"
          ]
        },
        {
          "name": "stdout",
          "output_type": "stream",
          "text": [
            "Loaded 2 episodes from v1615\n",
            "Downloading artifact version: mahin-sank-iit-kgp/alpha-racer-data/alpha_racer_multi_mpc_combined:v1616\n"
          ]
        },
        {
          "name": "stderr",
          "output_type": "stream",
          "text": [
            "\u001b[34m\u001b[1mwandb\u001b[0m:   1 of 1 files downloaded.  \n"
          ]
        },
        {
          "name": "stdout",
          "output_type": "stream",
          "text": [
            "Loaded 6 episodes from v1616\n",
            "Downloading artifact version: mahin-sank-iit-kgp/alpha-racer-data/alpha_racer_multi_mpc_combined:v1617\n"
          ]
        },
        {
          "name": "stderr",
          "output_type": "stream",
          "text": [
            "\u001b[34m\u001b[1mwandb\u001b[0m:   1 of 1 files downloaded.  \n"
          ]
        },
        {
          "name": "stdout",
          "output_type": "stream",
          "text": [
            "Loaded 2 episodes from v1617\n",
            "Downloading artifact version: mahin-sank-iit-kgp/alpha-racer-data/alpha_racer_multi_mpc_combined:v1618\n"
          ]
        },
        {
          "name": "stderr",
          "output_type": "stream",
          "text": [
            "\u001b[34m\u001b[1mwandb\u001b[0m:   1 of 1 files downloaded.  \n"
          ]
        },
        {
          "name": "stdout",
          "output_type": "stream",
          "text": [
            "Loaded 6 episodes from v1618\n",
            "Downloading artifact version: mahin-sank-iit-kgp/alpha-racer-data/alpha_racer_multi_mpc_combined:v1619\n"
          ]
        },
        {
          "name": "stderr",
          "output_type": "stream",
          "text": [
            "\u001b[34m\u001b[1mwandb\u001b[0m:   1 of 1 files downloaded.  \n"
          ]
        },
        {
          "name": "stdout",
          "output_type": "stream",
          "text": [
            "Loaded 2 episodes from v1619\n",
            "Downloading artifact version: mahin-sank-iit-kgp/alpha-racer-data/alpha_racer_multi_mpc_combined:v1620\n"
          ]
        },
        {
          "name": "stderr",
          "output_type": "stream",
          "text": [
            "\u001b[34m\u001b[1mwandb\u001b[0m:   1 of 1 files downloaded.  \n"
          ]
        },
        {
          "name": "stdout",
          "output_type": "stream",
          "text": [
            "Loaded 2 episodes from v1620\n",
            "Downloading artifact version: mahin-sank-iit-kgp/alpha-racer-data/alpha_racer_multi_mpc_combined:v1621\n"
          ]
        },
        {
          "name": "stderr",
          "output_type": "stream",
          "text": [
            "\u001b[34m\u001b[1mwandb\u001b[0m:   1 of 1 files downloaded.  \n"
          ]
        },
        {
          "name": "stdout",
          "output_type": "stream",
          "text": [
            "Loaded 6 episodes from v1621\n",
            "Downloading artifact version: mahin-sank-iit-kgp/alpha-racer-data/alpha_racer_multi_mpc_combined:v1622\n"
          ]
        },
        {
          "name": "stderr",
          "output_type": "stream",
          "text": [
            "\u001b[34m\u001b[1mwandb\u001b[0m:   1 of 1 files downloaded.  \n"
          ]
        },
        {
          "name": "stdout",
          "output_type": "stream",
          "text": [
            "Loaded 2 episodes from v1622\n",
            "Downloading artifact version: mahin-sank-iit-kgp/alpha-racer-data/alpha_racer_multi_mpc_combined:v1623\n"
          ]
        },
        {
          "name": "stderr",
          "output_type": "stream",
          "text": [
            "\u001b[34m\u001b[1mwandb\u001b[0m:   1 of 1 files downloaded.  \n"
          ]
        },
        {
          "name": "stdout",
          "output_type": "stream",
          "text": [
            "Loaded 6 episodes from v1623\n",
            "Downloading artifact version: mahin-sank-iit-kgp/alpha-racer-data/alpha_racer_multi_mpc_combined:v1624\n"
          ]
        },
        {
          "name": "stderr",
          "output_type": "stream",
          "text": [
            "\u001b[34m\u001b[1mwandb\u001b[0m:   1 of 1 files downloaded.  \n"
          ]
        },
        {
          "name": "stdout",
          "output_type": "stream",
          "text": [
            "Loaded 6 episodes from v1624\n",
            "Downloading artifact version: mahin-sank-iit-kgp/alpha-racer-data/alpha_racer_multi_mpc_combined:v1625\n"
          ]
        },
        {
          "name": "stderr",
          "output_type": "stream",
          "text": [
            "\u001b[34m\u001b[1mwandb\u001b[0m:   1 of 1 files downloaded.  \n"
          ]
        },
        {
          "name": "stdout",
          "output_type": "stream",
          "text": [
            "Loaded 2 episodes from v1625\n",
            "Downloading artifact version: mahin-sank-iit-kgp/alpha-racer-data/alpha_racer_multi_mpc_combined:v1626\n"
          ]
        },
        {
          "name": "stderr",
          "output_type": "stream",
          "text": [
            "\u001b[34m\u001b[1mwandb\u001b[0m:   1 of 1 files downloaded.  \n"
          ]
        },
        {
          "name": "stdout",
          "output_type": "stream",
          "text": [
            "Loaded 2 episodes from v1626\n",
            "Downloading artifact version: mahin-sank-iit-kgp/alpha-racer-data/alpha_racer_multi_mpc_combined:v1627\n"
          ]
        },
        {
          "name": "stderr",
          "output_type": "stream",
          "text": [
            "\u001b[34m\u001b[1mwandb\u001b[0m:   1 of 1 files downloaded.  \n"
          ]
        },
        {
          "name": "stdout",
          "output_type": "stream",
          "text": [
            "Loaded 2 episodes from v1627\n",
            "Downloading artifact version: mahin-sank-iit-kgp/alpha-racer-data/alpha_racer_multi_mpc_combined:v1628\n"
          ]
        },
        {
          "name": "stderr",
          "output_type": "stream",
          "text": [
            "\u001b[34m\u001b[1mwandb\u001b[0m:   1 of 1 files downloaded.  \n"
          ]
        },
        {
          "name": "stdout",
          "output_type": "stream",
          "text": [
            "Loaded 2 episodes from v1628\n",
            "Downloading artifact version: mahin-sank-iit-kgp/alpha-racer-data/alpha_racer_multi_mpc_combined:v1629\n"
          ]
        },
        {
          "name": "stderr",
          "output_type": "stream",
          "text": [
            "\u001b[34m\u001b[1mwandb\u001b[0m:   1 of 1 files downloaded.  \n"
          ]
        },
        {
          "name": "stdout",
          "output_type": "stream",
          "text": [
            "Loaded 2 episodes from v1629\n",
            "Downloading artifact version: mahin-sank-iit-kgp/alpha-racer-data/alpha_racer_multi_mpc_combined:v1630\n"
          ]
        },
        {
          "name": "stderr",
          "output_type": "stream",
          "text": [
            "\u001b[34m\u001b[1mwandb\u001b[0m:   1 of 1 files downloaded.  \n"
          ]
        },
        {
          "name": "stdout",
          "output_type": "stream",
          "text": [
            "Loaded 6 episodes from v1630\n",
            "Downloading artifact version: mahin-sank-iit-kgp/alpha-racer-data/alpha_racer_multi_mpc_combined:v1631\n"
          ]
        },
        {
          "name": "stderr",
          "output_type": "stream",
          "text": [
            "\u001b[34m\u001b[1mwandb\u001b[0m:   1 of 1 files downloaded.  \n"
          ]
        },
        {
          "name": "stdout",
          "output_type": "stream",
          "text": [
            "Loaded 6 episodes from v1631\n",
            "Downloading artifact version: mahin-sank-iit-kgp/alpha-racer-data/alpha_racer_multi_mpc_combined:v1632\n"
          ]
        },
        {
          "name": "stderr",
          "output_type": "stream",
          "text": [
            "\u001b[34m\u001b[1mwandb\u001b[0m:   1 of 1 files downloaded.  \n"
          ]
        },
        {
          "name": "stdout",
          "output_type": "stream",
          "text": [
            "Loaded 17 episodes from v1632\n",
            "Downloading artifact version: mahin-sank-iit-kgp/alpha-racer-data/alpha_racer_multi_mpc_combined:v1633\n"
          ]
        },
        {
          "name": "stderr",
          "output_type": "stream",
          "text": [
            "\u001b[34m\u001b[1mwandb\u001b[0m:   1 of 1 files downloaded.  \n"
          ]
        },
        {
          "name": "stdout",
          "output_type": "stream",
          "text": [
            "Loaded 3 episodes from v1633\n",
            "Downloading artifact version: mahin-sank-iit-kgp/alpha-racer-data/alpha_racer_multi_mpc_combined:v1634\n"
          ]
        },
        {
          "name": "stderr",
          "output_type": "stream",
          "text": [
            "\u001b[34m\u001b[1mwandb\u001b[0m:   1 of 1 files downloaded.  \n"
          ]
        },
        {
          "name": "stdout",
          "output_type": "stream",
          "text": [
            "Loaded 6 episodes from v1634\n",
            "Downloading artifact version: mahin-sank-iit-kgp/alpha-racer-data/alpha_racer_multi_mpc_combined:v1635\n"
          ]
        },
        {
          "name": "stderr",
          "output_type": "stream",
          "text": [
            "\u001b[34m\u001b[1mwandb\u001b[0m:   1 of 1 files downloaded.  \n"
          ]
        },
        {
          "name": "stdout",
          "output_type": "stream",
          "text": [
            "Loaded 3 episodes from v1635\n",
            "Downloading artifact version: mahin-sank-iit-kgp/alpha-racer-data/alpha_racer_multi_mpc_combined:v1636\n"
          ]
        },
        {
          "name": "stderr",
          "output_type": "stream",
          "text": [
            "\u001b[34m\u001b[1mwandb\u001b[0m:   1 of 1 files downloaded.  \n"
          ]
        },
        {
          "name": "stdout",
          "output_type": "stream",
          "text": [
            "Loaded 6 episodes from v1636\n",
            "Downloading artifact version: mahin-sank-iit-kgp/alpha-racer-data/alpha_racer_multi_mpc_combined:v1637\n"
          ]
        },
        {
          "name": "stderr",
          "output_type": "stream",
          "text": [
            "\u001b[34m\u001b[1mwandb\u001b[0m:   1 of 1 files downloaded.  \n"
          ]
        },
        {
          "name": "stdout",
          "output_type": "stream",
          "text": [
            "Loaded 3 episodes from v1637\n",
            "Downloading artifact version: mahin-sank-iit-kgp/alpha-racer-data/alpha_racer_multi_mpc_combined:v1638\n"
          ]
        },
        {
          "name": "stderr",
          "output_type": "stream",
          "text": [
            "\u001b[34m\u001b[1mwandb\u001b[0m:   1 of 1 files downloaded.  \n"
          ]
        },
        {
          "name": "stdout",
          "output_type": "stream",
          "text": [
            "Loaded 17 episodes from v1638\n",
            "Downloading artifact version: mahin-sank-iit-kgp/alpha-racer-data/alpha_racer_multi_mpc_combined:v1639\n"
          ]
        },
        {
          "name": "stderr",
          "output_type": "stream",
          "text": [
            "\u001b[34m\u001b[1mwandb\u001b[0m:   1 of 1 files downloaded.  \n"
          ]
        },
        {
          "name": "stdout",
          "output_type": "stream",
          "text": [
            "Loaded 3 episodes from v1639\n",
            "Downloading artifact version: mahin-sank-iit-kgp/alpha-racer-data/alpha_racer_multi_mpc_combined:v1640\n"
          ]
        },
        {
          "name": "stderr",
          "output_type": "stream",
          "text": [
            "\u001b[34m\u001b[1mwandb\u001b[0m:   1 of 1 files downloaded.  \n"
          ]
        },
        {
          "name": "stdout",
          "output_type": "stream",
          "text": [
            "Loaded 6 episodes from v1640\n",
            "Downloading artifact version: mahin-sank-iit-kgp/alpha-racer-data/alpha_racer_multi_mpc_combined:v1641\n"
          ]
        },
        {
          "name": "stderr",
          "output_type": "stream",
          "text": [
            "\u001b[34m\u001b[1mwandb\u001b[0m:   1 of 1 files downloaded.  \n"
          ]
        },
        {
          "name": "stdout",
          "output_type": "stream",
          "text": [
            "Loaded 3 episodes from v1641\n",
            "Downloading artifact version: mahin-sank-iit-kgp/alpha-racer-data/alpha_racer_multi_mpc_combined:v1642\n"
          ]
        },
        {
          "name": "stderr",
          "output_type": "stream",
          "text": [
            "\u001b[34m\u001b[1mwandb\u001b[0m:   1 of 1 files downloaded.  \n"
          ]
        },
        {
          "name": "stdout",
          "output_type": "stream",
          "text": [
            "Loaded 17 episodes from v1642\n",
            "Downloading artifact version: mahin-sank-iit-kgp/alpha-racer-data/alpha_racer_multi_mpc_combined:v1643\n"
          ]
        },
        {
          "name": "stderr",
          "output_type": "stream",
          "text": [
            "\u001b[34m\u001b[1mwandb\u001b[0m:   1 of 1 files downloaded.  \n"
          ]
        },
        {
          "name": "stdout",
          "output_type": "stream",
          "text": [
            "Loaded 3 episodes from v1643\n",
            "Downloading artifact version: mahin-sank-iit-kgp/alpha-racer-data/alpha_racer_multi_mpc_combined:v1644\n"
          ]
        },
        {
          "name": "stderr",
          "output_type": "stream",
          "text": [
            "\u001b[34m\u001b[1mwandb\u001b[0m:   1 of 1 files downloaded.  \n"
          ]
        },
        {
          "name": "stdout",
          "output_type": "stream",
          "text": [
            "Loaded 3 episodes from v1644\n",
            "Downloading artifact version: mahin-sank-iit-kgp/alpha-racer-data/alpha_racer_multi_mpc_combined:v1645\n"
          ]
        },
        {
          "name": "stderr",
          "output_type": "stream",
          "text": [
            "\u001b[34m\u001b[1mwandb\u001b[0m:   1 of 1 files downloaded.  \n"
          ]
        },
        {
          "name": "stdout",
          "output_type": "stream",
          "text": [
            "Loaded 17 episodes from v1645\n",
            "Downloading artifact version: mahin-sank-iit-kgp/alpha-racer-data/alpha_racer_multi_mpc_combined:v1646\n"
          ]
        },
        {
          "name": "stderr",
          "output_type": "stream",
          "text": [
            "\u001b[34m\u001b[1mwandb\u001b[0m:   1 of 1 files downloaded.  \n"
          ]
        },
        {
          "name": "stdout",
          "output_type": "stream",
          "text": [
            "Loaded 3 episodes from v1646\n",
            "Downloading artifact version: mahin-sank-iit-kgp/alpha-racer-data/alpha_racer_multi_mpc_combined:v1647\n"
          ]
        },
        {
          "name": "stderr",
          "output_type": "stream",
          "text": [
            "\u001b[34m\u001b[1mwandb\u001b[0m:   1 of 1 files downloaded.  \n"
          ]
        },
        {
          "name": "stdout",
          "output_type": "stream",
          "text": [
            "Loaded 3 episodes from v1647\n",
            "Downloading artifact version: mahin-sank-iit-kgp/alpha-racer-data/alpha_racer_multi_mpc_combined:v1648\n"
          ]
        },
        {
          "name": "stderr",
          "output_type": "stream",
          "text": [
            "\u001b[34m\u001b[1mwandb\u001b[0m:   1 of 1 files downloaded.  \n"
          ]
        },
        {
          "name": "stdout",
          "output_type": "stream",
          "text": [
            "Loaded 3 episodes from v1648\n",
            "Downloading artifact version: mahin-sank-iit-kgp/alpha-racer-data/alpha_racer_multi_mpc_combined:v1649\n"
          ]
        },
        {
          "name": "stderr",
          "output_type": "stream",
          "text": [
            "\u001b[34m\u001b[1mwandb\u001b[0m:   1 of 1 files downloaded.  \n"
          ]
        },
        {
          "name": "stdout",
          "output_type": "stream",
          "text": [
            "Loaded 17 episodes from v1649\n",
            "Downloading artifact version: mahin-sank-iit-kgp/alpha-racer-data/alpha_racer_multi_mpc_combined:v1650\n"
          ]
        },
        {
          "name": "stderr",
          "output_type": "stream",
          "text": [
            "\u001b[34m\u001b[1mwandb\u001b[0m:   1 of 1 files downloaded.  \n"
          ]
        },
        {
          "name": "stdout",
          "output_type": "stream",
          "text": [
            "Loaded 4 episodes from v1650\n",
            "Downloading artifact version: mahin-sank-iit-kgp/alpha-racer-data/alpha_racer_multi_mpc_combined:v1651\n"
          ]
        },
        {
          "name": "stderr",
          "output_type": "stream",
          "text": [
            "\u001b[34m\u001b[1mwandb\u001b[0m:   1 of 1 files downloaded.  \n"
          ]
        },
        {
          "name": "stdout",
          "output_type": "stream",
          "text": [
            "Loaded 4 episodes from v1651\n",
            "Downloading artifact version: mahin-sank-iit-kgp/alpha-racer-data/alpha_racer_multi_mpc_combined:v1652\n"
          ]
        },
        {
          "name": "stderr",
          "output_type": "stream",
          "text": [
            "\u001b[34m\u001b[1mwandb\u001b[0m:   1 of 1 files downloaded.  \n"
          ]
        },
        {
          "name": "stdout",
          "output_type": "stream",
          "text": [
            "Loaded 7 episodes from v1652\n",
            "Downloading artifact version: mahin-sank-iit-kgp/alpha-racer-data/alpha_racer_multi_mpc_combined:v1653\n"
          ]
        },
        {
          "name": "stderr",
          "output_type": "stream",
          "text": [
            "\u001b[34m\u001b[1mwandb\u001b[0m:   1 of 1 files downloaded.  \n"
          ]
        },
        {
          "name": "stdout",
          "output_type": "stream",
          "text": [
            "Loaded 4 episodes from v1653\n",
            "Downloading artifact version: mahin-sank-iit-kgp/alpha-racer-data/alpha_racer_multi_mpc_combined:v1654\n"
          ]
        },
        {
          "name": "stderr",
          "output_type": "stream",
          "text": [
            "\u001b[34m\u001b[1mwandb\u001b[0m:   1 of 1 files downloaded.  \n"
          ]
        },
        {
          "name": "stdout",
          "output_type": "stream",
          "text": [
            "Loaded 4 episodes from v1654\n",
            "Downloading artifact version: mahin-sank-iit-kgp/alpha-racer-data/alpha_racer_multi_mpc_combined:v1655\n"
          ]
        },
        {
          "name": "stderr",
          "output_type": "stream",
          "text": [
            "\u001b[34m\u001b[1mwandb\u001b[0m:   1 of 1 files downloaded.  \n"
          ]
        },
        {
          "name": "stdout",
          "output_type": "stream",
          "text": [
            "Loaded 7 episodes from v1655\n",
            "Downloading artifact version: mahin-sank-iit-kgp/alpha-racer-data/alpha_racer_multi_mpc_combined:v1656\n"
          ]
        },
        {
          "name": "stderr",
          "output_type": "stream",
          "text": [
            "\u001b[34m\u001b[1mwandb\u001b[0m:   1 of 1 files downloaded.  \n"
          ]
        },
        {
          "name": "stdout",
          "output_type": "stream",
          "text": [
            "Loaded 7 episodes from v1656\n",
            "Downloading artifact version: mahin-sank-iit-kgp/alpha-racer-data/alpha_racer_multi_mpc_combined:v1657\n"
          ]
        },
        {
          "name": "stderr",
          "output_type": "stream",
          "text": [
            "\u001b[34m\u001b[1mwandb\u001b[0m:   1 of 1 files downloaded.  \n"
          ]
        },
        {
          "name": "stdout",
          "output_type": "stream",
          "text": [
            "Loaded 4 episodes from v1657\n",
            "Downloading artifact version: mahin-sank-iit-kgp/alpha-racer-data/alpha_racer_multi_mpc_combined:v1658\n"
          ]
        },
        {
          "name": "stderr",
          "output_type": "stream",
          "text": [
            "\u001b[34m\u001b[1mwandb\u001b[0m:   1 of 1 files downloaded.  \n"
          ]
        },
        {
          "name": "stdout",
          "output_type": "stream",
          "text": [
            "Loaded 4 episodes from v1658\n",
            "Downloading artifact version: mahin-sank-iit-kgp/alpha-racer-data/alpha_racer_multi_mpc_combined:v1659\n"
          ]
        },
        {
          "name": "stderr",
          "output_type": "stream",
          "text": [
            "\u001b[34m\u001b[1mwandb\u001b[0m:   1 of 1 files downloaded.  \n"
          ]
        },
        {
          "name": "stdout",
          "output_type": "stream",
          "text": [
            "Loaded 7 episodes from v1659\n",
            "Downloading artifact version: mahin-sank-iit-kgp/alpha-racer-data/alpha_racer_multi_mpc_combined:v1660\n"
          ]
        },
        {
          "name": "stderr",
          "output_type": "stream",
          "text": [
            "\u001b[34m\u001b[1mwandb\u001b[0m:   1 of 1 files downloaded.  \n"
          ]
        },
        {
          "name": "stdout",
          "output_type": "stream",
          "text": [
            "Loaded 4 episodes from v1660\n",
            "Downloading artifact version: mahin-sank-iit-kgp/alpha-racer-data/alpha_racer_multi_mpc_combined:v1661\n"
          ]
        },
        {
          "name": "stderr",
          "output_type": "stream",
          "text": [
            "\u001b[34m\u001b[1mwandb\u001b[0m:   1 of 1 files downloaded.  \n"
          ]
        },
        {
          "name": "stdout",
          "output_type": "stream",
          "text": [
            "Loaded 7 episodes from v1661\n",
            "Downloading artifact version: mahin-sank-iit-kgp/alpha-racer-data/alpha_racer_multi_mpc_combined:v1662\n"
          ]
        },
        {
          "name": "stderr",
          "output_type": "stream",
          "text": [
            "\u001b[34m\u001b[1mwandb\u001b[0m:   1 of 1 files downloaded.  \n"
          ]
        },
        {
          "name": "stdout",
          "output_type": "stream",
          "text": [
            "Loaded 17 episodes from v1662\n",
            "Downloading artifact version: mahin-sank-iit-kgp/alpha-racer-data/alpha_racer_multi_mpc_combined:v1663\n"
          ]
        },
        {
          "name": "stderr",
          "output_type": "stream",
          "text": [
            "\u001b[34m\u001b[1mwandb\u001b[0m:   1 of 1 files downloaded.  \n"
          ]
        },
        {
          "name": "stdout",
          "output_type": "stream",
          "text": [
            "Loaded 4 episodes from v1663\n",
            "Downloading artifact version: mahin-sank-iit-kgp/alpha-racer-data/alpha_racer_multi_mpc_combined:v1664\n"
          ]
        },
        {
          "name": "stderr",
          "output_type": "stream",
          "text": [
            "\u001b[34m\u001b[1mwandb\u001b[0m:   1 of 1 files downloaded.  \n"
          ]
        },
        {
          "name": "stdout",
          "output_type": "stream",
          "text": [
            "Loaded 4 episodes from v1664\n",
            "Downloading artifact version: mahin-sank-iit-kgp/alpha-racer-data/alpha_racer_multi_mpc_combined:v1665\n"
          ]
        },
        {
          "name": "stderr",
          "output_type": "stream",
          "text": [
            "\u001b[34m\u001b[1mwandb\u001b[0m:   1 of 1 files downloaded.  \n"
          ]
        },
        {
          "name": "stdout",
          "output_type": "stream",
          "text": [
            "Loaded 4 episodes from v1665\n",
            "Downloading artifact version: mahin-sank-iit-kgp/alpha-racer-data/alpha_racer_multi_mpc_combined:v1666\n"
          ]
        },
        {
          "name": "stderr",
          "output_type": "stream",
          "text": [
            "\u001b[34m\u001b[1mwandb\u001b[0m:   1 of 1 files downloaded.  \n"
          ]
        },
        {
          "name": "stdout",
          "output_type": "stream",
          "text": [
            "Loaded 17 episodes from v1666\n",
            "Downloading artifact version: mahin-sank-iit-kgp/alpha-racer-data/alpha_racer_multi_mpc_combined:v1667\n"
          ]
        },
        {
          "name": "stderr",
          "output_type": "stream",
          "text": [
            "\u001b[34m\u001b[1mwandb\u001b[0m:   1 of 1 files downloaded.  \n"
          ]
        },
        {
          "name": "stdout",
          "output_type": "stream",
          "text": [
            "Loaded 7 episodes from v1667\n",
            "Downloading artifact version: mahin-sank-iit-kgp/alpha-racer-data/alpha_racer_multi_mpc_combined:v1668\n"
          ]
        },
        {
          "name": "stderr",
          "output_type": "stream",
          "text": [
            "\u001b[34m\u001b[1mwandb\u001b[0m:   1 of 1 files downloaded.  \n"
          ]
        },
        {
          "name": "stdout",
          "output_type": "stream",
          "text": [
            "Loaded 7 episodes from v1668\n",
            "Downloading artifact version: mahin-sank-iit-kgp/alpha-racer-data/alpha_racer_multi_mpc_combined:v1669\n"
          ]
        },
        {
          "name": "stderr",
          "output_type": "stream",
          "text": [
            "\u001b[34m\u001b[1mwandb\u001b[0m:   1 of 1 files downloaded.  \n"
          ]
        },
        {
          "name": "stdout",
          "output_type": "stream",
          "text": [
            "Loaded 5 episodes from v1669\n",
            "Downloading artifact version: mahin-sank-iit-kgp/alpha-racer-data/alpha_racer_multi_mpc_combined:v1670\n"
          ]
        },
        {
          "name": "stderr",
          "output_type": "stream",
          "text": [
            "\u001b[34m\u001b[1mwandb\u001b[0m:   1 of 1 files downloaded.  \n"
          ]
        },
        {
          "name": "stdout",
          "output_type": "stream",
          "text": [
            "Loaded 5 episodes from v1670\n",
            "Downloading artifact version: mahin-sank-iit-kgp/alpha-racer-data/alpha_racer_multi_mpc_combined:v1671\n"
          ]
        },
        {
          "name": "stderr",
          "output_type": "stream",
          "text": [
            "\u001b[34m\u001b[1mwandb\u001b[0m:   1 of 1 files downloaded.  \n"
          ]
        },
        {
          "name": "stdout",
          "output_type": "stream",
          "text": [
            "Loaded 7 episodes from v1671\n",
            "Downloading artifact version: mahin-sank-iit-kgp/alpha-racer-data/alpha_racer_multi_mpc_combined:v1672\n"
          ]
        },
        {
          "name": "stderr",
          "output_type": "stream",
          "text": [
            "\u001b[34m\u001b[1mwandb\u001b[0m:   1 of 1 files downloaded.  \n"
          ]
        },
        {
          "name": "stdout",
          "output_type": "stream",
          "text": [
            "Loaded 7 episodes from v1672\n",
            "Downloading artifact version: mahin-sank-iit-kgp/alpha-racer-data/alpha_racer_multi_mpc_combined:v1673\n"
          ]
        },
        {
          "name": "stderr",
          "output_type": "stream",
          "text": [
            "\u001b[34m\u001b[1mwandb\u001b[0m:   1 of 1 files downloaded.  \n"
          ]
        },
        {
          "name": "stdout",
          "output_type": "stream",
          "text": [
            "Loaded 5 episodes from v1673\n",
            "Downloading artifact version: mahin-sank-iit-kgp/alpha-racer-data/alpha_racer_multi_mpc_combined:v1674\n"
          ]
        },
        {
          "name": "stderr",
          "output_type": "stream",
          "text": [
            "\u001b[34m\u001b[1mwandb\u001b[0m:   1 of 1 files downloaded.  \n"
          ]
        },
        {
          "name": "stdout",
          "output_type": "stream",
          "text": [
            "Loaded 5 episodes from v1674\n",
            "Downloading artifact version: mahin-sank-iit-kgp/alpha-racer-data/alpha_racer_multi_mpc_combined:v1675\n"
          ]
        },
        {
          "name": "stderr",
          "output_type": "stream",
          "text": [
            "\u001b[34m\u001b[1mwandb\u001b[0m:   1 of 1 files downloaded.  \n"
          ]
        },
        {
          "name": "stdout",
          "output_type": "stream",
          "text": [
            "Loaded 5 episodes from v1675\n",
            "Downloading artifact version: mahin-sank-iit-kgp/alpha-racer-data/alpha_racer_multi_mpc_combined:v1676\n"
          ]
        },
        {
          "name": "stderr",
          "output_type": "stream",
          "text": [
            "\u001b[34m\u001b[1mwandb\u001b[0m:   1 of 1 files downloaded.  \n"
          ]
        },
        {
          "name": "stdout",
          "output_type": "stream",
          "text": [
            "Loaded 5 episodes from v1676\n",
            "Downloading artifact version: mahin-sank-iit-kgp/alpha-racer-data/alpha_racer_multi_mpc_combined:v1677\n"
          ]
        },
        {
          "name": "stderr",
          "output_type": "stream",
          "text": [
            "\u001b[34m\u001b[1mwandb\u001b[0m:   1 of 1 files downloaded.  \n"
          ]
        },
        {
          "name": "stdout",
          "output_type": "stream",
          "text": [
            "Loaded 7 episodes from v1677\n",
            "Downloading artifact version: mahin-sank-iit-kgp/alpha-racer-data/alpha_racer_multi_mpc_combined:v1678\n"
          ]
        },
        {
          "name": "stderr",
          "output_type": "stream",
          "text": [
            "\u001b[34m\u001b[1mwandb\u001b[0m:   1 of 1 files downloaded.  \n"
          ]
        },
        {
          "name": "stdout",
          "output_type": "stream",
          "text": [
            "Loaded 5 episodes from v1678\n",
            "Downloading artifact version: mahin-sank-iit-kgp/alpha-racer-data/alpha_racer_multi_mpc_combined:v1679\n"
          ]
        },
        {
          "name": "stderr",
          "output_type": "stream",
          "text": [
            "\u001b[34m\u001b[1mwandb\u001b[0m:   1 of 1 files downloaded.  \n"
          ]
        },
        {
          "name": "stdout",
          "output_type": "stream",
          "text": [
            "Loaded 5 episodes from v1679\n",
            "Downloading artifact version: mahin-sank-iit-kgp/alpha-racer-data/alpha_racer_multi_mpc_combined:v1680\n"
          ]
        },
        {
          "name": "stderr",
          "output_type": "stream",
          "text": [
            "\u001b[34m\u001b[1mwandb\u001b[0m:   1 of 1 files downloaded.  \n"
          ]
        },
        {
          "name": "stdout",
          "output_type": "stream",
          "text": [
            "Loaded 5 episodes from v1680\n",
            "Downloading artifact version: mahin-sank-iit-kgp/alpha-racer-data/alpha_racer_multi_mpc_combined:v1681\n"
          ]
        },
        {
          "name": "stderr",
          "output_type": "stream",
          "text": [
            "\u001b[34m\u001b[1mwandb\u001b[0m:   1 of 1 files downloaded.  \n"
          ]
        },
        {
          "name": "stdout",
          "output_type": "stream",
          "text": [
            "Loaded 5 episodes from v1681\n",
            "Downloading artifact version: mahin-sank-iit-kgp/alpha-racer-data/alpha_racer_multi_mpc_combined:v1682\n"
          ]
        },
        {
          "name": "stderr",
          "output_type": "stream",
          "text": [
            "\u001b[34m\u001b[1mwandb\u001b[0m:   1 of 1 files downloaded.  \n"
          ]
        },
        {
          "name": "stdout",
          "output_type": "stream",
          "text": [
            "Loaded 17 episodes from v1682\n",
            "Downloading artifact version: mahin-sank-iit-kgp/alpha-racer-data/alpha_racer_multi_mpc_combined:v1683\n"
          ]
        },
        {
          "name": "stderr",
          "output_type": "stream",
          "text": [
            "\u001b[34m\u001b[1mwandb\u001b[0m:   1 of 1 files downloaded.  \n"
          ]
        },
        {
          "name": "stdout",
          "output_type": "stream",
          "text": [
            "Loaded 6 episodes from v1683\n",
            "Downloading artifact version: mahin-sank-iit-kgp/alpha-racer-data/alpha_racer_multi_mpc_combined:v1684\n"
          ]
        },
        {
          "name": "stderr",
          "output_type": "stream",
          "text": [
            "\u001b[34m\u001b[1mwandb\u001b[0m:   1 of 1 files downloaded.  \n"
          ]
        },
        {
          "name": "stdout",
          "output_type": "stream",
          "text": [
            "Loaded 6 episodes from v1684\n",
            "Downloading artifact version: mahin-sank-iit-kgp/alpha-racer-data/alpha_racer_multi_mpc_combined:v1685\n"
          ]
        },
        {
          "name": "stderr",
          "output_type": "stream",
          "text": [
            "\u001b[34m\u001b[1mwandb\u001b[0m:   1 of 1 files downloaded.  \n"
          ]
        },
        {
          "name": "stdout",
          "output_type": "stream",
          "text": [
            "Loaded 6 episodes from v1685\n",
            "Downloading artifact version: mahin-sank-iit-kgp/alpha-racer-data/alpha_racer_multi_mpc_combined:v1686\n"
          ]
        },
        {
          "name": "stderr",
          "output_type": "stream",
          "text": [
            "\u001b[34m\u001b[1mwandb\u001b[0m:   1 of 1 files downloaded.  \n"
          ]
        },
        {
          "name": "stdout",
          "output_type": "stream",
          "text": [
            "Loaded 8 episodes from v1686\n",
            "Downloading artifact version: mahin-sank-iit-kgp/alpha-racer-data/alpha_racer_multi_mpc_combined:v1687\n"
          ]
        },
        {
          "name": "stderr",
          "output_type": "stream",
          "text": [
            "\u001b[34m\u001b[1mwandb\u001b[0m:   1 of 1 files downloaded.  \n"
          ]
        },
        {
          "name": "stdout",
          "output_type": "stream",
          "text": [
            "Loaded 6 episodes from v1687\n",
            "Downloading artifact version: mahin-sank-iit-kgp/alpha-racer-data/alpha_racer_multi_mpc_combined:v1688\n"
          ]
        },
        {
          "name": "stderr",
          "output_type": "stream",
          "text": [
            "\u001b[34m\u001b[1mwandb\u001b[0m:   1 of 1 files downloaded.  \n"
          ]
        },
        {
          "name": "stdout",
          "output_type": "stream",
          "text": [
            "Loaded 18 episodes from v1688\n",
            "Downloading artifact version: mahin-sank-iit-kgp/alpha-racer-data/alpha_racer_multi_mpc_combined:v1689\n"
          ]
        },
        {
          "name": "stderr",
          "output_type": "stream",
          "text": [
            "\u001b[34m\u001b[1mwandb\u001b[0m:   1 of 1 files downloaded.  \n"
          ]
        },
        {
          "name": "stdout",
          "output_type": "stream",
          "text": [
            "Loaded 8 episodes from v1689\n",
            "Downloading artifact version: mahin-sank-iit-kgp/alpha-racer-data/alpha_racer_multi_mpc_combined:v1690\n"
          ]
        },
        {
          "name": "stderr",
          "output_type": "stream",
          "text": [
            "\u001b[34m\u001b[1mwandb\u001b[0m:   1 of 1 files downloaded.  \n"
          ]
        },
        {
          "name": "stdout",
          "output_type": "stream",
          "text": [
            "Loaded 8 episodes from v1690\n",
            "Downloading artifact version: mahin-sank-iit-kgp/alpha-racer-data/alpha_racer_multi_mpc_combined:v1691\n"
          ]
        },
        {
          "name": "stderr",
          "output_type": "stream",
          "text": [
            "\u001b[34m\u001b[1mwandb\u001b[0m:   1 of 1 files downloaded.  \n"
          ]
        },
        {
          "name": "stdout",
          "output_type": "stream",
          "text": [
            "Loaded 6 episodes from v1691\n",
            "Downloading artifact version: mahin-sank-iit-kgp/alpha-racer-data/alpha_racer_multi_mpc_combined:v1692\n"
          ]
        },
        {
          "name": "stderr",
          "output_type": "stream",
          "text": [
            "\u001b[34m\u001b[1mwandb\u001b[0m:   1 of 1 files downloaded.  \n"
          ]
        },
        {
          "name": "stdout",
          "output_type": "stream",
          "text": [
            "Loaded 6 episodes from v1692\n",
            "Downloading artifact version: mahin-sank-iit-kgp/alpha-racer-data/alpha_racer_multi_mpc_combined:v1693\n"
          ]
        },
        {
          "name": "stderr",
          "output_type": "stream",
          "text": [
            "\u001b[34m\u001b[1mwandb\u001b[0m:   1 of 1 files downloaded.  \n"
          ]
        },
        {
          "name": "stdout",
          "output_type": "stream",
          "text": [
            "Loaded 6 episodes from v1693\n",
            "Downloading artifact version: mahin-sank-iit-kgp/alpha-racer-data/alpha_racer_multi_mpc_combined:v1694\n"
          ]
        },
        {
          "name": "stderr",
          "output_type": "stream",
          "text": [
            "\u001b[34m\u001b[1mwandb\u001b[0m:   1 of 1 files downloaded.  \n"
          ]
        },
        {
          "name": "stdout",
          "output_type": "stream",
          "text": [
            "Loaded 6 episodes from v1694\n",
            "Downloading artifact version: mahin-sank-iit-kgp/alpha-racer-data/alpha_racer_multi_mpc_combined:v1695\n"
          ]
        },
        {
          "name": "stderr",
          "output_type": "stream",
          "text": [
            "\u001b[34m\u001b[1mwandb\u001b[0m:   1 of 1 files downloaded.  \n"
          ]
        },
        {
          "name": "stdout",
          "output_type": "stream",
          "text": [
            "Loaded 6 episodes from v1695\n",
            "Downloading artifact version: mahin-sank-iit-kgp/alpha-racer-data/alpha_racer_multi_mpc_combined:v1696\n"
          ]
        },
        {
          "name": "stderr",
          "output_type": "stream",
          "text": [
            "\u001b[34m\u001b[1mwandb\u001b[0m:   1 of 1 files downloaded.  \n"
          ]
        },
        {
          "name": "stdout",
          "output_type": "stream",
          "text": [
            "Loaded 8 episodes from v1696\n",
            "Downloading artifact version: mahin-sank-iit-kgp/alpha-racer-data/alpha_racer_multi_mpc_combined:v1697\n"
          ]
        },
        {
          "name": "stderr",
          "output_type": "stream",
          "text": [
            "\u001b[34m\u001b[1mwandb\u001b[0m:   1 of 1 files downloaded.  \n"
          ]
        },
        {
          "name": "stdout",
          "output_type": "stream",
          "text": [
            "Loaded 6 episodes from v1697\n",
            "Downloading artifact version: mahin-sank-iit-kgp/alpha-racer-data/alpha_racer_multi_mpc_combined:v1698\n"
          ]
        },
        {
          "name": "stderr",
          "output_type": "stream",
          "text": [
            "\u001b[34m\u001b[1mwandb\u001b[0m:   1 of 1 files downloaded.  \n"
          ]
        },
        {
          "name": "stdout",
          "output_type": "stream",
          "text": [
            "Loaded 8 episodes from v1698\n",
            "Downloading artifact version: mahin-sank-iit-kgp/alpha-racer-data/alpha_racer_multi_mpc_combined:v1699\n"
          ]
        },
        {
          "name": "stderr",
          "output_type": "stream",
          "text": [
            "\u001b[34m\u001b[1mwandb\u001b[0m:   1 of 1 files downloaded.  \n"
          ]
        },
        {
          "name": "stdout",
          "output_type": "stream",
          "text": [
            "Loaded 8 episodes from v1699\n",
            "Downloading artifact version: mahin-sank-iit-kgp/alpha-racer-data/alpha_racer_multi_mpc_combined:v1700\n"
          ]
        },
        {
          "name": "stderr",
          "output_type": "stream",
          "text": [
            "\u001b[34m\u001b[1mwandb\u001b[0m:   1 of 1 files downloaded.  \n"
          ]
        },
        {
          "name": "stdout",
          "output_type": "stream",
          "text": [
            "Loaded 17 episodes from v1700\n",
            "Downloading artifact version: mahin-sank-iit-kgp/alpha-racer-data/alpha_racer_multi_mpc_combined:v1701\n"
          ]
        },
        {
          "name": "stderr",
          "output_type": "stream",
          "text": [
            "\u001b[34m\u001b[1mwandb\u001b[0m:   1 of 1 files downloaded.  \n"
          ]
        },
        {
          "name": "stdout",
          "output_type": "stream",
          "text": [
            "Loaded 7 episodes from v1701\n",
            "Downloading artifact version: mahin-sank-iit-kgp/alpha-racer-data/alpha_racer_multi_mpc_combined:v1702\n"
          ]
        },
        {
          "name": "stderr",
          "output_type": "stream",
          "text": [
            "\u001b[34m\u001b[1mwandb\u001b[0m:   1 of 1 files downloaded.  \n"
          ]
        },
        {
          "name": "stdout",
          "output_type": "stream",
          "text": [
            "Loaded 7 episodes from v1702\n",
            "Downloading artifact version: mahin-sank-iit-kgp/alpha-racer-data/alpha_racer_multi_mpc_combined:v1703\n"
          ]
        },
        {
          "name": "stderr",
          "output_type": "stream",
          "text": [
            "\u001b[34m\u001b[1mwandb\u001b[0m:   1 of 1 files downloaded.  \n"
          ]
        },
        {
          "name": "stdout",
          "output_type": "stream",
          "text": [
            "Loaded 8 episodes from v1703\n",
            "Downloading artifact version: mahin-sank-iit-kgp/alpha-racer-data/alpha_racer_multi_mpc_combined:v1704\n"
          ]
        },
        {
          "name": "stderr",
          "output_type": "stream",
          "text": [
            "\u001b[34m\u001b[1mwandb\u001b[0m:   1 of 1 files downloaded.  \n"
          ]
        },
        {
          "name": "stdout",
          "output_type": "stream",
          "text": [
            "Loaded 7 episodes from v1704\n",
            "Downloading artifact version: mahin-sank-iit-kgp/alpha-racer-data/alpha_racer_multi_mpc_combined:v1705\n"
          ]
        },
        {
          "name": "stderr",
          "output_type": "stream",
          "text": [
            "\u001b[34m\u001b[1mwandb\u001b[0m:   1 of 1 files downloaded.  \n"
          ]
        },
        {
          "name": "stdout",
          "output_type": "stream",
          "text": [
            "Loaded 8 episodes from v1705\n",
            "Downloading artifact version: mahin-sank-iit-kgp/alpha-racer-data/alpha_racer_multi_mpc_combined:v1706\n"
          ]
        },
        {
          "name": "stderr",
          "output_type": "stream",
          "text": [
            "\u001b[34m\u001b[1mwandb\u001b[0m:   1 of 1 files downloaded.  \n"
          ]
        },
        {
          "name": "stdout",
          "output_type": "stream",
          "text": [
            "Loaded 8 episodes from v1706\n",
            "Downloading artifact version: mahin-sank-iit-kgp/alpha-racer-data/alpha_racer_multi_mpc_combined:v1707\n"
          ]
        },
        {
          "name": "stderr",
          "output_type": "stream",
          "text": [
            "\u001b[34m\u001b[1mwandb\u001b[0m:   1 of 1 files downloaded.  \n"
          ]
        },
        {
          "name": "stdout",
          "output_type": "stream",
          "text": [
            "Loaded 7 episodes from v1707\n",
            "Downloading artifact version: mahin-sank-iit-kgp/alpha-racer-data/alpha_racer_multi_mpc_combined:v1708\n"
          ]
        },
        {
          "name": "stderr",
          "output_type": "stream",
          "text": [
            "\u001b[34m\u001b[1mwandb\u001b[0m:   1 of 1 files downloaded.  \n"
          ]
        },
        {
          "name": "stdout",
          "output_type": "stream",
          "text": [
            "Loaded 7 episodes from v1708\n",
            "Downloading artifact version: mahin-sank-iit-kgp/alpha-racer-data/alpha_racer_multi_mpc_combined:v1709\n"
          ]
        },
        {
          "name": "stderr",
          "output_type": "stream",
          "text": [
            "\u001b[34m\u001b[1mwandb\u001b[0m:   1 of 1 files downloaded.  \n"
          ]
        },
        {
          "name": "stdout",
          "output_type": "stream",
          "text": [
            "Loaded 7 episodes from v1709\n",
            "Downloading artifact version: mahin-sank-iit-kgp/alpha-racer-data/alpha_racer_multi_mpc_combined:v1710\n"
          ]
        },
        {
          "name": "stderr",
          "output_type": "stream",
          "text": [
            "\u001b[34m\u001b[1mwandb\u001b[0m:   1 of 1 files downloaded.  \n"
          ]
        },
        {
          "name": "stdout",
          "output_type": "stream",
          "text": [
            "Loaded 18 episodes from v1710\n",
            "Downloading artifact version: mahin-sank-iit-kgp/alpha-racer-data/alpha_racer_multi_mpc_combined:v1711\n"
          ]
        },
        {
          "name": "stderr",
          "output_type": "stream",
          "text": [
            "\u001b[34m\u001b[1mwandb\u001b[0m:   1 of 1 files downloaded.  \n"
          ]
        },
        {
          "name": "stdout",
          "output_type": "stream",
          "text": [
            "Loaded 8 episodes from v1711\n",
            "Downloading artifact version: mahin-sank-iit-kgp/alpha-racer-data/alpha_racer_multi_mpc_combined:v1712\n"
          ]
        },
        {
          "name": "stderr",
          "output_type": "stream",
          "text": [
            "\u001b[34m\u001b[1mwandb\u001b[0m:   1 of 1 files downloaded.  \n"
          ]
        },
        {
          "name": "stdout",
          "output_type": "stream",
          "text": [
            "Loaded 18 episodes from v1712\n",
            "Downloading artifact version: mahin-sank-iit-kgp/alpha-racer-data/alpha_racer_multi_mpc_combined:v1713\n"
          ]
        },
        {
          "name": "stderr",
          "output_type": "stream",
          "text": [
            "\u001b[34m\u001b[1mwandb\u001b[0m:   1 of 1 files downloaded.  \n"
          ]
        },
        {
          "name": "stdout",
          "output_type": "stream",
          "text": [
            "Loaded 7 episodes from v1713\n",
            "Downloading artifact version: mahin-sank-iit-kgp/alpha-racer-data/alpha_racer_multi_mpc_combined:v1714\n"
          ]
        },
        {
          "name": "stderr",
          "output_type": "stream",
          "text": [
            "\u001b[34m\u001b[1mwandb\u001b[0m:   1 of 1 files downloaded.  \n"
          ]
        },
        {
          "name": "stdout",
          "output_type": "stream",
          "text": [
            "Loaded 7 episodes from v1714\n",
            "Downloading artifact version: mahin-sank-iit-kgp/alpha-racer-data/alpha_racer_multi_mpc_combined:v1715\n"
          ]
        },
        {
          "name": "stderr",
          "output_type": "stream",
          "text": [
            "\u001b[34m\u001b[1mwandb\u001b[0m:   1 of 1 files downloaded.  \n"
          ]
        },
        {
          "name": "stdout",
          "output_type": "stream",
          "text": [
            "Loaded 7 episodes from v1715\n",
            "Downloading artifact version: mahin-sank-iit-kgp/alpha-racer-data/alpha_racer_multi_mpc_combined:v1716\n"
          ]
        },
        {
          "name": "stderr",
          "output_type": "stream",
          "text": [
            "\u001b[34m\u001b[1mwandb\u001b[0m:   1 of 1 files downloaded.  \n"
          ]
        },
        {
          "name": "stdout",
          "output_type": "stream",
          "text": [
            "Loaded 7 episodes from v1716\n",
            "Downloading artifact version: mahin-sank-iit-kgp/alpha-racer-data/alpha_racer_multi_mpc_combined:v1717\n"
          ]
        },
        {
          "name": "stderr",
          "output_type": "stream",
          "text": [
            "\u001b[34m\u001b[1mwandb\u001b[0m:   1 of 1 files downloaded.  \n"
          ]
        },
        {
          "name": "stdout",
          "output_type": "stream",
          "text": [
            "Loaded 18 episodes from v1717\n",
            "Downloading artifact version: mahin-sank-iit-kgp/alpha-racer-data/alpha_racer_multi_mpc_combined:v1718\n"
          ]
        },
        {
          "name": "stderr",
          "output_type": "stream",
          "text": [
            "\u001b[34m\u001b[1mwandb\u001b[0m:   1 of 1 files downloaded.  \n"
          ]
        },
        {
          "name": "stdout",
          "output_type": "stream",
          "text": [
            "Loaded 8 episodes from v1718\n",
            "Downloading artifact version: mahin-sank-iit-kgp/alpha-racer-data/alpha_racer_multi_mpc_combined:v1719\n"
          ]
        },
        {
          "name": "stderr",
          "output_type": "stream",
          "text": [
            "\u001b[34m\u001b[1mwandb\u001b[0m:   1 of 1 files downloaded.  \n"
          ]
        },
        {
          "name": "stdout",
          "output_type": "stream",
          "text": [
            "Loaded 8 episodes from v1719\n",
            "Downloading artifact version: mahin-sank-iit-kgp/alpha-racer-data/alpha_racer_multi_mpc_combined:v1720\n"
          ]
        },
        {
          "name": "stderr",
          "output_type": "stream",
          "text": [
            "\u001b[34m\u001b[1mwandb\u001b[0m:   1 of 1 files downloaded.  \n"
          ]
        },
        {
          "name": "stdout",
          "output_type": "stream",
          "text": [
            "Loaded 8 episodes from v1720\n",
            "Downloading artifact version: mahin-sank-iit-kgp/alpha-racer-data/alpha_racer_multi_mpc_combined:v1721\n"
          ]
        },
        {
          "name": "stderr",
          "output_type": "stream",
          "text": [
            "\u001b[34m\u001b[1mwandb\u001b[0m:   1 of 1 files downloaded.  \n"
          ]
        },
        {
          "name": "stdout",
          "output_type": "stream",
          "text": [
            "Loaded 9 episodes from v1721\n",
            "Downloading artifact version: mahin-sank-iit-kgp/alpha-racer-data/alpha_racer_multi_mpc_combined:v1722\n"
          ]
        },
        {
          "name": "stderr",
          "output_type": "stream",
          "text": [
            "\u001b[34m\u001b[1mwandb\u001b[0m:   1 of 1 files downloaded.  \n"
          ]
        },
        {
          "name": "stdout",
          "output_type": "stream",
          "text": [
            "Loaded 8 episodes from v1722\n",
            "Downloading artifact version: mahin-sank-iit-kgp/alpha-racer-data/alpha_racer_multi_mpc_combined:v1723\n"
          ]
        },
        {
          "name": "stderr",
          "output_type": "stream",
          "text": [
            "\u001b[34m\u001b[1mwandb\u001b[0m:   1 of 1 files downloaded.  \n"
          ]
        },
        {
          "name": "stdout",
          "output_type": "stream",
          "text": [
            "Loaded 8 episodes from v1723\n",
            "Downloading artifact version: mahin-sank-iit-kgp/alpha-racer-data/alpha_racer_multi_mpc_combined:v1724\n"
          ]
        },
        {
          "name": "stderr",
          "output_type": "stream",
          "text": [
            "\u001b[34m\u001b[1mwandb\u001b[0m:   1 of 1 files downloaded.  \n"
          ]
        },
        {
          "name": "stdout",
          "output_type": "stream",
          "text": [
            "Loaded 9 episodes from v1724\n",
            "Downloading artifact version: mahin-sank-iit-kgp/alpha-racer-data/alpha_racer_multi_mpc_combined:v1725\n"
          ]
        },
        {
          "name": "stderr",
          "output_type": "stream",
          "text": [
            "\u001b[34m\u001b[1mwandb\u001b[0m:   1 of 1 files downloaded.  \n"
          ]
        },
        {
          "name": "stdout",
          "output_type": "stream",
          "text": [
            "Loaded 9 episodes from v1725\n",
            "Downloading artifact version: mahin-sank-iit-kgp/alpha-racer-data/alpha_racer_multi_mpc_combined:v1726\n"
          ]
        },
        {
          "name": "stderr",
          "output_type": "stream",
          "text": [
            "\u001b[34m\u001b[1mwandb\u001b[0m:   1 of 1 files downloaded.  \n"
          ]
        },
        {
          "name": "stdout",
          "output_type": "stream",
          "text": [
            "Loaded 8 episodes from v1726\n",
            "Downloading artifact version: mahin-sank-iit-kgp/alpha-racer-data/alpha_racer_multi_mpc_combined:v1727\n"
          ]
        },
        {
          "name": "stderr",
          "output_type": "stream",
          "text": [
            "\u001b[34m\u001b[1mwandb\u001b[0m:   1 of 1 files downloaded.  \n"
          ]
        },
        {
          "name": "stdout",
          "output_type": "stream",
          "text": [
            "Loaded 8 episodes from v1727\n",
            "Downloading artifact version: mahin-sank-iit-kgp/alpha-racer-data/alpha_racer_multi_mpc_combined:v1728\n"
          ]
        },
        {
          "name": "stderr",
          "output_type": "stream",
          "text": [
            "\u001b[34m\u001b[1mwandb\u001b[0m:   1 of 1 files downloaded.  \n"
          ]
        },
        {
          "name": "stdout",
          "output_type": "stream",
          "text": [
            "Loaded 8 episodes from v1728\n",
            "Downloading artifact version: mahin-sank-iit-kgp/alpha-racer-data/alpha_racer_multi_mpc_combined:v1729\n"
          ]
        },
        {
          "name": "stderr",
          "output_type": "stream",
          "text": [
            "\u001b[34m\u001b[1mwandb\u001b[0m:   1 of 1 files downloaded.  \n"
          ]
        },
        {
          "name": "stdout",
          "output_type": "stream",
          "text": [
            "Loaded 9 episodes from v1729\n",
            "Downloading artifact version: mahin-sank-iit-kgp/alpha-racer-data/alpha_racer_multi_mpc_combined:v1730\n"
          ]
        },
        {
          "name": "stderr",
          "output_type": "stream",
          "text": [
            "\u001b[34m\u001b[1mwandb\u001b[0m:   1 of 1 files downloaded.  \n"
          ]
        },
        {
          "name": "stdout",
          "output_type": "stream",
          "text": [
            "Loaded 8 episodes from v1730\n",
            "Downloading artifact version: mahin-sank-iit-kgp/alpha-racer-data/alpha_racer_multi_mpc_combined:v1731\n"
          ]
        },
        {
          "name": "stderr",
          "output_type": "stream",
          "text": [
            "\u001b[34m\u001b[1mwandb\u001b[0m:   1 of 1 files downloaded.  \n"
          ]
        },
        {
          "name": "stdout",
          "output_type": "stream",
          "text": [
            "Loaded 8 episodes from v1731\n",
            "Downloading artifact version: mahin-sank-iit-kgp/alpha-racer-data/alpha_racer_multi_mpc_combined:v1732\n"
          ]
        },
        {
          "name": "stderr",
          "output_type": "stream",
          "text": [
            "\u001b[34m\u001b[1mwandb\u001b[0m:   1 of 1 files downloaded.  \n"
          ]
        },
        {
          "name": "stdout",
          "output_type": "stream",
          "text": [
            "Loaded 9 episodes from v1732\n",
            "Downloading artifact version: mahin-sank-iit-kgp/alpha-racer-data/alpha_racer_multi_mpc_combined:v1733\n"
          ]
        },
        {
          "name": "stderr",
          "output_type": "stream",
          "text": [
            "\u001b[34m\u001b[1mwandb\u001b[0m:   1 of 1 files downloaded.  \n"
          ]
        },
        {
          "name": "stdout",
          "output_type": "stream",
          "text": [
            "Loaded 9 episodes from v1733\n",
            "Downloading artifact version: mahin-sank-iit-kgp/alpha-racer-data/alpha_racer_multi_mpc_combined:v1734\n"
          ]
        },
        {
          "name": "stderr",
          "output_type": "stream",
          "text": [
            "\u001b[34m\u001b[1mwandb\u001b[0m:   1 of 1 files downloaded.  \n"
          ]
        },
        {
          "name": "stdout",
          "output_type": "stream",
          "text": [
            "Loaded 9 episodes from v1734\n",
            "Downloading artifact version: mahin-sank-iit-kgp/alpha-racer-data/alpha_racer_multi_mpc_combined:v1735\n"
          ]
        },
        {
          "name": "stderr",
          "output_type": "stream",
          "text": [
            "\u001b[34m\u001b[1mwandb\u001b[0m:   1 of 1 files downloaded.  \n"
          ]
        },
        {
          "name": "stdout",
          "output_type": "stream",
          "text": [
            "Loaded 9 episodes from v1735\n",
            "Downloading artifact version: mahin-sank-iit-kgp/alpha-racer-data/alpha_racer_multi_mpc_combined:v1736\n"
          ]
        },
        {
          "name": "stderr",
          "output_type": "stream",
          "text": [
            "\u001b[34m\u001b[1mwandb\u001b[0m:   1 of 1 files downloaded.  \n"
          ]
        },
        {
          "name": "stdout",
          "output_type": "stream",
          "text": [
            "Loaded 9 episodes from v1736\n",
            "Downloading artifact version: mahin-sank-iit-kgp/alpha-racer-data/alpha_racer_multi_mpc_combined:v1737\n"
          ]
        },
        {
          "name": "stderr",
          "output_type": "stream",
          "text": [
            "\u001b[34m\u001b[1mwandb\u001b[0m:   1 of 1 files downloaded.  \n"
          ]
        },
        {
          "name": "stdout",
          "output_type": "stream",
          "text": [
            "Loaded 9 episodes from v1737\n",
            "Downloading artifact version: mahin-sank-iit-kgp/alpha-racer-data/alpha_racer_multi_mpc_combined:v1738\n"
          ]
        },
        {
          "name": "stderr",
          "output_type": "stream",
          "text": [
            "\u001b[34m\u001b[1mwandb\u001b[0m:   1 of 1 files downloaded.  \n"
          ]
        },
        {
          "name": "stdout",
          "output_type": "stream",
          "text": [
            "Loaded 9 episodes from v1738\n",
            "Downloading artifact version: mahin-sank-iit-kgp/alpha-racer-data/alpha_racer_multi_mpc_combined:v1739\n"
          ]
        },
        {
          "name": "stderr",
          "output_type": "stream",
          "text": [
            "\u001b[34m\u001b[1mwandb\u001b[0m:   1 of 1 files downloaded.  \n"
          ]
        },
        {
          "name": "stdout",
          "output_type": "stream",
          "text": [
            "Loaded 9 episodes from v1739\n",
            "Downloading artifact version: mahin-sank-iit-kgp/alpha-racer-data/alpha_racer_multi_mpc_combined:v1740\n"
          ]
        },
        {
          "name": "stderr",
          "output_type": "stream",
          "text": [
            "\u001b[34m\u001b[1mwandb\u001b[0m:   1 of 1 files downloaded.  \n"
          ]
        },
        {
          "name": "stdout",
          "output_type": "stream",
          "text": [
            "Loaded 9 episodes from v1740\n",
            "Downloading artifact version: mahin-sank-iit-kgp/alpha-racer-data/alpha_racer_multi_mpc_combined:v1741\n"
          ]
        },
        {
          "name": "stderr",
          "output_type": "stream",
          "text": [
            "\u001b[34m\u001b[1mwandb\u001b[0m:   1 of 1 files downloaded.  \n"
          ]
        },
        {
          "name": "stdout",
          "output_type": "stream",
          "text": [
            "Loaded 9 episodes from v1741\n",
            "Downloading artifact version: mahin-sank-iit-kgp/alpha-racer-data/alpha_racer_multi_mpc_combined:v1742\n"
          ]
        },
        {
          "name": "stderr",
          "output_type": "stream",
          "text": [
            "\u001b[34m\u001b[1mwandb\u001b[0m:   1 of 1 files downloaded.  \n"
          ]
        },
        {
          "name": "stdout",
          "output_type": "stream",
          "text": [
            "Loaded 9 episodes from v1742\n",
            "Downloading artifact version: mahin-sank-iit-kgp/alpha-racer-data/alpha_racer_multi_mpc_combined:v1743\n"
          ]
        },
        {
          "name": "stderr",
          "output_type": "stream",
          "text": [
            "\u001b[34m\u001b[1mwandb\u001b[0m:   1 of 1 files downloaded.  \n"
          ]
        },
        {
          "name": "stdout",
          "output_type": "stream",
          "text": [
            "Loaded 9 episodes from v1743\n",
            "Downloading artifact version: mahin-sank-iit-kgp/alpha-racer-data/alpha_racer_multi_mpc_combined:v1744\n"
          ]
        },
        {
          "name": "stderr",
          "output_type": "stream",
          "text": [
            "\u001b[34m\u001b[1mwandb\u001b[0m:   1 of 1 files downloaded.  \n"
          ]
        },
        {
          "name": "stdout",
          "output_type": "stream",
          "text": [
            "Loaded 9 episodes from v1744\n",
            "Downloading artifact version: mahin-sank-iit-kgp/alpha-racer-data/alpha_racer_multi_mpc_combined:v1745\n"
          ]
        },
        {
          "name": "stderr",
          "output_type": "stream",
          "text": [
            "\u001b[34m\u001b[1mwandb\u001b[0m:   1 of 1 files downloaded.  \n"
          ]
        },
        {
          "name": "stdout",
          "output_type": "stream",
          "text": [
            "Loaded 9 episodes from v1745\n",
            "Downloading artifact version: mahin-sank-iit-kgp/alpha-racer-data/alpha_racer_multi_mpc_combined:v1746\n"
          ]
        },
        {
          "name": "stderr",
          "output_type": "stream",
          "text": [
            "\u001b[34m\u001b[1mwandb\u001b[0m:   1 of 1 files downloaded.  \n"
          ]
        },
        {
          "name": "stdout",
          "output_type": "stream",
          "text": [
            "Loaded 9 episodes from v1746\n",
            "Downloading artifact version: mahin-sank-iit-kgp/alpha-racer-data/alpha_racer_multi_mpc_combined:v1747\n"
          ]
        },
        {
          "name": "stderr",
          "output_type": "stream",
          "text": [
            "\u001b[34m\u001b[1mwandb\u001b[0m:   1 of 1 files downloaded.  \n"
          ]
        },
        {
          "name": "stdout",
          "output_type": "stream",
          "text": [
            "Loaded 9 episodes from v1747\n",
            "Downloading artifact version: mahin-sank-iit-kgp/alpha-racer-data/alpha_racer_multi_mpc_combined:v1748\n"
          ]
        },
        {
          "name": "stderr",
          "output_type": "stream",
          "text": [
            "\u001b[34m\u001b[1mwandb\u001b[0m:   1 of 1 files downloaded.  \n"
          ]
        },
        {
          "name": "stdout",
          "output_type": "stream",
          "text": [
            "Loaded 10 episodes from v1748\n",
            "Downloading artifact version: mahin-sank-iit-kgp/alpha-racer-data/alpha_racer_multi_mpc_combined:v1749\n"
          ]
        },
        {
          "name": "stderr",
          "output_type": "stream",
          "text": [
            "\u001b[34m\u001b[1mwandb\u001b[0m:   1 of 1 files downloaded.  \n"
          ]
        },
        {
          "name": "stdout",
          "output_type": "stream",
          "text": [
            "Loaded 10 episodes from v1749\n",
            "Downloading artifact version: mahin-sank-iit-kgp/alpha-racer-data/alpha_racer_multi_mpc_combined:v1750\n"
          ]
        },
        {
          "name": "stderr",
          "output_type": "stream",
          "text": [
            "\u001b[34m\u001b[1mwandb\u001b[0m:   1 of 1 files downloaded.  \n"
          ]
        },
        {
          "name": "stdout",
          "output_type": "stream",
          "text": [
            "Loaded 10 episodes from v1750\n",
            "Downloading artifact version: mahin-sank-iit-kgp/alpha-racer-data/alpha_racer_multi_mpc_combined:v1751\n"
          ]
        },
        {
          "name": "stderr",
          "output_type": "stream",
          "text": [
            "\u001b[34m\u001b[1mwandb\u001b[0m:   1 of 1 files downloaded.  \n"
          ]
        },
        {
          "name": "stdout",
          "output_type": "stream",
          "text": [
            "Loaded 10 episodes from v1751\n",
            "Downloading artifact version: mahin-sank-iit-kgp/alpha-racer-data/alpha_racer_multi_mpc_combined:v1752\n"
          ]
        },
        {
          "name": "stderr",
          "output_type": "stream",
          "text": [
            "\u001b[34m\u001b[1mwandb\u001b[0m:   1 of 1 files downloaded.  \n"
          ]
        },
        {
          "name": "stdout",
          "output_type": "stream",
          "text": [
            "Loaded 10 episodes from v1752\n",
            "Downloading artifact version: mahin-sank-iit-kgp/alpha-racer-data/alpha_racer_multi_mpc_combined:v1753\n"
          ]
        },
        {
          "name": "stderr",
          "output_type": "stream",
          "text": [
            "\u001b[34m\u001b[1mwandb\u001b[0m:   1 of 1 files downloaded.  \n"
          ]
        },
        {
          "name": "stdout",
          "output_type": "stream",
          "text": [
            "Loaded 10 episodes from v1753\n",
            "Downloading artifact version: mahin-sank-iit-kgp/alpha-racer-data/alpha_racer_multi_mpc_combined:v1754\n"
          ]
        },
        {
          "name": "stderr",
          "output_type": "stream",
          "text": [
            "\u001b[34m\u001b[1mwandb\u001b[0m:   1 of 1 files downloaded.  \n"
          ]
        },
        {
          "name": "stdout",
          "output_type": "stream",
          "text": [
            "Loaded 10 episodes from v1754\n",
            "Downloading artifact version: mahin-sank-iit-kgp/alpha-racer-data/alpha_racer_multi_mpc_combined:v1755\n"
          ]
        },
        {
          "name": "stderr",
          "output_type": "stream",
          "text": [
            "\u001b[34m\u001b[1mwandb\u001b[0m:   1 of 1 files downloaded.  \n"
          ]
        },
        {
          "name": "stdout",
          "output_type": "stream",
          "text": [
            "Loaded 10 episodes from v1755\n",
            "Downloading artifact version: mahin-sank-iit-kgp/alpha-racer-data/alpha_racer_multi_mpc_combined:v1756\n"
          ]
        },
        {
          "name": "stderr",
          "output_type": "stream",
          "text": [
            "\u001b[34m\u001b[1mwandb\u001b[0m:   1 of 1 files downloaded.  \n"
          ]
        },
        {
          "name": "stdout",
          "output_type": "stream",
          "text": [
            "Loaded 10 episodes from v1756\n",
            "Downloading artifact version: mahin-sank-iit-kgp/alpha-racer-data/alpha_racer_multi_mpc_combined:v1757\n"
          ]
        },
        {
          "name": "stderr",
          "output_type": "stream",
          "text": [
            "\u001b[34m\u001b[1mwandb\u001b[0m:   1 of 1 files downloaded.  \n"
          ]
        },
        {
          "name": "stdout",
          "output_type": "stream",
          "text": [
            "Loaded 10 episodes from v1757\n",
            "Downloading artifact version: mahin-sank-iit-kgp/alpha-racer-data/alpha_racer_multi_mpc_combined:v1758\n"
          ]
        },
        {
          "name": "stderr",
          "output_type": "stream",
          "text": [
            "\u001b[34m\u001b[1mwandb\u001b[0m:   1 of 1 files downloaded.  \n"
          ]
        },
        {
          "name": "stdout",
          "output_type": "stream",
          "text": [
            "Loaded 10 episodes from v1758\n",
            "Downloading artifact version: mahin-sank-iit-kgp/alpha-racer-data/alpha_racer_multi_mpc_combined:v1759\n"
          ]
        },
        {
          "name": "stderr",
          "output_type": "stream",
          "text": [
            "\u001b[34m\u001b[1mwandb\u001b[0m:   1 of 1 files downloaded.  \n"
          ]
        },
        {
          "name": "stdout",
          "output_type": "stream",
          "text": [
            "Loaded 10 episodes from v1759\n",
            "Downloading artifact version: mahin-sank-iit-kgp/alpha-racer-data/alpha_racer_multi_mpc_combined:v1760\n"
          ]
        },
        {
          "name": "stderr",
          "output_type": "stream",
          "text": [
            "\u001b[34m\u001b[1mwandb\u001b[0m:   1 of 1 files downloaded.  \n"
          ]
        },
        {
          "name": "stdout",
          "output_type": "stream",
          "text": [
            "Loaded 10 episodes from v1760\n",
            "Downloading artifact version: mahin-sank-iit-kgp/alpha-racer-data/alpha_racer_multi_mpc_combined:v1761\n"
          ]
        },
        {
          "name": "stderr",
          "output_type": "stream",
          "text": [
            "\u001b[34m\u001b[1mwandb\u001b[0m:   1 of 1 files downloaded.  \n"
          ]
        },
        {
          "name": "stdout",
          "output_type": "stream",
          "text": [
            "Loaded 10 episodes from v1761\n",
            "Downloading artifact version: mahin-sank-iit-kgp/alpha-racer-data/alpha_racer_multi_mpc_combined:v1762\n"
          ]
        },
        {
          "name": "stderr",
          "output_type": "stream",
          "text": [
            "\u001b[34m\u001b[1mwandb\u001b[0m:   1 of 1 files downloaded.  \n"
          ]
        },
        {
          "name": "stdout",
          "output_type": "stream",
          "text": [
            "Loaded 10 episodes from v1762\n",
            "Downloading artifact version: mahin-sank-iit-kgp/alpha-racer-data/alpha_racer_multi_mpc_combined:v1763\n"
          ]
        },
        {
          "name": "stderr",
          "output_type": "stream",
          "text": [
            "\u001b[34m\u001b[1mwandb\u001b[0m:   1 of 1 files downloaded.  \n"
          ]
        },
        {
          "name": "stdout",
          "output_type": "stream",
          "text": [
            "Loaded 10 episodes from v1763\n",
            "Downloading artifact version: mahin-sank-iit-kgp/alpha-racer-data/alpha_racer_multi_mpc_combined:v1764\n"
          ]
        },
        {
          "name": "stderr",
          "output_type": "stream",
          "text": [
            "\u001b[34m\u001b[1mwandb\u001b[0m:   1 of 1 files downloaded.  \n"
          ]
        },
        {
          "name": "stdout",
          "output_type": "stream",
          "text": [
            "Loaded 11 episodes from v1764\n",
            "Downloading artifact version: mahin-sank-iit-kgp/alpha-racer-data/alpha_racer_multi_mpc_combined:v1765\n"
          ]
        },
        {
          "name": "stderr",
          "output_type": "stream",
          "text": [
            "\u001b[34m\u001b[1mwandb\u001b[0m:   1 of 1 files downloaded.  \n"
          ]
        },
        {
          "name": "stdout",
          "output_type": "stream",
          "text": [
            "Loaded 11 episodes from v1765\n",
            "Downloading artifact version: mahin-sank-iit-kgp/alpha-racer-data/alpha_racer_multi_mpc_combined:v1766\n"
          ]
        },
        {
          "name": "stderr",
          "output_type": "stream",
          "text": [
            "\u001b[34m\u001b[1mwandb\u001b[0m:   1 of 1 files downloaded.  \n"
          ]
        },
        {
          "name": "stdout",
          "output_type": "stream",
          "text": [
            "Loaded 11 episodes from v1766\n",
            "Downloading artifact version: mahin-sank-iit-kgp/alpha-racer-data/alpha_racer_multi_mpc_combined:v1767\n"
          ]
        },
        {
          "name": "stderr",
          "output_type": "stream",
          "text": [
            "\u001b[34m\u001b[1mwandb\u001b[0m:   1 of 1 files downloaded.  \n"
          ]
        },
        {
          "name": "stdout",
          "output_type": "stream",
          "text": [
            "Loaded 11 episodes from v1767\n",
            "Downloading artifact version: mahin-sank-iit-kgp/alpha-racer-data/alpha_racer_multi_mpc_combined:v1768\n"
          ]
        },
        {
          "name": "stderr",
          "output_type": "stream",
          "text": [
            "\u001b[34m\u001b[1mwandb\u001b[0m:   1 of 1 files downloaded.  \n"
          ]
        },
        {
          "name": "stdout",
          "output_type": "stream",
          "text": [
            "Loaded 10 episodes from v1768\n",
            "Downloading artifact version: mahin-sank-iit-kgp/alpha-racer-data/alpha_racer_multi_mpc_combined:v1769\n"
          ]
        },
        {
          "name": "stderr",
          "output_type": "stream",
          "text": [
            "\u001b[34m\u001b[1mwandb\u001b[0m:   1 of 1 files downloaded.  \n"
          ]
        },
        {
          "name": "stdout",
          "output_type": "stream",
          "text": [
            "Loaded 10 episodes from v1769\n",
            "Downloading artifact version: mahin-sank-iit-kgp/alpha-racer-data/alpha_racer_multi_mpc_combined:v1770\n"
          ]
        },
        {
          "name": "stderr",
          "output_type": "stream",
          "text": [
            "\u001b[34m\u001b[1mwandb\u001b[0m:   1 of 1 files downloaded.  \n"
          ]
        },
        {
          "name": "stdout",
          "output_type": "stream",
          "text": [
            "Loaded 11 episodes from v1770\n",
            "Downloading artifact version: mahin-sank-iit-kgp/alpha-racer-data/alpha_racer_multi_mpc_combined:v1771\n"
          ]
        },
        {
          "name": "stderr",
          "output_type": "stream",
          "text": [
            "\u001b[34m\u001b[1mwandb\u001b[0m:   1 of 1 files downloaded.  \n"
          ]
        },
        {
          "name": "stdout",
          "output_type": "stream",
          "text": [
            "Loaded 11 episodes from v1771\n",
            "Downloading artifact version: mahin-sank-iit-kgp/alpha-racer-data/alpha_racer_multi_mpc_combined:v1772\n"
          ]
        },
        {
          "name": "stderr",
          "output_type": "stream",
          "text": [
            "\u001b[34m\u001b[1mwandb\u001b[0m:   1 of 1 files downloaded.  \n"
          ]
        },
        {
          "name": "stdout",
          "output_type": "stream",
          "text": [
            "Loaded 10 episodes from v1772\n",
            "Downloading artifact version: mahin-sank-iit-kgp/alpha-racer-data/alpha_racer_multi_mpc_combined:v1773\n"
          ]
        },
        {
          "name": "stderr",
          "output_type": "stream",
          "text": [
            "\u001b[34m\u001b[1mwandb\u001b[0m:   1 of 1 files downloaded.  \n"
          ]
        },
        {
          "name": "stdout",
          "output_type": "stream",
          "text": [
            "Loaded 11 episodes from v1773\n",
            "Downloading artifact version: mahin-sank-iit-kgp/alpha-racer-data/alpha_racer_multi_mpc_combined:v1774\n"
          ]
        },
        {
          "name": "stderr",
          "output_type": "stream",
          "text": [
            "\u001b[34m\u001b[1mwandb\u001b[0m:   1 of 1 files downloaded.  \n"
          ]
        },
        {
          "name": "stdout",
          "output_type": "stream",
          "text": [
            "Loaded 11 episodes from v1774\n",
            "Downloading artifact version: mahin-sank-iit-kgp/alpha-racer-data/alpha_racer_multi_mpc_combined:v1775\n"
          ]
        },
        {
          "name": "stderr",
          "output_type": "stream",
          "text": [
            "\u001b[34m\u001b[1mwandb\u001b[0m:   1 of 1 files downloaded.  \n"
          ]
        },
        {
          "name": "stdout",
          "output_type": "stream",
          "text": [
            "Loaded 11 episodes from v1775\n",
            "Downloading artifact version: mahin-sank-iit-kgp/alpha-racer-data/alpha_racer_multi_mpc_combined:v1776\n"
          ]
        },
        {
          "name": "stderr",
          "output_type": "stream",
          "text": [
            "\u001b[34m\u001b[1mwandb\u001b[0m:   1 of 1 files downloaded.  \n"
          ]
        },
        {
          "name": "stdout",
          "output_type": "stream",
          "text": [
            "Loaded 10 episodes from v1776\n",
            "Downloading artifact version: mahin-sank-iit-kgp/alpha-racer-data/alpha_racer_multi_mpc_combined:v1777\n"
          ]
        },
        {
          "name": "stderr",
          "output_type": "stream",
          "text": [
            "\u001b[34m\u001b[1mwandb\u001b[0m:   1 of 1 files downloaded.  \n"
          ]
        },
        {
          "name": "stdout",
          "output_type": "stream",
          "text": [
            "Loaded 11 episodes from v1777\n",
            "Downloading artifact version: mahin-sank-iit-kgp/alpha-racer-data/alpha_racer_multi_mpc_combined:v1778\n"
          ]
        },
        {
          "name": "stderr",
          "output_type": "stream",
          "text": [
            "\u001b[34m\u001b[1mwandb\u001b[0m:   1 of 1 files downloaded.  \n"
          ]
        },
        {
          "name": "stdout",
          "output_type": "stream",
          "text": [
            "Loaded 12 episodes from v1778\n",
            "Downloading artifact version: mahin-sank-iit-kgp/alpha-racer-data/alpha_racer_multi_mpc_combined:v1779\n"
          ]
        },
        {
          "name": "stderr",
          "output_type": "stream",
          "text": [
            "\u001b[34m\u001b[1mwandb\u001b[0m:   1 of 1 files downloaded.  \n"
          ]
        },
        {
          "name": "stdout",
          "output_type": "stream",
          "text": [
            "Loaded 12 episodes from v1779\n",
            "Downloading artifact version: mahin-sank-iit-kgp/alpha-racer-data/alpha_racer_multi_mpc_combined:v1780\n"
          ]
        },
        {
          "name": "stderr",
          "output_type": "stream",
          "text": [
            "\u001b[34m\u001b[1mwandb\u001b[0m:   1 of 1 files downloaded.  \n"
          ]
        },
        {
          "name": "stdout",
          "output_type": "stream",
          "text": [
            "Loaded 12 episodes from v1780\n",
            "Downloading artifact version: mahin-sank-iit-kgp/alpha-racer-data/alpha_racer_multi_mpc_combined:v1781\n"
          ]
        },
        {
          "name": "stderr",
          "output_type": "stream",
          "text": [
            "\u001b[34m\u001b[1mwandb\u001b[0m:   1 of 1 files downloaded.  \n"
          ]
        },
        {
          "name": "stdout",
          "output_type": "stream",
          "text": [
            "Loaded 12 episodes from v1781\n",
            "Downloading artifact version: mahin-sank-iit-kgp/alpha-racer-data/alpha_racer_multi_mpc_combined:v1782\n"
          ]
        },
        {
          "name": "stderr",
          "output_type": "stream",
          "text": [
            "\u001b[34m\u001b[1mwandb\u001b[0m:   1 of 1 files downloaded.  \n"
          ]
        },
        {
          "name": "stdout",
          "output_type": "stream",
          "text": [
            "Loaded 11 episodes from v1782\n",
            "Downloading artifact version: mahin-sank-iit-kgp/alpha-racer-data/alpha_racer_multi_mpc_combined:v1783\n"
          ]
        },
        {
          "name": "stderr",
          "output_type": "stream",
          "text": [
            "\u001b[34m\u001b[1mwandb\u001b[0m:   1 of 1 files downloaded.  \n"
          ]
        },
        {
          "name": "stdout",
          "output_type": "stream",
          "text": [
            "Loaded 12 episodes from v1783\n",
            "Downloading artifact version: mahin-sank-iit-kgp/alpha-racer-data/alpha_racer_multi_mpc_combined:v1784\n"
          ]
        },
        {
          "name": "stderr",
          "output_type": "stream",
          "text": [
            "\u001b[34m\u001b[1mwandb\u001b[0m:   1 of 1 files downloaded.  \n"
          ]
        },
        {
          "name": "stdout",
          "output_type": "stream",
          "text": [
            "Loaded 11 episodes from v1784\n",
            "Downloading artifact version: mahin-sank-iit-kgp/alpha-racer-data/alpha_racer_multi_mpc_combined:v1785\n"
          ]
        },
        {
          "name": "stderr",
          "output_type": "stream",
          "text": [
            "\u001b[34m\u001b[1mwandb\u001b[0m:   1 of 1 files downloaded.  \n"
          ]
        },
        {
          "name": "stdout",
          "output_type": "stream",
          "text": [
            "Loaded 12 episodes from v1785\n",
            "Downloading artifact version: mahin-sank-iit-kgp/alpha-racer-data/alpha_racer_multi_mpc_combined:v1786\n"
          ]
        },
        {
          "name": "stderr",
          "output_type": "stream",
          "text": [
            "\u001b[34m\u001b[1mwandb\u001b[0m:   1 of 1 files downloaded.  \n"
          ]
        },
        {
          "name": "stdout",
          "output_type": "stream",
          "text": [
            "Loaded 12 episodes from v1786\n",
            "Downloading artifact version: mahin-sank-iit-kgp/alpha-racer-data/alpha_racer_multi_mpc_combined:v1787\n"
          ]
        },
        {
          "name": "stderr",
          "output_type": "stream",
          "text": [
            "\u001b[34m\u001b[1mwandb\u001b[0m:   1 of 1 files downloaded.  \n"
          ]
        },
        {
          "name": "stdout",
          "output_type": "stream",
          "text": [
            "Loaded 12 episodes from v1787\n",
            "Downloading artifact version: mahin-sank-iit-kgp/alpha-racer-data/alpha_racer_multi_mpc_combined:v1788\n"
          ]
        },
        {
          "name": "stderr",
          "output_type": "stream",
          "text": [
            "\u001b[34m\u001b[1mwandb\u001b[0m:   1 of 1 files downloaded.  \n"
          ]
        },
        {
          "name": "stdout",
          "output_type": "stream",
          "text": [
            "Loaded 12 episodes from v1788\n",
            "Downloading artifact version: mahin-sank-iit-kgp/alpha-racer-data/alpha_racer_multi_mpc_combined:v1789\n"
          ]
        },
        {
          "name": "stderr",
          "output_type": "stream",
          "text": [
            "\u001b[34m\u001b[1mwandb\u001b[0m:   1 of 1 files downloaded.  \n"
          ]
        },
        {
          "name": "stdout",
          "output_type": "stream",
          "text": [
            "Loaded 11 episodes from v1789\n",
            "Downloading artifact version: mahin-sank-iit-kgp/alpha-racer-data/alpha_racer_multi_mpc_combined:v1790\n"
          ]
        },
        {
          "name": "stderr",
          "output_type": "stream",
          "text": [
            "\u001b[34m\u001b[1mwandb\u001b[0m:   1 of 1 files downloaded.  \n"
          ]
        },
        {
          "name": "stdout",
          "output_type": "stream",
          "text": [
            "Loaded 12 episodes from v1790\n",
            "Downloading artifact version: mahin-sank-iit-kgp/alpha-racer-data/alpha_racer_multi_mpc_combined:v1791\n"
          ]
        },
        {
          "name": "stderr",
          "output_type": "stream",
          "text": [
            "\u001b[34m\u001b[1mwandb\u001b[0m:   1 of 1 files downloaded.  \n"
          ]
        },
        {
          "name": "stdout",
          "output_type": "stream",
          "text": [
            "Loaded 11 episodes from v1791\n",
            "Downloading artifact version: mahin-sank-iit-kgp/alpha-racer-data/alpha_racer_multi_mpc_combined:v1792\n"
          ]
        },
        {
          "name": "stderr",
          "output_type": "stream",
          "text": [
            "\u001b[34m\u001b[1mwandb\u001b[0m:   1 of 1 files downloaded.  \n"
          ]
        },
        {
          "name": "stdout",
          "output_type": "stream",
          "text": [
            "Loaded 11 episodes from v1792\n",
            "Downloading artifact version: mahin-sank-iit-kgp/alpha-racer-data/alpha_racer_multi_mpc_combined:v1793\n"
          ]
        },
        {
          "name": "stderr",
          "output_type": "stream",
          "text": [
            "\u001b[34m\u001b[1mwandb\u001b[0m:   1 of 1 files downloaded.  \n"
          ]
        },
        {
          "name": "stdout",
          "output_type": "stream",
          "text": [
            "Loaded 13 episodes from v1793\n",
            "Downloading artifact version: mahin-sank-iit-kgp/alpha-racer-data/alpha_racer_multi_mpc_combined:v1794\n"
          ]
        },
        {
          "name": "stderr",
          "output_type": "stream",
          "text": [
            "\u001b[34m\u001b[1mwandb\u001b[0m:   1 of 1 files downloaded.  \n"
          ]
        },
        {
          "name": "stdout",
          "output_type": "stream",
          "text": [
            "Loaded 13 episodes from v1794\n",
            "Downloading artifact version: mahin-sank-iit-kgp/alpha-racer-data/alpha_racer_multi_mpc_combined:v1795\n"
          ]
        },
        {
          "name": "stderr",
          "output_type": "stream",
          "text": [
            "\u001b[34m\u001b[1mwandb\u001b[0m:   1 of 1 files downloaded.  \n"
          ]
        },
        {
          "name": "stdout",
          "output_type": "stream",
          "text": [
            "Loaded 11 episodes from v1795\n",
            "Downloading artifact version: mahin-sank-iit-kgp/alpha-racer-data/alpha_racer_multi_mpc_combined:v1796\n"
          ]
        },
        {
          "name": "stderr",
          "output_type": "stream",
          "text": [
            "\u001b[34m\u001b[1mwandb\u001b[0m:   1 of 1 files downloaded.  \n"
          ]
        },
        {
          "name": "stdout",
          "output_type": "stream",
          "text": [
            "Loaded 13 episodes from v1796\n",
            "Downloading artifact version: mahin-sank-iit-kgp/alpha-racer-data/alpha_racer_multi_mpc_combined:v1797\n"
          ]
        },
        {
          "name": "stderr",
          "output_type": "stream",
          "text": [
            "\u001b[34m\u001b[1mwandb\u001b[0m:   1 of 1 files downloaded.  \n"
          ]
        },
        {
          "name": "stdout",
          "output_type": "stream",
          "text": [
            "Loaded 13 episodes from v1797\n",
            "Downloading artifact version: mahin-sank-iit-kgp/alpha-racer-data/alpha_racer_multi_mpc_combined:v1798\n"
          ]
        },
        {
          "name": "stderr",
          "output_type": "stream",
          "text": [
            "\u001b[34m\u001b[1mwandb\u001b[0m:   1 of 1 files downloaded.  \n"
          ]
        },
        {
          "name": "stdout",
          "output_type": "stream",
          "text": [
            "Loaded 11 episodes from v1798\n",
            "Downloading artifact version: mahin-sank-iit-kgp/alpha-racer-data/alpha_racer_multi_mpc_combined:v1799\n"
          ]
        },
        {
          "name": "stderr",
          "output_type": "stream",
          "text": [
            "\u001b[34m\u001b[1mwandb\u001b[0m:   1 of 1 files downloaded.  \n"
          ]
        },
        {
          "name": "stdout",
          "output_type": "stream",
          "text": [
            "Loaded 11 episodes from v1799\n",
            "Downloading artifact version: mahin-sank-iit-kgp/alpha-racer-data/alpha_racer_multi_mpc_combined:v1800\n"
          ]
        },
        {
          "name": "stderr",
          "output_type": "stream",
          "text": [
            "\u001b[34m\u001b[1mwandb\u001b[0m:   1 of 1 files downloaded.  \n"
          ]
        },
        {
          "name": "stdout",
          "output_type": "stream",
          "text": [
            "Loaded 13 episodes from v1800\n",
            "Downloading artifact version: mahin-sank-iit-kgp/alpha-racer-data/alpha_racer_multi_mpc_combined:v1801\n"
          ]
        },
        {
          "name": "stderr",
          "output_type": "stream",
          "text": [
            "\u001b[34m\u001b[1mwandb\u001b[0m:   1 of 1 files downloaded.  \n"
          ]
        },
        {
          "name": "stdout",
          "output_type": "stream",
          "text": [
            "Loaded 13 episodes from v1801\n",
            "Downloading artifact version: mahin-sank-iit-kgp/alpha-racer-data/alpha_racer_multi_mpc_combined:v1802\n"
          ]
        },
        {
          "name": "stderr",
          "output_type": "stream",
          "text": [
            "\u001b[34m\u001b[1mwandb\u001b[0m:   1 of 1 files downloaded.  \n"
          ]
        },
        {
          "name": "stdout",
          "output_type": "stream",
          "text": [
            "Loaded 13 episodes from v1802\n",
            "Downloading artifact version: mahin-sank-iit-kgp/alpha-racer-data/alpha_racer_multi_mpc_combined:v1803\n"
          ]
        },
        {
          "name": "stderr",
          "output_type": "stream",
          "text": [
            "\u001b[34m\u001b[1mwandb\u001b[0m:   1 of 1 files downloaded.  \n"
          ]
        },
        {
          "name": "stdout",
          "output_type": "stream",
          "text": [
            "Loaded 13 episodes from v1803\n",
            "Downloading artifact version: mahin-sank-iit-kgp/alpha-racer-data/alpha_racer_multi_mpc_combined:v1804\n"
          ]
        },
        {
          "name": "stderr",
          "output_type": "stream",
          "text": [
            "\u001b[34m\u001b[1mwandb\u001b[0m:   1 of 1 files downloaded.  \n"
          ]
        },
        {
          "name": "stdout",
          "output_type": "stream",
          "text": [
            "Loaded 13 episodes from v1804\n",
            "Downloading artifact version: mahin-sank-iit-kgp/alpha-racer-data/alpha_racer_multi_mpc_combined:v1805\n"
          ]
        },
        {
          "name": "stderr",
          "output_type": "stream",
          "text": [
            "\u001b[34m\u001b[1mwandb\u001b[0m:   1 of 1 files downloaded.  \n"
          ]
        },
        {
          "name": "stdout",
          "output_type": "stream",
          "text": [
            "Loaded 11 episodes from v1805\n",
            "Downloading artifact version: mahin-sank-iit-kgp/alpha-racer-data/alpha_racer_multi_mpc_combined:v1806\n"
          ]
        },
        {
          "name": "stderr",
          "output_type": "stream",
          "text": [
            "\u001b[34m\u001b[1mwandb\u001b[0m:   1 of 1 files downloaded.  \n"
          ]
        },
        {
          "name": "stdout",
          "output_type": "stream",
          "text": [
            "Loaded 11 episodes from v1806\n",
            "Downloading artifact version: mahin-sank-iit-kgp/alpha-racer-data/alpha_racer_multi_mpc_combined:v1807\n"
          ]
        },
        {
          "name": "stderr",
          "output_type": "stream",
          "text": [
            "\u001b[34m\u001b[1mwandb\u001b[0m:   1 of 1 files downloaded.  \n"
          ]
        },
        {
          "name": "stdout",
          "output_type": "stream",
          "text": [
            "Loaded 13 episodes from v1807\n",
            "Downloading artifact version: mahin-sank-iit-kgp/alpha-racer-data/alpha_racer_multi_mpc_combined:v1808\n"
          ]
        },
        {
          "name": "stderr",
          "output_type": "stream",
          "text": [
            "\u001b[34m\u001b[1mwandb\u001b[0m:   1 of 1 files downloaded.  \n"
          ]
        },
        {
          "name": "stdout",
          "output_type": "stream",
          "text": [
            "Loaded 14 episodes from v1808\n",
            "Downloading artifact version: mahin-sank-iit-kgp/alpha-racer-data/alpha_racer_multi_mpc_combined:v1809\n"
          ]
        },
        {
          "name": "stderr",
          "output_type": "stream",
          "text": [
            "\u001b[34m\u001b[1mwandb\u001b[0m:   1 of 1 files downloaded.  \n"
          ]
        },
        {
          "name": "stdout",
          "output_type": "stream",
          "text": [
            "Loaded 14 episodes from v1809\n",
            "Downloading artifact version: mahin-sank-iit-kgp/alpha-racer-data/alpha_racer_multi_mpc_combined:v1810\n"
          ]
        },
        {
          "name": "stderr",
          "output_type": "stream",
          "text": [
            "\u001b[34m\u001b[1mwandb\u001b[0m:   1 of 1 files downloaded.  \n"
          ]
        },
        {
          "name": "stdout",
          "output_type": "stream",
          "text": [
            "Loaded 14 episodes from v1810\n",
            "Downloading artifact version: mahin-sank-iit-kgp/alpha-racer-data/alpha_racer_multi_mpc_combined:v1811\n"
          ]
        },
        {
          "name": "stderr",
          "output_type": "stream",
          "text": [
            "\u001b[34m\u001b[1mwandb\u001b[0m:   1 of 1 files downloaded.  \n"
          ]
        },
        {
          "name": "stdout",
          "output_type": "stream",
          "text": [
            "Loaded 14 episodes from v1811\n",
            "Downloading artifact version: mahin-sank-iit-kgp/alpha-racer-data/alpha_racer_multi_mpc_combined:v1812\n"
          ]
        },
        {
          "name": "stderr",
          "output_type": "stream",
          "text": [
            "\u001b[34m\u001b[1mwandb\u001b[0m:   1 of 1 files downloaded.  \n"
          ]
        },
        {
          "name": "stdout",
          "output_type": "stream",
          "text": [
            "Loaded 14 episodes from v1812\n",
            "Downloading artifact version: mahin-sank-iit-kgp/alpha-racer-data/alpha_racer_multi_mpc_combined:v1813\n"
          ]
        },
        {
          "name": "stderr",
          "output_type": "stream",
          "text": [
            "\u001b[34m\u001b[1mwandb\u001b[0m:   1 of 1 files downloaded.  \n"
          ]
        },
        {
          "name": "stdout",
          "output_type": "stream",
          "text": [
            "Loaded 12 episodes from v1813\n",
            "Downloading artifact version: mahin-sank-iit-kgp/alpha-racer-data/alpha_racer_multi_mpc_combined:v1814\n"
          ]
        },
        {
          "name": "stderr",
          "output_type": "stream",
          "text": [
            "\u001b[34m\u001b[1mwandb\u001b[0m:   1 of 1 files downloaded.  \n"
          ]
        },
        {
          "name": "stdout",
          "output_type": "stream",
          "text": [
            "Loaded 12 episodes from v1814\n",
            "Downloading artifact version: mahin-sank-iit-kgp/alpha-racer-data/alpha_racer_multi_mpc_combined:v1815\n"
          ]
        },
        {
          "name": "stderr",
          "output_type": "stream",
          "text": [
            "\u001b[34m\u001b[1mwandb\u001b[0m:   1 of 1 files downloaded.  \n"
          ]
        },
        {
          "name": "stdout",
          "output_type": "stream",
          "text": [
            "Loaded 14 episodes from v1815\n",
            "Downloading artifact version: mahin-sank-iit-kgp/alpha-racer-data/alpha_racer_multi_mpc_combined:v1816\n"
          ]
        },
        {
          "name": "stderr",
          "output_type": "stream",
          "text": [
            "\u001b[34m\u001b[1mwandb\u001b[0m:   1 of 1 files downloaded.  \n"
          ]
        },
        {
          "name": "stdout",
          "output_type": "stream",
          "text": [
            "Loaded 14 episodes from v1816\n",
            "Downloading artifact version: mahin-sank-iit-kgp/alpha-racer-data/alpha_racer_multi_mpc_combined:v1817\n"
          ]
        },
        {
          "name": "stderr",
          "output_type": "stream",
          "text": [
            "\u001b[34m\u001b[1mwandb\u001b[0m:   1 of 1 files downloaded.  \n"
          ]
        },
        {
          "name": "stdout",
          "output_type": "stream",
          "text": [
            "Loaded 14 episodes from v1817\n",
            "Downloading artifact version: mahin-sank-iit-kgp/alpha-racer-data/alpha_racer_multi_mpc_combined:v1818\n"
          ]
        },
        {
          "name": "stderr",
          "output_type": "stream",
          "text": [
            "\u001b[34m\u001b[1mwandb\u001b[0m:   1 of 1 files downloaded.  \n"
          ]
        },
        {
          "name": "stdout",
          "output_type": "stream",
          "text": [
            "Loaded 14 episodes from v1818\n",
            "Downloading artifact version: mahin-sank-iit-kgp/alpha-racer-data/alpha_racer_multi_mpc_combined:v1819\n"
          ]
        },
        {
          "name": "stderr",
          "output_type": "stream",
          "text": [
            "\u001b[34m\u001b[1mwandb\u001b[0m:   1 of 1 files downloaded.  \n"
          ]
        },
        {
          "name": "stdout",
          "output_type": "stream",
          "text": [
            "Loaded 14 episodes from v1819\n",
            "Downloading artifact version: mahin-sank-iit-kgp/alpha-racer-data/alpha_racer_multi_mpc_combined:v1820\n"
          ]
        },
        {
          "name": "stderr",
          "output_type": "stream",
          "text": [
            "\u001b[34m\u001b[1mwandb\u001b[0m:   1 of 1 files downloaded.  \n"
          ]
        },
        {
          "name": "stdout",
          "output_type": "stream",
          "text": [
            "Loaded 12 episodes from v1820\n",
            "Downloading artifact version: mahin-sank-iit-kgp/alpha-racer-data/alpha_racer_multi_mpc_combined:v1821\n"
          ]
        },
        {
          "name": "stderr",
          "output_type": "stream",
          "text": [
            "\u001b[34m\u001b[1mwandb\u001b[0m:   1 of 1 files downloaded.  \n"
          ]
        },
        {
          "name": "stdout",
          "output_type": "stream",
          "text": [
            "Loaded 15 episodes from v1821\n",
            "Downloading artifact version: mahin-sank-iit-kgp/alpha-racer-data/alpha_racer_multi_mpc_combined:v1822\n"
          ]
        },
        {
          "name": "stderr",
          "output_type": "stream",
          "text": [
            "\u001b[34m\u001b[1mwandb\u001b[0m:   1 of 1 files downloaded.  \n"
          ]
        },
        {
          "name": "stdout",
          "output_type": "stream",
          "text": [
            "Loaded 15 episodes from v1822\n",
            "Downloading artifact version: mahin-sank-iit-kgp/alpha-racer-data/alpha_racer_multi_mpc_combined:v1823\n"
          ]
        },
        {
          "name": "stderr",
          "output_type": "stream",
          "text": [
            "\u001b[34m\u001b[1mwandb\u001b[0m:   1 of 1 files downloaded.  \n"
          ]
        },
        {
          "name": "stdout",
          "output_type": "stream",
          "text": [
            "Loaded 15 episodes from v1823\n",
            "Downloading artifact version: mahin-sank-iit-kgp/alpha-racer-data/alpha_racer_multi_mpc_combined:v1824\n"
          ]
        },
        {
          "name": "stderr",
          "output_type": "stream",
          "text": [
            "\u001b[34m\u001b[1mwandb\u001b[0m:   1 of 1 files downloaded.  \n"
          ]
        },
        {
          "name": "stdout",
          "output_type": "stream",
          "text": [
            "Loaded 15 episodes from v1824\n",
            "Downloading artifact version: mahin-sank-iit-kgp/alpha-racer-data/alpha_racer_multi_mpc_combined:v1825\n"
          ]
        },
        {
          "name": "stderr",
          "output_type": "stream",
          "text": [
            "\u001b[34m\u001b[1mwandb\u001b[0m:   1 of 1 files downloaded.  \n"
          ]
        },
        {
          "name": "stdout",
          "output_type": "stream",
          "text": [
            "Loaded 12 episodes from v1825\n",
            "Downloading artifact version: mahin-sank-iit-kgp/alpha-racer-data/alpha_racer_multi_mpc_combined:v1826\n"
          ]
        },
        {
          "name": "stderr",
          "output_type": "stream",
          "text": [
            "\u001b[34m\u001b[1mwandb\u001b[0m:   1 of 1 files downloaded.  \n"
          ]
        },
        {
          "name": "stdout",
          "output_type": "stream",
          "text": [
            "Loaded 12 episodes from v1826\n",
            "Downloading artifact version: mahin-sank-iit-kgp/alpha-racer-data/alpha_racer_multi_mpc_combined:v1827\n"
          ]
        },
        {
          "name": "stderr",
          "output_type": "stream",
          "text": [
            "\u001b[34m\u001b[1mwandb\u001b[0m:   1 of 1 files downloaded.  \n"
          ]
        },
        {
          "name": "stdout",
          "output_type": "stream",
          "text": [
            "Loaded 12 episodes from v1827\n",
            "Downloading artifact version: mahin-sank-iit-kgp/alpha-racer-data/alpha_racer_multi_mpc_combined:v1828\n"
          ]
        },
        {
          "name": "stderr",
          "output_type": "stream",
          "text": [
            "\u001b[34m\u001b[1mwandb\u001b[0m:   1 of 1 files downloaded.  \n"
          ]
        },
        {
          "name": "stdout",
          "output_type": "stream",
          "text": [
            "Loaded 15 episodes from v1828\n",
            "Downloading artifact version: mahin-sank-iit-kgp/alpha-racer-data/alpha_racer_multi_mpc_combined:v1829\n"
          ]
        },
        {
          "name": "stderr",
          "output_type": "stream",
          "text": [
            "\u001b[34m\u001b[1mwandb\u001b[0m:   1 of 1 files downloaded.  \n"
          ]
        },
        {
          "name": "stdout",
          "output_type": "stream",
          "text": [
            "Loaded 12 episodes from v1829\n",
            "Downloading artifact version: mahin-sank-iit-kgp/alpha-racer-data/alpha_racer_multi_mpc_combined:v1830\n"
          ]
        },
        {
          "name": "stderr",
          "output_type": "stream",
          "text": [
            "\u001b[34m\u001b[1mwandb\u001b[0m:   1 of 1 files downloaded.  \n"
          ]
        },
        {
          "name": "stdout",
          "output_type": "stream",
          "text": [
            "Loaded 12 episodes from v1830\n",
            "Downloading artifact version: mahin-sank-iit-kgp/alpha-racer-data/alpha_racer_multi_mpc_combined:v1831\n"
          ]
        },
        {
          "name": "stderr",
          "output_type": "stream",
          "text": [
            "\u001b[34m\u001b[1mwandb\u001b[0m:   1 of 1 files downloaded.  \n"
          ]
        },
        {
          "name": "stdout",
          "output_type": "stream",
          "text": [
            "Loaded 15 episodes from v1831\n",
            "Downloading artifact version: mahin-sank-iit-kgp/alpha-racer-data/alpha_racer_multi_mpc_combined:v1832\n"
          ]
        },
        {
          "name": "stderr",
          "output_type": "stream",
          "text": [
            "\u001b[34m\u001b[1mwandb\u001b[0m:   1 of 1 files downloaded.  \n"
          ]
        },
        {
          "name": "stdout",
          "output_type": "stream",
          "text": [
            "Loaded 15 episodes from v1832\n",
            "Downloading artifact version: mahin-sank-iit-kgp/alpha-racer-data/alpha_racer_multi_mpc_combined:v1833\n"
          ]
        },
        {
          "name": "stderr",
          "output_type": "stream",
          "text": [
            "\u001b[34m\u001b[1mwandb\u001b[0m:   1 of 1 files downloaded.  \n"
          ]
        },
        {
          "name": "stdout",
          "output_type": "stream",
          "text": [
            "Loaded 15 episodes from v1833\n",
            "Downloading artifact version: mahin-sank-iit-kgp/alpha-racer-data/alpha_racer_multi_mpc_combined:v1834\n"
          ]
        },
        {
          "name": "stderr",
          "output_type": "stream",
          "text": [
            "\u001b[34m\u001b[1mwandb\u001b[0m:   1 of 1 files downloaded.  \n"
          ]
        },
        {
          "name": "stdout",
          "output_type": "stream",
          "text": [
            "Loaded 15 episodes from v1834\n",
            "Downloading artifact version: mahin-sank-iit-kgp/alpha-racer-data/alpha_racer_multi_mpc_combined:v1835\n"
          ]
        },
        {
          "name": "stderr",
          "output_type": "stream",
          "text": [
            "\u001b[34m\u001b[1mwandb\u001b[0m:   1 of 1 files downloaded.  \n"
          ]
        },
        {
          "name": "stdout",
          "output_type": "stream",
          "text": [
            "Loaded 12 episodes from v1835\n",
            "Downloading artifact version: mahin-sank-iit-kgp/alpha-racer-data/alpha_racer_multi_mpc_combined:v1836\n"
          ]
        },
        {
          "name": "stderr",
          "output_type": "stream",
          "text": [
            "\u001b[34m\u001b[1mwandb\u001b[0m:   1 of 1 files downloaded.  \n"
          ]
        },
        {
          "name": "stdout",
          "output_type": "stream",
          "text": [
            "Loaded 15 episodes from v1836\n",
            "Downloading artifact version: mahin-sank-iit-kgp/alpha-racer-data/alpha_racer_multi_mpc_combined:v1837\n"
          ]
        },
        {
          "name": "stderr",
          "output_type": "stream",
          "text": [
            "\u001b[34m\u001b[1mwandb\u001b[0m:   1 of 1 files downloaded.  \n"
          ]
        },
        {
          "name": "stdout",
          "output_type": "stream",
          "text": [
            "Loaded 12 episodes from v1837\n",
            "Downloading artifact version: mahin-sank-iit-kgp/alpha-racer-data/alpha_racer_multi_mpc_combined:v1838\n"
          ]
        },
        {
          "name": "stderr",
          "output_type": "stream",
          "text": [
            "\u001b[34m\u001b[1mwandb\u001b[0m:   1 of 1 files downloaded.  \n"
          ]
        },
        {
          "name": "stdout",
          "output_type": "stream",
          "text": [
            "Loaded 16 episodes from v1838\n",
            "Downloading artifact version: mahin-sank-iit-kgp/alpha-racer-data/alpha_racer_multi_mpc_combined:v1839\n"
          ]
        },
        {
          "name": "stderr",
          "output_type": "stream",
          "text": [
            "\u001b[34m\u001b[1mwandb\u001b[0m:   1 of 1 files downloaded.  \n"
          ]
        },
        {
          "name": "stdout",
          "output_type": "stream",
          "text": [
            "Loaded 16 episodes from v1839\n",
            "Downloading artifact version: mahin-sank-iit-kgp/alpha-racer-data/alpha_racer_multi_mpc_combined:v1840\n"
          ]
        },
        {
          "name": "stderr",
          "output_type": "stream",
          "text": [
            "\u001b[34m\u001b[1mwandb\u001b[0m:   1 of 1 files downloaded.  \n"
          ]
        },
        {
          "name": "stdout",
          "output_type": "stream",
          "text": [
            "Loaded 16 episodes from v1840\n",
            "Downloading artifact version: mahin-sank-iit-kgp/alpha-racer-data/alpha_racer_multi_mpc_combined:v1841\n"
          ]
        },
        {
          "name": "stderr",
          "output_type": "stream",
          "text": [
            "\u001b[34m\u001b[1mwandb\u001b[0m:   1 of 1 files downloaded.  \n"
          ]
        },
        {
          "name": "stdout",
          "output_type": "stream",
          "text": [
            "Loaded 16 episodes from v1841\n",
            "Downloading artifact version: mahin-sank-iit-kgp/alpha-racer-data/alpha_racer_multi_mpc_combined:v1842\n"
          ]
        },
        {
          "name": "stderr",
          "output_type": "stream",
          "text": [
            "\u001b[34m\u001b[1mwandb\u001b[0m:   1 of 1 files downloaded.  \n"
          ]
        },
        {
          "name": "stdout",
          "output_type": "stream",
          "text": [
            "Loaded 16 episodes from v1842\n",
            "Downloading artifact version: mahin-sank-iit-kgp/alpha-racer-data/alpha_racer_multi_mpc_combined:v1843\n"
          ]
        },
        {
          "name": "stderr",
          "output_type": "stream",
          "text": [
            "\u001b[34m\u001b[1mwandb\u001b[0m:   1 of 1 files downloaded.  \n"
          ]
        },
        {
          "name": "stdout",
          "output_type": "stream",
          "text": [
            "Loaded 16 episodes from v1843\n",
            "Downloading artifact version: mahin-sank-iit-kgp/alpha-racer-data/alpha_racer_multi_mpc_combined:v1844\n"
          ]
        },
        {
          "name": "stderr",
          "output_type": "stream",
          "text": [
            "\u001b[34m\u001b[1mwandb\u001b[0m:   1 of 1 files downloaded.  \n"
          ]
        },
        {
          "name": "stdout",
          "output_type": "stream",
          "text": [
            "Loaded 13 episodes from v1844\n",
            "Downloading artifact version: mahin-sank-iit-kgp/alpha-racer-data/alpha_racer_multi_mpc_combined:v1845\n"
          ]
        },
        {
          "name": "stderr",
          "output_type": "stream",
          "text": [
            "\u001b[34m\u001b[1mwandb\u001b[0m:   1 of 1 files downloaded.  \n"
          ]
        },
        {
          "name": "stdout",
          "output_type": "stream",
          "text": [
            "Loaded 16 episodes from v1845\n",
            "Downloading artifact version: mahin-sank-iit-kgp/alpha-racer-data/alpha_racer_multi_mpc_combined:v1846\n"
          ]
        },
        {
          "name": "stderr",
          "output_type": "stream",
          "text": [
            "\u001b[34m\u001b[1mwandb\u001b[0m:   1 of 1 files downloaded.  \n"
          ]
        },
        {
          "name": "stdout",
          "output_type": "stream",
          "text": [
            "Loaded 16 episodes from v1846\n",
            "Downloading artifact version: mahin-sank-iit-kgp/alpha-racer-data/alpha_racer_multi_mpc_combined:v1847\n"
          ]
        },
        {
          "name": "stderr",
          "output_type": "stream",
          "text": [
            "\u001b[34m\u001b[1mwandb\u001b[0m:   1 of 1 files downloaded.  \n"
          ]
        },
        {
          "name": "stdout",
          "output_type": "stream",
          "text": [
            "Loaded 16 episodes from v1847\n",
            "Downloading artifact version: mahin-sank-iit-kgp/alpha-racer-data/alpha_racer_multi_mpc_combined:v1848\n"
          ]
        },
        {
          "name": "stderr",
          "output_type": "stream",
          "text": [
            "\u001b[34m\u001b[1mwandb\u001b[0m:   1 of 1 files downloaded.  \n"
          ]
        },
        {
          "name": "stdout",
          "output_type": "stream",
          "text": [
            "Loaded 13 episodes from v1848\n",
            "Downloading artifact version: mahin-sank-iit-kgp/alpha-racer-data/alpha_racer_multi_mpc_combined:v1849\n"
          ]
        },
        {
          "name": "stderr",
          "output_type": "stream",
          "text": [
            "\u001b[34m\u001b[1mwandb\u001b[0m:   1 of 1 files downloaded.  \n"
          ]
        },
        {
          "name": "stdout",
          "output_type": "stream",
          "text": [
            "Loaded 16 episodes from v1849\n",
            "Downloading artifact version: mahin-sank-iit-kgp/alpha-racer-data/alpha_racer_multi_mpc_combined:v1850\n"
          ]
        },
        {
          "name": "stderr",
          "output_type": "stream",
          "text": [
            "\u001b[34m\u001b[1mwandb\u001b[0m:   1 of 1 files downloaded.  \n"
          ]
        },
        {
          "name": "stdout",
          "output_type": "stream",
          "text": [
            "Loaded 13 episodes from v1850\n",
            "Downloading artifact version: mahin-sank-iit-kgp/alpha-racer-data/alpha_racer_multi_mpc_combined:v1851\n"
          ]
        },
        {
          "name": "stderr",
          "output_type": "stream",
          "text": [
            "\u001b[34m\u001b[1mwandb\u001b[0m:   1 of 1 files downloaded.  \n"
          ]
        },
        {
          "name": "stdout",
          "output_type": "stream",
          "text": [
            "Loaded 17 episodes from v1851\n",
            "Downloading artifact version: mahin-sank-iit-kgp/alpha-racer-data/alpha_racer_multi_mpc_combined:v1852\n"
          ]
        },
        {
          "name": "stderr",
          "output_type": "stream",
          "text": [
            "\u001b[34m\u001b[1mwandb\u001b[0m:   1 of 1 files downloaded.  \n"
          ]
        },
        {
          "name": "stdout",
          "output_type": "stream",
          "text": [
            "Loaded 17 episodes from v1852\n",
            "Downloading artifact version: mahin-sank-iit-kgp/alpha-racer-data/alpha_racer_multi_mpc_combined:v1853\n"
          ]
        },
        {
          "name": "stderr",
          "output_type": "stream",
          "text": [
            "\u001b[34m\u001b[1mwandb\u001b[0m:   1 of 1 files downloaded.  \n"
          ]
        },
        {
          "name": "stdout",
          "output_type": "stream",
          "text": [
            "Loaded 17 episodes from v1853\n",
            "Downloading artifact version: mahin-sank-iit-kgp/alpha-racer-data/alpha_racer_multi_mpc_combined:v1854\n"
          ]
        },
        {
          "name": "stderr",
          "output_type": "stream",
          "text": [
            "\u001b[34m\u001b[1mwandb\u001b[0m:   1 of 1 files downloaded.  \n"
          ]
        },
        {
          "name": "stdout",
          "output_type": "stream",
          "text": [
            "Loaded 17 episodes from v1854\n",
            "Downloading artifact version: mahin-sank-iit-kgp/alpha-racer-data/alpha_racer_multi_mpc_combined:v1855\n"
          ]
        },
        {
          "name": "stderr",
          "output_type": "stream",
          "text": [
            "\u001b[34m\u001b[1mwandb\u001b[0m:   1 of 1 files downloaded.  \n"
          ]
        },
        {
          "name": "stdout",
          "output_type": "stream",
          "text": [
            "Loaded 2 episodes from v1855\n",
            "Downloading artifact version: mahin-sank-iit-kgp/alpha-racer-data/alpha_racer_multi_mpc_combined:v1856\n"
          ]
        },
        {
          "name": "stderr",
          "output_type": "stream",
          "text": [
            "\u001b[34m\u001b[1mwandb\u001b[0m:   1 of 1 files downloaded.  \n"
          ]
        },
        {
          "name": "stdout",
          "output_type": "stream",
          "text": [
            "Loaded 2 episodes from v1856\n",
            "Downloading artifact version: mahin-sank-iit-kgp/alpha-racer-data/alpha_racer_multi_mpc_combined:v1857\n"
          ]
        },
        {
          "name": "stderr",
          "output_type": "stream",
          "text": [
            "\u001b[34m\u001b[1mwandb\u001b[0m:   1 of 1 files downloaded.  \n"
          ]
        },
        {
          "name": "stdout",
          "output_type": "stream",
          "text": [
            "Loaded 13 episodes from v1857\n",
            "Downloading artifact version: mahin-sank-iit-kgp/alpha-racer-data/alpha_racer_multi_mpc_combined:v1858\n"
          ]
        },
        {
          "name": "stderr",
          "output_type": "stream",
          "text": [
            "\u001b[34m\u001b[1mwandb\u001b[0m:   1 of 1 files downloaded.  \n"
          ]
        },
        {
          "name": "stdout",
          "output_type": "stream",
          "text": [
            "Loaded 13 episodes from v1858\n",
            "Downloading artifact version: mahin-sank-iit-kgp/alpha-racer-data/alpha_racer_multi_mpc_combined:v1859\n"
          ]
        },
        {
          "name": "stderr",
          "output_type": "stream",
          "text": [
            "\u001b[34m\u001b[1mwandb\u001b[0m:   1 of 1 files downloaded.  \n"
          ]
        },
        {
          "name": "stdout",
          "output_type": "stream",
          "text": [
            "Loaded 2 episodes from v1859\n",
            "Downloading artifact version: mahin-sank-iit-kgp/alpha-racer-data/alpha_racer_multi_mpc_combined:v1860\n"
          ]
        },
        {
          "name": "stderr",
          "output_type": "stream",
          "text": [
            "\u001b[34m\u001b[1mwandb\u001b[0m:   1 of 1 files downloaded.  \n"
          ]
        },
        {
          "name": "stdout",
          "output_type": "stream",
          "text": [
            "Loaded 17 episodes from v1860\n",
            "Downloading artifact version: mahin-sank-iit-kgp/alpha-racer-data/alpha_racer_multi_mpc_combined:v1861\n"
          ]
        },
        {
          "name": "stderr",
          "output_type": "stream",
          "text": [
            "\u001b[34m\u001b[1mwandb\u001b[0m:   1 of 1 files downloaded.  \n"
          ]
        },
        {
          "name": "stdout",
          "output_type": "stream",
          "text": [
            "Loaded 13 episodes from v1861\n",
            "Downloading artifact version: mahin-sank-iit-kgp/alpha-racer-data/alpha_racer_multi_mpc_combined:v1862\n"
          ]
        },
        {
          "name": "stderr",
          "output_type": "stream",
          "text": [
            "\u001b[34m\u001b[1mwandb\u001b[0m:   1 of 1 files downloaded.  \n"
          ]
        },
        {
          "name": "stdout",
          "output_type": "stream",
          "text": [
            "Loaded 17 episodes from v1862\n",
            "Downloading artifact version: mahin-sank-iit-kgp/alpha-racer-data/alpha_racer_multi_mpc_combined:v1863\n"
          ]
        },
        {
          "name": "stderr",
          "output_type": "stream",
          "text": [
            "\u001b[34m\u001b[1mwandb\u001b[0m:   1 of 1 files downloaded.  \n"
          ]
        },
        {
          "name": "stdout",
          "output_type": "stream",
          "text": [
            "Loaded 13 episodes from v1863\n",
            "Downloading artifact version: mahin-sank-iit-kgp/alpha-racer-data/alpha_racer_multi_mpc_combined:v1864\n"
          ]
        },
        {
          "name": "stderr",
          "output_type": "stream",
          "text": [
            "\u001b[34m\u001b[1mwandb\u001b[0m:   1 of 1 files downloaded.  \n"
          ]
        },
        {
          "name": "stdout",
          "output_type": "stream",
          "text": [
            "Loaded 17 episodes from v1864\n",
            "Downloading artifact version: mahin-sank-iit-kgp/alpha-racer-data/alpha_racer_multi_mpc_combined:v1865\n"
          ]
        },
        {
          "name": "stderr",
          "output_type": "stream",
          "text": [
            "\u001b[34m\u001b[1mwandb\u001b[0m:   1 of 1 files downloaded.  \n"
          ]
        },
        {
          "name": "stdout",
          "output_type": "stream",
          "text": [
            "Loaded 17 episodes from v1865\n",
            "Downloading artifact version: mahin-sank-iit-kgp/alpha-racer-data/alpha_racer_multi_mpc_combined:v1866\n"
          ]
        },
        {
          "name": "stderr",
          "output_type": "stream",
          "text": [
            "\u001b[34m\u001b[1mwandb\u001b[0m:   1 of 1 files downloaded.  \n"
          ]
        },
        {
          "name": "stdout",
          "output_type": "stream",
          "text": [
            "Loaded 17 episodes from v1866\n",
            "Downloading artifact version: mahin-sank-iit-kgp/alpha-racer-data/alpha_racer_multi_mpc_combined:v1867\n"
          ]
        },
        {
          "name": "stderr",
          "output_type": "stream",
          "text": [
            "\u001b[34m\u001b[1mwandb\u001b[0m:   1 of 1 files downloaded.  \n"
          ]
        },
        {
          "name": "stdout",
          "output_type": "stream",
          "text": [
            "Loaded 17 episodes from v1867\n",
            "Downloading artifact version: mahin-sank-iit-kgp/alpha-racer-data/alpha_racer_multi_mpc_combined:v1868\n"
          ]
        },
        {
          "name": "stderr",
          "output_type": "stream",
          "text": [
            "\u001b[34m\u001b[1mwandb\u001b[0m:   1 of 1 files downloaded.  \n"
          ]
        },
        {
          "name": "stdout",
          "output_type": "stream",
          "text": [
            "Loaded 13 episodes from v1868\n",
            "Downloading artifact version: mahin-sank-iit-kgp/alpha-racer-data/alpha_racer_multi_mpc_combined:v1869\n"
          ]
        },
        {
          "name": "stderr",
          "output_type": "stream",
          "text": [
            "\u001b[34m\u001b[1mwandb\u001b[0m:   1 of 1 files downloaded.  \n"
          ]
        },
        {
          "name": "stdout",
          "output_type": "stream",
          "text": [
            "Loaded 13 episodes from v1869\n",
            "Downloading artifact version: mahin-sank-iit-kgp/alpha-racer-data/alpha_racer_multi_mpc_combined:v1870\n"
          ]
        },
        {
          "name": "stderr",
          "output_type": "stream",
          "text": [
            "\u001b[34m\u001b[1mwandb\u001b[0m:   1 of 1 files downloaded.  \n"
          ]
        },
        {
          "name": "stdout",
          "output_type": "stream",
          "text": [
            "Loaded 2 episodes from v1870\n",
            "Downloading artifact version: mahin-sank-iit-kgp/alpha-racer-data/alpha_racer_multi_mpc_combined:v1871\n"
          ]
        },
        {
          "name": "stderr",
          "output_type": "stream",
          "text": [
            "\u001b[34m\u001b[1mwandb\u001b[0m:   1 of 1 files downloaded.  \n"
          ]
        },
        {
          "name": "stdout",
          "output_type": "stream",
          "text": [
            "Loaded 13 episodes from v1871\n",
            "Downloading artifact version: mahin-sank-iit-kgp/alpha-racer-data/alpha_racer_multi_mpc_combined:v1872\n"
          ]
        },
        {
          "name": "stderr",
          "output_type": "stream",
          "text": [
            "\u001b[34m\u001b[1mwandb\u001b[0m:   1 of 1 files downloaded.  \n"
          ]
        },
        {
          "name": "stdout",
          "output_type": "stream",
          "text": [
            "Loaded 2 episodes from v1872\n",
            "Downloading artifact version: mahin-sank-iit-kgp/alpha-racer-data/alpha_racer_multi_mpc_combined:v1873\n"
          ]
        },
        {
          "name": "stderr",
          "output_type": "stream",
          "text": [
            "\u001b[34m\u001b[1mwandb\u001b[0m:   1 of 1 files downloaded.  \n"
          ]
        },
        {
          "name": "stdout",
          "output_type": "stream",
          "text": [
            "Loaded 18 episodes from v1873\n",
            "Downloading artifact version: mahin-sank-iit-kgp/alpha-racer-data/alpha_racer_multi_mpc_combined:v1874\n"
          ]
        },
        {
          "name": "stderr",
          "output_type": "stream",
          "text": [
            "\u001b[34m\u001b[1mwandb\u001b[0m:   1 of 1 files downloaded.  \n"
          ]
        },
        {
          "name": "stdout",
          "output_type": "stream",
          "text": [
            "Loaded 18 episodes from v1874\n",
            "Downloading artifact version: mahin-sank-iit-kgp/alpha-racer-data/alpha_racer_multi_mpc_combined:v1875\n"
          ]
        },
        {
          "name": "stderr",
          "output_type": "stream",
          "text": [
            "\u001b[34m\u001b[1mwandb\u001b[0m:   1 of 1 files downloaded.  \n"
          ]
        },
        {
          "name": "stdout",
          "output_type": "stream",
          "text": [
            "Loaded 18 episodes from v1875\n",
            "Downloading artifact version: mahin-sank-iit-kgp/alpha-racer-data/alpha_racer_multi_mpc_combined:v1876\n"
          ]
        },
        {
          "name": "stderr",
          "output_type": "stream",
          "text": [
            "\u001b[34m\u001b[1mwandb\u001b[0m:   1 of 1 files downloaded.  \n"
          ]
        },
        {
          "name": "stdout",
          "output_type": "stream",
          "text": [
            "Loaded 2 episodes from v1876\n",
            "Downloading artifact version: mahin-sank-iit-kgp/alpha-racer-data/alpha_racer_multi_mpc_combined:v1877\n"
          ]
        },
        {
          "name": "stderr",
          "output_type": "stream",
          "text": [
            "\u001b[34m\u001b[1mwandb\u001b[0m:   1 of 1 files downloaded.  \n"
          ]
        },
        {
          "name": "stdout",
          "output_type": "stream",
          "text": [
            "Loaded 18 episodes from v1877\n",
            "Downloading artifact version: mahin-sank-iit-kgp/alpha-racer-data/alpha_racer_multi_mpc_combined:v1878\n"
          ]
        },
        {
          "name": "stderr",
          "output_type": "stream",
          "text": [
            "\u001b[34m\u001b[1mwandb\u001b[0m:   1 of 1 files downloaded.  \n"
          ]
        },
        {
          "name": "stdout",
          "output_type": "stream",
          "text": [
            "Loaded 18 episodes from v1878\n",
            "Downloading artifact version: mahin-sank-iit-kgp/alpha-racer-data/alpha_racer_multi_mpc_combined:v1879\n"
          ]
        },
        {
          "name": "stderr",
          "output_type": "stream",
          "text": [
            "\u001b[34m\u001b[1mwandb\u001b[0m:   1 of 1 files downloaded.  \n"
          ]
        },
        {
          "name": "stdout",
          "output_type": "stream",
          "text": [
            "Loaded 2 episodes from v1879\n",
            "Downloading artifact version: mahin-sank-iit-kgp/alpha-racer-data/alpha_racer_multi_mpc_combined:v1880\n"
          ]
        },
        {
          "name": "stderr",
          "output_type": "stream",
          "text": [
            "\u001b[34m\u001b[1mwandb\u001b[0m:   1 of 1 files downloaded.  \n"
          ]
        },
        {
          "name": "stdout",
          "output_type": "stream",
          "text": [
            "Loaded 2 episodes from v1880\n",
            "Downloading artifact version: mahin-sank-iit-kgp/alpha-racer-data/alpha_racer_multi_mpc_combined:v1881\n"
          ]
        },
        {
          "name": "stderr",
          "output_type": "stream",
          "text": [
            "\u001b[34m\u001b[1mwandb\u001b[0m:   1 of 1 files downloaded.  \n"
          ]
        },
        {
          "name": "stdout",
          "output_type": "stream",
          "text": [
            "Loaded 18 episodes from v1881\n",
            "Downloading artifact version: mahin-sank-iit-kgp/alpha-racer-data/alpha_racer_multi_mpc_combined:v1882\n"
          ]
        },
        {
          "name": "stderr",
          "output_type": "stream",
          "text": [
            "\u001b[34m\u001b[1mwandb\u001b[0m:   1 of 1 files downloaded.  \n"
          ]
        },
        {
          "name": "stdout",
          "output_type": "stream",
          "text": [
            "Loaded 2 episodes from v1882\n",
            "Downloading artifact version: mahin-sank-iit-kgp/alpha-racer-data/alpha_racer_multi_mpc_combined:v1883\n"
          ]
        },
        {
          "name": "stderr",
          "output_type": "stream",
          "text": [
            "\u001b[34m\u001b[1mwandb\u001b[0m:   1 of 1 files downloaded.  \n"
          ]
        },
        {
          "name": "stdout",
          "output_type": "stream",
          "text": [
            "Loaded 18 episodes from v1883\n",
            "Downloading artifact version: mahin-sank-iit-kgp/alpha-racer-data/alpha_racer_multi_mpc_combined:v1884\n"
          ]
        },
        {
          "name": "stderr",
          "output_type": "stream",
          "text": [
            "\u001b[34m\u001b[1mwandb\u001b[0m:   1 of 1 files downloaded.  \n"
          ]
        },
        {
          "name": "stdout",
          "output_type": "stream",
          "text": [
            "Loaded 14 episodes from v1884\n",
            "Downloading artifact version: mahin-sank-iit-kgp/alpha-racer-data/alpha_racer_multi_mpc_combined:v1885\n"
          ]
        },
        {
          "name": "stderr",
          "output_type": "stream",
          "text": [
            "\u001b[34m\u001b[1mwandb\u001b[0m:   1 of 1 files downloaded.  \n"
          ]
        },
        {
          "name": "stdout",
          "output_type": "stream",
          "text": [
            "Loaded 18 episodes from v1885\n",
            "Downloading artifact version: mahin-sank-iit-kgp/alpha-racer-data/alpha_racer_multi_mpc_combined:v1886\n"
          ]
        },
        {
          "name": "stderr",
          "output_type": "stream",
          "text": [
            "\u001b[34m\u001b[1mwandb\u001b[0m:   1 of 1 files downloaded.  \n"
          ]
        },
        {
          "name": "stdout",
          "output_type": "stream",
          "text": [
            "Loaded 18 episodes from v1886\n",
            "Downloading artifact version: mahin-sank-iit-kgp/alpha-racer-data/alpha_racer_multi_mpc_combined:v1887\n"
          ]
        },
        {
          "name": "stderr",
          "output_type": "stream",
          "text": [
            "\u001b[34m\u001b[1mwandb\u001b[0m:   1 of 1 files downloaded.  \n"
          ]
        },
        {
          "name": "stdout",
          "output_type": "stream",
          "text": [
            "Loaded 14 episodes from v1887\n",
            "Downloading artifact version: mahin-sank-iit-kgp/alpha-racer-data/alpha_racer_multi_mpc_combined:v1888\n"
          ]
        },
        {
          "name": "stderr",
          "output_type": "stream",
          "text": [
            "\u001b[34m\u001b[1mwandb\u001b[0m:   1 of 1 files downloaded.  \n"
          ]
        },
        {
          "name": "stdout",
          "output_type": "stream",
          "text": [
            "Loaded 2 episodes from v1888\n",
            "Downloading artifact version: mahin-sank-iit-kgp/alpha-racer-data/alpha_racer_multi_mpc_combined:v1889\n"
          ]
        },
        {
          "name": "stderr",
          "output_type": "stream",
          "text": [
            "\u001b[34m\u001b[1mwandb\u001b[0m:   1 of 1 files downloaded.  \n"
          ]
        },
        {
          "name": "stdout",
          "output_type": "stream",
          "text": [
            "Loaded 18 episodes from v1889\n",
            "Downloading artifact version: mahin-sank-iit-kgp/alpha-racer-data/alpha_racer_multi_mpc_combined:v1890\n"
          ]
        },
        {
          "name": "stderr",
          "output_type": "stream",
          "text": [
            "\u001b[34m\u001b[1mwandb\u001b[0m:   1 of 1 files downloaded.  \n"
          ]
        },
        {
          "name": "stdout",
          "output_type": "stream",
          "text": [
            "Loaded 14 episodes from v1890\n",
            "Downloading artifact version: mahin-sank-iit-kgp/alpha-racer-data/alpha_racer_multi_mpc_combined:v1891\n"
          ]
        },
        {
          "name": "stderr",
          "output_type": "stream",
          "text": [
            "\u001b[34m\u001b[1mwandb\u001b[0m:   1 of 1 files downloaded.  \n"
          ]
        },
        {
          "name": "stdout",
          "output_type": "stream",
          "text": [
            "Loaded 19 episodes from v1891\n",
            "Downloading artifact version: mahin-sank-iit-kgp/alpha-racer-data/alpha_racer_multi_mpc_combined:v1892\n"
          ]
        },
        {
          "name": "stderr",
          "output_type": "stream",
          "text": [
            "\u001b[34m\u001b[1mwandb\u001b[0m:   1 of 1 files downloaded.  \n"
          ]
        },
        {
          "name": "stdout",
          "output_type": "stream",
          "text": [
            "Loaded 19 episodes from v1892\n",
            "Downloading artifact version: mahin-sank-iit-kgp/alpha-racer-data/alpha_racer_multi_mpc_combined:v1893\n"
          ]
        },
        {
          "name": "stderr",
          "output_type": "stream",
          "text": [
            "\u001b[34m\u001b[1mwandb\u001b[0m:   1 of 1 files downloaded.  \n"
          ]
        },
        {
          "name": "stdout",
          "output_type": "stream",
          "text": [
            "Loaded 19 episodes from v1893\n",
            "Downloading artifact version: mahin-sank-iit-kgp/alpha-racer-data/alpha_racer_multi_mpc_combined:v1894\n"
          ]
        },
        {
          "name": "stderr",
          "output_type": "stream",
          "text": [
            "\u001b[34m\u001b[1mwandb\u001b[0m:   1 of 1 files downloaded.  \n"
          ]
        },
        {
          "name": "stdout",
          "output_type": "stream",
          "text": [
            "Loaded 14 episodes from v1894\n",
            "Downloading artifact version: mahin-sank-iit-kgp/alpha-racer-data/alpha_racer_multi_mpc_combined:v1895\n"
          ]
        },
        {
          "name": "stderr",
          "output_type": "stream",
          "text": [
            "\u001b[34m\u001b[1mwandb\u001b[0m:   1 of 1 files downloaded.  \n"
          ]
        },
        {
          "name": "stdout",
          "output_type": "stream",
          "text": [
            "Loaded 19 episodes from v1895\n",
            "Downloading artifact version: mahin-sank-iit-kgp/alpha-racer-data/alpha_racer_multi_mpc_combined:v1896\n"
          ]
        },
        {
          "name": "stderr",
          "output_type": "stream",
          "text": [
            "\u001b[34m\u001b[1mwandb\u001b[0m:   1 of 1 files downloaded.  \n"
          ]
        },
        {
          "name": "stdout",
          "output_type": "stream",
          "text": [
            "Loaded 19 episodes from v1896\n",
            "Downloading artifact version: mahin-sank-iit-kgp/alpha-racer-data/alpha_racer_multi_mpc_combined:v1897\n"
          ]
        },
        {
          "name": "stderr",
          "output_type": "stream",
          "text": [
            "\u001b[34m\u001b[1mwandb\u001b[0m:   1 of 1 files downloaded.  \n"
          ]
        },
        {
          "name": "stdout",
          "output_type": "stream",
          "text": [
            "Loaded 14 episodes from v1897\n",
            "Downloading artifact version: mahin-sank-iit-kgp/alpha-racer-data/alpha_racer_multi_mpc_combined:v1898\n"
          ]
        },
        {
          "name": "stderr",
          "output_type": "stream",
          "text": [
            "\u001b[34m\u001b[1mwandb\u001b[0m:   1 of 1 files downloaded.  \n"
          ]
        },
        {
          "name": "stdout",
          "output_type": "stream",
          "text": [
            "Loaded 14 episodes from v1898\n",
            "Downloading artifact version: mahin-sank-iit-kgp/alpha-racer-data/alpha_racer_multi_mpc_combined:v1899\n"
          ]
        },
        {
          "name": "stderr",
          "output_type": "stream",
          "text": [
            "\u001b[34m\u001b[1mwandb\u001b[0m:   1 of 1 files downloaded.  \n"
          ]
        },
        {
          "name": "stdout",
          "output_type": "stream",
          "text": [
            "Loaded 19 episodes from v1899\n",
            "Downloading artifact version: mahin-sank-iit-kgp/alpha-racer-data/alpha_racer_multi_mpc_combined:v1900\n"
          ]
        },
        {
          "name": "stderr",
          "output_type": "stream",
          "text": [
            "\u001b[34m\u001b[1mwandb\u001b[0m:   1 of 1 files downloaded.  \n"
          ]
        },
        {
          "name": "stdout",
          "output_type": "stream",
          "text": [
            "Loaded 14 episodes from v1900\n",
            "Downloading artifact version: mahin-sank-iit-kgp/alpha-racer-data/alpha_racer_multi_mpc_combined:v1901\n"
          ]
        },
        {
          "name": "stderr",
          "output_type": "stream",
          "text": [
            "\u001b[34m\u001b[1mwandb\u001b[0m:   1 of 1 files downloaded.  \n"
          ]
        },
        {
          "name": "stdout",
          "output_type": "stream",
          "text": [
            "Loaded 19 episodes from v1901\n",
            "Downloading artifact version: mahin-sank-iit-kgp/alpha-racer-data/alpha_racer_multi_mpc_combined:v1902\n"
          ]
        },
        {
          "name": "stderr",
          "output_type": "stream",
          "text": [
            "\u001b[34m\u001b[1mwandb\u001b[0m:   1 of 1 files downloaded.  \n"
          ]
        },
        {
          "name": "stdout",
          "output_type": "stream",
          "text": [
            "Loaded 19 episodes from v1902\n",
            "Downloading artifact version: mahin-sank-iit-kgp/alpha-racer-data/alpha_racer_multi_mpc_combined:v1903\n"
          ]
        },
        {
          "name": "stderr",
          "output_type": "stream",
          "text": [
            "\u001b[34m\u001b[1mwandb\u001b[0m:   1 of 1 files downloaded.  \n"
          ]
        },
        {
          "name": "stdout",
          "output_type": "stream",
          "text": [
            "Loaded 19 episodes from v1903\n",
            "Downloading artifact version: mahin-sank-iit-kgp/alpha-racer-data/alpha_racer_multi_mpc_combined:v1904\n"
          ]
        },
        {
          "name": "stderr",
          "output_type": "stream",
          "text": [
            "\u001b[34m\u001b[1mwandb\u001b[0m:   1 of 1 files downloaded.  \n"
          ]
        },
        {
          "name": "stdout",
          "output_type": "stream",
          "text": [
            "Loaded 19 episodes from v1904\n",
            "Downloading artifact version: mahin-sank-iit-kgp/alpha-racer-data/alpha_racer_multi_mpc_combined:v1905\n"
          ]
        },
        {
          "name": "stderr",
          "output_type": "stream",
          "text": [
            "\u001b[34m\u001b[1mwandb\u001b[0m:   1 of 1 files downloaded.  \n"
          ]
        },
        {
          "name": "stdout",
          "output_type": "stream",
          "text": [
            "Loaded 14 episodes from v1905\n",
            "Downloading artifact version: mahin-sank-iit-kgp/alpha-racer-data/alpha_racer_multi_mpc_combined:v1906\n"
          ]
        },
        {
          "name": "stderr",
          "output_type": "stream",
          "text": [
            "\u001b[34m\u001b[1mwandb\u001b[0m:   1 of 1 files downloaded.  \n"
          ]
        },
        {
          "name": "stdout",
          "output_type": "stream",
          "text": [
            "Loaded 14 episodes from v1906\n",
            "Downloading artifact version: mahin-sank-iit-kgp/alpha-racer-data/alpha_racer_multi_mpc_combined:v1907\n"
          ]
        },
        {
          "name": "stderr",
          "output_type": "stream",
          "text": [
            "\u001b[34m\u001b[1mwandb\u001b[0m:   1 of 1 files downloaded.  \n"
          ]
        },
        {
          "name": "stdout",
          "output_type": "stream",
          "text": [
            "Loaded 20 episodes from v1907\n",
            "Downloading artifact version: mahin-sank-iit-kgp/alpha-racer-data/alpha_racer_multi_mpc_combined:v1908\n"
          ]
        },
        {
          "name": "stderr",
          "output_type": "stream",
          "text": [
            "\u001b[34m\u001b[1mwandb\u001b[0m:   1 of 1 files downloaded.  \n"
          ]
        },
        {
          "name": "stdout",
          "output_type": "stream",
          "text": [
            "Loaded 14 episodes from v1908\n",
            "Downloading artifact version: mahin-sank-iit-kgp/alpha-racer-data/alpha_racer_multi_mpc_combined:v1909\n"
          ]
        },
        {
          "name": "stderr",
          "output_type": "stream",
          "text": [
            "\u001b[34m\u001b[1mwandb\u001b[0m:   1 of 1 files downloaded.  \n"
          ]
        },
        {
          "name": "stdout",
          "output_type": "stream",
          "text": [
            "Loaded 20 episodes from v1909\n",
            "Downloading artifact version: mahin-sank-iit-kgp/alpha-racer-data/alpha_racer_multi_mpc_combined:v1910\n"
          ]
        },
        {
          "name": "stderr",
          "output_type": "stream",
          "text": [
            "\u001b[34m\u001b[1mwandb\u001b[0m:   1 of 1 files downloaded.  \n"
          ]
        },
        {
          "name": "stdout",
          "output_type": "stream",
          "text": [
            "Loaded 20 episodes from v1910\n",
            "Downloading artifact version: mahin-sank-iit-kgp/alpha-racer-data/alpha_racer_multi_mpc_combined:v1911\n"
          ]
        },
        {
          "name": "stderr",
          "output_type": "stream",
          "text": [
            "\u001b[34m\u001b[1mwandb\u001b[0m:   1 of 1 files downloaded.  \n"
          ]
        },
        {
          "name": "stdout",
          "output_type": "stream",
          "text": [
            "Loaded 20 episodes from v1911\n",
            "Downloading artifact version: mahin-sank-iit-kgp/alpha-racer-data/alpha_racer_multi_mpc_combined:v1912\n"
          ]
        },
        {
          "name": "stderr",
          "output_type": "stream",
          "text": [
            "\u001b[34m\u001b[1mwandb\u001b[0m:   1 of 1 files downloaded.  \n"
          ]
        },
        {
          "name": "stdout",
          "output_type": "stream",
          "text": [
            "Loaded 20 episodes from v1912\n",
            "Downloading artifact version: mahin-sank-iit-kgp/alpha-racer-data/alpha_racer_multi_mpc_combined:v1913\n"
          ]
        },
        {
          "name": "stderr",
          "output_type": "stream",
          "text": [
            "\u001b[34m\u001b[1mwandb\u001b[0m:   1 of 1 files downloaded.  \n"
          ]
        },
        {
          "name": "stdout",
          "output_type": "stream",
          "text": [
            "Loaded 20 episodes from v1913\n",
            "Downloading artifact version: mahin-sank-iit-kgp/alpha-racer-data/alpha_racer_multi_mpc_combined:v1914\n"
          ]
        },
        {
          "name": "stderr",
          "output_type": "stream",
          "text": [
            "\u001b[34m\u001b[1mwandb\u001b[0m:   1 of 1 files downloaded.  \n"
          ]
        },
        {
          "name": "stdout",
          "output_type": "stream",
          "text": [
            "Loaded 20 episodes from v1914\n",
            "Downloading artifact version: mahin-sank-iit-kgp/alpha-racer-data/alpha_racer_multi_mpc_combined:v1915\n"
          ]
        },
        {
          "name": "stderr",
          "output_type": "stream",
          "text": [
            "\u001b[34m\u001b[1mwandb\u001b[0m:   1 of 1 files downloaded.  \n"
          ]
        },
        {
          "name": "stdout",
          "output_type": "stream",
          "text": [
            "Loaded 20 episodes from v1915\n",
            "Downloading artifact version: mahin-sank-iit-kgp/alpha-racer-data/alpha_racer_multi_mpc_combined:v1916\n"
          ]
        },
        {
          "name": "stderr",
          "output_type": "stream",
          "text": [
            "\u001b[34m\u001b[1mwandb\u001b[0m:   1 of 1 files downloaded.  \n"
          ]
        },
        {
          "name": "stdout",
          "output_type": "stream",
          "text": [
            "Loaded 20 episodes from v1916\n",
            "Downloading artifact version: mahin-sank-iit-kgp/alpha-racer-data/alpha_racer_multi_mpc_combined:v1917\n"
          ]
        },
        {
          "name": "stderr",
          "output_type": "stream",
          "text": [
            "\u001b[34m\u001b[1mwandb\u001b[0m:   1 of 1 files downloaded.  \n"
          ]
        },
        {
          "name": "stdout",
          "output_type": "stream",
          "text": [
            "Loaded 20 episodes from v1917\n",
            "Downloading artifact version: mahin-sank-iit-kgp/alpha-racer-data/alpha_racer_multi_mpc_combined:v1918\n"
          ]
        },
        {
          "name": "stderr",
          "output_type": "stream",
          "text": [
            "\u001b[34m\u001b[1mwandb\u001b[0m:   1 of 1 files downloaded.  \n"
          ]
        },
        {
          "name": "stdout",
          "output_type": "stream",
          "text": [
            "Loaded 15 episodes from v1918\n",
            "Downloading artifact version: mahin-sank-iit-kgp/alpha-racer-data/alpha_racer_multi_mpc_combined:v1919\n"
          ]
        },
        {
          "name": "stderr",
          "output_type": "stream",
          "text": [
            "\u001b[34m\u001b[1mwandb\u001b[0m:   1 of 1 files downloaded.  \n"
          ]
        },
        {
          "name": "stdout",
          "output_type": "stream",
          "text": [
            "Loaded 15 episodes from v1919\n",
            "Downloading artifact version: mahin-sank-iit-kgp/alpha-racer-data/alpha_racer_multi_mpc_combined:v1920\n"
          ]
        },
        {
          "name": "stderr",
          "output_type": "stream",
          "text": [
            "\u001b[34m\u001b[1mwandb\u001b[0m:   1 of 1 files downloaded.  \n"
          ]
        },
        {
          "name": "stdout",
          "output_type": "stream",
          "text": [
            "Loaded 21 episodes from v1920\n",
            "Downloading artifact version: mahin-sank-iit-kgp/alpha-racer-data/alpha_racer_multi_mpc_combined:v1921\n"
          ]
        },
        {
          "name": "stderr",
          "output_type": "stream",
          "text": [
            "\u001b[34m\u001b[1mwandb\u001b[0m:   1 of 1 files downloaded.  \n"
          ]
        },
        {
          "name": "stdout",
          "output_type": "stream",
          "text": [
            "Loaded 21 episodes from v1921\n",
            "Downloading artifact version: mahin-sank-iit-kgp/alpha-racer-data/alpha_racer_multi_mpc_combined:v1922\n"
          ]
        },
        {
          "name": "stderr",
          "output_type": "stream",
          "text": [
            "\u001b[34m\u001b[1mwandb\u001b[0m:   1 of 1 files downloaded.  \n"
          ]
        },
        {
          "name": "stdout",
          "output_type": "stream",
          "text": [
            "Loaded 21 episodes from v1922\n",
            "Downloading artifact version: mahin-sank-iit-kgp/alpha-racer-data/alpha_racer_multi_mpc_combined:v1923\n"
          ]
        },
        {
          "name": "stderr",
          "output_type": "stream",
          "text": [
            "\u001b[34m\u001b[1mwandb\u001b[0m:   1 of 1 files downloaded.  \n"
          ]
        },
        {
          "name": "stdout",
          "output_type": "stream",
          "text": [
            "Loaded 21 episodes from v1923\n",
            "Downloading artifact version: mahin-sank-iit-kgp/alpha-racer-data/alpha_racer_multi_mpc_combined:v1924\n"
          ]
        },
        {
          "name": "stderr",
          "output_type": "stream",
          "text": [
            "\u001b[34m\u001b[1mwandb\u001b[0m:   1 of 1 files downloaded.  \n"
          ]
        },
        {
          "name": "stdout",
          "output_type": "stream",
          "text": [
            "Loaded 15 episodes from v1924\n",
            "Downloading artifact version: mahin-sank-iit-kgp/alpha-racer-data/alpha_racer_multi_mpc_combined:v1925\n"
          ]
        },
        {
          "name": "stderr",
          "output_type": "stream",
          "text": [
            "\u001b[34m\u001b[1mwandb\u001b[0m:   1 of 1 files downloaded.  \n"
          ]
        },
        {
          "name": "stdout",
          "output_type": "stream",
          "text": [
            "Loaded 15 episodes from v1925\n",
            "Downloading artifact version: mahin-sank-iit-kgp/alpha-racer-data/alpha_racer_multi_mpc_combined:v1926\n"
          ]
        },
        {
          "name": "stderr",
          "output_type": "stream",
          "text": [
            "\u001b[34m\u001b[1mwandb\u001b[0m:   1 of 1 files downloaded.  \n"
          ]
        },
        {
          "name": "stdout",
          "output_type": "stream",
          "text": [
            "Loaded 21 episodes from v1926\n",
            "Downloading artifact version: mahin-sank-iit-kgp/alpha-racer-data/alpha_racer_multi_mpc_combined:v1927\n"
          ]
        },
        {
          "name": "stderr",
          "output_type": "stream",
          "text": [
            "\u001b[34m\u001b[1mwandb\u001b[0m:   1 of 1 files downloaded.  \n"
          ]
        },
        {
          "name": "stdout",
          "output_type": "stream",
          "text": [
            "Loaded 21 episodes from v1927\n",
            "Downloading artifact version: mahin-sank-iit-kgp/alpha-racer-data/alpha_racer_multi_mpc_combined:v1928\n"
          ]
        },
        {
          "name": "stderr",
          "output_type": "stream",
          "text": [
            "\u001b[34m\u001b[1mwandb\u001b[0m:   1 of 1 files downloaded.  \n"
          ]
        },
        {
          "name": "stdout",
          "output_type": "stream",
          "text": [
            "Loaded 3 episodes from v1928\n",
            "Downloading artifact version: mahin-sank-iit-kgp/alpha-racer-data/alpha_racer_multi_mpc_combined:v1929\n"
          ]
        },
        {
          "name": "stderr",
          "output_type": "stream",
          "text": [
            "\u001b[34m\u001b[1mwandb\u001b[0m:   1 of 1 files downloaded.  \n"
          ]
        },
        {
          "name": "stdout",
          "output_type": "stream",
          "text": [
            "Loaded 21 episodes from v1929\n",
            "Downloading artifact version: mahin-sank-iit-kgp/alpha-racer-data/alpha_racer_multi_mpc_combined:v1930\n"
          ]
        },
        {
          "name": "stderr",
          "output_type": "stream",
          "text": [
            "\u001b[34m\u001b[1mwandb\u001b[0m:   1 of 1 files downloaded.  \n"
          ]
        },
        {
          "name": "stdout",
          "output_type": "stream",
          "text": [
            "Loaded 15 episodes from v1930\n",
            "Downloading artifact version: mahin-sank-iit-kgp/alpha-racer-data/alpha_racer_multi_mpc_combined:v1931\n"
          ]
        },
        {
          "name": "stderr",
          "output_type": "stream",
          "text": [
            "\u001b[34m\u001b[1mwandb\u001b[0m:   1 of 1 files downloaded.  \n"
          ]
        },
        {
          "name": "stdout",
          "output_type": "stream",
          "text": [
            "Loaded 21 episodes from v1931\n",
            "Downloading artifact version: mahin-sank-iit-kgp/alpha-racer-data/alpha_racer_multi_mpc_combined:v1932\n"
          ]
        },
        {
          "name": "stderr",
          "output_type": "stream",
          "text": [
            "\u001b[34m\u001b[1mwandb\u001b[0m:   1 of 1 files downloaded.  \n"
          ]
        },
        {
          "name": "stdout",
          "output_type": "stream",
          "text": [
            "Loaded 21 episodes from v1932\n",
            "Downloading artifact version: mahin-sank-iit-kgp/alpha-racer-data/alpha_racer_multi_mpc_combined:v1933\n"
          ]
        },
        {
          "name": "stderr",
          "output_type": "stream",
          "text": [
            "\u001b[34m\u001b[1mwandb\u001b[0m:   1 of 1 files downloaded.  \n"
          ]
        },
        {
          "name": "stdout",
          "output_type": "stream",
          "text": [
            "Loaded 15 episodes from v1933\n",
            "Downloading artifact version: mahin-sank-iit-kgp/alpha-racer-data/alpha_racer_multi_mpc_combined:v1934\n"
          ]
        },
        {
          "name": "stderr",
          "output_type": "stream",
          "text": [
            "\u001b[34m\u001b[1mwandb\u001b[0m:   1 of 1 files downloaded.  \n"
          ]
        },
        {
          "name": "stdout",
          "output_type": "stream",
          "text": [
            "Loaded 21 episodes from v1934\n",
            "Downloading artifact version: mahin-sank-iit-kgp/alpha-racer-data/alpha_racer_multi_mpc_combined:v1935\n"
          ]
        },
        {
          "name": "stderr",
          "output_type": "stream",
          "text": [
            "\u001b[34m\u001b[1mwandb\u001b[0m:   1 of 1 files downloaded.  \n"
          ]
        },
        {
          "name": "stdout",
          "output_type": "stream",
          "text": [
            "Loaded 15 episodes from v1935\n",
            "Downloading artifact version: mahin-sank-iit-kgp/alpha-racer-data/alpha_racer_multi_mpc_combined:v1936\n"
          ]
        },
        {
          "name": "stderr",
          "output_type": "stream",
          "text": [
            "\u001b[34m\u001b[1mwandb\u001b[0m:   1 of 1 files downloaded.  \n"
          ]
        },
        {
          "name": "stdout",
          "output_type": "stream",
          "text": [
            "Loaded 3 episodes from v1936\n",
            "Downloading artifact version: mahin-sank-iit-kgp/alpha-racer-data/alpha_racer_multi_mpc_combined:v1937\n"
          ]
        },
        {
          "name": "stderr",
          "output_type": "stream",
          "text": [
            "\u001b[34m\u001b[1mwandb\u001b[0m:   1 of 1 files downloaded.  \n"
          ]
        },
        {
          "name": "stdout",
          "output_type": "stream",
          "text": [
            "Loaded 22 episodes from v1937\n",
            "Downloading artifact version: mahin-sank-iit-kgp/alpha-racer-data/alpha_racer_multi_mpc_combined:v1938\n"
          ]
        },
        {
          "name": "stderr",
          "output_type": "stream",
          "text": [
            "\u001b[34m\u001b[1mwandb\u001b[0m:   1 of 1 files downloaded.  \n"
          ]
        },
        {
          "name": "stdout",
          "output_type": "stream",
          "text": [
            "Loaded 22 episodes from v1938\n",
            "Downloading artifact version: mahin-sank-iit-kgp/alpha-racer-data/alpha_racer_multi_mpc_combined:v1939\n"
          ]
        },
        {
          "name": "stderr",
          "output_type": "stream",
          "text": [
            "\u001b[34m\u001b[1mwandb\u001b[0m:   1 of 1 files downloaded.  \n"
          ]
        },
        {
          "name": "stdout",
          "output_type": "stream",
          "text": [
            "Loaded 22 episodes from v1939\n",
            "Downloading artifact version: mahin-sank-iit-kgp/alpha-racer-data/alpha_racer_multi_mpc_combined:v1940\n"
          ]
        },
        {
          "name": "stderr",
          "output_type": "stream",
          "text": [
            "\u001b[34m\u001b[1mwandb\u001b[0m:   1 of 1 files downloaded.  \n"
          ]
        },
        {
          "name": "stdout",
          "output_type": "stream",
          "text": [
            "Loaded 22 episodes from v1940\n",
            "Downloading artifact version: mahin-sank-iit-kgp/alpha-racer-data/alpha_racer_multi_mpc_combined:v1941\n"
          ]
        },
        {
          "name": "stderr",
          "output_type": "stream",
          "text": [
            "\u001b[34m\u001b[1mwandb\u001b[0m:   1 of 1 files downloaded.  \n"
          ]
        },
        {
          "name": "stdout",
          "output_type": "stream",
          "text": [
            "Loaded 15 episodes from v1941\n",
            "Downloading artifact version: mahin-sank-iit-kgp/alpha-racer-data/alpha_racer_multi_mpc_combined:v1942\n"
          ]
        },
        {
          "name": "stderr",
          "output_type": "stream",
          "text": [
            "\u001b[34m\u001b[1mwandb\u001b[0m:   1 of 1 files downloaded.  \n"
          ]
        },
        {
          "name": "stdout",
          "output_type": "stream",
          "text": [
            "Loaded 15 episodes from v1942\n",
            "Downloading artifact version: mahin-sank-iit-kgp/alpha-racer-data/alpha_racer_multi_mpc_combined:v1943\n"
          ]
        },
        {
          "name": "stderr",
          "output_type": "stream",
          "text": [
            "\u001b[34m\u001b[1mwandb\u001b[0m:   1 of 1 files downloaded.  \n"
          ]
        },
        {
          "name": "stdout",
          "output_type": "stream",
          "text": [
            "Loaded 15 episodes from v1943\n",
            "Downloading artifact version: mahin-sank-iit-kgp/alpha-racer-data/alpha_racer_multi_mpc_combined:v1944\n"
          ]
        },
        {
          "name": "stderr",
          "output_type": "stream",
          "text": [
            "\u001b[34m\u001b[1mwandb\u001b[0m:   1 of 1 files downloaded.  \n"
          ]
        },
        {
          "name": "stdout",
          "output_type": "stream",
          "text": [
            "Loaded 22 episodes from v1944\n",
            "Downloading artifact version: mahin-sank-iit-kgp/alpha-racer-data/alpha_racer_multi_mpc_combined:v1945\n"
          ]
        },
        {
          "name": "stderr",
          "output_type": "stream",
          "text": [
            "\u001b[34m\u001b[1mwandb\u001b[0m:   1 of 1 files downloaded.  \n"
          ]
        },
        {
          "name": "stdout",
          "output_type": "stream",
          "text": [
            "Loaded 3 episodes from v1945\n",
            "Downloading artifact version: mahin-sank-iit-kgp/alpha-racer-data/alpha_racer_multi_mpc_combined:v1946\n"
          ]
        },
        {
          "name": "stderr",
          "output_type": "stream",
          "text": [
            "\u001b[34m\u001b[1mwandb\u001b[0m:   1 of 1 files downloaded.  \n"
          ]
        },
        {
          "name": "stdout",
          "output_type": "stream",
          "text": [
            "Loaded 22 episodes from v1946\n",
            "Downloading artifact version: mahin-sank-iit-kgp/alpha-racer-data/alpha_racer_multi_mpc_combined:v1947\n"
          ]
        },
        {
          "name": "stderr",
          "output_type": "stream",
          "text": [
            "\u001b[34m\u001b[1mwandb\u001b[0m:   1 of 1 files downloaded.  \n"
          ]
        },
        {
          "name": "stdout",
          "output_type": "stream",
          "text": [
            "Loaded 22 episodes from v1947\n",
            "Downloading artifact version: mahin-sank-iit-kgp/alpha-racer-data/alpha_racer_multi_mpc_combined:v1948\n"
          ]
        },
        {
          "name": "stderr",
          "output_type": "stream",
          "text": [
            "\u001b[34m\u001b[1mwandb\u001b[0m:   1 of 1 files downloaded.  \n"
          ]
        },
        {
          "name": "stdout",
          "output_type": "stream",
          "text": [
            "Loaded 22 episodes from v1948\n",
            "Downloading artifact version: mahin-sank-iit-kgp/alpha-racer-data/alpha_racer_multi_mpc_combined:v1949\n"
          ]
        },
        {
          "name": "stderr",
          "output_type": "stream",
          "text": [
            "\u001b[34m\u001b[1mwandb\u001b[0m:   1 of 1 files downloaded.  \n"
          ]
        },
        {
          "name": "stdout",
          "output_type": "stream",
          "text": [
            "Loaded 3 episodes from v1949\n",
            "Downloading artifact version: mahin-sank-iit-kgp/alpha-racer-data/alpha_racer_multi_mpc_combined:v1950\n"
          ]
        },
        {
          "name": "stderr",
          "output_type": "stream",
          "text": [
            "\u001b[34m\u001b[1mwandb\u001b[0m:   1 of 1 files downloaded.  \n"
          ]
        },
        {
          "name": "stdout",
          "output_type": "stream",
          "text": [
            "Loaded 22 episodes from v1950\n",
            "Downloading artifact version: mahin-sank-iit-kgp/alpha-racer-data/alpha_racer_multi_mpc_combined:v1951\n"
          ]
        },
        {
          "name": "stderr",
          "output_type": "stream",
          "text": [
            "\u001b[34m\u001b[1mwandb\u001b[0m:   1 of 1 files downloaded.  \n"
          ]
        },
        {
          "name": "stdout",
          "output_type": "stream",
          "text": [
            "Loaded 22 episodes from v1951\n",
            "Downloading artifact version: mahin-sank-iit-kgp/alpha-racer-data/alpha_racer_multi_mpc_combined:v1952\n"
          ]
        },
        {
          "name": "stderr",
          "output_type": "stream",
          "text": [
            "\u001b[34m\u001b[1mwandb\u001b[0m:   1 of 1 files downloaded.  \n"
          ]
        },
        {
          "name": "stdout",
          "output_type": "stream",
          "text": [
            "Loaded 16 episodes from v1952\n",
            "Downloading artifact version: mahin-sank-iit-kgp/alpha-racer-data/alpha_racer_multi_mpc_combined:v1953\n"
          ]
        },
        {
          "name": "stderr",
          "output_type": "stream",
          "text": [
            "\u001b[34m\u001b[1mwandb\u001b[0m:   1 of 1 files downloaded.  \n"
          ]
        },
        {
          "name": "stdout",
          "output_type": "stream",
          "text": [
            "Loaded 3 episodes from v1953\n",
            "Downloading artifact version: mahin-sank-iit-kgp/alpha-racer-data/alpha_racer_multi_mpc_combined:v1954\n"
          ]
        },
        {
          "name": "stderr",
          "output_type": "stream",
          "text": [
            "\u001b[34m\u001b[1mwandb\u001b[0m:   1 of 1 files downloaded.  \n"
          ]
        },
        {
          "name": "stdout",
          "output_type": "stream",
          "text": [
            "Loaded 3 episodes from v1954\n",
            "Downloading artifact version: mahin-sank-iit-kgp/alpha-racer-data/alpha_racer_multi_mpc_combined:v1955\n"
          ]
        },
        {
          "name": "stderr",
          "output_type": "stream",
          "text": [
            "\u001b[34m\u001b[1mwandb\u001b[0m:   1 of 1 files downloaded.  \n"
          ]
        },
        {
          "name": "stdout",
          "output_type": "stream",
          "text": [
            "Loaded 3 episodes from v1955\n",
            "Downloading artifact version: mahin-sank-iit-kgp/alpha-racer-data/alpha_racer_multi_mpc_combined:v1956\n"
          ]
        },
        {
          "name": "stderr",
          "output_type": "stream",
          "text": [
            "\u001b[34m\u001b[1mwandb\u001b[0m:   1 of 1 files downloaded.  \n"
          ]
        },
        {
          "name": "stdout",
          "output_type": "stream",
          "text": [
            "Loaded 16 episodes from v1956\n",
            "Downloading artifact version: mahin-sank-iit-kgp/alpha-racer-data/alpha_racer_multi_mpc_combined:v1957\n"
          ]
        },
        {
          "name": "stderr",
          "output_type": "stream",
          "text": [
            "\u001b[34m\u001b[1mwandb\u001b[0m:   1 of 1 files downloaded.  \n"
          ]
        },
        {
          "name": "stdout",
          "output_type": "stream",
          "text": [
            "Loaded 23 episodes from v1957\n",
            "Downloading artifact version: mahin-sank-iit-kgp/alpha-racer-data/alpha_racer_multi_mpc_combined:v1958\n"
          ]
        },
        {
          "name": "stderr",
          "output_type": "stream",
          "text": [
            "\u001b[34m\u001b[1mwandb\u001b[0m:   1 of 1 files downloaded.  \n"
          ]
        },
        {
          "name": "stdout",
          "output_type": "stream",
          "text": [
            "Loaded 23 episodes from v1958\n",
            "Downloading artifact version: mahin-sank-iit-kgp/alpha-racer-data/alpha_racer_multi_mpc_combined:v1959\n"
          ]
        },
        {
          "name": "stderr",
          "output_type": "stream",
          "text": [
            "\u001b[34m\u001b[1mwandb\u001b[0m:   1 of 1 files downloaded.  \n"
          ]
        },
        {
          "name": "stdout",
          "output_type": "stream",
          "text": [
            "Loaded 23 episodes from v1959\n",
            "Downloading artifact version: mahin-sank-iit-kgp/alpha-racer-data/alpha_racer_multi_mpc_combined:v1960\n"
          ]
        },
        {
          "name": "stderr",
          "output_type": "stream",
          "text": [
            "\u001b[34m\u001b[1mwandb\u001b[0m:   1 of 1 files downloaded.  \n"
          ]
        },
        {
          "name": "stdout",
          "output_type": "stream",
          "text": [
            "Loaded 3 episodes from v1960\n",
            "Downloading artifact version: mahin-sank-iit-kgp/alpha-racer-data/alpha_racer_multi_mpc_combined:v1961\n"
          ]
        },
        {
          "name": "stderr",
          "output_type": "stream",
          "text": [
            "\u001b[34m\u001b[1mwandb\u001b[0m:   1 of 1 files downloaded.  \n"
          ]
        },
        {
          "name": "stdout",
          "output_type": "stream",
          "text": [
            "Loaded 23 episodes from v1961\n",
            "Downloading artifact version: mahin-sank-iit-kgp/alpha-racer-data/alpha_racer_multi_mpc_combined:v1962\n"
          ]
        },
        {
          "name": "stderr",
          "output_type": "stream",
          "text": [
            "\u001b[34m\u001b[1mwandb\u001b[0m:   1 of 1 files downloaded.  \n"
          ]
        },
        {
          "name": "stdout",
          "output_type": "stream",
          "text": [
            "Loaded 3 episodes from v1962\n",
            "Downloading artifact version: mahin-sank-iit-kgp/alpha-racer-data/alpha_racer_multi_mpc_combined:v1963\n"
          ]
        },
        {
          "name": "stderr",
          "output_type": "stream",
          "text": [
            "\u001b[34m\u001b[1mwandb\u001b[0m:   1 of 1 files downloaded.  \n"
          ]
        },
        {
          "name": "stdout",
          "output_type": "stream",
          "text": [
            "Loaded 16 episodes from v1963\n",
            "Downloading artifact version: mahin-sank-iit-kgp/alpha-racer-data/alpha_racer_multi_mpc_combined:v1964\n"
          ]
        },
        {
          "name": "stderr",
          "output_type": "stream",
          "text": [
            "\u001b[34m\u001b[1mwandb\u001b[0m:   1 of 1 files downloaded.  \n"
          ]
        },
        {
          "name": "stdout",
          "output_type": "stream",
          "text": [
            "Loaded 23 episodes from v1964\n",
            "Downloading artifact version: mahin-sank-iit-kgp/alpha-racer-data/alpha_racer_multi_mpc_combined:v1965\n"
          ]
        },
        {
          "name": "stderr",
          "output_type": "stream",
          "text": [
            "\u001b[34m\u001b[1mwandb\u001b[0m:   1 of 1 files downloaded.  \n"
          ]
        },
        {
          "name": "stdout",
          "output_type": "stream",
          "text": [
            "Loaded 3 episodes from v1965\n",
            "Downloading artifact version: mahin-sank-iit-kgp/alpha-racer-data/alpha_racer_multi_mpc_combined:v1966\n"
          ]
        },
        {
          "name": "stderr",
          "output_type": "stream",
          "text": [
            "\u001b[34m\u001b[1mwandb\u001b[0m:   1 of 1 files downloaded.  \n"
          ]
        },
        {
          "name": "stdout",
          "output_type": "stream",
          "text": [
            "Loaded 16 episodes from v1966\n",
            "Downloading artifact version: mahin-sank-iit-kgp/alpha-racer-data/alpha_racer_multi_mpc_combined:v1967\n"
          ]
        },
        {
          "name": "stderr",
          "output_type": "stream",
          "text": [
            "\u001b[34m\u001b[1mwandb\u001b[0m:   1 of 1 files downloaded.  \n"
          ]
        },
        {
          "name": "stdout",
          "output_type": "stream",
          "text": [
            "Loaded 23 episodes from v1967\n",
            "Downloading artifact version: mahin-sank-iit-kgp/alpha-racer-data/alpha_racer_multi_mpc_combined:v1968\n"
          ]
        },
        {
          "name": "stderr",
          "output_type": "stream",
          "text": [
            "\u001b[34m\u001b[1mwandb\u001b[0m:   1 of 1 files downloaded.  \n"
          ]
        },
        {
          "name": "stdout",
          "output_type": "stream",
          "text": [
            "Loaded 23 episodes from v1968\n",
            "Downloading artifact version: mahin-sank-iit-kgp/alpha-racer-data/alpha_racer_multi_mpc_combined:v1969\n"
          ]
        },
        {
          "name": "stderr",
          "output_type": "stream",
          "text": [
            "\u001b[34m\u001b[1mwandb\u001b[0m:   1 of 1 files downloaded.  \n"
          ]
        },
        {
          "name": "stdout",
          "output_type": "stream",
          "text": [
            "Loaded 23 episodes from v1969\n",
            "Downloading artifact version: mahin-sank-iit-kgp/alpha-racer-data/alpha_racer_multi_mpc_combined:v1970\n"
          ]
        },
        {
          "name": "stderr",
          "output_type": "stream",
          "text": [
            "\u001b[34m\u001b[1mwandb\u001b[0m:   1 of 1 files downloaded.  \n"
          ]
        },
        {
          "name": "stdout",
          "output_type": "stream",
          "text": [
            "Loaded 16 episodes from v1970\n",
            "Downloading artifact version: mahin-sank-iit-kgp/alpha-racer-data/alpha_racer_multi_mpc_combined:v1971\n"
          ]
        },
        {
          "name": "stderr",
          "output_type": "stream",
          "text": [
            "\u001b[34m\u001b[1mwandb\u001b[0m:   1 of 1 files downloaded.  \n"
          ]
        },
        {
          "name": "stdout",
          "output_type": "stream",
          "text": [
            "Loaded 23 episodes from v1971\n",
            "Downloading artifact version: mahin-sank-iit-kgp/alpha-racer-data/alpha_racer_multi_mpc_combined:v1972\n"
          ]
        },
        {
          "name": "stderr",
          "output_type": "stream",
          "text": [
            "\u001b[34m\u001b[1mwandb\u001b[0m:   1 of 1 files downloaded.  \n"
          ]
        },
        {
          "name": "stdout",
          "output_type": "stream",
          "text": [
            "Loaded 23 episodes from v1972\n",
            "Downloading artifact version: mahin-sank-iit-kgp/alpha-racer-data/alpha_racer_multi_mpc_combined:v1973\n"
          ]
        },
        {
          "name": "stderr",
          "output_type": "stream",
          "text": [
            "\u001b[34m\u001b[1mwandb\u001b[0m:   1 of 1 files downloaded.  \n"
          ]
        },
        {
          "name": "stdout",
          "output_type": "stream",
          "text": [
            "Loaded 16 episodes from v1973\n",
            "Downloading artifact version: mahin-sank-iit-kgp/alpha-racer-data/alpha_racer_multi_mpc_combined:v1974\n"
          ]
        },
        {
          "name": "stderr",
          "output_type": "stream",
          "text": [
            "\u001b[34m\u001b[1mwandb\u001b[0m:   1 of 1 files downloaded.  \n"
          ]
        },
        {
          "name": "stdout",
          "output_type": "stream",
          "text": [
            "Loaded 24 episodes from v1974\n",
            "Downloading artifact version: mahin-sank-iit-kgp/alpha-racer-data/alpha_racer_multi_mpc_combined:v1975\n"
          ]
        },
        {
          "name": "stderr",
          "output_type": "stream",
          "text": [
            "\u001b[34m\u001b[1mwandb\u001b[0m:   1 of 1 files downloaded.  \n"
          ]
        },
        {
          "name": "stdout",
          "output_type": "stream",
          "text": [
            "Loaded 24 episodes from v1975\n",
            "Downloading artifact version: mahin-sank-iit-kgp/alpha-racer-data/alpha_racer_multi_mpc_combined:v1976\n"
          ]
        },
        {
          "name": "stderr",
          "output_type": "stream",
          "text": [
            "\u001b[34m\u001b[1mwandb\u001b[0m:   1 of 1 files downloaded.  \n"
          ]
        },
        {
          "name": "stdout",
          "output_type": "stream",
          "text": [
            "Loaded 16 episodes from v1976\n",
            "Downloading artifact version: mahin-sank-iit-kgp/alpha-racer-data/alpha_racer_multi_mpc_combined:v1977\n"
          ]
        },
        {
          "name": "stderr",
          "output_type": "stream",
          "text": [
            "\u001b[34m\u001b[1mwandb\u001b[0m:   1 of 1 files downloaded.  \n"
          ]
        },
        {
          "name": "stdout",
          "output_type": "stream",
          "text": [
            "Loaded 24 episodes from v1977\n",
            "Downloading artifact version: mahin-sank-iit-kgp/alpha-racer-data/alpha_racer_multi_mpc_combined:v1978\n"
          ]
        },
        {
          "name": "stderr",
          "output_type": "stream",
          "text": [
            "\u001b[34m\u001b[1mwandb\u001b[0m:   1 of 1 files downloaded.  \n"
          ]
        },
        {
          "name": "stdout",
          "output_type": "stream",
          "text": [
            "Loaded 24 episodes from v1978\n",
            "Downloading artifact version: mahin-sank-iit-kgp/alpha-racer-data/alpha_racer_multi_mpc_combined:v1979\n"
          ]
        },
        {
          "name": "stderr",
          "output_type": "stream",
          "text": [
            "\u001b[34m\u001b[1mwandb\u001b[0m:   1 of 1 files downloaded.  \n"
          ]
        },
        {
          "name": "stdout",
          "output_type": "stream",
          "text": [
            "Loaded 24 episodes from v1979\n",
            "Downloading artifact version: mahin-sank-iit-kgp/alpha-racer-data/alpha_racer_multi_mpc_combined:v1980\n"
          ]
        },
        {
          "name": "stderr",
          "output_type": "stream",
          "text": [
            "\u001b[34m\u001b[1mwandb\u001b[0m:   1 of 1 files downloaded.  \n"
          ]
        },
        {
          "name": "stdout",
          "output_type": "stream",
          "text": [
            "Loaded 16 episodes from v1980\n",
            "Downloading artifact version: mahin-sank-iit-kgp/alpha-racer-data/alpha_racer_multi_mpc_combined:v1981\n"
          ]
        },
        {
          "name": "stderr",
          "output_type": "stream",
          "text": [
            "\u001b[34m\u001b[1mwandb\u001b[0m:   1 of 1 files downloaded.  \n"
          ]
        },
        {
          "name": "stdout",
          "output_type": "stream",
          "text": [
            "Loaded 16 episodes from v1981\n",
            "Downloading artifact version: mahin-sank-iit-kgp/alpha-racer-data/alpha_racer_multi_mpc_combined:v1982\n"
          ]
        },
        {
          "name": "stderr",
          "output_type": "stream",
          "text": [
            "\u001b[34m\u001b[1mwandb\u001b[0m:   1 of 1 files downloaded.  \n"
          ]
        },
        {
          "name": "stdout",
          "output_type": "stream",
          "text": [
            "Loaded 16 episodes from v1982\n",
            "Downloading artifact version: mahin-sank-iit-kgp/alpha-racer-data/alpha_racer_multi_mpc_combined:v1983\n"
          ]
        },
        {
          "name": "stderr",
          "output_type": "stream",
          "text": [
            "\u001b[34m\u001b[1mwandb\u001b[0m:   1 of 1 files downloaded.  \n"
          ]
        },
        {
          "name": "stdout",
          "output_type": "stream",
          "text": [
            "Loaded 24 episodes from v1983\n",
            "Downloading artifact version: mahin-sank-iit-kgp/alpha-racer-data/alpha_racer_multi_mpc_combined:v1984\n"
          ]
        },
        {
          "name": "stderr",
          "output_type": "stream",
          "text": [
            "\u001b[34m\u001b[1mwandb\u001b[0m:   1 of 1 files downloaded.  \n"
          ]
        },
        {
          "name": "stdout",
          "output_type": "stream",
          "text": [
            "Loaded 24 episodes from v1984\n",
            "Downloading artifact version: mahin-sank-iit-kgp/alpha-racer-data/alpha_racer_multi_mpc_combined:v1985\n"
          ]
        },
        {
          "name": "stderr",
          "output_type": "stream",
          "text": [
            "\u001b[34m\u001b[1mwandb\u001b[0m:   1 of 1 files downloaded.  \n"
          ]
        },
        {
          "name": "stdout",
          "output_type": "stream",
          "text": [
            "Loaded 24 episodes from v1985\n",
            "Downloading artifact version: mahin-sank-iit-kgp/alpha-racer-data/alpha_racer_multi_mpc_combined:v1986\n"
          ]
        },
        {
          "name": "stderr",
          "output_type": "stream",
          "text": [
            "\u001b[34m\u001b[1mwandb\u001b[0m:   1 of 1 files downloaded.  \n"
          ]
        },
        {
          "name": "stdout",
          "output_type": "stream",
          "text": [
            "Loaded 24 episodes from v1986\n",
            "Downloading artifact version: mahin-sank-iit-kgp/alpha-racer-data/alpha_racer_multi_mpc_combined:v1987\n"
          ]
        },
        {
          "name": "stderr",
          "output_type": "stream",
          "text": [
            "\u001b[34m\u001b[1mwandb\u001b[0m:   1 of 1 files downloaded.  \n"
          ]
        },
        {
          "name": "stdout",
          "output_type": "stream",
          "text": [
            "Loaded 24 episodes from v1987\n",
            "Downloading artifact version: mahin-sank-iit-kgp/alpha-racer-data/alpha_racer_multi_mpc_combined:v1988\n"
          ]
        },
        {
          "name": "stderr",
          "output_type": "stream",
          "text": [
            "\u001b[34m\u001b[1mwandb\u001b[0m:   1 of 1 files downloaded.  \n"
          ]
        },
        {
          "name": "stdout",
          "output_type": "stream",
          "text": [
            "Loaded 17 episodes from v1988\n",
            "Downloading artifact version: mahin-sank-iit-kgp/alpha-racer-data/alpha_racer_multi_mpc_combined:v1989\n"
          ]
        },
        {
          "name": "stderr",
          "output_type": "stream",
          "text": [
            "\u001b[34m\u001b[1mwandb\u001b[0m:   1 of 1 files downloaded.  \n"
          ]
        },
        {
          "name": "stdout",
          "output_type": "stream",
          "text": [
            "Loaded 25 episodes from v1989\n",
            "Downloading artifact version: mahin-sank-iit-kgp/alpha-racer-data/alpha_racer_multi_mpc_combined:v1990\n"
          ]
        },
        {
          "name": "stderr",
          "output_type": "stream",
          "text": [
            "\u001b[34m\u001b[1mwandb\u001b[0m:   1 of 1 files downloaded.  \n"
          ]
        },
        {
          "name": "stdout",
          "output_type": "stream",
          "text": [
            "Loaded 25 episodes from v1990\n",
            "Downloading artifact version: mahin-sank-iit-kgp/alpha-racer-data/alpha_racer_multi_mpc_combined:v1991\n"
          ]
        },
        {
          "name": "stderr",
          "output_type": "stream",
          "text": [
            "\u001b[34m\u001b[1mwandb\u001b[0m:   1 of 1 files downloaded.  \n"
          ]
        },
        {
          "name": "stdout",
          "output_type": "stream",
          "text": [
            "Loaded 25 episodes from v1991\n",
            "Downloading artifact version: mahin-sank-iit-kgp/alpha-racer-data/alpha_racer_multi_mpc_combined:v1992\n"
          ]
        },
        {
          "name": "stderr",
          "output_type": "stream",
          "text": [
            "\u001b[34m\u001b[1mwandb\u001b[0m:   1 of 1 files downloaded.  \n"
          ]
        },
        {
          "name": "stdout",
          "output_type": "stream",
          "text": [
            "Loaded 17 episodes from v1992\n",
            "Downloading artifact version: mahin-sank-iit-kgp/alpha-racer-data/alpha_racer_multi_mpc_combined:v1993\n"
          ]
        },
        {
          "name": "stderr",
          "output_type": "stream",
          "text": [
            "\u001b[34m\u001b[1mwandb\u001b[0m:   1 of 1 files downloaded.  \n"
          ]
        },
        {
          "name": "stdout",
          "output_type": "stream",
          "text": [
            "Loaded 25 episodes from v1993\n",
            "Downloading artifact version: mahin-sank-iit-kgp/alpha-racer-data/alpha_racer_multi_mpc_combined:v1994\n"
          ]
        },
        {
          "name": "stderr",
          "output_type": "stream",
          "text": [
            "\u001b[34m\u001b[1mwandb\u001b[0m:   1 of 1 files downloaded.  \n"
          ]
        },
        {
          "name": "stdout",
          "output_type": "stream",
          "text": [
            "Loaded 25 episodes from v1994\n",
            "Downloading artifact version: mahin-sank-iit-kgp/alpha-racer-data/alpha_racer_multi_mpc_combined:v1995\n"
          ]
        },
        {
          "name": "stderr",
          "output_type": "stream",
          "text": [
            "\u001b[34m\u001b[1mwandb\u001b[0m:   1 of 1 files downloaded.  \n"
          ]
        },
        {
          "name": "stdout",
          "output_type": "stream",
          "text": [
            "Loaded 17 episodes from v1995\n",
            "Downloading artifact version: mahin-sank-iit-kgp/alpha-racer-data/alpha_racer_multi_mpc_combined:v1996\n"
          ]
        },
        {
          "name": "stderr",
          "output_type": "stream",
          "text": [
            "\u001b[34m\u001b[1mwandb\u001b[0m:   1 of 1 files downloaded.  \n"
          ]
        },
        {
          "name": "stdout",
          "output_type": "stream",
          "text": [
            "Loaded 17 episodes from v1996\n",
            "Downloading artifact version: mahin-sank-iit-kgp/alpha-racer-data/alpha_racer_multi_mpc_combined:v1997\n"
          ]
        },
        {
          "name": "stderr",
          "output_type": "stream",
          "text": [
            "\u001b[34m\u001b[1mwandb\u001b[0m:   1 of 1 files downloaded.  \n"
          ]
        },
        {
          "name": "stdout",
          "output_type": "stream",
          "text": [
            "Loaded 25 episodes from v1997\n",
            "Downloading artifact version: mahin-sank-iit-kgp/alpha-racer-data/alpha_racer_multi_mpc_combined:v1998\n"
          ]
        },
        {
          "name": "stderr",
          "output_type": "stream",
          "text": [
            "\u001b[34m\u001b[1mwandb\u001b[0m:   1 of 1 files downloaded.  \n"
          ]
        },
        {
          "name": "stdout",
          "output_type": "stream",
          "text": [
            "Loaded 25 episodes from v1998\n",
            "Downloading artifact version: mahin-sank-iit-kgp/alpha-racer-data/alpha_racer_multi_mpc_combined:v1999\n"
          ]
        },
        {
          "name": "stderr",
          "output_type": "stream",
          "text": [
            "\u001b[34m\u001b[1mwandb\u001b[0m:   1 of 1 files downloaded.  \n"
          ]
        },
        {
          "name": "stdout",
          "output_type": "stream",
          "text": [
            "Loaded 25 episodes from v1999\n",
            "Downloading artifact version: mahin-sank-iit-kgp/alpha-racer-data/alpha_racer_multi_mpc_combined:v2000\n"
          ]
        },
        {
          "name": "stderr",
          "output_type": "stream",
          "text": [
            "\u001b[34m\u001b[1mwandb\u001b[0m:   1 of 1 files downloaded.  \n"
          ]
        },
        {
          "name": "stdout",
          "output_type": "stream",
          "text": [
            "Loaded 25 episodes from v2000\n",
            "Downloading artifact version: mahin-sank-iit-kgp/alpha-racer-data/alpha_racer_multi_mpc_combined:v2001\n"
          ]
        },
        {
          "name": "stderr",
          "output_type": "stream",
          "text": [
            "\u001b[34m\u001b[1mwandb\u001b[0m:   1 of 1 files downloaded.  \n"
          ]
        },
        {
          "name": "stdout",
          "output_type": "stream",
          "text": [
            "Loaded 25 episodes from v2001\n",
            "Downloading artifact version: mahin-sank-iit-kgp/alpha-racer-data/alpha_racer_multi_mpc_combined:v2002\n"
          ]
        },
        {
          "name": "stderr",
          "output_type": "stream",
          "text": [
            "\u001b[34m\u001b[1mwandb\u001b[0m:   1 of 1 files downloaded.  \n"
          ]
        },
        {
          "name": "stdout",
          "output_type": "stream",
          "text": [
            "Loaded 17 episodes from v2002\n",
            "Downloading artifact version: mahin-sank-iit-kgp/alpha-racer-data/alpha_racer_multi_mpc_combined:v2003\n"
          ]
        },
        {
          "name": "stderr",
          "output_type": "stream",
          "text": [
            "\u001b[34m\u001b[1mwandb\u001b[0m:   1 of 1 files downloaded.  \n"
          ]
        },
        {
          "name": "stdout",
          "output_type": "stream",
          "text": [
            "Loaded 17 episodes from v2003\n",
            "Downloading artifact version: mahin-sank-iit-kgp/alpha-racer-data/alpha_racer_multi_mpc_combined:v2004\n"
          ]
        },
        {
          "name": "stderr",
          "output_type": "stream",
          "text": [
            "\u001b[34m\u001b[1mwandb\u001b[0m:   1 of 1 files downloaded.  \n"
          ]
        },
        {
          "name": "stdout",
          "output_type": "stream",
          "text": [
            "Loaded 26 episodes from v2004\n",
            "Downloading artifact version: mahin-sank-iit-kgp/alpha-racer-data/alpha_racer_multi_mpc_combined:v2005\n"
          ]
        },
        {
          "name": "stderr",
          "output_type": "stream",
          "text": [
            "\u001b[34m\u001b[1mwandb\u001b[0m:   1 of 1 files downloaded.  \n"
          ]
        },
        {
          "name": "stdout",
          "output_type": "stream",
          "text": [
            "Loaded 26 episodes from v2005\n",
            "Downloading artifact version: mahin-sank-iit-kgp/alpha-racer-data/alpha_racer_multi_mpc_combined:v2006\n"
          ]
        },
        {
          "name": "stderr",
          "output_type": "stream",
          "text": [
            "\u001b[34m\u001b[1mwandb\u001b[0m:   1 of 1 files downloaded.  \n"
          ]
        },
        {
          "name": "stdout",
          "output_type": "stream",
          "text": [
            "Loaded 4 episodes from v2006\n",
            "Downloading artifact version: mahin-sank-iit-kgp/alpha-racer-data/alpha_racer_multi_mpc_combined:v2007\n"
          ]
        },
        {
          "name": "stderr",
          "output_type": "stream",
          "text": [
            "\u001b[34m\u001b[1mwandb\u001b[0m:   1 of 1 files downloaded.  \n"
          ]
        },
        {
          "name": "stdout",
          "output_type": "stream",
          "text": [
            "Loaded 26 episodes from v2007\n",
            "Downloading artifact version: mahin-sank-iit-kgp/alpha-racer-data/alpha_racer_multi_mpc_combined:v2008\n"
          ]
        },
        {
          "name": "stderr",
          "output_type": "stream",
          "text": [
            "\u001b[34m\u001b[1mwandb\u001b[0m:   1 of 1 files downloaded.  \n"
          ]
        },
        {
          "name": "stdout",
          "output_type": "stream",
          "text": [
            "Loaded 26 episodes from v2008\n",
            "Downloading artifact version: mahin-sank-iit-kgp/alpha-racer-data/alpha_racer_multi_mpc_combined:v2009\n"
          ]
        },
        {
          "name": "stderr",
          "output_type": "stream",
          "text": [
            "\u001b[34m\u001b[1mwandb\u001b[0m:   1 of 1 files downloaded.  \n"
          ]
        },
        {
          "name": "stdout",
          "output_type": "stream",
          "text": [
            "Loaded 17 episodes from v2009\n",
            "Downloading artifact version: mahin-sank-iit-kgp/alpha-racer-data/alpha_racer_multi_mpc_combined:v2010\n"
          ]
        },
        {
          "name": "stderr",
          "output_type": "stream",
          "text": [
            "\u001b[34m\u001b[1mwandb\u001b[0m:   1 of 1 files downloaded.  \n"
          ]
        },
        {
          "name": "stdout",
          "output_type": "stream",
          "text": [
            "Loaded 26 episodes from v2010\n",
            "Downloading artifact version: mahin-sank-iit-kgp/alpha-racer-data/alpha_racer_multi_mpc_combined:v2011\n"
          ]
        },
        {
          "name": "stderr",
          "output_type": "stream",
          "text": [
            "\u001b[34m\u001b[1mwandb\u001b[0m:   1 of 1 files downloaded.  \n"
          ]
        },
        {
          "name": "stdout",
          "output_type": "stream",
          "text": [
            "Loaded 17 episodes from v2011\n",
            "Downloading artifact version: mahin-sank-iit-kgp/alpha-racer-data/alpha_racer_multi_mpc_combined:v2012\n"
          ]
        },
        {
          "name": "stderr",
          "output_type": "stream",
          "text": [
            "\u001b[34m\u001b[1mwandb\u001b[0m:   1 of 1 files downloaded.  \n"
          ]
        },
        {
          "name": "stdout",
          "output_type": "stream",
          "text": [
            "Loaded 17 episodes from v2012\n",
            "Downloading artifact version: mahin-sank-iit-kgp/alpha-racer-data/alpha_racer_multi_mpc_combined:v2013\n"
          ]
        },
        {
          "name": "stderr",
          "output_type": "stream",
          "text": [
            "\u001b[34m\u001b[1mwandb\u001b[0m:   1 of 1 files downloaded.  \n"
          ]
        },
        {
          "name": "stdout",
          "output_type": "stream",
          "text": [
            "Loaded 26 episodes from v2013\n",
            "Downloading artifact version: mahin-sank-iit-kgp/alpha-racer-data/alpha_racer_multi_mpc_combined:v2014\n"
          ]
        },
        {
          "name": "stderr",
          "output_type": "stream",
          "text": [
            "\u001b[34m\u001b[1mwandb\u001b[0m:   1 of 1 files downloaded.  \n"
          ]
        },
        {
          "name": "stdout",
          "output_type": "stream",
          "text": [
            "Loaded 26 episodes from v2014\n",
            "Downloading artifact version: mahin-sank-iit-kgp/alpha-racer-data/alpha_racer_multi_mpc_combined:v2015\n"
          ]
        },
        {
          "name": "stderr",
          "output_type": "stream",
          "text": [
            "\u001b[34m\u001b[1mwandb\u001b[0m:   1 of 1 files downloaded.  \n"
          ]
        },
        {
          "name": "stdout",
          "output_type": "stream",
          "text": [
            "Loaded 17 episodes from v2015\n",
            "Downloading artifact version: mahin-sank-iit-kgp/alpha-racer-data/alpha_racer_multi_mpc_combined:v2016\n"
          ]
        },
        {
          "name": "stderr",
          "output_type": "stream",
          "text": [
            "\u001b[34m\u001b[1mwandb\u001b[0m:   1 of 1 files downloaded.  \n"
          ]
        },
        {
          "name": "stdout",
          "output_type": "stream",
          "text": [
            "Loaded 26 episodes from v2016\n",
            "Downloading artifact version: mahin-sank-iit-kgp/alpha-racer-data/alpha_racer_multi_mpc_combined:v2017\n"
          ]
        },
        {
          "name": "stderr",
          "output_type": "stream",
          "text": [
            "\u001b[34m\u001b[1mwandb\u001b[0m:   1 of 1 files downloaded.  \n"
          ]
        },
        {
          "name": "stdout",
          "output_type": "stream",
          "text": [
            "Loaded 26 episodes from v2017\n",
            "Downloading artifact version: mahin-sank-iit-kgp/alpha-racer-data/alpha_racer_multi_mpc_combined:v2018\n"
          ]
        },
        {
          "name": "stderr",
          "output_type": "stream",
          "text": [
            "\u001b[34m\u001b[1mwandb\u001b[0m:   1 of 1 files downloaded.  \n"
          ]
        },
        {
          "name": "stdout",
          "output_type": "stream",
          "text": [
            "Loaded 26 episodes from v2018\n",
            "Downloading artifact version: mahin-sank-iit-kgp/alpha-racer-data/alpha_racer_multi_mpc_combined:v2019\n"
          ]
        },
        {
          "name": "stderr",
          "output_type": "stream",
          "text": [
            "\u001b[34m\u001b[1mwandb\u001b[0m:   1 of 1 files downloaded.  \n"
          ]
        },
        {
          "name": "stdout",
          "output_type": "stream",
          "text": [
            "Loaded 4 episodes from v2019\n",
            "Downloading artifact version: mahin-sank-iit-kgp/alpha-racer-data/alpha_racer_multi_mpc_combined:v2020\n"
          ]
        },
        {
          "name": "stderr",
          "output_type": "stream",
          "text": [
            "\u001b[34m\u001b[1mwandb\u001b[0m:   1 of 1 files downloaded.  \n"
          ]
        },
        {
          "name": "stdout",
          "output_type": "stream",
          "text": [
            "Loaded 4 episodes from v2020\n",
            "Downloading artifact version: mahin-sank-iit-kgp/alpha-racer-data/alpha_racer_multi_mpc_combined:v2021\n"
          ]
        },
        {
          "name": "stderr",
          "output_type": "stream",
          "text": [
            "\u001b[34m\u001b[1mwandb\u001b[0m:   1 of 1 files downloaded.  \n"
          ]
        },
        {
          "name": "stdout",
          "output_type": "stream",
          "text": [
            "Loaded 27 episodes from v2021\n",
            "Downloading artifact version: mahin-sank-iit-kgp/alpha-racer-data/alpha_racer_multi_mpc_combined:v2022\n"
          ]
        },
        {
          "name": "stderr",
          "output_type": "stream",
          "text": [
            "\u001b[34m\u001b[1mwandb\u001b[0m:   1 of 1 files downloaded.  \n"
          ]
        },
        {
          "name": "stdout",
          "output_type": "stream",
          "text": [
            "Loaded 18 episodes from v2022\n",
            "Downloading artifact version: mahin-sank-iit-kgp/alpha-racer-data/alpha_racer_multi_mpc_combined:v2023\n"
          ]
        },
        {
          "name": "stderr",
          "output_type": "stream",
          "text": [
            "\u001b[34m\u001b[1mwandb\u001b[0m:   1 of 1 files downloaded.  \n"
          ]
        },
        {
          "name": "stdout",
          "output_type": "stream",
          "text": [
            "Loaded 27 episodes from v2023\n",
            "Downloading artifact version: mahin-sank-iit-kgp/alpha-racer-data/alpha_racer_multi_mpc_combined:v2024\n"
          ]
        },
        {
          "name": "stderr",
          "output_type": "stream",
          "text": [
            "\u001b[34m\u001b[1mwandb\u001b[0m:   1 of 1 files downloaded.  \n"
          ]
        },
        {
          "name": "stdout",
          "output_type": "stream",
          "text": [
            "Loaded 27 episodes from v2024\n",
            "Downloading artifact version: mahin-sank-iit-kgp/alpha-racer-data/alpha_racer_multi_mpc_combined:v2025\n"
          ]
        },
        {
          "name": "stderr",
          "output_type": "stream",
          "text": [
            "\u001b[34m\u001b[1mwandb\u001b[0m:   1 of 1 files downloaded.  \n"
          ]
        },
        {
          "name": "stdout",
          "output_type": "stream",
          "text": [
            "Loaded 27 episodes from v2025\n",
            "Downloading artifact version: mahin-sank-iit-kgp/alpha-racer-data/alpha_racer_multi_mpc_combined:v2026\n"
          ]
        },
        {
          "name": "stderr",
          "output_type": "stream",
          "text": [
            "\u001b[34m\u001b[1mwandb\u001b[0m:   1 of 1 files downloaded.  \n"
          ]
        },
        {
          "name": "stdout",
          "output_type": "stream",
          "text": [
            "Loaded 18 episodes from v2026\n",
            "Downloading artifact version: mahin-sank-iit-kgp/alpha-racer-data/alpha_racer_multi_mpc_combined:v2027\n"
          ]
        },
        {
          "name": "stderr",
          "output_type": "stream",
          "text": [
            "\u001b[34m\u001b[1mwandb\u001b[0m:   1 of 1 files downloaded.  \n"
          ]
        },
        {
          "name": "stdout",
          "output_type": "stream",
          "text": [
            "Loaded 27 episodes from v2027\n",
            "Downloading artifact version: mahin-sank-iit-kgp/alpha-racer-data/alpha_racer_multi_mpc_combined:v2028\n"
          ]
        },
        {
          "name": "stderr",
          "output_type": "stream",
          "text": [
            "\u001b[34m\u001b[1mwandb\u001b[0m:   1 of 1 files downloaded.  \n"
          ]
        },
        {
          "name": "stdout",
          "output_type": "stream",
          "text": [
            "Loaded 4 episodes from v2028\n",
            "Downloading artifact version: mahin-sank-iit-kgp/alpha-racer-data/alpha_racer_multi_mpc_combined:v2029\n"
          ]
        },
        {
          "name": "stderr",
          "output_type": "stream",
          "text": [
            "\u001b[34m\u001b[1mwandb\u001b[0m:   1 of 1 files downloaded.  \n"
          ]
        },
        {
          "name": "stdout",
          "output_type": "stream",
          "text": [
            "Loaded 18 episodes from v2029\n",
            "Downloading artifact version: mahin-sank-iit-kgp/alpha-racer-data/alpha_racer_multi_mpc_combined:v2030\n"
          ]
        },
        {
          "name": "stderr",
          "output_type": "stream",
          "text": [
            "\u001b[34m\u001b[1mwandb\u001b[0m:   1 of 1 files downloaded.  \n"
          ]
        },
        {
          "name": "stdout",
          "output_type": "stream",
          "text": [
            "Loaded 4 episodes from v2030\n",
            "Downloading artifact version: mahin-sank-iit-kgp/alpha-racer-data/alpha_racer_multi_mpc_combined:v2031\n"
          ]
        },
        {
          "name": "stderr",
          "output_type": "stream",
          "text": [
            "\u001b[34m\u001b[1mwandb\u001b[0m:   1 of 1 files downloaded.  \n"
          ]
        },
        {
          "name": "stdout",
          "output_type": "stream",
          "text": [
            "Loaded 18 episodes from v2031\n",
            "Downloading artifact version: mahin-sank-iit-kgp/alpha-racer-data/alpha_racer_multi_mpc_combined:v2032\n"
          ]
        },
        {
          "name": "stderr",
          "output_type": "stream",
          "text": [
            "\u001b[34m\u001b[1mwandb\u001b[0m:   1 of 1 files downloaded.  \n"
          ]
        },
        {
          "name": "stdout",
          "output_type": "stream",
          "text": [
            "Loaded 27 episodes from v2032\n",
            "Downloading artifact version: mahin-sank-iit-kgp/alpha-racer-data/alpha_racer_multi_mpc_combined:v2033\n"
          ]
        },
        {
          "name": "stderr",
          "output_type": "stream",
          "text": [
            "\u001b[34m\u001b[1mwandb\u001b[0m:   1 of 1 files downloaded.  \n"
          ]
        },
        {
          "name": "stdout",
          "output_type": "stream",
          "text": [
            "Loaded 4 episodes from v2033\n",
            "Downloading artifact version: mahin-sank-iit-kgp/alpha-racer-data/alpha_racer_multi_mpc_combined:v2034\n"
          ]
        },
        {
          "name": "stderr",
          "output_type": "stream",
          "text": [
            "\u001b[34m\u001b[1mwandb\u001b[0m:   1 of 1 files downloaded.  \n"
          ]
        },
        {
          "name": "stdout",
          "output_type": "stream",
          "text": [
            "Loaded 27 episodes from v2034\n",
            "Downloading artifact version: mahin-sank-iit-kgp/alpha-racer-data/alpha_racer_multi_mpc_combined:v2035\n"
          ]
        },
        {
          "name": "stderr",
          "output_type": "stream",
          "text": [
            "\u001b[34m\u001b[1mwandb\u001b[0m:   1 of 1 files downloaded.  \n"
          ]
        },
        {
          "name": "stdout",
          "output_type": "stream",
          "text": [
            "Loaded 4 episodes from v2035\n",
            "Downloading artifact version: mahin-sank-iit-kgp/alpha-racer-data/alpha_racer_multi_mpc_combined:v2036\n"
          ]
        },
        {
          "name": "stderr",
          "output_type": "stream",
          "text": [
            "\u001b[34m\u001b[1mwandb\u001b[0m:   1 of 1 files downloaded.  \n"
          ]
        },
        {
          "name": "stdout",
          "output_type": "stream",
          "text": [
            "Loaded 27 episodes from v2036\n",
            "Downloading artifact version: mahin-sank-iit-kgp/alpha-racer-data/alpha_racer_multi_mpc_combined:v2037\n"
          ]
        },
        {
          "name": "stderr",
          "output_type": "stream",
          "text": [
            "\u001b[34m\u001b[1mwandb\u001b[0m:   1 of 1 files downloaded.  \n"
          ]
        },
        {
          "name": "stdout",
          "output_type": "stream",
          "text": [
            "Loaded 27 episodes from v2037\n",
            "Downloading artifact version: mahin-sank-iit-kgp/alpha-racer-data/alpha_racer_multi_mpc_combined:v2038\n"
          ]
        },
        {
          "name": "stderr",
          "output_type": "stream",
          "text": [
            "\u001b[34m\u001b[1mwandb\u001b[0m:   1 of 1 files downloaded.  \n"
          ]
        },
        {
          "name": "stdout",
          "output_type": "stream",
          "text": [
            "Loaded 27 episodes from v2038\n",
            "Downloading artifact version: mahin-sank-iit-kgp/alpha-racer-data/alpha_racer_multi_mpc_combined:v2039\n"
          ]
        },
        {
          "name": "stderr",
          "output_type": "stream",
          "text": [
            "\u001b[34m\u001b[1mwandb\u001b[0m:   1 of 1 files downloaded.  \n"
          ]
        },
        {
          "name": "stdout",
          "output_type": "stream",
          "text": [
            "Loaded 18 episodes from v2039\n",
            "Downloading artifact version: mahin-sank-iit-kgp/alpha-racer-data/alpha_racer_multi_mpc_combined:v2040\n"
          ]
        },
        {
          "name": "stderr",
          "output_type": "stream",
          "text": [
            "\u001b[34m\u001b[1mwandb\u001b[0m:   1 of 1 files downloaded.  \n"
          ]
        },
        {
          "name": "stdout",
          "output_type": "stream",
          "text": [
            "Loaded 4 episodes from v2040\n",
            "Downloading artifact version: mahin-sank-iit-kgp/alpha-racer-data/alpha_racer_multi_mpc_combined:v2041\n"
          ]
        },
        {
          "name": "stderr",
          "output_type": "stream",
          "text": [
            "\u001b[34m\u001b[1mwandb\u001b[0m:   1 of 1 files downloaded.  \n"
          ]
        },
        {
          "name": "stdout",
          "output_type": "stream",
          "text": [
            "Loaded 18 episodes from v2041\n",
            "Downloading artifact version: mahin-sank-iit-kgp/alpha-racer-data/alpha_racer_multi_mpc_combined:v2042\n"
          ]
        },
        {
          "name": "stderr",
          "output_type": "stream",
          "text": [
            "\u001b[34m\u001b[1mwandb\u001b[0m:   1 of 1 files downloaded.  \n"
          ]
        },
        {
          "name": "stdout",
          "output_type": "stream",
          "text": [
            "Loaded 28 episodes from v2042\n",
            "Downloading artifact version: mahin-sank-iit-kgp/alpha-racer-data/alpha_racer_multi_mpc_combined:v2043\n"
          ]
        },
        {
          "name": "stderr",
          "output_type": "stream",
          "text": [
            "\u001b[34m\u001b[1mwandb\u001b[0m:   1 of 1 files downloaded.  \n"
          ]
        },
        {
          "name": "stdout",
          "output_type": "stream",
          "text": [
            "Loaded 4 episodes from v2043\n",
            "Downloading artifact version: mahin-sank-iit-kgp/alpha-racer-data/alpha_racer_multi_mpc_combined:v2044\n"
          ]
        },
        {
          "name": "stderr",
          "output_type": "stream",
          "text": [
            "\u001b[34m\u001b[1mwandb\u001b[0m:   1 of 1 files downloaded.  \n"
          ]
        },
        {
          "name": "stdout",
          "output_type": "stream",
          "text": [
            "Loaded 28 episodes from v2044\n",
            "Downloading artifact version: mahin-sank-iit-kgp/alpha-racer-data/alpha_racer_multi_mpc_combined:v2045\n"
          ]
        },
        {
          "name": "stderr",
          "output_type": "stream",
          "text": [
            "\u001b[34m\u001b[1mwandb\u001b[0m:   1 of 1 files downloaded.  \n"
          ]
        },
        {
          "name": "stdout",
          "output_type": "stream",
          "text": [
            "Loaded 28 episodes from v2045\n",
            "Downloading artifact version: mahin-sank-iit-kgp/alpha-racer-data/alpha_racer_multi_mpc_combined:v2046\n"
          ]
        },
        {
          "name": "stderr",
          "output_type": "stream",
          "text": [
            "\u001b[34m\u001b[1mwandb\u001b[0m:   1 of 1 files downloaded.  \n"
          ]
        },
        {
          "name": "stdout",
          "output_type": "stream",
          "text": [
            "Loaded 28 episodes from v2046\n",
            "Downloading artifact version: mahin-sank-iit-kgp/alpha-racer-data/alpha_racer_multi_mpc_combined:v2047\n"
          ]
        },
        {
          "name": "stderr",
          "output_type": "stream",
          "text": [
            "\u001b[34m\u001b[1mwandb\u001b[0m:   1 of 1 files downloaded.  \n"
          ]
        },
        {
          "name": "stdout",
          "output_type": "stream",
          "text": [
            "Loaded 18 episodes from v2047\n",
            "Downloading artifact version: mahin-sank-iit-kgp/alpha-racer-data/alpha_racer_multi_mpc_combined:v2048\n"
          ]
        },
        {
          "name": "stderr",
          "output_type": "stream",
          "text": [
            "\u001b[34m\u001b[1mwandb\u001b[0m:   1 of 1 files downloaded.  \n"
          ]
        },
        {
          "name": "stdout",
          "output_type": "stream",
          "text": [
            "Loaded 18 episodes from v2048\n",
            "Downloading artifact version: mahin-sank-iit-kgp/alpha-racer-data/alpha_racer_multi_mpc_combined:v2049\n"
          ]
        },
        {
          "name": "stderr",
          "output_type": "stream",
          "text": [
            "\u001b[34m\u001b[1mwandb\u001b[0m:   1 of 1 files downloaded.  \n"
          ]
        },
        {
          "name": "stdout",
          "output_type": "stream",
          "text": [
            "Loaded 28 episodes from v2049\n",
            "Downloading artifact version: mahin-sank-iit-kgp/alpha-racer-data/alpha_racer_multi_mpc_combined:v2050\n"
          ]
        },
        {
          "name": "stderr",
          "output_type": "stream",
          "text": [
            "\u001b[34m\u001b[1mwandb\u001b[0m:   1 of 1 files downloaded.  \n"
          ]
        },
        {
          "name": "stdout",
          "output_type": "stream",
          "text": [
            "Loaded 4 episodes from v2050\n",
            "Saved combined dataset with 24867 total episodes to combined_full_dataset.pkl\n"
          ]
        },
        {
          "data": {
            "text/html": [],
            "text/plain": [
              "<IPython.core.display.HTML object>"
            ]
          },
          "metadata": {},
          "output_type": "display_data"
        },
        {
          "data": {
            "text/html": [
              " View run <strong style=\"color:#cdcd00\">crimson-dragon-287</strong> at: <a href='https://wandb.ai/mahin-sank-iit-kgp/alpha-racer-data/runs/2tjofxmx' target=\"_blank\">https://wandb.ai/mahin-sank-iit-kgp/alpha-racer-data/runs/2tjofxmx</a><br> View project at: <a href='https://wandb.ai/mahin-sank-iit-kgp/alpha-racer-data' target=\"_blank\">https://wandb.ai/mahin-sank-iit-kgp/alpha-racer-data</a><br>Synced 5 W&B file(s), 0 media file(s), 0 artifact file(s) and 0 other file(s)"
            ],
            "text/plain": [
              "<IPython.core.display.HTML object>"
            ]
          },
          "metadata": {},
          "output_type": "display_data"
        },
        {
          "data": {
            "text/html": [
              "Find logs at: <code>./wandb/run-20250831_110220-2tjofxmx/logs</code>"
            ],
            "text/plain": [
              "<IPython.core.display.HTML object>"
            ]
          },
          "metadata": {},
          "output_type": "display_data"
        }
      ],
      "source": [
        "# run in colab\n",
        "\n",
        "import wandb\n",
        "import os\n",
        "import pickle\n",
        "\n",
        "def merge_artifact_versions(project, entity, artifact_name, version_start, version_end, output_path):\n",
        "    combined_data = []\n",
        "    run = wandb.init(project=project, entity=entity, job_type=\"dataset_merge\")\n",
        "\n",
        "    for v_num in range(version_start, version_end + 1):\n",
        "        version_tag = f\"v{v_num}\"\n",
        "        try:\n",
        "            artifact_ref = f\"{entity}/{project}/{artifact_name}:{version_tag}\"\n",
        "            print(f\"Downloading artifact version: {artifact_ref}\")\n",
        "            artifact = run.use_artifact(artifact_ref, type='dataset')\n",
        "            artifact_dir = artifact.download()\n",
        "            pkl_path = os.path.join(artifact_dir, 'combined_data.pkl')\n",
        "            with open(pkl_path, 'rb') as f:\n",
        "                data = pickle.load(f)\n",
        "                combined_data.extend(data)  # Append episodes from this version\n",
        "            print(f\"Loaded {len(data)} episodes from {version_tag}\")\n",
        "        except Exception as e:\n",
        "            print(f\"Warning: Could not load version {version_tag}: {e}\")\n",
        "            # Continue even if some versions are missing or fail\n",
        "\n",
        "    # Save merged combined data locally\n",
        "    with open(output_path, 'wb') as f_out:\n",
        "        pickle.dump(combined_data, f_out)\n",
        "    print(f\"Saved combined dataset with {len(combined_data)} total episodes to {output_path}\")\n",
        "\n",
        "    run.finish()\n",
        "\n",
        "# Usage example:\n",
        "if __name__ == \"__main__\":\n",
        "    merge_artifact_versions(\n",
        "        project='alpha-racer-data',\n",
        "        entity='mahin-sank-iit-kgp',\n",
        "        artifact_name='alpha_racer_multi_mpc_combined',\n",
        "        version_start=1,\n",
        "        version_end=2050,  # or your desired end version\n",
        "        output_path='combined_full_dataset.pkl'\n",
        "    )\n"
      ]
    }
  ],
  "metadata": {
    "colab": {
      "provenance": []
    },
    "kernelspec": {
      "display_name": "Python 3",
      "name": "python3"
    },
    "language_info": {
      "name": "python"
    }
  },
  "nbformat": 4,
  "nbformat_minor": 0
}
