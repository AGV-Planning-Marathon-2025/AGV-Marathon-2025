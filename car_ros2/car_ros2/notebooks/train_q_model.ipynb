{
 "cells": [
  {
   "cell_type": "code",
   "execution_count": 22,
   "id": "12b69e98",
   "metadata": {},
   "outputs": [],
   "source": [
    "import pickle\n",
    "import numpy as np\n",
    "import dnn_model\n",
    "import torch"
   ]
  },
  {
   "cell_type": "code",
   "execution_count": 26,
   "id": "46736ecc",
   "metadata": {},
   "outputs": [],
   "source": [
    "DATA_FILE = '../data/data_large_multi_mpc(1).pkl'\n",
    "MODEL_DIMENSIONS = [39, 128, 128, 64, 1]\n",
    "OPPONENTS = {\n",
    "    0: [2, 1],\n",
    "    1: [2, 0],\n",
    "    2: [0, 1]\n",
    "}\n",
    "HIDDEN_WINDOW = 250\n",
    "DISCOUNT_FACTOR = 0.99\n",
    "\n",
    "data = pickle.load(open(DATA_FILE, 'rb'))"
   ]
  },
  {
   "cell_type": "code",
   "execution_count": 21,
   "id": "634c7a68",
   "metadata": {},
   "outputs": [
    {
     "data": {
      "text/plain": [
       "(45, 500, 39)"
      ]
     },
     "execution_count": 21,
     "metadata": {},
     "output_type": "execute_result"
    }
   ],
   "source": [
    "# data = np.array(data[:-1])  # Incomplete last episode\n",
    "data.shape"
   ]
  },
  {
   "cell_type": "code",
   "execution_count": 24,
   "id": "3b20ea8c",
   "metadata": {},
   "outputs": [],
   "source": [
    "def fix_difference(t):\n",
    "    t = (t > 75.0435) * (t - 150.087) + (t < -75.0435) * (t + 150.087) + (t <= 75.0435) * (t >= -75.0435) * t\n",
    "    return t"
   ]
  },
  {
   "cell_type": "code",
   "execution_count": 28,
   "id": "187cd362",
   "metadata": {},
   "outputs": [
    {
     "name": "stderr",
     "output_type": "stream",
     "text": [
      "/tmp/ipykernel_195236/652533515.py:22: UserWarning: To copy construct from a tensor, it is recommended to use sourceTensor.detach().clone() or sourceTensor.detach().clone().requires_grad_(True), rather than torch.tensor(sourceTensor).\n",
      "  masks[j, :, :] = torch.tensor((Y[j, :, :HIDDEN_WINDOW] < 600.) * (Y[j, :, :HIDDEN_WINDOW] >= -100.))\n"
     ]
    }
   ],
   "source": [
    "X = data[:,:,:].copy()\n",
    "X[:,:,0] = data[:,:,2] - data[:,:,1]\n",
    "X[:,:,1] -= data[:,:,0]\n",
    "X[:,:,2] -= data[:,:,0]\n",
    "for i in range(3):\n",
    "    X[:,:,i] = fix_difference(X[:,:,i])\n",
    "\n",
    "X = torch.tensor(X, dtype=torch.float32)\n",
    "\n",
    "Y = torch.zeros((3, X.shape[0], X.shape[1]-1))\n",
    "for i in range(3):\n",
    "    Y[i, :, :] = torch.maximum(X[:, 1:, OPPONENTS[i][0]], X[:, 1:, OPPONENTS[i][1]]) - torch.maximum(X[:, :-1, OPPONENTS[i][0]], X[:, :-1, OPPONENTS[i][1]])\n",
    "    Y[i, :, :] = fix_difference(Y[i, :, :])\n",
    "\n",
    "rewards = torch.zeros(3, X.shape[0], HIDDEN_WINDOW)\n",
    "masks = torch.zeros(3, X.shape[0], HIDDEN_WINDOW)\n",
    "\n",
    "for j in range(3):\n",
    "    for i in range(0, HIDDEN_WINDOW):\n",
    "        rewards[j, :, :] += (DISCOUNT_FACTOR**i) * Y[j, :, i:i+X.shape[1]-HIDDEN_WINDOW] \n",
    "\n",
    "    masks[j, :, :] = torch.tensor((Y[j, :, :HIDDEN_WINDOW] < 600.) * (Y[j, :, :HIDDEN_WINDOW] >= -100.))"
   ]
  }
 ],
 "metadata": {
  "kernelspec": {
   "display_name": "Python 3",
   "language": "python",
   "name": "python3"
  },
  "language_info": {
   "codemirror_mode": {
    "name": "ipython",
    "version": 3
   },
   "file_extension": ".py",
   "mimetype": "text/x-python",
   "name": "python",
   "nbconvert_exporter": "python",
   "pygments_lexer": "ipython3",
   "version": "3.12.3"
  }
 },
 "nbformat": 4,
 "nbformat_minor": 5
}
