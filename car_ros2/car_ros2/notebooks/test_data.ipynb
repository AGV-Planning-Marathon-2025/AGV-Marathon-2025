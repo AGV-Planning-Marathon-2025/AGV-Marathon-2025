{
 "cells": [
  {
   "cell_type": "code",
   "execution_count": 14,
   "id": "418febd0",
   "metadata": {},
   "outputs": [],
   "source": [
    "import torch\n",
    "import pickle\n",
    "import numpy as np"
   ]
  },
  {
   "cell_type": "code",
   "execution_count": null,
   "id": "5165019f",
   "metadata": {},
   "outputs": [
    {
     "data": {
      "text/plain": [
       "(500, 39)"
      ]
     },
     "execution_count": 20,
     "metadata": {},
     "output_type": "execute_result"
    }
   ],
   "source": [
    "with open('../data/data_large_multi_mpc.pkl', 'rb') as f:\n",
    "    data = pickle.load(f)\n",
    "\n",
    "data = np.array(data)\n",
    "data[579].shape"
   ]
  }
 ],
 "metadata": {
  "kernelspec": {
   "display_name": "Python 3",
   "language": "python",
   "name": "python3"
  },
  "language_info": {
   "codemirror_mode": {
    "name": "ipython",
    "version": 3
   },
   "file_extension": ".py",
   "mimetype": "text/x-python",
   "name": "python",
   "nbconvert_exporter": "python",
   "pygments_lexer": "ipython3",
   "version": "3.12.3"
  }
 },
 "nbformat": 4,
 "nbformat_minor": 5
}
